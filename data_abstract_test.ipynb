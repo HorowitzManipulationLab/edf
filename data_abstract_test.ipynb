{
 "cells": [
  {
   "cell_type": "code",
   "execution_count": 1,
   "metadata": {},
   "outputs": [],
   "source": [
    "from typing import Union, Optional, List, Tuple, Dict, Any, Iterable, TypeVar, Type, NamedTuple, Sequence, Generic, _GenericAlias\n",
    "\n",
    "from beartype import beartype\n",
    "from edf_interface.data.base import DataAbstractBase\n",
    "\n",
    "import torch"
   ]
  },
  {
   "cell_type": "code",
   "execution_count": 2,
   "metadata": {},
   "outputs": [],
   "source": [
    "@beartype\n",
    "class SmallData(DataAbstractBase):\n",
    "    def __init__(self, x: torch.Tensor, name: str):\n",
    "        super().__init__()\n",
    "        self.x: torch.Tensor = x\n",
    "        self.name: str = name\n",
    "\n",
    "    @property\n",
    "    def data_args_hint(self) -> Dict[str, type]:\n",
    "        hint = {\n",
    "            'x': torch.Tensor,\n",
    "        }\n",
    "        return hint\n",
    "\n",
    "    @property\n",
    "    def metadata_args_hint(self) -> Dict[str, type]:\n",
    "        hint = {\n",
    "            'name': str\n",
    "        }\n",
    "        return hint\n",
    "\n",
    "@beartype\n",
    "class TestData(DataAbstractBase):\n",
    "    def __init__(self, x: torch.Tensor, y: int, z: Dict, k: SmallData, a: List, b: int):\n",
    "        super().__init__()\n",
    "        self.x: torch.Tensor = x\n",
    "        self.y: int = y\n",
    "        self.z: Dict = z\n",
    "        self.a: List = a\n",
    "        self.b: int = b\n",
    "        self.k: SmallData = k\n",
    "\n",
    "    @property\n",
    "    def data_args_hint(self) -> Dict[str, type]:\n",
    "        hint = {\n",
    "            'x': torch.Tensor,\n",
    "            'y': int,\n",
    "            'z': dict,\n",
    "            'k': SmallData\n",
    "        }\n",
    "        return hint\n",
    "\n",
    "    @property\n",
    "    def metadata_args_hint(self) -> Dict[str, type]:\n",
    "        hint = {\n",
    "            'a': list,\n",
    "            'b': int,\n",
    "        }\n",
    "        return hint"
   ]
  },
  {
   "cell_type": "code",
   "execution_count": 3,
   "metadata": {},
   "outputs": [],
   "source": [
    "data = TestData(x=torch.randn(5,3), y=3, z={'a': 5}, k=SmallData(x=torch.randn(3,4), name='small'), a=[1., 2.], b=3)"
   ]
  },
  {
   "cell_type": "code",
   "execution_count": 4,
   "metadata": {},
   "outputs": [],
   "source": [
    "data = data.to('cuda')"
   ]
  },
  {
   "cell_type": "code",
   "execution_count": 5,
   "metadata": {},
   "outputs": [
    {
     "data": {
      "text/plain": [
       "<TestData>\n",
       "  Metadata: \n",
       "    - a: [1.0, 2.0]\n",
       "    - b: 3\n",
       "  Data: \n",
       "    - x: <Tensor> (Shape: torch.Size([5, 3]))\n",
       "          tensor([[ 0.7419,  1.1894,  2.1646],\n",
       "                  [-0.0760, -0.4688, -0.0328],\n",
       "                  [ 0.7164,  1.4404,  0.6246],\n",
       "                  [ 2.1232,  2.0259, -0.6372],\n",
       "                  [ 0.2361, -1.6544,  0.1931]], device='cuda:0')\n",
       "    - y: <int>\n",
       "          3\n",
       "    - z: <dict>\n",
       "          {'a': 5}\n",
       "    - k: <SmallData>\n",
       "          - name: 'small'\n",
       "          - x: <Tensor> (Shape: torch.Size([3, 4]))\n",
       "            \n",
       "          "
      ]
     },
     "execution_count": 5,
     "metadata": {},
     "output_type": "execute_result"
    }
   ],
   "source": [
    "data"
   ]
  }
 ],
 "metadata": {
  "kernelspec": {
   "display_name": "diff_edf",
   "language": "python",
   "name": "python3"
  },
  "language_info": {
   "codemirror_mode": {
    "name": "ipython",
    "version": 3
   },
   "file_extension": ".py",
   "mimetype": "text/x-python",
   "name": "python",
   "nbconvert_exporter": "python",
   "pygments_lexer": "ipython3",
   "version": "3.8.16"
  },
  "orig_nbformat": 4,
  "vscode": {
   "interpreter": {
    "hash": "79a0085b6cf04e1cff261ad12d41cff4e1530d9e68d1f8fc6bd159a2915452c6"
   }
  }
 },
 "nbformat": 4,
 "nbformat_minor": 2
}
