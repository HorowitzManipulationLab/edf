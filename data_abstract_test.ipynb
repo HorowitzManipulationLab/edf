{
 "cells": [
  {
   "cell_type": "code",
   "execution_count": 1,
   "metadata": {},
   "outputs": [],
   "source": [
    "from typing import Union, Optional, List, Tuple, Dict, Any, Iterable, TypeVar, Type, NamedTuple, Sequence, Generic, _GenericAlias\n",
    "\n",
    "from beartype import beartype\n",
    "from edf_interface.data.base import DataAbstractBase\n",
    "\n",
    "import torch"
   ]
  },
  {
   "cell_type": "code",
   "execution_count": 2,
   "metadata": {},
   "outputs": [],
   "source": [
    "@beartype\n",
    "class SmallData(DataAbstractBase):\n",
    "    data_args_hint: Dict[str, type] = {\n",
    "        'x': torch.Tensor,\n",
    "    }\n",
    "\n",
    "    metadata_args_hint: Dict[str, type] = {\n",
    "        'name': str,\n",
    "    }\n",
    "\n",
    "    @property\n",
    "    def device(self) -> torch.device:\n",
    "        return self.x.device\n",
    "\n",
    "    def __init__(self, x: torch.Tensor, name: str):\n",
    "        super().__init__()\n",
    "        self.x: torch.Tensor = x\n",
    "        self.name: str = name\n",
    "\n",
    "@beartype\n",
    "class TestData(DataAbstractBase):\n",
    "    data_args_hint: Dict[str, type] = {\n",
    "        'x': torch.Tensor,\n",
    "        'y': int,\n",
    "        'z': dict,\n",
    "        'k': SmallData\n",
    "    }\n",
    "\n",
    "    metadata_args_hint: Dict[str, type] = {\n",
    "        'a': list,\n",
    "        'b': int,\n",
    "    }\n",
    "\n",
    "    @property\n",
    "    def device(self) -> torch.device:\n",
    "        return self.x.device\n",
    "\n",
    "    def __init__(self, x: torch.Tensor, y: int, z: Dict, k: SmallData, a: List, b: int):\n",
    "        super().__init__()\n",
    "        self.x: torch.Tensor = x\n",
    "        self.y: int = y\n",
    "        self.z: Dict = z\n",
    "        self.a: List = a\n",
    "        self.b: int = b\n",
    "        self.k: SmallData = k"
   ]
  },
  {
   "cell_type": "code",
   "execution_count": 3,
   "metadata": {},
   "outputs": [],
   "source": [
    "data = TestData(x=torch.randn(5,3), y=3, z={'a': 5}, k=SmallData(x=torch.randn(3,4), name='small'), a=[1., 2.], b=3)"
   ]
  },
  {
   "cell_type": "code",
   "execution_count": 4,
   "metadata": {},
   "outputs": [],
   "source": [
    "data = data.to('cuda')"
   ]
  },
  {
   "cell_type": "code",
   "execution_count": 5,
   "metadata": {},
   "outputs": [
    {
     "data": {
      "text/plain": [
       "<TestData>  (device: cuda:0)\n",
       "  Metadata: \n",
       "    - a: [1.0, 2.0]\n",
       "    - b: 3\n",
       "  Data: \n",
       "    - x: <Tensor> (Shape: torch.Size([5, 3]))\n",
       "          tensor([[-2.0896e-01,  2.0279e+00,  1.9534e+00],\n",
       "                  [-2.0516e-01, -1.6438e+00,  1.4453e+00],\n",
       "                  [ 5.6487e-01,  1.5794e-03, -1.3912e+00],\n",
       "                  [ 3.6207e-01,  3.1641e-01,  4.6279e-01],\n",
       "                  [ 1.1365e+00, -1.5696e+00,  4.5848e-01]], device='cuda:0')\n",
       "    - y: <int>\n",
       "          3\n",
       "    - z: <dict>\n",
       "          {'a': 5}\n",
       "    - k: <SmallData>\n",
       "          - name: 'small'\n",
       "          - x: <Tensor> (Shape: torch.Size([3, 4]))\n",
       "            \n",
       "          "
      ]
     },
     "execution_count": 5,
     "metadata": {},
     "output_type": "execute_result"
    }
   ],
   "source": [
    "data"
   ]
  },
  {
   "cell_type": "code",
   "execution_count": 6,
   "metadata": {},
   "outputs": [],
   "source": [
    "state_dict = data.get_data_dict(device='cpu')"
   ]
  },
  {
   "cell_type": "code",
   "execution_count": 7,
   "metadata": {},
   "outputs": [
    {
     "data": {
      "text/plain": [
       "{'x': tensor([[-2.0896e-01,  2.0279e+00,  1.9534e+00],\n",
       "         [-2.0516e-01, -1.6438e+00,  1.4453e+00],\n",
       "         [ 5.6487e-01,  1.5794e-03, -1.3912e+00],\n",
       "         [ 3.6207e-01,  3.1641e-01,  4.6279e-01],\n",
       "         [ 1.1365e+00, -1.5696e+00,  4.5848e-01]]),\n",
       " 'y': 3,\n",
       " 'z': {'a': 5},\n",
       " 'k': {'x': tensor([[ 1.3250,  1.2905,  1.6491, -0.5659],\n",
       "          [-1.9802, -0.5141,  0.7187,  0.2536],\n",
       "          [ 1.0510, -0.5383,  0.8729,  0.5419]]),\n",
       "  'metadata': {'name': 'small'}},\n",
       " 'metadata': {'a': [1.0, 2.0], 'b': 3}}"
      ]
     },
     "execution_count": 7,
     "metadata": {},
     "output_type": "execute_result"
    }
   ],
   "source": [
    "state_dict"
   ]
  },
  {
   "cell_type": "code",
   "execution_count": null,
   "metadata": {},
   "outputs": [],
   "source": []
  }
 ],
 "metadata": {
  "kernelspec": {
   "display_name": "diff_edf",
   "language": "python",
   "name": "python3"
  },
  "language_info": {
   "codemirror_mode": {
    "name": "ipython",
    "version": 3
   },
   "file_extension": ".py",
   "mimetype": "text/x-python",
   "name": "python",
   "nbconvert_exporter": "python",
   "pygments_lexer": "ipython3",
   "version": "3.8.16"
  },
  "orig_nbformat": 4,
  "vscode": {
   "interpreter": {
    "hash": "79a0085b6cf04e1cff261ad12d41cff4e1530d9e68d1f8fc6bd159a2915452c6"
   }
  }
 },
 "nbformat": 4,
 "nbformat_minor": 2
}
