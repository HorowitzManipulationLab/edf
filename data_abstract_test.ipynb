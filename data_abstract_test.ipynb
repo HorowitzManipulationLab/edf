{
 "cells": [
  {
   "cell_type": "code",
   "execution_count": 1,
   "metadata": {},
   "outputs": [],
   "source": [
    "from typing import Union, Optional, List, Tuple, Dict, Any, Iterable, TypeVar, Type, NamedTuple, Sequence, Generic, _GenericAlias\n",
    "\n",
    "from beartype import beartype\n",
    "from edf_interface.data.base import DataAbstractBase\n",
    "\n",
    "import torch"
   ]
  },
  {
   "cell_type": "code",
   "execution_count": 2,
   "metadata": {},
   "outputs": [],
   "source": [
    "@beartype\n",
    "class SmallData(DataAbstractBase):\n",
    "    def __init__(self, x: torch.Tensor, name: str):\n",
    "        super().__init__()\n",
    "        self.x: torch.Tensor = x\n",
    "        self.name: str = name\n",
    "\n",
    "    @property\n",
    "    def data_args_hint(self) -> Dict[str, type]:\n",
    "        hint = {\n",
    "            'x': torch.Tensor,\n",
    "        }\n",
    "        return hint\n",
    "\n",
    "    @property\n",
    "    def metadata_args_hint(self) -> Dict[str, type]:\n",
    "        hint = {\n",
    "            'name': str\n",
    "        }\n",
    "        return hint\n",
    "\n",
    "@beartype\n",
    "class TestData(DataAbstractBase):\n",
    "    def __init__(self, x: torch.Tensor, y: int, z: Dict, k: SmallData, a: List, b: int):\n",
    "        super().__init__()\n",
    "        self.x: torch.Tensor = x\n",
    "        self.y: int = y\n",
    "        self.z: Dict = z\n",
    "        self.a: List = a\n",
    "        self.b: int = b\n",
    "        self.k: SmallData = k\n",
    "\n",
    "    @property\n",
    "    def data_args_hint(self) -> Dict[str, type]:\n",
    "        hint = {\n",
    "            'x': torch.Tensor,\n",
    "            'y': int,\n",
    "            'z': dict,\n",
    "            'k': SmallData\n",
    "        }\n",
    "        return hint\n",
    "\n",
    "    @property\n",
    "    def metadata_args_hint(self) -> Dict[str, type]:\n",
    "        hint = {\n",
    "            'a': list,\n",
    "            'b': int,\n",
    "        }\n",
    "        return hint"
   ]
  },
  {
   "cell_type": "code",
   "execution_count": 3,
   "metadata": {},
   "outputs": [],
   "source": [
    "data = TestData(x=torch.randn(5,3), y=3, z={'a': 5}, k=SmallData(x=torch.randn(3,4), name='small'), a=[1., 2.], b=3)"
   ]
  },
  {
   "cell_type": "code",
   "execution_count": 4,
   "metadata": {},
   "outputs": [],
   "source": [
    "data = data.to('cuda')"
   ]
  },
  {
   "cell_type": "code",
   "execution_count": 5,
   "metadata": {},
   "outputs": [
    {
     "data": {
      "text/plain": [
       "<TestData>\n",
       "  Metadata: \n",
       "    - a: [1.0, 2.0]\n",
       "    - b: 3\n",
       "  Data: \n",
       "    - x: <Tensor> (Shape: torch.Size([5, 3]))\n",
       "          tensor([[ 0.9571, -0.1585, -0.1873],\n",
       "                  [ 1.0634,  0.2625,  0.5816],\n",
       "                  [ 0.6587, -0.0525,  0.1029],\n",
       "                  [ 1.1869, -0.4255,  0.8983],\n",
       "                  [-2.0508, -0.6389, -0.0269]], device='cuda:0')\n",
       "    - y: <int>\n",
       "          3\n",
       "    - z: <dict>\n",
       "          {'a': 5}\n",
       "    - k: <SmallData>\n",
       "          - name: 'small'\n",
       "          - x: <Tensor> (Shape: torch.Size([3, 4]))\n",
       "            \n",
       "          "
      ]
     },
     "execution_count": 5,
     "metadata": {},
     "output_type": "execute_result"
    }
   ],
   "source": [
    "data"
   ]
  },
  {
   "cell_type": "code",
   "execution_count": 6,
   "metadata": {},
   "outputs": [],
   "source": [
    "state_dict = data.get_data_dict(device='cpu')"
   ]
  },
  {
   "cell_type": "code",
   "execution_count": 7,
   "metadata": {},
   "outputs": [
    {
     "data": {
      "text/plain": [
       "{'x': tensor([[ 0.9571, -0.1585, -0.1873],\n",
       "         [ 1.0634,  0.2625,  0.5816],\n",
       "         [ 0.6587, -0.0525,  0.1029],\n",
       "         [ 1.1869, -0.4255,  0.8983],\n",
       "         [-2.0508, -0.6389, -0.0269]]),\n",
       " 'y': 3,\n",
       " 'z': {'a': 5},\n",
       " 'k': {'x': tensor([[-1.4022,  0.2957,  0.4415,  2.2803],\n",
       "          [ 1.7437,  0.2495,  0.6526,  2.1153],\n",
       "          [ 2.1412,  1.3251, -0.4205,  0.3130]]),\n",
       "  'metadata': {'name': 'small'}},\n",
       " 'metadata': {'a': [1.0, 2.0], 'b': 3}}"
      ]
     },
     "execution_count": 7,
     "metadata": {},
     "output_type": "execute_result"
    }
   ],
   "source": [
    "state_dict"
   ]
  },
  {
   "cell_type": "code",
   "execution_count": null,
   "metadata": {},
   "outputs": [],
   "source": []
  }
 ],
 "metadata": {
  "kernelspec": {
   "display_name": "diff_edf",
   "language": "python",
   "name": "python3"
  },
  "language_info": {
   "codemirror_mode": {
    "name": "ipython",
    "version": 3
   },
   "file_extension": ".py",
   "mimetype": "text/x-python",
   "name": "python",
   "nbconvert_exporter": "python",
   "pygments_lexer": "ipython3",
   "version": "3.8.16"
  },
  "orig_nbformat": 4,
  "vscode": {
   "interpreter": {
    "hash": "79a0085b6cf04e1cff261ad12d41cff4e1530d9e68d1f8fc6bd159a2915452c6"
   }
  }
 },
 "nbformat": 4,
 "nbformat_minor": 2
}
