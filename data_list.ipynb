{
 "cells": [
  {
   "cell_type": "code",
   "execution_count": 1,
   "metadata": {},
   "outputs": [],
   "source": [
    "from typing import Union, Optional, List, Tuple, Dict, Any, Iterable, TypeVar, Type, NamedTuple, Sequence, Generic, _GenericAlias, get_origin, get_args\n",
    "from typing_extensions import Self\n",
    "from abc import abstractmethod\n",
    "\n",
    "from beartype import beartype\n",
    "from edf_interface.data.base import DataAbstractBase, _device, _dtype, _torch_tensor_to\n",
    "from edf_interface.data.se3 import SE3\n",
    "from edf_interface.data.pointcloud import PointCloud\n",
    "from edf_interface.data.demo import DemoSequence\n",
    "\n",
    "import torch"
   ]
  },
  {
   "cell_type": "code",
   "execution_count": 2,
   "metadata": {},
   "outputs": [],
   "source": [
    "inputs = [SE3(poses=torch.tensor([[1., 0., 0., 0., 0., 0., 1.]])).to('cuda'),\n",
    "          SE3(poses=torch.tensor([[1., 0., 0., 0., 0., 0., 1.]])).to('cuda'),\n",
    "          SE3(poses=torch.tensor([[1., 0., 0., 0., 0., 0., 1.]])).to('cuda'),\n",
    "          SE3(poses=torch.tensor([[1., 0., 0., 0., 0., 0., 1.]])).to('cuda'),\n",
    "          ]"
   ]
  },
  {
   "cell_type": "code",
   "execution_count": 3,
   "metadata": {},
   "outputs": [
    {
     "name": "stdout",
     "output_type": "stream",
     "text": [
      "<DemoSequence (cuda:0)>\n",
      "  Metadata: \n",
      "    - name: \n",
      "  Data: \n",
      "    - demo_0: <DemoSequence (cuda:0)>\n",
      "          - name: \n",
      "          - poses: <Tensor> (Shape: torch.Size([1, 7]))\n",
      "            \n",
      "          \n",
      "    - demo_1: <DemoSequence (cuda:0)>\n",
      "          - name: \n",
      "          - poses: <Tensor> (Shape: torch.Size([1, 7]))\n",
      "            \n",
      "          \n",
      "    - demo_2: <DemoSequence (cuda:0)>\n",
      "          - name: \n",
      "          - poses: <Tensor> (Shape: torch.Size([1, 7]))\n",
      "            \n",
      "          \n",
      "    - demo_3: <DemoSequence (cuda:0)>\n",
      "          - name: \n",
      "          - poses: <Tensor> (Shape: torch.Size([1, 7]))\n",
      "            \n",
      "          \n",
      "\n"
     ]
    }
   ],
   "source": [
    "dl = DemoSequence(data_seq=inputs).to('cuda')\n",
    "print(dl)"
   ]
  },
  {
   "cell_type": "code",
   "execution_count": 4,
   "metadata": {},
   "outputs": [
    {
     "name": "stdout",
     "output_type": "stream",
     "text": [
      "<DemoSequence (cuda:0)>\n",
      "  Metadata: \n",
      "    - name: \n",
      "  Data: \n",
      "    - demo_0: <DemoSequence (cuda:0)>\n",
      "          - name: \n",
      "          - poses: <Tensor> (Shape: torch.Size([1, 7]))\n",
      "            \n",
      "          \n",
      "    - demo_1: <DemoSequence (cuda:0)>\n",
      "          - name: \n",
      "          - poses: <Tensor> (Shape: torch.Size([1, 7]))\n",
      "            \n",
      "          \n",
      "    - demo_2: <DemoSequence (cuda:0)>\n",
      "          - name: \n",
      "          - poses: <Tensor> (Shape: torch.Size([1, 7]))\n",
      "            \n",
      "          \n",
      "    - demo_3: <DemoSequence (cuda:0)>\n",
      "          - name: \n",
      "          - poses: <Tensor> (Shape: torch.Size([1, 7]))\n",
      "            \n",
      "          \n",
      "\n"
     ]
    }
   ],
   "source": [
    "print(dl.from_data_dict(dl.get_data_dict(device='cpu'), device='cuda'))"
   ]
  },
  {
   "cell_type": "code",
   "execution_count": null,
   "metadata": {},
   "outputs": [],
   "source": []
  }
 ],
 "metadata": {
  "kernelspec": {
   "display_name": "diff_edf",
   "language": "python",
   "name": "python3"
  },
  "language_info": {
   "codemirror_mode": {
    "name": "ipython",
    "version": 3
   },
   "file_extension": ".py",
   "mimetype": "text/x-python",
   "name": "python",
   "nbconvert_exporter": "python",
   "pygments_lexer": "ipython3",
   "version": "3.8.16"
  },
  "orig_nbformat": 4,
  "vscode": {
   "interpreter": {
    "hash": "79a0085b6cf04e1cff261ad12d41cff4e1530d9e68d1f8fc6bd159a2915452c6"
   }
  }
 },
 "nbformat": 4,
 "nbformat_minor": 2
}
