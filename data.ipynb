{
 "cells": [
  {
   "cell_type": "code",
   "execution_count": 1,
   "metadata": {},
   "outputs": [
    {
     "name": "stdout",
     "output_type": "stream",
     "text": [
      "Jupyter environment detected. Enabling Open3D WebVisualizer.\n",
      "[Open3D INFO] WebRTC GUI backend enabled.\n",
      "[Open3D INFO] WebRTCWindowSystem: HTTP handshake server disabled.\n"
     ]
    }
   ],
   "source": [
    "from typing import Union, Optional, List, Tuple, Dict, Any, Iterable, TypeVar, Type, NamedTuple, Sequence, Generic, _GenericAlias\n",
    "\n",
    "from beartype import beartype\n",
    "from edf_interface.data.se3 import SE3\n",
    "from edf_interface.data.pointcloud import PointCloud\n",
    "\n",
    "import torch"
   ]
  },
  {
   "cell_type": "code",
   "execution_count": 2,
   "metadata": {},
   "outputs": [
    {
     "data": {
      "text/plain": [
       "<SE3>  (device: cuda:0)\n",
       "  Metadata: \n",
       "    - name: ''\n",
       "  Data: \n",
       "    - poses: <Tensor> (Shape: torch.Size([1, 7]))\n",
       "          tensor([[1., 0., 0., 0., 0., 0., 1.]], device='cuda:0')"
      ]
     },
     "execution_count": 2,
     "metadata": {},
     "output_type": "execute_result"
    }
   ],
   "source": [
    "data = SE3(poses=torch.tensor([[1., 0., 0., 0., 0., 0., 1.]])).to('cuda')\n",
    "data"
   ]
  },
  {
   "cell_type": "code",
   "execution_count": 3,
   "metadata": {},
   "outputs": [
    {
     "data": {
      "text/plain": [
       "<PointCloud>  (device: cuda:0)\n",
       "  Metadata: \n",
       "    - name: 'pcd_test'\n",
       "  Data: \n",
       "    - points: <Tensor> (Shape: torch.Size([5, 3]))\n",
       "          tensor([[-1.2508,  2.0523, -0.6877],\n",
       "                  [-2.0557, -0.7006, -1.2304],\n",
       "                  [ 0.8561, -0.7267, -0.3047],\n",
       "                  [ 1.9229,  0.4273,  1.6932],\n",
       "                  [-0.2823,  1.3141,  1.1878]], device='cuda:0')\n",
       "    - colors: <Tensor> (Shape: torch.Size([5, 3]))\n",
       "          tensor([[ 0.2226,  0.4242, -0.9154],\n",
       "                  [ 1.1867,  0.6271, -0.1748],\n",
       "                  [ 0.0368, -2.1644,  0.5762],\n",
       "                  [ 2.2487, -0.9565,  0.2786],\n",
       "                  [ 1.6299, -0.1775, -0.3001]], device='cuda:0')"
      ]
     },
     "execution_count": 3,
     "metadata": {},
     "output_type": "execute_result"
    }
   ],
   "source": [
    "pcd = PointCloud(points = torch.randn(5,3), colors = torch.randn(5,3), name='pcd_test').to('cuda')\n",
    "pcd"
   ]
  }
 ],
 "metadata": {
  "kernelspec": {
   "display_name": "diff_edf",
   "language": "python",
   "name": "python3"
  },
  "language_info": {
   "codemirror_mode": {
    "name": "ipython",
    "version": 3
   },
   "file_extension": ".py",
   "mimetype": "text/x-python",
   "name": "python",
   "nbconvert_exporter": "python",
   "pygments_lexer": "ipython3",
   "version": "3.8.16"
  },
  "orig_nbformat": 4,
  "vscode": {
   "interpreter": {
    "hash": "79a0085b6cf04e1cff261ad12d41cff4e1530d9e68d1f8fc6bd159a2915452c6"
   }
  }
 },
 "nbformat": 4,
 "nbformat_minor": 2
}
