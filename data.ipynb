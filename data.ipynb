{
 "cells": [
  {
   "cell_type": "code",
   "execution_count": 1,
   "metadata": {},
   "outputs": [],
   "source": [
    "from typing import Union, Optional, List, Tuple, Dict, Any, Iterable, TypeVar, Type, NamedTuple, Sequence, Generic, _GenericAlias\n",
    "\n",
    "from beartype import beartype\n",
    "from edf_interface.data.se3 import SE3\n",
    "from edf_interface.data.pointcloud import PointCloud\n",
    "\n",
    "import torch"
   ]
  },
  {
   "cell_type": "code",
   "execution_count": 2,
   "metadata": {},
   "outputs": [
    {
     "data": {
      "text/plain": [
       "<SE3>  (device: cuda:0)\n",
       "  Metadata: \n",
       "    - name: ''\n",
       "  Data: \n",
       "    - poses: <Tensor> (Shape: torch.Size([1, 7]))\n",
       "          tensor([[1., 0., 0., 0., 0., 0., 1.]], device='cuda:0')"
      ]
     },
     "execution_count": 2,
     "metadata": {},
     "output_type": "execute_result"
    }
   ],
   "source": [
    "poses = SE3(poses=torch.tensor([[1., 0., 0., 0., 0., 0., 1.]])).to('cuda')\n",
    "poses"
   ]
  },
  {
   "cell_type": "code",
   "execution_count": 3,
   "metadata": {},
   "outputs": [
    {
     "data": {
      "text/plain": [
       "<SE3>  (device: cpu)\n",
       "  Metadata: \n",
       "    - name: ''\n",
       "  Data: \n",
       "    - poses: <Tensor> (Shape: torch.Size([1, 7]))\n",
       "          tensor([[1., 0., 0., 0., 0., 0., 1.]])"
      ]
     },
     "execution_count": 3,
     "metadata": {},
     "output_type": "execute_result"
    }
   ],
   "source": [
    "SE3.from_data_dict(poses.get_data_dict(), device='cpu')"
   ]
  },
  {
   "cell_type": "code",
   "execution_count": 4,
   "metadata": {},
   "outputs": [
    {
     "data": {
      "text/plain": [
       "<PointCloud>  (device: cuda:0)\n",
       "  Metadata: \n",
       "    - name: 'pcd_test'\n",
       "  Data: \n",
       "    - points: <Tensor> (Shape: torch.Size([5, 3]))\n",
       "          tensor([[ 0.2477, -1.7461, -0.9074],\n",
       "                  [-0.3862, -0.8556, -0.2189],\n",
       "                  [-2.1966, -0.4229, -0.1750],\n",
       "                  [ 0.4268,  1.3004, -0.7944],\n",
       "                  [ 0.4193,  0.5747,  0.7027]], device='cuda:0')\n",
       "    - colors: <Tensor> (Shape: torch.Size([5, 3]))\n",
       "          tensor([[ 1.9527,  2.0025,  2.1180],\n",
       "                  [ 0.1574,  0.9105, -1.4870],\n",
       "                  [ 0.7916,  0.6783, -1.6962],\n",
       "                  [ 0.2659, -0.3983, -1.2454],\n",
       "                  [-0.7042,  1.0268,  1.3544]], device='cuda:0')"
      ]
     },
     "execution_count": 4,
     "metadata": {},
     "output_type": "execute_result"
    }
   ],
   "source": [
    "pcd = PointCloud(points = torch.randn(5,3), colors = torch.randn(5,3), name='pcd_test').to('cuda')\n",
    "pcd"
   ]
  },
  {
   "cell_type": "code",
   "execution_count": 5,
   "metadata": {},
   "outputs": [
    {
     "data": {
      "text/plain": [
       "<PointCloud>  (device: cpu)\n",
       "  Metadata: \n",
       "    - name: 'pcd_test'\n",
       "  Data: \n",
       "    - points: <Tensor> (Shape: torch.Size([5, 3]))\n",
       "          tensor([[ 0.2477, -1.7461, -0.9074],\n",
       "                  [-0.3862, -0.8556, -0.2189],\n",
       "                  [-2.1966, -0.4229, -0.1750],\n",
       "                  [ 0.4268,  1.3004, -0.7944],\n",
       "                  [ 0.4193,  0.5747,  0.7027]])\n",
       "    - colors: <Tensor> (Shape: torch.Size([5, 3]))\n",
       "          tensor([[ 1.9527,  2.0025,  2.1180],\n",
       "                  [ 0.1574,  0.9105, -1.4870],\n",
       "                  [ 0.7916,  0.6783, -1.6962],\n",
       "                  [ 0.2659, -0.3983, -1.2454],\n",
       "                  [-0.7042,  1.0268,  1.3544]])"
      ]
     },
     "execution_count": 5,
     "metadata": {},
     "output_type": "execute_result"
    }
   ],
   "source": [
    "PointCloud.from_data_dict(pcd.get_data_dict(), device='cpu')"
   ]
  }
 ],
 "metadata": {
  "kernelspec": {
   "display_name": "diff_edf",
   "language": "python",
   "name": "python3"
  },
  "language_info": {
   "codemirror_mode": {
    "name": "ipython",
    "version": 3
   },
   "file_extension": ".py",
   "mimetype": "text/x-python",
   "name": "python",
   "nbconvert_exporter": "python",
   "pygments_lexer": "ipython3",
   "version": "3.8.16"
  },
  "orig_nbformat": 4,
  "vscode": {
   "interpreter": {
    "hash": "79a0085b6cf04e1cff261ad12d41cff4e1530d9e68d1f8fc6bd159a2915452c6"
   }
  }
 },
 "nbformat": 4,
 "nbformat_minor": 2
}
