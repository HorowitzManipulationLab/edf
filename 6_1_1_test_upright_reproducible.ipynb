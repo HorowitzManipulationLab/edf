{
 "cells": [
  {
   "cell_type": "code",
   "execution_count": 1,
   "metadata": {},
   "outputs": [
    {
     "name": "stderr",
     "output_type": "stream",
     "text": [
      "pybullet build time: Dec  1 2021 18:34:28\n"
     ]
    }
   ],
   "source": [
    "import time\n",
    "import datetime\n",
    "import os\n",
    "import random\n",
    "import numpy as np\n",
    "import matplotlib.pyplot as plt\n",
    "from tqdm import tqdm\n",
    "import pybullet as p\n",
    "import pybullet_data\n",
    "\n",
    "import torch\n",
    "from torch_cluster import radius_graph, radius\n",
    "from torch_scatter import scatter\n",
    "\n",
    "import matplotlib\n",
    "import matplotlib.pyplot as plt\n",
    "\n",
    "import edf\n",
    "from edf.pybullet_env.utils import get_image, axiscreator, img_data_to_pointcloud\n",
    "from edf.visual_utils import plot_color_and_depth, scatter_plot, scatter_plot_ax, visualize_samples, visualize_sample_cluster\n",
    "from edf.pybullet_env.env import MugTask\n",
    "\n",
    "device = 'cpu'\n",
    "#gpu_idx = 0\n",
    "#torch.cuda.set_device(gpu_idx)"
   ]
  },
  {
   "cell_type": "code",
   "execution_count": 2,
   "metadata": {},
   "outputs": [],
   "source": [
    "import gzip\n",
    "import pickle\n",
    "\n",
    "folder_name = 'demo'\n",
    "task_name = 'mug_task'\n",
    "path = f'{folder_name}/{task_name}'\n",
    "\n",
    "with gzip.open(path + f'/upright.gzip','rb') as f:\n",
    "    upright_samples = pickle.load(f)\n",
    "\n",
    "with gzip.open(path + f'/lying.gzip','rb') as f:\n",
    "    lying_samples = pickle.load(f)"
   ]
  },
  {
   "cell_type": "markdown",
   "metadata": {},
   "source": [
    "# Load Models"
   ]
  },
  {
   "cell_type": "code",
   "execution_count": 3,
   "metadata": {},
   "outputs": [],
   "source": [
    "from torch import nn\n",
    "from pytorch3d import transforms\n",
    "\n",
    "import e3nn.nn\n",
    "from e3nn import o3\n",
    "from e3nn.math import soft_one_hot_linspace, soft_unit_step\n",
    "\n",
    "from edf.utils import preprocess\n",
    "from edf.models import SE3Transformer, SE3TransformerLight, EnergyModel, QueryTensorField\n",
    "from edf.mcmc import MH, LangevinMH\n",
    "from edf.dist import GaussianDistSE3\n",
    "from edf.layers import QuerySHLayer, TensorFieldLayer\n",
    "\n",
    "characteristic_length = 0.01"
   ]
  },
  {
   "cell_type": "code",
   "execution_count": 4,
   "metadata": {},
   "outputs": [],
   "source": [
    "N_query = 1\n",
    "max_radius = 3.\n",
    "query_radius = 0.  \n",
    "field_cutoff = 5.         \n",
    "std_theta = 45 / 180 * np.pi\n",
    "std_X = 5.                      \n",
    "\n",
    "#xlim, ylim, zlim = np.array([-20.,  20.]), np.array([-20.,  20.]), np.array([15., 25.])\n",
    "#ranges = torch.tensor(np.stack((xlim,ylim,zlim)), dtype=torch.float).to(device)#(xyz,minmax)=(3,2)\n",
    "ranges_cropped = torch.tensor([[-21., 21.],\n",
    "                               [-21., 21.],\n",
    "                               [-30., -5.]])\n",
    "irreps_out = \"10x0e + 10x1e + 4x2e + 2x3e\"\n",
    "irreps_descriptor = o3.Irreps(irreps_out)\n",
    "sh_lmax_descriptor = 3\n",
    "number_of_basis_descriptor = 10\n",
    "irrep_normalization = 'norm'"
   ]
  },
  {
   "cell_type": "code",
   "execution_count": 5,
   "metadata": {},
   "outputs": [],
   "source": [
    "seed = 0\n",
    "random.seed(seed)\n",
    "np.random.seed(seed)\n",
    "torch.manual_seed(seed)\n",
    "torch.use_deterministic_algorithms(True)\n",
    "torch.set_printoptions(precision=4, sci_mode=False)"
   ]
  },
  {
   "cell_type": "code",
   "execution_count": 6,
   "metadata": {},
   "outputs": [],
   "source": [
    "se3T = SE3TransformerLight(max_neighbor_radius = max_radius, irreps_out=irreps_out)\n",
    "irreps_out = o3.Irreps(se3T.irreps_out)\n",
    "energy_model = EnergyModel(N_query = N_query, query_radius = query_radius, field_cutoff = field_cutoff,\n",
    "                           irreps_input = irreps_out, irreps_descriptor = irreps_descriptor, sh_lmax = sh_lmax_descriptor, number_of_basis = number_of_basis_descriptor, ranges = ranges_cropped)\n",
    "metropolis = MH(ranges_X = ranges_cropped, std_theta = std_theta, std_X = std_X)\n",
    "langevin = LangevinMH(ranges_X = ranges_cropped, dt = 0.1, std_theta = 1., std_X = 1.)"
   ]
  },
  {
   "cell_type": "code",
   "execution_count": 7,
   "metadata": {},
   "outputs": [],
   "source": [
    "tp_pickle_path = \"reproducible_pickles/\"\n",
    "\n",
    "se3T.load_tp(tp_pickle_path + \"se3T/\")\n",
    "energy_model.load_tp(tp_pickle_path + \"energy_model/\")"
   ]
  },
  {
   "cell_type": "code",
   "execution_count": 8,
   "metadata": {},
   "outputs": [],
   "source": [
    "if device == 'cuda':\n",
    "    se3T = se3T.to(device)\n",
    "    energy_model = energy_model.to(device)\n",
    "    metropolis = metropolis.to(device)\n",
    "    langevin = langevin.to(device)\n",
    "\n",
    "metropolis.get_inv_cdf()\n",
    "langevin.get_inv_cdf()"
   ]
  },
  {
   "cell_type": "code",
   "execution_count": 9,
   "metadata": {},
   "outputs": [],
   "source": [
    "lr_se3T = 5e-3\n",
    "lr_energy = 20e-3\n",
    "\n",
    "optimizer_se3T = torch.optim.Adam(list(se3T.parameters()), lr=lr_se3T, betas=(0.9, 0.98), eps=1e-09, weight_decay=1e-4, amsgrad=True)\n",
    "optimizer_energy = torch.optim.Adam(list(energy_model.parameters()), lr=lr_energy, betas=(0.9, 0.98), eps=1e-09, weight_decay=0, amsgrad=True)"
   ]
  },
  {
   "cell_type": "code",
   "execution_count": 10,
   "metadata": {},
   "outputs": [
    {
     "data": {
      "text/plain": [
       "<All keys matched successfully>"
      ]
     },
     "execution_count": 10,
     "metadata": {},
     "output_type": "execute_result"
    }
   ],
   "source": [
    "loaded = torch.load('checkpoint/train_pick_reproducible/Jun_05_2022__23_35_22/model_iter_300.pt', map_location=device)\n",
    "se3T.load_state_dict(loaded['se3T_state_dict'])\n",
    "energy_model.load_state_dict(loaded['energy_model_state_dict'])"
   ]
  },
  {
   "cell_type": "code",
   "execution_count": 11,
   "metadata": {},
   "outputs": [],
   "source": [
    "N_query_Q = 1\n",
    "max_radius_Q = 5.\n",
    "query_radius_Q = 0.  \n",
    "field_cutoff_Q = 5.             \n",
    "ranges_cropped_Q = torch.tensor([[-10., 10.],\n",
    "                                    [-10., 10.],\n",
    "                                    [-10., 10.]])\n",
    "irreps_out_Q = \"10x0e + 10x1e + 4x2e + 2x3e\"\n",
    "sh_lmax_descriptor_Q = 3\n",
    "number_of_basis_descriptor_Q = 10\n",
    "irrep_normalization_Q = 'norm'\n",
    "\n",
    "\n",
    "max_radius_K = 2.5\n",
    "query_radius_K = 0.  \n",
    "field_cutoff_K = 5.\n",
    "std_theta_K = 45 / 180 * np.pi\n",
    "std_X_K = 5.\n",
    "ranges_cropped_K = torch.tensor([[-21., 21.],\n",
    "                               [-21., 21.],\n",
    "                               [-30., -5.]])\n",
    "irreps_out_K = \"10x0e + 10x1e + 4x2e + 2x3e\"\n",
    "irreps_descriptor_K = o3.Irreps(irreps_out_K)\n",
    "sh_lmax_descriptor_K = 3\n",
    "number_of_basis_descriptor_K = 10\n",
    "irrep_normalization_K = 'norm'"
   ]
  },
  {
   "cell_type": "code",
   "execution_count": 12,
   "metadata": {},
   "outputs": [],
   "source": [
    "seed = 0\n",
    "random.seed(seed)\n",
    "np.random.seed(seed)\n",
    "torch.manual_seed(seed)\n",
    "torch.use_deterministic_algorithms(True)\n",
    "torch.set_printoptions(precision=4, sci_mode=False)"
   ]
  },
  {
   "cell_type": "code",
   "execution_count": 13,
   "metadata": {},
   "outputs": [],
   "source": [
    "se3T_Q = SE3TransformerLight(max_neighbor_radius = max_radius_Q, irreps_out=irreps_out_Q)\n",
    "tensor_field_Q = QueryTensorField(N_query = N_query_Q, field_cutoff = field_cutoff_Q, irreps_input = irreps_out_Q, irreps_output = irreps_out_K,\n",
    "                                  sh_lmax = sh_lmax_descriptor_Q, number_of_basis = number_of_basis_descriptor_Q,\n",
    "                                  irrep_normalization = irrep_normalization_Q, path_normalization=\"element\")\n",
    "query_pos_Q = torch.zeros(N_query_Q, 3, device=device)\n",
    "\n",
    "se3T_K = SE3TransformerLight(max_neighbor_radius = max_radius_K, irreps_out=irreps_out_K)\n",
    "irreps_out_K = o3.Irreps(se3T_K.irreps_out)\n",
    "energy_model_K = EnergyModel(N_query = N_query_Q, query_radius = query_radius_K, field_cutoff = field_cutoff_K,\n",
    "                           irreps_input = irreps_out_K, irreps_descriptor = irreps_descriptor_K, sh_lmax = sh_lmax_descriptor_K, \n",
    "                           number_of_basis = number_of_basis_descriptor_K, ranges = ranges_cropped_K, learnable_query=False)\n",
    "metropolis_K = MH(ranges_X = ranges_cropped_K, std_theta = std_theta_K, std_X = std_X_K)\n",
    "langevin_K = LangevinMH(ranges_X = ranges_cropped_K, dt = 0.1, std_theta = 1., std_X = 1.)"
   ]
  },
  {
   "cell_type": "code",
   "execution_count": 14,
   "metadata": {},
   "outputs": [],
   "source": [
    "tp_pickle_path = \"reproducible_pickles/\"\n",
    "\n",
    "se3T_Q.load_tp(tp_pickle_path + \"se3T_Q/\")\n",
    "tensor_field_Q.load_tp(tp_pickle_path + \"tensor_field_Q/\")\n",
    "se3T_K.load_tp(tp_pickle_path + \"se3T_K/\")\n",
    "energy_model_K.load_tp(tp_pickle_path + \"energy_model_K/\")"
   ]
  },
  {
   "cell_type": "code",
   "execution_count": 15,
   "metadata": {},
   "outputs": [],
   "source": [
    "if device == 'cuda':\n",
    "    se3T_Q = se3T_Q.to(device)\n",
    "    tensor_field_Q = tensor_field_Q.to(device)\n",
    "    se3T_K = se3T_K.to(device)\n",
    "    energy_model_K = energy_model_K.to(device)\n",
    "    metropolis_K = metropolis_K.to(device)\n",
    "    langevin_K = langevin_K.to(device)\n",
    "\n",
    "metropolis_K.get_inv_cdf()\n",
    "langevin_K.get_inv_cdf()"
   ]
  },
  {
   "cell_type": "code",
   "execution_count": 16,
   "metadata": {},
   "outputs": [],
   "source": [
    "lr_Q = 5e-3\n",
    "lr_K = 5e-3\n",
    "lr_energy_K = 20e-3\n",
    "\n",
    "optimizer_Q = torch.optim.Adam(list(se3T_Q.parameters()) + list(tensor_field_Q.parameters()), lr=lr_Q, betas=(0.9, 0.98), eps=1e-09, weight_decay=1e-4, amsgrad=True)\n",
    "optimizer_K = torch.optim.Adam(list(se3T_K.parameters()), lr=lr_K, betas=(0.9, 0.98), eps=1e-09, weight_decay=1e-4, amsgrad=True)\n",
    "optimizer_energy_K = torch.optim.Adam(list(energy_model_K.parameters()), lr=lr_energy_K, betas=(0.9, 0.98), eps=1e-09, weight_decay=0, amsgrad=True)"
   ]
  },
  {
   "cell_type": "code",
   "execution_count": 17,
   "metadata": {},
   "outputs": [
    {
     "data": {
      "text/plain": [
       "<All keys matched successfully>"
      ]
     },
     "execution_count": 17,
     "metadata": {},
     "output_type": "execute_result"
    }
   ],
   "source": [
    "loaded = torch.load('checkpoint/train_place_reproducible/Jun_06_2022__11_36_29/model_place_iter_300.pt', map_location=device)\n",
    "se3T_K.load_state_dict(loaded['se3T_K_state_dict'])\n",
    "energy_model_K.load_state_dict(loaded['energy_model_K_state_dict'])\n",
    "se3T_Q.load_state_dict(loaded['se3T_Q_state_dict'])\n",
    "tensor_field_Q.load_state_dict(loaded['tensor_field_Q_state_dict'])"
   ]
  },
  {
   "cell_type": "code",
   "execution_count": 18,
   "metadata": {},
   "outputs": [
    {
     "data": {
      "text/plain": [
       "<torch._C.Generator at 0x7fe8894ec0f0>"
      ]
     },
     "execution_count": 18,
     "metadata": {},
     "output_type": "execute_result"
    }
   ],
   "source": [
    "seed = 0\n",
    "random.seed(seed)\n",
    "np.random.seed(seed)\n",
    "torch.manual_seed(seed)"
   ]
  },
  {
   "cell_type": "code",
   "execution_count": 19,
   "metadata": {},
   "outputs": [],
   "source": [
    "task = MugTask(use_gui=False)"
   ]
  },
  {
   "cell_type": "code",
   "execution_count": 20,
   "metadata": {},
   "outputs": [
    {
     "name": "stdout",
     "output_type": "stream",
     "text": [
      "=================Sample 100==================\n"
     ]
    },
    {
     "name": "stderr",
     "output_type": "stream",
     "text": [
      "100%|██████████| 499/499 [00:10<00:00, 45.37it/s]\n",
      "100%|██████████| 99/99 [00:10<00:00,  9.43it/s]\n"
     ]
    },
    {
     "name": "stdout",
     "output_type": "stream",
     "text": [
      "Pick inference time: 23.05036497116089\n",
      "First iteration is slow\n",
      "Identified 7135 IK solutions with minimum distance of 2.156 in 0.984 seconds\n",
      "Pick success\n"
     ]
    },
    {
     "name": "stderr",
     "output_type": "stream",
     "text": [
      "100%|██████████| 499/499 [00:07<00:00, 63.65it/s]\n",
      "100%|██████████| 99/99 [00:05<00:00, 19.67it/s]\n"
     ]
    },
    {
     "name": "stdout",
     "output_type": "stream",
     "text": [
      "Place inference time: 14.236428499221802\n",
      "Identified 7563 IK solutions with minimum distance of 1.154 in 0.434 seconds\n",
      "Place Success\n",
      "Pick Success Rate: 100%  (1 / 1)    ||   Place Success Rate: 100%   (1 / 1)    ||   Place-and-Place Success Rate: 100%   (1 / 1)\n",
      "======================================\n",
      "=================Sample 101==================\n"
     ]
    },
    {
     "name": "stderr",
     "output_type": "stream",
     "text": [
      "100%|██████████| 499/499 [00:09<00:00, 50.61it/s]\n",
      "100%|██████████| 99/99 [00:07<00:00, 13.78it/s]\n"
     ]
    },
    {
     "name": "stdout",
     "output_type": "stream",
     "text": [
      "Pick inference time: 19.40693736076355\n",
      "Identified 5237 IK solutions with minimum distance of 2.036 in 0.904 seconds\n",
      "Pick success\n"
     ]
    },
    {
     "name": "stderr",
     "output_type": "stream",
     "text": [
      "100%|██████████| 499/499 [00:07<00:00, 69.04it/s]\n",
      "100%|██████████| 99/99 [00:05<00:00, 18.39it/s]\n"
     ]
    },
    {
     "name": "stdout",
     "output_type": "stream",
     "text": [
      "Place inference time: 15.065155506134033\n",
      "Identified 12154 IK solutions with minimum distance of 1.292 in 0.815 seconds\n",
      "Place Success\n",
      "Pick Success Rate: 100%  (2 / 2)    ||   Place Success Rate: 100%   (2 / 2)    ||   Place-and-Place Success Rate: 100%   (2 / 2)\n",
      "======================================\n",
      "=================Sample 102==================\n"
     ]
    },
    {
     "name": "stderr",
     "output_type": "stream",
     "text": [
      "100%|██████████| 499/499 [00:10<00:00, 48.65it/s]\n",
      "100%|██████████| 99/99 [00:07<00:00, 13.24it/s]\n"
     ]
    },
    {
     "name": "stdout",
     "output_type": "stream",
     "text": [
      "Pick inference time: 20.311537265777588\n",
      "Identified 6331 IK solutions with minimum distance of 2.676 in 0.912 seconds\n",
      "Pick success\n"
     ]
    },
    {
     "name": "stderr",
     "output_type": "stream",
     "text": [
      "100%|██████████| 499/499 [00:07<00:00, 66.98it/s]\n",
      "100%|██████████| 99/99 [00:04<00:00, 20.05it/s]\n"
     ]
    },
    {
     "name": "stdout",
     "output_type": "stream",
     "text": [
      "Place inference time: 15.388614416122437\n",
      "Identified 7203 IK solutions with minimum distance of 1.402 in 0.421 seconds\n",
      "Place Success\n",
      "Pick Success Rate: 100%  (3 / 3)    ||   Place Success Rate: 100%   (3 / 3)    ||   Place-and-Place Success Rate: 100%   (3 / 3)\n",
      "======================================\n",
      "=================Sample 103==================\n"
     ]
    },
    {
     "name": "stderr",
     "output_type": "stream",
     "text": [
      "100%|██████████| 499/499 [00:10<00:00, 48.65it/s]\n",
      "100%|██████████| 99/99 [00:07<00:00, 13.58it/s]\n"
     ]
    },
    {
     "name": "stdout",
     "output_type": "stream",
     "text": [
      "Pick inference time: 22.86812996864319\n",
      "Identified 7214 IK solutions with minimum distance of 2.076 in 0.964 seconds\n",
      "Pick success\n"
     ]
    },
    {
     "name": "stderr",
     "output_type": "stream",
     "text": [
      "100%|██████████| 499/499 [00:07<00:00, 69.37it/s]\n",
      "100%|██████████| 99/99 [00:04<00:00, 20.42it/s]\n"
     ]
    },
    {
     "name": "stdout",
     "output_type": "stream",
     "text": [
      "Place inference time: 18.23756456375122\n",
      "Identified 9566 IK solutions with minimum distance of 1.098 in 0.685 seconds\n",
      "Place Success\n",
      "Pick Success Rate: 100%  (4 / 4)    ||   Place Success Rate: 100%   (4 / 4)    ||   Place-and-Place Success Rate: 100%   (4 / 4)\n",
      "======================================\n",
      "=================Sample 104==================\n"
     ]
    },
    {
     "name": "stderr",
     "output_type": "stream",
     "text": [
      "100%|██████████| 499/499 [00:10<00:00, 49.43it/s]\n",
      "100%|██████████| 99/99 [00:07<00:00, 13.87it/s]\n"
     ]
    },
    {
     "name": "stdout",
     "output_type": "stream",
     "text": [
      "Pick inference time: 18.66004467010498\n",
      "Identified 10863 IK solutions with minimum distance of 1.466 in 0.897 seconds\n",
      "Pick success\n"
     ]
    },
    {
     "name": "stderr",
     "output_type": "stream",
     "text": [
      "100%|██████████| 499/499 [00:07<00:00, 69.76it/s]\n",
      "100%|██████████| 99/99 [00:04<00:00, 20.07it/s]\n"
     ]
    },
    {
     "name": "stdout",
     "output_type": "stream",
     "text": [
      "Place inference time: 16.903921365737915\n",
      "Identified 6733 IK solutions with minimum distance of 0.676 in 0.422 seconds\n",
      "Place Success\n",
      "Pick Success Rate: 100%  (5 / 5)    ||   Place Success Rate: 100%   (5 / 5)    ||   Place-and-Place Success Rate: 100%   (5 / 5)\n",
      "======================================\n",
      "=================Sample 105==================\n"
     ]
    },
    {
     "name": "stderr",
     "output_type": "stream",
     "text": [
      "100%|██████████| 499/499 [00:10<00:00, 48.13it/s]\n",
      "100%|██████████| 99/99 [00:07<00:00, 13.60it/s]\n"
     ]
    },
    {
     "name": "stdout",
     "output_type": "stream",
     "text": [
      "Pick inference time: 19.13309955596924\n",
      "Identified 12276 IK solutions with minimum distance of 2.196 in 1.233 seconds\n",
      "Pick success\n"
     ]
    },
    {
     "name": "stderr",
     "output_type": "stream",
     "text": [
      "100%|██████████| 499/499 [00:07<00:00, 67.91it/s]\n",
      "100%|██████████| 99/99 [00:05<00:00, 19.47it/s]\n"
     ]
    },
    {
     "name": "stdout",
     "output_type": "stream",
     "text": [
      "Place inference time: 13.56745457649231\n",
      "Identified 6524 IK solutions with minimum distance of 0.644 in 0.386 seconds\n",
      "Place Success\n",
      "Pick Success Rate: 100%  (6 / 6)    ||   Place Success Rate: 100%   (6 / 6)    ||   Place-and-Place Success Rate: 100%   (6 / 6)\n",
      "======================================\n",
      "=================Sample 106==================\n"
     ]
    },
    {
     "name": "stderr",
     "output_type": "stream",
     "text": [
      "100%|██████████| 499/499 [00:10<00:00, 47.60it/s]\n",
      "100%|██████████| 99/99 [00:07<00:00, 12.86it/s]\n"
     ]
    },
    {
     "name": "stdout",
     "output_type": "stream",
     "text": [
      "Pick inference time: 19.620505571365356\n",
      "Identified 10082 IK solutions with minimum distance of 2.428 in 1.199 seconds\n",
      "Pick success\n"
     ]
    },
    {
     "name": "stderr",
     "output_type": "stream",
     "text": [
      "100%|██████████| 499/499 [00:07<00:00, 70.86it/s]\n",
      "100%|██████████| 99/99 [00:04<00:00, 20.12it/s]\n"
     ]
    },
    {
     "name": "stdout",
     "output_type": "stream",
     "text": [
      "Place inference time: 13.104681968688965\n",
      "Identified 7070 IK solutions with minimum distance of 0.935 in 0.423 seconds\n",
      "Place Success\n",
      "Pick Success Rate: 100%  (7 / 7)    ||   Place Success Rate: 100%   (7 / 7)    ||   Place-and-Place Success Rate: 100%   (7 / 7)\n",
      "======================================\n",
      "=================Sample 107==================\n"
     ]
    },
    {
     "name": "stderr",
     "output_type": "stream",
     "text": [
      "100%|██████████| 499/499 [00:09<00:00, 50.47it/s]\n",
      "100%|██████████| 99/99 [00:07<00:00, 13.76it/s]\n"
     ]
    },
    {
     "name": "stdout",
     "output_type": "stream",
     "text": [
      "Pick inference time: 18.484652519226074\n",
      "Identified 9002 IK solutions with minimum distance of 1.538 in 0.859 seconds\n",
      "Pick success\n"
     ]
    },
    {
     "name": "stderr",
     "output_type": "stream",
     "text": [
      "100%|██████████| 499/499 [00:07<00:00, 69.27it/s]\n",
      "100%|██████████| 99/99 [00:05<00:00, 19.33it/s]\n"
     ]
    },
    {
     "name": "stdout",
     "output_type": "stream",
     "text": [
      "Place inference time: 13.514622449874878\n",
      "Identified 6475 IK solutions with minimum distance of 0.631 in 0.393 seconds\n",
      "Place Success\n",
      "Pick Success Rate: 100%  (8 / 8)    ||   Place Success Rate: 100%   (8 / 8)    ||   Place-and-Place Success Rate: 100%   (8 / 8)\n",
      "======================================\n",
      "=================Sample 108==================\n"
     ]
    },
    {
     "name": "stderr",
     "output_type": "stream",
     "text": [
      "100%|██████████| 499/499 [00:10<00:00, 47.38it/s]\n",
      "100%|██████████| 99/99 [00:07<00:00, 12.88it/s]\n"
     ]
    },
    {
     "name": "stdout",
     "output_type": "stream",
     "text": [
      "Pick inference time: 19.652206659317017\n",
      "Identified 7007 IK solutions with minimum distance of 1.043 in 0.583 seconds\n",
      "Pick success\n"
     ]
    },
    {
     "name": "stderr",
     "output_type": "stream",
     "text": [
      "100%|██████████| 499/499 [00:06<00:00, 71.43it/s]\n",
      "100%|██████████| 99/99 [00:04<00:00, 20.64it/s]\n"
     ]
    },
    {
     "name": "stdout",
     "output_type": "stream",
     "text": [
      "Place inference time: 12.927460670471191\n",
      "Identified 7856 IK solutions with minimum distance of 0.929 in 0.452 seconds\n",
      "Place Success\n",
      "Pick Success Rate: 100%  (9 / 9)    ||   Place Success Rate: 100%   (9 / 9)    ||   Place-and-Place Success Rate: 100%   (9 / 9)\n",
      "======================================\n",
      "=================Sample 109==================\n"
     ]
    },
    {
     "name": "stderr",
     "output_type": "stream",
     "text": [
      "100%|██████████| 499/499 [00:09<00:00, 50.19it/s]\n",
      "100%|██████████| 99/99 [00:06<00:00, 14.83it/s]\n"
     ]
    },
    {
     "name": "stdout",
     "output_type": "stream",
     "text": [
      "Pick inference time: 17.977457761764526\n",
      "Identified 5816 IK solutions with minimum distance of 2.724 in 0.692 seconds\n",
      "Pick success\n"
     ]
    },
    {
     "name": "stderr",
     "output_type": "stream",
     "text": [
      "100%|██████████| 499/499 [00:07<00:00, 70.59it/s]\n",
      "100%|██████████| 99/99 [00:05<00:00, 18.82it/s]\n"
     ]
    },
    {
     "name": "stdout",
     "output_type": "stream",
     "text": [
      "Place inference time: 13.462865114212036\n",
      "Identified 8507 IK solutions with minimum distance of 1.111 in 0.540 seconds\n",
      "Place Success\n",
      "Pick Success Rate: 100%  (10 / 10)    ||   Place Success Rate: 100%   (10 / 10)    ||   Place-and-Place Success Rate: 100%   (10 / 10)\n",
      "======================================\n",
      "=================Sample 110==================\n"
     ]
    },
    {
     "name": "stderr",
     "output_type": "stream",
     "text": [
      "100%|██████████| 499/499 [00:10<00:00, 45.90it/s]\n",
      "100%|██████████| 99/99 [00:07<00:00, 12.84it/s]\n"
     ]
    },
    {
     "name": "stdout",
     "output_type": "stream",
     "text": [
      "Pick inference time: 20.071450233459473\n",
      "Identified 9602 IK solutions with minimum distance of 1.957 in 1.028 seconds\n",
      "Pick success\n"
     ]
    },
    {
     "name": "stderr",
     "output_type": "stream",
     "text": [
      "100%|██████████| 499/499 [00:07<00:00, 70.28it/s]\n",
      "100%|██████████| 99/99 [00:05<00:00, 19.68it/s]\n"
     ]
    },
    {
     "name": "stdout",
     "output_type": "stream",
     "text": [
      "Place inference time: 13.239304542541504\n",
      "Identified 7571 IK solutions with minimum distance of 0.761 in 0.441 seconds\n",
      "Place Success\n",
      "Pick Success Rate: 100%  (11 / 11)    ||   Place Success Rate: 100%   (11 / 11)    ||   Place-and-Place Success Rate: 100%   (11 / 11)\n",
      "======================================\n",
      "=================Sample 111==================\n"
     ]
    },
    {
     "name": "stderr",
     "output_type": "stream",
     "text": [
      "100%|██████████| 499/499 [00:10<00:00, 48.88it/s]\n",
      "100%|██████████| 99/99 [00:07<00:00, 13.29it/s]\n"
     ]
    },
    {
     "name": "stdout",
     "output_type": "stream",
     "text": [
      "Pick inference time: 19.032009840011597\n",
      "Identified 5687 IK solutions with minimum distance of 2.541 in 0.666 seconds\n",
      "Pick success\n"
     ]
    },
    {
     "name": "stderr",
     "output_type": "stream",
     "text": [
      "100%|██████████| 499/499 [00:07<00:00, 69.35it/s]\n",
      "100%|██████████| 99/99 [00:04<00:00, 19.97it/s]\n"
     ]
    },
    {
     "name": "stdout",
     "output_type": "stream",
     "text": [
      "Place inference time: 13.269224405288696\n",
      "Identified 8275 IK solutions with minimum distance of 1.044 in 0.620 seconds\n",
      "Place Success\n",
      "Pick Success Rate: 100%  (12 / 12)    ||   Place Success Rate: 100%   (12 / 12)    ||   Place-and-Place Success Rate: 100%   (12 / 12)\n",
      "======================================\n",
      "=================Sample 112==================\n"
     ]
    },
    {
     "name": "stderr",
     "output_type": "stream",
     "text": [
      "100%|██████████| 499/499 [00:09<00:00, 50.85it/s]\n",
      "100%|██████████| 99/99 [00:06<00:00, 14.28it/s]\n"
     ]
    },
    {
     "name": "stdout",
     "output_type": "stream",
     "text": [
      "Pick inference time: 18.096848249435425\n",
      "Identified 5227 IK solutions with minimum distance of 2.686 in 0.710 seconds\n",
      "Pick success\n"
     ]
    },
    {
     "name": "stderr",
     "output_type": "stream",
     "text": [
      "100%|██████████| 499/499 [00:07<00:00, 68.88it/s]\n",
      "100%|██████████| 99/99 [00:05<00:00, 19.20it/s]\n"
     ]
    },
    {
     "name": "stdout",
     "output_type": "stream",
     "text": [
      "Place inference time: 13.547189950942993\n",
      "Identified 7046 IK solutions with minimum distance of 1.112 in 0.410 seconds\n",
      "Place Success\n",
      "Pick Success Rate: 100%  (13 / 13)    ||   Place Success Rate: 100%   (13 / 13)    ||   Place-and-Place Success Rate: 100%   (13 / 13)\n",
      "======================================\n",
      "=================Sample 113==================\n"
     ]
    },
    {
     "name": "stderr",
     "output_type": "stream",
     "text": [
      "100%|██████████| 499/499 [00:09<00:00, 52.12it/s]\n",
      "100%|██████████| 99/99 [00:06<00:00, 14.80it/s]\n"
     ]
    },
    {
     "name": "stdout",
     "output_type": "stream",
     "text": [
      "Pick inference time: 17.60833215713501\n",
      "Identified 4615 IK solutions with minimum distance of 1.204 in 0.336 seconds\n",
      "Pick success\n"
     ]
    },
    {
     "name": "stderr",
     "output_type": "stream",
     "text": [
      "100%|██████████| 499/499 [00:07<00:00, 68.80it/s]\n",
      "100%|██████████| 99/99 [00:04<00:00, 19.94it/s]\n"
     ]
    },
    {
     "name": "stdout",
     "output_type": "stream",
     "text": [
      "Place inference time: 13.304924011230469\n",
      "Identified 7780 IK solutions with minimum distance of 1.001 in 0.445 seconds\n",
      "Place Success\n",
      "Pick Success Rate: 100%  (14 / 14)    ||   Place Success Rate: 100%   (14 / 14)    ||   Place-and-Place Success Rate: 100%   (14 / 14)\n",
      "======================================\n",
      "=================Sample 114==================\n"
     ]
    },
    {
     "name": "stderr",
     "output_type": "stream",
     "text": [
      "100%|██████████| 499/499 [00:09<00:00, 50.71it/s]\n",
      "100%|██████████| 99/99 [00:07<00:00, 14.11it/s]\n"
     ]
    },
    {
     "name": "stdout",
     "output_type": "stream",
     "text": [
      "Pick inference time: 18.259502410888672\n",
      "Identified 11394 IK solutions with minimum distance of 1.272 in 0.869 seconds\n",
      "Pick success\n"
     ]
    },
    {
     "name": "stderr",
     "output_type": "stream",
     "text": [
      "100%|██████████| 499/499 [00:07<00:00, 70.43it/s]\n",
      "100%|██████████| 99/99 [00:04<00:00, 19.94it/s]\n"
     ]
    },
    {
     "name": "stdout",
     "output_type": "stream",
     "text": [
      "Place inference time: 13.177516222000122\n",
      "Identified 7063 IK solutions with minimum distance of 0.770 in 0.401 seconds\n",
      "Place Success\n",
      "Pick Success Rate: 100%  (15 / 15)    ||   Place Success Rate: 100%   (15 / 15)    ||   Place-and-Place Success Rate: 100%   (15 / 15)\n",
      "======================================\n",
      "=================Sample 115==================\n"
     ]
    },
    {
     "name": "stderr",
     "output_type": "stream",
     "text": [
      "100%|██████████| 499/499 [00:09<00:00, 50.90it/s]\n",
      "100%|██████████| 99/99 [00:06<00:00, 14.37it/s]\n"
     ]
    },
    {
     "name": "stdout",
     "output_type": "stream",
     "text": [
      "Pick inference time: 18.079452991485596\n",
      "Identified 7128 IK solutions with minimum distance of 1.191 in 0.749 seconds\n",
      "Pick success\n"
     ]
    },
    {
     "name": "stderr",
     "output_type": "stream",
     "text": [
      "100%|██████████| 499/499 [00:06<00:00, 71.39it/s]\n",
      "100%|██████████| 99/99 [00:04<00:00, 20.49it/s]\n"
     ]
    },
    {
     "name": "stdout",
     "output_type": "stream",
     "text": [
      "Place inference time: 12.951670408248901\n",
      "Identified 5366 IK solutions with minimum distance of 0.779 in 0.301 seconds\n",
      "Place Success\n",
      "Pick Success Rate: 100%  (16 / 16)    ||   Place Success Rate: 100%   (16 / 16)    ||   Place-and-Place Success Rate: 100%   (16 / 16)\n",
      "======================================\n",
      "=================Sample 116==================\n"
     ]
    },
    {
     "name": "stderr",
     "output_type": "stream",
     "text": [
      "100%|██████████| 499/499 [00:10<00:00, 48.71it/s]\n",
      "100%|██████████| 99/99 [00:07<00:00, 12.84it/s]\n"
     ]
    },
    {
     "name": "stdout",
     "output_type": "stream",
     "text": [
      "Pick inference time: 19.40369486808777\n",
      "Identified 6230 IK solutions with minimum distance of 2.524 in 0.618 seconds\n",
      "Pick success\n"
     ]
    },
    {
     "name": "stderr",
     "output_type": "stream",
     "text": [
      "100%|██████████| 499/499 [00:07<00:00, 70.79it/s]\n",
      "100%|██████████| 99/99 [00:04<00:00, 20.48it/s]\n"
     ]
    },
    {
     "name": "stdout",
     "output_type": "stream",
     "text": [
      "Place inference time: 13.000048875808716\n",
      "Identified 7379 IK solutions with minimum distance of 0.933 in 0.430 seconds\n",
      "Place Success\n",
      "Pick Success Rate: 100%  (17 / 17)    ||   Place Success Rate: 100%   (17 / 17)    ||   Place-and-Place Success Rate: 100%   (17 / 17)\n",
      "======================================\n",
      "=================Sample 117==================\n"
     ]
    },
    {
     "name": "stderr",
     "output_type": "stream",
     "text": [
      "100%|██████████| 499/499 [00:10<00:00, 46.24it/s]\n",
      "100%|██████████| 99/99 [00:07<00:00, 12.75it/s]\n"
     ]
    },
    {
     "name": "stdout",
     "output_type": "stream",
     "text": [
      "Pick inference time: 19.96780753135681\n",
      "Identified 10471 IK solutions with minimum distance of 2.466 in 1.261 seconds\n",
      "Pick success\n"
     ]
    },
    {
     "name": "stderr",
     "output_type": "stream",
     "text": [
      "100%|██████████| 499/499 [00:07<00:00, 68.93it/s]\n",
      "100%|██████████| 99/99 [00:04<00:00, 19.82it/s]\n"
     ]
    },
    {
     "name": "stdout",
     "output_type": "stream",
     "text": [
      "Place inference time: 13.342020034790039\n",
      "Identified 6094 IK solutions with minimum distance of 0.670 in 0.359 seconds\n",
      "Place Success\n",
      "Pick Success Rate: 100%  (18 / 18)    ||   Place Success Rate: 100%   (18 / 18)    ||   Place-and-Place Success Rate: 100%   (18 / 18)\n",
      "======================================\n",
      "=================Sample 118==================\n"
     ]
    },
    {
     "name": "stderr",
     "output_type": "stream",
     "text": [
      "100%|██████████| 499/499 [00:10<00:00, 49.71it/s]\n",
      "100%|██████████| 99/99 [00:06<00:00, 14.27it/s]\n"
     ]
    },
    {
     "name": "stdout",
     "output_type": "stream",
     "text": [
      "Pick inference time: 18.324892044067383\n",
      "Identified 11096 IK solutions with minimum distance of 2.344 in 1.323 seconds\n",
      "Pick success\n"
     ]
    },
    {
     "name": "stderr",
     "output_type": "stream",
     "text": [
      "100%|██████████| 499/499 [00:07<00:00, 70.61it/s]\n",
      "100%|██████████| 99/99 [00:04<00:00, 20.23it/s]\n"
     ]
    },
    {
     "name": "stdout",
     "output_type": "stream",
     "text": [
      "Place inference time: 13.088866710662842\n",
      "Identified 8122 IK solutions with minimum distance of 0.905 in 0.551 seconds\n",
      "Place Success\n",
      "Pick Success Rate: 100%  (19 / 19)    ||   Place Success Rate: 100%   (19 / 19)    ||   Place-and-Place Success Rate: 100%   (19 / 19)\n",
      "======================================\n",
      "=================Sample 119==================\n"
     ]
    },
    {
     "name": "stderr",
     "output_type": "stream",
     "text": [
      "100%|██████████| 499/499 [00:10<00:00, 49.06it/s]\n",
      "100%|██████████| 99/99 [00:06<00:00, 15.16it/s]\n"
     ]
    },
    {
     "name": "stdout",
     "output_type": "stream",
     "text": [
      "Pick inference time: 18.00347924232483\n",
      "Identified 5850 IK solutions with minimum distance of 1.174 in 0.370 seconds\n",
      "Pick success\n"
     ]
    },
    {
     "name": "stderr",
     "output_type": "stream",
     "text": [
      "100%|██████████| 499/499 [00:07<00:00, 69.60it/s]\n",
      "100%|██████████| 99/99 [00:05<00:00, 19.06it/s]\n"
     ]
    },
    {
     "name": "stdout",
     "output_type": "stream",
     "text": [
      "Place inference time: 13.522829294204712\n",
      "Identified 7539 IK solutions with minimum distance of 0.880 in 0.441 seconds\n",
      "Place Success\n",
      "Pick Success Rate: 100%  (20 / 20)    ||   Place Success Rate: 100%   (20 / 20)    ||   Place-and-Place Success Rate: 100%   (20 / 20)\n",
      "======================================\n",
      "=================Sample 120==================\n"
     ]
    },
    {
     "name": "stderr",
     "output_type": "stream",
     "text": [
      "100%|██████████| 499/499 [00:10<00:00, 49.74it/s]\n",
      "100%|██████████| 99/99 [00:06<00:00, 14.57it/s]\n"
     ]
    },
    {
     "name": "stdout",
     "output_type": "stream",
     "text": [
      "Pick inference time: 18.14902353286743\n",
      "Identified 3690 IK solutions with minimum distance of 1.889 in 0.306 seconds\n",
      "Pick fail\n",
      "Pick Success Rate: 95%  (20 / 21)    ||   Place Success Rate: 100%   (20 / 20)    ||   Place-and-Place Success Rate: 95%   (20 / 21)\n",
      "======================================\n",
      "=================Sample 121==================\n"
     ]
    },
    {
     "name": "stderr",
     "output_type": "stream",
     "text": [
      "100%|██████████| 499/499 [00:10<00:00, 48.31it/s]\n",
      "100%|██████████| 99/99 [00:07<00:00, 12.74it/s]\n"
     ]
    },
    {
     "name": "stdout",
     "output_type": "stream",
     "text": [
      "Pick inference time: 19.506930112838745\n",
      "Identified 6536 IK solutions with minimum distance of 1.768 in 1.042 seconds\n",
      "Pick success\n"
     ]
    },
    {
     "name": "stderr",
     "output_type": "stream",
     "text": [
      "100%|██████████| 499/499 [00:07<00:00, 70.01it/s]\n",
      "100%|██████████| 99/99 [00:04<00:00, 20.30it/s]\n"
     ]
    },
    {
     "name": "stdout",
     "output_type": "stream",
     "text": [
      "Place inference time: 13.150147199630737\n",
      "Identified 6243 IK solutions with minimum distance of 0.669 in 0.364 seconds\n",
      "Place Success\n",
      "Pick Success Rate: 95%  (21 / 22)    ||   Place Success Rate: 100%   (21 / 21)    ||   Place-and-Place Success Rate: 95%   (21 / 22)\n",
      "======================================\n",
      "=================Sample 122==================\n"
     ]
    },
    {
     "name": "stderr",
     "output_type": "stream",
     "text": [
      "100%|██████████| 499/499 [00:10<00:00, 49.83it/s]\n",
      "100%|██████████| 99/99 [00:07<00:00, 13.62it/s]\n"
     ]
    },
    {
     "name": "stdout",
     "output_type": "stream",
     "text": [
      "Pick inference time: 18.67591381072998\n",
      "Identified 7884 IK solutions with minimum distance of 1.446 in 0.754 seconds\n",
      "Pick success\n"
     ]
    },
    {
     "name": "stderr",
     "output_type": "stream",
     "text": [
      "100%|██████████| 499/499 [00:07<00:00, 69.77it/s]\n",
      "100%|██████████| 99/99 [00:04<00:00, 19.97it/s]\n"
     ]
    },
    {
     "name": "stdout",
     "output_type": "stream",
     "text": [
      "Place inference time: 13.262960195541382\n",
      "Identified 11498 IK solutions with minimum distance of 1.192 in 0.808 seconds\n",
      "Place Success\n",
      "Pick Success Rate: 95%  (22 / 23)    ||   Place Success Rate: 100%   (22 / 22)    ||   Place-and-Place Success Rate: 95%   (22 / 23)\n",
      "======================================\n",
      "=================Sample 123==================\n"
     ]
    },
    {
     "name": "stderr",
     "output_type": "stream",
     "text": [
      "100%|██████████| 499/499 [00:10<00:00, 48.29it/s]\n",
      "100%|██████████| 99/99 [00:07<00:00, 13.21it/s]\n"
     ]
    },
    {
     "name": "stdout",
     "output_type": "stream",
     "text": [
      "Pick inference time: 19.261537075042725\n",
      "Identified 3759 IK solutions with minimum distance of 1.861 in 0.291 seconds\n",
      "Pick success\n"
     ]
    },
    {
     "name": "stderr",
     "output_type": "stream",
     "text": [
      "100%|██████████| 499/499 [00:07<00:00, 69.83it/s]\n",
      "100%|██████████| 99/99 [00:05<00:00, 19.69it/s]\n"
     ]
    },
    {
     "name": "stdout",
     "output_type": "stream",
     "text": [
      "Place inference time: 13.276018381118774\n",
      "Identified 7925 IK solutions with minimum distance of 0.913 in 0.453 seconds\n",
      "Place Success\n",
      "Pick Success Rate: 95%  (23 / 24)    ||   Place Success Rate: 100%   (23 / 23)    ||   Place-and-Place Success Rate: 95%   (23 / 24)\n",
      "======================================\n",
      "=================Sample 124==================\n"
     ]
    },
    {
     "name": "stderr",
     "output_type": "stream",
     "text": [
      "100%|██████████| 499/499 [00:10<00:00, 46.66it/s]\n",
      "100%|██████████| 99/99 [00:07<00:00, 13.20it/s]\n"
     ]
    },
    {
     "name": "stdout",
     "output_type": "stream",
     "text": [
      "Pick inference time: 19.619587659835815\n",
      "Identified 8667 IK solutions with minimum distance of 1.937 in 0.990 seconds\n",
      "Pick success\n"
     ]
    },
    {
     "name": "stderr",
     "output_type": "stream",
     "text": [
      "100%|██████████| 499/499 [00:07<00:00, 69.96it/s]\n",
      "100%|██████████| 99/99 [00:04<00:00, 20.15it/s]\n"
     ]
    },
    {
     "name": "stdout",
     "output_type": "stream",
     "text": [
      "Place inference time: 13.204432964324951\n",
      "Identified 7295 IK solutions with minimum distance of 0.721 in 0.417 seconds\n",
      "Place Success\n",
      "Pick Success Rate: 96%  (24 / 25)    ||   Place Success Rate: 100%   (24 / 24)    ||   Place-and-Place Success Rate: 96%   (24 / 25)\n",
      "======================================\n",
      "=================Sample 125==================\n"
     ]
    },
    {
     "name": "stderr",
     "output_type": "stream",
     "text": [
      "100%|██████████| 499/499 [00:09<00:00, 50.01it/s]\n",
      "100%|██████████| 99/99 [00:06<00:00, 14.15it/s]\n"
     ]
    },
    {
     "name": "stdout",
     "output_type": "stream",
     "text": [
      "Pick inference time: 18.37799906730652\n",
      "Identified 8810 IK solutions with minimum distance of 2.377 in 1.204 seconds\n",
      "Pick success\n"
     ]
    },
    {
     "name": "stderr",
     "output_type": "stream",
     "text": [
      "100%|██████████| 499/499 [00:06<00:00, 71.91it/s]\n",
      "100%|██████████| 99/99 [00:05<00:00, 19.33it/s]\n"
     ]
    },
    {
     "name": "stdout",
     "output_type": "stream",
     "text": [
      "Place inference time: 13.206010818481445\n",
      "Identified 6518 IK solutions with minimum distance of 0.674 in 0.399 seconds\n",
      "Place Success\n",
      "Pick Success Rate: 96%  (25 / 26)    ||   Place Success Rate: 100%   (25 / 25)    ||   Place-and-Place Success Rate: 96%   (25 / 26)\n",
      "======================================\n",
      "=================Sample 126==================\n"
     ]
    },
    {
     "name": "stderr",
     "output_type": "stream",
     "text": [
      "100%|██████████| 499/499 [00:10<00:00, 47.93it/s]\n",
      "100%|██████████| 99/99 [00:07<00:00, 13.28it/s]\n"
     ]
    },
    {
     "name": "stdout",
     "output_type": "stream",
     "text": [
      "Pick inference time: 19.24301052093506\n",
      "Identified 7822 IK solutions with minimum distance of 1.323 in 0.696 seconds\n",
      "Pick fail\n",
      "Pick Success Rate: 92%  (25 / 27)    ||   Place Success Rate: 100%   (25 / 25)    ||   Place-and-Place Success Rate: 92%   (25 / 27)\n",
      "======================================\n",
      "=================Sample 127==================\n"
     ]
    },
    {
     "name": "stderr",
     "output_type": "stream",
     "text": [
      "100%|██████████| 499/499 [00:10<00:00, 49.20it/s]\n",
      "100%|██████████| 99/99 [00:07<00:00, 13.51it/s]\n"
     ]
    },
    {
     "name": "stdout",
     "output_type": "stream",
     "text": [
      "Pick inference time: 18.836162328720093\n",
      "Identified 5244 IK solutions with minimum distance of 2.139 in 0.664 seconds\n",
      "Pick fail\n",
      "Pick Success Rate: 89%  (25 / 28)    ||   Place Success Rate: 100%   (25 / 25)    ||   Place-and-Place Success Rate: 89%   (25 / 28)\n",
      "======================================\n",
      "=================Sample 128==================\n"
     ]
    },
    {
     "name": "stderr",
     "output_type": "stream",
     "text": [
      "100%|██████████| 499/499 [00:09<00:00, 51.38it/s]\n",
      "100%|██████████| 99/99 [00:06<00:00, 14.72it/s]\n"
     ]
    },
    {
     "name": "stdout",
     "output_type": "stream",
     "text": [
      "Pick inference time: 17.760051012039185\n",
      "Identified 5263 IK solutions with minimum distance of 1.223 in 0.359 seconds\n",
      "Pick success\n"
     ]
    },
    {
     "name": "stderr",
     "output_type": "stream",
     "text": [
      "100%|██████████| 499/499 [00:07<00:00, 69.08it/s]\n",
      "100%|██████████| 99/99 [00:04<00:00, 19.84it/s]\n"
     ]
    },
    {
     "name": "stdout",
     "output_type": "stream",
     "text": [
      "Place inference time: 13.446493148803711\n",
      "Identified 9255 IK solutions with minimum distance of 0.919 in 0.624 seconds\n",
      "Place Success\n",
      "Pick Success Rate: 89%  (26 / 29)    ||   Place Success Rate: 100%   (26 / 26)    ||   Place-and-Place Success Rate: 89%   (26 / 29)\n",
      "======================================\n",
      "=================Sample 129==================\n"
     ]
    },
    {
     "name": "stderr",
     "output_type": "stream",
     "text": [
      "100%|██████████| 499/499 [00:10<00:00, 47.96it/s]\n",
      "100%|██████████| 99/99 [00:07<00:00, 13.40it/s]\n"
     ]
    },
    {
     "name": "stdout",
     "output_type": "stream",
     "text": [
      "Pick inference time: 19.16770601272583\n",
      "Identified 5510 IK solutions with minimum distance of 2.437 in 0.876 seconds\n",
      "Pick success\n"
     ]
    },
    {
     "name": "stderr",
     "output_type": "stream",
     "text": [
      "100%|██████████| 499/499 [00:07<00:00, 68.00it/s]\n",
      "100%|██████████| 99/99 [00:05<00:00, 19.73it/s]\n"
     ]
    },
    {
     "name": "stdout",
     "output_type": "stream",
     "text": [
      "Place inference time: 13.444845199584961\n",
      "Identified 5812 IK solutions with minimum distance of 0.804 in 0.352 seconds\n",
      "Place Success\n",
      "Pick Success Rate: 90%  (27 / 30)    ||   Place Success Rate: 100%   (27 / 27)    ||   Place-and-Place Success Rate: 90%   (27 / 30)\n",
      "======================================\n",
      "=================Sample 130==================\n"
     ]
    },
    {
     "name": "stderr",
     "output_type": "stream",
     "text": [
      "100%|██████████| 499/499 [00:10<00:00, 49.09it/s]\n",
      "100%|██████████| 99/99 [00:07<00:00, 13.80it/s]\n"
     ]
    },
    {
     "name": "stdout",
     "output_type": "stream",
     "text": [
      "Pick inference time: 18.681854963302612\n",
      "Identified 10136 IK solutions with minimum distance of 1.287 in 0.841 seconds\n",
      "Pick success\n"
     ]
    },
    {
     "name": "stderr",
     "output_type": "stream",
     "text": [
      "100%|██████████| 499/499 [00:07<00:00, 69.18it/s]\n",
      "100%|██████████| 99/99 [00:05<00:00, 19.25it/s]\n"
     ]
    },
    {
     "name": "stdout",
     "output_type": "stream",
     "text": [
      "Place inference time: 13.469084024429321\n",
      "Identified 6178 IK solutions with minimum distance of 1.304 in 0.763 seconds\n",
      "Place Success\n",
      "Pick Success Rate: 90%  (28 / 31)    ||   Place Success Rate: 100%   (28 / 28)    ||   Place-and-Place Success Rate: 90%   (28 / 31)\n",
      "======================================\n",
      "=================Sample 131==================\n"
     ]
    },
    {
     "name": "stderr",
     "output_type": "stream",
     "text": [
      "100%|██████████| 499/499 [00:10<00:00, 48.49it/s]\n",
      "100%|██████████| 99/99 [00:07<00:00, 13.21it/s]\n"
     ]
    },
    {
     "name": "stdout",
     "output_type": "stream",
     "text": [
      "Pick inference time: 19.221763134002686\n",
      "Identified 4070 IK solutions with minimum distance of 2.099 in 0.305 seconds\n",
      "Pick success\n"
     ]
    },
    {
     "name": "stderr",
     "output_type": "stream",
     "text": [
      "100%|██████████| 499/499 [00:07<00:00, 70.44it/s]\n",
      "100%|██████████| 99/99 [00:04<00:00, 19.81it/s]\n"
     ]
    },
    {
     "name": "stdout",
     "output_type": "stream",
     "text": [
      "Place inference time: 13.213759660720825\n",
      "Identified 8073 IK solutions with minimum distance of 0.839 in 0.452 seconds\n",
      "Place Success\n",
      "Pick Success Rate: 90%  (29 / 32)    ||   Place Success Rate: 100%   (29 / 29)    ||   Place-and-Place Success Rate: 90%   (29 / 32)\n",
      "======================================\n",
      "=================Sample 132==================\n"
     ]
    },
    {
     "name": "stderr",
     "output_type": "stream",
     "text": [
      "100%|██████████| 499/499 [00:10<00:00, 48.43it/s]\n",
      "100%|██████████| 99/99 [00:07<00:00, 13.35it/s]\n"
     ]
    },
    {
     "name": "stdout",
     "output_type": "stream",
     "text": [
      "Pick inference time: 19.117458820343018\n",
      "Identified 4502 IK solutions with minimum distance of 1.202 in 0.312 seconds\n",
      "Pick success\n"
     ]
    },
    {
     "name": "stderr",
     "output_type": "stream",
     "text": [
      "100%|██████████| 499/499 [00:07<00:00, 70.64it/s]\n",
      "100%|██████████| 99/99 [00:05<00:00, 19.46it/s]\n"
     ]
    },
    {
     "name": "stdout",
     "output_type": "stream",
     "text": [
      "Place inference time: 13.291990518569946\n",
      "Identified 6947 IK solutions with minimum distance of 0.754 in 0.417 seconds\n",
      "Place Success\n",
      "Pick Success Rate: 90%  (30 / 33)    ||   Place Success Rate: 100%   (30 / 30)    ||   Place-and-Place Success Rate: 90%   (30 / 33)\n",
      "======================================\n",
      "=================Sample 133==================\n"
     ]
    },
    {
     "name": "stderr",
     "output_type": "stream",
     "text": [
      "100%|██████████| 499/499 [00:10<00:00, 47.32it/s]\n",
      "100%|██████████| 99/99 [00:07<00:00, 12.53it/s]\n"
     ]
    },
    {
     "name": "stdout",
     "output_type": "stream",
     "text": [
      "Pick inference time: 19.922517776489258\n",
      "Identified 9067 IK solutions with minimum distance of 2.182 in 1.001 seconds\n",
      "Pick success\n"
     ]
    },
    {
     "name": "stderr",
     "output_type": "stream",
     "text": [
      "100%|██████████| 499/499 [00:07<00:00, 69.03it/s]\n",
      "100%|██████████| 99/99 [00:05<00:00, 18.17it/s]\n"
     ]
    },
    {
     "name": "stdout",
     "output_type": "stream",
     "text": [
      "Place inference time: 13.813484907150269\n",
      "Identified 7132 IK solutions with minimum distance of 0.763 in 0.416 seconds\n",
      "Place Success\n",
      "Pick Success Rate: 91%  (31 / 34)    ||   Place Success Rate: 100%   (31 / 31)    ||   Place-and-Place Success Rate: 91%   (31 / 34)\n",
      "======================================\n",
      "=================Sample 134==================\n"
     ]
    },
    {
     "name": "stderr",
     "output_type": "stream",
     "text": [
      "100%|██████████| 499/499 [00:10<00:00, 48.13it/s]\n",
      "100%|██████████| 99/99 [00:06<00:00, 14.47it/s]\n"
     ]
    },
    {
     "name": "stdout",
     "output_type": "stream",
     "text": [
      "Pick inference time: 18.583635568618774\n",
      "Identified 5502 IK solutions with minimum distance of 1.154 in 0.347 seconds\n",
      "Pick success\n"
     ]
    },
    {
     "name": "stderr",
     "output_type": "stream",
     "text": [
      "100%|██████████| 499/499 [00:07<00:00, 70.97it/s]\n",
      "100%|██████████| 99/99 [00:05<00:00, 19.11it/s]\n"
     ]
    },
    {
     "name": "stdout",
     "output_type": "stream",
     "text": [
      "Place inference time: 13.354145765304565\n",
      "Identified 6888 IK solutions with minimum distance of 0.736 in 0.394 seconds\n",
      "Place Success\n",
      "Pick Success Rate: 91%  (32 / 35)    ||   Place Success Rate: 100%   (32 / 32)    ||   Place-and-Place Success Rate: 91%   (32 / 35)\n",
      "======================================\n",
      "=================Sample 135==================\n"
     ]
    },
    {
     "name": "stderr",
     "output_type": "stream",
     "text": [
      "100%|██████████| 499/499 [00:10<00:00, 47.99it/s]\n",
      "100%|██████████| 99/99 [00:06<00:00, 14.25it/s]\n"
     ]
    },
    {
     "name": "stdout",
     "output_type": "stream",
     "text": [
      "Pick inference time: 18.725497245788574\n",
      "Identified 4500 IK solutions with minimum distance of 2.177 in 0.473 seconds\n",
      "Pick success\n"
     ]
    },
    {
     "name": "stderr",
     "output_type": "stream",
     "text": [
      "100%|██████████| 499/499 [00:07<00:00, 68.93it/s]\n",
      "100%|██████████| 99/99 [00:04<00:00, 19.84it/s]\n"
     ]
    },
    {
     "name": "stdout",
     "output_type": "stream",
     "text": [
      "Place inference time: 13.34144926071167\n",
      "Identified 7401 IK solutions with minimum distance of 0.756 in 0.436 seconds\n",
      "Place Success\n",
      "Pick Success Rate: 91%  (33 / 36)    ||   Place Success Rate: 100%   (33 / 33)    ||   Place-and-Place Success Rate: 91%   (33 / 36)\n",
      "======================================\n",
      "=================Sample 136==================\n"
     ]
    },
    {
     "name": "stderr",
     "output_type": "stream",
     "text": [
      "100%|██████████| 499/499 [00:10<00:00, 45.56it/s]\n",
      "100%|██████████| 99/99 [00:07<00:00, 12.53it/s]\n"
     ]
    },
    {
     "name": "stdout",
     "output_type": "stream",
     "text": [
      "Pick inference time: 20.304905891418457\n",
      "Identified 9160 IK solutions with minimum distance of 1.107 in 0.702 seconds\n",
      "Pick success\n"
     ]
    },
    {
     "name": "stderr",
     "output_type": "stream",
     "text": [
      "100%|██████████| 499/499 [00:07<00:00, 70.59it/s]\n",
      "100%|██████████| 99/99 [00:05<00:00, 19.40it/s]\n"
     ]
    },
    {
     "name": "stdout",
     "output_type": "stream",
     "text": [
      "Place inference time: 13.327873229980469\n",
      "Identified 5435 IK solutions with minimum distance of 0.817 in 0.307 seconds\n",
      "Place Success\n",
      "Pick Success Rate: 91%  (34 / 37)    ||   Place Success Rate: 100%   (34 / 34)    ||   Place-and-Place Success Rate: 91%   (34 / 37)\n",
      "======================================\n",
      "=================Sample 137==================\n"
     ]
    },
    {
     "name": "stderr",
     "output_type": "stream",
     "text": [
      "100%|██████████| 499/499 [00:10<00:00, 49.47it/s]\n",
      "100%|██████████| 99/99 [00:06<00:00, 14.49it/s]\n"
     ]
    },
    {
     "name": "stdout",
     "output_type": "stream",
     "text": [
      "Pick inference time: 18.308778524398804\n",
      "Identified 6317 IK solutions with minimum distance of 1.741 in 0.746 seconds\n",
      "Pick success\n"
     ]
    },
    {
     "name": "stderr",
     "output_type": "stream",
     "text": [
      "100%|██████████| 499/499 [00:07<00:00, 69.92it/s]\n",
      "100%|██████████| 99/99 [00:05<00:00, 19.42it/s]\n"
     ]
    },
    {
     "name": "stdout",
     "output_type": "stream",
     "text": [
      "Place inference time: 13.413299560546875\n",
      "Identified 5697 IK solutions with minimum distance of 0.743 in 0.328 seconds\n",
      "Place Success\n",
      "Pick Success Rate: 92%  (35 / 38)    ||   Place Success Rate: 100%   (35 / 35)    ||   Place-and-Place Success Rate: 92%   (35 / 38)\n",
      "======================================\n",
      "=================Sample 138==================\n"
     ]
    },
    {
     "name": "stderr",
     "output_type": "stream",
     "text": [
      "100%|██████████| 499/499 [00:10<00:00, 49.43it/s]\n",
      "100%|██████████| 99/99 [00:06<00:00, 14.74it/s]\n"
     ]
    },
    {
     "name": "stdout",
     "output_type": "stream",
     "text": [
      "Pick inference time: 18.146818161010742\n",
      "Identified 3229 IK solutions with minimum distance of 1.376 in 0.264 seconds\n",
      "Pick fail\n",
      "Pick Success Rate: 89%  (35 / 39)    ||   Place Success Rate: 100%   (35 / 35)    ||   Place-and-Place Success Rate: 89%   (35 / 39)\n",
      "======================================\n",
      "=================Sample 139==================\n"
     ]
    },
    {
     "name": "stderr",
     "output_type": "stream",
     "text": [
      "100%|██████████| 499/499 [00:10<00:00, 48.79it/s]\n",
      "100%|██████████| 99/99 [00:07<00:00, 13.50it/s]\n"
     ]
    },
    {
     "name": "stdout",
     "output_type": "stream",
     "text": [
      "Pick inference time: 19.065199851989746\n",
      "Identified 8002 IK solutions with minimum distance of 2.417 in 1.175 seconds\n",
      "Pick success\n"
     ]
    },
    {
     "name": "stderr",
     "output_type": "stream",
     "text": [
      "100%|██████████| 499/499 [00:07<00:00, 68.08it/s]\n",
      "100%|██████████| 99/99 [00:05<00:00, 19.09it/s]\n"
     ]
    },
    {
     "name": "stdout",
     "output_type": "stream",
     "text": [
      "Place inference time: 13.650736331939697\n",
      "Identified 9698 IK solutions with minimum distance of 1.200 in 0.743 seconds\n",
      "Place Success\n",
      "Pick Success Rate: 90%  (36 / 40)    ||   Place Success Rate: 100%   (36 / 36)    ||   Place-and-Place Success Rate: 90%   (36 / 40)\n",
      "======================================\n",
      "=================Sample 140==================\n"
     ]
    },
    {
     "name": "stderr",
     "output_type": "stream",
     "text": [
      "100%|██████████| 499/499 [00:09<00:00, 52.75it/s]\n",
      "100%|██████████| 99/99 [00:06<00:00, 15.21it/s]\n"
     ]
    },
    {
     "name": "stdout",
     "output_type": "stream",
     "text": [
      "Pick inference time: 17.25423240661621\n",
      "Identified 3403 IK solutions with minimum distance of 1.867 in 0.259 seconds\n",
      "Pick success\n"
     ]
    },
    {
     "name": "stderr",
     "output_type": "stream",
     "text": [
      "100%|██████████| 499/499 [00:07<00:00, 70.72it/s]\n",
      "100%|██████████| 99/99 [00:05<00:00, 19.74it/s]\n"
     ]
    },
    {
     "name": "stdout",
     "output_type": "stream",
     "text": [
      "Place inference time: 13.171846628189087\n",
      "Identified 5366 IK solutions with minimum distance of 1.035 in 0.315 seconds\n",
      "Place Success\n",
      "Pick Success Rate: 90%  (37 / 41)    ||   Place Success Rate: 100%   (37 / 37)    ||   Place-and-Place Success Rate: 90%   (37 / 41)\n",
      "======================================\n",
      "=================Sample 141==================\n"
     ]
    },
    {
     "name": "stderr",
     "output_type": "stream",
     "text": [
      "100%|██████████| 499/499 [00:09<00:00, 52.18it/s]\n",
      "100%|██████████| 99/99 [00:06<00:00, 14.48it/s]\n"
     ]
    },
    {
     "name": "stdout",
     "output_type": "stream",
     "text": [
      "Pick inference time: 17.770739793777466\n",
      "Identified 7458 IK solutions with minimum distance of 1.875 in 0.947 seconds\n",
      "Pick success\n"
     ]
    },
    {
     "name": "stderr",
     "output_type": "stream",
     "text": [
      "100%|██████████| 499/499 [00:07<00:00, 69.95it/s]\n",
      "100%|██████████| 99/99 [00:04<00:00, 19.82it/s]\n"
     ]
    },
    {
     "name": "stdout",
     "output_type": "stream",
     "text": [
      "Place inference time: 13.274478912353516\n",
      "Identified 8890 IK solutions with minimum distance of 1.360 in 0.855 seconds\n",
      "Place Success\n",
      "Pick Success Rate: 90%  (38 / 42)    ||   Place Success Rate: 100%   (38 / 38)    ||   Place-and-Place Success Rate: 90%   (38 / 42)\n",
      "======================================\n",
      "=================Sample 142==================\n"
     ]
    },
    {
     "name": "stderr",
     "output_type": "stream",
     "text": [
      "100%|██████████| 499/499 [00:09<00:00, 50.14it/s]\n",
      "100%|██████████| 99/99 [00:06<00:00, 14.56it/s]\n"
     ]
    },
    {
     "name": "stdout",
     "output_type": "stream",
     "text": [
      "Pick inference time: 18.107117891311646\n",
      "Identified 6821 IK solutions with minimum distance of 1.602 in 0.704 seconds\n",
      "Pick success\n"
     ]
    },
    {
     "name": "stderr",
     "output_type": "stream",
     "text": [
      "100%|██████████| 499/499 [00:07<00:00, 68.80it/s]\n",
      "100%|██████████| 99/99 [00:04<00:00, 20.17it/s]\n"
     ]
    },
    {
     "name": "stdout",
     "output_type": "stream",
     "text": [
      "Place inference time: 13.295941829681396\n",
      "Identified 7550 IK solutions with minimum distance of 1.054 in 0.430 seconds\n",
      "Place Success\n",
      "Pick Success Rate: 90%  (39 / 43)    ||   Place Success Rate: 100%   (39 / 39)    ||   Place-and-Place Success Rate: 90%   (39 / 43)\n",
      "======================================\n",
      "=================Sample 143==================\n"
     ]
    },
    {
     "name": "stderr",
     "output_type": "stream",
     "text": [
      "100%|██████████| 499/499 [00:09<00:00, 50.39it/s]\n",
      "100%|██████████| 99/99 [00:06<00:00, 14.59it/s]\n"
     ]
    },
    {
     "name": "stdout",
     "output_type": "stream",
     "text": [
      "Pick inference time: 18.044244527816772\n",
      "Identified 3063 IK solutions with minimum distance of 2.055 in 0.244 seconds\n",
      "Pick success\n"
     ]
    },
    {
     "name": "stderr",
     "output_type": "stream",
     "text": [
      "100%|██████████| 499/499 [00:07<00:00, 70.58it/s]\n",
      "100%|██████████| 99/99 [00:05<00:00, 19.04it/s]\n"
     ]
    },
    {
     "name": "stdout",
     "output_type": "stream",
     "text": [
      "Place inference time: 13.399452686309814\n",
      "Identified 6959 IK solutions with minimum distance of 0.753 in 0.412 seconds\n",
      "Place Success\n",
      "Pick Success Rate: 90%  (40 / 44)    ||   Place Success Rate: 100%   (40 / 40)    ||   Place-and-Place Success Rate: 90%   (40 / 44)\n",
      "======================================\n",
      "=================Sample 144==================\n"
     ]
    },
    {
     "name": "stderr",
     "output_type": "stream",
     "text": [
      "100%|██████████| 499/499 [00:10<00:00, 48.34it/s]\n",
      "100%|██████████| 99/99 [00:07<00:00, 13.44it/s]\n"
     ]
    },
    {
     "name": "stdout",
     "output_type": "stream",
     "text": [
      "Pick inference time: 19.133891582489014\n",
      "Identified 6642 IK solutions with minimum distance of 1.695 in 0.835 seconds\n",
      "Pick success\n"
     ]
    },
    {
     "name": "stderr",
     "output_type": "stream",
     "text": [
      "100%|██████████| 499/499 [00:07<00:00, 68.48it/s]\n",
      "100%|██████████| 99/99 [00:05<00:00, 19.36it/s]\n"
     ]
    },
    {
     "name": "stdout",
     "output_type": "stream",
     "text": [
      "Place inference time: 13.547614812850952\n",
      "Identified 7075 IK solutions with minimum distance of 0.786 in 0.654 seconds\n",
      "Place Success\n",
      "Pick Success Rate: 91%  (41 / 45)    ||   Place Success Rate: 100%   (41 / 41)    ||   Place-and-Place Success Rate: 91%   (41 / 45)\n",
      "======================================\n",
      "=================Sample 145==================\n"
     ]
    },
    {
     "name": "stderr",
     "output_type": "stream",
     "text": [
      "100%|██████████| 499/499 [00:10<00:00, 47.43it/s]\n",
      "100%|██████████| 99/99 [00:07<00:00, 13.01it/s]\n"
     ]
    },
    {
     "name": "stdout",
     "output_type": "stream",
     "text": [
      "Pick inference time: 19.597450971603394\n",
      "Identified 7331 IK solutions with minimum distance of 0.905 in 0.687 seconds\n",
      "Pick success\n"
     ]
    },
    {
     "name": "stderr",
     "output_type": "stream",
     "text": [
      "100%|██████████| 499/499 [00:07<00:00, 67.54it/s]\n",
      "100%|██████████| 99/99 [00:05<00:00, 19.71it/s]\n"
     ]
    },
    {
     "name": "stdout",
     "output_type": "stream",
     "text": [
      "Place inference time: 13.648793697357178\n",
      "Identified 6594 IK solutions with minimum distance of 0.865 in 0.396 seconds\n",
      "Place Success\n",
      "Pick Success Rate: 91%  (42 / 46)    ||   Place Success Rate: 100%   (42 / 42)    ||   Place-and-Place Success Rate: 91%   (42 / 46)\n",
      "======================================\n",
      "=================Sample 146==================\n"
     ]
    },
    {
     "name": "stderr",
     "output_type": "stream",
     "text": [
      "100%|██████████| 499/499 [00:10<00:00, 47.38it/s]\n",
      "100%|██████████| 99/99 [00:07<00:00, 12.85it/s]\n"
     ]
    },
    {
     "name": "stdout",
     "output_type": "stream",
     "text": [
      "Pick inference time: 19.679788827896118\n",
      "Identified 6351 IK solutions with minimum distance of 1.990 in 0.806 seconds\n",
      "Pick success\n"
     ]
    },
    {
     "name": "stderr",
     "output_type": "stream",
     "text": [
      "100%|██████████| 499/499 [00:07<00:00, 69.21it/s]\n",
      "100%|██████████| 99/99 [00:05<00:00, 19.57it/s]\n"
     ]
    },
    {
     "name": "stdout",
     "output_type": "stream",
     "text": [
      "Place inference time: 13.406496524810791\n",
      "Identified 7781 IK solutions with minimum distance of 0.832 in 0.582 seconds\n",
      "Place Success\n",
      "Pick Success Rate: 91%  (43 / 47)    ||   Place Success Rate: 100%   (43 / 43)    ||   Place-and-Place Success Rate: 91%   (43 / 47)\n",
      "======================================\n",
      "=================Sample 147==================\n"
     ]
    },
    {
     "name": "stderr",
     "output_type": "stream",
     "text": [
      "100%|██████████| 499/499 [00:09<00:00, 51.14it/s]\n",
      "100%|██████████| 99/99 [00:06<00:00, 14.20it/s]\n"
     ]
    },
    {
     "name": "stdout",
     "output_type": "stream",
     "text": [
      "Pick inference time: 18.133995056152344\n",
      "Identified 8034 IK solutions with minimum distance of 2.300 in 0.959 seconds\n",
      "Pick success\n"
     ]
    },
    {
     "name": "stderr",
     "output_type": "stream",
     "text": [
      "100%|██████████| 499/499 [00:07<00:00, 67.79it/s]\n",
      "100%|██████████| 99/99 [00:05<00:00, 18.89it/s]\n"
     ]
    },
    {
     "name": "stdout",
     "output_type": "stream",
     "text": [
      "Place inference time: 13.77844786643982\n",
      "Identified 4954 IK solutions with minimum distance of 0.928 in 0.268 seconds\n",
      "Place Success\n",
      "Pick Success Rate: 91%  (44 / 48)    ||   Place Success Rate: 100%   (44 / 44)    ||   Place-and-Place Success Rate: 91%   (44 / 48)\n",
      "======================================\n",
      "=================Sample 148==================\n"
     ]
    },
    {
     "name": "stderr",
     "output_type": "stream",
     "text": [
      "100%|██████████| 499/499 [00:10<00:00, 49.76it/s]\n",
      "100%|██████████| 99/99 [00:06<00:00, 14.40it/s]\n"
     ]
    },
    {
     "name": "stdout",
     "output_type": "stream",
     "text": [
      "Pick inference time: 18.27131962776184\n",
      "Identified 4949 IK solutions with minimum distance of 2.453 in 0.607 seconds\n",
      "Pick success\n"
     ]
    },
    {
     "name": "stderr",
     "output_type": "stream",
     "text": [
      "100%|██████████| 499/499 [00:07<00:00, 70.22it/s]\n",
      "100%|██████████| 99/99 [00:04<00:00, 20.40it/s]\n"
     ]
    },
    {
     "name": "stdout",
     "output_type": "stream",
     "text": [
      "Place inference time: 13.04315447807312\n",
      "Identified 7734 IK solutions with minimum distance of 0.990 in 0.487 seconds\n",
      "Place Success\n",
      "Pick Success Rate: 91%  (45 / 49)    ||   Place Success Rate: 100%   (45 / 45)    ||   Place-and-Place Success Rate: 91%   (45 / 49)\n",
      "======================================\n",
      "=================Sample 149==================\n"
     ]
    },
    {
     "name": "stderr",
     "output_type": "stream",
     "text": [
      "100%|██████████| 499/499 [00:09<00:00, 51.53it/s]\n",
      "100%|██████████| 99/99 [00:06<00:00, 14.57it/s]\n"
     ]
    },
    {
     "name": "stdout",
     "output_type": "stream",
     "text": [
      "Pick inference time: 17.834656715393066\n",
      "Identified 4649 IK solutions with minimum distance of 1.240 in 0.343 seconds\n",
      "Pick success\n"
     ]
    },
    {
     "name": "stderr",
     "output_type": "stream",
     "text": [
      "100%|██████████| 499/499 [00:07<00:00, 69.54it/s]\n",
      "100%|██████████| 99/99 [00:05<00:00, 19.73it/s]\n"
     ]
    },
    {
     "name": "stdout",
     "output_type": "stream",
     "text": [
      "Place inference time: 13.335741996765137\n",
      "Identified 6620 IK solutions with minimum distance of 0.635 in 0.405 seconds\n",
      "Place Success\n",
      "Pick Success Rate: 92%  (46 / 50)    ||   Place Success Rate: 100%   (46 / 46)    ||   Place-and-Place Success Rate: 92%   (46 / 50)\n",
      "======================================\n",
      "=================Sample 150==================\n"
     ]
    },
    {
     "name": "stderr",
     "output_type": "stream",
     "text": [
      "100%|██████████| 499/499 [00:09<00:00, 50.16it/s]\n",
      "100%|██████████| 99/99 [00:07<00:00, 13.42it/s]\n"
     ]
    },
    {
     "name": "stdout",
     "output_type": "stream",
     "text": [
      "Pick inference time: 18.796574592590332\n",
      "Identified 8110 IK solutions with minimum distance of 1.951 in 1.325 seconds\n",
      "Pick success\n"
     ]
    },
    {
     "name": "stderr",
     "output_type": "stream",
     "text": [
      "100%|██████████| 499/499 [00:07<00:00, 67.40it/s]\n",
      "100%|██████████| 99/99 [00:05<00:00, 19.80it/s]\n"
     ]
    },
    {
     "name": "stdout",
     "output_type": "stream",
     "text": [
      "Place inference time: 13.517349243164062\n",
      "Identified 9616 IK solutions with minimum distance of 1.081 in 0.692 seconds\n",
      "Place Success\n",
      "Pick Success Rate: 92%  (47 / 51)    ||   Place Success Rate: 100%   (47 / 47)    ||   Place-and-Place Success Rate: 92%   (47 / 51)\n",
      "======================================\n",
      "=================Sample 151==================\n"
     ]
    },
    {
     "name": "stderr",
     "output_type": "stream",
     "text": [
      "100%|██████████| 499/499 [00:10<00:00, 48.07it/s]\n",
      "100%|██████████| 99/99 [00:07<00:00, 13.69it/s]\n"
     ]
    },
    {
     "name": "stdout",
     "output_type": "stream",
     "text": [
      "Pick inference time: 19.026623964309692\n",
      "Identified 3244 IK solutions with minimum distance of 1.440 in 0.258 seconds\n",
      "Pick success\n"
     ]
    },
    {
     "name": "stderr",
     "output_type": "stream",
     "text": [
      "100%|██████████| 499/499 [00:07<00:00, 68.91it/s]\n",
      "100%|██████████| 99/99 [00:05<00:00, 18.78it/s]\n"
     ]
    },
    {
     "name": "stdout",
     "output_type": "stream",
     "text": [
      "Place inference time: 13.667548894882202\n",
      "Identified 10011 IK solutions with minimum distance of 1.128 in 0.738 seconds\n",
      "Place Success\n",
      "Pick Success Rate: 92%  (48 / 52)    ||   Place Success Rate: 100%   (48 / 48)    ||   Place-and-Place Success Rate: 92%   (48 / 52)\n",
      "======================================\n",
      "=================Sample 152==================\n"
     ]
    },
    {
     "name": "stderr",
     "output_type": "stream",
     "text": [
      "100%|██████████| 499/499 [00:09<00:00, 53.05it/s]\n",
      "100%|██████████| 99/99 [00:06<00:00, 15.32it/s]\n"
     ]
    },
    {
     "name": "stdout",
     "output_type": "stream",
     "text": [
      "Pick inference time: 17.226733207702637\n",
      "Identified 9491 IK solutions with minimum distance of 2.713 in 1.289 seconds\n",
      "Pick success\n"
     ]
    },
    {
     "name": "stderr",
     "output_type": "stream",
     "text": [
      "100%|██████████| 499/499 [00:07<00:00, 70.97it/s]\n",
      "100%|██████████| 99/99 [00:05<00:00, 19.72it/s]\n"
     ]
    },
    {
     "name": "stdout",
     "output_type": "stream",
     "text": [
      "Place inference time: 13.252454042434692\n",
      "Identified 8945 IK solutions with minimum distance of 0.956 in 0.644 seconds\n",
      "Place Success\n",
      "Pick Success Rate: 92%  (49 / 53)    ||   Place Success Rate: 100%   (49 / 49)    ||   Place-and-Place Success Rate: 92%   (49 / 53)\n",
      "======================================\n",
      "=================Sample 153==================\n"
     ]
    },
    {
     "name": "stderr",
     "output_type": "stream",
     "text": [
      "100%|██████████| 499/499 [00:10<00:00, 49.07it/s]\n",
      "100%|██████████| 99/99 [00:07<00:00, 13.36it/s]\n"
     ]
    },
    {
     "name": "stdout",
     "output_type": "stream",
     "text": [
      "Pick inference time: 19.03614091873169\n",
      "Identified 10594 IK solutions with minimum distance of 1.383 in 0.860 seconds\n",
      "Pick success\n"
     ]
    },
    {
     "name": "stderr",
     "output_type": "stream",
     "text": [
      "100%|██████████| 499/499 [00:07<00:00, 68.69it/s]\n",
      "100%|██████████| 99/99 [00:05<00:00, 18.98it/s]\n"
     ]
    },
    {
     "name": "stdout",
     "output_type": "stream",
     "text": [
      "Place inference time: 13.736379623413086\n",
      "Identified 7036 IK solutions with minimum distance of 0.819 in 0.412 seconds\n",
      "Place Success\n",
      "Pick Success Rate: 92%  (50 / 54)    ||   Place Success Rate: 100%   (50 / 50)    ||   Place-and-Place Success Rate: 92%   (50 / 54)\n",
      "======================================\n",
      "=================Sample 154==================\n"
     ]
    },
    {
     "name": "stderr",
     "output_type": "stream",
     "text": [
      "100%|██████████| 499/499 [00:10<00:00, 47.83it/s]\n",
      "100%|██████████| 99/99 [00:07<00:00, 12.97it/s]\n"
     ]
    },
    {
     "name": "stdout",
     "output_type": "stream",
     "text": [
      "Pick inference time: 19.537036657333374\n",
      "Identified 6855 IK solutions with minimum distance of 2.268 in 0.948 seconds\n",
      "Pick success\n"
     ]
    },
    {
     "name": "stderr",
     "output_type": "stream",
     "text": [
      "100%|██████████| 499/499 [00:07<00:00, 68.37it/s]\n",
      "100%|██████████| 99/99 [00:04<00:00, 19.94it/s]\n"
     ]
    },
    {
     "name": "stdout",
     "output_type": "stream",
     "text": [
      "Place inference time: 13.401194334030151\n",
      "Identified 8289 IK solutions with minimum distance of 0.814 in 0.440 seconds\n",
      "Place Success\n",
      "Pick Success Rate: 92%  (51 / 55)    ||   Place Success Rate: 100%   (51 / 51)    ||   Place-and-Place Success Rate: 92%   (51 / 55)\n",
      "======================================\n",
      "=================Sample 155==================\n"
     ]
    },
    {
     "name": "stderr",
     "output_type": "stream",
     "text": [
      "100%|██████████| 499/499 [00:10<00:00, 48.94it/s]\n",
      "100%|██████████| 99/99 [00:07<00:00, 13.85it/s]\n"
     ]
    },
    {
     "name": "stdout",
     "output_type": "stream",
     "text": [
      "Pick inference time: 18.744662284851074\n",
      "Identified 3412 IK solutions with minimum distance of 2.351 in 0.300 seconds\n",
      "Pick success\n"
     ]
    },
    {
     "name": "stderr",
     "output_type": "stream",
     "text": [
      "100%|██████████| 499/499 [00:07<00:00, 69.39it/s]\n",
      "100%|██████████| 99/99 [00:05<00:00, 19.68it/s]\n"
     ]
    },
    {
     "name": "stdout",
     "output_type": "stream",
     "text": [
      "Place inference time: 13.354964017868042\n",
      "Identified 7402 IK solutions with minimum distance of 1.044 in 0.405 seconds\n",
      "Place Success\n",
      "Pick Success Rate: 92%  (52 / 56)    ||   Place Success Rate: 100%   (52 / 52)    ||   Place-and-Place Success Rate: 92%   (52 / 56)\n",
      "======================================\n",
      "=================Sample 156==================\n"
     ]
    },
    {
     "name": "stderr",
     "output_type": "stream",
     "text": [
      "100%|██████████| 499/499 [00:09<00:00, 49.99it/s]\n",
      "100%|██████████| 99/99 [00:07<00:00, 13.73it/s]\n"
     ]
    },
    {
     "name": "stdout",
     "output_type": "stream",
     "text": [
      "Pick inference time: 18.612093687057495\n",
      "Identified 4157 IK solutions with minimum distance of 1.984 in 0.528 seconds\n",
      "Pick success\n"
     ]
    },
    {
     "name": "stderr",
     "output_type": "stream",
     "text": [
      "100%|██████████| 499/499 [00:07<00:00, 69.48it/s]\n",
      "100%|██████████| 99/99 [00:04<00:00, 20.31it/s]\n"
     ]
    },
    {
     "name": "stdout",
     "output_type": "stream",
     "text": [
      "Place inference time: 13.208197116851807\n",
      "Identified 9319 IK solutions with minimum distance of 0.946 in 0.625 seconds\n",
      "Place Success\n",
      "Pick Success Rate: 92%  (53 / 57)    ||   Place Success Rate: 100%   (53 / 53)    ||   Place-and-Place Success Rate: 92%   (53 / 57)\n",
      "======================================\n",
      "=================Sample 157==================\n"
     ]
    },
    {
     "name": "stderr",
     "output_type": "stream",
     "text": [
      "100%|██████████| 499/499 [00:10<00:00, 49.58it/s]\n",
      "100%|██████████| 99/99 [00:06<00:00, 14.26it/s]\n"
     ]
    },
    {
     "name": "stdout",
     "output_type": "stream",
     "text": [
      "Pick inference time: 18.44762635231018\n",
      "Identified 5804 IK solutions with minimum distance of 1.223 in 0.386 seconds\n",
      "Pick success\n"
     ]
    },
    {
     "name": "stderr",
     "output_type": "stream",
     "text": [
      "100%|██████████| 499/499 [00:07<00:00, 69.93it/s]\n",
      "100%|██████████| 99/99 [00:05<00:00, 19.53it/s]\n"
     ]
    },
    {
     "name": "stdout",
     "output_type": "stream",
     "text": [
      "Place inference time: 13.343071937561035\n",
      "Identified 0 IK solutions with minimum distance of inf in 0.091 seconds\n",
      "Identified 0 IK solutions with minimum distance of inf in 0.482 seconds\n",
      "place IK fail\n",
      "Place Fail\n",
      "Pick Success Rate: 93%  (54 / 58)    ||   Place Success Rate: 98%   (53 / 54)    ||   Place-and-Place Success Rate: 91%   (53 / 58)\n",
      "======================================\n",
      "=================Sample 158==================\n"
     ]
    },
    {
     "name": "stderr",
     "output_type": "stream",
     "text": [
      "100%|██████████| 499/499 [00:10<00:00, 47.74it/s]\n",
      "100%|██████████| 99/99 [00:06<00:00, 14.28it/s]\n"
     ]
    },
    {
     "name": "stdout",
     "output_type": "stream",
     "text": [
      "Pick inference time: 18.807635068893433\n",
      "Identified 10403 IK solutions with minimum distance of 2.040 in 1.089 seconds\n",
      "Pick success\n"
     ]
    },
    {
     "name": "stderr",
     "output_type": "stream",
     "text": [
      "100%|██████████| 499/499 [00:07<00:00, 69.94it/s]\n",
      "100%|██████████| 99/99 [00:04<00:00, 20.29it/s]\n"
     ]
    },
    {
     "name": "stdout",
     "output_type": "stream",
     "text": [
      "Place inference time: 13.200779914855957\n",
      "Identified 4660 IK solutions with minimum distance of 0.970 in 0.254 seconds\n",
      "Place Success\n",
      "Pick Success Rate: 93%  (55 / 59)    ||   Place Success Rate: 98%   (54 / 55)    ||   Place-and-Place Success Rate: 91%   (54 / 59)\n",
      "======================================\n",
      "=================Sample 159==================\n"
     ]
    },
    {
     "name": "stderr",
     "output_type": "stream",
     "text": [
      "100%|██████████| 499/499 [00:09<00:00, 51.31it/s]\n",
      "100%|██████████| 99/99 [00:06<00:00, 14.90it/s]\n"
     ]
    },
    {
     "name": "stdout",
     "output_type": "stream",
     "text": [
      "Pick inference time: 17.75517725944519\n",
      "Identified 6882 IK solutions with minimum distance of 1.064 in 0.403 seconds\n",
      "Pick success\n"
     ]
    },
    {
     "name": "stderr",
     "output_type": "stream",
     "text": [
      "100%|██████████| 499/499 [00:07<00:00, 68.72it/s]\n",
      "100%|██████████| 99/99 [00:05<00:00, 19.22it/s]\n"
     ]
    },
    {
     "name": "stdout",
     "output_type": "stream",
     "text": [
      "Place inference time: 13.609819412231445\n",
      "Identified 8560 IK solutions with minimum distance of 0.984 in 0.648 seconds\n",
      "Place Success\n",
      "Pick Success Rate: 93%  (56 / 60)    ||   Place Success Rate: 98%   (55 / 56)    ||   Place-and-Place Success Rate: 91%   (55 / 60)\n",
      "======================================\n",
      "=================Sample 160==================\n"
     ]
    },
    {
     "name": "stderr",
     "output_type": "stream",
     "text": [
      "100%|██████████| 499/499 [00:10<00:00, 45.71it/s]\n",
      "100%|██████████| 99/99 [00:08<00:00, 12.10it/s]\n"
     ]
    },
    {
     "name": "stdout",
     "output_type": "stream",
     "text": [
      "Pick inference time: 20.61000108718872\n",
      "Identified 6585 IK solutions with minimum distance of 1.150 in 0.414 seconds\n",
      "Pick success\n"
     ]
    },
    {
     "name": "stderr",
     "output_type": "stream",
     "text": [
      "100%|██████████| 499/499 [00:07<00:00, 69.44it/s]\n",
      "100%|██████████| 99/99 [00:05<00:00, 19.63it/s]\n"
     ]
    },
    {
     "name": "stdout",
     "output_type": "stream",
     "text": [
      "Place inference time: 13.393853187561035\n",
      "Identified 6733 IK solutions with minimum distance of 0.676 in 0.397 seconds\n",
      "Place Success\n",
      "Pick Success Rate: 93%  (57 / 61)    ||   Place Success Rate: 98%   (56 / 57)    ||   Place-and-Place Success Rate: 91%   (56 / 61)\n",
      "======================================\n",
      "=================Sample 161==================\n"
     ]
    },
    {
     "name": "stderr",
     "output_type": "stream",
     "text": [
      "100%|██████████| 499/499 [00:10<00:00, 47.29it/s]\n",
      "100%|██████████| 99/99 [00:07<00:00, 12.50it/s]\n"
     ]
    },
    {
     "name": "stdout",
     "output_type": "stream",
     "text": [
      "Pick inference time: 20.000988721847534\n",
      "Identified 6959 IK solutions with minimum distance of 1.596 in 0.874 seconds\n",
      "Pick success\n"
     ]
    },
    {
     "name": "stderr",
     "output_type": "stream",
     "text": [
      "100%|██████████| 499/499 [00:07<00:00, 69.15it/s]\n",
      "100%|██████████| 99/99 [00:05<00:00, 19.58it/s]\n"
     ]
    },
    {
     "name": "stdout",
     "output_type": "stream",
     "text": [
      "Place inference time: 13.503661394119263\n",
      "Identified 11490 IK solutions with minimum distance of 1.190 in 0.750 seconds\n",
      "Place Success\n",
      "Pick Success Rate: 93%  (58 / 62)    ||   Place Success Rate: 98%   (57 / 58)    ||   Place-and-Place Success Rate: 91%   (57 / 62)\n",
      "======================================\n",
      "=================Sample 162==================\n"
     ]
    },
    {
     "name": "stderr",
     "output_type": "stream",
     "text": [
      "100%|██████████| 499/499 [00:10<00:00, 49.02it/s]\n",
      "100%|██████████| 99/99 [00:06<00:00, 14.19it/s]\n"
     ]
    },
    {
     "name": "stdout",
     "output_type": "stream",
     "text": [
      "Pick inference time: 18.525806665420532\n",
      "Identified 4486 IK solutions with minimum distance of 3.184 in 0.437 seconds\n",
      "Pick success\n"
     ]
    },
    {
     "name": "stderr",
     "output_type": "stream",
     "text": [
      "100%|██████████| 499/499 [00:07<00:00, 67.51it/s]\n",
      "100%|██████████| 99/99 [00:05<00:00, 19.65it/s]\n"
     ]
    },
    {
     "name": "stdout",
     "output_type": "stream",
     "text": [
      "Place inference time: 13.598585605621338\n",
      "Identified 6861 IK solutions with minimum distance of 0.801 in 0.408 seconds\n",
      "Place Success\n",
      "Pick Success Rate: 93%  (59 / 63)    ||   Place Success Rate: 98%   (58 / 59)    ||   Place-and-Place Success Rate: 92%   (58 / 63)\n",
      "======================================\n",
      "=================Sample 163==================\n"
     ]
    },
    {
     "name": "stderr",
     "output_type": "stream",
     "text": [
      "100%|██████████| 499/499 [00:09<00:00, 50.40it/s]\n",
      "100%|██████████| 99/99 [00:06<00:00, 14.38it/s]\n"
     ]
    },
    {
     "name": "stdout",
     "output_type": "stream",
     "text": [
      "Pick inference time: 18.13251256942749\n",
      "Identified 3752 IK solutions with minimum distance of 2.036 in 0.321 seconds\n",
      "Pick success\n"
     ]
    },
    {
     "name": "stderr",
     "output_type": "stream",
     "text": [
      "100%|██████████| 499/499 [00:07<00:00, 69.83it/s]\n",
      "100%|██████████| 99/99 [00:04<00:00, 20.07it/s]\n"
     ]
    },
    {
     "name": "stdout",
     "output_type": "stream",
     "text": [
      "Place inference time: 13.189881563186646\n",
      "Identified 8852 IK solutions with minimum distance of 1.030 in 0.632 seconds\n",
      "Place Success\n",
      "Pick Success Rate: 93%  (60 / 64)    ||   Place Success Rate: 98%   (59 / 60)    ||   Place-and-Place Success Rate: 92%   (59 / 64)\n",
      "======================================\n",
      "=================Sample 164==================\n"
     ]
    },
    {
     "name": "stderr",
     "output_type": "stream",
     "text": [
      "100%|██████████| 499/499 [00:10<00:00, 48.86it/s]\n",
      "100%|██████████| 99/99 [00:07<00:00, 13.93it/s]\n"
     ]
    },
    {
     "name": "stdout",
     "output_type": "stream",
     "text": [
      "Pick inference time: 18.701037645339966\n",
      "Identified 7330 IK solutions with minimum distance of 2.593 in 0.707 seconds\n",
      "Pick success\n"
     ]
    },
    {
     "name": "stderr",
     "output_type": "stream",
     "text": [
      "100%|██████████| 499/499 [00:07<00:00, 68.90it/s]\n",
      "100%|██████████| 99/99 [00:04<00:00, 19.93it/s]\n"
     ]
    },
    {
     "name": "stdout",
     "output_type": "stream",
     "text": [
      "Place inference time: 13.374961376190186\n",
      "Identified 6672 IK solutions with minimum distance of 0.704 in 0.393 seconds\n",
      "Place Success\n",
      "Pick Success Rate: 93%  (61 / 65)    ||   Place Success Rate: 98%   (60 / 61)    ||   Place-and-Place Success Rate: 92%   (60 / 65)\n",
      "======================================\n",
      "=================Sample 165==================\n"
     ]
    },
    {
     "name": "stderr",
     "output_type": "stream",
     "text": [
      "100%|██████████| 499/499 [00:09<00:00, 50.70it/s]\n",
      "100%|██████████| 99/99 [00:06<00:00, 14.17it/s]\n"
     ]
    },
    {
     "name": "stdout",
     "output_type": "stream",
     "text": [
      "Pick inference time: 18.20893955230713\n",
      "Identified 1938 IK solutions with minimum distance of 1.651 in 0.191 seconds\n",
      "Pick success\n"
     ]
    },
    {
     "name": "stderr",
     "output_type": "stream",
     "text": [
      "100%|██████████| 499/499 [00:07<00:00, 69.97it/s]\n",
      "100%|██████████| 99/99 [00:04<00:00, 19.88it/s]\n"
     ]
    },
    {
     "name": "stdout",
     "output_type": "stream",
     "text": [
      "Place inference time: 13.309976816177368\n",
      "Identified 0 IK solutions with minimum distance of inf in 0.095 seconds\n",
      "Identified 0 IK solutions with minimum distance of inf in 0.476 seconds\n",
      "place IK fail\n",
      "Place Fail\n",
      "Pick Success Rate: 93%  (62 / 66)    ||   Place Success Rate: 96%   (60 / 62)    ||   Place-and-Place Success Rate: 90%   (60 / 66)\n",
      "======================================\n",
      "=================Sample 166==================\n"
     ]
    },
    {
     "name": "stderr",
     "output_type": "stream",
     "text": [
      "100%|██████████| 499/499 [00:09<00:00, 50.35it/s]\n",
      "100%|██████████| 99/99 [00:06<00:00, 14.51it/s]\n"
     ]
    },
    {
     "name": "stdout",
     "output_type": "stream",
     "text": [
      "Pick inference time: 18.15205144882202\n",
      "Identified 2902 IK solutions with minimum distance of 1.807 in 0.407 seconds\n",
      "Pick success\n"
     ]
    },
    {
     "name": "stderr",
     "output_type": "stream",
     "text": [
      "100%|██████████| 499/499 [00:07<00:00, 67.99it/s]\n",
      "100%|██████████| 99/99 [00:05<00:00, 19.65it/s]\n"
     ]
    },
    {
     "name": "stdout",
     "output_type": "stream",
     "text": [
      "Place inference time: 13.507539987564087\n",
      "Identified 5636 IK solutions with minimum distance of 0.737 in 0.335 seconds\n",
      "Place Success\n",
      "Pick Success Rate: 94%  (63 / 67)    ||   Place Success Rate: 96%   (61 / 63)    ||   Place-and-Place Success Rate: 91%   (61 / 67)\n",
      "======================================\n",
      "=================Sample 167==================\n"
     ]
    },
    {
     "name": "stderr",
     "output_type": "stream",
     "text": [
      "100%|██████████| 499/499 [00:09<00:00, 50.35it/s]\n",
      "100%|██████████| 99/99 [00:07<00:00, 14.13it/s]\n"
     ]
    },
    {
     "name": "stdout",
     "output_type": "stream",
     "text": [
      "Pick inference time: 18.31987166404724\n",
      "Identified 5239 IK solutions with minimum distance of 1.456 in 0.534 seconds\n",
      "Pick success\n"
     ]
    },
    {
     "name": "stderr",
     "output_type": "stream",
     "text": [
      "100%|██████████| 499/499 [00:07<00:00, 68.59it/s]\n",
      "100%|██████████| 99/99 [00:05<00:00, 19.22it/s]\n"
     ]
    },
    {
     "name": "stdout",
     "output_type": "stream",
     "text": [
      "Place inference time: 13.541900634765625\n",
      "Identified 6011 IK solutions with minimum distance of 1.177 in 0.391 seconds\n",
      "Place Success\n",
      "Pick Success Rate: 94%  (64 / 68)    ||   Place Success Rate: 96%   (62 / 64)    ||   Place-and-Place Success Rate: 91%   (62 / 68)\n",
      "======================================\n",
      "=================Sample 168==================\n"
     ]
    },
    {
     "name": "stderr",
     "output_type": "stream",
     "text": [
      "100%|██████████| 499/499 [00:10<00:00, 49.23it/s]\n",
      "100%|██████████| 99/99 [00:07<00:00, 13.90it/s]\n"
     ]
    },
    {
     "name": "stdout",
     "output_type": "stream",
     "text": [
      "Pick inference time: 18.684577465057373\n",
      "Identified 4828 IK solutions with minimum distance of 2.453 in 0.530 seconds\n",
      "Pick success\n"
     ]
    },
    {
     "name": "stderr",
     "output_type": "stream",
     "text": [
      "100%|██████████| 499/499 [00:07<00:00, 69.62it/s]\n",
      "100%|██████████| 99/99 [00:04<00:00, 19.81it/s]\n"
     ]
    },
    {
     "name": "stdout",
     "output_type": "stream",
     "text": [
      "Place inference time: 13.310633659362793\n",
      "Identified 6940 IK solutions with minimum distance of 0.807 in 0.402 seconds\n",
      "Place Success\n",
      "Pick Success Rate: 94%  (65 / 69)    ||   Place Success Rate: 96%   (63 / 65)    ||   Place-and-Place Success Rate: 91%   (63 / 69)\n",
      "======================================\n",
      "=================Sample 169==================\n"
     ]
    },
    {
     "name": "stderr",
     "output_type": "stream",
     "text": [
      "100%|██████████| 499/499 [00:10<00:00, 48.85it/s]\n",
      "100%|██████████| 99/99 [00:06<00:00, 14.15it/s]\n"
     ]
    },
    {
     "name": "stdout",
     "output_type": "stream",
     "text": [
      "Pick inference time: 18.59353280067444\n",
      "Identified 4389 IK solutions with minimum distance of 2.343 in 0.327 seconds\n",
      "Pick success\n"
     ]
    },
    {
     "name": "stderr",
     "output_type": "stream",
     "text": [
      "100%|██████████| 499/499 [00:07<00:00, 68.24it/s]\n",
      "100%|██████████| 99/99 [00:05<00:00, 19.12it/s]\n"
     ]
    },
    {
     "name": "stdout",
     "output_type": "stream",
     "text": [
      "Place inference time: 13.628619194030762\n",
      "Identified 6749 IK solutions with minimum distance of 0.718 in 0.407 seconds\n",
      "Place Success\n",
      "Pick Success Rate: 94%  (66 / 70)    ||   Place Success Rate: 96%   (64 / 66)    ||   Place-and-Place Success Rate: 91%   (64 / 70)\n",
      "======================================\n",
      "=================Sample 170==================\n"
     ]
    },
    {
     "name": "stderr",
     "output_type": "stream",
     "text": [
      "100%|██████████| 499/499 [00:10<00:00, 48.00it/s]\n",
      "100%|██████████| 99/99 [00:07<00:00, 12.94it/s]\n"
     ]
    },
    {
     "name": "stdout",
     "output_type": "stream",
     "text": [
      "Pick inference time: 19.535013437271118\n",
      "Identified 12216 IK solutions with minimum distance of 2.439 in 1.246 seconds\n",
      "Pick success\n"
     ]
    },
    {
     "name": "stderr",
     "output_type": "stream",
     "text": [
      "100%|██████████| 499/499 [00:07<00:00, 69.58it/s]\n",
      "100%|██████████| 99/99 [00:05<00:00, 18.65it/s]\n"
     ]
    },
    {
     "name": "stdout",
     "output_type": "stream",
     "text": [
      "Place inference time: 13.70219349861145\n",
      "Identified 7335 IK solutions with minimum distance of 0.769 in 0.424 seconds\n",
      "Place Success\n",
      "Pick Success Rate: 94%  (67 / 71)    ||   Place Success Rate: 97%   (65 / 67)    ||   Place-and-Place Success Rate: 91%   (65 / 71)\n",
      "======================================\n",
      "=================Sample 171==================\n"
     ]
    },
    {
     "name": "stderr",
     "output_type": "stream",
     "text": [
      "100%|██████████| 499/499 [00:09<00:00, 50.39it/s]\n",
      "100%|██████████| 99/99 [00:06<00:00, 14.17it/s]\n"
     ]
    },
    {
     "name": "stdout",
     "output_type": "stream",
     "text": [
      "Pick inference time: 18.276095628738403\n",
      "Identified 4892 IK solutions with minimum distance of 2.120 in 0.353 seconds\n",
      "Pick success\n"
     ]
    },
    {
     "name": "stderr",
     "output_type": "stream",
     "text": [
      "100%|██████████| 499/499 [00:07<00:00, 69.26it/s]\n",
      "100%|██████████| 99/99 [00:05<00:00, 19.56it/s]\n"
     ]
    },
    {
     "name": "stdout",
     "output_type": "stream",
     "text": [
      "Place inference time: 13.402923583984375\n",
      "Identified 7231 IK solutions with minimum distance of 1.100 in 0.418 seconds\n",
      "Place Success\n",
      "Pick Success Rate: 94%  (68 / 72)    ||   Place Success Rate: 97%   (66 / 68)    ||   Place-and-Place Success Rate: 91%   (66 / 72)\n",
      "======================================\n",
      "=================Sample 172==================\n"
     ]
    },
    {
     "name": "stderr",
     "output_type": "stream",
     "text": [
      "100%|██████████| 499/499 [00:10<00:00, 48.55it/s]\n",
      "100%|██████████| 99/99 [00:07<00:00, 13.80it/s]\n"
     ]
    },
    {
     "name": "stdout",
     "output_type": "stream",
     "text": [
      "Pick inference time: 18.876991987228394\n",
      "Identified 9322 IK solutions with minimum distance of 1.356 in 0.800 seconds\n",
      "Pick success\n"
     ]
    },
    {
     "name": "stderr",
     "output_type": "stream",
     "text": [
      "100%|██████████| 499/499 [00:07<00:00, 71.27it/s]\n",
      "100%|██████████| 99/99 [00:04<00:00, 20.32it/s]\n"
     ]
    },
    {
     "name": "stdout",
     "output_type": "stream",
     "text": [
      "Place inference time: 13.0034921169281\n",
      "Identified 7181 IK solutions with minimum distance of 0.752 in 0.420 seconds\n",
      "Place Success\n",
      "Pick Success Rate: 94%  (69 / 73)    ||   Place Success Rate: 97%   (67 / 69)    ||   Place-and-Place Success Rate: 91%   (67 / 73)\n",
      "======================================\n",
      "=================Sample 173==================\n"
     ]
    },
    {
     "name": "stderr",
     "output_type": "stream",
     "text": [
      "100%|██████████| 499/499 [00:10<00:00, 47.68it/s]\n",
      "100%|██████████| 99/99 [00:07<00:00, 13.76it/s]\n"
     ]
    },
    {
     "name": "stdout",
     "output_type": "stream",
     "text": [
      "Pick inference time: 19.077387809753418\n",
      "Identified 11639 IK solutions with minimum distance of 2.140 in 1.176 seconds\n",
      "Pick success\n"
     ]
    },
    {
     "name": "stderr",
     "output_type": "stream",
     "text": [
      "100%|██████████| 499/499 [00:07<00:00, 69.33it/s]\n",
      "100%|██████████| 99/99 [00:05<00:00, 18.88it/s]\n"
     ]
    },
    {
     "name": "stdout",
     "output_type": "stream",
     "text": [
      "Place inference time: 13.610477209091187\n",
      "Identified 7876 IK solutions with minimum distance of 0.879 in 0.504 seconds\n",
      "Place Success\n",
      "Pick Success Rate: 94%  (70 / 74)    ||   Place Success Rate: 97%   (68 / 70)    ||   Place-and-Place Success Rate: 91%   (68 / 74)\n",
      "======================================\n",
      "=================Sample 174==================\n"
     ]
    },
    {
     "name": "stderr",
     "output_type": "stream",
     "text": [
      "100%|██████████| 499/499 [00:10<00:00, 49.26it/s]\n",
      "100%|██████████| 99/99 [00:07<00:00, 12.87it/s]\n"
     ]
    },
    {
     "name": "stdout",
     "output_type": "stream",
     "text": [
      "Pick inference time: 19.301337480545044\n",
      "Identified 7433 IK solutions with minimum distance of 2.313 in 1.072 seconds\n",
      "Pick success\n"
     ]
    },
    {
     "name": "stderr",
     "output_type": "stream",
     "text": [
      "100%|██████████| 499/499 [00:07<00:00, 70.05it/s]\n",
      "100%|██████████| 99/99 [00:05<00:00, 19.11it/s]\n"
     ]
    },
    {
     "name": "stdout",
     "output_type": "stream",
     "text": [
      "Place inference time: 13.480846405029297\n",
      "Identified 9409 IK solutions with minimum distance of 1.061 in 0.696 seconds\n",
      "Place Success\n",
      "Pick Success Rate: 94%  (71 / 75)    ||   Place Success Rate: 97%   (69 / 71)    ||   Place-and-Place Success Rate: 92%   (69 / 75)\n",
      "======================================\n",
      "=================Sample 175==================\n"
     ]
    },
    {
     "name": "stderr",
     "output_type": "stream",
     "text": [
      "100%|██████████| 499/499 [00:10<00:00, 49.65it/s]\n",
      "100%|██████████| 99/99 [00:07<00:00, 14.00it/s]\n"
     ]
    },
    {
     "name": "stdout",
     "output_type": "stream",
     "text": [
      "Pick inference time: 18.47286105155945\n",
      "Identified 5536 IK solutions with minimum distance of 1.138 in 0.352 seconds\n",
      "Pick success\n"
     ]
    },
    {
     "name": "stderr",
     "output_type": "stream",
     "text": [
      "100%|██████████| 499/499 [00:07<00:00, 69.07it/s]\n",
      "100%|██████████| 99/99 [00:05<00:00, 19.09it/s]\n"
     ]
    },
    {
     "name": "stdout",
     "output_type": "stream",
     "text": [
      "Place inference time: 13.704237222671509\n",
      "Identified 12799 IK solutions with minimum distance of 1.340 in 0.924 seconds\n",
      "Place Success\n",
      "Pick Success Rate: 94%  (72 / 76)    ||   Place Success Rate: 97%   (70 / 72)    ||   Place-and-Place Success Rate: 92%   (70 / 76)\n",
      "======================================\n",
      "=================Sample 176==================\n"
     ]
    },
    {
     "name": "stderr",
     "output_type": "stream",
     "text": [
      "100%|██████████| 499/499 [00:10<00:00, 49.15it/s]\n",
      "100%|██████████| 99/99 [00:07<00:00, 13.74it/s]\n"
     ]
    },
    {
     "name": "stdout",
     "output_type": "stream",
     "text": [
      "Pick inference time: 18.77989435195923\n",
      "Identified 8030 IK solutions with minimum distance of 2.441 in 1.043 seconds\n",
      "Pick success\n"
     ]
    },
    {
     "name": "stderr",
     "output_type": "stream",
     "text": [
      "100%|██████████| 499/499 [00:07<00:00, 68.05it/s]\n",
      "100%|██████████| 99/99 [00:05<00:00, 19.68it/s]\n"
     ]
    },
    {
     "name": "stdout",
     "output_type": "stream",
     "text": [
      "Place inference time: 13.552781581878662\n",
      "Identified 5170 IK solutions with minimum distance of 0.945 in 0.270 seconds\n",
      "Place Success\n",
      "Pick Success Rate: 94%  (73 / 77)    ||   Place Success Rate: 97%   (71 / 73)    ||   Place-and-Place Success Rate: 92%   (71 / 77)\n",
      "======================================\n",
      "=================Sample 177==================\n"
     ]
    },
    {
     "name": "stderr",
     "output_type": "stream",
     "text": [
      "100%|██████████| 499/499 [00:10<00:00, 46.99it/s]\n",
      "100%|██████████| 99/99 [00:07<00:00, 12.45it/s]\n"
     ]
    },
    {
     "name": "stdout",
     "output_type": "stream",
     "text": [
      "Pick inference time: 20.044129371643066\n",
      "Identified 7700 IK solutions with minimum distance of 2.229 in 0.948 seconds\n",
      "Pick success\n"
     ]
    },
    {
     "name": "stderr",
     "output_type": "stream",
     "text": [
      "100%|██████████| 499/499 [00:07<00:00, 70.14it/s]\n",
      "100%|██████████| 99/99 [00:05<00:00, 19.62it/s]\n"
     ]
    },
    {
     "name": "stdout",
     "output_type": "stream",
     "text": [
      "Place inference time: 13.300170660018921\n",
      "Identified 6484 IK solutions with minimum distance of 0.608 in 0.406 seconds\n",
      "Place Success\n",
      "Pick Success Rate: 94%  (74 / 78)    ||   Place Success Rate: 97%   (72 / 74)    ||   Place-and-Place Success Rate: 92%   (72 / 78)\n",
      "======================================\n",
      "=================Sample 178==================\n"
     ]
    },
    {
     "name": "stderr",
     "output_type": "stream",
     "text": [
      "100%|██████████| 499/499 [00:10<00:00, 48.41it/s]\n",
      "100%|██████████| 99/99 [00:07<00:00, 13.97it/s]\n"
     ]
    },
    {
     "name": "stdout",
     "output_type": "stream",
     "text": [
      "Pick inference time: 18.79988980293274\n",
      "Identified 6674 IK solutions with minimum distance of 2.105 in 0.961 seconds\n",
      "Pick success\n"
     ]
    },
    {
     "name": "stderr",
     "output_type": "stream",
     "text": [
      "100%|██████████| 499/499 [00:07<00:00, 67.84it/s]\n",
      "100%|██████████| 99/99 [00:05<00:00, 17.65it/s]\n"
     ]
    },
    {
     "name": "stdout",
     "output_type": "stream",
     "text": [
      "Place inference time: 14.093592643737793\n",
      "Identified 12202 IK solutions with minimum distance of 1.163 in 0.893 seconds\n",
      "Place Success\n",
      "Pick Success Rate: 94%  (75 / 79)    ||   Place Success Rate: 97%   (73 / 75)    ||   Place-and-Place Success Rate: 92%   (73 / 79)\n",
      "======================================\n",
      "=================Sample 179==================\n"
     ]
    },
    {
     "name": "stderr",
     "output_type": "stream",
     "text": [
      "100%|██████████| 499/499 [00:10<00:00, 48.77it/s]\n",
      "100%|██████████| 99/99 [00:07<00:00, 12.82it/s]\n"
     ]
    },
    {
     "name": "stdout",
     "output_type": "stream",
     "text": [
      "Pick inference time: 19.401428699493408\n",
      "Identified 7604 IK solutions with minimum distance of 1.648 in 0.787 seconds\n",
      "Pick success\n"
     ]
    },
    {
     "name": "stderr",
     "output_type": "stream",
     "text": [
      "100%|██████████| 499/499 [00:07<00:00, 68.45it/s]\n",
      "100%|██████████| 99/99 [00:05<00:00, 19.46it/s]\n"
     ]
    },
    {
     "name": "stdout",
     "output_type": "stream",
     "text": [
      "Place inference time: 13.649978160858154\n",
      "Identified 10036 IK solutions with minimum distance of 1.176 in 0.757 seconds\n",
      "Place Success\n",
      "Pick Success Rate: 95%  (76 / 80)    ||   Place Success Rate: 97%   (74 / 76)    ||   Place-and-Place Success Rate: 92%   (74 / 80)\n",
      "======================================\n",
      "=================Sample 180==================\n"
     ]
    },
    {
     "name": "stderr",
     "output_type": "stream",
     "text": [
      "100%|██████████| 499/499 [00:09<00:00, 51.41it/s]\n",
      "100%|██████████| 99/99 [00:06<00:00, 14.68it/s]\n"
     ]
    },
    {
     "name": "stdout",
     "output_type": "stream",
     "text": [
      "Pick inference time: 17.81450629234314\n",
      "Identified 12276 IK solutions with minimum distance of 2.504 in 1.223 seconds\n",
      "Pick success\n"
     ]
    },
    {
     "name": "stderr",
     "output_type": "stream",
     "text": [
      "100%|██████████| 499/499 [00:07<00:00, 69.35it/s]\n",
      "100%|██████████| 99/99 [00:05<00:00, 19.08it/s]\n"
     ]
    },
    {
     "name": "stdout",
     "output_type": "stream",
     "text": [
      "Place inference time: 13.616309642791748\n",
      "Identified 0 IK solutions with minimum distance of inf in 0.093 seconds\n",
      "Identified 0 IK solutions with minimum distance of inf in 0.486 seconds\n",
      "place IK fail\n",
      "Place Fail\n",
      "Pick Success Rate: 95%  (77 / 81)    ||   Place Success Rate: 96%   (74 / 77)    ||   Place-and-Place Success Rate: 91%   (74 / 81)\n",
      "======================================\n",
      "=================Sample 181==================\n"
     ]
    },
    {
     "name": "stderr",
     "output_type": "stream",
     "text": [
      "100%|██████████| 499/499 [00:10<00:00, 46.65it/s]\n",
      "100%|██████████| 99/99 [00:07<00:00, 12.79it/s]\n"
     ]
    },
    {
     "name": "stdout",
     "output_type": "stream",
     "text": [
      "Pick inference time: 19.8760404586792\n",
      "Identified 8834 IK solutions with minimum distance of 2.373 in 1.201 seconds\n",
      "Pick success\n"
     ]
    },
    {
     "name": "stderr",
     "output_type": "stream",
     "text": [
      "100%|██████████| 499/499 [00:07<00:00, 69.97it/s]\n",
      "100%|██████████| 99/99 [00:05<00:00, 19.76it/s]\n"
     ]
    },
    {
     "name": "stdout",
     "output_type": "stream",
     "text": [
      "Place inference time: 13.273242473602295\n",
      "Identified 8792 IK solutions with minimum distance of 1.012 in 0.614 seconds\n",
      "Place Success\n",
      "Pick Success Rate: 95%  (78 / 82)    ||   Place Success Rate: 96%   (75 / 78)    ||   Place-and-Place Success Rate: 91%   (75 / 82)\n",
      "======================================\n",
      "=================Sample 182==================\n"
     ]
    },
    {
     "name": "stderr",
     "output_type": "stream",
     "text": [
      "100%|██████████| 499/499 [00:09<00:00, 50.72it/s]\n",
      "100%|██████████| 99/99 [00:06<00:00, 14.24it/s]\n"
     ]
    },
    {
     "name": "stdout",
     "output_type": "stream",
     "text": [
      "Pick inference time: 18.19990587234497\n",
      "Identified 5419 IK solutions with minimum distance of 1.648 in 0.832 seconds\n",
      "Pick success\n"
     ]
    },
    {
     "name": "stderr",
     "output_type": "stream",
     "text": [
      "100%|██████████| 499/499 [00:07<00:00, 67.85it/s]\n",
      "100%|██████████| 99/99 [00:05<00:00, 19.23it/s]\n"
     ]
    },
    {
     "name": "stdout",
     "output_type": "stream",
     "text": [
      "Place inference time: 13.71757984161377\n",
      "Identified 5666 IK solutions with minimum distance of 0.831 in 0.331 seconds\n",
      "Place Success\n",
      "Pick Success Rate: 95%  (79 / 83)    ||   Place Success Rate: 96%   (76 / 79)    ||   Place-and-Place Success Rate: 91%   (76 / 83)\n",
      "======================================\n",
      "=================Sample 183==================\n"
     ]
    },
    {
     "name": "stderr",
     "output_type": "stream",
     "text": [
      "100%|██████████| 499/499 [00:09<00:00, 50.89it/s]\n",
      "100%|██████████| 99/99 [00:07<00:00, 14.10it/s]\n"
     ]
    },
    {
     "name": "stdout",
     "output_type": "stream",
     "text": [
      "Pick inference time: 18.24554705619812\n",
      "Identified 3654 IK solutions with minimum distance of 1.344 in 0.277 seconds\n",
      "Pick success\n"
     ]
    },
    {
     "name": "stderr",
     "output_type": "stream",
     "text": [
      "100%|██████████| 499/499 [00:07<00:00, 69.98it/s]\n",
      "100%|██████████| 99/99 [00:05<00:00, 19.67it/s]\n"
     ]
    },
    {
     "name": "stdout",
     "output_type": "stream",
     "text": [
      "Place inference time: 13.32953953742981\n",
      "Identified 7898 IK solutions with minimum distance of 0.925 in 0.591 seconds\n",
      "Place Success\n",
      "Pick Success Rate: 95%  (80 / 84)    ||   Place Success Rate: 96%   (77 / 80)    ||   Place-and-Place Success Rate: 91%   (77 / 84)\n",
      "======================================\n",
      "=================Sample 184==================\n"
     ]
    },
    {
     "name": "stderr",
     "output_type": "stream",
     "text": [
      "100%|██████████| 499/499 [00:10<00:00, 48.45it/s]\n",
      "100%|██████████| 99/99 [00:07<00:00, 12.97it/s]\n"
     ]
    },
    {
     "name": "stdout",
     "output_type": "stream",
     "text": [
      "Pick inference time: 19.41430425643921\n",
      "Identified 11174 IK solutions with minimum distance of 2.554 in 1.276 seconds\n",
      "Pick success\n"
     ]
    },
    {
     "name": "stderr",
     "output_type": "stream",
     "text": [
      "100%|██████████| 499/499 [00:07<00:00, 68.62it/s]\n",
      "100%|██████████| 99/99 [00:05<00:00, 19.71it/s]\n"
     ]
    },
    {
     "name": "stdout",
     "output_type": "stream",
     "text": [
      "Place inference time: 13.471222400665283\n",
      "Identified 8426 IK solutions with minimum distance of 1.860 in 1.082 seconds\n",
      "Place Success\n",
      "Pick Success Rate: 95%  (81 / 85)    ||   Place Success Rate: 96%   (78 / 81)    ||   Place-and-Place Success Rate: 91%   (78 / 85)\n",
      "======================================\n",
      "=================Sample 185==================\n"
     ]
    },
    {
     "name": "stderr",
     "output_type": "stream",
     "text": [
      "100%|██████████| 499/499 [00:10<00:00, 46.79it/s]\n",
      "100%|██████████| 99/99 [00:07<00:00, 13.10it/s]\n"
     ]
    },
    {
     "name": "stdout",
     "output_type": "stream",
     "text": [
      "Pick inference time: 19.664786100387573\n",
      "Identified 8042 IK solutions with minimum distance of 1.170 in 0.655 seconds\n",
      "Pick success\n"
     ]
    },
    {
     "name": "stderr",
     "output_type": "stream",
     "text": [
      "100%|██████████| 499/499 [00:07<00:00, 69.95it/s]\n",
      "100%|██████████| 99/99 [00:04<00:00, 19.94it/s]\n"
     ]
    },
    {
     "name": "stdout",
     "output_type": "stream",
     "text": [
      "Place inference time: 13.268866539001465\n",
      "Identified 9802 IK solutions with minimum distance of 1.055 in 0.685 seconds\n",
      "Place Success\n",
      "Pick Success Rate: 95%  (82 / 86)    ||   Place Success Rate: 96%   (79 / 82)    ||   Place-and-Place Success Rate: 91%   (79 / 86)\n",
      "======================================\n",
      "=================Sample 186==================\n"
     ]
    },
    {
     "name": "stderr",
     "output_type": "stream",
     "text": [
      "100%|██████████| 499/499 [00:10<00:00, 48.50it/s]\n",
      "100%|██████████| 99/99 [00:07<00:00, 13.19it/s]\n"
     ]
    },
    {
     "name": "stdout",
     "output_type": "stream",
     "text": [
      "Pick inference time: 19.240376472473145\n",
      "Identified 7797 IK solutions with minimum distance of 2.473 in 1.193 seconds\n",
      "Pick success\n"
     ]
    },
    {
     "name": "stderr",
     "output_type": "stream",
     "text": [
      "100%|██████████| 499/499 [00:07<00:00, 70.16it/s]\n",
      "100%|██████████| 99/99 [00:05<00:00, 17.63it/s]\n"
     ]
    },
    {
     "name": "stdout",
     "output_type": "stream",
     "text": [
      "Place inference time: 13.884607791900635\n",
      "Identified 6588 IK solutions with minimum distance of 0.641 in 0.384 seconds\n",
      "Place Success\n",
      "Pick Success Rate: 95%  (83 / 87)    ||   Place Success Rate: 96%   (80 / 83)    ||   Place-and-Place Success Rate: 91%   (80 / 87)\n",
      "======================================\n",
      "=================Sample 187==================\n"
     ]
    },
    {
     "name": "stderr",
     "output_type": "stream",
     "text": [
      "100%|██████████| 499/499 [00:10<00:00, 48.63it/s]\n",
      "100%|██████████| 99/99 [00:06<00:00, 14.49it/s]\n"
     ]
    },
    {
     "name": "stdout",
     "output_type": "stream",
     "text": [
      "Pick inference time: 18.480148553848267\n",
      "Identified 8858 IK solutions with minimum distance of 2.408 in 1.159 seconds\n",
      "Pick success\n"
     ]
    },
    {
     "name": "stderr",
     "output_type": "stream",
     "text": [
      "100%|██████████| 499/499 [00:07<00:00, 68.17it/s]\n",
      "100%|██████████| 99/99 [00:05<00:00, 18.88it/s]\n"
     ]
    },
    {
     "name": "stdout",
     "output_type": "stream",
     "text": [
      "Place inference time: 13.769120693206787\n",
      "Identified 7455 IK solutions with minimum distance of 0.866 in 0.438 seconds\n",
      "Place Success\n",
      "Pick Success Rate: 95%  (84 / 88)    ||   Place Success Rate: 96%   (81 / 84)    ||   Place-and-Place Success Rate: 92%   (81 / 88)\n",
      "======================================\n",
      "=================Sample 188==================\n"
     ]
    },
    {
     "name": "stderr",
     "output_type": "stream",
     "text": [
      "100%|██████████| 499/499 [00:10<00:00, 48.55it/s]\n",
      "100%|██████████| 99/99 [00:07<00:00, 12.77it/s]\n"
     ]
    },
    {
     "name": "stdout",
     "output_type": "stream",
     "text": [
      "Pick inference time: 19.5100359916687\n",
      "Identified 6344 IK solutions with minimum distance of 2.023 in 0.872 seconds\n",
      "Pick success\n"
     ]
    },
    {
     "name": "stderr",
     "output_type": "stream",
     "text": [
      "100%|██████████| 499/499 [00:07<00:00, 69.38it/s]\n",
      "100%|██████████| 99/99 [00:05<00:00, 17.98it/s]\n"
     ]
    },
    {
     "name": "stdout",
     "output_type": "stream",
     "text": [
      "Place inference time: 13.869152069091797\n",
      "Identified 7890 IK solutions with minimum distance of 1.016 in 0.575 seconds\n",
      "Place Success\n",
      "Pick Success Rate: 95%  (85 / 89)    ||   Place Success Rate: 96%   (82 / 85)    ||   Place-and-Place Success Rate: 92%   (82 / 89)\n",
      "======================================\n",
      "=================Sample 189==================\n"
     ]
    },
    {
     "name": "stderr",
     "output_type": "stream",
     "text": [
      "100%|██████████| 499/499 [00:10<00:00, 47.96it/s]\n",
      "100%|██████████| 99/99 [00:06<00:00, 14.26it/s]\n"
     ]
    },
    {
     "name": "stdout",
     "output_type": "stream",
     "text": [
      "Pick inference time: 18.73302721977234\n",
      "Identified 5626 IK solutions with minimum distance of 2.530 in 0.731 seconds\n",
      "Pick success\n"
     ]
    },
    {
     "name": "stderr",
     "output_type": "stream",
     "text": [
      "100%|██████████| 499/499 [00:07<00:00, 68.66it/s]\n",
      "100%|██████████| 99/99 [00:04<00:00, 20.17it/s]\n"
     ]
    },
    {
     "name": "stdout",
     "output_type": "stream",
     "text": [
      "Place inference time: 13.335650205612183\n",
      "Identified 8383 IK solutions with minimum distance of 1.264 in 0.879 seconds\n",
      "Place Success\n",
      "Pick Success Rate: 95%  (86 / 90)    ||   Place Success Rate: 96%   (83 / 86)    ||   Place-and-Place Success Rate: 92%   (83 / 90)\n",
      "======================================\n",
      "=================Sample 190==================\n"
     ]
    },
    {
     "name": "stderr",
     "output_type": "stream",
     "text": [
      "100%|██████████| 499/499 [00:10<00:00, 46.79it/s]\n",
      "100%|██████████| 99/99 [00:07<00:00, 12.61it/s]\n"
     ]
    },
    {
     "name": "stdout",
     "output_type": "stream",
     "text": [
      "Pick inference time: 20.0023250579834\n",
      "Identified 3526 IK solutions with minimum distance of 1.554 in 0.317 seconds\n",
      "Pick fail\n",
      "Pick Success Rate: 94%  (86 / 91)    ||   Place Success Rate: 96%   (83 / 86)    ||   Place-and-Place Success Rate: 91%   (83 / 91)\n",
      "======================================\n",
      "=================Sample 191==================\n"
     ]
    },
    {
     "name": "stderr",
     "output_type": "stream",
     "text": [
      "100%|██████████| 499/499 [00:10<00:00, 47.93it/s]\n",
      "100%|██████████| 99/99 [00:07<00:00, 12.95it/s]\n"
     ]
    },
    {
     "name": "stdout",
     "output_type": "stream",
     "text": [
      "Pick inference time: 19.49976134300232\n",
      "Identified 7574 IK solutions with minimum distance of 2.600 in 0.960 seconds\n",
      "Pick success\n"
     ]
    },
    {
     "name": "stderr",
     "output_type": "stream",
     "text": [
      "100%|██████████| 499/499 [00:07<00:00, 68.54it/s]\n",
      "100%|██████████| 99/99 [00:05<00:00, 19.57it/s]\n"
     ]
    },
    {
     "name": "stdout",
     "output_type": "stream",
     "text": [
      "Place inference time: 13.523767471313477\n",
      "Identified 7687 IK solutions with minimum distance of 0.708 in 0.421 seconds\n",
      "Place Success\n",
      "Pick Success Rate: 94%  (87 / 92)    ||   Place Success Rate: 96%   (84 / 87)    ||   Place-and-Place Success Rate: 91%   (84 / 92)\n",
      "======================================\n",
      "=================Sample 192==================\n"
     ]
    },
    {
     "name": "stderr",
     "output_type": "stream",
     "text": [
      "100%|██████████| 499/499 [00:10<00:00, 47.72it/s]\n",
      "100%|██████████| 99/99 [00:07<00:00, 13.89it/s]\n"
     ]
    },
    {
     "name": "stdout",
     "output_type": "stream",
     "text": [
      "Pick inference time: 19.00404644012451\n",
      "Identified 2880 IK solutions with minimum distance of 1.462 in 0.248 seconds\n",
      "Pick success\n"
     ]
    },
    {
     "name": "stderr",
     "output_type": "stream",
     "text": [
      "100%|██████████| 499/499 [00:07<00:00, 67.82it/s]\n",
      "100%|██████████| 99/99 [00:05<00:00, 19.17it/s]\n"
     ]
    },
    {
     "name": "stdout",
     "output_type": "stream",
     "text": [
      "Place inference time: 13.64177942276001\n",
      "Identified 3326 IK solutions with minimum distance of 1.581 in 0.256 seconds\n",
      "Place Success\n",
      "Pick Success Rate: 94%  (88 / 93)    ||   Place Success Rate: 96%   (85 / 88)    ||   Place-and-Place Success Rate: 91%   (85 / 93)\n",
      "======================================\n",
      "=================Sample 193==================\n"
     ]
    },
    {
     "name": "stderr",
     "output_type": "stream",
     "text": [
      "100%|██████████| 499/499 [00:10<00:00, 46.89it/s]\n",
      "100%|██████████| 99/99 [00:07<00:00, 13.33it/s]\n"
     ]
    },
    {
     "name": "stdout",
     "output_type": "stream",
     "text": [
      "Pick inference time: 19.49827551841736\n",
      "Identified 4170 IK solutions with minimum distance of 2.137 in 0.686 seconds\n",
      "Pick success\n"
     ]
    },
    {
     "name": "stderr",
     "output_type": "stream",
     "text": [
      "100%|██████████| 499/499 [00:07<00:00, 67.85it/s]\n",
      "100%|██████████| 99/99 [00:05<00:00, 19.45it/s]\n"
     ]
    },
    {
     "name": "stdout",
     "output_type": "stream",
     "text": [
      "Place inference time: 13.598354816436768\n",
      "Identified 7133 IK solutions with minimum distance of 0.726 in 0.416 seconds\n",
      "Place Success\n",
      "Pick Success Rate: 94%  (89 / 94)    ||   Place Success Rate: 96%   (86 / 89)    ||   Place-and-Place Success Rate: 91%   (86 / 94)\n",
      "======================================\n",
      "=================Sample 194==================\n"
     ]
    },
    {
     "name": "stderr",
     "output_type": "stream",
     "text": [
      "100%|██████████| 499/499 [00:10<00:00, 47.13it/s]\n",
      "100%|██████████| 99/99 [00:07<00:00, 12.97it/s]\n"
     ]
    },
    {
     "name": "stdout",
     "output_type": "stream",
     "text": [
      "Pick inference time: 19.7031033039093\n",
      "Identified 9542 IK solutions with minimum distance of 2.297 in 1.055 seconds\n",
      "Pick success\n"
     ]
    },
    {
     "name": "stderr",
     "output_type": "stream",
     "text": [
      "100%|██████████| 499/499 [00:07<00:00, 68.52it/s]\n",
      "100%|██████████| 99/99 [00:05<00:00, 19.38it/s]\n"
     ]
    },
    {
     "name": "stdout",
     "output_type": "stream",
     "text": [
      "Place inference time: 13.573227405548096\n",
      "Identified 10293 IK solutions with minimum distance of 1.074 in 0.772 seconds\n",
      "Place Success\n",
      "Pick Success Rate: 94%  (90 / 95)    ||   Place Success Rate: 96%   (87 / 90)    ||   Place-and-Place Success Rate: 91%   (87 / 95)\n",
      "======================================\n",
      "=================Sample 195==================\n"
     ]
    },
    {
     "name": "stderr",
     "output_type": "stream",
     "text": [
      "100%|██████████| 499/499 [00:10<00:00, 49.05it/s]\n",
      "100%|██████████| 99/99 [00:07<00:00, 14.09it/s]\n"
     ]
    },
    {
     "name": "stdout",
     "output_type": "stream",
     "text": [
      "Pick inference time: 18.555140256881714\n",
      "Identified 8136 IK solutions with minimum distance of 1.521 in 0.698 seconds\n",
      "Pick success\n"
     ]
    },
    {
     "name": "stderr",
     "output_type": "stream",
     "text": [
      "100%|██████████| 499/499 [00:07<00:00, 69.02it/s]\n",
      "100%|██████████| 99/99 [00:05<00:00, 18.75it/s]\n"
     ]
    },
    {
     "name": "stdout",
     "output_type": "stream",
     "text": [
      "Place inference time: 13.717411041259766\n",
      "Identified 8389 IK solutions with minimum distance of 0.914 in 0.643 seconds\n",
      "Place Success\n",
      "Pick Success Rate: 94%  (91 / 96)    ||   Place Success Rate: 96%   (88 / 91)    ||   Place-and-Place Success Rate: 91%   (88 / 96)\n",
      "======================================\n",
      "=================Sample 196==================\n"
     ]
    },
    {
     "name": "stderr",
     "output_type": "stream",
     "text": [
      "100%|██████████| 499/499 [00:10<00:00, 48.23it/s]\n",
      "100%|██████████| 99/99 [00:07<00:00, 12.39it/s]\n"
     ]
    },
    {
     "name": "stdout",
     "output_type": "stream",
     "text": [
      "Pick inference time: 19.85110855102539\n",
      "Identified 3391 IK solutions with minimum distance of 2.066 in 0.273 seconds\n",
      "Pick success\n"
     ]
    },
    {
     "name": "stderr",
     "output_type": "stream",
     "text": [
      "100%|██████████| 499/499 [00:07<00:00, 69.32it/s]\n",
      "100%|██████████| 99/99 [00:05<00:00, 17.46it/s]\n"
     ]
    },
    {
     "name": "stdout",
     "output_type": "stream",
     "text": [
      "Place inference time: 14.027783155441284\n",
      "Identified 12232 IK solutions with minimum distance of 2.050 in 1.213 seconds\n",
      "Place Success\n",
      "Pick Success Rate: 94%  (92 / 97)    ||   Place Success Rate: 96%   (89 / 92)    ||   Place-and-Place Success Rate: 91%   (89 / 97)\n",
      "======================================\n",
      "=================Sample 197==================\n"
     ]
    },
    {
     "name": "stderr",
     "output_type": "stream",
     "text": [
      "100%|██████████| 499/499 [00:10<00:00, 47.07it/s]\n",
      "100%|██████████| 99/99 [00:07<00:00, 12.70it/s]\n"
     ]
    },
    {
     "name": "stdout",
     "output_type": "stream",
     "text": [
      "Pick inference time: 19.852684259414673\n",
      "Identified 4009 IK solutions with minimum distance of 1.290 in 0.324 seconds\n",
      "Pick success\n"
     ]
    },
    {
     "name": "stderr",
     "output_type": "stream",
     "text": [
      "100%|██████████| 499/499 [00:07<00:00, 68.72it/s]\n",
      "100%|██████████| 99/99 [00:05<00:00, 18.14it/s]\n"
     ]
    },
    {
     "name": "stdout",
     "output_type": "stream",
     "text": [
      "Place inference time: 13.879808187484741\n",
      "Identified 7125 IK solutions with minimum distance of 0.861 in 0.421 seconds\n",
      "Place Success\n",
      "Pick Success Rate: 94%  (93 / 98)    ||   Place Success Rate: 96%   (90 / 93)    ||   Place-and-Place Success Rate: 91%   (90 / 98)\n",
      "======================================\n",
      "=================Sample 198==================\n"
     ]
    },
    {
     "name": "stderr",
     "output_type": "stream",
     "text": [
      "100%|██████████| 499/499 [00:10<00:00, 47.88it/s]\n",
      "100%|██████████| 99/99 [00:07<00:00, 13.80it/s]\n"
     ]
    },
    {
     "name": "stdout",
     "output_type": "stream",
     "text": [
      "Pick inference time: 19.049254894256592\n",
      "Identified 7236 IK solutions with minimum distance of 1.912 in 0.564 seconds\n",
      "Pick success\n"
     ]
    },
    {
     "name": "stderr",
     "output_type": "stream",
     "text": [
      "100%|██████████| 499/499 [00:07<00:00, 69.50it/s]\n",
      "100%|██████████| 99/99 [00:05<00:00, 19.20it/s]\n"
     ]
    },
    {
     "name": "stdout",
     "output_type": "stream",
     "text": [
      "Place inference time: 13.490186929702759\n",
      "Identified 8972 IK solutions with minimum distance of 1.042 in 0.613 seconds\n",
      "Place Success\n",
      "Pick Success Rate: 94%  (94 / 99)    ||   Place Success Rate: 96%   (91 / 94)    ||   Place-and-Place Success Rate: 91%   (91 / 99)\n",
      "======================================\n",
      "=================Sample 199==================\n"
     ]
    },
    {
     "name": "stderr",
     "output_type": "stream",
     "text": [
      "100%|██████████| 499/499 [00:09<00:00, 50.61it/s]\n",
      "100%|██████████| 99/99 [00:06<00:00, 14.44it/s]\n"
     ]
    },
    {
     "name": "stdout",
     "output_type": "stream",
     "text": [
      "Pick inference time: 18.030198097229004\n",
      "Identified 4547 IK solutions with minimum distance of 2.019 in 0.356 seconds\n",
      "Pick success\n"
     ]
    },
    {
     "name": "stderr",
     "output_type": "stream",
     "text": [
      "100%|██████████| 499/499 [00:07<00:00, 68.30it/s]\n",
      "100%|██████████| 99/99 [00:05<00:00, 19.63it/s]\n"
     ]
    },
    {
     "name": "stdout",
     "output_type": "stream",
     "text": [
      "Place inference time: 13.508460760116577\n",
      "Identified 8862 IK solutions with minimum distance of 0.966 in 0.639 seconds\n",
      "Place Success\n",
      "Pick Success Rate: 95%  (95 / 100)    ||   Place Success Rate: 96%   (92 / 95)    ||   Place-and-Place Success Rate: 92%   (92 / 100)\n",
      "======================================\n"
     ]
    }
   ],
   "source": [
    "visualize_plot = False\n",
    "save_plot = True\n",
    "\n",
    "sleep = False\n",
    "pick_and_place = True\n",
    "stride = (7, 7)\n",
    "stride_pick = (10, 10)\n",
    "stride_place = (7, 7)\n",
    "temperature = 1.\n",
    "\n",
    "\n",
    "N_tests = 0\n",
    "N_success_pick = 0\n",
    "N_success_place = 0\n",
    "N_IKFAIL_pick = 0\n",
    "N_IKFAIL_place = 0\n",
    "pick_times = []\n",
    "place_times = []\n",
    "if save_plot:\n",
    "    folder_name = f'upright/'\n",
    "    output_path = f'plot_imgs/' + folder_name\n",
    "\n",
    "for seed in range(100, 200):\n",
    "    N_tests += 1\n",
    "    print(f\"=================Sample {seed}==================\")\n",
    "    fig, axes = plt.subplots(1,3, figsize=(15, 5), subplot_kw={'projection':'3d'})\n",
    "    fig_img, axes_img = plt.subplots(1,3, figsize=(15,5))\n",
    "\n",
    "\n",
    "    # Run in env\n",
    "    task.reset(seed = seed, cup_pose='upright')\n",
    "    pc = task.observe_pointcloud(stride = stride)\n",
    "    sample_unprocessed = {}\n",
    "    sample_unprocessed['coord'] = pc['coord']\n",
    "    sample_unprocessed['color'] = pc['color']\n",
    "    sample_unprocessed['range'] = pc['ranges']\n",
    "    sample_unprocessed['images'] = task.observe()\n",
    "    sample_unprocessed['center'] = task.center\n",
    "    color_unprocessed = sample_unprocessed['color']\n",
    "    sample =  preprocess(sample_unprocessed, characteristic_length)\n",
    "    coord, color, (xlim, ylim, zlim) = sample['coord'], sample['color'], sample['ranges']\n",
    "    data_transform = sample['data_transform']\n",
    "    feature = torch.tensor(color, dtype=torch.float32)\n",
    "    pos = torch.tensor(coord, dtype=torch.float32)\n",
    "    in_range_cropped_idx = (((pos[:] > ranges_cropped[:,0]) * (pos[:] < ranges_cropped[:,1])).sum(dim=-1) == 3).nonzero().squeeze(-1)\n",
    "    pos = pos[in_range_cropped_idx].to(device)\n",
    "    feature = feature[in_range_cropped_idx].to(device)\n",
    "    inputs = {'feature': feature, 'pos': pos, 'edge': None, 'max_neighbor_radius': max_radius}\n",
    "    temperature = 1.\n",
    "\n",
    "\n",
    "    t1 = time.time()\n",
    "    optimizer_se3T.zero_grad()\n",
    "    optimizer_energy.zero_grad()\n",
    "    with torch.no_grad():\n",
    "        outputs = se3T(inputs)\n",
    "    log_P = lambda T: -energy_model(outputs, T, temperature = temperature, learning = False)\n",
    "\n",
    "    N_transforms = 100\n",
    "    mcmc_iter = 500\n",
    "    mcmc_iter = int(mcmc_iter)\n",
    "    langevin_iter = 100\n",
    "\n",
    "    T_seed = torch.cat([transforms.random_quaternions(N_transforms, device=device), torch.tensor([[2.5, 2.5, 0.5]], device = device)* torch.randn(N_transforms,3, device = device) + torch.tensor([0.,0., -29.], device = device)] , dim=-1)\n",
    "    t_mcmc_begin = time.time()\n",
    "    samples = metropolis.forward(log_P, max_iter = mcmc_iter, T_seed=T_seed, pbar=True)\n",
    "    samples = langevin.forward(log_P, max_iter = langevin_iter, optim = optimizer_energy, T_seed = samples['Ts'][-1], pbar=True)\n",
    "    t_mcmc_end = time.time()\n",
    "    Ts = samples['Ts']\n",
    "    Ts = Ts[-50:].reshape(-1,7)\n",
    "    with torch.no_grad():\n",
    "        E = energy_model(outputs, Ts, temperature = temperature, learning = False)\n",
    "    best_T_idx = E.detach().argmin().item()\n",
    "    best_T = Ts[best_T_idx]\n",
    "    best_R, best_X = transforms.quaternion_to_matrix(best_T[...,:4]), best_T[...,4:]\n",
    "\n",
    "\n",
    "    t2 = time.time()\n",
    "    #print(f\"=========Sample {seed}=========\")\n",
    "    query_attn = (torch.softmax(energy_model.query_attention.detach(), dim=-1) ** 0.5).unsqueeze(-1).cpu().numpy()\n",
    "\n",
    "    coord_query = energy_model.transform_query_points(best_T).detach().cpu().numpy()\n",
    "    color_query = torch.tensor([0.,0.,1.]).repeat(len(coord_query),1).cpu().numpy()\n",
    "    color_query = np.concatenate([color_query,query_attn], axis=-1)\n",
    "    frame_info_best = {'frame': best_R.cpu().numpy(),\n",
    "                    'origin': best_X.cpu().numpy(), \n",
    "                    'alpha': 1.,\n",
    "                    'pointcloud': (coord_query, color_query)\n",
    "                    }\n",
    "    world_origin = np.array([0., 0., -29.])\n",
    "    frame_info_world = {'frame': np.eye(3),\n",
    "                    'origin': world_origin,\n",
    "                    'alpha': 0.,\n",
    "                    'pointcloud': (Ts.detach().cpu().numpy()[:,4:], torch.tensor([0.,0.8,0.8,0.03]).repeat(len(Ts),1).numpy())\n",
    "                    }\n",
    "\n",
    "\n",
    "    scatter_plot_ax(axes[0], coord[in_range_cropped_idx], color_unprocessed[in_range_cropped_idx], (xlim, ylim, zlim), frame_infos = [frame_info_best, frame_info_world])\n",
    "    print(f\"Pick inference time: {t2-t1}\")\n",
    "    pick_times.append(t2-t1)\n",
    "    if N_tests == 1:\n",
    "        print(f\"First iteration is slow\")\n",
    "    # print(E.detach())\n",
    "    # print(f\"Energy min: {E.min().item()} || Energy mean: {E.mean().item()}\")\n",
    "    # print(f\"MCMC Time: {t_mcmc_end - t_mcmc_begin}\")\n",
    "    # print(\"===============================\")\n",
    "\n",
    "    X_sdg, R_sdg = data_transform.inv_transform_T(best_X.detach().cpu().numpy(), best_R.detach().cpu().numpy())\n",
    "\n",
    "    flip = False\n",
    "    z_axis = R_sdg[:,-1]\n",
    "    if z_axis[2] > 0.8:\n",
    "        flip = True\n",
    "    elif z_axis[0] < 0:\n",
    "        flip = True\n",
    "    if flip is True:\n",
    "        R_flip = np.array([[-1. ,0. ,0.],\n",
    "                            [0. ,1. ,0.],\n",
    "                            [0. ,0. ,-1.]])\n",
    "        R_sdg = R_sdg @ R_flip\n",
    "\n",
    "    #X_sdg = X_sdg + (R_sdg@ np.array([0., 0., 0.005])) # push the gripper forward a liitle\n",
    "\n",
    "    R_dg_dgpre = np.eye(3)\n",
    "    R_s_dgpre = R_sdg @ R_dg_dgpre\n",
    "    X_dg_dgpre = np.array([0., 0., -0.1])\n",
    "    sX_dg_dgpre = R_sdg @ X_dg_dgpre\n",
    "    X_s_dgpre = X_sdg + sX_dg_dgpre\n",
    "\n",
    "    pre_pick = (X_s_dgpre, R_s_dgpre)\n",
    "    pick = (X_sdg, R_sdg)\n",
    "\n",
    "    try:\n",
    "        task.pick(pre_pick, pick)\n",
    "    except StopIteration:\n",
    "        try:\n",
    "            task.pick(pre_pick, pick, IK_time=5.)\n",
    "        except:\n",
    "            print(\"Pick IK Failed\")\n",
    "            N_IKFAIL_pick += 1\n",
    "            print(f\"Pick Success Rate: {int(100 * N_success_pick / N_tests)}%  ({N_success_pick} / {N_tests})    ||   Place Success Rate: {int(100 * N_success_place / max(N_success_pick, 1))}%   ({N_success_place} / {N_success_pick})    ||   Place-and-Place Success Rate: {int(100 * N_success_place / N_tests)}%   ({N_success_place} / {N_tests})\")\n",
    "            if save_plot:\n",
    "                if os.path.exists(output_path + \"inference/\") is False:\n",
    "                    os.makedirs(output_path + \"inference/\")\n",
    "                fig.savefig(output_path + \"inference/\" + f\"{seed}.png\")\n",
    "                if os.path.exists(output_path + \"result/\") is False:\n",
    "                    os.makedirs(output_path + \"result/\")\n",
    "                fig_img.savefig(output_path + \"result/\" + f\"{seed}.png\")\n",
    "            if visualize_plot:\n",
    "                plt.show()\n",
    "            else:\n",
    "                plt.close(fig)\n",
    "                plt.close(fig_img)\n",
    "            print(\"======================================\")\n",
    "            continue\n",
    "\n",
    "    if task.check_pick_success():\n",
    "        print(\"Pick success\")\n",
    "        N_success_pick += 1\n",
    "    else:\n",
    "        print(\"Pick fail\")\n",
    "        print(f\"Pick Success Rate: {int(100 * N_success_pick / N_tests)}%  ({N_success_pick} / {N_tests})    ||   Place Success Rate: {int(100 * N_success_place / max(N_success_pick, 1))}%   ({N_success_place} / {N_success_pick})    ||   Place-and-Place Success Rate: {int(100 * N_success_place / N_tests)}%   ({N_success_place} / {N_tests})\")\n",
    "        if save_plot:\n",
    "            if os.path.exists(output_path + \"inference/\") is False:\n",
    "                os.makedirs(output_path + \"inference/\")\n",
    "            fig.savefig(output_path + \"inference/\" + f\"{seed}.png\")\n",
    "            if os.path.exists(output_path + \"result/\") is False:\n",
    "                os.makedirs(output_path + \"result/\")\n",
    "            fig_img.savefig(output_path + \"result/\" + f\"{seed}.png\")\n",
    "        if visualize_plot:\n",
    "            plt.show()\n",
    "        else:\n",
    "            plt.close(fig)\n",
    "            plt.close(fig_img)\n",
    "        print(\"======================================\")\n",
    "        continue\n",
    "\n",
    "\n",
    "\n",
    "\n",
    "    task.retract_robot(gripper_val=1., IK_time=1.)\n",
    "    pc = task.observe_pointcloud_pick(stride = stride_pick)\n",
    "    sample_unprocessed['coord_pick'] = pc['coord']\n",
    "    sample_unprocessed['color_pick'] = pc['color']\n",
    "    sample_unprocessed['range_pick'] = pc['ranges']\n",
    "    sample_unprocessed['pick_pose'] = (pc['X_sg'], pc['R_sg'])\n",
    "    sample_unprocessed['images_pick'] = task.observe_pick()\n",
    "\n",
    "    pc = task.observe_pointcloud(stride = stride_place)\n",
    "    sample_unprocessed['coord_place'] = pc['coord']\n",
    "    sample_unprocessed['color_place'] = pc['color']\n",
    "    sample_unprocessed['range_place'] = pc['ranges']\n",
    "    sample_unprocessed['images_place'] = task.observe()\n",
    "\n",
    "\n",
    "\n",
    "\n",
    "    temperature = 1.\n",
    "\n",
    "    color_unprocessed_Q = sample_unprocessed['color_pick']\n",
    "    color_unprocessed_K = sample_unprocessed['color_place']\n",
    "    sample = preprocess(sample_unprocessed, characteristic_length, pick_and_place=True)\n",
    "\n",
    "    coord_Q, color_Q, (xlim_Q, ylim_Q, zlim_Q) = sample['coord_Q'], sample['color_Q'], sample['ranges_Q']\n",
    "    X_sg_Q, R_sg_Q = sample['grasp_Q'][0], sample['grasp_Q'][1]\n",
    "    data_transform_Q = sample['data_transform_Q']\n",
    "\n",
    "    coord_K, color_K, (xlim_K, ylim_K, zlim_K) = sample['coord_K'], sample['color_K'], sample['ranges_K']\n",
    "    data_transform_K = sample['data_transform_K']\n",
    "\n",
    "\n",
    "    ##### Prepare input\n",
    "\n",
    "    feature_Q = torch.tensor(color_Q, dtype=torch.float32)\n",
    "    pos_Q = torch.tensor(coord_Q, dtype=torch.float32)\n",
    "    in_range_cropped_idx_Q = (((pos_Q[:] > ranges_cropped_Q[:,0]) * (pos_Q[:] < ranges_cropped_Q[:,1])).sum(dim=-1) == 3).nonzero().squeeze(-1)\n",
    "    pos_Q = pos_Q[in_range_cropped_idx_Q].to(device)\n",
    "    feature_Q = feature_Q[in_range_cropped_idx_Q].to(device)\n",
    "\n",
    "    feature_K = torch.tensor(color_K, dtype=torch.float32)\n",
    "    pos_K = torch.tensor(coord_K, dtype=torch.float32)\n",
    "    in_range_cropped_idx_K = (((pos_K[:] > ranges_cropped_K[:,0]) * (pos_K[:] < ranges_cropped_K[:,1])).sum(dim=-1) == 3).nonzero().squeeze(-1)\n",
    "    pos_K = pos_K[in_range_cropped_idx_K].to(device)\n",
    "    feature_K = feature_K[in_range_cropped_idx_K].to(device)\n",
    "\n",
    "    inputs_Q = {'feature': feature_Q, 'pos': pos_Q, 'edge': None, 'max_neighbor_radius': max_radius_Q}\n",
    "\n",
    "\n",
    "    t1 = time.time()\n",
    "    ##### Get Query Feature\n",
    "    optimizer_Q.zero_grad()\n",
    "    with torch.no_grad():\n",
    "        outputs_Q = se3T_Q(inputs_Q)\n",
    "        outputs_Q = tensor_field_Q({'feature':outputs_Q['feature'], 'pos':outputs_Q['pos'], 'query_pos':query_pos_Q.unsqueeze(0)})\n",
    "    assert outputs_Q['n_neighbor'].item() > 0\n",
    "    query_feature_Q = outputs_Q['field'].squeeze(0)\n",
    "\n",
    "    inputs_K = {'feature': feature_K, 'pos': pos_K, 'edge': None, 'max_neighbor_radius': max_radius_K}\n",
    "\n",
    "    ##### MCMC\n",
    "    N_transforms = 100\n",
    "    mcmc_iter = 500\n",
    "    mcmc_iter = int(mcmc_iter)\n",
    "    langevin_iter = 100\n",
    "\n",
    "    optimizer_K.zero_grad()\n",
    "    optimizer_energy_K.zero_grad()\n",
    "    outputs_K = se3T_K(inputs_K)\n",
    "    outputs_K['query_feature'] = query_feature_Q\n",
    "    log_P_K = lambda T: -energy_model_K(outputs_K, T, temperature = temperature, learning = False)\n",
    "\n",
    "    T_seed = torch.cat([transforms.random_quaternions(N_transforms, device=device), torch.tensor([[2.5, 2.5, 0.5]], device = device)* torch.randn(N_transforms,3, device = device) + torch.tensor([0.,0., -29.], device = device)] , dim=-1)\n",
    "    t_mcmc_begin = time.time()\n",
    "    samples = metropolis_K.forward(log_P_K, max_iter = mcmc_iter, T_seed = T_seed, pbar=True)\n",
    "    Ts_K = samples['Ts']\n",
    "    As_K = samples['As']\n",
    "    samples = langevin_K.forward(log_P_K, max_iter = langevin_iter, optim = optimizer_energy_K, T_seed = Ts_K[-1], pbar=True)\n",
    "    Ts_K = torch.cat([Ts_K, samples['Ts']], dim=0)\n",
    "    As_K = torch.cat([As_K, samples['As']], dim=0)\n",
    "    t_mcmc_end = time.time()\n",
    "\n",
    "    Ts_K = Ts_K[-50:].reshape(-1,7)\n",
    "\n",
    "    ##### Calculate energy and learn\n",
    "    optimizer_energy_K.zero_grad()\n",
    "    with torch.no_grad():\n",
    "        E_K = energy_model_K(outputs_K, Ts_K, temperature = temperature, learning = True)\n",
    "\n",
    "    best_T_sp_idx = E_K.detach().argmin().item()\n",
    "    best_T_sp = Ts_K[best_T_sp_idx]\n",
    "    best_R_sp, best_X_sp = transforms.quaternion_to_matrix(best_T_sp[...,:4]), best_T_sp[...,4:]\n",
    "\n",
    "    ##### Visualize\n",
    "    t2 = time.time()\n",
    "    print(f\"Place inference time: {t2-t1}\")\n",
    "    place_times.append(t2-t1)\n",
    "    if True:\n",
    "        #print(f\"=========Iter {0}=========\")\n",
    "        query_attn_K = (torch.softmax(energy_model_K.query_attention.detach(), dim=-1) ** 0.5).unsqueeze(-1).cpu().numpy()\n",
    "        \n",
    "        coord_query_K = energy_model_K.transform_query_points(best_T_sp).detach().cpu().numpy()\n",
    "        color_query_K = torch.tensor([0.,0.,1.]).repeat(len(coord_query_K),1).cpu().numpy()\n",
    "        color_query_K = np.concatenate([color_query_K, query_attn_K], axis=-1)\n",
    "        frame_info_best = {'frame': best_R_sp.cpu().numpy(),\n",
    "                        'origin': best_X_sp.cpu().numpy(), \n",
    "                        'alpha': 1.,\n",
    "                        'pointcloud': (coord_query_K, color_query_K)\n",
    "                        }\n",
    "\n",
    "        world_origin_K = np.array([0., 0., -16.])\n",
    "        frame_info_world = {'frame': np.eye(3),\n",
    "                        'origin': world_origin_K,\n",
    "                        'alpha': 0.,\n",
    "                        'pointcloud': (Ts_K.detach().cpu().numpy()[:,4:], torch.tensor([0.,0.8,0.8,0.03]).repeat(len(Ts_K),1).numpy())\n",
    "                        }\n",
    "\n",
    "        color_unprocessed_alpha_K = np.concatenate([color_unprocessed_K, np.ones((len(color_unprocessed_K),1), dtype=int)], axis=-1)\n",
    "        #scatter_plot(coord_K[in_range_cropped_idx_K], color_unprocessed_alpha_K[in_range_cropped_idx_K], xlim_K, ylim_K, zlim_K, frame_infos = [frame_info_best, frame_info_world], figsize = (8, 8))\n",
    "        scatter_plot_ax(axes[1], coord_K[in_range_cropped_idx_K], color_unprocessed_alpha_K[in_range_cropped_idx_K], (xlim_K, ylim_K, zlim_K), frame_infos = [frame_info_best, frame_info_world])\n",
    "        #print(E_K.detach()[::5])\n",
    "        #print(f\"Energy min: {E_K.min().item()} || Energy mean: {E_K.mean().item()}\")\n",
    "        #print(f\"MCMC Time: {t_mcmc_end - t_mcmc_begin}\")\n",
    "        #print(\"===============================\")\n",
    "\n",
    "\n",
    "\n",
    "\n",
    "\n",
    "    X_sdg, R_sdg = data_transform_K.inv_transform_T(best_X_sp.detach().cpu().numpy(), best_R_sp.detach().cpu().numpy())\n",
    "\n",
    "    #X_sdg = X_sdg + (R_sdg@ np.array([0., 0., 0.005])) # push the gripper forward a liitle\n",
    "\n",
    "    R_dg_dgpre = np.eye(3)\n",
    "    R_s_dgpre = R_sdg @ R_dg_dgpre\n",
    "    X_dg_dgpre = np.array([0., 0., -0.1])\n",
    "    sX_dg_dgpre = R_sdg @ X_dg_dgpre\n",
    "    X_s_dgpre = X_sdg + sX_dg_dgpre\n",
    "\n",
    "    pre_place = (X_s_dgpre, R_s_dgpre)\n",
    "    place = (X_sdg, R_sdg)\n",
    "\n",
    "    try:\n",
    "        task.place(pre_place, place, sleep = sleep, IK_time = 1.)\n",
    "    except StopIteration:\n",
    "        try:\n",
    "            task.place(pre_place, place, sleep = sleep, IK_time = 5.)\n",
    "        except StopIteration:\n",
    "            print(\"place IK fail\")\n",
    "            N_IKFAIL_place += 1\n",
    "\n",
    "\n",
    "\n",
    "    if task.check_place_success():\n",
    "        N_success_place += 1\n",
    "        print('Place Success')\n",
    "        print(f\"Pick Success Rate: {int(100 * N_success_pick / N_tests)}%  ({N_success_pick} / {N_tests})    ||   Place Success Rate: {int(100 * N_success_place / max(N_success_pick, 1))}%   ({N_success_place} / {N_success_pick})    ||   Place-and-Place Success Rate: {int(100 * N_success_place / N_tests)}%   ({N_success_place} / {N_tests})\")\n",
    "    else:\n",
    "        print('Place Fail')\n",
    "        print(f\"Pick Success Rate: {int(100 * N_success_pick / N_tests)}%  ({N_success_pick} / {N_tests})    ||   Place Success Rate: {int(100 * N_success_place / max(N_success_pick, 1))}%   ({N_success_place} / {N_success_pick})    ||   Place-and-Place Success Rate: {int(100 * N_success_place / N_tests)}%   ({N_success_place} / {N_tests})\")\n",
    "\n",
    "\n",
    "\n",
    "    pc = task.observe_pointcloud(stride = (1, 1))\n",
    "    scatter_plot_ax(axes[2], pc['coord'], pc['color'], pc['ranges'])\n",
    "    images = task.observe()\n",
    "    for i in range(3):\n",
    "        axes_img[i].imshow(images[i]['color'])\n",
    "\n",
    "    \n",
    "    if save_plot:\n",
    "        if os.path.exists(output_path + \"inference/\") is False:\n",
    "            os.makedirs(output_path + \"inference/\")\n",
    "        fig.savefig(output_path + \"inference/\" + f\"{seed}.png\")\n",
    "        if os.path.exists(output_path + \"result/\") is False:\n",
    "            os.makedirs(output_path + \"result/\")\n",
    "        fig_img.savefig(output_path + \"result/\" + f\"{seed}.png\")\n",
    "    if visualize_plot:\n",
    "        plt.show()\n",
    "    else:\n",
    "        plt.close(fig)\n",
    "        plt.close(fig_img)\n",
    "    print(\"======================================\")"
   ]
  },
  {
   "cell_type": "code",
   "execution_count": 21,
   "metadata": {},
   "outputs": [
    {
     "name": "stdout",
     "output_type": "stream",
     "text": [
      "# IK Fail Pick: 0   ||   # IK Fail Place: 3\n",
      "Mean Inference Time:   Pick   18.952254235744476   ||    Place   13.571254732734278\n"
     ]
    }
   ],
   "source": [
    "print(f\"# IK Fail Pick: {N_IKFAIL_pick}   ||   # IK Fail Place: {N_IKFAIL_place}\")\n",
    "print(f\"Mean Inference Time:   Pick   {np.array(pick_times).mean()}   ||    Place   {np.array(place_times).mean()}\")"
   ]
  },
  {
   "cell_type": "code",
   "execution_count": null,
   "metadata": {},
   "outputs": [],
   "source": []
  }
 ],
 "metadata": {
  "interpreter": {
   "hash": "f23129b46c570c3112f15a3374a794e5cd05ee6ef3eb221daef864361e63690d"
  },
  "kernelspec": {
   "display_name": "Python 3.9.12 ('SE3_Transporter')",
   "language": "python",
   "name": "python3"
  },
  "language_info": {
   "codemirror_mode": {
    "name": "ipython",
    "version": 3
   },
   "file_extension": ".py",
   "mimetype": "text/x-python",
   "name": "python",
   "nbconvert_exporter": "python",
   "pygments_lexer": "ipython3",
   "version": "3.9.12"
  },
  "orig_nbformat": 4
 },
 "nbformat": 4,
 "nbformat_minor": 2
}
