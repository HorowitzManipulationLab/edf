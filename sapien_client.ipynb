{
 "cells": [
  {
   "cell_type": "code",
   "execution_count": 1,
   "metadata": {},
   "outputs": [],
   "source": [
    "from typing import Optional\n",
    "import pickle\n",
    "\n",
    "from beartype import beartype\n",
    "import torch\n",
    "\n",
    "from edf_interface.pyro import PyroClientBase\n",
    "from edf_interface.data import SE3, PointCloud, TargetPoseDemo, DemoSequence"
   ]
  },
  {
   "cell_type": "code",
   "execution_count": 2,
   "metadata": {},
   "outputs": [
    {
     "name": "stderr",
     "output_type": "stream",
     "text": [
      "Attempting connection to server 'env' @ PYRONAME:env\n",
      "Retrying connection to server 'env' @ PYRONAME:env\n",
      "Retrying connection to server 'env' @ PYRONAME:env\n",
      "Retrying connection to server 'env' @ PYRONAME:env\n",
      "Retrying connection to server 'env' @ PYRONAME:env\n",
      "Successfully connected to server 'env' @ PYRO:obj_c8f5d9df09f44273a35ec3f4069d3baf@localhost:37273\n"
     ]
    }
   ],
   "source": [
    "@beartype\n",
    "class ExampleClient(PyroClientBase):\n",
    "    def __init__(self):\n",
    "        super().__init__(service_names=['env'])\n",
    "\n",
    "    # def get_current_poses(self, **kwargs) -> SE3: ...\n",
    "    \n",
    "    def observe_scene(self, voxel_size=0.01, **kwargs) -> PointCloud: ...\n",
    "    \n",
    "    # def observe_grasp(self, **kwargs) -> PointCloud: ...\n",
    "\n",
    "    def move_se3(self, target_poses: SE3, **kwargs) -> bool: ...\n",
    "\n",
    "    # def infer_target_poses(self, scene_pcd: PointCloud, \n",
    "    #                        task_name: str,\n",
    "    #                        grasp_pcd: Optional[PointCloud] = None,\n",
    "    #                        current_poses: Optional[SE3] = None, \n",
    "    #                        **kwargs) -> SE3: ...\n",
    "\n",
    "client = ExampleClient()"
   ]
  },
  {
   "cell_type": "code",
   "execution_count": 3,
   "metadata": {},
   "outputs": [],
   "source": [
    "scene_pcd = client.observe_scene(voxel_size=0.01)\n",
    "# scene_pcd.show(point_size=1.)"
   ]
  },
  {
   "cell_type": "code",
   "execution_count": 5,
   "metadata": {},
   "outputs": [
    {
     "data": {
      "text/plain": [
       "True"
      ]
     },
     "execution_count": 5,
     "metadata": {},
     "output_type": "execute_result"
    }
   ],
   "source": [
    "client.move_se3(target_poses=SE3(poses=torch.tensor([0, 0, 1, 0, 0.7, 0.1, 0.5]))) # (qw, qx, qy, qz, x, y, z)"
   ]
  },
  {
   "cell_type": "code",
   "execution_count": null,
   "metadata": {},
   "outputs": [],
   "source": []
  }
 ],
 "metadata": {
  "kernelspec": {
   "display_name": "diff_edf",
   "language": "python",
   "name": "python3"
  },
  "language_info": {
   "codemirror_mode": {
    "name": "ipython",
    "version": 3
   },
   "file_extension": ".py",
   "mimetype": "text/x-python",
   "name": "python",
   "nbconvert_exporter": "python",
   "pygments_lexer": "ipython3",
   "version": "3.8.16"
  },
  "orig_nbformat": 4
 },
 "nbformat": 4,
 "nbformat_minor": 2
}
