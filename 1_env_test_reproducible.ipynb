{
 "cells": [
  {
   "cell_type": "code",
   "execution_count": null,
   "metadata": {},
   "outputs": [],
   "source": [
    "import time\n",
    "import datetime\n",
    "import os\n",
    "import random\n",
    "import numpy as np\n",
    "import matplotlib.pyplot as plt\n",
    "from tqdm import tqdm\n",
    "import pybullet as p\n",
    "import pybullet_data\n",
    "\n",
    "import torch\n",
    "from torch_cluster import radius_graph, radius\n",
    "from torch_scatter import scatter\n",
    "\n",
    "import matplotlib\n",
    "import matplotlib.pyplot as plt\n",
    "\n",
    "import edf\n",
    "from edf.pybullet_env.utils import get_image, axiscreator, img_data_to_pointcloud\n",
    "from edf.visual_utils import plot_color_and_depth, scatter_plot, scatter_plot_ax\n",
    "from edf.pybullet_env.env import MugTask\n",
    "\n",
    "device = 'cpu'\n",
    "gpu_idx = 0\n",
    "torch.cuda.set_device(gpu_idx)"
   ]
  },
  {
   "cell_type": "code",
   "execution_count": null,
   "metadata": {},
   "outputs": [],
   "source": [
    "stride = (7, 7)\n",
    "stride_pick = (10, 10)\n",
    "stride_place = (7, 7)\n",
    "\n",
    "task = MugTask(use_gui=True)\n",
    "upright_pose_seeds = [0, 1, 2, 3, 4, 5, 6, 7, 8, 9, 10, 11]\n",
    "lying_pose_seeds= [12, 13, 14, 15, 16, 17, 18, 19, 20, 21, 22, 23]\n",
    "\n",
    "for seed in upright_pose_seeds:\n",
    "    task.reset(seed=seed, cup_pose='upright')\n",
    "    task.pick(*(task.oracle_pick_handle(random_180_flip=False)))\n",
    "    if not task.check_pick_success():\n",
    "        print(\"Pick failed!!!!\")\n",
    "        continue\n",
    "    task.retract_robot(gripper_val=1.)\n",
    "    task.place(*(task.oracle_place_handle()), sleep=False)\n",
    "    if not task.check_place_success():\n",
    "        print(\"Place failed!!!!\")"
   ]
  },
  {
   "cell_type": "code",
   "execution_count": null,
   "metadata": {},
   "outputs": [],
   "source": [
    "for seed in lying_pose_seeds:\n",
    "    task.reset(seed=seed, cup_pose='lying')\n",
    "    task.pick(*(task.oracle_pick_handle(random_180_flip=False)))\n",
    "    if not task.check_pick_success():\n",
    "        print(\"Pick failed!!!!\")\n",
    "        continue\n",
    "    task.retract_robot(gripper_val=1.)\n",
    "    task.place(*(task.oracle_place_handle()), sleep=False)\n",
    "    if not task.check_place_success():\n",
    "        print(\"Place failed!!!!\")"
   ]
  }
 ],
 "metadata": {
  "interpreter": {
   "hash": "f23129b46c570c3112f15a3374a794e5cd05ee6ef3eb221daef864361e63690d"
  },
  "kernelspec": {
   "display_name": "Python 3.9.12 ('SE3_Transporter')",
   "language": "python",
   "name": "python3"
  },
  "language_info": {
   "codemirror_mode": {
    "name": "ipython",
    "version": 3
   },
   "file_extension": ".py",
   "mimetype": "text/x-python",
   "name": "python",
   "nbconvert_exporter": "python",
   "pygments_lexer": "ipython3",
   "version": "3.9.12"
  },
  "orig_nbformat": 4
 },
 "nbformat": 4,
 "nbformat_minor": 2
}
