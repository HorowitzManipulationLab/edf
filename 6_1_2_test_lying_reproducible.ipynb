{
 "cells": [
  {
   "cell_type": "code",
   "execution_count": 1,
   "metadata": {},
   "outputs": [
    {
     "name": "stderr",
     "output_type": "stream",
     "text": [
      "pybullet build time: Dec  1 2021 18:34:28\n"
     ]
    }
   ],
   "source": [
    "import time\n",
    "import datetime\n",
    "import os\n",
    "import random\n",
    "import numpy as np\n",
    "import matplotlib.pyplot as plt\n",
    "from tqdm import tqdm\n",
    "import pybullet as p\n",
    "import pybullet_data\n",
    "\n",
    "import torch\n",
    "from torch_cluster import radius_graph, radius\n",
    "from torch_scatter import scatter\n",
    "\n",
    "import matplotlib\n",
    "import matplotlib.pyplot as plt\n",
    "\n",
    "import edf\n",
    "from edf.pybullet_env.utils import get_image, axiscreator, img_data_to_pointcloud\n",
    "from edf.visual_utils import plot_color_and_depth, scatter_plot, scatter_plot_ax, visualize_samples, visualize_sample_cluster\n",
    "from edf.pybullet_env.env import MugTask\n",
    "\n",
    "device = 'cpu'\n",
    "#gpu_idx = 0\n",
    "#torch.cuda.set_device(gpu_idx)"
   ]
  },
  {
   "cell_type": "code",
   "execution_count": 2,
   "metadata": {},
   "outputs": [],
   "source": [
    "import gzip\n",
    "import pickle\n",
    "\n",
    "folder_name = 'demo'\n",
    "task_name = 'mug_task'\n",
    "path = f'{folder_name}/{task_name}'\n",
    "\n",
    "with gzip.open(path + f'/upright.gzip','rb') as f:\n",
    "    upright_samples = pickle.load(f)\n",
    "\n",
    "with gzip.open(path + f'/lying.gzip','rb') as f:\n",
    "    lying_samples = pickle.load(f)"
   ]
  },
  {
   "cell_type": "markdown",
   "metadata": {},
   "source": [
    "# Load Models"
   ]
  },
  {
   "cell_type": "code",
   "execution_count": 3,
   "metadata": {},
   "outputs": [],
   "source": [
    "from torch import nn\n",
    "from pytorch3d import transforms\n",
    "\n",
    "import e3nn.nn\n",
    "from e3nn import o3\n",
    "from e3nn.math import soft_one_hot_linspace, soft_unit_step\n",
    "\n",
    "from edf.utils import preprocess\n",
    "from edf.models import SE3Transformer, SE3TransformerLight, EnergyModel, QueryTensorField\n",
    "from edf.mcmc import MH, LangevinMH\n",
    "from edf.dist import GaussianDistSE3\n",
    "from edf.layers import QuerySHLayer, TensorFieldLayer\n",
    "\n",
    "characteristic_length = 0.01"
   ]
  },
  {
   "cell_type": "code",
   "execution_count": 4,
   "metadata": {},
   "outputs": [],
   "source": [
    "N_query = 1\n",
    "max_radius = 3.\n",
    "query_radius = 0.  \n",
    "field_cutoff = 5.         \n",
    "std_theta = 45 / 180 * np.pi\n",
    "std_X = 5.                      \n",
    "\n",
    "#xlim, ylim, zlim = np.array([-20.,  20.]), np.array([-20.,  20.]), np.array([15., 25.])\n",
    "#ranges = torch.tensor(np.stack((xlim,ylim,zlim)), dtype=torch.float).to(device)#(xyz,minmax)=(3,2)\n",
    "ranges_cropped = torch.tensor([[-21., 21.],\n",
    "                               [-21., 21.],\n",
    "                               [-30., -5.]])\n",
    "irreps_out = \"10x0e + 10x1e + 4x2e + 2x3e\"\n",
    "irreps_descriptor = o3.Irreps(irreps_out)\n",
    "sh_lmax_descriptor = 3\n",
    "number_of_basis_descriptor = 10\n",
    "irrep_normalization = 'norm'"
   ]
  },
  {
   "cell_type": "code",
   "execution_count": 5,
   "metadata": {},
   "outputs": [],
   "source": [
    "seed = 0\n",
    "random.seed(seed)\n",
    "np.random.seed(seed)\n",
    "torch.manual_seed(seed)\n",
    "torch.use_deterministic_algorithms(True)\n",
    "torch.set_printoptions(precision=4, sci_mode=False)"
   ]
  },
  {
   "cell_type": "code",
   "execution_count": 6,
   "metadata": {},
   "outputs": [],
   "source": [
    "se3T = SE3TransformerLight(max_neighbor_radius = max_radius, irreps_out=irreps_out)\n",
    "irreps_out = o3.Irreps(se3T.irreps_out)\n",
    "energy_model = EnergyModel(N_query = N_query, query_radius = query_radius, field_cutoff = field_cutoff,\n",
    "                           irreps_input = irreps_out, irreps_descriptor = irreps_descriptor, sh_lmax = sh_lmax_descriptor, number_of_basis = number_of_basis_descriptor, ranges = ranges_cropped)\n",
    "metropolis = MH(ranges_X = ranges_cropped, std_theta = std_theta, std_X = std_X)\n",
    "langevin = LangevinMH(ranges_X = ranges_cropped, dt = 0.1, std_theta = 1., std_X = 1.)"
   ]
  },
  {
   "cell_type": "code",
   "execution_count": 7,
   "metadata": {},
   "outputs": [],
   "source": [
    "tp_pickle_path = \"reproducible_pickles/\"\n",
    "\n",
    "se3T.load_tp(tp_pickle_path + \"se3T/\")\n",
    "energy_model.load_tp(tp_pickle_path + \"energy_model/\")"
   ]
  },
  {
   "cell_type": "code",
   "execution_count": 8,
   "metadata": {},
   "outputs": [],
   "source": [
    "if device == 'cuda':\n",
    "    se3T = se3T.to(device)\n",
    "    energy_model = energy_model.to(device)\n",
    "    metropolis = metropolis.to(device)\n",
    "    langevin = langevin.to(device)\n",
    "\n",
    "metropolis.get_inv_cdf()\n",
    "langevin.get_inv_cdf()"
   ]
  },
  {
   "cell_type": "code",
   "execution_count": 9,
   "metadata": {},
   "outputs": [],
   "source": [
    "lr_se3T = 5e-3\n",
    "lr_energy = 20e-3\n",
    "\n",
    "optimizer_se3T = torch.optim.Adam(list(se3T.parameters()), lr=lr_se3T, betas=(0.9, 0.98), eps=1e-09, weight_decay=1e-4, amsgrad=True)\n",
    "optimizer_energy = torch.optim.Adam(list(energy_model.parameters()), lr=lr_energy, betas=(0.9, 0.98), eps=1e-09, weight_decay=0, amsgrad=True)"
   ]
  },
  {
   "cell_type": "code",
   "execution_count": 10,
   "metadata": {},
   "outputs": [
    {
     "data": {
      "text/plain": [
       "<All keys matched successfully>"
      ]
     },
     "execution_count": 10,
     "metadata": {},
     "output_type": "execute_result"
    }
   ],
   "source": [
    "loaded = torch.load('checkpoint/train_pick_reproducible/Jun_05_2022__23_35_22/model_iter_300.pt', map_location=device)\n",
    "se3T.load_state_dict(loaded['se3T_state_dict'])\n",
    "energy_model.load_state_dict(loaded['energy_model_state_dict'])"
   ]
  },
  {
   "cell_type": "code",
   "execution_count": 11,
   "metadata": {},
   "outputs": [],
   "source": [
    "N_query_Q = 1\n",
    "max_radius_Q = 5.\n",
    "query_radius_Q = 0.  \n",
    "field_cutoff_Q = 5.             \n",
    "ranges_cropped_Q = torch.tensor([[-10., 10.],\n",
    "                                    [-10., 10.],\n",
    "                                    [-10., 10.]])\n",
    "irreps_out_Q = \"10x0e + 10x1e + 4x2e + 2x3e\"\n",
    "sh_lmax_descriptor_Q = 3\n",
    "number_of_basis_descriptor_Q = 10\n",
    "irrep_normalization_Q = 'norm'\n",
    "\n",
    "\n",
    "max_radius_K = 2.5\n",
    "query_radius_K = 0.  \n",
    "field_cutoff_K = 5.\n",
    "std_theta_K = 45 / 180 * np.pi\n",
    "std_X_K = 5.\n",
    "ranges_cropped_K = torch.tensor([[-21., 21.],\n",
    "                               [-21., 21.],\n",
    "                               [-30., -5.]])\n",
    "irreps_out_K = \"10x0e + 10x1e + 4x2e + 2x3e\"\n",
    "irreps_descriptor_K = o3.Irreps(irreps_out_K)\n",
    "sh_lmax_descriptor_K = 3\n",
    "number_of_basis_descriptor_K = 10\n",
    "irrep_normalization_K = 'norm'"
   ]
  },
  {
   "cell_type": "code",
   "execution_count": 12,
   "metadata": {},
   "outputs": [],
   "source": [
    "seed = 0\n",
    "random.seed(seed)\n",
    "np.random.seed(seed)\n",
    "torch.manual_seed(seed)\n",
    "torch.use_deterministic_algorithms(True)\n",
    "torch.set_printoptions(precision=4, sci_mode=False)"
   ]
  },
  {
   "cell_type": "code",
   "execution_count": 13,
   "metadata": {},
   "outputs": [],
   "source": [
    "se3T_Q = SE3TransformerLight(max_neighbor_radius = max_radius_Q, irreps_out=irreps_out_Q)\n",
    "tensor_field_Q = QueryTensorField(N_query = N_query_Q, field_cutoff = field_cutoff_Q, irreps_input = irreps_out_Q, irreps_output = irreps_out_K,\n",
    "                                  sh_lmax = sh_lmax_descriptor_Q, number_of_basis = number_of_basis_descriptor_Q,\n",
    "                                  irrep_normalization = irrep_normalization_Q, path_normalization=\"element\")\n",
    "query_pos_Q = torch.zeros(N_query_Q, 3, device=device)\n",
    "\n",
    "se3T_K = SE3TransformerLight(max_neighbor_radius = max_radius_K, irreps_out=irreps_out_K)\n",
    "irreps_out_K = o3.Irreps(se3T_K.irreps_out)\n",
    "energy_model_K = EnergyModel(N_query = N_query_Q, query_radius = query_radius_K, field_cutoff = field_cutoff_K,\n",
    "                           irreps_input = irreps_out_K, irreps_descriptor = irreps_descriptor_K, sh_lmax = sh_lmax_descriptor_K, \n",
    "                           number_of_basis = number_of_basis_descriptor_K, ranges = ranges_cropped_K, learnable_query=False)\n",
    "metropolis_K = MH(ranges_X = ranges_cropped_K, std_theta = std_theta_K, std_X = std_X_K)\n",
    "langevin_K = LangevinMH(ranges_X = ranges_cropped_K, dt = 0.1, std_theta = 1., std_X = 1.)"
   ]
  },
  {
   "cell_type": "code",
   "execution_count": 14,
   "metadata": {},
   "outputs": [],
   "source": [
    "tp_pickle_path = \"reproducible_pickles/\"\n",
    "\n",
    "se3T_Q.load_tp(tp_pickle_path + \"se3T_Q/\")\n",
    "tensor_field_Q.load_tp(tp_pickle_path + \"tensor_field_Q/\")\n",
    "se3T_K.load_tp(tp_pickle_path + \"se3T_K/\")\n",
    "energy_model_K.load_tp(tp_pickle_path + \"energy_model_K/\")"
   ]
  },
  {
   "cell_type": "code",
   "execution_count": 15,
   "metadata": {},
   "outputs": [],
   "source": [
    "if device == 'cuda':\n",
    "    se3T_Q = se3T_Q.to(device)\n",
    "    tensor_field_Q = tensor_field_Q.to(device)\n",
    "    se3T_K = se3T_K.to(device)\n",
    "    energy_model_K = energy_model_K.to(device)\n",
    "    metropolis_K = metropolis_K.to(device)\n",
    "    langevin_K = langevin_K.to(device)\n",
    "\n",
    "metropolis_K.get_inv_cdf()\n",
    "langevin_K.get_inv_cdf()"
   ]
  },
  {
   "cell_type": "code",
   "execution_count": 16,
   "metadata": {},
   "outputs": [],
   "source": [
    "lr_Q = 5e-3\n",
    "lr_K = 5e-3\n",
    "lr_energy_K = 20e-3\n",
    "\n",
    "optimizer_Q = torch.optim.Adam(list(se3T_Q.parameters()) + list(tensor_field_Q.parameters()), lr=lr_Q, betas=(0.9, 0.98), eps=1e-09, weight_decay=1e-4, amsgrad=True)\n",
    "optimizer_K = torch.optim.Adam(list(se3T_K.parameters()), lr=lr_K, betas=(0.9, 0.98), eps=1e-09, weight_decay=1e-4, amsgrad=True)\n",
    "optimizer_energy_K = torch.optim.Adam(list(energy_model_K.parameters()), lr=lr_energy_K, betas=(0.9, 0.98), eps=1e-09, weight_decay=0, amsgrad=True)"
   ]
  },
  {
   "cell_type": "code",
   "execution_count": 17,
   "metadata": {},
   "outputs": [
    {
     "data": {
      "text/plain": [
       "<All keys matched successfully>"
      ]
     },
     "execution_count": 17,
     "metadata": {},
     "output_type": "execute_result"
    }
   ],
   "source": [
    "loaded = torch.load('checkpoint/train_place_reproducible/Jun_06_2022__11_36_29/model_place_iter_300.pt', map_location=device)\n",
    "se3T_K.load_state_dict(loaded['se3T_K_state_dict'])\n",
    "energy_model_K.load_state_dict(loaded['energy_model_K_state_dict'])\n",
    "se3T_Q.load_state_dict(loaded['se3T_Q_state_dict'])\n",
    "tensor_field_Q.load_state_dict(loaded['tensor_field_Q_state_dict'])"
   ]
  },
  {
   "cell_type": "code",
   "execution_count": 18,
   "metadata": {},
   "outputs": [
    {
     "data": {
      "text/plain": [
       "<torch._C.Generator at 0x7ff88c5faf10>"
      ]
     },
     "execution_count": 18,
     "metadata": {},
     "output_type": "execute_result"
    }
   ],
   "source": [
    "seed = 0\n",
    "random.seed(seed)\n",
    "np.random.seed(seed)\n",
    "torch.manual_seed(seed)"
   ]
  },
  {
   "cell_type": "code",
   "execution_count": 19,
   "metadata": {},
   "outputs": [],
   "source": [
    "task = MugTask(use_gui=False)"
   ]
  },
  {
   "cell_type": "code",
   "execution_count": 20,
   "metadata": {},
   "outputs": [
    {
     "name": "stdout",
     "output_type": "stream",
     "text": [
      "=================Sample 100==================\n"
     ]
    },
    {
     "name": "stderr",
     "output_type": "stream",
     "text": [
      "100%|██████████| 499/499 [00:11<00:00, 42.99it/s]\n",
      "100%|██████████| 99/99 [00:11<00:00,  8.96it/s]\n"
     ]
    },
    {
     "name": "stdout",
     "output_type": "stream",
     "text": [
      "Pick inference time: 24.29444646835327\n",
      "First iteration is slow\n",
      "Identified 11607 IK solutions with minimum distance of 2.331 in 1.324 seconds\n",
      "Pick success\n"
     ]
    },
    {
     "name": "stderr",
     "output_type": "stream",
     "text": [
      "100%|██████████| 499/499 [00:07<00:00, 66.04it/s]\n",
      "100%|██████████| 99/99 [00:04<00:00, 19.91it/s]\n"
     ]
    },
    {
     "name": "stdout",
     "output_type": "stream",
     "text": [
      "Place inference time: 13.885141849517822\n",
      "Identified 10556 IK solutions with minimum distance of 1.285 in 0.764 seconds\n",
      "Place Success\n",
      "Pick Success Rate: 100%  (1 / 1)    ||   Place Success Rate: 100%   (1 / 1)    ||   Place-and-Place Success Rate: 100%   (1 / 1)\n",
      "======================================\n",
      "=================Sample 101==================\n"
     ]
    },
    {
     "name": "stderr",
     "output_type": "stream",
     "text": [
      "100%|██████████| 499/499 [00:09<00:00, 51.48it/s]\n",
      "100%|██████████| 99/99 [00:06<00:00, 14.38it/s]\n"
     ]
    },
    {
     "name": "stdout",
     "output_type": "stream",
     "text": [
      "Pick inference time: 18.9669189453125\n",
      "Identified 8328 IK solutions with minimum distance of 2.385 in 1.355 seconds\n",
      "Pick success\n"
     ]
    },
    {
     "name": "stderr",
     "output_type": "stream",
     "text": [
      "100%|██████████| 499/499 [00:07<00:00, 69.58it/s]\n",
      "100%|██████████| 99/99 [00:05<00:00, 18.84it/s]\n"
     ]
    },
    {
     "name": "stdout",
     "output_type": "stream",
     "text": [
      "Place inference time: 14.981212854385376\n",
      "Identified 7958 IK solutions with minimum distance of 0.870 in 0.559 seconds\n",
      "Place Success\n",
      "Pick Success Rate: 100%  (2 / 2)    ||   Place Success Rate: 100%   (2 / 2)    ||   Place-and-Place Success Rate: 100%   (2 / 2)\n",
      "======================================\n",
      "=================Sample 102==================\n"
     ]
    },
    {
     "name": "stderr",
     "output_type": "stream",
     "text": [
      "100%|██████████| 499/499 [00:10<00:00, 49.88it/s]\n",
      "100%|██████████| 99/99 [00:07<00:00, 13.64it/s]\n"
     ]
    },
    {
     "name": "stdout",
     "output_type": "stream",
     "text": [
      "Pick inference time: 19.866146564483643\n",
      "Identified 6496 IK solutions with minimum distance of 1.694 in 0.780 seconds\n",
      "Pick success\n"
     ]
    },
    {
     "name": "stderr",
     "output_type": "stream",
     "text": [
      "100%|██████████| 499/499 [00:07<00:00, 70.03it/s]\n",
      "100%|██████████| 99/99 [00:04<00:00, 20.31it/s]\n"
     ]
    },
    {
     "name": "stdout",
     "output_type": "stream",
     "text": [
      "Place inference time: 14.954992532730103\n",
      "Identified 6534 IK solutions with minimum distance of 0.791 in 0.368 seconds\n",
      "Place Success\n",
      "Pick Success Rate: 100%  (3 / 3)    ||   Place Success Rate: 100%   (3 / 3)    ||   Place-and-Place Success Rate: 100%   (3 / 3)\n",
      "======================================\n",
      "=================Sample 103==================\n"
     ]
    },
    {
     "name": "stderr",
     "output_type": "stream",
     "text": [
      "100%|██████████| 499/499 [00:10<00:00, 46.33it/s]\n",
      "100%|██████████| 99/99 [00:07<00:00, 13.00it/s]\n"
     ]
    },
    {
     "name": "stdout",
     "output_type": "stream",
     "text": [
      "Pick inference time: 23.81780219078064\n",
      "Identified 8563 IK solutions with minimum distance of 2.606 in 1.527 seconds\n",
      "Pick success\n"
     ]
    },
    {
     "name": "stderr",
     "output_type": "stream",
     "text": [
      "100%|██████████| 499/499 [00:07<00:00, 69.28it/s]\n",
      "100%|██████████| 99/99 [00:04<00:00, 20.30it/s]\n"
     ]
    },
    {
     "name": "stdout",
     "output_type": "stream",
     "text": [
      "Place inference time: 18.319650888442993\n",
      "Identified 7193 IK solutions with minimum distance of 0.783 in 0.454 seconds\n",
      "Place Success\n",
      "Pick Success Rate: 100%  (4 / 4)    ||   Place Success Rate: 100%   (4 / 4)    ||   Place-and-Place Success Rate: 100%   (4 / 4)\n",
      "======================================\n",
      "=================Sample 104==================\n"
     ]
    },
    {
     "name": "stderr",
     "output_type": "stream",
     "text": [
      "100%|██████████| 499/499 [00:10<00:00, 47.10it/s]\n",
      "100%|██████████| 99/99 [00:07<00:00, 12.72it/s]\n"
     ]
    },
    {
     "name": "stdout",
     "output_type": "stream",
     "text": [
      "Pick inference time: 19.89479637145996\n",
      "Identified 5593 IK solutions with minimum distance of 1.801 in 0.674 seconds\n",
      "Pick success\n"
     ]
    },
    {
     "name": "stderr",
     "output_type": "stream",
     "text": [
      "100%|██████████| 499/499 [00:07<00:00, 69.81it/s]\n",
      "100%|██████████| 99/99 [00:05<00:00, 19.77it/s]\n"
     ]
    },
    {
     "name": "stdout",
     "output_type": "stream",
     "text": [
      "Place inference time: 17.003737688064575\n",
      "Identified 6887 IK solutions with minimum distance of 0.779 in 0.412 seconds\n",
      "Place Success\n",
      "Pick Success Rate: 100%  (5 / 5)    ||   Place Success Rate: 100%   (5 / 5)    ||   Place-and-Place Success Rate: 100%   (5 / 5)\n",
      "======================================\n",
      "=================Sample 105==================\n"
     ]
    },
    {
     "name": "stderr",
     "output_type": "stream",
     "text": [
      "100%|██████████| 499/499 [00:10<00:00, 48.98it/s]\n",
      "100%|██████████| 99/99 [00:07<00:00, 13.35it/s]\n"
     ]
    },
    {
     "name": "stdout",
     "output_type": "stream",
     "text": [
      "Pick inference time: 19.03732180595398\n",
      "Identified 9631 IK solutions with minimum distance of 2.222 in 1.122 seconds\n",
      "Pick success\n"
     ]
    },
    {
     "name": "stderr",
     "output_type": "stream",
     "text": [
      "100%|██████████| 499/499 [00:07<00:00, 69.29it/s]\n",
      "100%|██████████| 99/99 [00:04<00:00, 20.10it/s]\n"
     ]
    },
    {
     "name": "stdout",
     "output_type": "stream",
     "text": [
      "Place inference time: 13.258503437042236\n",
      "Identified 5826 IK solutions with minimum distance of 0.629 in 0.354 seconds\n",
      "Place Success\n",
      "Pick Success Rate: 100%  (6 / 6)    ||   Place Success Rate: 100%   (6 / 6)    ||   Place-and-Place Success Rate: 100%   (6 / 6)\n",
      "======================================\n",
      "=================Sample 106==================\n"
     ]
    },
    {
     "name": "stderr",
     "output_type": "stream",
     "text": [
      "100%|██████████| 499/499 [00:09<00:00, 50.03it/s]\n",
      "100%|██████████| 99/99 [00:06<00:00, 14.38it/s]\n"
     ]
    },
    {
     "name": "stdout",
     "output_type": "stream",
     "text": [
      "Pick inference time: 18.262205362319946\n",
      "Identified 11141 IK solutions with minimum distance of 2.622 in 1.380 seconds\n",
      "Pick success\n"
     ]
    },
    {
     "name": "stderr",
     "output_type": "stream",
     "text": [
      "100%|██████████| 499/499 [00:06<00:00, 71.29it/s]\n",
      "100%|██████████| 99/99 [00:04<00:00, 20.11it/s]\n"
     ]
    },
    {
     "name": "stdout",
     "output_type": "stream",
     "text": [
      "Place inference time: 13.022100925445557\n",
      "Identified 6384 IK solutions with minimum distance of 0.905 in 0.388 seconds\n",
      "Place Success\n",
      "Pick Success Rate: 100%  (7 / 7)    ||   Place Success Rate: 100%   (7 / 7)    ||   Place-and-Place Success Rate: 100%   (7 / 7)\n",
      "======================================\n",
      "=================Sample 107==================\n"
     ]
    },
    {
     "name": "stderr",
     "output_type": "stream",
     "text": [
      "100%|██████████| 499/499 [00:09<00:00, 51.41it/s]\n",
      "100%|██████████| 99/99 [00:06<00:00, 14.95it/s]\n"
     ]
    },
    {
     "name": "stdout",
     "output_type": "stream",
     "text": [
      "Pick inference time: 17.720104694366455\n",
      "Identified 1989 IK solutions with minimum distance of 1.898 in 0.337 seconds\n",
      "Pick success\n"
     ]
    },
    {
     "name": "stderr",
     "output_type": "stream",
     "text": [
      "100%|██████████| 499/499 [00:07<00:00, 71.25it/s]\n",
      "100%|██████████| 99/99 [00:04<00:00, 19.85it/s]\n"
     ]
    },
    {
     "name": "stdout",
     "output_type": "stream",
     "text": [
      "Place inference time: 13.141175746917725\n",
      "Identified 6504 IK solutions with minimum distance of 0.638 in 0.378 seconds\n",
      "Place Success\n",
      "Pick Success Rate: 100%  (8 / 8)    ||   Place Success Rate: 100%   (8 / 8)    ||   Place-and-Place Success Rate: 100%   (8 / 8)\n",
      "======================================\n",
      "=================Sample 108==================\n"
     ]
    },
    {
     "name": "stderr",
     "output_type": "stream",
     "text": [
      "100%|██████████| 499/499 [00:10<00:00, 48.62it/s]\n",
      "100%|██████████| 99/99 [00:07<00:00, 12.88it/s]\n"
     ]
    },
    {
     "name": "stdout",
     "output_type": "stream",
     "text": [
      "Pick inference time: 19.35716986656189\n",
      "Identified 2445 IK solutions with minimum distance of 1.928 in 0.258 seconds\n",
      "Pick success\n"
     ]
    },
    {
     "name": "stderr",
     "output_type": "stream",
     "text": [
      "100%|██████████| 499/499 [00:07<00:00, 68.82it/s]\n",
      "100%|██████████| 99/99 [00:05<00:00, 19.67it/s]\n"
     ]
    },
    {
     "name": "stdout",
     "output_type": "stream",
     "text": [
      "Place inference time: 13.475294589996338\n",
      "Identified 8158 IK solutions with minimum distance of 0.946 in 0.601 seconds\n",
      "Place Success\n",
      "Pick Success Rate: 100%  (9 / 9)    ||   Place Success Rate: 100%   (9 / 9)    ||   Place-and-Place Success Rate: 100%   (9 / 9)\n",
      "======================================\n",
      "=================Sample 109==================\n"
     ]
    },
    {
     "name": "stderr",
     "output_type": "stream",
     "text": [
      "100%|██████████| 499/499 [00:09<00:00, 52.81it/s]\n",
      "100%|██████████| 99/99 [00:06<00:00, 14.85it/s]\n"
     ]
    },
    {
     "name": "stdout",
     "output_type": "stream",
     "text": [
      "Pick inference time: 17.4846031665802\n",
      "Identified 8314 IK solutions with minimum distance of 1.974 in 1.010 seconds\n",
      "Pick success\n"
     ]
    },
    {
     "name": "stderr",
     "output_type": "stream",
     "text": [
      "100%|██████████| 499/499 [00:07<00:00, 70.53it/s]\n",
      "100%|██████████| 99/99 [00:05<00:00, 19.10it/s]\n"
     ]
    },
    {
     "name": "stdout",
     "output_type": "stream",
     "text": [
      "Place inference time: 13.399091958999634\n",
      "Identified 6875 IK solutions with minimum distance of 0.794 in 0.407 seconds\n",
      "Place Success\n",
      "Pick Success Rate: 100%  (10 / 10)    ||   Place Success Rate: 100%   (10 / 10)    ||   Place-and-Place Success Rate: 100%   (10 / 10)\n",
      "======================================\n",
      "=================Sample 110==================\n"
     ]
    },
    {
     "name": "stderr",
     "output_type": "stream",
     "text": [
      "100%|██████████| 499/499 [00:10<00:00, 48.18it/s]\n",
      "100%|██████████| 99/99 [00:07<00:00, 14.13it/s]\n"
     ]
    },
    {
     "name": "stdout",
     "output_type": "stream",
     "text": [
      "Pick inference time: 18.734328031539917\n",
      "Identified 1928 IK solutions with minimum distance of 1.984 in 0.470 seconds\n",
      "Pick success\n"
     ]
    },
    {
     "name": "stderr",
     "output_type": "stream",
     "text": [
      "100%|██████████| 499/499 [00:07<00:00, 70.26it/s]\n",
      "100%|██████████| 99/99 [00:04<00:00, 19.87it/s]\n"
     ]
    },
    {
     "name": "stdout",
     "output_type": "stream",
     "text": [
      "Place inference time: 13.200903415679932\n",
      "Identified 10112 IK solutions with minimum distance of 1.113 in 0.708 seconds\n",
      "Place Success\n",
      "Pick Success Rate: 100%  (11 / 11)    ||   Place Success Rate: 100%   (11 / 11)    ||   Place-and-Place Success Rate: 100%   (11 / 11)\n",
      "======================================\n",
      "=================Sample 111==================\n"
     ]
    },
    {
     "name": "stderr",
     "output_type": "stream",
     "text": [
      "100%|██████████| 499/499 [00:10<00:00, 49.64it/s]\n",
      "100%|██████████| 99/99 [00:06<00:00, 14.44it/s]\n"
     ]
    },
    {
     "name": "stdout",
     "output_type": "stream",
     "text": [
      "Pick inference time: 18.326355457305908\n",
      "Identified 8912 IK solutions with minimum distance of 1.661 in 0.877 seconds\n",
      "Pick success\n"
     ]
    },
    {
     "name": "stderr",
     "output_type": "stream",
     "text": [
      "100%|██████████| 499/499 [00:07<00:00, 71.14it/s]\n",
      "100%|██████████| 99/99 [00:04<00:00, 20.22it/s]\n"
     ]
    },
    {
     "name": "stdout",
     "output_type": "stream",
     "text": [
      "Place inference time: 12.998018741607666\n",
      "Identified 9661 IK solutions with minimum distance of 1.233 in 0.729 seconds\n",
      "Place Success\n",
      "Pick Success Rate: 100%  (12 / 12)    ||   Place Success Rate: 100%   (12 / 12)    ||   Place-and-Place Success Rate: 100%   (12 / 12)\n",
      "======================================\n",
      "=================Sample 112==================\n"
     ]
    },
    {
     "name": "stderr",
     "output_type": "stream",
     "text": [
      "100%|██████████| 499/499 [00:09<00:00, 50.85it/s]\n",
      "100%|██████████| 99/99 [00:07<00:00, 13.64it/s]\n"
     ]
    },
    {
     "name": "stdout",
     "output_type": "stream",
     "text": [
      "Pick inference time: 18.462578535079956\n",
      "Identified 6797 IK solutions with minimum distance of 1.343 in 0.703 seconds\n",
      "Pick success\n"
     ]
    },
    {
     "name": "stderr",
     "output_type": "stream",
     "text": [
      "100%|██████████| 499/499 [00:07<00:00, 69.76it/s]\n",
      "100%|██████████| 99/99 [00:04<00:00, 20.00it/s]\n"
     ]
    },
    {
     "name": "stdout",
     "output_type": "stream",
     "text": [
      "Place inference time: 13.221402168273926\n",
      "Identified 6360 IK solutions with minimum distance of 1.114 in 0.376 seconds\n",
      "Place Success\n",
      "Pick Success Rate: 100%  (13 / 13)    ||   Place Success Rate: 100%   (13 / 13)    ||   Place-and-Place Success Rate: 100%   (13 / 13)\n",
      "======================================\n",
      "=================Sample 113==================\n"
     ]
    },
    {
     "name": "stderr",
     "output_type": "stream",
     "text": [
      "100%|██████████| 499/499 [00:10<00:00, 49.60it/s]\n",
      "100%|██████████| 99/99 [00:07<00:00, 13.22it/s]\n"
     ]
    },
    {
     "name": "stdout",
     "output_type": "stream",
     "text": [
      "Pick inference time: 19.01396107673645\n",
      "Identified 9134 IK solutions with minimum distance of 1.308 in 0.755 seconds\n",
      "Pick success\n"
     ]
    },
    {
     "name": "stderr",
     "output_type": "stream",
     "text": [
      "100%|██████████| 499/499 [00:07<00:00, 69.28it/s]\n",
      "100%|██████████| 99/99 [00:05<00:00, 19.78it/s]\n"
     ]
    },
    {
     "name": "stdout",
     "output_type": "stream",
     "text": [
      "Place inference time: 13.341034412384033\n",
      "Identified 7892 IK solutions with minimum distance of 0.860 in 0.599 seconds\n",
      "Place Success\n",
      "Pick Success Rate: 100%  (14 / 14)    ||   Place Success Rate: 100%   (14 / 14)    ||   Place-and-Place Success Rate: 100%   (14 / 14)\n",
      "======================================\n",
      "=================Sample 114==================\n"
     ]
    },
    {
     "name": "stderr",
     "output_type": "stream",
     "text": [
      "100%|██████████| 499/499 [00:10<00:00, 49.84it/s]\n",
      "100%|██████████| 99/99 [00:07<00:00, 13.09it/s]\n"
     ]
    },
    {
     "name": "stdout",
     "output_type": "stream",
     "text": [
      "Pick inference time: 18.972270965576172\n",
      "Identified 4182 IK solutions with minimum distance of 3.003 in 0.563 seconds\n",
      "Pick success\n"
     ]
    },
    {
     "name": "stderr",
     "output_type": "stream",
     "text": [
      "100%|██████████| 499/499 [00:06<00:00, 71.80it/s]\n",
      "100%|██████████| 99/99 [00:04<00:00, 20.19it/s]\n"
     ]
    },
    {
     "name": "stdout",
     "output_type": "stream",
     "text": [
      "Place inference time: 12.97479248046875\n",
      "Identified 8298 IK solutions with minimum distance of 0.991 in 0.558 seconds\n",
      "Place Success\n",
      "Pick Success Rate: 100%  (15 / 15)    ||   Place Success Rate: 100%   (15 / 15)    ||   Place-and-Place Success Rate: 100%   (15 / 15)\n",
      "======================================\n",
      "=================Sample 115==================\n"
     ]
    },
    {
     "name": "stderr",
     "output_type": "stream",
     "text": [
      "100%|██████████| 499/499 [00:10<00:00, 49.41it/s]\n",
      "100%|██████████| 99/99 [00:07<00:00, 13.88it/s]\n"
     ]
    },
    {
     "name": "stdout",
     "output_type": "stream",
     "text": [
      "Pick inference time: 18.668418645858765\n",
      "Identified 2293 IK solutions with minimum distance of 1.929 in 0.370 seconds\n",
      "Pick success\n"
     ]
    },
    {
     "name": "stderr",
     "output_type": "stream",
     "text": [
      "100%|██████████| 499/499 [00:07<00:00, 70.03it/s]\n",
      "100%|██████████| 99/99 [00:04<00:00, 20.60it/s]\n"
     ]
    },
    {
     "name": "stdout",
     "output_type": "stream",
     "text": [
      "Place inference time: 13.083273649215698\n",
      "Identified 7317 IK solutions with minimum distance of 0.872 in 0.438 seconds\n",
      "Place Success\n",
      "Pick Success Rate: 100%  (16 / 16)    ||   Place Success Rate: 100%   (16 / 16)    ||   Place-and-Place Success Rate: 100%   (16 / 16)\n",
      "======================================\n",
      "=================Sample 116==================\n"
     ]
    },
    {
     "name": "stderr",
     "output_type": "stream",
     "text": [
      "100%|██████████| 499/499 [00:10<00:00, 48.79it/s]\n",
      "100%|██████████| 99/99 [00:07<00:00, 13.17it/s]\n"
     ]
    },
    {
     "name": "stdout",
     "output_type": "stream",
     "text": [
      "Pick inference time: 19.170669555664062\n",
      "Identified 7050 IK solutions with minimum distance of 1.587 in 0.704 seconds\n",
      "Pick success\n"
     ]
    },
    {
     "name": "stderr",
     "output_type": "stream",
     "text": [
      "100%|██████████| 499/499 [00:07<00:00, 69.71it/s]\n",
      "100%|██████████| 99/99 [00:04<00:00, 20.61it/s]\n"
     ]
    },
    {
     "name": "stdout",
     "output_type": "stream",
     "text": [
      "Place inference time: 13.11328125\n",
      "Identified 9086 IK solutions with minimum distance of 0.949 in 0.629 seconds\n",
      "Place Success\n",
      "Pick Success Rate: 100%  (17 / 17)    ||   Place Success Rate: 100%   (17 / 17)    ||   Place-and-Place Success Rate: 100%   (17 / 17)\n",
      "======================================\n",
      "=================Sample 117==================\n"
     ]
    },
    {
     "name": "stderr",
     "output_type": "stream",
     "text": [
      "100%|██████████| 499/499 [00:09<00:00, 51.12it/s]\n",
      "100%|██████████| 99/99 [00:07<00:00, 13.43it/s]\n"
     ]
    },
    {
     "name": "stdout",
     "output_type": "stream",
     "text": [
      "Pick inference time: 18.559820413589478\n",
      "Identified 9181 IK solutions with minimum distance of 2.546 in 1.276 seconds\n",
      "Pick success\n"
     ]
    },
    {
     "name": "stderr",
     "output_type": "stream",
     "text": [
      "100%|██████████| 499/499 [00:07<00:00, 69.13it/s]\n",
      "100%|██████████| 99/99 [00:05<00:00, 18.95it/s]\n"
     ]
    },
    {
     "name": "stdout",
     "output_type": "stream",
     "text": [
      "Place inference time: 13.579721212387085\n",
      "Identified 6493 IK solutions with minimum distance of 0.969 in 0.393 seconds\n",
      "Place Success\n",
      "Pick Success Rate: 100%  (18 / 18)    ||   Place Success Rate: 100%   (18 / 18)    ||   Place-and-Place Success Rate: 100%   (18 / 18)\n",
      "======================================\n",
      "=================Sample 118==================\n"
     ]
    },
    {
     "name": "stderr",
     "output_type": "stream",
     "text": [
      "100%|██████████| 499/499 [00:10<00:00, 48.17it/s]\n",
      "100%|██████████| 99/99 [00:07<00:00, 12.72it/s]\n"
     ]
    },
    {
     "name": "stdout",
     "output_type": "stream",
     "text": [
      "Pick inference time: 19.594948053359985\n",
      "Identified 8914 IK solutions with minimum distance of 2.454 in 1.267 seconds\n",
      "Pick success\n"
     ]
    },
    {
     "name": "stderr",
     "output_type": "stream",
     "text": [
      "100%|██████████| 499/499 [00:07<00:00, 70.49it/s]\n",
      "100%|██████████| 99/99 [00:04<00:00, 20.10it/s]\n"
     ]
    },
    {
     "name": "stdout",
     "output_type": "stream",
     "text": [
      "Place inference time: 13.104167699813843\n",
      "Identified 7779 IK solutions with minimum distance of 0.923 in 0.555 seconds\n",
      "Place Success\n",
      "Pick Success Rate: 100%  (19 / 19)    ||   Place Success Rate: 100%   (19 / 19)    ||   Place-and-Place Success Rate: 100%   (19 / 19)\n",
      "======================================\n",
      "=================Sample 119==================\n"
     ]
    },
    {
     "name": "stderr",
     "output_type": "stream",
     "text": [
      "100%|██████████| 499/499 [00:09<00:00, 50.38it/s]\n",
      "100%|██████████| 99/99 [00:07<00:00, 13.79it/s]\n"
     ]
    },
    {
     "name": "stdout",
     "output_type": "stream",
     "text": [
      "Pick inference time: 18.62087893486023\n",
      "Identified 9464 IK solutions with minimum distance of 1.439 in 0.863 seconds\n",
      "Pick success\n"
     ]
    },
    {
     "name": "stderr",
     "output_type": "stream",
     "text": [
      "100%|██████████| 499/499 [00:07<00:00, 68.27it/s]\n",
      "100%|██████████| 99/99 [00:04<00:00, 20.23it/s]\n"
     ]
    },
    {
     "name": "stdout",
     "output_type": "stream",
     "text": [
      "Place inference time: 13.345669984817505\n",
      "Identified 8353 IK solutions with minimum distance of 1.009 in 0.556 seconds\n",
      "Place Success\n",
      "Pick Success Rate: 100%  (20 / 20)    ||   Place Success Rate: 100%   (20 / 20)    ||   Place-and-Place Success Rate: 100%   (20 / 20)\n",
      "======================================\n",
      "=================Sample 120==================\n"
     ]
    },
    {
     "name": "stderr",
     "output_type": "stream",
     "text": [
      "100%|██████████| 499/499 [00:10<00:00, 49.73it/s]\n",
      "100%|██████████| 99/99 [00:06<00:00, 14.18it/s]\n"
     ]
    },
    {
     "name": "stdout",
     "output_type": "stream",
     "text": [
      "Pick inference time: 18.391337871551514\n",
      "Identified 2314 IK solutions with minimum distance of 1.957 in 0.454 seconds\n",
      "Pick success\n"
     ]
    },
    {
     "name": "stderr",
     "output_type": "stream",
     "text": [
      "100%|██████████| 499/499 [00:06<00:00, 71.59it/s]\n",
      "100%|██████████| 99/99 [00:04<00:00, 20.50it/s]\n"
     ]
    },
    {
     "name": "stdout",
     "output_type": "stream",
     "text": [
      "Place inference time: 12.911163568496704\n",
      "Identified 11286 IK solutions with minimum distance of 1.173 in 0.772 seconds\n",
      "Place Success\n",
      "Pick Success Rate: 100%  (21 / 21)    ||   Place Success Rate: 100%   (21 / 21)    ||   Place-and-Place Success Rate: 100%   (21 / 21)\n",
      "======================================\n",
      "=================Sample 121==================\n"
     ]
    },
    {
     "name": "stderr",
     "output_type": "stream",
     "text": [
      "100%|██████████| 499/499 [00:10<00:00, 47.12it/s]\n",
      "100%|██████████| 99/99 [00:07<00:00, 12.90it/s]\n"
     ]
    },
    {
     "name": "stdout",
     "output_type": "stream",
     "text": [
      "Pick inference time: 19.664249420166016\n",
      "Identified 3864 IK solutions with minimum distance of 1.931 in 0.642 seconds\n",
      "Pick success\n"
     ]
    },
    {
     "name": "stderr",
     "output_type": "stream",
     "text": [
      "100%|██████████| 499/499 [00:07<00:00, 69.16it/s]\n",
      "100%|██████████| 99/99 [00:05<00:00, 18.93it/s]\n"
     ]
    },
    {
     "name": "stdout",
     "output_type": "stream",
     "text": [
      "Place inference time: 13.576640367507935\n",
      "Identified 5197 IK solutions with minimum distance of 0.802 in 0.314 seconds\n",
      "Place Success\n",
      "Pick Success Rate: 100%  (22 / 22)    ||   Place Success Rate: 100%   (22 / 22)    ||   Place-and-Place Success Rate: 100%   (22 / 22)\n",
      "======================================\n",
      "=================Sample 122==================\n"
     ]
    },
    {
     "name": "stderr",
     "output_type": "stream",
     "text": [
      "100%|██████████| 499/499 [00:10<00:00, 48.66it/s]\n",
      "100%|██████████| 99/99 [00:07<00:00, 13.03it/s]\n"
     ]
    },
    {
     "name": "stdout",
     "output_type": "stream",
     "text": [
      "Pick inference time: 19.26449990272522\n",
      "Identified 2129 IK solutions with minimum distance of 1.952 in 0.360 seconds\n",
      "Pick success\n"
     ]
    },
    {
     "name": "stderr",
     "output_type": "stream",
     "text": [
      "100%|██████████| 499/499 [00:07<00:00, 70.13it/s]\n",
      "100%|██████████| 99/99 [00:04<00:00, 19.86it/s]\n"
     ]
    },
    {
     "name": "stdout",
     "output_type": "stream",
     "text": [
      "Place inference time: 13.269134998321533\n",
      "Identified 8308 IK solutions with minimum distance of 0.939 in 0.622 seconds\n",
      "Place Success\n",
      "Pick Success Rate: 100%  (23 / 23)    ||   Place Success Rate: 100%   (23 / 23)    ||   Place-and-Place Success Rate: 100%   (23 / 23)\n",
      "======================================\n",
      "=================Sample 123==================\n"
     ]
    },
    {
     "name": "stderr",
     "output_type": "stream",
     "text": [
      "100%|██████████| 499/499 [00:10<00:00, 48.93it/s]\n",
      "100%|██████████| 99/99 [00:07<00:00, 14.09it/s]\n"
     ]
    },
    {
     "name": "stdout",
     "output_type": "stream",
     "text": [
      "Pick inference time: 18.599833011627197\n",
      "Identified 3274 IK solutions with minimum distance of 2.978 in 0.569 seconds\n",
      "Pick success\n"
     ]
    },
    {
     "name": "stderr",
     "output_type": "stream",
     "text": [
      "100%|██████████| 499/499 [00:07<00:00, 68.78it/s]\n",
      "100%|██████████| 99/99 [00:05<00:00, 19.33it/s]\n"
     ]
    },
    {
     "name": "stdout",
     "output_type": "stream",
     "text": [
      "Place inference time: 13.48253345489502\n",
      "Identified 6362 IK solutions with minimum distance of 0.653 in 0.380 seconds\n",
      "Place Success\n",
      "Pick Success Rate: 100%  (24 / 24)    ||   Place Success Rate: 100%   (24 / 24)    ||   Place-and-Place Success Rate: 100%   (24 / 24)\n",
      "======================================\n",
      "=================Sample 124==================\n"
     ]
    },
    {
     "name": "stderr",
     "output_type": "stream",
     "text": [
      "100%|██████████| 499/499 [00:09<00:00, 50.68it/s]\n",
      "100%|██████████| 99/99 [00:06<00:00, 14.15it/s]\n"
     ]
    },
    {
     "name": "stdout",
     "output_type": "stream",
     "text": [
      "Pick inference time: 18.320040225982666\n",
      "Identified 3048 IK solutions with minimum distance of 2.722 in 0.632 seconds\n",
      "Pick success\n"
     ]
    },
    {
     "name": "stderr",
     "output_type": "stream",
     "text": [
      "100%|██████████| 499/499 [00:07<00:00, 71.02it/s]\n",
      "100%|██████████| 99/99 [00:04<00:00, 20.12it/s]\n"
     ]
    },
    {
     "name": "stdout",
     "output_type": "stream",
     "text": [
      "Place inference time: 13.095159530639648\n",
      "Identified 0 IK solutions with minimum distance of inf in 0.095 seconds\n",
      "Identified 0 IK solutions with minimum distance of inf in 0.484 seconds\n",
      "place IK fail\n",
      "Place Fail\n",
      "Pick Success Rate: 100%  (25 / 25)    ||   Place Success Rate: 96%   (24 / 25)    ||   Place-and-Place Success Rate: 96%   (24 / 25)\n",
      "======================================\n",
      "=================Sample 125==================\n"
     ]
    },
    {
     "name": "stderr",
     "output_type": "stream",
     "text": [
      "100%|██████████| 499/499 [00:10<00:00, 49.21it/s]\n",
      "100%|██████████| 99/99 [00:06<00:00, 14.24it/s]\n"
     ]
    },
    {
     "name": "stdout",
     "output_type": "stream",
     "text": [
      "Pick inference time: 18.48588228225708\n",
      "Identified 9862 IK solutions with minimum distance of 2.493 in 1.288 seconds\n",
      "Pick success\n"
     ]
    },
    {
     "name": "stderr",
     "output_type": "stream",
     "text": [
      "100%|██████████| 499/499 [00:07<00:00, 70.34it/s]\n",
      "100%|██████████| 99/99 [00:04<00:00, 19.95it/s]\n"
     ]
    },
    {
     "name": "stdout",
     "output_type": "stream",
     "text": [
      "Place inference time: 13.188196659088135\n",
      "Identified 8663 IK solutions with minimum distance of 0.979 in 0.682 seconds\n",
      "Place Success\n",
      "Pick Success Rate: 100%  (26 / 26)    ||   Place Success Rate: 96%   (25 / 26)    ||   Place-and-Place Success Rate: 96%   (25 / 26)\n",
      "======================================\n",
      "=================Sample 126==================\n"
     ]
    },
    {
     "name": "stderr",
     "output_type": "stream",
     "text": [
      "100%|██████████| 499/499 [00:10<00:00, 46.28it/s]\n",
      "100%|██████████| 99/99 [00:07<00:00, 12.51it/s]\n"
     ]
    },
    {
     "name": "stdout",
     "output_type": "stream",
     "text": [
      "Pick inference time: 20.1719753742218\n",
      "Identified 5745 IK solutions with minimum distance of 1.535 in 0.648 seconds\n",
      "Pick success\n"
     ]
    },
    {
     "name": "stderr",
     "output_type": "stream",
     "text": [
      "100%|██████████| 499/499 [00:07<00:00, 70.34it/s]\n",
      "100%|██████████| 99/99 [00:05<00:00, 19.61it/s]\n"
     ]
    },
    {
     "name": "stdout",
     "output_type": "stream",
     "text": [
      "Place inference time: 13.327748775482178\n",
      "Identified 3809 IK solutions with minimum distance of 1.133 in 0.237 seconds\n",
      "Place Success\n",
      "Pick Success Rate: 100%  (27 / 27)    ||   Place Success Rate: 96%   (26 / 27)    ||   Place-and-Place Success Rate: 96%   (26 / 27)\n",
      "======================================\n",
      "=================Sample 127==================\n"
     ]
    },
    {
     "name": "stderr",
     "output_type": "stream",
     "text": [
      "100%|██████████| 499/499 [00:09<00:00, 50.20it/s]\n",
      "100%|██████████| 99/99 [00:06<00:00, 14.45it/s]\n"
     ]
    },
    {
     "name": "stdout",
     "output_type": "stream",
     "text": [
      "Pick inference time: 18.192835807800293\n",
      "Identified 10753 IK solutions with minimum distance of 2.020 in 1.072 seconds\n",
      "Pick success\n"
     ]
    },
    {
     "name": "stderr",
     "output_type": "stream",
     "text": [
      "100%|██████████| 499/499 [00:07<00:00, 69.48it/s]\n",
      "100%|██████████| 99/99 [00:04<00:00, 20.25it/s]\n"
     ]
    },
    {
     "name": "stdout",
     "output_type": "stream",
     "text": [
      "Place inference time: 13.152503252029419\n",
      "Identified 9027 IK solutions with minimum distance of 0.991 in 0.628 seconds\n",
      "Place Success\n",
      "Pick Success Rate: 100%  (28 / 28)    ||   Place Success Rate: 96%   (27 / 28)    ||   Place-and-Place Success Rate: 96%   (27 / 28)\n",
      "======================================\n",
      "=================Sample 128==================\n"
     ]
    },
    {
     "name": "stderr",
     "output_type": "stream",
     "text": [
      "100%|██████████| 499/499 [00:09<00:00, 52.81it/s]\n",
      "100%|██████████| 99/99 [00:06<00:00, 14.86it/s]\n"
     ]
    },
    {
     "name": "stdout",
     "output_type": "stream",
     "text": [
      "Pick inference time: 17.470967531204224\n",
      "Identified 9398 IK solutions with minimum distance of 1.487 in 0.877 seconds\n",
      "Pick success\n"
     ]
    },
    {
     "name": "stderr",
     "output_type": "stream",
     "text": [
      "100%|██████████| 499/499 [00:07<00:00, 70.72it/s]\n",
      "100%|██████████| 99/99 [00:04<00:00, 20.06it/s]\n"
     ]
    },
    {
     "name": "stdout",
     "output_type": "stream",
     "text": [
      "Place inference time: 13.110085487365723\n",
      "Identified 7608 IK solutions with minimum distance of 0.798 in 0.433 seconds\n",
      "Place Success\n",
      "Pick Success Rate: 100%  (29 / 29)    ||   Place Success Rate: 96%   (28 / 29)    ||   Place-and-Place Success Rate: 96%   (28 / 29)\n",
      "======================================\n",
      "=================Sample 129==================\n"
     ]
    },
    {
     "name": "stderr",
     "output_type": "stream",
     "text": [
      "100%|██████████| 499/499 [00:10<00:00, 47.45it/s]\n",
      "100%|██████████| 99/99 [00:07<00:00, 12.38it/s]\n"
     ]
    },
    {
     "name": "stdout",
     "output_type": "stream",
     "text": [
      "Pick inference time: 20.011975526809692\n",
      "Identified 9000 IK solutions with minimum distance of 2.038 in 1.057 seconds\n",
      "Pick success\n"
     ]
    },
    {
     "name": "stderr",
     "output_type": "stream",
     "text": [
      "100%|██████████| 499/499 [00:07<00:00, 66.87it/s]\n",
      "100%|██████████| 99/99 [00:05<00:00, 19.39it/s]\n"
     ]
    },
    {
     "name": "stdout",
     "output_type": "stream",
     "text": [
      "Place inference time: 13.711557388305664\n",
      "Identified 6108 IK solutions with minimum distance of 0.760 in 0.363 seconds\n",
      "Place Success\n",
      "Pick Success Rate: 100%  (30 / 30)    ||   Place Success Rate: 96%   (29 / 30)    ||   Place-and-Place Success Rate: 96%   (29 / 30)\n",
      "======================================\n",
      "=================Sample 130==================\n"
     ]
    },
    {
     "name": "stderr",
     "output_type": "stream",
     "text": [
      "100%|██████████| 499/499 [00:10<00:00, 47.06it/s]\n",
      "100%|██████████| 99/99 [00:07<00:00, 12.95it/s]\n"
     ]
    },
    {
     "name": "stdout",
     "output_type": "stream",
     "text": [
      "Pick inference time: 19.65672254562378\n",
      "Identified 5416 IK solutions with minimum distance of 3.012 in 0.582 seconds\n",
      "Pick success\n"
     ]
    },
    {
     "name": "stderr",
     "output_type": "stream",
     "text": [
      "100%|██████████| 499/499 [00:07<00:00, 68.66it/s]\n",
      "100%|██████████| 99/99 [00:05<00:00, 18.93it/s]\n"
     ]
    },
    {
     "name": "stdout",
     "output_type": "stream",
     "text": [
      "Place inference time: 13.624092102050781\n",
      "Identified 9906 IK solutions with minimum distance of 1.137 in 0.756 seconds\n",
      "Place Success\n",
      "Pick Success Rate: 100%  (31 / 31)    ||   Place Success Rate: 96%   (30 / 31)    ||   Place-and-Place Success Rate: 96%   (30 / 31)\n",
      "======================================\n",
      "=================Sample 131==================\n"
     ]
    },
    {
     "name": "stderr",
     "output_type": "stream",
     "text": [
      "100%|██████████| 499/499 [00:09<00:00, 51.28it/s]\n",
      "100%|██████████| 99/99 [00:06<00:00, 14.79it/s]\n"
     ]
    },
    {
     "name": "stdout",
     "output_type": "stream",
     "text": [
      "Pick inference time: 17.759382963180542\n",
      "Identified 2764 IK solutions with minimum distance of 1.841 in 0.386 seconds\n",
      "Pick success\n"
     ]
    },
    {
     "name": "stderr",
     "output_type": "stream",
     "text": [
      "100%|██████████| 499/499 [00:07<00:00, 70.70it/s]\n",
      "100%|██████████| 99/99 [00:05<00:00, 19.33it/s]\n"
     ]
    },
    {
     "name": "stdout",
     "output_type": "stream",
     "text": [
      "Place inference time: 13.261623859405518\n",
      "Identified 6375 IK solutions with minimum distance of 0.707 in 0.382 seconds\n",
      "Place Success\n",
      "Pick Success Rate: 100%  (32 / 32)    ||   Place Success Rate: 96%   (31 / 32)    ||   Place-and-Place Success Rate: 96%   (31 / 32)\n",
      "======================================\n",
      "=================Sample 132==================\n"
     ]
    },
    {
     "name": "stderr",
     "output_type": "stream",
     "text": [
      "100%|██████████| 499/499 [00:10<00:00, 48.71it/s]\n",
      "100%|██████████| 99/99 [00:07<00:00, 13.20it/s]\n"
     ]
    },
    {
     "name": "stdout",
     "output_type": "stream",
     "text": [
      "Pick inference time: 19.13599181175232\n",
      "Identified 8375 IK solutions with minimum distance of 1.095 in 0.631 seconds\n",
      "Pick success\n"
     ]
    },
    {
     "name": "stderr",
     "output_type": "stream",
     "text": [
      "100%|██████████| 499/499 [00:06<00:00, 71.30it/s]\n",
      "100%|██████████| 99/99 [00:04<00:00, 20.09it/s]\n"
     ]
    },
    {
     "name": "stdout",
     "output_type": "stream",
     "text": [
      "Place inference time: 13.09650182723999\n",
      "Identified 8098 IK solutions with minimum distance of 1.012 in 0.447 seconds\n",
      "Place Success\n",
      "Pick Success Rate: 100%  (33 / 33)    ||   Place Success Rate: 96%   (32 / 33)    ||   Place-and-Place Success Rate: 96%   (32 / 33)\n",
      "======================================\n",
      "=================Sample 133==================\n"
     ]
    },
    {
     "name": "stderr",
     "output_type": "stream",
     "text": [
      "100%|██████████| 499/499 [00:10<00:00, 48.81it/s]\n",
      "100%|██████████| 99/99 [00:07<00:00, 13.18it/s]\n"
     ]
    },
    {
     "name": "stdout",
     "output_type": "stream",
     "text": [
      "Pick inference time: 19.147244453430176\n",
      "Identified 11326 IK solutions with minimum distance of 2.174 in 1.203 seconds\n",
      "Pick success\n"
     ]
    },
    {
     "name": "stderr",
     "output_type": "stream",
     "text": [
      "100%|██████████| 499/499 [00:07<00:00, 69.42it/s]\n",
      "100%|██████████| 99/99 [00:05<00:00, 19.06it/s]\n"
     ]
    },
    {
     "name": "stdout",
     "output_type": "stream",
     "text": [
      "Place inference time: 13.542428970336914\n",
      "Identified 6333 IK solutions with minimum distance of 0.660 in 0.396 seconds\n",
      "Place Success\n",
      "Pick Success Rate: 100%  (34 / 34)    ||   Place Success Rate: 97%   (33 / 34)    ||   Place-and-Place Success Rate: 97%   (33 / 34)\n",
      "======================================\n",
      "=================Sample 134==================\n"
     ]
    },
    {
     "name": "stderr",
     "output_type": "stream",
     "text": [
      "100%|██████████| 499/499 [00:10<00:00, 48.84it/s]\n",
      "100%|██████████| 99/99 [00:07<00:00, 14.06it/s]\n"
     ]
    },
    {
     "name": "stdout",
     "output_type": "stream",
     "text": [
      "Pick inference time: 18.646090984344482\n",
      "Identified 7559 IK solutions with minimum distance of 1.080 in 0.581 seconds\n",
      "Pick success\n"
     ]
    },
    {
     "name": "stderr",
     "output_type": "stream",
     "text": [
      "100%|██████████| 499/499 [00:07<00:00, 70.23it/s]\n",
      "100%|██████████| 99/99 [00:05<00:00, 18.99it/s]\n"
     ]
    },
    {
     "name": "stdout",
     "output_type": "stream",
     "text": [
      "Place inference time: 13.500547170639038\n",
      "Identified 9208 IK solutions with minimum distance of 0.988 in 0.597 seconds\n",
      "Place Success\n",
      "Pick Success Rate: 100%  (35 / 35)    ||   Place Success Rate: 97%   (34 / 35)    ||   Place-and-Place Success Rate: 97%   (34 / 35)\n",
      "======================================\n",
      "=================Sample 135==================\n"
     ]
    },
    {
     "name": "stderr",
     "output_type": "stream",
     "text": [
      "100%|██████████| 499/499 [00:10<00:00, 49.56it/s]\n",
      "100%|██████████| 99/99 [00:07<00:00, 13.18it/s]\n"
     ]
    },
    {
     "name": "stdout",
     "output_type": "stream",
     "text": [
      "Pick inference time: 18.997520923614502\n",
      "Identified 3131 IK solutions with minimum distance of 1.817 in 0.454 seconds\n",
      "Pick success\n"
     ]
    },
    {
     "name": "stderr",
     "output_type": "stream",
     "text": [
      "100%|██████████| 499/499 [00:07<00:00, 69.79it/s]\n",
      "100%|██████████| 99/99 [00:04<00:00, 20.02it/s]\n"
     ]
    },
    {
     "name": "stdout",
     "output_type": "stream",
     "text": [
      "Place inference time: 13.2264084815979\n",
      "Identified 6840 IK solutions with minimum distance of 1.300 in 0.740 seconds\n",
      "Place Success\n",
      "Pick Success Rate: 100%  (36 / 36)    ||   Place Success Rate: 97%   (35 / 36)    ||   Place-and-Place Success Rate: 97%   (35 / 36)\n",
      "======================================\n",
      "=================Sample 136==================\n"
     ]
    },
    {
     "name": "stderr",
     "output_type": "stream",
     "text": [
      "100%|██████████| 499/499 [00:10<00:00, 47.83it/s]\n",
      "100%|██████████| 99/99 [00:07<00:00, 12.79it/s]\n"
     ]
    },
    {
     "name": "stdout",
     "output_type": "stream",
     "text": [
      "Pick inference time: 19.5694260597229\n",
      "Identified 3938 IK solutions with minimum distance of 3.171 in 0.525 seconds\n",
      "Pick success\n"
     ]
    },
    {
     "name": "stderr",
     "output_type": "stream",
     "text": [
      "100%|██████████| 499/499 [00:07<00:00, 67.50it/s]\n",
      "100%|██████████| 99/99 [00:05<00:00, 18.57it/s]\n"
     ]
    },
    {
     "name": "stdout",
     "output_type": "stream",
     "text": [
      "Place inference time: 13.851334810256958\n",
      "Identified 11693 IK solutions with minimum distance of 1.172 in 0.803 seconds\n",
      "Place Success\n",
      "Pick Success Rate: 100%  (37 / 37)    ||   Place Success Rate: 97%   (36 / 37)    ||   Place-and-Place Success Rate: 97%   (36 / 37)\n",
      "======================================\n",
      "=================Sample 137==================\n"
     ]
    },
    {
     "name": "stderr",
     "output_type": "stream",
     "text": [
      "100%|██████████| 499/499 [00:10<00:00, 48.29it/s]\n",
      "100%|██████████| 99/99 [00:07<00:00, 12.85it/s]\n"
     ]
    },
    {
     "name": "stdout",
     "output_type": "stream",
     "text": [
      "Pick inference time: 19.494113445281982\n",
      "Identified 10894 IK solutions with minimum distance of 2.313 in 1.319 seconds\n",
      "Pick success\n"
     ]
    },
    {
     "name": "stderr",
     "output_type": "stream",
     "text": [
      "100%|██████████| 499/499 [00:07<00:00, 70.07it/s]\n",
      "100%|██████████| 99/99 [00:05<00:00, 19.61it/s]\n"
     ]
    },
    {
     "name": "stdout",
     "output_type": "stream",
     "text": [
      "Place inference time: 13.340569496154785\n",
      "Identified 6029 IK solutions with minimum distance of 0.656 in 0.358 seconds\n",
      "Place Success\n",
      "Pick Success Rate: 100%  (38 / 38)    ||   Place Success Rate: 97%   (37 / 38)    ||   Place-and-Place Success Rate: 97%   (37 / 38)\n",
      "======================================\n",
      "=================Sample 138==================\n"
     ]
    },
    {
     "name": "stderr",
     "output_type": "stream",
     "text": [
      "100%|██████████| 499/499 [00:10<00:00, 49.11it/s]\n",
      "100%|██████████| 99/99 [00:07<00:00, 13.14it/s]\n"
     ]
    },
    {
     "name": "stdout",
     "output_type": "stream",
     "text": [
      "Pick inference time: 19.113853693008423\n",
      "Identified 3729 IK solutions with minimum distance of 3.140 in 0.307 seconds\n",
      "Pick success\n"
     ]
    },
    {
     "name": "stderr",
     "output_type": "stream",
     "text": [
      "100%|██████████| 499/499 [00:06<00:00, 72.52it/s]\n",
      "100%|██████████| 99/99 [00:04<00:00, 20.89it/s]\n"
     ]
    },
    {
     "name": "stdout",
     "output_type": "stream",
     "text": [
      "Place inference time: 12.688766479492188\n",
      "Identified 0 IK solutions with minimum distance of inf in 0.093 seconds\n",
      "Identified 0 IK solutions with minimum distance of inf in 0.472 seconds\n",
      "place IK fail\n",
      "Place Fail\n",
      "Pick Success Rate: 100%  (39 / 39)    ||   Place Success Rate: 94%   (37 / 39)    ||   Place-and-Place Success Rate: 94%   (37 / 39)\n",
      "======================================\n",
      "=================Sample 139==================\n"
     ]
    },
    {
     "name": "stderr",
     "output_type": "stream",
     "text": [
      "100%|██████████| 499/499 [00:10<00:00, 48.95it/s]\n",
      "100%|██████████| 99/99 [00:07<00:00, 13.10it/s]\n"
     ]
    },
    {
     "name": "stdout",
     "output_type": "stream",
     "text": [
      "Pick inference time: 19.40630555152893\n",
      "Identified 7751 IK solutions with minimum distance of 2.444 in 1.233 seconds\n",
      "Pick success\n"
     ]
    },
    {
     "name": "stderr",
     "output_type": "stream",
     "text": [
      "100%|██████████| 499/499 [00:07<00:00, 66.91it/s]\n",
      "100%|██████████| 99/99 [00:05<00:00, 19.06it/s]\n"
     ]
    },
    {
     "name": "stdout",
     "output_type": "stream",
     "text": [
      "Place inference time: 13.80520486831665\n",
      "Identified 6449 IK solutions with minimum distance of 0.789 in 0.369 seconds\n",
      "Place Success\n",
      "Pick Success Rate: 100%  (40 / 40)    ||   Place Success Rate: 95%   (38 / 40)    ||   Place-and-Place Success Rate: 95%   (38 / 40)\n",
      "======================================\n",
      "=================Sample 140==================\n"
     ]
    },
    {
     "name": "stderr",
     "output_type": "stream",
     "text": [
      "100%|██████████| 499/499 [00:10<00:00, 48.17it/s]\n",
      "100%|██████████| 99/99 [00:07<00:00, 12.89it/s]\n"
     ]
    },
    {
     "name": "stdout",
     "output_type": "stream",
     "text": [
      "Pick inference time: 19.44736671447754\n",
      "Identified 8808 IK solutions with minimum distance of 0.958 in 0.699 seconds\n",
      "Pick success\n"
     ]
    },
    {
     "name": "stderr",
     "output_type": "stream",
     "text": [
      "100%|██████████| 499/499 [00:07<00:00, 69.12it/s]\n",
      "100%|██████████| 99/99 [00:05<00:00, 19.09it/s]\n"
     ]
    },
    {
     "name": "stdout",
     "output_type": "stream",
     "text": [
      "Place inference time: 13.5560302734375\n",
      "Identified 5223 IK solutions with minimum distance of 1.354 in 0.466 seconds\n",
      "Place Success\n",
      "Pick Success Rate: 100%  (41 / 41)    ||   Place Success Rate: 95%   (39 / 41)    ||   Place-and-Place Success Rate: 95%   (39 / 41)\n",
      "======================================\n",
      "=================Sample 141==================\n"
     ]
    },
    {
     "name": "stderr",
     "output_type": "stream",
     "text": [
      "100%|██████████| 499/499 [00:10<00:00, 49.45it/s]\n",
      "100%|██████████| 99/99 [00:07<00:00, 12.77it/s]\n"
     ]
    },
    {
     "name": "stdout",
     "output_type": "stream",
     "text": [
      "Pick inference time: 19.305603981018066\n",
      "Identified 10226 IK solutions with minimum distance of 2.559 in 1.303 seconds\n",
      "Pick success\n"
     ]
    },
    {
     "name": "stderr",
     "output_type": "stream",
     "text": [
      "100%|██████████| 499/499 [00:07<00:00, 68.96it/s]\n",
      "100%|██████████| 99/99 [00:05<00:00, 19.74it/s]\n"
     ]
    },
    {
     "name": "stdout",
     "output_type": "stream",
     "text": [
      "Place inference time: 13.381597995758057\n",
      "Identified 8556 IK solutions with minimum distance of 1.007 in 0.592 seconds\n",
      "Place Success\n",
      "Pick Success Rate: 100%  (42 / 42)    ||   Place Success Rate: 95%   (40 / 42)    ||   Place-and-Place Success Rate: 95%   (40 / 42)\n",
      "======================================\n",
      "=================Sample 142==================\n"
     ]
    },
    {
     "name": "stderr",
     "output_type": "stream",
     "text": [
      "100%|██████████| 499/499 [00:10<00:00, 49.24it/s]\n",
      "100%|██████████| 99/99 [00:06<00:00, 14.18it/s]\n"
     ]
    },
    {
     "name": "stdout",
     "output_type": "stream",
     "text": [
      "Pick inference time: 18.523284196853638\n",
      "Identified 10622 IK solutions with minimum distance of 2.241 in 1.201 seconds\n",
      "Pick success\n"
     ]
    },
    {
     "name": "stderr",
     "output_type": "stream",
     "text": [
      "100%|██████████| 499/499 [00:07<00:00, 68.40it/s]\n",
      "100%|██████████| 99/99 [00:05<00:00, 19.48it/s]\n"
     ]
    },
    {
     "name": "stdout",
     "output_type": "stream",
     "text": [
      "Place inference time: 13.487209796905518\n",
      "Identified 6280 IK solutions with minimum distance of 0.639 in 0.381 seconds\n",
      "Place Success\n",
      "Pick Success Rate: 100%  (43 / 43)    ||   Place Success Rate: 95%   (41 / 43)    ||   Place-and-Place Success Rate: 95%   (41 / 43)\n",
      "======================================\n",
      "=================Sample 143==================\n"
     ]
    },
    {
     "name": "stderr",
     "output_type": "stream",
     "text": [
      "100%|██████████| 499/499 [00:10<00:00, 47.25it/s]\n",
      "100%|██████████| 99/99 [00:07<00:00, 13.02it/s]\n"
     ]
    },
    {
     "name": "stdout",
     "output_type": "stream",
     "text": [
      "Pick inference time: 19.53978967666626\n",
      "Identified 7942 IK solutions with minimum distance of 1.186 in 0.588 seconds\n",
      "Pick success\n"
     ]
    },
    {
     "name": "stderr",
     "output_type": "stream",
     "text": [
      "100%|██████████| 499/499 [00:07<00:00, 70.24it/s]\n",
      "100%|██████████| 99/99 [00:04<00:00, 19.82it/s]\n"
     ]
    },
    {
     "name": "stdout",
     "output_type": "stream",
     "text": [
      "Place inference time: 13.223329305648804\n",
      "Identified 8658 IK solutions with minimum distance of 1.057 in 0.667 seconds\n",
      "Place Success\n",
      "Pick Success Rate: 100%  (44 / 44)    ||   Place Success Rate: 95%   (42 / 44)    ||   Place-and-Place Success Rate: 95%   (42 / 44)\n",
      "======================================\n",
      "=================Sample 144==================\n"
     ]
    },
    {
     "name": "stderr",
     "output_type": "stream",
     "text": [
      "100%|██████████| 499/499 [00:09<00:00, 50.07it/s]\n",
      "100%|██████████| 99/99 [00:06<00:00, 14.36it/s]\n"
     ]
    },
    {
     "name": "stdout",
     "output_type": "stream",
     "text": [
      "Pick inference time: 18.246856689453125\n",
      "Identified 3850 IK solutions with minimum distance of 1.760 in 0.664 seconds\n",
      "Pick success\n"
     ]
    },
    {
     "name": "stderr",
     "output_type": "stream",
     "text": [
      "100%|██████████| 499/499 [00:07<00:00, 70.24it/s]\n",
      "100%|██████████| 99/99 [00:05<00:00, 19.49it/s]\n"
     ]
    },
    {
     "name": "stdout",
     "output_type": "stream",
     "text": [
      "Place inference time: 13.31876015663147\n",
      "Identified 6279 IK solutions with minimum distance of 0.656 in 0.380 seconds\n",
      "Place Success\n",
      "Pick Success Rate: 100%  (45 / 45)    ||   Place Success Rate: 95%   (43 / 45)    ||   Place-and-Place Success Rate: 95%   (43 / 45)\n",
      "======================================\n",
      "=================Sample 145==================\n"
     ]
    },
    {
     "name": "stderr",
     "output_type": "stream",
     "text": [
      "100%|██████████| 499/499 [00:10<00:00, 48.10it/s]\n",
      "100%|██████████| 99/99 [00:07<00:00, 12.69it/s]\n"
     ]
    },
    {
     "name": "stdout",
     "output_type": "stream",
     "text": [
      "Pick inference time: 19.593310594558716\n",
      "Identified 9127 IK solutions with minimum distance of 1.422 in 0.754 seconds\n",
      "Pick success\n"
     ]
    },
    {
     "name": "stderr",
     "output_type": "stream",
     "text": [
      "100%|██████████| 499/499 [00:07<00:00, 68.04it/s]\n",
      "100%|██████████| 99/99 [00:05<00:00, 19.63it/s]\n"
     ]
    },
    {
     "name": "stdout",
     "output_type": "stream",
     "text": [
      "Place inference time: 13.561182022094727\n",
      "Identified 7714 IK solutions with minimum distance of 0.864 in 0.434 seconds\n",
      "Place Success\n",
      "Pick Success Rate: 100%  (46 / 46)    ||   Place Success Rate: 95%   (44 / 46)    ||   Place-and-Place Success Rate: 95%   (44 / 46)\n",
      "======================================\n",
      "=================Sample 146==================\n"
     ]
    },
    {
     "name": "stderr",
     "output_type": "stream",
     "text": [
      "100%|██████████| 499/499 [00:10<00:00, 47.68it/s]\n",
      "100%|██████████| 99/99 [00:07<00:00, 13.06it/s]\n"
     ]
    },
    {
     "name": "stdout",
     "output_type": "stream",
     "text": [
      "Pick inference time: 19.579172134399414\n",
      "Identified 2589 IK solutions with minimum distance of 2.889 in 1.263 seconds\n",
      "Pick fail\n",
      "Pick Success Rate: 97%  (46 / 47)    ||   Place Success Rate: 95%   (44 / 46)    ||   Place-and-Place Success Rate: 93%   (44 / 47)\n",
      "======================================\n",
      "=================Sample 147==================\n"
     ]
    },
    {
     "name": "stderr",
     "output_type": "stream",
     "text": [
      "100%|██████████| 499/499 [00:09<00:00, 51.63it/s]\n",
      "100%|██████████| 99/99 [00:06<00:00, 14.63it/s]\n"
     ]
    },
    {
     "name": "stdout",
     "output_type": "stream",
     "text": [
      "Pick inference time: 17.82028865814209\n",
      "Identified 5709 IK solutions with minimum distance of 1.680 in 1.056 seconds\n",
      "Pick success\n"
     ]
    },
    {
     "name": "stderr",
     "output_type": "stream",
     "text": [
      "100%|██████████| 499/499 [00:07<00:00, 67.75it/s]\n",
      "100%|██████████| 99/99 [00:05<00:00, 19.35it/s]\n"
     ]
    },
    {
     "name": "stdout",
     "output_type": "stream",
     "text": [
      "Place inference time: 13.597025871276855\n",
      "Identified 6269 IK solutions with minimum distance of 0.712 in 0.358 seconds\n",
      "Place Success\n",
      "Pick Success Rate: 97%  (47 / 48)    ||   Place Success Rate: 95%   (45 / 47)    ||   Place-and-Place Success Rate: 93%   (45 / 48)\n",
      "======================================\n",
      "=================Sample 148==================\n"
     ]
    },
    {
     "name": "stderr",
     "output_type": "stream",
     "text": [
      "100%|██████████| 499/499 [00:10<00:00, 49.41it/s]\n",
      "100%|██████████| 99/99 [00:07<00:00, 13.25it/s]\n"
     ]
    },
    {
     "name": "stdout",
     "output_type": "stream",
     "text": [
      "Pick inference time: 18.962165117263794\n",
      "Identified 3816 IK solutions with minimum distance of 1.726 in 0.850 seconds\n",
      "Pick success\n"
     ]
    },
    {
     "name": "stderr",
     "output_type": "stream",
     "text": [
      "100%|██████████| 499/499 [00:07<00:00, 69.28it/s]\n",
      "100%|██████████| 99/99 [00:05<00:00, 19.76it/s]\n"
     ]
    },
    {
     "name": "stdout",
     "output_type": "stream",
     "text": [
      "Place inference time: 13.322226762771606\n",
      "Identified 10066 IK solutions with minimum distance of 1.170 in 0.714 seconds\n",
      "Place Success\n",
      "Pick Success Rate: 97%  (48 / 49)    ||   Place Success Rate: 95%   (46 / 48)    ||   Place-and-Place Success Rate: 93%   (46 / 49)\n",
      "======================================\n",
      "=================Sample 149==================\n"
     ]
    },
    {
     "name": "stderr",
     "output_type": "stream",
     "text": [
      "100%|██████████| 499/499 [00:10<00:00, 48.76it/s]\n",
      "100%|██████████| 99/99 [00:06<00:00, 14.17it/s]\n"
     ]
    },
    {
     "name": "stdout",
     "output_type": "stream",
     "text": [
      "Pick inference time: 18.6301212310791\n",
      "Identified 11775 IK solutions with minimum distance of 1.453 in 1.138 seconds\n",
      "Pick fail\n",
      "Pick Success Rate: 96%  (48 / 50)    ||   Place Success Rate: 95%   (46 / 48)    ||   Place-and-Place Success Rate: 92%   (46 / 50)\n",
      "======================================\n",
      "=================Sample 150==================\n"
     ]
    },
    {
     "name": "stderr",
     "output_type": "stream",
     "text": [
      "100%|██████████| 499/499 [00:10<00:00, 49.80it/s]\n",
      "100%|██████████| 99/99 [00:07<00:00, 12.88it/s]\n"
     ]
    },
    {
     "name": "stdout",
     "output_type": "stream",
     "text": [
      "Pick inference time: 19.192180395126343\n",
      "Identified 6887 IK solutions with minimum distance of 1.771 in 0.829 seconds\n",
      "Pick success\n"
     ]
    },
    {
     "name": "stderr",
     "output_type": "stream",
     "text": [
      "100%|██████████| 499/499 [00:07<00:00, 69.79it/s]\n",
      "100%|██████████| 99/99 [00:05<00:00, 19.52it/s]\n"
     ]
    },
    {
     "name": "stdout",
     "output_type": "stream",
     "text": [
      "Place inference time: 13.308444499969482\n",
      "Identified 9883 IK solutions with minimum distance of 1.081 in 0.702 seconds\n",
      "Place Success\n",
      "Pick Success Rate: 96%  (49 / 51)    ||   Place Success Rate: 95%   (47 / 49)    ||   Place-and-Place Success Rate: 92%   (47 / 51)\n",
      "======================================\n",
      "=================Sample 151==================\n"
     ]
    },
    {
     "name": "stderr",
     "output_type": "stream",
     "text": [
      "100%|██████████| 499/499 [00:10<00:00, 48.12it/s]\n",
      "100%|██████████| 99/99 [00:07<00:00, 12.89it/s]\n"
     ]
    },
    {
     "name": "stdout",
     "output_type": "stream",
     "text": [
      "Pick inference time: 19.439542770385742\n",
      "Identified 7525 IK solutions with minimum distance of 1.024 in 0.589 seconds\n",
      "Pick success\n"
     ]
    },
    {
     "name": "stderr",
     "output_type": "stream",
     "text": [
      "100%|██████████| 499/499 [00:07<00:00, 69.68it/s]\n",
      "100%|██████████| 99/99 [00:05<00:00, 19.51it/s]\n"
     ]
    },
    {
     "name": "stdout",
     "output_type": "stream",
     "text": [
      "Place inference time: 13.384230852127075\n",
      "Identified 7150 IK solutions with minimum distance of 0.790 in 0.425 seconds\n",
      "Place Success\n",
      "Pick Success Rate: 96%  (50 / 52)    ||   Place Success Rate: 96%   (48 / 50)    ||   Place-and-Place Success Rate: 92%   (48 / 52)\n",
      "======================================\n",
      "=================Sample 152==================\n"
     ]
    },
    {
     "name": "stderr",
     "output_type": "stream",
     "text": [
      "100%|██████████| 499/499 [00:09<00:00, 50.51it/s]\n",
      "100%|██████████| 99/99 [00:07<00:00, 12.61it/s]\n"
     ]
    },
    {
     "name": "stdout",
     "output_type": "stream",
     "text": [
      "Pick inference time: 19.22171664237976\n",
      "Identified 8328 IK solutions with minimum distance of 2.661 in 1.291 seconds\n",
      "Pick success\n"
     ]
    },
    {
     "name": "stderr",
     "output_type": "stream",
     "text": [
      "100%|██████████| 499/499 [00:07<00:00, 70.90it/s]\n",
      "100%|██████████| 99/99 [00:04<00:00, 20.07it/s]\n"
     ]
    },
    {
     "name": "stdout",
     "output_type": "stream",
     "text": [
      "Place inference time: 13.065221786499023\n",
      "Identified 9272 IK solutions with minimum distance of 1.115 in 0.738 seconds\n",
      "Place Success\n",
      "Pick Success Rate: 96%  (51 / 53)    ||   Place Success Rate: 96%   (49 / 51)    ||   Place-and-Place Success Rate: 92%   (49 / 53)\n",
      "======================================\n",
      "=================Sample 153==================\n"
     ]
    },
    {
     "name": "stderr",
     "output_type": "stream",
     "text": [
      "100%|██████████| 499/499 [00:10<00:00, 48.83it/s]\n",
      "100%|██████████| 99/99 [00:07<00:00, 13.02it/s]\n"
     ]
    },
    {
     "name": "stdout",
     "output_type": "stream",
     "text": [
      "Pick inference time: 19.222442626953125\n",
      "Identified 5028 IK solutions with minimum distance of 1.957 in 0.621 seconds\n",
      "Pick success\n"
     ]
    },
    {
     "name": "stderr",
     "output_type": "stream",
     "text": [
      "100%|██████████| 499/499 [00:07<00:00, 68.42it/s]\n",
      "100%|██████████| 99/99 [00:05<00:00, 19.33it/s]\n"
     ]
    },
    {
     "name": "stdout",
     "output_type": "stream",
     "text": [
      "Place inference time: 13.587450504302979\n",
      "Identified 6972 IK solutions with minimum distance of 0.810 in 0.422 seconds\n",
      "Place Success\n",
      "Pick Success Rate: 96%  (52 / 54)    ||   Place Success Rate: 96%   (50 / 52)    ||   Place-and-Place Success Rate: 92%   (50 / 54)\n",
      "======================================\n",
      "=================Sample 154==================\n"
     ]
    },
    {
     "name": "stderr",
     "output_type": "stream",
     "text": [
      "100%|██████████| 499/499 [00:10<00:00, 45.95it/s]\n",
      "100%|██████████| 99/99 [00:07<00:00, 12.54it/s]\n"
     ]
    },
    {
     "name": "stdout",
     "output_type": "stream",
     "text": [
      "Pick inference time: 20.2266743183136\n",
      "Identified 6573 IK solutions with minimum distance of 2.284 in 1.019 seconds\n",
      "Pick success\n"
     ]
    },
    {
     "name": "stderr",
     "output_type": "stream",
     "text": [
      "100%|██████████| 499/499 [00:07<00:00, 68.69it/s]\n",
      "100%|██████████| 99/99 [00:05<00:00, 19.01it/s]\n"
     ]
    },
    {
     "name": "stdout",
     "output_type": "stream",
     "text": [
      "Place inference time: 13.603625774383545\n",
      "Identified 5738 IK solutions with minimum distance of 0.673 in 0.357 seconds\n",
      "Place Success\n",
      "Pick Success Rate: 96%  (53 / 55)    ||   Place Success Rate: 96%   (51 / 53)    ||   Place-and-Place Success Rate: 92%   (51 / 55)\n",
      "======================================\n",
      "=================Sample 155==================\n"
     ]
    },
    {
     "name": "stderr",
     "output_type": "stream",
     "text": [
      "100%|██████████| 499/499 [00:10<00:00, 49.31it/s]\n",
      "100%|██████████| 99/99 [00:06<00:00, 14.18it/s]\n"
     ]
    },
    {
     "name": "stdout",
     "output_type": "stream",
     "text": [
      "Pick inference time: 18.450926065444946\n",
      "Identified 5316 IK solutions with minimum distance of 2.904 in 0.649 seconds\n",
      "Pick success\n"
     ]
    },
    {
     "name": "stderr",
     "output_type": "stream",
     "text": [
      "100%|██████████| 499/499 [00:07<00:00, 67.03it/s]\n",
      "100%|██████████| 99/99 [00:04<00:00, 19.91it/s]\n"
     ]
    },
    {
     "name": "stdout",
     "output_type": "stream",
     "text": [
      "Place inference time: 13.537581443786621\n",
      "Identified 7722 IK solutions with minimum distance of 0.941 in 0.456 seconds\n",
      "Place Success\n",
      "Pick Success Rate: 96%  (54 / 56)    ||   Place Success Rate: 96%   (52 / 54)    ||   Place-and-Place Success Rate: 92%   (52 / 56)\n",
      "======================================\n",
      "=================Sample 156==================\n"
     ]
    },
    {
     "name": "stderr",
     "output_type": "stream",
     "text": [
      "100%|██████████| 499/499 [00:09<00:00, 50.22it/s]\n",
      "100%|██████████| 99/99 [00:07<00:00, 14.08it/s]\n"
     ]
    },
    {
     "name": "stdout",
     "output_type": "stream",
     "text": [
      "Pick inference time: 18.368735313415527\n",
      "Identified 8704 IK solutions with minimum distance of 1.019 in 0.643 seconds\n",
      "Pick fail\n",
      "Pick Success Rate: 94%  (54 / 57)    ||   Place Success Rate: 96%   (52 / 54)    ||   Place-and-Place Success Rate: 91%   (52 / 57)\n",
      "======================================\n",
      "=================Sample 157==================\n"
     ]
    },
    {
     "name": "stderr",
     "output_type": "stream",
     "text": [
      "100%|██████████| 499/499 [00:10<00:00, 49.67it/s]\n",
      "100%|██████████| 99/99 [00:07<00:00, 14.14it/s]\n"
     ]
    },
    {
     "name": "stdout",
     "output_type": "stream",
     "text": [
      "Pick inference time: 18.460633993148804\n",
      "Identified 7580 IK solutions with minimum distance of 1.088 in 0.605 seconds\n",
      "Pick success\n"
     ]
    },
    {
     "name": "stderr",
     "output_type": "stream",
     "text": [
      "100%|██████████| 499/499 [00:06<00:00, 72.07it/s]\n",
      "100%|██████████| 99/99 [00:05<00:00, 19.51it/s]\n"
     ]
    },
    {
     "name": "stdout",
     "output_type": "stream",
     "text": [
      "Place inference time: 13.089264392852783\n",
      "Identified 0 IK solutions with minimum distance of inf in 0.092 seconds\n",
      "Identified 0 IK solutions with minimum distance of inf in 0.474 seconds\n",
      "place IK fail\n",
      "Place Fail\n",
      "Pick Success Rate: 94%  (55 / 58)    ||   Place Success Rate: 94%   (52 / 55)    ||   Place-and-Place Success Rate: 89%   (52 / 58)\n",
      "======================================\n",
      "=================Sample 158==================\n"
     ]
    },
    {
     "name": "stderr",
     "output_type": "stream",
     "text": [
      "100%|██████████| 499/499 [00:10<00:00, 46.20it/s]\n",
      "100%|██████████| 99/99 [00:07<00:00, 12.56it/s]\n"
     ]
    },
    {
     "name": "stdout",
     "output_type": "stream",
     "text": [
      "Pick inference time: 20.115695476531982\n",
      "Identified 3364 IK solutions with minimum distance of 2.109 in 0.595 seconds\n",
      "Pick success\n"
     ]
    },
    {
     "name": "stderr",
     "output_type": "stream",
     "text": [
      "100%|██████████| 499/499 [00:06<00:00, 71.66it/s]\n",
      "100%|██████████| 99/99 [00:04<00:00, 20.17it/s]\n"
     ]
    },
    {
     "name": "stdout",
     "output_type": "stream",
     "text": [
      "Place inference time: 13.002013206481934\n",
      "Identified 8790 IK solutions with minimum distance of 1.044 in 0.635 seconds\n",
      "Place Success\n",
      "Pick Success Rate: 94%  (56 / 59)    ||   Place Success Rate: 94%   (53 / 56)    ||   Place-and-Place Success Rate: 89%   (53 / 59)\n",
      "======================================\n",
      "=================Sample 159==================\n"
     ]
    },
    {
     "name": "stderr",
     "output_type": "stream",
     "text": [
      "100%|██████████| 499/499 [00:10<00:00, 49.08it/s]\n",
      "100%|██████████| 99/99 [00:07<00:00, 14.12it/s]\n"
     ]
    },
    {
     "name": "stdout",
     "output_type": "stream",
     "text": [
      "Pick inference time: 18.586055517196655\n",
      "Identified 7517 IK solutions with minimum distance of 1.074 in 0.642 seconds\n",
      "Pick success\n"
     ]
    },
    {
     "name": "stderr",
     "output_type": "stream",
     "text": [
      "100%|██████████| 499/499 [00:07<00:00, 67.08it/s]\n",
      "100%|██████████| 99/99 [00:05<00:00, 19.50it/s]\n"
     ]
    },
    {
     "name": "stdout",
     "output_type": "stream",
     "text": [
      "Place inference time: 13.658924341201782\n",
      "Identified 7500 IK solutions with minimum distance of 0.757 in 0.436 seconds\n",
      "Place Success\n",
      "Pick Success Rate: 95%  (57 / 60)    ||   Place Success Rate: 94%   (54 / 57)    ||   Place-and-Place Success Rate: 90%   (54 / 60)\n",
      "======================================\n",
      "=================Sample 160==================\n"
     ]
    },
    {
     "name": "stderr",
     "output_type": "stream",
     "text": [
      "100%|██████████| 499/499 [00:09<00:00, 50.62it/s]\n",
      "100%|██████████| 99/99 [00:06<00:00, 14.22it/s]\n"
     ]
    },
    {
     "name": "stdout",
     "output_type": "stream",
     "text": [
      "Pick inference time: 18.178003787994385\n",
      "Identified 10659 IK solutions with minimum distance of 1.468 in 0.896 seconds\n",
      "Pick success\n"
     ]
    },
    {
     "name": "stderr",
     "output_type": "stream",
     "text": [
      "100%|██████████| 499/499 [00:07<00:00, 70.34it/s]\n",
      "100%|██████████| 99/99 [00:05<00:00, 19.38it/s]\n"
     ]
    },
    {
     "name": "stdout",
     "output_type": "stream",
     "text": [
      "Place inference time: 13.346338272094727\n",
      "Identified 6997 IK solutions with minimum distance of 0.761 in 0.425 seconds\n",
      "Place Success\n",
      "Pick Success Rate: 95%  (58 / 61)    ||   Place Success Rate: 94%   (55 / 58)    ||   Place-and-Place Success Rate: 90%   (55 / 61)\n",
      "======================================\n",
      "=================Sample 161==================\n"
     ]
    },
    {
     "name": "stderr",
     "output_type": "stream",
     "text": [
      "100%|██████████| 499/499 [00:10<00:00, 47.06it/s]\n",
      "100%|██████████| 99/99 [00:08<00:00, 12.15it/s]\n"
     ]
    },
    {
     "name": "stdout",
     "output_type": "stream",
     "text": [
      "Pick inference time: 20.291537523269653\n",
      "Identified 10717 IK solutions with minimum distance of 2.395 in 1.378 seconds\n",
      "Pick success\n"
     ]
    },
    {
     "name": "stderr",
     "output_type": "stream",
     "text": [
      "100%|██████████| 499/499 [00:07<00:00, 70.28it/s]\n",
      "100%|██████████| 99/99 [00:04<00:00, 19.91it/s]\n"
     ]
    },
    {
     "name": "stdout",
     "output_type": "stream",
     "text": [
      "Place inference time: 13.271701097488403\n",
      "Identified 5879 IK solutions with minimum distance of 0.675 in 0.355 seconds\n",
      "Place Success\n",
      "Pick Success Rate: 95%  (59 / 62)    ||   Place Success Rate: 94%   (56 / 59)    ||   Place-and-Place Success Rate: 90%   (56 / 62)\n",
      "======================================\n",
      "=================Sample 162==================\n"
     ]
    },
    {
     "name": "stderr",
     "output_type": "stream",
     "text": [
      "100%|██████████| 499/499 [00:09<00:00, 50.05it/s]\n",
      "100%|██████████| 99/99 [00:07<00:00, 13.12it/s]\n"
     ]
    },
    {
     "name": "stdout",
     "output_type": "stream",
     "text": [
      "Pick inference time: 18.94266676902771\n",
      "Identified 5622 IK solutions with minimum distance of 1.177 in 0.394 seconds\n",
      "Pick success\n"
     ]
    },
    {
     "name": "stderr",
     "output_type": "stream",
     "text": [
      "100%|██████████| 499/499 [00:07<00:00, 70.17it/s]\n",
      "100%|██████████| 99/99 [00:05<00:00, 19.64it/s]\n"
     ]
    },
    {
     "name": "stdout",
     "output_type": "stream",
     "text": [
      "Place inference time: 13.257107496261597\n",
      "Identified 7850 IK solutions with minimum distance of 0.913 in 0.575 seconds\n",
      "Place Success\n",
      "Pick Success Rate: 95%  (60 / 63)    ||   Place Success Rate: 95%   (57 / 60)    ||   Place-and-Place Success Rate: 90%   (57 / 63)\n",
      "======================================\n",
      "=================Sample 163==================\n"
     ]
    },
    {
     "name": "stderr",
     "output_type": "stream",
     "text": [
      "100%|██████████| 499/499 [00:09<00:00, 50.20it/s]\n",
      "100%|██████████| 99/99 [00:06<00:00, 14.28it/s]\n"
     ]
    },
    {
     "name": "stdout",
     "output_type": "stream",
     "text": [
      "Pick inference time: 18.281719207763672\n",
      "Identified 3253 IK solutions with minimum distance of 1.872 in 0.381 seconds\n",
      "Pick success\n"
     ]
    },
    {
     "name": "stderr",
     "output_type": "stream",
     "text": [
      "100%|██████████| 499/499 [00:07<00:00, 67.98it/s]\n",
      "100%|██████████| 99/99 [00:05<00:00, 18.71it/s]\n"
     ]
    },
    {
     "name": "stdout",
     "output_type": "stream",
     "text": [
      "Place inference time: 13.846931219100952\n",
      "Identified 12563 IK solutions with minimum distance of 1.369 in 0.843 seconds\n",
      "Place Success\n",
      "Pick Success Rate: 95%  (61 / 64)    ||   Place Success Rate: 95%   (58 / 61)    ||   Place-and-Place Success Rate: 90%   (58 / 64)\n",
      "======================================\n",
      "=================Sample 164==================\n"
     ]
    },
    {
     "name": "stderr",
     "output_type": "stream",
     "text": [
      "100%|██████████| 499/499 [00:11<00:00, 43.71it/s]\n",
      "100%|██████████| 99/99 [00:08<00:00, 12.20it/s]\n"
     ]
    },
    {
     "name": "stdout",
     "output_type": "stream",
     "text": [
      "Pick inference time: 21.014723539352417\n",
      "Identified 10368 IK solutions with minimum distance of 1.433 in 0.847 seconds\n",
      "Pick success\n"
     ]
    },
    {
     "name": "stderr",
     "output_type": "stream",
     "text": [
      "100%|██████████| 499/499 [00:07<00:00, 69.09it/s]\n",
      "100%|██████████| 99/99 [00:05<00:00, 19.43it/s]\n"
     ]
    },
    {
     "name": "stdout",
     "output_type": "stream",
     "text": [
      "Place inference time: 13.451554536819458\n",
      "Identified 9077 IK solutions with minimum distance of 0.951 in 0.666 seconds\n",
      "Place Success\n",
      "Pick Success Rate: 95%  (62 / 65)    ||   Place Success Rate: 95%   (59 / 62)    ||   Place-and-Place Success Rate: 90%   (59 / 65)\n",
      "======================================\n",
      "=================Sample 165==================\n"
     ]
    },
    {
     "name": "stderr",
     "output_type": "stream",
     "text": [
      "100%|██████████| 499/499 [00:09<00:00, 50.12it/s]\n",
      "100%|██████████| 99/99 [00:07<00:00, 13.93it/s]\n"
     ]
    },
    {
     "name": "stdout",
     "output_type": "stream",
     "text": [
      "Pick inference time: 18.48410987854004\n",
      "Identified 8111 IK solutions with minimum distance of 1.338 in 0.695 seconds\n",
      "Pick success\n"
     ]
    },
    {
     "name": "stderr",
     "output_type": "stream",
     "text": [
      "100%|██████████| 499/499 [00:07<00:00, 69.94it/s]\n",
      "100%|██████████| 99/99 [00:04<00:00, 19.94it/s]\n"
     ]
    },
    {
     "name": "stdout",
     "output_type": "stream",
     "text": [
      "Place inference time: 13.230031251907349\n",
      "Identified 9289 IK solutions with minimum distance of 1.071 in 0.492 seconds\n",
      "Place Success\n",
      "Pick Success Rate: 95%  (63 / 66)    ||   Place Success Rate: 95%   (60 / 63)    ||   Place-and-Place Success Rate: 90%   (60 / 66)\n",
      "======================================\n",
      "=================Sample 166==================\n"
     ]
    },
    {
     "name": "stderr",
     "output_type": "stream",
     "text": [
      "100%|██████████| 499/499 [00:09<00:00, 50.13it/s]\n",
      "100%|██████████| 99/99 [00:07<00:00, 13.78it/s]\n"
     ]
    },
    {
     "name": "stdout",
     "output_type": "stream",
     "text": [
      "Pick inference time: 18.496991395950317\n",
      "Identified 4819 IK solutions with minimum distance of 1.129 in 0.340 seconds\n",
      "Pick success\n"
     ]
    },
    {
     "name": "stderr",
     "output_type": "stream",
     "text": [
      "100%|██████████| 499/499 [00:07<00:00, 66.12it/s]\n",
      "100%|██████████| 99/99 [00:05<00:00, 19.06it/s]\n"
     ]
    },
    {
     "name": "stdout",
     "output_type": "stream",
     "text": [
      "Place inference time: 13.905402660369873\n",
      "Identified 6550 IK solutions with minimum distance of 1.063 in 0.400 seconds\n",
      "Place Success\n",
      "Pick Success Rate: 95%  (64 / 67)    ||   Place Success Rate: 95%   (61 / 64)    ||   Place-and-Place Success Rate: 91%   (61 / 67)\n",
      "======================================\n",
      "=================Sample 167==================\n"
     ]
    },
    {
     "name": "stderr",
     "output_type": "stream",
     "text": [
      "100%|██████████| 499/499 [00:10<00:00, 48.51it/s]\n",
      "100%|██████████| 99/99 [00:07<00:00, 13.70it/s]\n"
     ]
    },
    {
     "name": "stdout",
     "output_type": "stream",
     "text": [
      "Pick inference time: 18.93004584312439\n",
      "Identified 12252 IK solutions with minimum distance of 2.081 in 1.271 seconds\n",
      "Pick success\n"
     ]
    },
    {
     "name": "stderr",
     "output_type": "stream",
     "text": [
      "100%|██████████| 499/499 [00:07<00:00, 70.14it/s]\n",
      "100%|██████████| 99/99 [00:04<00:00, 20.17it/s]\n"
     ]
    },
    {
     "name": "stdout",
     "output_type": "stream",
     "text": [
      "Place inference time: 13.164905548095703\n",
      "Identified 6536 IK solutions with minimum distance of 1.477 in 0.392 seconds\n",
      "Place Success\n",
      "Pick Success Rate: 95%  (65 / 68)    ||   Place Success Rate: 95%   (62 / 65)    ||   Place-and-Place Success Rate: 91%   (62 / 68)\n",
      "======================================\n",
      "=================Sample 168==================\n"
     ]
    },
    {
     "name": "stderr",
     "output_type": "stream",
     "text": [
      "100%|██████████| 499/499 [00:10<00:00, 49.04it/s]\n",
      "100%|██████████| 99/99 [00:07<00:00, 12.79it/s]\n"
     ]
    },
    {
     "name": "stdout",
     "output_type": "stream",
     "text": [
      "Pick inference time: 19.372561931610107\n",
      "Identified 4517 IK solutions with minimum distance of 1.881 in 0.670 seconds\n",
      "Pick success\n"
     ]
    },
    {
     "name": "stderr",
     "output_type": "stream",
     "text": [
      "100%|██████████| 499/499 [00:07<00:00, 70.23it/s]\n",
      "100%|██████████| 99/99 [00:05<00:00, 19.61it/s]\n"
     ]
    },
    {
     "name": "stdout",
     "output_type": "stream",
     "text": [
      "Place inference time: 13.31839656829834\n",
      "Identified 5775 IK solutions with minimum distance of 0.679 in 0.370 seconds\n",
      "Place Success\n",
      "Pick Success Rate: 95%  (66 / 69)    ||   Place Success Rate: 95%   (63 / 66)    ||   Place-and-Place Success Rate: 91%   (63 / 69)\n",
      "======================================\n",
      "=================Sample 169==================\n"
     ]
    },
    {
     "name": "stderr",
     "output_type": "stream",
     "text": [
      "100%|██████████| 499/499 [00:09<00:00, 50.11it/s]\n",
      "100%|██████████| 99/99 [00:07<00:00, 14.11it/s]\n"
     ]
    },
    {
     "name": "stdout",
     "output_type": "stream",
     "text": [
      "Pick inference time: 18.38189435005188\n",
      "Identified 3024 IK solutions with minimum distance of 2.006 in 0.485 seconds\n",
      "Pick success\n"
     ]
    },
    {
     "name": "stderr",
     "output_type": "stream",
     "text": [
      "100%|██████████| 499/499 [00:07<00:00, 67.52it/s]\n",
      "100%|██████████| 99/99 [00:05<00:00, 18.94it/s]\n"
     ]
    },
    {
     "name": "stdout",
     "output_type": "stream",
     "text": [
      "Place inference time: 13.78554368019104\n",
      "Identified 7088 IK solutions with minimum distance of 0.790 in 0.424 seconds\n",
      "Place Success\n",
      "Pick Success Rate: 95%  (67 / 70)    ||   Place Success Rate: 95%   (64 / 67)    ||   Place-and-Place Success Rate: 91%   (64 / 70)\n",
      "======================================\n",
      "=================Sample 170==================\n"
     ]
    },
    {
     "name": "stderr",
     "output_type": "stream",
     "text": [
      "100%|██████████| 499/499 [00:10<00:00, 47.31it/s]\n",
      "100%|██████████| 99/99 [00:07<00:00, 12.99it/s]\n"
     ]
    },
    {
     "name": "stdout",
     "output_type": "stream",
     "text": [
      "Pick inference time: 19.650113582611084\n",
      "Identified 8118 IK solutions with minimum distance of 1.993 in 1.105 seconds\n",
      "Pick success\n"
     ]
    },
    {
     "name": "stderr",
     "output_type": "stream",
     "text": [
      "100%|██████████| 499/499 [00:07<00:00, 68.00it/s]\n",
      "100%|██████████| 99/99 [00:05<00:00, 19.62it/s]\n"
     ]
    },
    {
     "name": "stdout",
     "output_type": "stream",
     "text": [
      "Place inference time: 13.557396650314331\n",
      "Identified 6221 IK solutions with minimum distance of 0.695 in 0.372 seconds\n",
      "Place Success\n",
      "Pick Success Rate: 95%  (68 / 71)    ||   Place Success Rate: 95%   (65 / 68)    ||   Place-and-Place Success Rate: 91%   (65 / 71)\n",
      "======================================\n",
      "=================Sample 171==================\n"
     ]
    },
    {
     "name": "stderr",
     "output_type": "stream",
     "text": [
      "100%|██████████| 499/499 [00:10<00:00, 48.13it/s]\n",
      "100%|██████████| 99/99 [00:07<00:00, 12.75it/s]\n"
     ]
    },
    {
     "name": "stdout",
     "output_type": "stream",
     "text": [
      "Pick inference time: 19.592474460601807\n",
      "Identified 5272 IK solutions with minimum distance of 2.910 in 0.622 seconds\n",
      "Pick success\n"
     ]
    },
    {
     "name": "stderr",
     "output_type": "stream",
     "text": [
      "100%|██████████| 499/499 [00:07<00:00, 68.11it/s]\n",
      "100%|██████████| 99/99 [00:05<00:00, 18.95it/s]\n"
     ]
    },
    {
     "name": "stdout",
     "output_type": "stream",
     "text": [
      "Place inference time: 13.70008373260498\n",
      "Identified 7707 IK solutions with minimum distance of 0.907 in 0.438 seconds\n",
      "Place Success\n",
      "Pick Success Rate: 95%  (69 / 72)    ||   Place Success Rate: 95%   (66 / 69)    ||   Place-and-Place Success Rate: 91%   (66 / 72)\n",
      "======================================\n",
      "=================Sample 172==================\n"
     ]
    },
    {
     "name": "stderr",
     "output_type": "stream",
     "text": [
      "100%|██████████| 499/499 [00:10<00:00, 45.74it/s]\n",
      "100%|██████████| 99/99 [00:08<00:00, 12.33it/s]\n"
     ]
    },
    {
     "name": "stdout",
     "output_type": "stream",
     "text": [
      "Pick inference time: 20.442920923233032\n",
      "Identified 3231 IK solutions with minimum distance of 2.025 in 0.528 seconds\n",
      "Pick success\n"
     ]
    },
    {
     "name": "stderr",
     "output_type": "stream",
     "text": [
      "100%|██████████| 499/499 [00:07<00:00, 64.80it/s]\n",
      "100%|██████████| 99/99 [00:05<00:00, 19.30it/s]\n"
     ]
    },
    {
     "name": "stdout",
     "output_type": "stream",
     "text": [
      "Place inference time: 13.995428085327148\n",
      "Identified 8845 IK solutions with minimum distance of 1.074 in 0.674 seconds\n",
      "Place Success\n",
      "Pick Success Rate: 95%  (70 / 73)    ||   Place Success Rate: 95%   (67 / 70)    ||   Place-and-Place Success Rate: 91%   (67 / 73)\n",
      "======================================\n",
      "=================Sample 173==================\n"
     ]
    },
    {
     "name": "stderr",
     "output_type": "stream",
     "text": [
      "100%|██████████| 499/499 [00:09<00:00, 50.71it/s]\n",
      "100%|██████████| 99/99 [00:06<00:00, 14.33it/s]\n"
     ]
    },
    {
     "name": "stdout",
     "output_type": "stream",
     "text": [
      "Pick inference time: 18.10243844985962\n",
      "Identified 3319 IK solutions with minimum distance of 1.901 in 0.657 seconds\n",
      "Pick success\n"
     ]
    },
    {
     "name": "stderr",
     "output_type": "stream",
     "text": [
      "100%|██████████| 499/499 [00:07<00:00, 71.18it/s]\n",
      "100%|██████████| 99/99 [00:04<00:00, 19.84it/s]\n"
     ]
    },
    {
     "name": "stdout",
     "output_type": "stream",
     "text": [
      "Place inference time: 13.132064580917358\n",
      "Identified 10651 IK solutions with minimum distance of 1.170 in 0.753 seconds\n",
      "Place Success\n",
      "Pick Success Rate: 95%  (71 / 74)    ||   Place Success Rate: 95%   (68 / 71)    ||   Place-and-Place Success Rate: 91%   (68 / 74)\n",
      "======================================\n",
      "=================Sample 174==================\n"
     ]
    },
    {
     "name": "stderr",
     "output_type": "stream",
     "text": [
      "100%|██████████| 499/499 [00:09<00:00, 49.93it/s]\n",
      "100%|██████████| 99/99 [00:07<00:00, 12.98it/s]\n"
     ]
    },
    {
     "name": "stdout",
     "output_type": "stream",
     "text": [
      "Pick inference time: 19.08344292640686\n",
      "Identified 9499 IK solutions with minimum distance of 2.592 in 1.299 seconds\n",
      "Pick success\n"
     ]
    },
    {
     "name": "stderr",
     "output_type": "stream",
     "text": [
      "100%|██████████| 499/499 [00:07<00:00, 70.52it/s]\n",
      "100%|██████████| 99/99 [00:04<00:00, 19.96it/s]\n"
     ]
    },
    {
     "name": "stdout",
     "output_type": "stream",
     "text": [
      "Place inference time: 13.209349870681763\n",
      "Identified 7782 IK solutions with minimum distance of 0.900 in 0.591 seconds\n",
      "Place Success\n",
      "Pick Success Rate: 96%  (72 / 75)    ||   Place Success Rate: 95%   (69 / 72)    ||   Place-and-Place Success Rate: 92%   (69 / 75)\n",
      "======================================\n",
      "=================Sample 175==================\n"
     ]
    },
    {
     "name": "stderr",
     "output_type": "stream",
     "text": [
      "100%|██████████| 499/499 [00:10<00:00, 49.09it/s]\n",
      "100%|██████████| 99/99 [00:06<00:00, 14.39it/s]\n"
     ]
    },
    {
     "name": "stdout",
     "output_type": "stream",
     "text": [
      "Pick inference time: 18.405242681503296\n",
      "Identified 7854 IK solutions with minimum distance of 1.196 in 0.673 seconds\n",
      "Pick success\n"
     ]
    },
    {
     "name": "stderr",
     "output_type": "stream",
     "text": [
      "100%|██████████| 499/499 [00:07<00:00, 70.87it/s]\n",
      "100%|██████████| 99/99 [00:04<00:00, 20.18it/s]\n"
     ]
    },
    {
     "name": "stdout",
     "output_type": "stream",
     "text": [
      "Place inference time: 13.065890073776245\n",
      "Identified 6530 IK solutions with minimum distance of 1.128 in 0.383 seconds\n",
      "Place Success\n",
      "Pick Success Rate: 96%  (73 / 76)    ||   Place Success Rate: 95%   (70 / 73)    ||   Place-and-Place Success Rate: 92%   (70 / 76)\n",
      "======================================\n",
      "=================Sample 176==================\n"
     ]
    },
    {
     "name": "stderr",
     "output_type": "stream",
     "text": [
      "100%|██████████| 499/499 [00:10<00:00, 49.59it/s]\n",
      "100%|██████████| 99/99 [00:07<00:00, 13.29it/s]\n"
     ]
    },
    {
     "name": "stdout",
     "output_type": "stream",
     "text": [
      "Pick inference time: 18.944830894470215\n",
      "Identified 6441 IK solutions with minimum distance of 1.640 in 1.012 seconds\n",
      "Pick success\n"
     ]
    },
    {
     "name": "stderr",
     "output_type": "stream",
     "text": [
      "100%|██████████| 499/499 [00:07<00:00, 71.04it/s]\n",
      "100%|██████████| 99/99 [00:05<00:00, 18.66it/s]\n"
     ]
    },
    {
     "name": "stdout",
     "output_type": "stream",
     "text": [
      "Place inference time: 13.45300817489624\n",
      "Identified 7072 IK solutions with minimum distance of 0.664 in 0.415 seconds\n",
      "Place Success\n",
      "Pick Success Rate: 96%  (74 / 77)    ||   Place Success Rate: 95%   (71 / 74)    ||   Place-and-Place Success Rate: 92%   (71 / 77)\n",
      "======================================\n",
      "=================Sample 177==================\n"
     ]
    },
    {
     "name": "stderr",
     "output_type": "stream",
     "text": [
      "100%|██████████| 499/499 [00:10<00:00, 47.14it/s]\n",
      "100%|██████████| 99/99 [00:07<00:00, 13.12it/s]\n"
     ]
    },
    {
     "name": "stdout",
     "output_type": "stream",
     "text": [
      "Pick inference time: 19.603971242904663\n",
      "Identified 0 IK solutions with minimum distance of inf in 1.141 seconds\n",
      "Identified 0 IK solutions with minimum distance of inf in 5.749 seconds\n",
      "Pick IK Failed\n",
      "Pick Success Rate: 94%  (74 / 78)    ||   Place Success Rate: 95%   (71 / 74)    ||   Place-and-Place Success Rate: 91%   (71 / 78)\n",
      "======================================\n",
      "=================Sample 178==================\n"
     ]
    },
    {
     "name": "stderr",
     "output_type": "stream",
     "text": [
      "100%|██████████| 499/499 [00:10<00:00, 48.81it/s]\n",
      "100%|██████████| 99/99 [00:07<00:00, 12.69it/s]\n"
     ]
    },
    {
     "name": "stdout",
     "output_type": "stream",
     "text": [
      "Pick inference time: 19.492133617401123\n",
      "Identified 0 IK solutions with minimum distance of inf in 1.196 seconds\n",
      "Identified 0 IK solutions with minimum distance of inf in 5.882 seconds\n",
      "Pick IK Failed\n",
      "Pick Success Rate: 93%  (74 / 79)    ||   Place Success Rate: 95%   (71 / 74)    ||   Place-and-Place Success Rate: 89%   (71 / 79)\n",
      "======================================\n",
      "=================Sample 179==================\n"
     ]
    },
    {
     "name": "stderr",
     "output_type": "stream",
     "text": [
      "100%|██████████| 499/499 [00:10<00:00, 49.18it/s]\n",
      "100%|██████████| 99/99 [00:07<00:00, 13.01it/s]\n"
     ]
    },
    {
     "name": "stdout",
     "output_type": "stream",
     "text": [
      "Pick inference time: 19.222246646881104\n",
      "Identified 7026 IK solutions with minimum distance of 2.725 in 1.342 seconds\n",
      "Pick success\n"
     ]
    },
    {
     "name": "stderr",
     "output_type": "stream",
     "text": [
      "100%|██████████| 499/499 [00:07<00:00, 70.13it/s]\n",
      "100%|██████████| 99/99 [00:04<00:00, 19.95it/s]\n"
     ]
    },
    {
     "name": "stdout",
     "output_type": "stream",
     "text": [
      "Place inference time: 13.229163408279419\n",
      "Identified 8873 IK solutions with minimum distance of 1.963 in 1.204 seconds\n",
      "Place Success\n",
      "Pick Success Rate: 93%  (75 / 80)    ||   Place Success Rate: 96%   (72 / 75)    ||   Place-and-Place Success Rate: 90%   (72 / 80)\n",
      "======================================\n",
      "=================Sample 180==================\n"
     ]
    },
    {
     "name": "stderr",
     "output_type": "stream",
     "text": [
      "100%|██████████| 499/499 [00:10<00:00, 48.92it/s]\n",
      "100%|██████████| 99/99 [00:07<00:00, 12.79it/s]\n"
     ]
    },
    {
     "name": "stdout",
     "output_type": "stream",
     "text": [
      "Pick inference time: 19.437101125717163\n",
      "Identified 10430 IK solutions with minimum distance of 2.287 in 1.208 seconds\n",
      "Pick success\n"
     ]
    },
    {
     "name": "stderr",
     "output_type": "stream",
     "text": [
      "100%|██████████| 499/499 [00:07<00:00, 70.10it/s]\n",
      "100%|██████████| 99/99 [00:05<00:00, 19.45it/s]\n"
     ]
    },
    {
     "name": "stdout",
     "output_type": "stream",
     "text": [
      "Place inference time: 13.361131191253662\n",
      "Identified 7036 IK solutions with minimum distance of 1.011 in 0.402 seconds\n",
      "Place Success\n",
      "Pick Success Rate: 93%  (76 / 81)    ||   Place Success Rate: 96%   (73 / 76)    ||   Place-and-Place Success Rate: 90%   (73 / 81)\n",
      "======================================\n",
      "=================Sample 181==================\n"
     ]
    },
    {
     "name": "stderr",
     "output_type": "stream",
     "text": [
      "100%|██████████| 499/499 [00:10<00:00, 47.66it/s]\n",
      "100%|██████████| 99/99 [00:07<00:00, 12.96it/s]\n"
     ]
    },
    {
     "name": "stdout",
     "output_type": "stream",
     "text": [
      "Pick inference time: 19.576002836227417\n",
      "Identified 7001 IK solutions with minimum distance of 1.852 in 0.924 seconds\n",
      "Pick success\n"
     ]
    },
    {
     "name": "stderr",
     "output_type": "stream",
     "text": [
      "100%|██████████| 499/499 [00:06<00:00, 76.20it/s]\n",
      "100%|██████████| 99/99 [00:04<00:00, 21.21it/s]\n"
     ]
    },
    {
     "name": "stdout",
     "output_type": "stream",
     "text": [
      "Place inference time: 12.112330436706543\n",
      "Identified 5612 IK solutions with minimum distance of 0.816 in 0.325 seconds\n",
      "Place Fail\n",
      "Pick Success Rate: 93%  (77 / 82)    ||   Place Success Rate: 94%   (73 / 77)    ||   Place-and-Place Success Rate: 89%   (73 / 82)\n",
      "======================================\n",
      "=================Sample 182==================\n"
     ]
    },
    {
     "name": "stderr",
     "output_type": "stream",
     "text": [
      "100%|██████████| 499/499 [00:10<00:00, 47.98it/s]\n",
      "100%|██████████| 99/99 [00:07<00:00, 13.05it/s]\n"
     ]
    },
    {
     "name": "stdout",
     "output_type": "stream",
     "text": [
      "Pick inference time: 19.427394151687622\n",
      "Identified 7364 IK solutions with minimum distance of 1.469 in 1.019 seconds\n",
      "Pick fail\n",
      "Pick Success Rate: 92%  (77 / 83)    ||   Place Success Rate: 94%   (73 / 77)    ||   Place-and-Place Success Rate: 87%   (73 / 83)\n",
      "======================================\n",
      "=================Sample 183==================\n"
     ]
    },
    {
     "name": "stderr",
     "output_type": "stream",
     "text": [
      "100%|██████████| 499/499 [00:09<00:00, 51.74it/s]\n",
      "100%|██████████| 99/99 [00:06<00:00, 14.58it/s]\n"
     ]
    },
    {
     "name": "stdout",
     "output_type": "stream",
     "text": [
      "Pick inference time: 17.833959102630615\n",
      "Identified 9240 IK solutions with minimum distance of 1.226 in 0.704 seconds\n",
      "Pick success\n"
     ]
    },
    {
     "name": "stderr",
     "output_type": "stream",
     "text": [
      "100%|██████████| 499/499 [00:07<00:00, 71.00it/s]\n",
      "100%|██████████| 99/99 [00:05<00:00, 19.38it/s]\n"
     ]
    },
    {
     "name": "stdout",
     "output_type": "stream",
     "text": [
      "Place inference time: 13.378523826599121\n",
      "Identified 11048 IK solutions with minimum distance of 1.220 in 0.850 seconds\n",
      "Place Success\n",
      "Pick Success Rate: 92%  (78 / 84)    ||   Place Success Rate: 94%   (74 / 78)    ||   Place-and-Place Success Rate: 88%   (74 / 84)\n",
      "======================================\n",
      "=================Sample 184==================\n"
     ]
    },
    {
     "name": "stderr",
     "output_type": "stream",
     "text": [
      "100%|██████████| 499/499 [00:09<00:00, 50.17it/s]\n",
      "100%|██████████| 99/99 [00:07<00:00, 13.08it/s]\n"
     ]
    },
    {
     "name": "stdout",
     "output_type": "stream",
     "text": [
      "Pick inference time: 18.94352126121521\n",
      "Identified 9140 IK solutions with minimum distance of 2.042 in 1.007 seconds\n",
      "Pick success\n"
     ]
    },
    {
     "name": "stderr",
     "output_type": "stream",
     "text": [
      "100%|██████████| 499/499 [00:07<00:00, 67.60it/s]\n",
      "100%|██████████| 99/99 [00:05<00:00, 19.54it/s]\n"
     ]
    },
    {
     "name": "stdout",
     "output_type": "stream",
     "text": [
      "Place inference time: 13.560168743133545\n",
      "Identified 7608 IK solutions with minimum distance of 0.876 in 0.562 seconds\n",
      "Place Success\n",
      "Pick Success Rate: 92%  (79 / 85)    ||   Place Success Rate: 94%   (75 / 79)    ||   Place-and-Place Success Rate: 88%   (75 / 85)\n",
      "======================================\n",
      "=================Sample 185==================\n"
     ]
    },
    {
     "name": "stderr",
     "output_type": "stream",
     "text": [
      "100%|██████████| 499/499 [00:10<00:00, 47.57it/s]\n",
      "100%|██████████| 99/99 [00:07<00:00, 12.59it/s]\n"
     ]
    },
    {
     "name": "stdout",
     "output_type": "stream",
     "text": [
      "Pick inference time: 19.879274606704712\n",
      "Identified 5244 IK solutions with minimum distance of 1.785 in 0.632 seconds\n",
      "Pick success\n"
     ]
    },
    {
     "name": "stderr",
     "output_type": "stream",
     "text": [
      "100%|██████████| 499/499 [00:07<00:00, 69.96it/s]\n",
      "100%|██████████| 99/99 [00:05<00:00, 19.31it/s]\n"
     ]
    },
    {
     "name": "stdout",
     "output_type": "stream",
     "text": [
      "Place inference time: 13.399059534072876\n",
      "Identified 8206 IK solutions with minimum distance of 0.795 in 0.532 seconds\n",
      "Place Success\n",
      "Pick Success Rate: 93%  (80 / 86)    ||   Place Success Rate: 95%   (76 / 80)    ||   Place-and-Place Success Rate: 88%   (76 / 86)\n",
      "======================================\n",
      "=================Sample 186==================\n"
     ]
    },
    {
     "name": "stderr",
     "output_type": "stream",
     "text": [
      "100%|██████████| 499/499 [00:10<00:00, 49.28it/s]\n",
      "100%|██████████| 99/99 [00:07<00:00, 13.61it/s]\n"
     ]
    },
    {
     "name": "stdout",
     "output_type": "stream",
     "text": [
      "Pick inference time: 18.801823139190674\n",
      "Identified 12137 IK solutions with minimum distance of 2.580 in 1.358 seconds\n",
      "Pick success\n"
     ]
    },
    {
     "name": "stderr",
     "output_type": "stream",
     "text": [
      "100%|██████████| 499/499 [00:07<00:00, 70.25it/s]\n",
      "100%|██████████| 99/99 [00:05<00:00, 18.88it/s]\n"
     ]
    },
    {
     "name": "stdout",
     "output_type": "stream",
     "text": [
      "Place inference time: 13.492616891860962\n",
      "Identified 6366 IK solutions with minimum distance of 0.635 in 0.392 seconds\n",
      "Place Success\n",
      "Pick Success Rate: 93%  (81 / 87)    ||   Place Success Rate: 95%   (77 / 81)    ||   Place-and-Place Success Rate: 88%   (77 / 87)\n",
      "======================================\n",
      "=================Sample 187==================\n"
     ]
    },
    {
     "name": "stderr",
     "output_type": "stream",
     "text": [
      "100%|██████████| 499/499 [00:10<00:00, 49.84it/s]\n",
      "100%|██████████| 99/99 [00:07<00:00, 14.12it/s]\n"
     ]
    },
    {
     "name": "stdout",
     "output_type": "stream",
     "text": [
      "Pick inference time: 18.44294285774231\n",
      "Identified 8207 IK solutions with minimum distance of 2.372 in 1.240 seconds\n",
      "Pick success\n"
     ]
    },
    {
     "name": "stderr",
     "output_type": "stream",
     "text": [
      "100%|██████████| 499/499 [00:06<00:00, 71.58it/s]\n",
      "100%|██████████| 99/99 [00:05<00:00, 19.62it/s]\n"
     ]
    },
    {
     "name": "stdout",
     "output_type": "stream",
     "text": [
      "Place inference time: 13.134439468383789\n",
      "Identified 9563 IK solutions with minimum distance of 1.066 in 0.654 seconds\n",
      "Place Success\n",
      "Pick Success Rate: 93%  (82 / 88)    ||   Place Success Rate: 95%   (78 / 82)    ||   Place-and-Place Success Rate: 88%   (78 / 88)\n",
      "======================================\n",
      "=================Sample 188==================\n"
     ]
    },
    {
     "name": "stderr",
     "output_type": "stream",
     "text": [
      "100%|██████████| 499/499 [00:10<00:00, 49.52it/s]\n",
      "100%|██████████| 99/99 [00:07<00:00, 12.83it/s]\n"
     ]
    },
    {
     "name": "stdout",
     "output_type": "stream",
     "text": [
      "Pick inference time: 19.243239164352417\n",
      "Identified 6374 IK solutions with minimum distance of 2.868 in 1.376 seconds\n",
      "Pick success\n"
     ]
    },
    {
     "name": "stderr",
     "output_type": "stream",
     "text": [
      "100%|██████████| 499/499 [00:07<00:00, 71.09it/s]\n",
      "100%|██████████| 99/99 [00:05<00:00, 19.75it/s]\n"
     ]
    },
    {
     "name": "stdout",
     "output_type": "stream",
     "text": [
      "Place inference time: 13.193269729614258\n",
      "Identified 7459 IK solutions with minimum distance of 0.811 in 0.435 seconds\n",
      "Place Success\n",
      "Pick Success Rate: 93%  (83 / 89)    ||   Place Success Rate: 95%   (79 / 83)    ||   Place-and-Place Success Rate: 88%   (79 / 89)\n",
      "======================================\n",
      "=================Sample 189==================\n"
     ]
    },
    {
     "name": "stderr",
     "output_type": "stream",
     "text": [
      "100%|██████████| 499/499 [00:10<00:00, 49.71it/s]\n",
      "100%|██████████| 99/99 [00:07<00:00, 13.12it/s]\n"
     ]
    },
    {
     "name": "stdout",
     "output_type": "stream",
     "text": [
      "Pick inference time: 18.984956979751587\n",
      "Identified 6480 IK solutions with minimum distance of 1.763 in 0.884 seconds\n",
      "Pick success\n"
     ]
    },
    {
     "name": "stderr",
     "output_type": "stream",
     "text": [
      "100%|██████████| 499/499 [00:07<00:00, 70.31it/s]\n",
      "100%|██████████| 99/99 [00:04<00:00, 19.99it/s]\n"
     ]
    },
    {
     "name": "stdout",
     "output_type": "stream",
     "text": [
      "Place inference time: 13.229926347732544\n",
      "Identified 7398 IK solutions with minimum distance of 0.621 in 0.411 seconds\n",
      "Place Success\n",
      "Pick Success Rate: 93%  (84 / 90)    ||   Place Success Rate: 95%   (80 / 84)    ||   Place-and-Place Success Rate: 88%   (80 / 90)\n",
      "======================================\n",
      "=================Sample 190==================\n"
     ]
    },
    {
     "name": "stderr",
     "output_type": "stream",
     "text": [
      "100%|██████████| 499/499 [00:09<00:00, 52.42it/s]\n",
      "100%|██████████| 99/99 [00:06<00:00, 14.63it/s]\n"
     ]
    },
    {
     "name": "stdout",
     "output_type": "stream",
     "text": [
      "Pick inference time: 17.674270153045654\n",
      "Identified 2686 IK solutions with minimum distance of 2.058 in 0.273 seconds\n",
      "Pick success\n"
     ]
    },
    {
     "name": "stderr",
     "output_type": "stream",
     "text": [
      "100%|██████████| 499/499 [00:07<00:00, 70.17it/s]\n",
      "100%|██████████| 99/99 [00:05<00:00, 19.55it/s]\n"
     ]
    },
    {
     "name": "stdout",
     "output_type": "stream",
     "text": [
      "Place inference time: 13.316385507583618\n",
      "Identified 7284 IK solutions with minimum distance of 0.650 in 0.413 seconds\n",
      "Place Success\n",
      "Pick Success Rate: 93%  (85 / 91)    ||   Place Success Rate: 95%   (81 / 85)    ||   Place-and-Place Success Rate: 89%   (81 / 91)\n",
      "======================================\n",
      "=================Sample 191==================\n"
     ]
    },
    {
     "name": "stderr",
     "output_type": "stream",
     "text": [
      "100%|██████████| 499/499 [00:10<00:00, 49.36it/s]\n",
      "100%|██████████| 99/99 [00:07<00:00, 12.72it/s]\n"
     ]
    },
    {
     "name": "stdout",
     "output_type": "stream",
     "text": [
      "Pick inference time: 19.38154149055481\n",
      "Identified 12431 IK solutions with minimum distance of 2.281 in 1.272 seconds\n",
      "Pick success\n"
     ]
    },
    {
     "name": "stderr",
     "output_type": "stream",
     "text": [
      "100%|██████████| 499/499 [00:07<00:00, 68.46it/s]\n",
      "100%|██████████| 99/99 [00:05<00:00, 18.74it/s]\n"
     ]
    },
    {
     "name": "stdout",
     "output_type": "stream",
     "text": [
      "Place inference time: 13.747807502746582\n",
      "Identified 8700 IK solutions with minimum distance of 0.999 in 0.662 seconds\n",
      "Place Success\n",
      "Pick Success Rate: 93%  (86 / 92)    ||   Place Success Rate: 95%   (82 / 86)    ||   Place-and-Place Success Rate: 89%   (82 / 92)\n",
      "======================================\n",
      "=================Sample 192==================\n"
     ]
    },
    {
     "name": "stderr",
     "output_type": "stream",
     "text": [
      "100%|██████████| 499/499 [00:10<00:00, 47.27it/s]\n",
      "100%|██████████| 99/99 [00:07<00:00, 12.85it/s]\n"
     ]
    },
    {
     "name": "stdout",
     "output_type": "stream",
     "text": [
      "Pick inference time: 19.667731046676636\n",
      "Identified 7753 IK solutions with minimum distance of 0.933 in 0.563 seconds\n",
      "Pick success\n"
     ]
    },
    {
     "name": "stderr",
     "output_type": "stream",
     "text": [
      "100%|██████████| 499/499 [00:07<00:00, 67.09it/s]\n",
      "100%|██████████| 99/99 [00:05<00:00, 19.03it/s]\n"
     ]
    },
    {
     "name": "stdout",
     "output_type": "stream",
     "text": [
      "Place inference time: 13.767919540405273\n",
      "Identified 6758 IK solutions with minimum distance of 1.082 in 0.435 seconds\n",
      "Place Success\n",
      "Pick Success Rate: 93%  (87 / 93)    ||   Place Success Rate: 95%   (83 / 87)    ||   Place-and-Place Success Rate: 89%   (83 / 93)\n",
      "======================================\n",
      "=================Sample 193==================\n"
     ]
    },
    {
     "name": "stderr",
     "output_type": "stream",
     "text": [
      "100%|██████████| 499/499 [00:10<00:00, 46.46it/s]\n",
      "100%|██████████| 99/99 [00:07<00:00, 12.41it/s]\n"
     ]
    },
    {
     "name": "stdout",
     "output_type": "stream",
     "text": [
      "Pick inference time: 20.217317819595337\n",
      "Identified 6570 IK solutions with minimum distance of 1.891 in 0.983 seconds\n",
      "Pick success\n"
     ]
    },
    {
     "name": "stderr",
     "output_type": "stream",
     "text": [
      "100%|██████████| 499/499 [00:07<00:00, 69.19it/s]\n",
      "100%|██████████| 99/99 [00:05<00:00, 19.52it/s]\n"
     ]
    },
    {
     "name": "stdout",
     "output_type": "stream",
     "text": [
      "Place inference time: 13.395025730133057\n",
      "Identified 11236 IK solutions with minimum distance of 1.171 in 0.758 seconds\n",
      "Place Success\n",
      "Pick Success Rate: 93%  (88 / 94)    ||   Place Success Rate: 95%   (84 / 88)    ||   Place-and-Place Success Rate: 89%   (84 / 94)\n",
      "======================================\n",
      "=================Sample 194==================\n"
     ]
    },
    {
     "name": "stderr",
     "output_type": "stream",
     "text": [
      "100%|██████████| 499/499 [00:10<00:00, 47.78it/s]\n",
      "100%|██████████| 99/99 [00:07<00:00, 12.73it/s]\n"
     ]
    },
    {
     "name": "stdout",
     "output_type": "stream",
     "text": [
      "Pick inference time: 19.643977642059326\n",
      "Identified 7631 IK solutions with minimum distance of 2.708 in 1.386 seconds\n",
      "Pick success\n"
     ]
    },
    {
     "name": "stderr",
     "output_type": "stream",
     "text": [
      "100%|██████████| 499/499 [00:06<00:00, 71.47it/s]\n",
      "100%|██████████| 99/99 [00:05<00:00, 18.30it/s]\n"
     ]
    },
    {
     "name": "stdout",
     "output_type": "stream",
     "text": [
      "Place inference time: 13.614234447479248\n",
      "Identified 6422 IK solutions with minimum distance of 0.639 in 0.387 seconds\n",
      "Place Success\n",
      "Pick Success Rate: 93%  (89 / 95)    ||   Place Success Rate: 95%   (85 / 89)    ||   Place-and-Place Success Rate: 89%   (85 / 95)\n",
      "======================================\n",
      "=================Sample 195==================\n"
     ]
    },
    {
     "name": "stderr",
     "output_type": "stream",
     "text": [
      "100%|██████████| 499/499 [00:09<00:00, 50.10it/s]\n",
      "100%|██████████| 99/99 [00:07<00:00, 14.12it/s]\n"
     ]
    },
    {
     "name": "stdout",
     "output_type": "stream",
     "text": [
      "Pick inference time: 18.362159729003906\n",
      "Identified 9421 IK solutions with minimum distance of 1.595 in 0.900 seconds\n",
      "Pick success\n"
     ]
    },
    {
     "name": "stderr",
     "output_type": "stream",
     "text": [
      "100%|██████████| 499/499 [00:07<00:00, 70.49it/s]\n",
      "100%|██████████| 99/99 [00:05<00:00, 19.56it/s]\n"
     ]
    },
    {
     "name": "stdout",
     "output_type": "stream",
     "text": [
      "Place inference time: 13.420207262039185\n",
      "Identified 7062 IK solutions with minimum distance of 0.634 in 0.415 seconds\n",
      "Place Success\n",
      "Pick Success Rate: 93%  (90 / 96)    ||   Place Success Rate: 95%   (86 / 90)    ||   Place-and-Place Success Rate: 89%   (86 / 96)\n",
      "======================================\n",
      "=================Sample 196==================\n"
     ]
    },
    {
     "name": "stderr",
     "output_type": "stream",
     "text": [
      "100%|██████████| 499/499 [00:10<00:00, 49.72it/s]\n",
      "100%|██████████| 99/99 [00:07<00:00, 13.83it/s]\n"
     ]
    },
    {
     "name": "stdout",
     "output_type": "stream",
     "text": [
      "Pick inference time: 18.603094577789307\n",
      "Identified 2084 IK solutions with minimum distance of 3.345 in 0.264 seconds\n",
      "Pick success\n"
     ]
    },
    {
     "name": "stderr",
     "output_type": "stream",
     "text": [
      "100%|██████████| 499/499 [00:07<00:00, 69.70it/s]\n",
      "100%|██████████| 99/99 [00:05<00:00, 19.52it/s]\n"
     ]
    },
    {
     "name": "stdout",
     "output_type": "stream",
     "text": [
      "Place inference time: 13.32839846611023\n",
      "Identified 7716 IK solutions with minimum distance of 0.985 in 0.456 seconds\n",
      "Place Success\n",
      "Pick Success Rate: 93%  (91 / 97)    ||   Place Success Rate: 95%   (87 / 91)    ||   Place-and-Place Success Rate: 89%   (87 / 97)\n",
      "======================================\n",
      "=================Sample 197==================\n"
     ]
    },
    {
     "name": "stderr",
     "output_type": "stream",
     "text": [
      "100%|██████████| 499/499 [00:10<00:00, 49.30it/s]\n",
      "100%|██████████| 99/99 [00:07<00:00, 13.05it/s]\n"
     ]
    },
    {
     "name": "stdout",
     "output_type": "stream",
     "text": [
      "Pick inference time: 19.17408847808838\n",
      "Identified 8740 IK solutions with minimum distance of 1.336 in 0.711 seconds\n",
      "Pick success\n"
     ]
    },
    {
     "name": "stderr",
     "output_type": "stream",
     "text": [
      "100%|██████████| 499/499 [00:07<00:00, 69.65it/s]\n",
      "100%|██████████| 99/99 [00:05<00:00, 18.93it/s]\n"
     ]
    },
    {
     "name": "stdout",
     "output_type": "stream",
     "text": [
      "Place inference time: 13.537204504013062\n",
      "Identified 10756 IK solutions with minimum distance of 1.567 in 0.786 seconds\n",
      "Place Success\n",
      "Pick Success Rate: 93%  (92 / 98)    ||   Place Success Rate: 95%   (88 / 92)    ||   Place-and-Place Success Rate: 89%   (88 / 98)\n",
      "======================================\n",
      "=================Sample 198==================\n"
     ]
    },
    {
     "name": "stderr",
     "output_type": "stream",
     "text": [
      "100%|██████████| 499/499 [00:10<00:00, 48.45it/s]\n",
      "100%|██████████| 99/99 [00:06<00:00, 14.17it/s]\n"
     ]
    },
    {
     "name": "stdout",
     "output_type": "stream",
     "text": [
      "Pick inference time: 18.65408444404602\n",
      "Identified 5108 IK solutions with minimum distance of 1.609 in 0.638 seconds\n",
      "Pick success\n"
     ]
    },
    {
     "name": "stderr",
     "output_type": "stream",
     "text": [
      "100%|██████████| 499/499 [00:07<00:00, 69.89it/s]\n",
      "100%|██████████| 99/99 [00:04<00:00, 19.94it/s]\n"
     ]
    },
    {
     "name": "stdout",
     "output_type": "stream",
     "text": [
      "Place inference time: 13.20569396018982\n",
      "Identified 8872 IK solutions with minimum distance of 0.911 in 0.632 seconds\n",
      "Place Success\n",
      "Pick Success Rate: 93%  (93 / 99)    ||   Place Success Rate: 95%   (89 / 93)    ||   Place-and-Place Success Rate: 89%   (89 / 99)\n",
      "======================================\n",
      "=================Sample 199==================\n"
     ]
    },
    {
     "name": "stderr",
     "output_type": "stream",
     "text": [
      "100%|██████████| 499/499 [00:09<00:00, 50.96it/s]\n",
      "100%|██████████| 99/99 [00:06<00:00, 14.24it/s]\n"
     ]
    },
    {
     "name": "stdout",
     "output_type": "stream",
     "text": [
      "Pick inference time: 18.128650188446045\n",
      "Identified 3166 IK solutions with minimum distance of 2.957 in 0.468 seconds\n",
      "Pick success\n"
     ]
    },
    {
     "name": "stderr",
     "output_type": "stream",
     "text": [
      "100%|██████████| 499/499 [00:07<00:00, 67.69it/s]\n",
      "100%|██████████| 99/99 [00:04<00:00, 19.83it/s]\n"
     ]
    },
    {
     "name": "stdout",
     "output_type": "stream",
     "text": [
      "Place inference time: 13.468345165252686\n",
      "Identified 11644 IK solutions with minimum distance of 1.118 in 0.777 seconds\n",
      "Place Success\n",
      "Pick Success Rate: 94%  (94 / 100)    ||   Place Success Rate: 95%   (90 / 94)    ||   Place-and-Place Success Rate: 90%   (90 / 100)\n",
      "======================================\n"
     ]
    }
   ],
   "source": [
    "visualize_plot = False\n",
    "save_plot = True\n",
    "\n",
    "sleep = False\n",
    "pick_and_place = True\n",
    "stride = (7, 7)\n",
    "stride_pick = (10, 10)\n",
    "stride_place = (7, 7)\n",
    "temperature = 1.\n",
    "\n",
    "\n",
    "N_tests = 0\n",
    "N_success_pick = 0\n",
    "N_success_place = 0\n",
    "N_IKFAIL_pick = 0\n",
    "N_IKFAIL_place = 0\n",
    "pick_times = []\n",
    "place_times = []\n",
    "if save_plot:\n",
    "    folder_name = f'lying/'\n",
    "    output_path = f'plot_imgs/' + folder_name\n",
    "\n",
    "for seed in range(100, 200):\n",
    "    N_tests += 1\n",
    "    print(f\"=================Sample {seed}==================\")\n",
    "    fig, axes = plt.subplots(1,3, figsize=(15, 5), subplot_kw={'projection':'3d'})\n",
    "    fig_img, axes_img = plt.subplots(1,3, figsize=(15,5))\n",
    "\n",
    "\n",
    "    # Run in env\n",
    "    task.reset(seed = seed, cup_pose='lying')\n",
    "    pc = task.observe_pointcloud(stride = stride)\n",
    "    sample_unprocessed = {}\n",
    "    sample_unprocessed['coord'] = pc['coord']\n",
    "    sample_unprocessed['color'] = pc['color']\n",
    "    sample_unprocessed['range'] = pc['ranges']\n",
    "    sample_unprocessed['images'] = task.observe()\n",
    "    sample_unprocessed['center'] = task.center\n",
    "    color_unprocessed = sample_unprocessed['color']\n",
    "    sample =  preprocess(sample_unprocessed, characteristic_length)\n",
    "    coord, color, (xlim, ylim, zlim) = sample['coord'], sample['color'], sample['ranges']\n",
    "    data_transform = sample['data_transform']\n",
    "    feature = torch.tensor(color, dtype=torch.float32)\n",
    "    pos = torch.tensor(coord, dtype=torch.float32)\n",
    "    in_range_cropped_idx = (((pos[:] > ranges_cropped[:,0]) * (pos[:] < ranges_cropped[:,1])).sum(dim=-1) == 3).nonzero().squeeze(-1)\n",
    "    pos = pos[in_range_cropped_idx].to(device)\n",
    "    feature = feature[in_range_cropped_idx].to(device)\n",
    "    inputs = {'feature': feature, 'pos': pos, 'edge': None, 'max_neighbor_radius': max_radius}\n",
    "    temperature = 1.\n",
    "\n",
    "\n",
    "    t1 = time.time()\n",
    "    optimizer_se3T.zero_grad()\n",
    "    optimizer_energy.zero_grad()\n",
    "    with torch.no_grad():\n",
    "        outputs = se3T(inputs)\n",
    "    log_P = lambda T: -energy_model(outputs, T, temperature = temperature, learning = False)\n",
    "\n",
    "    N_transforms = 100\n",
    "    mcmc_iter = 500\n",
    "    mcmc_iter = int(mcmc_iter)\n",
    "    langevin_iter = 100\n",
    "\n",
    "    T_seed = torch.cat([transforms.random_quaternions(N_transforms, device=device), torch.tensor([[2.5, 2.5, 0.5]], device = device)* torch.randn(N_transforms,3, device = device) + torch.tensor([0.,0., -29.], device = device)] , dim=-1)\n",
    "    t_mcmc_begin = time.time()\n",
    "    samples = metropolis.forward(log_P, max_iter = mcmc_iter, T_seed=T_seed, pbar=True)\n",
    "    samples = langevin.forward(log_P, max_iter = langevin_iter, optim = optimizer_energy, T_seed = samples['Ts'][-1], pbar=True)\n",
    "    t_mcmc_end = time.time()\n",
    "    Ts = samples['Ts']\n",
    "    Ts = Ts[-50:].reshape(-1,7)\n",
    "    with torch.no_grad():\n",
    "        E = energy_model(outputs, Ts, temperature = temperature, learning = False)\n",
    "    best_T_idx = E.detach().argmin().item()\n",
    "    best_T = Ts[best_T_idx]\n",
    "    best_R, best_X = transforms.quaternion_to_matrix(best_T[...,:4]), best_T[...,4:]\n",
    "\n",
    "\n",
    "    t2 = time.time()\n",
    "    #print(f\"=========Sample {seed}=========\")\n",
    "    query_attn = (torch.softmax(energy_model.query_attention.detach(), dim=-1) ** 0.5).unsqueeze(-1).cpu().numpy()\n",
    "\n",
    "    coord_query = energy_model.transform_query_points(best_T).detach().cpu().numpy()\n",
    "    color_query = torch.tensor([0.,0.,1.]).repeat(len(coord_query),1).cpu().numpy()\n",
    "    color_query = np.concatenate([color_query,query_attn], axis=-1)\n",
    "    frame_info_best = {'frame': best_R.cpu().numpy(),\n",
    "                    'origin': best_X.cpu().numpy(), \n",
    "                    'alpha': 1.,\n",
    "                    'pointcloud': (coord_query, color_query)\n",
    "                    }\n",
    "    world_origin = np.array([0., 0., -29.])\n",
    "    frame_info_world = {'frame': np.eye(3),\n",
    "                    'origin': world_origin,\n",
    "                    'alpha': 0.,\n",
    "                    'pointcloud': (Ts.detach().cpu().numpy()[:,4:], torch.tensor([0.,0.8,0.8,0.03]).repeat(len(Ts),1).numpy())\n",
    "                    }\n",
    "\n",
    "\n",
    "    scatter_plot_ax(axes[0], coord[in_range_cropped_idx], color_unprocessed[in_range_cropped_idx], (xlim, ylim, zlim), frame_infos = [frame_info_best, frame_info_world])\n",
    "    print(f\"Pick inference time: {t2-t1}\")\n",
    "    pick_times.append(t2-t1)\n",
    "    if N_tests == 1:\n",
    "        print(f\"First iteration is slow\")\n",
    "    # print(E.detach())\n",
    "    # print(f\"Energy min: {E.min().item()} || Energy mean: {E.mean().item()}\")\n",
    "    # print(f\"MCMC Time: {t_mcmc_end - t_mcmc_begin}\")\n",
    "    # print(\"===============================\")\n",
    "\n",
    "    X_sdg, R_sdg = data_transform.inv_transform_T(best_X.detach().cpu().numpy(), best_R.detach().cpu().numpy())\n",
    "\n",
    "    flip = False\n",
    "    z_axis = R_sdg[:,-1]\n",
    "    if z_axis[2] > 0.8:\n",
    "        flip = True\n",
    "    elif z_axis[0] < 0:\n",
    "        flip = True\n",
    "    if flip is True:\n",
    "        R_flip = np.array([[-1. ,0. ,0.],\n",
    "                            [0. ,1. ,0.],\n",
    "                            [0. ,0. ,-1.]])\n",
    "        R_sdg = R_sdg @ R_flip\n",
    "\n",
    "    #X_sdg = X_sdg + (R_sdg@ np.array([0., 0., 0.005])) # push the gripper forward a liitle\n",
    "\n",
    "    R_dg_dgpre = np.eye(3)\n",
    "    R_s_dgpre = R_sdg @ R_dg_dgpre\n",
    "    X_dg_dgpre = np.array([0., 0., -0.1])\n",
    "    sX_dg_dgpre = R_sdg @ X_dg_dgpre\n",
    "    X_s_dgpre = X_sdg + sX_dg_dgpre\n",
    "\n",
    "    pre_pick = (X_s_dgpre, R_s_dgpre)\n",
    "    pick = (X_sdg, R_sdg)\n",
    "\n",
    "    try:\n",
    "        task.pick(pre_pick, pick)\n",
    "    except StopIteration:\n",
    "        try:\n",
    "            task.pick(pre_pick, pick, IK_time=5.)\n",
    "        except:\n",
    "            print(\"Pick IK Failed\")\n",
    "            N_IKFAIL_pick += 1\n",
    "            print(f\"Pick Success Rate: {int(100 * N_success_pick / N_tests)}%  ({N_success_pick} / {N_tests})    ||   Place Success Rate: {int(100 * N_success_place / max(N_success_pick, 1))}%   ({N_success_place} / {N_success_pick})    ||   Place-and-Place Success Rate: {int(100 * N_success_place / N_tests)}%   ({N_success_place} / {N_tests})\")\n",
    "            if save_plot:\n",
    "                if os.path.exists(output_path + \"inference/\") is False:\n",
    "                    os.makedirs(output_path + \"inference/\")\n",
    "                fig.savefig(output_path + \"inference/\" + f\"{seed}.png\")\n",
    "                if os.path.exists(output_path + \"result/\") is False:\n",
    "                    os.makedirs(output_path + \"result/\")\n",
    "                fig_img.savefig(output_path + \"result/\" + f\"{seed}.png\")\n",
    "            if visualize_plot:\n",
    "                plt.show()\n",
    "            else:\n",
    "                plt.close(fig)\n",
    "                plt.close(fig_img)\n",
    "            print(\"======================================\")\n",
    "            continue\n",
    "\n",
    "    if task.check_pick_success():\n",
    "        print(\"Pick success\")\n",
    "        N_success_pick += 1\n",
    "    else:\n",
    "        print(\"Pick fail\")\n",
    "        print(f\"Pick Success Rate: {int(100 * N_success_pick / N_tests)}%  ({N_success_pick} / {N_tests})    ||   Place Success Rate: {int(100 * N_success_place / max(N_success_pick, 1))}%   ({N_success_place} / {N_success_pick})    ||   Place-and-Place Success Rate: {int(100 * N_success_place / N_tests)}%   ({N_success_place} / {N_tests})\")\n",
    "        if save_plot:\n",
    "            if os.path.exists(output_path + \"inference/\") is False:\n",
    "                os.makedirs(output_path + \"inference/\")\n",
    "            fig.savefig(output_path + \"inference/\" + f\"{seed}.png\")\n",
    "            if os.path.exists(output_path + \"result/\") is False:\n",
    "                os.makedirs(output_path + \"result/\")\n",
    "            fig_img.savefig(output_path + \"result/\" + f\"{seed}.png\")\n",
    "        if visualize_plot:\n",
    "            plt.show()\n",
    "        else:\n",
    "            plt.close(fig)\n",
    "            plt.close(fig_img)\n",
    "        print(\"======================================\")\n",
    "        continue\n",
    "\n",
    "\n",
    "\n",
    "\n",
    "    task.retract_robot(gripper_val=1., IK_time=1.)\n",
    "    pc = task.observe_pointcloud_pick(stride = stride_pick)\n",
    "    sample_unprocessed['coord_pick'] = pc['coord']\n",
    "    sample_unprocessed['color_pick'] = pc['color']\n",
    "    sample_unprocessed['range_pick'] = pc['ranges']\n",
    "    sample_unprocessed['pick_pose'] = (pc['X_sg'], pc['R_sg'])\n",
    "    sample_unprocessed['images_pick'] = task.observe_pick()\n",
    "\n",
    "    pc = task.observe_pointcloud(stride = stride_place)\n",
    "    sample_unprocessed['coord_place'] = pc['coord']\n",
    "    sample_unprocessed['color_place'] = pc['color']\n",
    "    sample_unprocessed['range_place'] = pc['ranges']\n",
    "    sample_unprocessed['images_place'] = task.observe()\n",
    "\n",
    "\n",
    "\n",
    "\n",
    "    temperature = 1.\n",
    "\n",
    "    color_unprocessed_Q = sample_unprocessed['color_pick']\n",
    "    color_unprocessed_K = sample_unprocessed['color_place']\n",
    "    sample = preprocess(sample_unprocessed, characteristic_length, pick_and_place=True)\n",
    "\n",
    "    coord_Q, color_Q, (xlim_Q, ylim_Q, zlim_Q) = sample['coord_Q'], sample['color_Q'], sample['ranges_Q']\n",
    "    X_sg_Q, R_sg_Q = sample['grasp_Q'][0], sample['grasp_Q'][1]\n",
    "    data_transform_Q = sample['data_transform_Q']\n",
    "\n",
    "    coord_K, color_K, (xlim_K, ylim_K, zlim_K) = sample['coord_K'], sample['color_K'], sample['ranges_K']\n",
    "    data_transform_K = sample['data_transform_K']\n",
    "\n",
    "\n",
    "    ##### Prepare input\n",
    "\n",
    "    feature_Q = torch.tensor(color_Q, dtype=torch.float32)\n",
    "    pos_Q = torch.tensor(coord_Q, dtype=torch.float32)\n",
    "    in_range_cropped_idx_Q = (((pos_Q[:] > ranges_cropped_Q[:,0]) * (pos_Q[:] < ranges_cropped_Q[:,1])).sum(dim=-1) == 3).nonzero().squeeze(-1)\n",
    "    pos_Q = pos_Q[in_range_cropped_idx_Q].to(device)\n",
    "    feature_Q = feature_Q[in_range_cropped_idx_Q].to(device)\n",
    "\n",
    "    feature_K = torch.tensor(color_K, dtype=torch.float32)\n",
    "    pos_K = torch.tensor(coord_K, dtype=torch.float32)\n",
    "    in_range_cropped_idx_K = (((pos_K[:] > ranges_cropped_K[:,0]) * (pos_K[:] < ranges_cropped_K[:,1])).sum(dim=-1) == 3).nonzero().squeeze(-1)\n",
    "    pos_K = pos_K[in_range_cropped_idx_K].to(device)\n",
    "    feature_K = feature_K[in_range_cropped_idx_K].to(device)\n",
    "\n",
    "    inputs_Q = {'feature': feature_Q, 'pos': pos_Q, 'edge': None, 'max_neighbor_radius': max_radius_Q}\n",
    "\n",
    "\n",
    "    t1 = time.time()\n",
    "    ##### Get Query Feature\n",
    "    optimizer_Q.zero_grad()\n",
    "    with torch.no_grad():\n",
    "        outputs_Q = se3T_Q(inputs_Q)\n",
    "        outputs_Q = tensor_field_Q({'feature':outputs_Q['feature'], 'pos':outputs_Q['pos'], 'query_pos':query_pos_Q.unsqueeze(0)})\n",
    "    assert outputs_Q['n_neighbor'].item() > 0\n",
    "    query_feature_Q = outputs_Q['field'].squeeze(0)\n",
    "\n",
    "    inputs_K = {'feature': feature_K, 'pos': pos_K, 'edge': None, 'max_neighbor_radius': max_radius_K}\n",
    "\n",
    "    ##### MCMC\n",
    "    N_transforms = 100\n",
    "    mcmc_iter = 500\n",
    "    mcmc_iter = int(mcmc_iter)\n",
    "    langevin_iter = 100\n",
    "\n",
    "    optimizer_K.zero_grad()\n",
    "    optimizer_energy_K.zero_grad()\n",
    "    outputs_K = se3T_K(inputs_K)\n",
    "    outputs_K['query_feature'] = query_feature_Q\n",
    "    log_P_K = lambda T: -energy_model_K(outputs_K, T, temperature = temperature, learning = False)\n",
    "\n",
    "    T_seed = torch.cat([transforms.random_quaternions(N_transforms, device=device), torch.tensor([[2.5, 2.5, 0.5]], device = device)* torch.randn(N_transforms,3, device = device) + torch.tensor([0.,0., -29.], device = device)] , dim=-1)\n",
    "    t_mcmc_begin = time.time()\n",
    "    samples = metropolis_K.forward(log_P_K, max_iter = mcmc_iter, T_seed = T_seed, pbar=True)\n",
    "    Ts_K = samples['Ts']\n",
    "    As_K = samples['As']\n",
    "    samples = langevin_K.forward(log_P_K, max_iter = langevin_iter, optim = optimizer_energy_K, T_seed = Ts_K[-1], pbar=True)\n",
    "    Ts_K = torch.cat([Ts_K, samples['Ts']], dim=0)\n",
    "    As_K = torch.cat([As_K, samples['As']], dim=0)\n",
    "    t_mcmc_end = time.time()\n",
    "\n",
    "    Ts_K = Ts_K[-50:].reshape(-1,7)\n",
    "\n",
    "    ##### Calculate energy and learn\n",
    "    optimizer_energy_K.zero_grad()\n",
    "    with torch.no_grad():\n",
    "        E_K = energy_model_K(outputs_K, Ts_K, temperature = temperature, learning = True)\n",
    "\n",
    "    best_T_sp_idx = E_K.detach().argmin().item()\n",
    "    best_T_sp = Ts_K[best_T_sp_idx]\n",
    "    best_R_sp, best_X_sp = transforms.quaternion_to_matrix(best_T_sp[...,:4]), best_T_sp[...,4:]\n",
    "\n",
    "    ##### Visualize\n",
    "    t2 = time.time()\n",
    "    print(f\"Place inference time: {t2-t1}\")\n",
    "    place_times.append(t2-t1)\n",
    "    if True:\n",
    "        #print(f\"=========Iter {0}=========\")\n",
    "        query_attn_K = (torch.softmax(energy_model_K.query_attention.detach(), dim=-1) ** 0.5).unsqueeze(-1).cpu().numpy()\n",
    "        \n",
    "        coord_query_K = energy_model_K.transform_query_points(best_T_sp).detach().cpu().numpy()\n",
    "        color_query_K = torch.tensor([0.,0.,1.]).repeat(len(coord_query_K),1).cpu().numpy()\n",
    "        color_query_K = np.concatenate([color_query_K, query_attn_K], axis=-1)\n",
    "        frame_info_best = {'frame': best_R_sp.cpu().numpy(),\n",
    "                        'origin': best_X_sp.cpu().numpy(), \n",
    "                        'alpha': 1.,\n",
    "                        'pointcloud': (coord_query_K, color_query_K)\n",
    "                        }\n",
    "\n",
    "        world_origin_K = np.array([0., 0., -16.])\n",
    "        frame_info_world = {'frame': np.eye(3),\n",
    "                        'origin': world_origin_K,\n",
    "                        'alpha': 0.,\n",
    "                        'pointcloud': (Ts_K.detach().cpu().numpy()[:,4:], torch.tensor([0.,0.8,0.8,0.03]).repeat(len(Ts_K),1).numpy())\n",
    "                        }\n",
    "\n",
    "        color_unprocessed_alpha_K = np.concatenate([color_unprocessed_K, np.ones((len(color_unprocessed_K),1), dtype=int)], axis=-1)\n",
    "        #scatter_plot(coord_K[in_range_cropped_idx_K], color_unprocessed_alpha_K[in_range_cropped_idx_K], xlim_K, ylim_K, zlim_K, frame_infos = [frame_info_best, frame_info_world], figsize = (8, 8))\n",
    "        scatter_plot_ax(axes[1], coord_K[in_range_cropped_idx_K], color_unprocessed_alpha_K[in_range_cropped_idx_K], (xlim_K, ylim_K, zlim_K), frame_infos = [frame_info_best, frame_info_world])\n",
    "        #print(E_K.detach()[::5])\n",
    "        #print(f\"Energy min: {E_K.min().item()} || Energy mean: {E_K.mean().item()}\")\n",
    "        #print(f\"MCMC Time: {t_mcmc_end - t_mcmc_begin}\")\n",
    "        #print(\"===============================\")\n",
    "\n",
    "\n",
    "\n",
    "\n",
    "\n",
    "    X_sdg, R_sdg = data_transform_K.inv_transform_T(best_X_sp.detach().cpu().numpy(), best_R_sp.detach().cpu().numpy())\n",
    "\n",
    "    #X_sdg = X_sdg + (R_sdg@ np.array([0., 0., 0.005])) # push the gripper forward a liitle\n",
    "\n",
    "    R_dg_dgpre = np.eye(3)\n",
    "    R_s_dgpre = R_sdg @ R_dg_dgpre\n",
    "    X_dg_dgpre = np.array([0., 0., -0.1])\n",
    "    sX_dg_dgpre = R_sdg @ X_dg_dgpre\n",
    "    X_s_dgpre = X_sdg + sX_dg_dgpre\n",
    "\n",
    "    pre_place = (X_s_dgpre, R_s_dgpre)\n",
    "    place = (X_sdg, R_sdg)\n",
    "\n",
    "    try:\n",
    "        task.place(pre_place, place, sleep = sleep, IK_time = 1.)\n",
    "    except StopIteration:\n",
    "        try:\n",
    "            task.place(pre_place, place, sleep = sleep, IK_time = 5.)\n",
    "        except StopIteration:\n",
    "            print(\"place IK fail\")\n",
    "            N_IKFAIL_place += 1\n",
    "\n",
    "\n",
    "\n",
    "    if task.check_place_success():\n",
    "        N_success_place += 1\n",
    "        print('Place Success')\n",
    "        print(f\"Pick Success Rate: {int(100 * N_success_pick / N_tests)}%  ({N_success_pick} / {N_tests})    ||   Place Success Rate: {int(100 * N_success_place / max(N_success_pick, 1))}%   ({N_success_place} / {N_success_pick})    ||   Place-and-Place Success Rate: {int(100 * N_success_place / N_tests)}%   ({N_success_place} / {N_tests})\")\n",
    "    else:\n",
    "        print('Place Fail')\n",
    "        print(f\"Pick Success Rate: {int(100 * N_success_pick / N_tests)}%  ({N_success_pick} / {N_tests})    ||   Place Success Rate: {int(100 * N_success_place / max(N_success_pick, 1))}%   ({N_success_place} / {N_success_pick})    ||   Place-and-Place Success Rate: {int(100 * N_success_place / N_tests)}%   ({N_success_place} / {N_tests})\")\n",
    "\n",
    "\n",
    "\n",
    "    pc = task.observe_pointcloud(stride = (1, 1))\n",
    "    scatter_plot_ax(axes[2], pc['coord'], pc['color'], pc['ranges'])\n",
    "    images = task.observe()\n",
    "    for i in range(3):\n",
    "        axes_img[i].imshow(images[i]['color'])\n",
    "\n",
    "    \n",
    "    if save_plot:\n",
    "        if os.path.exists(output_path + \"inference/\") is False:\n",
    "            os.makedirs(output_path + \"inference/\")\n",
    "        fig.savefig(output_path + \"inference/\" + f\"{seed}.png\")\n",
    "        if os.path.exists(output_path + \"result/\") is False:\n",
    "            os.makedirs(output_path + \"result/\")\n",
    "        fig_img.savefig(output_path + \"result/\" + f\"{seed}.png\")\n",
    "    if visualize_plot:\n",
    "        plt.show()\n",
    "    else:\n",
    "        plt.close(fig)\n",
    "        plt.close(fig_img)\n",
    "    print(\"======================================\")"
   ]
  },
  {
   "cell_type": "code",
   "execution_count": 21,
   "metadata": {},
   "outputs": [
    {
     "name": "stdout",
     "output_type": "stream",
     "text": [
      "# IK Fail Pick: 2   ||   # IK Fail Place: 3\n",
      "Mean Inference Time:   Pick   19.10249757051468   ||    Place   13.48332418279445\n"
     ]
    }
   ],
   "source": [
    "print(f\"# IK Fail Pick: {N_IKFAIL_pick}   ||   # IK Fail Place: {N_IKFAIL_place}\")\n",
    "print(f\"Mean Inference Time:   Pick   {np.array(pick_times).mean()}   ||    Place   {np.array(place_times).mean()}\")"
   ]
  },
  {
   "cell_type": "code",
   "execution_count": null,
   "metadata": {},
   "outputs": [],
   "source": []
  }
 ],
 "metadata": {
  "interpreter": {
   "hash": "f23129b46c570c3112f15a3374a794e5cd05ee6ef3eb221daef864361e63690d"
  },
  "kernelspec": {
   "display_name": "Python 3.9.12 ('SE3_Transporter')",
   "language": "python",
   "name": "python3"
  },
  "language_info": {
   "codemirror_mode": {
    "name": "ipython",
    "version": 3
   },
   "file_extension": ".py",
   "mimetype": "text/x-python",
   "name": "python",
   "nbconvert_exporter": "python",
   "pygments_lexer": "ipython3",
   "version": "3.9.12"
  },
  "orig_nbformat": 4
 },
 "nbformat": 4,
 "nbformat_minor": 2
}
