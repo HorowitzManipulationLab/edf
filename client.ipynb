{
 "cells": [
  {
   "cell_type": "code",
   "execution_count": 1,
   "metadata": {},
   "outputs": [],
   "source": [
    "import pickle\n",
    "\n",
    "from beartype import beartype\n",
    "import torch\n",
    "\n",
    "from edf_interface.pyro import get_service_proxy\n",
    "from edf_interface.data import SE3, PointCloud, TargetPoseDemo, DemoSequence\n",
    "from edf_interface.env_server import EnvServer"
   ]
  },
  {
   "cell_type": "code",
   "execution_count": 2,
   "metadata": {},
   "outputs": [],
   "source": [
    "@beartype\n",
    "class EdfClient():\n",
    "    env_server: EnvServer\n",
    "    def __init__(self, env_server_name: str = 'env'):\n",
    "        self.env_server = get_service_proxy(env_server_name)\n",
    "\n",
    "    def get_current_poses(self) -> SE3:\n",
    "        data_dict = self.env_server.get_current_poses()\n",
    "        return SE3.from_data_dict(data_dict=data_dict)"
   ]
  },
  {
   "cell_type": "code",
   "execution_count": 3,
   "metadata": {},
   "outputs": [],
   "source": [
    "client = EdfClient(env_server_name='env')"
   ]
  },
  {
   "cell_type": "code",
   "execution_count": 4,
   "metadata": {},
   "outputs": [],
   "source": [
    "Ts = client.get_current_poses()"
   ]
  }
 ],
 "metadata": {
  "kernelspec": {
   "display_name": "diff_edf",
   "language": "python",
   "name": "python3"
  },
  "language_info": {
   "codemirror_mode": {
    "name": "ipython",
    "version": 3
   },
   "file_extension": ".py",
   "mimetype": "text/x-python",
   "name": "python",
   "nbconvert_exporter": "python",
   "pygments_lexer": "ipython3",
   "version": "3.8.16"
  },
  "orig_nbformat": 4,
  "vscode": {
   "interpreter": {
    "hash": "79a0085b6cf04e1cff261ad12d41cff4e1530d9e68d1f8fc6bd159a2915452c6"
   }
  }
 },
 "nbformat": 4,
 "nbformat_minor": 2
}
