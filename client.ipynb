{
 "cells": [
  {
   "cell_type": "code",
   "execution_count": 1,
   "metadata": {},
   "outputs": [],
   "source": [
    "import pickle\n",
    "\n",
    "from beartype import beartype\n",
    "import torch\n",
    "\n",
    "from edf_interface.pyro import get_service_proxy\n",
    "from edf_interface.data import SE3, PointCloud, TargetPoseDemo, DemoSequence\n",
    "from edf_interface.env_server import EnvService\n",
    "from edf_interface.edf_client import EdfClient"
   ]
  },
  {
   "cell_type": "code",
   "execution_count": 2,
   "metadata": {},
   "outputs": [],
   "source": [
    "client = EdfClient(env_server_name='env', agent_sever_name='agent')"
   ]
  },
  {
   "cell_type": "code",
   "execution_count": 3,
   "metadata": {},
   "outputs": [
    {
     "name": "stdout",
     "output_type": "stream",
     "text": [
      "<TargetPoseDemo>\n",
      "  Metadata: \n",
      "    - name: \n",
      "  Data: \n",
      "    - scene_pcd: <PointCloud>\n",
      "          - name: scene_pcd\n",
      "          - unit_length: 1 [m]\n",
      "          - points: <Tensor> (Shape: torch.Size([42793, 3]))\n",
      "          - colors: <Tensor> (Shape: torch.Size([42793, 3]))\n",
      "          \n",
      "    - grasp_pcd: <PointCloud>\n",
      "          - name: grasp_pcd\n",
      "          - unit_length: 1 [m]\n",
      "          - points: <Tensor> (Shape: torch.Size([20670, 3]))\n",
      "          - colors: <Tensor> (Shape: torch.Size([20670, 3]))\n",
      "          \n",
      "    - target_poses: <SE3>\n",
      "          - name: target_poses\n",
      "          - unit_length: 1 [m]\n",
      "          - poses: <Tensor> (Shape: torch.Size([1, 7]))\n",
      "          \n",
      "\n"
     ]
    }
   ],
   "source": [
    "Ts = client.get_current_poses()\n",
    "scene_pcd = client.observe_scene()\n",
    "grasp_pcd = client.observe_grasp()\n",
    "current_state = TargetPoseDemo(target_poses=Ts, scene_pcd=scene_pcd, grasp_pcd=grasp_pcd)\n",
    "\n",
    "print(current_state)\n",
    "# current_state.show(width=400, height=400, point_size=2.)"
   ]
  },
  {
   "cell_type": "code",
   "execution_count": 4,
   "metadata": {},
   "outputs": [
    {
     "name": "stdout",
     "output_type": "stream",
     "text": [
      "<SE3>\n",
      "  Metadata: \n",
      "    - name: \n",
      "    - unit_length: 1 [m]\n",
      "  Data: \n",
      "    - poses: <Tensor> (Shape: torch.Size([1, 7]))\n",
      "          tensor([[1., 0., 0., 0., 0., 0., 0.]])\n",
      "\n"
     ]
    }
   ],
   "source": [
    "target_Ts = client.infer_target_poses(scene_pcd=scene_pcd, \n",
    "                                      grasp_pcd=grasp_pcd, \n",
    "                                      current_poses = Ts,\n",
    "                                      task_name='place')\n",
    "print(target_Ts)"
   ]
  },
  {
   "cell_type": "code",
   "execution_count": 5,
   "metadata": {},
   "outputs": [
    {
     "data": {
      "text/plain": [
       "True"
      ]
     },
     "execution_count": 5,
     "metadata": {},
     "output_type": "execute_result"
    }
   ],
   "source": [
    "client.move_se3(target_poses=target_Ts)"
   ]
  },
  {
   "cell_type": "code",
   "execution_count": null,
   "metadata": {},
   "outputs": [],
   "source": []
  },
  {
   "cell_type": "code",
   "execution_count": null,
   "metadata": {},
   "outputs": [],
   "source": []
  }
 ],
 "metadata": {
  "kernelspec": {
   "display_name": "diff_edf",
   "language": "python",
   "name": "python3"
  },
  "language_info": {
   "codemirror_mode": {
    "name": "ipython",
    "version": 3
   },
   "file_extension": ".py",
   "mimetype": "text/x-python",
   "name": "python",
   "nbconvert_exporter": "python",
   "pygments_lexer": "ipython3",
   "version": "3.8.16"
  },
  "orig_nbformat": 4,
  "vscode": {
   "interpreter": {
    "hash": "79a0085b6cf04e1cff261ad12d41cff4e1530d9e68d1f8fc6bd159a2915452c6"
   }
  }
 },
 "nbformat": 4,
 "nbformat_minor": 2
}
