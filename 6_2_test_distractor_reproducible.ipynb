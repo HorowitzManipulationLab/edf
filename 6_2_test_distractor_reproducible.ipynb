{
 "cells": [
  {
   "cell_type": "code",
   "execution_count": 1,
   "metadata": {},
   "outputs": [
    {
     "name": "stderr",
     "output_type": "stream",
     "text": [
      "pybullet build time: Dec  1 2021 18:34:28\n"
     ]
    }
   ],
   "source": [
    "import time\n",
    "import datetime\n",
    "import os\n",
    "import random\n",
    "import numpy as np\n",
    "import matplotlib.pyplot as plt\n",
    "from tqdm import tqdm\n",
    "import pybullet as p\n",
    "import pybullet_data\n",
    "\n",
    "import torch\n",
    "from torch_cluster import radius_graph, radius\n",
    "from torch_scatter import scatter\n",
    "\n",
    "import matplotlib\n",
    "import matplotlib.pyplot as plt\n",
    "\n",
    "import edf\n",
    "from edf.pybullet_env.utils import get_image, axiscreator, img_data_to_pointcloud\n",
    "from edf.visual_utils import plot_color_and_depth, scatter_plot, scatter_plot_ax, visualize_samples, visualize_sample_cluster\n",
    "from edf.pybullet_env.env import MugTask\n",
    "\n",
    "device = 'cpu'\n",
    "#gpu_idx = 0\n",
    "#torch.cuda.set_device(gpu_idx)"
   ]
  },
  {
   "cell_type": "code",
   "execution_count": 2,
   "metadata": {},
   "outputs": [],
   "source": [
    "import gzip\n",
    "import pickle\n",
    "\n",
    "folder_name = 'demo'\n",
    "task_name = 'mug_task'\n",
    "path = f'{folder_name}/{task_name}'\n",
    "\n",
    "with gzip.open(path + f'/upright.gzip','rb') as f:\n",
    "    upright_samples = pickle.load(f)\n",
    "\n",
    "with gzip.open(path + f'/lying.gzip','rb') as f:\n",
    "    lying_samples = pickle.load(f)"
   ]
  },
  {
   "cell_type": "markdown",
   "metadata": {},
   "source": [
    "# Load Models"
   ]
  },
  {
   "cell_type": "code",
   "execution_count": 3,
   "metadata": {},
   "outputs": [],
   "source": [
    "from torch import nn\n",
    "from pytorch3d import transforms\n",
    "\n",
    "import e3nn.nn\n",
    "from e3nn import o3\n",
    "from e3nn.math import soft_one_hot_linspace, soft_unit_step\n",
    "\n",
    "from edf.utils import preprocess\n",
    "from edf.models import SE3Transformer, SE3TransformerLight, EnergyModel, QueryTensorField\n",
    "from edf.mcmc import MH, LangevinMH\n",
    "from edf.dist import GaussianDistSE3\n",
    "from edf.layers import QuerySHLayer, TensorFieldLayer\n",
    "\n",
    "characteristic_length = 0.01"
   ]
  },
  {
   "cell_type": "code",
   "execution_count": 4,
   "metadata": {},
   "outputs": [],
   "source": [
    "N_query = 1\n",
    "max_radius = 3.\n",
    "query_radius = 0.  \n",
    "field_cutoff = 5.         \n",
    "std_theta = 45 / 180 * np.pi\n",
    "std_X = 5.                      \n",
    "\n",
    "#xlim, ylim, zlim = np.array([-20.,  20.]), np.array([-20.,  20.]), np.array([15., 25.])\n",
    "#ranges = torch.tensor(np.stack((xlim,ylim,zlim)), dtype=torch.float).to(device)#(xyz,minmax)=(3,2)\n",
    "ranges_cropped = torch.tensor([[-21., 21.],\n",
    "                               [-21., 21.],\n",
    "                               [-30., -5.]])\n",
    "irreps_out = \"10x0e + 10x1e + 4x2e + 2x3e\"\n",
    "irreps_descriptor = o3.Irreps(irreps_out)\n",
    "sh_lmax_descriptor = 3\n",
    "number_of_basis_descriptor = 10\n",
    "irrep_normalization = 'norm'"
   ]
  },
  {
   "cell_type": "code",
   "execution_count": 5,
   "metadata": {},
   "outputs": [],
   "source": [
    "seed = 0\n",
    "random.seed(seed)\n",
    "np.random.seed(seed)\n",
    "torch.manual_seed(seed)\n",
    "torch.use_deterministic_algorithms(True)\n",
    "torch.set_printoptions(precision=4, sci_mode=False)"
   ]
  },
  {
   "cell_type": "code",
   "execution_count": 6,
   "metadata": {},
   "outputs": [],
   "source": [
    "se3T = SE3TransformerLight(max_neighbor_radius = max_radius, irreps_out=irreps_out)\n",
    "irreps_out = o3.Irreps(se3T.irreps_out)\n",
    "energy_model = EnergyModel(N_query = N_query, query_radius = query_radius, field_cutoff = field_cutoff,\n",
    "                           irreps_input = irreps_out, irreps_descriptor = irreps_descriptor, sh_lmax = sh_lmax_descriptor, number_of_basis = number_of_basis_descriptor, ranges = ranges_cropped)\n",
    "metropolis = MH(ranges_X = ranges_cropped, std_theta = std_theta, std_X = std_X)\n",
    "langevin = LangevinMH(ranges_X = ranges_cropped, dt = 0.1, std_theta = 1., std_X = 1.)"
   ]
  },
  {
   "cell_type": "code",
   "execution_count": 7,
   "metadata": {},
   "outputs": [],
   "source": [
    "tp_pickle_path = \"reproducible_pickles/\"\n",
    "\n",
    "se3T.load_tp(tp_pickle_path + \"se3T/\")\n",
    "energy_model.load_tp(tp_pickle_path + \"energy_model/\")"
   ]
  },
  {
   "cell_type": "code",
   "execution_count": 8,
   "metadata": {},
   "outputs": [],
   "source": [
    "if device == 'cuda':\n",
    "    se3T = se3T.to(device)\n",
    "    energy_model = energy_model.to(device)\n",
    "    metropolis = metropolis.to(device)\n",
    "    langevin = langevin.to(device)\n",
    "\n",
    "metropolis.get_inv_cdf()\n",
    "langevin.get_inv_cdf()"
   ]
  },
  {
   "cell_type": "code",
   "execution_count": 9,
   "metadata": {},
   "outputs": [],
   "source": [
    "lr_se3T = 5e-3\n",
    "lr_energy = 20e-3\n",
    "\n",
    "optimizer_se3T = torch.optim.Adam(list(se3T.parameters()), lr=lr_se3T, betas=(0.9, 0.98), eps=1e-09, weight_decay=1e-4, amsgrad=True)\n",
    "optimizer_energy = torch.optim.Adam(list(energy_model.parameters()), lr=lr_energy, betas=(0.9, 0.98), eps=1e-09, weight_decay=0, amsgrad=True)"
   ]
  },
  {
   "cell_type": "code",
   "execution_count": 10,
   "metadata": {},
   "outputs": [
    {
     "data": {
      "text/plain": [
       "<All keys matched successfully>"
      ]
     },
     "execution_count": 10,
     "metadata": {},
     "output_type": "execute_result"
    }
   ],
   "source": [
    "loaded = torch.load('checkpoint/train_pick_reproducible/Jun_05_2022__23_35_22/model_iter_300.pt', map_location=device)\n",
    "se3T.load_state_dict(loaded['se3T_state_dict'])\n",
    "energy_model.load_state_dict(loaded['energy_model_state_dict'])"
   ]
  },
  {
   "cell_type": "code",
   "execution_count": 11,
   "metadata": {},
   "outputs": [],
   "source": [
    "N_query_Q = 1\n",
    "max_radius_Q = 5.\n",
    "query_radius_Q = 0.  \n",
    "field_cutoff_Q = 5.             \n",
    "ranges_cropped_Q = torch.tensor([[-10., 10.],\n",
    "                                    [-10., 10.],\n",
    "                                    [-10., 10.]])\n",
    "irreps_out_Q = \"10x0e + 10x1e + 4x2e + 2x3e\"\n",
    "sh_lmax_descriptor_Q = 3\n",
    "number_of_basis_descriptor_Q = 10\n",
    "irrep_normalization_Q = 'norm'\n",
    "\n",
    "\n",
    "max_radius_K = 2.5\n",
    "query_radius_K = 0.  \n",
    "field_cutoff_K = 5.\n",
    "std_theta_K = 45 / 180 * np.pi\n",
    "std_X_K = 5.\n",
    "ranges_cropped_K = torch.tensor([[-21., 21.],\n",
    "                               [-21., 21.],\n",
    "                               [-30., -5.]])\n",
    "irreps_out_K = \"10x0e + 10x1e + 4x2e + 2x3e\"\n",
    "irreps_descriptor_K = o3.Irreps(irreps_out_K)\n",
    "sh_lmax_descriptor_K = 3\n",
    "number_of_basis_descriptor_K = 10\n",
    "irrep_normalization_K = 'norm'"
   ]
  },
  {
   "cell_type": "code",
   "execution_count": 12,
   "metadata": {},
   "outputs": [],
   "source": [
    "seed = 0\n",
    "random.seed(seed)\n",
    "np.random.seed(seed)\n",
    "torch.manual_seed(seed)\n",
    "torch.use_deterministic_algorithms(True)\n",
    "torch.set_printoptions(precision=4, sci_mode=False)"
   ]
  },
  {
   "cell_type": "code",
   "execution_count": 13,
   "metadata": {},
   "outputs": [],
   "source": [
    "se3T_Q = SE3TransformerLight(max_neighbor_radius = max_radius_Q, irreps_out=irreps_out_Q)\n",
    "tensor_field_Q = QueryTensorField(N_query = N_query_Q, field_cutoff = field_cutoff_Q, irreps_input = irreps_out_Q, irreps_output = irreps_out_K,\n",
    "                                  sh_lmax = sh_lmax_descriptor_Q, number_of_basis = number_of_basis_descriptor_Q,\n",
    "                                  irrep_normalization = irrep_normalization_Q, path_normalization=\"element\")\n",
    "query_pos_Q = torch.zeros(N_query_Q, 3, device=device)\n",
    "\n",
    "se3T_K = SE3TransformerLight(max_neighbor_radius = max_radius_K, irreps_out=irreps_out_K)\n",
    "irreps_out_K = o3.Irreps(se3T_K.irreps_out)\n",
    "energy_model_K = EnergyModel(N_query = N_query_Q, query_radius = query_radius_K, field_cutoff = field_cutoff_K,\n",
    "                           irreps_input = irreps_out_K, irreps_descriptor = irreps_descriptor_K, sh_lmax = sh_lmax_descriptor_K, \n",
    "                           number_of_basis = number_of_basis_descriptor_K, ranges = ranges_cropped_K, learnable_query=False)\n",
    "metropolis_K = MH(ranges_X = ranges_cropped_K, std_theta = std_theta_K, std_X = std_X_K)\n",
    "langevin_K = LangevinMH(ranges_X = ranges_cropped_K, dt = 0.1, std_theta = 1., std_X = 1.)"
   ]
  },
  {
   "cell_type": "code",
   "execution_count": 14,
   "metadata": {},
   "outputs": [],
   "source": [
    "tp_pickle_path = \"reproducible_pickles/\"\n",
    "\n",
    "se3T_Q.load_tp(tp_pickle_path + \"se3T_Q/\")\n",
    "tensor_field_Q.load_tp(tp_pickle_path + \"tensor_field_Q/\")\n",
    "se3T_K.load_tp(tp_pickle_path + \"se3T_K/\")\n",
    "energy_model_K.load_tp(tp_pickle_path + \"energy_model_K/\")"
   ]
  },
  {
   "cell_type": "code",
   "execution_count": 15,
   "metadata": {},
   "outputs": [],
   "source": [
    "if device == 'cuda':\n",
    "    se3T_Q = se3T_Q.to(device)\n",
    "    tensor_field_Q = tensor_field_Q.to(device)\n",
    "    se3T_K = se3T_K.to(device)\n",
    "    energy_model_K = energy_model_K.to(device)\n",
    "    metropolis_K = metropolis_K.to(device)\n",
    "    langevin_K = langevin_K.to(device)\n",
    "\n",
    "metropolis_K.get_inv_cdf()\n",
    "langevin_K.get_inv_cdf()"
   ]
  },
  {
   "cell_type": "code",
   "execution_count": 16,
   "metadata": {},
   "outputs": [],
   "source": [
    "lr_Q = 5e-3\n",
    "lr_K = 5e-3\n",
    "lr_energy_K = 20e-3\n",
    "\n",
    "optimizer_Q = torch.optim.Adam(list(se3T_Q.parameters()) + list(tensor_field_Q.parameters()), lr=lr_Q, betas=(0.9, 0.98), eps=1e-09, weight_decay=1e-4, amsgrad=True)\n",
    "optimizer_K = torch.optim.Adam(list(se3T_K.parameters()), lr=lr_K, betas=(0.9, 0.98), eps=1e-09, weight_decay=1e-4, amsgrad=True)\n",
    "optimizer_energy_K = torch.optim.Adam(list(energy_model_K.parameters()), lr=lr_energy_K, betas=(0.9, 0.98), eps=1e-09, weight_decay=0, amsgrad=True)"
   ]
  },
  {
   "cell_type": "code",
   "execution_count": 17,
   "metadata": {},
   "outputs": [
    {
     "data": {
      "text/plain": [
       "<All keys matched successfully>"
      ]
     },
     "execution_count": 17,
     "metadata": {},
     "output_type": "execute_result"
    }
   ],
   "source": [
    "loaded = torch.load('checkpoint/train_place_reproducible/Jun_06_2022__11_36_29/model_place_iter_300.pt', map_location=device)\n",
    "se3T_K.load_state_dict(loaded['se3T_K_state_dict'])\n",
    "energy_model_K.load_state_dict(loaded['energy_model_K_state_dict'])\n",
    "se3T_Q.load_state_dict(loaded['se3T_Q_state_dict'])\n",
    "tensor_field_Q.load_state_dict(loaded['tensor_field_Q_state_dict'])"
   ]
  },
  {
   "cell_type": "code",
   "execution_count": 18,
   "metadata": {},
   "outputs": [
    {
     "data": {
      "text/plain": [
       "<torch._C.Generator at 0x7f22d90d90f0>"
      ]
     },
     "execution_count": 18,
     "metadata": {},
     "output_type": "execute_result"
    }
   ],
   "source": [
    "seed = 0\n",
    "random.seed(seed)\n",
    "np.random.seed(seed)\n",
    "torch.manual_seed(seed)"
   ]
  },
  {
   "cell_type": "code",
   "execution_count": 19,
   "metadata": {},
   "outputs": [],
   "source": [
    "task = MugTask(use_gui=False)"
   ]
  },
  {
   "cell_type": "code",
   "execution_count": 20,
   "metadata": {},
   "outputs": [
    {
     "name": "stdout",
     "output_type": "stream",
     "text": [
      "=================Sample 100==================\n"
     ]
    },
    {
     "name": "stderr",
     "output_type": "stream",
     "text": [
      "100%|██████████| 499/499 [00:12<00:00, 40.68it/s]\n",
      "100%|██████████| 99/99 [00:11<00:00,  8.71it/s]\n"
     ]
    },
    {
     "name": "stdout",
     "output_type": "stream",
     "text": [
      "Pick inference time: 25.288615942001343\n",
      "First iteration is slow\n",
      "Identified 9189 IK solutions with minimum distance of 2.339 in 1.135 seconds\n",
      "Pick success\n"
     ]
    },
    {
     "name": "stderr",
     "output_type": "stream",
     "text": [
      "100%|██████████| 499/499 [00:09<00:00, 54.31it/s]\n",
      "100%|██████████| 99/99 [00:05<00:00, 16.67it/s]\n"
     ]
    },
    {
     "name": "stdout",
     "output_type": "stream",
     "text": [
      "Place inference time: 16.562714338302612\n",
      "Identified 6823 IK solutions with minimum distance of 0.958 in 0.395 seconds\n",
      "Place Success\n",
      "Pick Success Rate: 100%  (1 / 1)    ||   Place Success Rate: 100%   (1 / 1)    ||   Place-and-Place Success Rate: 100%   (1 / 1)\n",
      "======================================\n",
      "=================Sample 101==================\n"
     ]
    },
    {
     "name": "stderr",
     "output_type": "stream",
     "text": [
      "100%|██████████| 499/499 [00:09<00:00, 50.51it/s]\n",
      "100%|██████████| 99/99 [00:06<00:00, 14.55it/s]\n"
     ]
    },
    {
     "name": "stdout",
     "output_type": "stream",
     "text": [
      "Pick inference time: 18.933665990829468\n",
      "Identified 5945 IK solutions with minimum distance of 2.639 in 0.745 seconds\n",
      "Pick success\n"
     ]
    },
    {
     "name": "stderr",
     "output_type": "stream",
     "text": [
      "100%|██████████| 499/499 [00:08<00:00, 61.39it/s]\n",
      "100%|██████████| 99/99 [00:06<00:00, 16.14it/s]\n"
     ]
    },
    {
     "name": "stdout",
     "output_type": "stream",
     "text": [
      "Place inference time: 16.6527681350708\n",
      "Identified 7767 IK solutions with minimum distance of 0.911 in 0.581 seconds\n",
      "Place Success\n",
      "Pick Success Rate: 100%  (2 / 2)    ||   Place Success Rate: 100%   (2 / 2)    ||   Place-and-Place Success Rate: 100%   (2 / 2)\n",
      "======================================\n",
      "=================Sample 102==================\n"
     ]
    },
    {
     "name": "stderr",
     "output_type": "stream",
     "text": [
      "100%|██████████| 499/499 [00:10<00:00, 46.90it/s]\n",
      "100%|██████████| 99/99 [00:07<00:00, 12.80it/s]\n"
     ]
    },
    {
     "name": "stdout",
     "output_type": "stream",
     "text": [
      "Pick inference time: 20.886026859283447\n",
      "Identified 5879 IK solutions with minimum distance of 0.846 in 0.375 seconds\n",
      "Pick fail\n",
      "Pick Success Rate: 66%  (2 / 3)    ||   Place Success Rate: 100%   (2 / 2)    ||   Place-and-Place Success Rate: 66%   (2 / 3)\n",
      "======================================\n",
      "=================Sample 103==================\n"
     ]
    },
    {
     "name": "stderr",
     "output_type": "stream",
     "text": [
      "100%|██████████| 499/499 [00:10<00:00, 46.94it/s]\n",
      "100%|██████████| 99/99 [00:07<00:00, 12.90it/s]\n"
     ]
    },
    {
     "name": "stdout",
     "output_type": "stream",
     "text": [
      "Pick inference time: 23.645935535430908\n",
      "Identified 0 IK solutions with minimum distance of inf in 0.092 seconds\n",
      "Identified 0 IK solutions with minimum distance of inf in 0.473 seconds\n",
      "Pick IK Failed\n",
      "Pick Success Rate: 50%  (2 / 4)    ||   Place Success Rate: 100%   (2 / 2)    ||   Place-and-Place Success Rate: 50%   (2 / 4)\n",
      "======================================\n",
      "=================Sample 104==================\n"
     ]
    },
    {
     "name": "stderr",
     "output_type": "stream",
     "text": [
      "100%|██████████| 499/499 [00:10<00:00, 47.17it/s]\n",
      "100%|██████████| 99/99 [00:07<00:00, 12.92it/s]\n"
     ]
    },
    {
     "name": "stdout",
     "output_type": "stream",
     "text": [
      "Pick inference time: 19.584547758102417\n",
      "Identified 9396 IK solutions with minimum distance of 1.600 in 0.934 seconds\n",
      "Pick success\n"
     ]
    },
    {
     "name": "stderr",
     "output_type": "stream",
     "text": [
      "100%|██████████| 499/499 [00:08<00:00, 61.35it/s]\n",
      "100%|██████████| 99/99 [00:06<00:00, 16.04it/s]\n"
     ]
    },
    {
     "name": "stdout",
     "output_type": "stream",
     "text": [
      "Place inference time: 17.32028865814209\n",
      "Identified 6692 IK solutions with minimum distance of 0.809 in 0.389 seconds\n",
      "Place Success\n",
      "Pick Success Rate: 60%  (3 / 5)    ||   Place Success Rate: 100%   (3 / 3)    ||   Place-and-Place Success Rate: 60%   (3 / 5)\n",
      "======================================\n",
      "=================Sample 105==================\n"
     ]
    },
    {
     "name": "stderr",
     "output_type": "stream",
     "text": [
      "100%|██████████| 499/499 [00:10<00:00, 47.55it/s]\n",
      "100%|██████████| 99/99 [00:07<00:00, 12.91it/s]\n"
     ]
    },
    {
     "name": "stdout",
     "output_type": "stream",
     "text": [
      "Pick inference time: 19.50872278213501\n",
      "Identified 10935 IK solutions with minimum distance of 2.296 in 1.143 seconds\n",
      "Pick success\n"
     ]
    },
    {
     "name": "stderr",
     "output_type": "stream",
     "text": [
      "100%|██████████| 499/499 [00:08<00:00, 59.65it/s]\n",
      "100%|██████████| 99/99 [00:05<00:00, 16.60it/s]\n"
     ]
    },
    {
     "name": "stdout",
     "output_type": "stream",
     "text": [
      "Place inference time: 20.53951334953308\n",
      "Identified 5774 IK solutions with minimum distance of 1.600 in 0.664 seconds\n",
      "Place Fail\n",
      "Pick Success Rate: 66%  (4 / 6)    ||   Place Success Rate: 75%   (3 / 4)    ||   Place-and-Place Success Rate: 50%   (3 / 6)\n",
      "======================================\n",
      "=================Sample 106==================\n"
     ]
    },
    {
     "name": "stderr",
     "output_type": "stream",
     "text": [
      "100%|██████████| 499/499 [00:10<00:00, 46.16it/s]\n",
      "100%|██████████| 99/99 [00:07<00:00, 12.74it/s]\n"
     ]
    },
    {
     "name": "stdout",
     "output_type": "stream",
     "text": [
      "Pick inference time: 19.976677894592285\n",
      "Identified 6608 IK solutions with minimum distance of 1.468 in 0.705 seconds\n",
      "Pick fail\n",
      "Pick Success Rate: 57%  (4 / 7)    ||   Place Success Rate: 75%   (3 / 4)    ||   Place-and-Place Success Rate: 42%   (3 / 7)\n",
      "======================================\n",
      "=================Sample 107==================\n"
     ]
    },
    {
     "name": "stderr",
     "output_type": "stream",
     "text": [
      "100%|██████████| 499/499 [00:10<00:00, 46.76it/s]\n",
      "100%|██████████| 99/99 [00:07<00:00, 12.98it/s]\n"
     ]
    },
    {
     "name": "stdout",
     "output_type": "stream",
     "text": [
      "Pick inference time: 19.631609678268433\n",
      "Identified 10737 IK solutions with minimum distance of 1.459 in 0.888 seconds\n",
      "Pick success\n"
     ]
    },
    {
     "name": "stderr",
     "output_type": "stream",
     "text": [
      "100%|██████████| 499/499 [00:08<00:00, 60.11it/s]\n",
      "100%|██████████| 99/99 [00:06<00:00, 16.06it/s]\n"
     ]
    },
    {
     "name": "stdout",
     "output_type": "stream",
     "text": [
      "Place inference time: 19.33587098121643\n",
      "Identified 6488 IK solutions with minimum distance of 0.592 in 0.371 seconds\n",
      "Place Success\n",
      "Pick Success Rate: 62%  (5 / 8)    ||   Place Success Rate: 80%   (4 / 5)    ||   Place-and-Place Success Rate: 50%   (4 / 8)\n",
      "======================================\n",
      "=================Sample 108==================\n"
     ]
    },
    {
     "name": "stderr",
     "output_type": "stream",
     "text": [
      "100%|██████████| 499/499 [00:10<00:00, 46.91it/s]\n",
      "100%|██████████| 99/99 [00:07<00:00, 12.80it/s]\n"
     ]
    },
    {
     "name": "stdout",
     "output_type": "stream",
     "text": [
      "Pick inference time: 19.723317623138428\n",
      "Identified 7533 IK solutions with minimum distance of 0.985 in 0.648 seconds\n",
      "Pick success\n"
     ]
    },
    {
     "name": "stderr",
     "output_type": "stream",
     "text": [
      "100%|██████████| 499/499 [00:08<00:00, 57.36it/s]\n",
      "100%|██████████| 99/99 [00:06<00:00, 15.76it/s]\n"
     ]
    },
    {
     "name": "stdout",
     "output_type": "stream",
     "text": [
      "Place inference time: 16.146657466888428\n",
      "Identified 11136 IK solutions with minimum distance of 1.304 in 0.923 seconds\n",
      "Place Success\n",
      "Pick Success Rate: 66%  (6 / 9)    ||   Place Success Rate: 83%   (5 / 6)    ||   Place-and-Place Success Rate: 55%   (5 / 9)\n",
      "======================================\n",
      "=================Sample 109==================\n"
     ]
    },
    {
     "name": "stderr",
     "output_type": "stream",
     "text": [
      "100%|██████████| 499/499 [00:10<00:00, 46.71it/s]\n",
      "100%|██████████| 99/99 [00:07<00:00, 12.56it/s]\n"
     ]
    },
    {
     "name": "stdout",
     "output_type": "stream",
     "text": [
      "Pick inference time: 20.002241373062134\n",
      "Identified 5483 IK solutions with minimum distance of 2.604 in 0.648 seconds\n",
      "Pick success\n"
     ]
    },
    {
     "name": "stderr",
     "output_type": "stream",
     "text": [
      "100%|██████████| 499/499 [00:08<00:00, 58.71it/s]\n",
      "100%|██████████| 99/99 [00:05<00:00, 16.95it/s]\n"
     ]
    },
    {
     "name": "stdout",
     "output_type": "stream",
     "text": [
      "Place inference time: 15.485206842422485\n",
      "Identified 6197 IK solutions with minimum distance of 1.304 in 0.376 seconds\n",
      "Place Success\n",
      "Pick Success Rate: 70%  (7 / 10)    ||   Place Success Rate: 85%   (6 / 7)    ||   Place-and-Place Success Rate: 60%   (6 / 10)\n",
      "======================================\n",
      "=================Sample 110==================\n"
     ]
    },
    {
     "name": "stderr",
     "output_type": "stream",
     "text": [
      "100%|██████████| 499/499 [00:10<00:00, 47.05it/s]\n",
      "100%|██████████| 99/99 [00:07<00:00, 13.35it/s]\n"
     ]
    },
    {
     "name": "stdout",
     "output_type": "stream",
     "text": [
      "Pick inference time: 19.344492435455322\n",
      "Identified 6340 IK solutions with minimum distance of 1.623 in 0.787 seconds\n",
      "Pick fail\n",
      "Pick Success Rate: 63%  (7 / 11)    ||   Place Success Rate: 85%   (6 / 7)    ||   Place-and-Place Success Rate: 54%   (6 / 11)\n",
      "======================================\n",
      "=================Sample 111==================\n"
     ]
    },
    {
     "name": "stderr",
     "output_type": "stream",
     "text": [
      "100%|██████████| 499/499 [00:10<00:00, 48.29it/s]\n",
      "100%|██████████| 99/99 [00:07<00:00, 14.05it/s]\n"
     ]
    },
    {
     "name": "stdout",
     "output_type": "stream",
     "text": [
      "Pick inference time: 18.669023990631104\n",
      "Identified 5424 IK solutions with minimum distance of 2.269 in 0.550 seconds\n",
      "Pick success\n"
     ]
    },
    {
     "name": "stderr",
     "output_type": "stream",
     "text": [
      "100%|██████████| 499/499 [00:08<00:00, 60.76it/s]\n",
      "100%|██████████| 99/99 [00:06<00:00, 16.28it/s]\n"
     ]
    },
    {
     "name": "stdout",
     "output_type": "stream",
     "text": [
      "Place inference time: 15.488256216049194\n",
      "Identified 7268 IK solutions with minimum distance of 0.834 in 0.391 seconds\n",
      "Place Success\n",
      "Pick Success Rate: 66%  (8 / 12)    ||   Place Success Rate: 87%   (7 / 8)    ||   Place-and-Place Success Rate: 58%   (7 / 12)\n",
      "======================================\n",
      "=================Sample 112==================\n"
     ]
    },
    {
     "name": "stderr",
     "output_type": "stream",
     "text": [
      "100%|██████████| 499/499 [00:10<00:00, 45.55it/s]\n",
      "100%|██████████| 99/99 [00:07<00:00, 12.41it/s]\n"
     ]
    },
    {
     "name": "stdout",
     "output_type": "stream",
     "text": [
      "Pick inference time: 20.33073329925537\n",
      "Identified 3922 IK solutions with minimum distance of 1.911 in 0.553 seconds\n",
      "Pick success\n"
     ]
    },
    {
     "name": "stderr",
     "output_type": "stream",
     "text": [
      "100%|██████████| 499/499 [00:08<00:00, 59.20it/s]\n",
      "100%|██████████| 99/99 [00:06<00:00, 16.41it/s]\n"
     ]
    },
    {
     "name": "stdout",
     "output_type": "stream",
     "text": [
      "Place inference time: 15.647374868392944\n",
      "Identified 3313 IK solutions with minimum distance of 1.768 in 0.298 seconds\n",
      "Place Fail\n",
      "Pick Success Rate: 69%  (9 / 13)    ||   Place Success Rate: 77%   (7 / 9)    ||   Place-and-Place Success Rate: 53%   (7 / 13)\n",
      "======================================\n",
      "=================Sample 113==================\n"
     ]
    },
    {
     "name": "stderr",
     "output_type": "stream",
     "text": [
      "100%|██████████| 499/499 [00:10<00:00, 47.47it/s]\n",
      "100%|██████████| 99/99 [00:07<00:00, 12.69it/s]\n"
     ]
    },
    {
     "name": "stdout",
     "output_type": "stream",
     "text": [
      "Pick inference time: 19.660687685012817\n",
      "Identified 0 IK solutions with minimum distance of inf in 0.089 seconds\n",
      "Identified 0 IK solutions with minimum distance of inf in 0.466 seconds\n",
      "Pick IK Failed\n",
      "Pick Success Rate: 64%  (9 / 14)    ||   Place Success Rate: 77%   (7 / 9)    ||   Place-and-Place Success Rate: 50%   (7 / 14)\n",
      "======================================\n",
      "=================Sample 114==================\n"
     ]
    },
    {
     "name": "stderr",
     "output_type": "stream",
     "text": [
      "100%|██████████| 499/499 [00:10<00:00, 47.17it/s]\n",
      "100%|██████████| 99/99 [00:07<00:00, 12.75it/s]\n"
     ]
    },
    {
     "name": "stdout",
     "output_type": "stream",
     "text": [
      "Pick inference time: 19.746352672576904\n",
      "Identified 10829 IK solutions with minimum distance of 1.978 in 1.350 seconds\n",
      "Pick success\n"
     ]
    },
    {
     "name": "stderr",
     "output_type": "stream",
     "text": [
      "100%|██████████| 499/499 [00:08<00:00, 59.10it/s]\n",
      "100%|██████████| 99/99 [00:06<00:00, 16.38it/s]\n"
     ]
    },
    {
     "name": "stdout",
     "output_type": "stream",
     "text": [
      "Place inference time: 15.718278884887695\n",
      "Identified 9008 IK solutions with minimum distance of 1.154 in 0.646 seconds\n",
      "Place Success\n",
      "Pick Success Rate: 66%  (10 / 15)    ||   Place Success Rate: 80%   (8 / 10)    ||   Place-and-Place Success Rate: 53%   (8 / 15)\n",
      "======================================\n",
      "=================Sample 115==================\n"
     ]
    },
    {
     "name": "stderr",
     "output_type": "stream",
     "text": [
      "100%|██████████| 499/499 [00:10<00:00, 48.54it/s]\n",
      "100%|██████████| 99/99 [00:07<00:00, 13.13it/s]\n"
     ]
    },
    {
     "name": "stdout",
     "output_type": "stream",
     "text": [
      "Pick inference time: 19.208402156829834\n",
      "Identified 9297 IK solutions with minimum distance of 1.191 in 0.736 seconds\n",
      "Pick success\n"
     ]
    },
    {
     "name": "stderr",
     "output_type": "stream",
     "text": [
      "100%|██████████| 499/499 [00:07<00:00, 65.08it/s]\n",
      "100%|██████████| 99/99 [00:05<00:00, 17.14it/s]\n"
     ]
    },
    {
     "name": "stdout",
     "output_type": "stream",
     "text": [
      "Place inference time: 14.62394380569458\n",
      "Identified 5181 IK solutions with minimum distance of 0.873 in 0.283 seconds\n",
      "Place Success\n",
      "Pick Success Rate: 68%  (11 / 16)    ||   Place Success Rate: 81%   (9 / 11)    ||   Place-and-Place Success Rate: 56%   (9 / 16)\n",
      "======================================\n",
      "=================Sample 116==================\n"
     ]
    },
    {
     "name": "stderr",
     "output_type": "stream",
     "text": [
      "100%|██████████| 499/499 [00:10<00:00, 46.46it/s]\n",
      "100%|██████████| 99/99 [00:07<00:00, 12.56it/s]\n"
     ]
    },
    {
     "name": "stdout",
     "output_type": "stream",
     "text": [
      "Pick inference time: 19.995925903320312\n",
      "Identified 4544 IK solutions with minimum distance of 2.699 in 0.562 seconds\n",
      "Pick success\n"
     ]
    },
    {
     "name": "stderr",
     "output_type": "stream",
     "text": [
      "100%|██████████| 499/499 [00:07<00:00, 62.45it/s]\n",
      "100%|██████████| 99/99 [00:06<00:00, 16.39it/s]\n"
     ]
    },
    {
     "name": "stdout",
     "output_type": "stream",
     "text": [
      "Place inference time: 15.23908257484436\n",
      "Identified 7430 IK solutions with minimum distance of 0.918 in 0.420 seconds\n",
      "Place Success\n",
      "Pick Success Rate: 70%  (12 / 17)    ||   Place Success Rate: 83%   (10 / 12)    ||   Place-and-Place Success Rate: 58%   (10 / 17)\n",
      "======================================\n",
      "=================Sample 117==================\n"
     ]
    },
    {
     "name": "stderr",
     "output_type": "stream",
     "text": [
      "100%|██████████| 499/499 [00:10<00:00, 48.04it/s]\n",
      "100%|██████████| 99/99 [00:07<00:00, 12.44it/s]\n"
     ]
    },
    {
     "name": "stdout",
     "output_type": "stream",
     "text": [
      "Pick inference time: 19.69539785385132\n",
      "Identified 8882 IK solutions with minimum distance of 2.837 in 1.281 seconds\n",
      "Pick success\n"
     ]
    },
    {
     "name": "stderr",
     "output_type": "stream",
     "text": [
      "100%|██████████| 499/499 [00:08<00:00, 60.48it/s]\n",
      "100%|██████████| 99/99 [00:06<00:00, 16.02it/s]\n"
     ]
    },
    {
     "name": "stdout",
     "output_type": "stream",
     "text": [
      "Place inference time: 15.676610708236694\n",
      "Identified 0 IK solutions with minimum distance of inf in 0.091 seconds\n",
      "Identified 0 IK solutions with minimum distance of inf in 0.479 seconds\n",
      "place IK fail\n",
      "Place Fail\n",
      "Pick Success Rate: 72%  (13 / 18)    ||   Place Success Rate: 76%   (10 / 13)    ||   Place-and-Place Success Rate: 55%   (10 / 18)\n",
      "======================================\n",
      "=================Sample 118==================\n"
     ]
    },
    {
     "name": "stderr",
     "output_type": "stream",
     "text": [
      "100%|██████████| 499/499 [00:10<00:00, 47.56it/s]\n",
      "100%|██████████| 99/99 [00:07<00:00, 12.90it/s]\n"
     ]
    },
    {
     "name": "stdout",
     "output_type": "stream",
     "text": [
      "Pick inference time: 19.539817094802856\n",
      "Identified 10466 IK solutions with minimum distance of 2.574 in 1.243 seconds\n",
      "Pick success\n"
     ]
    },
    {
     "name": "stderr",
     "output_type": "stream",
     "text": [
      "100%|██████████| 499/499 [00:07<00:00, 62.69it/s]\n",
      "100%|██████████| 99/99 [00:06<00:00, 16.23it/s]\n"
     ]
    },
    {
     "name": "stdout",
     "output_type": "stream",
     "text": [
      "Place inference time: 15.205831289291382\n",
      "Identified 0 IK solutions with minimum distance of inf in 0.090 seconds\n",
      "Identified 0 IK solutions with minimum distance of inf in 0.462 seconds\n",
      "place IK fail\n",
      "Place Fail\n",
      "Pick Success Rate: 73%  (14 / 19)    ||   Place Success Rate: 71%   (10 / 14)    ||   Place-and-Place Success Rate: 52%   (10 / 19)\n",
      "======================================\n",
      "=================Sample 119==================\n"
     ]
    },
    {
     "name": "stderr",
     "output_type": "stream",
     "text": [
      "100%|██████████| 499/499 [00:10<00:00, 49.46it/s]\n",
      "100%|██████████| 99/99 [00:07<00:00, 13.44it/s]\n"
     ]
    },
    {
     "name": "stdout",
     "output_type": "stream",
     "text": [
      "Pick inference time: 18.73256802558899\n",
      "Identified 8383 IK solutions with minimum distance of 1.054 in 0.497 seconds\n",
      "Pick success\n"
     ]
    },
    {
     "name": "stderr",
     "output_type": "stream",
     "text": [
      "100%|██████████| 499/499 [00:08<00:00, 60.65it/s]\n",
      "100%|██████████| 99/99 [00:06<00:00, 16.21it/s]\n"
     ]
    },
    {
     "name": "stdout",
     "output_type": "stream",
     "text": [
      "Place inference time: 15.520688533782959\n",
      "Identified 9634 IK solutions with minimum distance of 1.067 in 0.679 seconds\n",
      "Place Success\n",
      "Pick Success Rate: 75%  (15 / 20)    ||   Place Success Rate: 73%   (11 / 15)    ||   Place-and-Place Success Rate: 55%   (11 / 20)\n",
      "======================================\n",
      "=================Sample 120==================\n"
     ]
    },
    {
     "name": "stderr",
     "output_type": "stream",
     "text": [
      "100%|██████████| 499/499 [00:10<00:00, 48.84it/s]\n",
      "100%|██████████| 99/99 [00:07<00:00, 13.98it/s]\n"
     ]
    },
    {
     "name": "stdout",
     "output_type": "stream",
     "text": [
      "Pick inference time: 18.601779460906982\n",
      "Identified 3172 IK solutions with minimum distance of 2.131 in 0.274 seconds\n",
      "Pick success\n"
     ]
    },
    {
     "name": "stderr",
     "output_type": "stream",
     "text": [
      "100%|██████████| 499/499 [00:07<00:00, 64.70it/s]\n",
      "100%|██████████| 99/99 [00:05<00:00, 17.06it/s]\n"
     ]
    },
    {
     "name": "stdout",
     "output_type": "stream",
     "text": [
      "Place inference time: 14.676382541656494\n",
      "Identified 7529 IK solutions with minimum distance of 1.025 in 0.442 seconds\n",
      "Place Success\n",
      "Pick Success Rate: 76%  (16 / 21)    ||   Place Success Rate: 75%   (12 / 16)    ||   Place-and-Place Success Rate: 57%   (12 / 21)\n",
      "======================================\n",
      "=================Sample 121==================\n"
     ]
    },
    {
     "name": "stderr",
     "output_type": "stream",
     "text": [
      "100%|██████████| 499/499 [00:10<00:00, 46.75it/s]\n",
      "100%|██████████| 99/99 [00:08<00:00, 12.33it/s]\n"
     ]
    },
    {
     "name": "stdout",
     "output_type": "stream",
     "text": [
      "Pick inference time: 20.1295382976532\n",
      "Identified 8957 IK solutions with minimum distance of 1.556 in 0.824 seconds\n",
      "Pick success\n"
     ]
    },
    {
     "name": "stderr",
     "output_type": "stream",
     "text": [
      "100%|██████████| 499/499 [00:07<00:00, 63.71it/s]\n",
      "100%|██████████| 99/99 [00:06<00:00, 16.49it/s]\n"
     ]
    },
    {
     "name": "stdout",
     "output_type": "stream",
     "text": [
      "Place inference time: 15.02640962600708\n",
      "Identified 10909 IK solutions with minimum distance of 1.166 in 0.740 seconds\n",
      "Place Success\n",
      "Pick Success Rate: 77%  (17 / 22)    ||   Place Success Rate: 76%   (13 / 17)    ||   Place-and-Place Success Rate: 59%   (13 / 22)\n",
      "======================================\n",
      "=================Sample 122==================\n"
     ]
    },
    {
     "name": "stderr",
     "output_type": "stream",
     "text": [
      "100%|██████████| 499/499 [00:10<00:00, 47.07it/s]\n",
      "100%|██████████| 99/99 [00:07<00:00, 12.59it/s]\n"
     ]
    },
    {
     "name": "stdout",
     "output_type": "stream",
     "text": [
      "Pick inference time: 19.828298330307007\n",
      "Identified 6508 IK solutions with minimum distance of 1.180 in 0.546 seconds\n",
      "Pick success\n"
     ]
    },
    {
     "name": "stderr",
     "output_type": "stream",
     "text": [
      "100%|██████████| 499/499 [00:08<00:00, 60.53it/s]\n",
      "100%|██████████| 99/99 [00:05<00:00, 16.72it/s]\n"
     ]
    },
    {
     "name": "stdout",
     "output_type": "stream",
     "text": [
      "Place inference time: 15.409379005432129\n",
      "Identified 6271 IK solutions with minimum distance of 0.643 in 0.363 seconds\n",
      "Place Success\n",
      "Pick Success Rate: 78%  (18 / 23)    ||   Place Success Rate: 77%   (14 / 18)    ||   Place-and-Place Success Rate: 60%   (14 / 23)\n",
      "======================================\n",
      "=================Sample 123==================\n"
     ]
    },
    {
     "name": "stderr",
     "output_type": "stream",
     "text": [
      "100%|██████████| 499/499 [00:10<00:00, 45.66it/s]\n",
      "100%|██████████| 99/99 [00:08<00:00, 12.30it/s]\n"
     ]
    },
    {
     "name": "stdout",
     "output_type": "stream",
     "text": [
      "Pick inference time: 20.383647441864014\n",
      "Identified 9400 IK solutions with minimum distance of 2.097 in 1.044 seconds\n",
      "Pick fail\n",
      "Pick Success Rate: 75%  (18 / 24)    ||   Place Success Rate: 77%   (14 / 18)    ||   Place-and-Place Success Rate: 58%   (14 / 24)\n",
      "======================================\n",
      "=================Sample 124==================\n"
     ]
    },
    {
     "name": "stderr",
     "output_type": "stream",
     "text": [
      "100%|██████████| 499/499 [00:10<00:00, 46.52it/s]\n",
      "100%|██████████| 99/99 [00:07<00:00, 13.04it/s]\n"
     ]
    },
    {
     "name": "stdout",
     "output_type": "stream",
     "text": [
      "Pick inference time: 19.653889179229736\n",
      "Identified 11093 IK solutions with minimum distance of 2.363 in 1.212 seconds\n",
      "Pick success\n"
     ]
    },
    {
     "name": "stderr",
     "output_type": "stream",
     "text": [
      "100%|██████████| 499/499 [00:07<00:00, 69.29it/s]\n",
      "100%|██████████| 99/99 [00:05<00:00, 18.71it/s]\n"
     ]
    },
    {
     "name": "stdout",
     "output_type": "stream",
     "text": [
      "Place inference time: 13.770228624343872\n",
      "Identified 4178 IK solutions with minimum distance of 1.381 in 0.244 seconds\n",
      "Place Success\n",
      "Pick Success Rate: 76%  (19 / 25)    ||   Place Success Rate: 78%   (15 / 19)    ||   Place-and-Place Success Rate: 60%   (15 / 25)\n",
      "======================================\n",
      "=================Sample 125==================\n"
     ]
    },
    {
     "name": "stderr",
     "output_type": "stream",
     "text": [
      "100%|██████████| 499/499 [00:10<00:00, 45.48it/s]\n",
      "100%|██████████| 99/99 [00:07<00:00, 12.48it/s]\n"
     ]
    },
    {
     "name": "stdout",
     "output_type": "stream",
     "text": [
      "Pick inference time: 20.29047441482544\n",
      "Identified 6810 IK solutions with minimum distance of 1.946 in 0.914 seconds\n",
      "Pick success\n"
     ]
    },
    {
     "name": "stderr",
     "output_type": "stream",
     "text": [
      "100%|██████████| 499/499 [00:07<00:00, 64.45it/s]\n",
      "100%|██████████| 99/99 [00:05<00:00, 17.20it/s]\n"
     ]
    },
    {
     "name": "stdout",
     "output_type": "stream",
     "text": [
      "Place inference time: 14.64075255393982\n",
      "Identified 7174 IK solutions with minimum distance of 0.755 in 0.410 seconds\n",
      "Place Success\n",
      "Pick Success Rate: 76%  (20 / 26)    ||   Place Success Rate: 80%   (16 / 20)    ||   Place-and-Place Success Rate: 61%   (16 / 26)\n",
      "======================================\n",
      "=================Sample 126==================\n"
     ]
    },
    {
     "name": "stderr",
     "output_type": "stream",
     "text": [
      "100%|██████████| 499/499 [00:10<00:00, 46.75it/s]\n",
      "100%|██████████| 99/99 [00:07<00:00, 12.57it/s]\n"
     ]
    },
    {
     "name": "stdout",
     "output_type": "stream",
     "text": [
      "Pick inference time: 19.886276721954346\n",
      "Identified 12440 IK solutions with minimum distance of 1.592 in 0.991 seconds\n",
      "Pick success\n"
     ]
    },
    {
     "name": "stderr",
     "output_type": "stream",
     "text": [
      "100%|██████████| 499/499 [00:07<00:00, 62.81it/s]\n",
      "100%|██████████| 99/99 [00:05<00:00, 17.33it/s]\n"
     ]
    },
    {
     "name": "stdout",
     "output_type": "stream",
     "text": [
      "Place inference time: 14.769654750823975\n",
      "Identified 8154 IK solutions with minimum distance of 0.873 in 0.566 seconds\n",
      "Place Success\n",
      "Pick Success Rate: 77%  (21 / 27)    ||   Place Success Rate: 80%   (17 / 21)    ||   Place-and-Place Success Rate: 62%   (17 / 27)\n",
      "======================================\n",
      "=================Sample 127==================\n"
     ]
    },
    {
     "name": "stderr",
     "output_type": "stream",
     "text": [
      "100%|██████████| 499/499 [00:11<00:00, 45.34it/s]\n",
      "100%|██████████| 99/99 [00:07<00:00, 12.41it/s]\n"
     ]
    },
    {
     "name": "stdout",
     "output_type": "stream",
     "text": [
      "Pick inference time: 20.34142804145813\n",
      "Identified 9082 IK solutions with minimum distance of 1.850 in 0.868 seconds\n",
      "Pick fail\n",
      "Pick Success Rate: 75%  (21 / 28)    ||   Place Success Rate: 80%   (17 / 21)    ||   Place-and-Place Success Rate: 60%   (17 / 28)\n",
      "======================================\n",
      "=================Sample 128==================\n"
     ]
    },
    {
     "name": "stderr",
     "output_type": "stream",
     "text": [
      "100%|██████████| 499/499 [00:10<00:00, 48.41it/s]\n",
      "100%|██████████| 99/99 [00:07<00:00, 14.10it/s]\n"
     ]
    },
    {
     "name": "stdout",
     "output_type": "stream",
     "text": [
      "Pick inference time: 18.627495527267456\n",
      "Identified 7538 IK solutions with minimum distance of 1.307 in 0.608 seconds\n",
      "Pick success\n"
     ]
    },
    {
     "name": "stderr",
     "output_type": "stream",
     "text": [
      "100%|██████████| 499/499 [00:08<00:00, 61.29it/s]\n",
      "100%|██████████| 99/99 [00:06<00:00, 16.49it/s]\n"
     ]
    },
    {
     "name": "stdout",
     "output_type": "stream",
     "text": [
      "Place inference time: 15.366570234298706\n",
      "Identified 7183 IK solutions with minimum distance of 0.758 in 0.402 seconds\n",
      "Place Success\n",
      "Pick Success Rate: 75%  (22 / 29)    ||   Place Success Rate: 81%   (18 / 22)    ||   Place-and-Place Success Rate: 62%   (18 / 29)\n",
      "======================================\n",
      "=================Sample 129==================\n"
     ]
    },
    {
     "name": "stderr",
     "output_type": "stream",
     "text": [
      "100%|██████████| 499/499 [00:10<00:00, 47.01it/s]\n",
      "100%|██████████| 99/99 [00:07<00:00, 12.93it/s]\n"
     ]
    },
    {
     "name": "stdout",
     "output_type": "stream",
     "text": [
      "Pick inference time: 19.563681840896606\n",
      "Identified 6742 IK solutions with minimum distance of 2.386 in 0.947 seconds\n",
      "Pick success\n"
     ]
    },
    {
     "name": "stderr",
     "output_type": "stream",
     "text": [
      "100%|██████████| 499/499 [00:07<00:00, 63.86it/s]\n",
      "100%|██████████| 99/99 [00:05<00:00, 16.60it/s]\n"
     ]
    },
    {
     "name": "stdout",
     "output_type": "stream",
     "text": [
      "Place inference time: 14.935543775558472\n",
      "Identified 7379 IK solutions with minimum distance of 0.765 in 0.410 seconds\n",
      "Place Success\n",
      "Pick Success Rate: 76%  (23 / 30)    ||   Place Success Rate: 82%   (19 / 23)    ||   Place-and-Place Success Rate: 63%   (19 / 30)\n",
      "======================================\n",
      "=================Sample 130==================\n"
     ]
    },
    {
     "name": "stderr",
     "output_type": "stream",
     "text": [
      "100%|██████████| 499/499 [00:10<00:00, 46.85it/s]\n",
      "100%|██████████| 99/99 [00:07<00:00, 13.13it/s]\n"
     ]
    },
    {
     "name": "stdout",
     "output_type": "stream",
     "text": [
      "Pick inference time: 19.506250381469727\n",
      "Identified 10545 IK solutions with minimum distance of 1.487 in 0.880 seconds\n",
      "Pick success\n"
     ]
    },
    {
     "name": "stderr",
     "output_type": "stream",
     "text": [
      "100%|██████████| 499/499 [00:08<00:00, 56.59it/s]\n",
      "100%|██████████| 99/99 [00:06<00:00, 15.44it/s]\n"
     ]
    },
    {
     "name": "stdout",
     "output_type": "stream",
     "text": [
      "Place inference time: 16.501842975616455\n",
      "Identified 6419 IK solutions with minimum distance of 0.807 in 0.373 seconds\n",
      "Place Success\n",
      "Pick Success Rate: 77%  (24 / 31)    ||   Place Success Rate: 83%   (20 / 24)    ||   Place-and-Place Success Rate: 64%   (20 / 31)\n",
      "======================================\n",
      "=================Sample 131==================\n"
     ]
    },
    {
     "name": "stderr",
     "output_type": "stream",
     "text": [
      "100%|██████████| 499/499 [00:10<00:00, 46.29it/s]\n",
      "100%|██████████| 99/99 [00:07<00:00, 12.99it/s]\n"
     ]
    },
    {
     "name": "stdout",
     "output_type": "stream",
     "text": [
      "Pick inference time: 19.745239734649658\n",
      "Identified 3053 IK solutions with minimum distance of 1.850 in 0.236 seconds\n",
      "Pick fail\n",
      "Pick Success Rate: 75%  (24 / 32)    ||   Place Success Rate: 83%   (20 / 24)    ||   Place-and-Place Success Rate: 62%   (20 / 32)\n",
      "======================================\n",
      "=================Sample 132==================\n"
     ]
    },
    {
     "name": "stderr",
     "output_type": "stream",
     "text": [
      "100%|██████████| 499/499 [00:11<00:00, 45.36it/s]\n",
      "100%|██████████| 99/99 [00:08<00:00, 12.18it/s]\n"
     ]
    },
    {
     "name": "stdout",
     "output_type": "stream",
     "text": [
      "Pick inference time: 20.522045135498047\n",
      "Identified 7610 IK solutions with minimum distance of 2.078 in 0.938 seconds\n",
      "Pick fail\n",
      "Pick Success Rate: 72%  (24 / 33)    ||   Place Success Rate: 83%   (20 / 24)    ||   Place-and-Place Success Rate: 60%   (20 / 33)\n",
      "======================================\n",
      "=================Sample 133==================\n"
     ]
    },
    {
     "name": "stderr",
     "output_type": "stream",
     "text": [
      "100%|██████████| 499/499 [00:10<00:00, 45.80it/s]\n",
      "100%|██████████| 99/99 [00:07<00:00, 12.67it/s]\n"
     ]
    },
    {
     "name": "stdout",
     "output_type": "stream",
     "text": [
      "Pick inference time: 20.09442162513733\n",
      "Identified 4929 IK solutions with minimum distance of 1.256 in 0.358 seconds\n",
      "Pick fail\n",
      "Pick Success Rate: 70%  (24 / 34)    ||   Place Success Rate: 83%   (20 / 24)    ||   Place-and-Place Success Rate: 58%   (20 / 34)\n",
      "======================================\n",
      "=================Sample 134==================\n"
     ]
    },
    {
     "name": "stderr",
     "output_type": "stream",
     "text": [
      "100%|██████████| 499/499 [00:10<00:00, 46.21it/s]\n",
      "100%|██████████| 99/99 [00:07<00:00, 12.58it/s]\n"
     ]
    },
    {
     "name": "stdout",
     "output_type": "stream",
     "text": [
      "Pick inference time: 20.04940629005432\n",
      "Identified 13867 IK solutions with minimum distance of 2.518 in 1.509 seconds\n",
      "Pick fail\n",
      "Pick Success Rate: 68%  (24 / 35)    ||   Place Success Rate: 83%   (20 / 24)    ||   Place-and-Place Success Rate: 57%   (20 / 35)\n",
      "======================================\n",
      "=================Sample 135==================\n"
     ]
    },
    {
     "name": "stderr",
     "output_type": "stream",
     "text": [
      "100%|██████████| 499/499 [00:10<00:00, 47.50it/s]\n",
      "100%|██████████| 99/99 [00:06<00:00, 14.22it/s]\n"
     ]
    },
    {
     "name": "stdout",
     "output_type": "stream",
     "text": [
      "Pick inference time: 18.788779735565186\n",
      "Identified 10924 IK solutions with minimum distance of 1.842 in 0.772 seconds\n",
      "Pick fail\n",
      "Pick Success Rate: 66%  (24 / 36)    ||   Place Success Rate: 83%   (20 / 24)    ||   Place-and-Place Success Rate: 55%   (20 / 36)\n",
      "======================================\n",
      "=================Sample 136==================\n"
     ]
    },
    {
     "name": "stderr",
     "output_type": "stream",
     "text": [
      "100%|██████████| 499/499 [00:10<00:00, 46.66it/s]\n",
      "100%|██████████| 99/99 [00:07<00:00, 13.73it/s]\n"
     ]
    },
    {
     "name": "stdout",
     "output_type": "stream",
     "text": [
      "Pick inference time: 19.20962619781494\n",
      "Identified 10626 IK solutions with minimum distance of 1.264 in 0.869 seconds\n",
      "Pick success\n"
     ]
    },
    {
     "name": "stderr",
     "output_type": "stream",
     "text": [
      "100%|██████████| 499/499 [00:08<00:00, 58.00it/s]\n",
      "100%|██████████| 99/99 [00:05<00:00, 16.65it/s]\n"
     ]
    },
    {
     "name": "stdout",
     "output_type": "stream",
     "text": [
      "Place inference time: 15.734080791473389\n",
      "Identified 5106 IK solutions with minimum distance of 1.314 in 0.468 seconds\n",
      "Place Success\n",
      "Pick Success Rate: 67%  (25 / 37)    ||   Place Success Rate: 84%   (21 / 25)    ||   Place-and-Place Success Rate: 56%   (21 / 37)\n",
      "======================================\n",
      "=================Sample 137==================\n"
     ]
    },
    {
     "name": "stderr",
     "output_type": "stream",
     "text": [
      "100%|██████████| 499/499 [00:10<00:00, 47.80it/s]\n",
      "100%|██████████| 99/99 [00:07<00:00, 13.25it/s]\n"
     ]
    },
    {
     "name": "stdout",
     "output_type": "stream",
     "text": [
      "Pick inference time: 19.24964189529419\n",
      "Identified 6881 IK solutions with minimum distance of 1.666 in 0.694 seconds\n",
      "Pick success\n"
     ]
    },
    {
     "name": "stderr",
     "output_type": "stream",
     "text": [
      "100%|██████████| 499/499 [00:08<00:00, 61.50it/s]\n",
      "100%|██████████| 99/99 [00:05<00:00, 17.29it/s]\n"
     ]
    },
    {
     "name": "stdout",
     "output_type": "stream",
     "text": [
      "Place inference time: 15.007813930511475\n",
      "Identified 8157 IK solutions with minimum distance of 0.909 in 0.550 seconds\n",
      "Place Success\n",
      "Pick Success Rate: 68%  (26 / 38)    ||   Place Success Rate: 84%   (22 / 26)    ||   Place-and-Place Success Rate: 57%   (22 / 38)\n",
      "======================================\n",
      "=================Sample 138==================\n"
     ]
    },
    {
     "name": "stderr",
     "output_type": "stream",
     "text": [
      "100%|██████████| 499/499 [00:10<00:00, 46.94it/s]\n",
      "100%|██████████| 99/99 [00:07<00:00, 12.77it/s]\n"
     ]
    },
    {
     "name": "stdout",
     "output_type": "stream",
     "text": [
      "Pick inference time: 19.735569715499878\n",
      "Identified 3069 IK solutions with minimum distance of 1.867 in 0.212 seconds\n",
      "Pick fail\n",
      "Pick Success Rate: 66%  (26 / 39)    ||   Place Success Rate: 84%   (22 / 26)    ||   Place-and-Place Success Rate: 56%   (22 / 39)\n",
      "======================================\n",
      "=================Sample 139==================\n"
     ]
    },
    {
     "name": "stderr",
     "output_type": "stream",
     "text": [
      "100%|██████████| 499/499 [00:10<00:00, 45.99it/s]\n",
      "100%|██████████| 99/99 [00:07<00:00, 12.97it/s]\n"
     ]
    },
    {
     "name": "stdout",
     "output_type": "stream",
     "text": [
      "Pick inference time: 19.878201723098755\n",
      "Identified 8302 IK solutions with minimum distance of 2.391 in 1.158 seconds\n",
      "Pick success\n"
     ]
    },
    {
     "name": "stderr",
     "output_type": "stream",
     "text": [
      "100%|██████████| 499/499 [00:08<00:00, 60.12it/s]\n",
      "100%|██████████| 99/99 [00:05<00:00, 17.19it/s]\n"
     ]
    },
    {
     "name": "stdout",
     "output_type": "stream",
     "text": [
      "Place inference time: 15.210412502288818\n",
      "Identified 7263 IK solutions with minimum distance of 0.815 in 0.414 seconds\n",
      "Place Success\n",
      "Pick Success Rate: 67%  (27 / 40)    ||   Place Success Rate: 85%   (23 / 27)    ||   Place-and-Place Success Rate: 57%   (23 / 40)\n",
      "======================================\n",
      "=================Sample 140==================\n"
     ]
    },
    {
     "name": "stderr",
     "output_type": "stream",
     "text": [
      "100%|██████████| 499/499 [00:11<00:00, 44.84it/s]\n",
      "100%|██████████| 99/99 [00:08<00:00, 11.95it/s]\n"
     ]
    },
    {
     "name": "stdout",
     "output_type": "stream",
     "text": [
      "Pick inference time: 20.84535551071167\n",
      "Identified 10394 IK solutions with minimum distance of 1.887 in 0.781 seconds\n",
      "Pick fail\n",
      "Pick Success Rate: 65%  (27 / 41)    ||   Place Success Rate: 85%   (23 / 27)    ||   Place-and-Place Success Rate: 56%   (23 / 41)\n",
      "======================================\n",
      "=================Sample 141==================\n"
     ]
    },
    {
     "name": "stderr",
     "output_type": "stream",
     "text": [
      "100%|██████████| 499/499 [00:10<00:00, 48.28it/s]\n",
      "100%|██████████| 99/99 [00:06<00:00, 14.58it/s]\n"
     ]
    },
    {
     "name": "stdout",
     "output_type": "stream",
     "text": [
      "Pick inference time: 18.40521264076233\n",
      "Identified 7882 IK solutions with minimum distance of 1.894 in 0.964 seconds\n",
      "Pick success\n"
     ]
    },
    {
     "name": "stderr",
     "output_type": "stream",
     "text": [
      "100%|██████████| 499/499 [00:08<00:00, 60.39it/s]\n",
      "100%|██████████| 99/99 [00:05<00:00, 17.02it/s]\n"
     ]
    },
    {
     "name": "stdout",
     "output_type": "stream",
     "text": [
      "Place inference time: 15.222556591033936\n",
      "Identified 3388 IK solutions with minimum distance of 1.903 in 0.326 seconds\n",
      "Place Fail\n",
      "Pick Success Rate: 66%  (28 / 42)    ||   Place Success Rate: 82%   (23 / 28)    ||   Place-and-Place Success Rate: 54%   (23 / 42)\n",
      "======================================\n",
      "=================Sample 142==================\n"
     ]
    },
    {
     "name": "stderr",
     "output_type": "stream",
     "text": [
      "100%|██████████| 499/499 [00:10<00:00, 45.77it/s]\n",
      "100%|██████████| 99/99 [00:08<00:00, 12.31it/s]\n"
     ]
    },
    {
     "name": "stdout",
     "output_type": "stream",
     "text": [
      "Pick inference time: 20.324799299240112\n",
      "Identified 4005 IK solutions with minimum distance of 1.071 in 0.262 seconds\n",
      "Pick fail\n",
      "Pick Success Rate: 65%  (28 / 43)    ||   Place Success Rate: 82%   (23 / 28)    ||   Place-and-Place Success Rate: 53%   (23 / 43)\n",
      "======================================\n",
      "=================Sample 143==================\n"
     ]
    },
    {
     "name": "stderr",
     "output_type": "stream",
     "text": [
      "100%|██████████| 499/499 [00:11<00:00, 45.22it/s]\n",
      "100%|██████████| 99/99 [00:08<00:00, 12.32it/s]\n"
     ]
    },
    {
     "name": "stdout",
     "output_type": "stream",
     "text": [
      "Pick inference time: 20.47160768508911\n",
      "Identified 5300 IK solutions with minimum distance of 1.830 in 0.355 seconds\n",
      "Pick success\n"
     ]
    },
    {
     "name": "stderr",
     "output_type": "stream",
     "text": [
      "100%|██████████| 499/499 [00:08<00:00, 57.13it/s]\n",
      "100%|██████████| 99/99 [00:06<00:00, 15.31it/s]\n"
     ]
    },
    {
     "name": "stdout",
     "output_type": "stream",
     "text": [
      "Place inference time: 16.456252336502075\n",
      "Identified 7417 IK solutions with minimum distance of 0.720 in 0.417 seconds\n",
      "Place Success\n",
      "Pick Success Rate: 65%  (29 / 44)    ||   Place Success Rate: 82%   (24 / 29)    ||   Place-and-Place Success Rate: 54%   (24 / 44)\n",
      "======================================\n",
      "=================Sample 144==================\n"
     ]
    },
    {
     "name": "stderr",
     "output_type": "stream",
     "text": [
      "100%|██████████| 499/499 [00:10<00:00, 46.39it/s]\n",
      "100%|██████████| 99/99 [00:07<00:00, 13.12it/s]\n"
     ]
    },
    {
     "name": "stdout",
     "output_type": "stream",
     "text": [
      "Pick inference time: 19.64999008178711\n",
      "Identified 7136 IK solutions with minimum distance of 1.421 in 0.712 seconds\n",
      "Pick success\n"
     ]
    },
    {
     "name": "stderr",
     "output_type": "stream",
     "text": [
      "100%|██████████| 499/499 [00:08<00:00, 58.50it/s]\n",
      "100%|██████████| 99/99 [00:06<00:00, 16.18it/s]\n"
     ]
    },
    {
     "name": "stdout",
     "output_type": "stream",
     "text": [
      "Place inference time: 15.884944915771484\n",
      "Identified 7520 IK solutions with minimum distance of 0.765 in 0.421 seconds\n",
      "Place Success\n",
      "Pick Success Rate: 66%  (30 / 45)    ||   Place Success Rate: 83%   (25 / 30)    ||   Place-and-Place Success Rate: 55%   (25 / 45)\n",
      "======================================\n",
      "=================Sample 145==================\n"
     ]
    },
    {
     "name": "stderr",
     "output_type": "stream",
     "text": [
      "100%|██████████| 499/499 [00:10<00:00, 48.31it/s]\n",
      "100%|██████████| 99/99 [00:07<00:00, 12.96it/s]\n"
     ]
    },
    {
     "name": "stdout",
     "output_type": "stream",
     "text": [
      "Pick inference time: 19.269386291503906\n",
      "Identified 4710 IK solutions with minimum distance of 2.090 in 0.485 seconds\n",
      "Pick success\n"
     ]
    },
    {
     "name": "stderr",
     "output_type": "stream",
     "text": [
      "100%|██████████| 499/499 [00:07<00:00, 62.62it/s]\n",
      "100%|██████████| 99/99 [00:05<00:00, 16.80it/s]\n"
     ]
    },
    {
     "name": "stdout",
     "output_type": "stream",
     "text": [
      "Place inference time: 15.027612209320068\n",
      "Identified 8103 IK solutions with minimum distance of 0.865 in 0.511 seconds\n",
      "Place Success\n",
      "Pick Success Rate: 67%  (31 / 46)    ||   Place Success Rate: 83%   (26 / 31)    ||   Place-and-Place Success Rate: 56%   (26 / 46)\n",
      "======================================\n",
      "=================Sample 146==================\n"
     ]
    },
    {
     "name": "stderr",
     "output_type": "stream",
     "text": [
      "100%|██████████| 499/499 [00:11<00:00, 45.36it/s]\n",
      "100%|██████████| 99/99 [00:07<00:00, 12.50it/s]\n"
     ]
    },
    {
     "name": "stdout",
     "output_type": "stream",
     "text": [
      "Pick inference time: 20.319689750671387\n",
      "Identified 5654 IK solutions with minimum distance of 2.345 in 0.900 seconds\n",
      "Pick success\n"
     ]
    },
    {
     "name": "stderr",
     "output_type": "stream",
     "text": [
      "100%|██████████| 499/499 [00:08<00:00, 59.52it/s]\n",
      "100%|██████████| 99/99 [00:06<00:00, 16.21it/s]\n"
     ]
    },
    {
     "name": "stdout",
     "output_type": "stream",
     "text": [
      "Place inference time: 15.690916299819946\n",
      "Identified 9117 IK solutions with minimum distance of 0.990 in 0.655 seconds\n",
      "Place Success\n",
      "Pick Success Rate: 68%  (32 / 47)    ||   Place Success Rate: 84%   (27 / 32)    ||   Place-and-Place Success Rate: 57%   (27 / 47)\n",
      "======================================\n",
      "=================Sample 147==================\n"
     ]
    },
    {
     "name": "stderr",
     "output_type": "stream",
     "text": [
      "100%|██████████| 499/499 [00:10<00:00, 46.61it/s]\n",
      "100%|██████████| 99/99 [00:07<00:00, 12.77it/s]\n"
     ]
    },
    {
     "name": "stdout",
     "output_type": "stream",
     "text": [
      "Pick inference time: 19.890952110290527\n",
      "Identified 0 IK solutions with minimum distance of inf in 1.082 seconds\n",
      "Identified 0 IK solutions with minimum distance of inf in 5.447 seconds\n",
      "Pick IK Failed\n",
      "Pick Success Rate: 66%  (32 / 48)    ||   Place Success Rate: 84%   (27 / 32)    ||   Place-and-Place Success Rate: 56%   (27 / 48)\n",
      "======================================\n",
      "=================Sample 148==================\n"
     ]
    },
    {
     "name": "stderr",
     "output_type": "stream",
     "text": [
      "100%|██████████| 499/499 [00:10<00:00, 47.19it/s]\n",
      "100%|██████████| 99/99 [00:07<00:00, 13.15it/s]\n"
     ]
    },
    {
     "name": "stdout",
     "output_type": "stream",
     "text": [
      "Pick inference time: 19.428776741027832\n",
      "Identified 5512 IK solutions with minimum distance of 2.547 in 0.748 seconds\n",
      "Pick success\n"
     ]
    },
    {
     "name": "stderr",
     "output_type": "stream",
     "text": [
      "100%|██████████| 499/499 [00:08<00:00, 61.75it/s]\n",
      "100%|██████████| 99/99 [00:06<00:00, 16.40it/s]\n"
     ]
    },
    {
     "name": "stdout",
     "output_type": "stream",
     "text": [
      "Place inference time: 15.337169885635376\n",
      "Identified 5858 IK solutions with minimum distance of 0.623 in 0.347 seconds\n",
      "Place Success\n",
      "Pick Success Rate: 67%  (33 / 49)    ||   Place Success Rate: 84%   (28 / 33)    ||   Place-and-Place Success Rate: 57%   (28 / 49)\n",
      "======================================\n",
      "=================Sample 149==================\n"
     ]
    },
    {
     "name": "stderr",
     "output_type": "stream",
     "text": [
      "100%|██████████| 499/499 [00:10<00:00, 47.67it/s]\n",
      "100%|██████████| 99/99 [00:07<00:00, 12.51it/s]\n"
     ]
    },
    {
     "name": "stdout",
     "output_type": "stream",
     "text": [
      "Pick inference time: 19.8319833278656\n",
      "Identified 14389 IK solutions with minimum distance of 2.117 in 1.172 seconds\n",
      "Pick fail\n",
      "Pick Success Rate: 66%  (33 / 50)    ||   Place Success Rate: 84%   (28 / 33)    ||   Place-and-Place Success Rate: 56%   (28 / 50)\n",
      "======================================\n",
      "=================Sample 150==================\n"
     ]
    },
    {
     "name": "stderr",
     "output_type": "stream",
     "text": [
      "100%|██████████| 499/499 [00:11<00:00, 44.39it/s]\n",
      "100%|██████████| 99/99 [00:08<00:00, 12.06it/s]\n"
     ]
    },
    {
     "name": "stdout",
     "output_type": "stream",
     "text": [
      "Pick inference time: 20.874317407608032\n",
      "Identified 10090 IK solutions with minimum distance of 1.689 in 0.877 seconds\n",
      "Pick fail\n",
      "Pick Success Rate: 64%  (33 / 51)    ||   Place Success Rate: 84%   (28 / 33)    ||   Place-and-Place Success Rate: 54%   (28 / 51)\n",
      "======================================\n",
      "=================Sample 151==================\n"
     ]
    },
    {
     "name": "stderr",
     "output_type": "stream",
     "text": [
      "100%|██████████| 499/499 [00:10<00:00, 48.22it/s]\n",
      "100%|██████████| 99/99 [00:07<00:00, 13.63it/s]\n"
     ]
    },
    {
     "name": "stdout",
     "output_type": "stream",
     "text": [
      "Pick inference time: 18.92654037475586\n",
      "Identified 4226 IK solutions with minimum distance of 1.183 in 0.265 seconds\n",
      "Pick fail\n",
      "Pick Success Rate: 63%  (33 / 52)    ||   Place Success Rate: 84%   (28 / 33)    ||   Place-and-Place Success Rate: 53%   (28 / 52)\n",
      "======================================\n",
      "=================Sample 152==================\n"
     ]
    },
    {
     "name": "stderr",
     "output_type": "stream",
     "text": [
      "100%|██████████| 499/499 [00:10<00:00, 49.07it/s]\n",
      "100%|██████████| 99/99 [00:07<00:00, 14.02it/s]\n"
     ]
    },
    {
     "name": "stdout",
     "output_type": "stream",
     "text": [
      "Pick inference time: 18.560800075531006\n",
      "Identified 10114 IK solutions with minimum distance of 2.385 in 1.160 seconds\n",
      "Pick success\n"
     ]
    },
    {
     "name": "stderr",
     "output_type": "stream",
     "text": [
      "100%|██████████| 499/499 [00:08<00:00, 59.27it/s]\n",
      "100%|██████████| 99/99 [00:06<00:00, 15.96it/s]\n"
     ]
    },
    {
     "name": "stdout",
     "output_type": "stream",
     "text": [
      "Place inference time: 15.834764242172241\n",
      "Identified 10945 IK solutions with minimum distance of 1.160 in 0.706 seconds\n",
      "Place Success\n",
      "Pick Success Rate: 64%  (34 / 53)    ||   Place Success Rate: 85%   (29 / 34)    ||   Place-and-Place Success Rate: 54%   (29 / 53)\n",
      "======================================\n",
      "=================Sample 153==================\n"
     ]
    },
    {
     "name": "stderr",
     "output_type": "stream",
     "text": [
      "100%|██████████| 499/499 [00:10<00:00, 46.75it/s]\n",
      "100%|██████████| 99/99 [00:07<00:00, 12.43it/s]\n"
     ]
    },
    {
     "name": "stdout",
     "output_type": "stream",
     "text": [
      "Pick inference time: 19.994523525238037\n",
      "Identified 12900 IK solutions with minimum distance of 1.487 in 0.981 seconds\n",
      "Pick success\n"
     ]
    },
    {
     "name": "stderr",
     "output_type": "stream",
     "text": [
      "100%|██████████| 499/499 [00:08<00:00, 60.40it/s]\n",
      "100%|██████████| 99/99 [00:06<00:00, 16.25it/s]\n"
     ]
    },
    {
     "name": "stdout",
     "output_type": "stream",
     "text": [
      "Place inference time: 15.55473017692566\n",
      "Identified 4816 IK solutions with minimum distance of 1.430 in 0.915 seconds\n",
      "Place Success\n",
      "Pick Success Rate: 64%  (35 / 54)    ||   Place Success Rate: 85%   (30 / 35)    ||   Place-and-Place Success Rate: 55%   (30 / 54)\n",
      "======================================\n",
      "=================Sample 154==================\n"
     ]
    },
    {
     "name": "stderr",
     "output_type": "stream",
     "text": [
      "100%|██████████| 499/499 [00:10<00:00, 45.62it/s]\n",
      "100%|██████████| 99/99 [00:07<00:00, 12.39it/s]\n"
     ]
    },
    {
     "name": "stdout",
     "output_type": "stream",
     "text": [
      "Pick inference time: 20.315563440322876\n",
      "Identified 8606 IK solutions with minimum distance of 2.372 in 1.106 seconds\n",
      "Pick success\n"
     ]
    },
    {
     "name": "stderr",
     "output_type": "stream",
     "text": [
      "100%|██████████| 499/499 [00:08<00:00, 57.07it/s]\n",
      "100%|██████████| 99/99 [00:06<00:00, 15.49it/s]\n"
     ]
    },
    {
     "name": "stdout",
     "output_type": "stream",
     "text": [
      "Place inference time: 16.365594387054443\n",
      "Identified 5926 IK solutions with minimum distance of 0.953 in 0.335 seconds\n",
      "Place Success\n",
      "Pick Success Rate: 65%  (36 / 55)    ||   Place Success Rate: 86%   (31 / 36)    ||   Place-and-Place Success Rate: 56%   (31 / 55)\n",
      "======================================\n",
      "=================Sample 155==================\n"
     ]
    },
    {
     "name": "stderr",
     "output_type": "stream",
     "text": [
      "100%|██████████| 499/499 [00:10<00:00, 46.39it/s]\n",
      "100%|██████████| 99/99 [00:08<00:00, 12.25it/s]\n"
     ]
    },
    {
     "name": "stdout",
     "output_type": "stream",
     "text": [
      "Pick inference time: 20.27346134185791\n",
      "Identified 6731 IK solutions with minimum distance of 0.979 in 0.400 seconds\n",
      "Pick fail\n",
      "Pick Success Rate: 64%  (36 / 56)    ||   Place Success Rate: 86%   (31 / 36)    ||   Place-and-Place Success Rate: 55%   (31 / 56)\n",
      "======================================\n",
      "=================Sample 156==================\n"
     ]
    },
    {
     "name": "stderr",
     "output_type": "stream",
     "text": [
      "100%|██████████| 499/499 [00:10<00:00, 46.02it/s]\n",
      "100%|██████████| 99/99 [00:07<00:00, 12.67it/s]\n"
     ]
    },
    {
     "name": "stdout",
     "output_type": "stream",
     "text": [
      "Pick inference time: 20.03832459449768\n",
      "Identified 4550 IK solutions with minimum distance of 2.099 in 0.494 seconds\n",
      "Pick success\n"
     ]
    },
    {
     "name": "stderr",
     "output_type": "stream",
     "text": [
      "100%|██████████| 499/499 [00:08<00:00, 57.90it/s]\n",
      "100%|██████████| 99/99 [00:06<00:00, 15.84it/s]\n"
     ]
    },
    {
     "name": "stdout",
     "output_type": "stream",
     "text": [
      "Place inference time: 16.090048789978027\n",
      "Identified 7260 IK solutions with minimum distance of 0.855 in 0.412 seconds\n",
      "Place Success\n",
      "Pick Success Rate: 64%  (37 / 57)    ||   Place Success Rate: 86%   (32 / 37)    ||   Place-and-Place Success Rate: 56%   (32 / 57)\n",
      "======================================\n",
      "=================Sample 157==================\n"
     ]
    },
    {
     "name": "stderr",
     "output_type": "stream",
     "text": [
      "100%|██████████| 499/499 [00:10<00:00, 46.17it/s]\n",
      "100%|██████████| 99/99 [00:08<00:00, 12.31it/s]\n"
     ]
    },
    {
     "name": "stdout",
     "output_type": "stream",
     "text": [
      "Pick inference time: 20.203070640563965\n",
      "Identified 5000 IK solutions with minimum distance of 1.264 in 0.402 seconds\n",
      "Pick success\n"
     ]
    },
    {
     "name": "stderr",
     "output_type": "stream",
     "text": [
      "100%|██████████| 499/499 [00:08<00:00, 59.38it/s]\n",
      "100%|██████████| 99/99 [00:06<00:00, 15.82it/s]\n"
     ]
    },
    {
     "name": "stdout",
     "output_type": "stream",
     "text": [
      "Place inference time: 15.834751605987549\n",
      "Identified 6692 IK solutions with minimum distance of 0.806 in 0.379 seconds\n",
      "Place Success\n",
      "Pick Success Rate: 65%  (38 / 58)    ||   Place Success Rate: 86%   (33 / 38)    ||   Place-and-Place Success Rate: 56%   (33 / 58)\n",
      "======================================\n",
      "=================Sample 158==================\n"
     ]
    },
    {
     "name": "stderr",
     "output_type": "stream",
     "text": [
      "100%|██████████| 499/499 [00:11<00:00, 44.73it/s]\n",
      "100%|██████████| 99/99 [00:08<00:00, 11.95it/s]\n"
     ]
    },
    {
     "name": "stdout",
     "output_type": "stream",
     "text": [
      "Pick inference time: 20.859981536865234\n",
      "Identified 12910 IK solutions with minimum distance of 2.321 in 1.286 seconds\n",
      "Pick success\n"
     ]
    },
    {
     "name": "stderr",
     "output_type": "stream",
     "text": [
      "100%|██████████| 499/499 [00:08<00:00, 55.71it/s]\n",
      "100%|██████████| 99/99 [00:06<00:00, 15.32it/s]\n"
     ]
    },
    {
     "name": "stdout",
     "output_type": "stream",
     "text": [
      "Place inference time: 16.69986629486084\n",
      "Identified 5466 IK solutions with minimum distance of 1.176 in 0.318 seconds\n",
      "Place Success\n",
      "Pick Success Rate: 66%  (39 / 59)    ||   Place Success Rate: 87%   (34 / 39)    ||   Place-and-Place Success Rate: 57%   (34 / 59)\n",
      "======================================\n",
      "=================Sample 159==================\n"
     ]
    },
    {
     "name": "stderr",
     "output_type": "stream",
     "text": [
      "100%|██████████| 499/499 [00:10<00:00, 45.90it/s]\n",
      "100%|██████████| 99/99 [00:07<00:00, 12.90it/s]\n"
     ]
    },
    {
     "name": "stdout",
     "output_type": "stream",
     "text": [
      "Pick inference time: 19.88112497329712\n",
      "Identified 5433 IK solutions with minimum distance of 1.254 in 0.439 seconds\n",
      "Pick success\n"
     ]
    },
    {
     "name": "stderr",
     "output_type": "stream",
     "text": [
      "100%|██████████| 499/499 [00:08<00:00, 60.93it/s]\n",
      "100%|██████████| 99/99 [00:06<00:00, 16.11it/s]\n"
     ]
    },
    {
     "name": "stdout",
     "output_type": "stream",
     "text": [
      "Place inference time: 15.482178688049316\n",
      "Identified 6774 IK solutions with minimum distance of 1.302 in 0.724 seconds\n",
      "Place Success\n",
      "Pick Success Rate: 66%  (40 / 60)    ||   Place Success Rate: 87%   (35 / 40)    ||   Place-and-Place Success Rate: 58%   (35 / 60)\n",
      "======================================\n",
      "=================Sample 160==================\n"
     ]
    },
    {
     "name": "stderr",
     "output_type": "stream",
     "text": [
      "100%|██████████| 499/499 [00:11<00:00, 45.23it/s]\n",
      "100%|██████████| 99/99 [00:07<00:00, 12.38it/s]\n"
     ]
    },
    {
     "name": "stdout",
     "output_type": "stream",
     "text": [
      "Pick inference time: 20.38011384010315\n",
      "Identified 7919 IK solutions with minimum distance of 1.382 in 0.617 seconds\n",
      "Pick success\n"
     ]
    },
    {
     "name": "stderr",
     "output_type": "stream",
     "text": [
      "100%|██████████| 499/499 [00:08<00:00, 60.07it/s]\n",
      "100%|██████████| 99/99 [00:06<00:00, 15.83it/s]\n"
     ]
    },
    {
     "name": "stdout",
     "output_type": "stream",
     "text": [
      "Place inference time: 15.723215579986572\n",
      "Identified 8212 IK solutions with minimum distance of 0.924 in 0.594 seconds\n",
      "Place Success\n",
      "Pick Success Rate: 67%  (41 / 61)    ||   Place Success Rate: 87%   (36 / 41)    ||   Place-and-Place Success Rate: 59%   (36 / 61)\n",
      "======================================\n",
      "=================Sample 161==================\n"
     ]
    },
    {
     "name": "stderr",
     "output_type": "stream",
     "text": [
      "100%|██████████| 499/499 [00:10<00:00, 46.33it/s]\n",
      "100%|██████████| 99/99 [00:07<00:00, 12.56it/s]\n"
     ]
    },
    {
     "name": "stdout",
     "output_type": "stream",
     "text": [
      "Pick inference time: 19.988397121429443\n",
      "Identified 7822 IK solutions with minimum distance of 1.592 in 0.732 seconds\n",
      "Pick success\n"
     ]
    },
    {
     "name": "stderr",
     "output_type": "stream",
     "text": [
      "100%|██████████| 499/499 [00:07<00:00, 64.33it/s]\n",
      "100%|██████████| 99/99 [00:05<00:00, 16.85it/s]\n"
     ]
    },
    {
     "name": "stdout",
     "output_type": "stream",
     "text": [
      "Place inference time: 14.82798171043396\n",
      "Identified 11927 IK solutions with minimum distance of 1.149 in 0.857 seconds\n",
      "Place Success\n",
      "Pick Success Rate: 67%  (42 / 62)    ||   Place Success Rate: 88%   (37 / 42)    ||   Place-and-Place Success Rate: 59%   (37 / 62)\n",
      "======================================\n",
      "=================Sample 162==================\n"
     ]
    },
    {
     "name": "stderr",
     "output_type": "stream",
     "text": [
      "100%|██████████| 499/499 [00:10<00:00, 47.24it/s]\n",
      "100%|██████████| 99/99 [00:07<00:00, 12.80it/s]\n"
     ]
    },
    {
     "name": "stdout",
     "output_type": "stream",
     "text": [
      "Pick inference time: 19.637070655822754\n",
      "Identified 3460 IK solutions with minimum distance of 2.022 in 0.439 seconds\n",
      "Pick success\n"
     ]
    },
    {
     "name": "stderr",
     "output_type": "stream",
     "text": [
      "100%|██████████| 499/499 [00:08<00:00, 58.55it/s]\n",
      "100%|██████████| 99/99 [00:06<00:00, 16.13it/s]\n"
     ]
    },
    {
     "name": "stdout",
     "output_type": "stream",
     "text": [
      "Place inference time: 15.865262031555176\n",
      "Identified 4103 IK solutions with minimum distance of 0.988 in 0.239 seconds\n",
      "Place Success\n",
      "Pick Success Rate: 68%  (43 / 63)    ||   Place Success Rate: 88%   (38 / 43)    ||   Place-and-Place Success Rate: 60%   (38 / 63)\n",
      "======================================\n",
      "=================Sample 163==================\n"
     ]
    },
    {
     "name": "stderr",
     "output_type": "stream",
     "text": [
      "100%|██████████| 499/499 [00:10<00:00, 45.90it/s]\n",
      "100%|██████████| 99/99 [00:07<00:00, 12.77it/s]\n"
     ]
    },
    {
     "name": "stdout",
     "output_type": "stream",
     "text": [
      "Pick inference time: 19.963459253311157\n",
      "Identified 7486 IK solutions with minimum distance of 1.365 in 0.421 seconds\n",
      "Pick success\n"
     ]
    },
    {
     "name": "stderr",
     "output_type": "stream",
     "text": [
      "100%|██████████| 499/499 [00:08<00:00, 62.07it/s]\n",
      "100%|██████████| 99/99 [00:05<00:00, 16.77it/s]\n"
     ]
    },
    {
     "name": "stdout",
     "output_type": "stream",
     "text": [
      "Place inference time: 15.124309539794922\n",
      "Identified 0 IK solutions with minimum distance of inf in 0.092 seconds\n",
      "Identified 0 IK solutions with minimum distance of inf in 0.465 seconds\n",
      "place IK fail\n",
      "Place Fail\n",
      "Pick Success Rate: 68%  (44 / 64)    ||   Place Success Rate: 86%   (38 / 44)    ||   Place-and-Place Success Rate: 59%   (38 / 64)\n",
      "======================================\n",
      "=================Sample 164==================\n"
     ]
    },
    {
     "name": "stderr",
     "output_type": "stream",
     "text": [
      "100%|██████████| 499/499 [00:10<00:00, 45.79it/s]\n",
      "100%|██████████| 99/99 [00:07<00:00, 12.79it/s]\n"
     ]
    },
    {
     "name": "stdout",
     "output_type": "stream",
     "text": [
      "Pick inference time: 19.97973322868347\n",
      "Identified 0 IK solutions with minimum distance of inf in 0.090 seconds\n",
      "Identified 0 IK solutions with minimum distance of inf in 0.468 seconds\n",
      "Pick IK Failed\n",
      "Pick Success Rate: 67%  (44 / 65)    ||   Place Success Rate: 86%   (38 / 44)    ||   Place-and-Place Success Rate: 58%   (38 / 65)\n",
      "======================================\n",
      "=================Sample 165==================\n"
     ]
    },
    {
     "name": "stderr",
     "output_type": "stream",
     "text": [
      "100%|██████████| 499/499 [00:10<00:00, 46.49it/s]\n",
      "100%|██████████| 99/99 [00:08<00:00, 12.00it/s]\n"
     ]
    },
    {
     "name": "stdout",
     "output_type": "stream",
     "text": [
      "Pick inference time: 20.459555864334106\n",
      "Identified 10959 IK solutions with minimum distance of 1.174 in 0.782 seconds\n",
      "Pick fail\n",
      "Pick Success Rate: 66%  (44 / 66)    ||   Place Success Rate: 86%   (38 / 44)    ||   Place-and-Place Success Rate: 57%   (38 / 66)\n",
      "======================================\n",
      "=================Sample 166==================\n"
     ]
    },
    {
     "name": "stderr",
     "output_type": "stream",
     "text": [
      "100%|██████████| 499/499 [00:10<00:00, 47.38it/s]\n",
      "100%|██████████| 99/99 [00:07<00:00, 13.31it/s]\n"
     ]
    },
    {
     "name": "stdout",
     "output_type": "stream",
     "text": [
      "Pick inference time: 19.32244324684143\n",
      "Identified 6634 IK solutions with minimum distance of 1.070 in 0.411 seconds\n",
      "Pick success\n"
     ]
    },
    {
     "name": "stderr",
     "output_type": "stream",
     "text": [
      "100%|██████████| 499/499 [00:08<00:00, 59.85it/s]\n",
      "100%|██████████| 99/99 [00:06<00:00, 16.00it/s]\n"
     ]
    },
    {
     "name": "stdout",
     "output_type": "stream",
     "text": [
      "Place inference time: 15.71534276008606\n",
      "Identified 8451 IK solutions with minimum distance of 0.867 in 0.567 seconds\n",
      "Place Success\n",
      "Pick Success Rate: 67%  (45 / 67)    ||   Place Success Rate: 86%   (39 / 45)    ||   Place-and-Place Success Rate: 58%   (39 / 67)\n",
      "======================================\n",
      "=================Sample 167==================\n"
     ]
    },
    {
     "name": "stderr",
     "output_type": "stream",
     "text": [
      "100%|██████████| 499/499 [00:10<00:00, 45.85it/s]\n",
      "100%|██████████| 99/99 [00:07<00:00, 12.56it/s]\n"
     ]
    },
    {
     "name": "stdout",
     "output_type": "stream",
     "text": [
      "Pick inference time: 20.091134309768677\n",
      "Identified 5342 IK solutions with minimum distance of 1.471 in 0.564 seconds\n",
      "Pick success\n"
     ]
    },
    {
     "name": "stderr",
     "output_type": "stream",
     "text": [
      "100%|██████████| 499/499 [00:08<00:00, 58.16it/s]\n",
      "100%|██████████| 99/99 [00:06<00:00, 15.93it/s]\n"
     ]
    },
    {
     "name": "stdout",
     "output_type": "stream",
     "text": [
      "Place inference time: 15.989018440246582\n",
      "Identified 5668 IK solutions with minimum distance of 0.915 in 0.352 seconds\n",
      "Place Success\n",
      "Pick Success Rate: 67%  (46 / 68)    ||   Place Success Rate: 86%   (40 / 46)    ||   Place-and-Place Success Rate: 58%   (40 / 68)\n",
      "======================================\n",
      "=================Sample 168==================\n"
     ]
    },
    {
     "name": "stderr",
     "output_type": "stream",
     "text": [
      "100%|██████████| 499/499 [00:10<00:00, 46.33it/s]\n",
      "100%|██████████| 99/99 [00:07<00:00, 12.62it/s]\n"
     ]
    },
    {
     "name": "stdout",
     "output_type": "stream",
     "text": [
      "Pick inference time: 20.01636791229248\n",
      "Identified 4835 IK solutions with minimum distance of 2.584 in 0.573 seconds\n",
      "Pick success\n"
     ]
    },
    {
     "name": "stderr",
     "output_type": "stream",
     "text": [
      "100%|██████████| 499/499 [00:08<00:00, 60.02it/s]\n",
      "100%|██████████| 99/99 [00:06<00:00, 15.85it/s]\n"
     ]
    },
    {
     "name": "stdout",
     "output_type": "stream",
     "text": [
      "Place inference time: 15.761636972427368\n",
      "Identified 8697 IK solutions with minimum distance of 1.062 in 0.618 seconds\n",
      "Place Success\n",
      "Pick Success Rate: 68%  (47 / 69)    ||   Place Success Rate: 87%   (41 / 47)    ||   Place-and-Place Success Rate: 59%   (41 / 69)\n",
      "======================================\n",
      "=================Sample 169==================\n"
     ]
    },
    {
     "name": "stderr",
     "output_type": "stream",
     "text": [
      "100%|██████████| 499/499 [00:11<00:00, 45.22it/s]\n",
      "100%|██████████| 99/99 [00:07<00:00, 12.43it/s]\n"
     ]
    },
    {
     "name": "stdout",
     "output_type": "stream",
     "text": [
      "Pick inference time: 20.4036386013031\n",
      "Identified 6115 IK solutions with minimum distance of 2.043 in 0.392 seconds\n",
      "Pick success\n"
     ]
    },
    {
     "name": "stderr",
     "output_type": "stream",
     "text": [
      "100%|██████████| 499/499 [00:08<00:00, 58.72it/s]\n",
      "100%|██████████| 99/99 [00:06<00:00, 16.24it/s]\n"
     ]
    },
    {
     "name": "stdout",
     "output_type": "stream",
     "text": [
      "Place inference time: 15.762609720230103\n",
      "Identified 3762 IK solutions with minimum distance of 1.047 in 0.229 seconds\n",
      "Place Success\n",
      "Pick Success Rate: 68%  (48 / 70)    ||   Place Success Rate: 87%   (42 / 48)    ||   Place-and-Place Success Rate: 60%   (42 / 70)\n",
      "======================================\n",
      "=================Sample 170==================\n"
     ]
    },
    {
     "name": "stderr",
     "output_type": "stream",
     "text": [
      "100%|██████████| 499/499 [00:10<00:00, 47.46it/s]\n",
      "100%|██████████| 99/99 [00:07<00:00, 13.43it/s]\n"
     ]
    },
    {
     "name": "stdout",
     "output_type": "stream",
     "text": [
      "Pick inference time: 19.24537992477417\n",
      "Identified 11012 IK solutions with minimum distance of 2.198 in 1.068 seconds\n",
      "Pick success\n"
     ]
    },
    {
     "name": "stderr",
     "output_type": "stream",
     "text": [
      "100%|██████████| 499/499 [00:08<00:00, 60.83it/s]\n",
      "100%|██████████| 99/99 [00:05<00:00, 16.52it/s]\n"
     ]
    },
    {
     "name": "stdout",
     "output_type": "stream",
     "text": [
      "Place inference time: 15.477138042449951\n",
      "Identified 8584 IK solutions with minimum distance of 0.925 in 0.584 seconds\n",
      "Place Success\n",
      "Pick Success Rate: 69%  (49 / 71)    ||   Place Success Rate: 87%   (43 / 49)    ||   Place-and-Place Success Rate: 60%   (43 / 71)\n",
      "======================================\n",
      "=================Sample 171==================\n"
     ]
    },
    {
     "name": "stderr",
     "output_type": "stream",
     "text": [
      "100%|██████████| 499/499 [00:11<00:00, 43.63it/s]\n",
      "100%|██████████| 99/99 [00:08<00:00, 12.00it/s]\n"
     ]
    },
    {
     "name": "stdout",
     "output_type": "stream",
     "text": [
      "Pick inference time: 21.132678747177124\n",
      "Identified 4299 IK solutions with minimum distance of 1.427 in 0.337 seconds\n",
      "Pick fail\n",
      "Pick Success Rate: 68%  (49 / 72)    ||   Place Success Rate: 87%   (43 / 49)    ||   Place-and-Place Success Rate: 59%   (43 / 72)\n",
      "======================================\n",
      "=================Sample 172==================\n"
     ]
    },
    {
     "name": "stderr",
     "output_type": "stream",
     "text": [
      "100%|██████████| 499/499 [00:10<00:00, 45.69it/s]\n",
      "100%|██████████| 99/99 [00:08<00:00, 12.23it/s]\n"
     ]
    },
    {
     "name": "stdout",
     "output_type": "stream",
     "text": [
      "Pick inference time: 20.378865718841553\n",
      "Identified 14071 IK solutions with minimum distance of 1.656 in 1.106 seconds\n",
      "Pick success\n"
     ]
    },
    {
     "name": "stderr",
     "output_type": "stream",
     "text": [
      "100%|██████████| 499/499 [00:08<00:00, 59.19it/s]\n",
      "100%|██████████| 99/99 [00:06<00:00, 15.73it/s]\n"
     ]
    },
    {
     "name": "stdout",
     "output_type": "stream",
     "text": [
      "Place inference time: 15.971293926239014\n",
      "Identified 7735 IK solutions with minimum distance of 0.820 in 0.427 seconds\n",
      "Place Success\n",
      "Pick Success Rate: 68%  (50 / 73)    ||   Place Success Rate: 88%   (44 / 50)    ||   Place-and-Place Success Rate: 60%   (44 / 73)\n",
      "======================================\n",
      "=================Sample 173==================\n"
     ]
    },
    {
     "name": "stderr",
     "output_type": "stream",
     "text": [
      "100%|██████████| 499/499 [00:10<00:00, 46.36it/s]\n",
      "100%|██████████| 99/99 [00:07<00:00, 13.02it/s]\n"
     ]
    },
    {
     "name": "stdout",
     "output_type": "stream",
     "text": [
      "Pick inference time: 19.74087429046631\n",
      "Identified 8911 IK solutions with minimum distance of 1.984 in 0.994 seconds\n",
      "Pick success\n"
     ]
    },
    {
     "name": "stderr",
     "output_type": "stream",
     "text": [
      "100%|██████████| 499/499 [00:08<00:00, 57.08it/s]\n",
      "100%|██████████| 99/99 [00:06<00:00, 16.04it/s]\n"
     ]
    },
    {
     "name": "stdout",
     "output_type": "stream",
     "text": [
      "Place inference time: 16.173720121383667\n",
      "Identified 7697 IK solutions with minimum distance of 0.715 in 0.419 seconds\n",
      "Place Success\n",
      "Pick Success Rate: 68%  (51 / 74)    ||   Place Success Rate: 88%   (45 / 51)    ||   Place-and-Place Success Rate: 60%   (45 / 74)\n",
      "======================================\n",
      "=================Sample 174==================\n"
     ]
    },
    {
     "name": "stderr",
     "output_type": "stream",
     "text": [
      "100%|██████████| 499/499 [00:11<00:00, 44.77it/s]\n",
      "100%|██████████| 99/99 [00:07<00:00, 12.49it/s]\n"
     ]
    },
    {
     "name": "stdout",
     "output_type": "stream",
     "text": [
      "Pick inference time: 20.414972066879272\n",
      "Identified 5601 IK solutions with minimum distance of 2.122 in 0.747 seconds\n",
      "Pick success\n"
     ]
    },
    {
     "name": "stderr",
     "output_type": "stream",
     "text": [
      "100%|██████████| 499/499 [00:08<00:00, 61.76it/s]\n",
      "100%|██████████| 99/99 [00:05<00:00, 16.66it/s]\n"
     ]
    },
    {
     "name": "stdout",
     "output_type": "stream",
     "text": [
      "Place inference time: 15.142779111862183\n",
      "Identified 8151 IK solutions with minimum distance of 1.841 in 1.129 seconds\n",
      "Place Success\n",
      "Pick Success Rate: 69%  (52 / 75)    ||   Place Success Rate: 88%   (46 / 52)    ||   Place-and-Place Success Rate: 61%   (46 / 75)\n",
      "======================================\n",
      "=================Sample 175==================\n"
     ]
    },
    {
     "name": "stderr",
     "output_type": "stream",
     "text": [
      "100%|██████████| 499/499 [00:10<00:00, 46.91it/s]\n",
      "100%|██████████| 99/99 [00:07<00:00, 13.84it/s]\n"
     ]
    },
    {
     "name": "stdout",
     "output_type": "stream",
     "text": [
      "Pick inference time: 19.10560941696167\n",
      "Identified 7035 IK solutions with minimum distance of 2.171 in 0.412 seconds\n",
      "Pick fail\n",
      "Pick Success Rate: 68%  (52 / 76)    ||   Place Success Rate: 88%   (46 / 52)    ||   Place-and-Place Success Rate: 60%   (46 / 76)\n",
      "======================================\n",
      "=================Sample 176==================\n"
     ]
    },
    {
     "name": "stderr",
     "output_type": "stream",
     "text": [
      "100%|██████████| 499/499 [00:10<00:00, 46.89it/s]\n",
      "100%|██████████| 99/99 [00:07<00:00, 13.54it/s]\n"
     ]
    },
    {
     "name": "stdout",
     "output_type": "stream",
     "text": [
      "Pick inference time: 19.232747316360474\n",
      "Identified 7445 IK solutions with minimum distance of 2.473 in 0.836 seconds\n",
      "Pick success\n"
     ]
    },
    {
     "name": "stderr",
     "output_type": "stream",
     "text": [
      "100%|██████████| 499/499 [00:08<00:00, 56.84it/s]\n",
      "100%|██████████| 99/99 [00:06<00:00, 15.04it/s]\n"
     ]
    },
    {
     "name": "stdout",
     "output_type": "stream",
     "text": [
      "Place inference time: 16.657520055770874\n",
      "Identified 2622 IK solutions with minimum distance of 1.595 in 0.224 seconds\n",
      "Place Fail\n",
      "Pick Success Rate: 68%  (53 / 77)    ||   Place Success Rate: 86%   (46 / 53)    ||   Place-and-Place Success Rate: 59%   (46 / 77)\n",
      "======================================\n",
      "=================Sample 177==================\n"
     ]
    },
    {
     "name": "stderr",
     "output_type": "stream",
     "text": [
      "100%|██████████| 499/499 [00:10<00:00, 45.69it/s]\n",
      "100%|██████████| 99/99 [00:07<00:00, 12.40it/s]\n"
     ]
    },
    {
     "name": "stdout",
     "output_type": "stream",
     "text": [
      "Pick inference time: 20.280701875686646\n",
      "Identified 6517 IK solutions with minimum distance of 2.241 in 1.003 seconds\n",
      "Pick success\n"
     ]
    },
    {
     "name": "stderr",
     "output_type": "stream",
     "text": [
      "100%|██████████| 499/499 [00:08<00:00, 59.89it/s]\n",
      "100%|██████████| 99/99 [00:06<00:00, 15.75it/s]\n"
     ]
    },
    {
     "name": "stdout",
     "output_type": "stream",
     "text": [
      "Place inference time: 15.836053609848022\n",
      "Identified 6713 IK solutions with minimum distance of 1.296 in 0.851 seconds\n",
      "Place Success\n",
      "Pick Success Rate: 69%  (54 / 78)    ||   Place Success Rate: 87%   (47 / 54)    ||   Place-and-Place Success Rate: 60%   (47 / 78)\n",
      "======================================\n",
      "=================Sample 178==================\n"
     ]
    },
    {
     "name": "stderr",
     "output_type": "stream",
     "text": [
      "100%|██████████| 499/499 [00:10<00:00, 45.51it/s]\n",
      "100%|██████████| 99/99 [00:07<00:00, 12.43it/s]\n"
     ]
    },
    {
     "name": "stdout",
     "output_type": "stream",
     "text": [
      "Pick inference time: 20.291165113449097\n",
      "Identified 9094 IK solutions with minimum distance of 2.408 in 1.210 seconds\n",
      "Pick success\n"
     ]
    },
    {
     "name": "stderr",
     "output_type": "stream",
     "text": [
      "100%|██████████| 499/499 [00:07<00:00, 63.22it/s]\n",
      "100%|██████████| 99/99 [00:05<00:00, 16.63it/s]\n"
     ]
    },
    {
     "name": "stdout",
     "output_type": "stream",
     "text": [
      "Place inference time: 14.979362964630127\n",
      "Identified 5813 IK solutions with minimum distance of 0.703 in 0.333 seconds\n",
      "Place Success\n",
      "Pick Success Rate: 69%  (55 / 79)    ||   Place Success Rate: 87%   (48 / 55)    ||   Place-and-Place Success Rate: 60%   (48 / 79)\n",
      "======================================\n",
      "=================Sample 179==================\n"
     ]
    },
    {
     "name": "stderr",
     "output_type": "stream",
     "text": [
      "100%|██████████| 499/499 [00:10<00:00, 46.22it/s]\n",
      "100%|██████████| 99/99 [00:07<00:00, 12.55it/s]\n"
     ]
    },
    {
     "name": "stdout",
     "output_type": "stream",
     "text": [
      "Pick inference time: 20.037710905075073\n",
      "Identified 5923 IK solutions with minimum distance of 1.586 in 0.581 seconds\n",
      "Pick success\n"
     ]
    },
    {
     "name": "stderr",
     "output_type": "stream",
     "text": [
      "100%|██████████| 499/499 [00:08<00:00, 61.04it/s]\n",
      "100%|██████████| 99/99 [00:06<00:00, 15.38it/s]\n"
     ]
    },
    {
     "name": "stdout",
     "output_type": "stream",
     "text": [
      "Place inference time: 15.825891971588135\n",
      "Identified 4851 IK solutions with minimum distance of 1.403 in 0.580 seconds\n",
      "Place Fail\n",
      "Pick Success Rate: 70%  (56 / 80)    ||   Place Success Rate: 85%   (48 / 56)    ||   Place-and-Place Success Rate: 60%   (48 / 80)\n",
      "======================================\n",
      "=================Sample 180==================\n"
     ]
    },
    {
     "name": "stderr",
     "output_type": "stream",
     "text": [
      "100%|██████████| 499/499 [00:10<00:00, 47.74it/s]\n",
      "100%|██████████| 99/99 [00:08<00:00, 12.05it/s]\n"
     ]
    },
    {
     "name": "stdout",
     "output_type": "stream",
     "text": [
      "Pick inference time: 20.01399517059326\n",
      "Identified 10368 IK solutions with minimum distance of 2.646 in 1.289 seconds\n",
      "Pick success\n"
     ]
    },
    {
     "name": "stderr",
     "output_type": "stream",
     "text": [
      "100%|██████████| 499/499 [00:07<00:00, 63.31it/s]\n",
      "100%|██████████| 99/99 [00:05<00:00, 16.85it/s]\n"
     ]
    },
    {
     "name": "stdout",
     "output_type": "stream",
     "text": [
      "Place inference time: 14.987400531768799\n",
      "Identified 6803 IK solutions with minimum distance of 0.746 in 0.401 seconds\n",
      "Place Success\n",
      "Pick Success Rate: 70%  (57 / 81)    ||   Place Success Rate: 85%   (49 / 57)    ||   Place-and-Place Success Rate: 60%   (49 / 81)\n",
      "======================================\n",
      "=================Sample 181==================\n"
     ]
    },
    {
     "name": "stderr",
     "output_type": "stream",
     "text": [
      "100%|██████████| 499/499 [00:11<00:00, 45.21it/s]\n",
      "100%|██████████| 99/99 [00:08<00:00, 12.29it/s]\n"
     ]
    },
    {
     "name": "stdout",
     "output_type": "stream",
     "text": [
      "Pick inference time: 20.473610401153564\n",
      "Identified 9098 IK solutions with minimum distance of 2.474 in 1.226 seconds\n",
      "Pick success\n"
     ]
    },
    {
     "name": "stderr",
     "output_type": "stream",
     "text": [
      "100%|██████████| 499/499 [00:08<00:00, 58.82it/s]\n",
      "100%|██████████| 99/99 [00:06<00:00, 15.54it/s]\n"
     ]
    },
    {
     "name": "stdout",
     "output_type": "stream",
     "text": [
      "Place inference time: 16.07369637489319\n",
      "Identified 9321 IK solutions with minimum distance of 1.013 in 0.678 seconds\n",
      "Place Success\n",
      "Pick Success Rate: 70%  (58 / 82)    ||   Place Success Rate: 86%   (50 / 58)    ||   Place-and-Place Success Rate: 60%   (50 / 82)\n",
      "======================================\n",
      "=================Sample 182==================\n"
     ]
    },
    {
     "name": "stderr",
     "output_type": "stream",
     "text": [
      "100%|██████████| 499/499 [00:10<00:00, 46.75it/s]\n",
      "100%|██████████| 99/99 [00:07<00:00, 12.90it/s]\n"
     ]
    },
    {
     "name": "stdout",
     "output_type": "stream",
     "text": [
      "Pick inference time: 19.663731813430786\n",
      "Identified 7351 IK solutions with minimum distance of 1.832 in 0.941 seconds\n",
      "Pick success\n"
     ]
    },
    {
     "name": "stderr",
     "output_type": "stream",
     "text": [
      "100%|██████████| 499/499 [00:08<00:00, 56.76it/s]\n",
      "100%|██████████| 99/99 [00:06<00:00, 15.61it/s]\n"
     ]
    },
    {
     "name": "stdout",
     "output_type": "stream",
     "text": [
      "Place inference time: 16.34887385368347\n",
      "Identified 3167 IK solutions with minimum distance of 1.696 in 0.546 seconds\n",
      "Place Fail\n",
      "Pick Success Rate: 71%  (59 / 83)    ||   Place Success Rate: 84%   (50 / 59)    ||   Place-and-Place Success Rate: 60%   (50 / 83)\n",
      "======================================\n",
      "=================Sample 183==================\n"
     ]
    },
    {
     "name": "stderr",
     "output_type": "stream",
     "text": [
      "100%|██████████| 499/499 [00:11<00:00, 43.95it/s]\n",
      "100%|██████████| 99/99 [00:08<00:00, 11.61it/s]\n"
     ]
    },
    {
     "name": "stdout",
     "output_type": "stream",
     "text": [
      "Pick inference time: 21.36470913887024\n",
      "Identified 8403 IK solutions with minimum distance of 1.528 in 0.689 seconds\n",
      "Pick fail\n",
      "Pick Success Rate: 70%  (59 / 84)    ||   Place Success Rate: 84%   (50 / 59)    ||   Place-and-Place Success Rate: 59%   (50 / 84)\n",
      "======================================\n",
      "=================Sample 184==================\n"
     ]
    },
    {
     "name": "stderr",
     "output_type": "stream",
     "text": [
      "100%|██████████| 499/499 [00:10<00:00, 45.92it/s]\n",
      "100%|██████████| 99/99 [00:07<00:00, 12.87it/s]\n"
     ]
    },
    {
     "name": "stdout",
     "output_type": "stream",
     "text": [
      "Pick inference time: 19.933812618255615\n",
      "Identified 10712 IK solutions with minimum distance of 2.408 in 1.235 seconds\n",
      "Pick success\n"
     ]
    },
    {
     "name": "stderr",
     "output_type": "stream",
     "text": [
      "100%|██████████| 499/499 [00:08<00:00, 59.28it/s]\n",
      "100%|██████████| 99/99 [00:06<00:00, 16.05it/s]\n"
     ]
    },
    {
     "name": "stdout",
     "output_type": "stream",
     "text": [
      "Place inference time: 15.7899489402771\n",
      "Identified 9574 IK solutions with minimum distance of 1.059 in 0.699 seconds\n",
      "Place Success\n",
      "Pick Success Rate: 70%  (60 / 85)    ||   Place Success Rate: 85%   (51 / 60)    ||   Place-and-Place Success Rate: 60%   (51 / 85)\n",
      "======================================\n",
      "=================Sample 185==================\n"
     ]
    },
    {
     "name": "stderr",
     "output_type": "stream",
     "text": [
      "100%|██████████| 499/499 [00:11<00:00, 44.54it/s]\n",
      "100%|██████████| 99/99 [00:07<00:00, 12.87it/s]\n"
     ]
    },
    {
     "name": "stdout",
     "output_type": "stream",
     "text": [
      "Pick inference time: 20.235519647598267\n",
      "Identified 8537 IK solutions with minimum distance of 1.266 in 0.718 seconds\n",
      "Pick success\n"
     ]
    },
    {
     "name": "stderr",
     "output_type": "stream",
     "text": [
      "100%|██████████| 499/499 [00:08<00:00, 59.04it/s]\n",
      "100%|██████████| 99/99 [00:06<00:00, 16.02it/s]\n"
     ]
    },
    {
     "name": "stdout",
     "output_type": "stream",
     "text": [
      "Place inference time: 15.79350996017456\n",
      "Identified 4583 IK solutions with minimum distance of 1.712 in 0.268 seconds\n",
      "Place Success\n",
      "Pick Success Rate: 70%  (61 / 86)    ||   Place Success Rate: 85%   (52 / 61)    ||   Place-and-Place Success Rate: 60%   (52 / 86)\n",
      "======================================\n",
      "=================Sample 186==================\n"
     ]
    },
    {
     "name": "stderr",
     "output_type": "stream",
     "text": [
      "100%|██████████| 499/499 [00:11<00:00, 45.01it/s]\n",
      "100%|██████████| 99/99 [00:07<00:00, 12.67it/s]\n"
     ]
    },
    {
     "name": "stdout",
     "output_type": "stream",
     "text": [
      "Pick inference time: 20.25949501991272\n",
      "Identified 6077 IK solutions with minimum distance of 2.175 in 0.823 seconds\n",
      "Pick success\n"
     ]
    },
    {
     "name": "stderr",
     "output_type": "stream",
     "text": [
      "100%|██████████| 499/499 [00:08<00:00, 61.86it/s]\n",
      "100%|██████████| 99/99 [00:05<00:00, 16.60it/s]\n"
     ]
    },
    {
     "name": "stdout",
     "output_type": "stream",
     "text": [
      "Place inference time: 15.221436738967896\n",
      "Identified 0 IK solutions with minimum distance of inf in 0.090 seconds\n",
      "Identified 0 IK solutions with minimum distance of inf in 0.464 seconds\n",
      "place IK fail\n",
      "Place Fail\n",
      "Pick Success Rate: 71%  (62 / 87)    ||   Place Success Rate: 83%   (52 / 62)    ||   Place-and-Place Success Rate: 59%   (52 / 87)\n",
      "======================================\n",
      "=================Sample 187==================\n"
     ]
    },
    {
     "name": "stderr",
     "output_type": "stream",
     "text": [
      "100%|██████████| 499/499 [00:10<00:00, 45.55it/s]\n",
      "100%|██████████| 99/99 [00:07<00:00, 12.64it/s]\n"
     ]
    },
    {
     "name": "stdout",
     "output_type": "stream",
     "text": [
      "Pick inference time: 20.15232276916504\n",
      "Identified 8477 IK solutions with minimum distance of 2.302 in 0.964 seconds\n",
      "Pick success\n"
     ]
    },
    {
     "name": "stderr",
     "output_type": "stream",
     "text": [
      "100%|██████████| 499/499 [00:08<00:00, 61.33it/s]\n",
      "100%|██████████| 99/99 [00:06<00:00, 16.17it/s]\n"
     ]
    },
    {
     "name": "stdout",
     "output_type": "stream",
     "text": [
      "Place inference time: 15.471955299377441\n",
      "Identified 6687 IK solutions with minimum distance of 1.734 in 0.366 seconds\n",
      "Place Success\n",
      "Pick Success Rate: 71%  (63 / 88)    ||   Place Success Rate: 84%   (53 / 63)    ||   Place-and-Place Success Rate: 60%   (53 / 88)\n",
      "======================================\n",
      "=================Sample 188==================\n"
     ]
    },
    {
     "name": "stderr",
     "output_type": "stream",
     "text": [
      "100%|██████████| 499/499 [00:11<00:00, 44.75it/s]\n",
      "100%|██████████| 99/99 [00:07<00:00, 12.39it/s]\n"
     ]
    },
    {
     "name": "stdout",
     "output_type": "stream",
     "text": [
      "Pick inference time: 20.555028676986694\n",
      "Identified 7093 IK solutions with minimum distance of 2.283 in 1.051 seconds\n",
      "Pick success\n"
     ]
    },
    {
     "name": "stderr",
     "output_type": "stream",
     "text": [
      "100%|██████████| 499/499 [00:08<00:00, 56.76it/s]\n",
      "100%|██████████| 99/99 [00:06<00:00, 15.30it/s]\n"
     ]
    },
    {
     "name": "stdout",
     "output_type": "stream",
     "text": [
      "Place inference time: 16.50344443321228\n",
      "Identified 7630 IK solutions with minimum distance of 0.917 in 0.463 seconds\n",
      "Place Success\n",
      "Pick Success Rate: 71%  (64 / 89)    ||   Place Success Rate: 84%   (54 / 64)    ||   Place-and-Place Success Rate: 60%   (54 / 89)\n",
      "======================================\n",
      "=================Sample 189==================\n"
     ]
    },
    {
     "name": "stderr",
     "output_type": "stream",
     "text": [
      "100%|██████████| 499/499 [00:10<00:00, 46.81it/s]\n",
      "100%|██████████| 99/99 [00:07<00:00, 12.69it/s]\n"
     ]
    },
    {
     "name": "stdout",
     "output_type": "stream",
     "text": [
      "Pick inference time: 19.773854970932007\n",
      "Identified 5855 IK solutions with minimum distance of 2.293 in 0.672 seconds\n",
      "Pick success\n"
     ]
    },
    {
     "name": "stderr",
     "output_type": "stream",
     "text": [
      "100%|██████████| 499/499 [00:08<00:00, 57.09it/s]\n",
      "100%|██████████| 99/99 [00:06<00:00, 15.15it/s]\n"
     ]
    },
    {
     "name": "stdout",
     "output_type": "stream",
     "text": [
      "Place inference time: 16.5249981880188\n",
      "Identified 5315 IK solutions with minimum distance of 0.766 in 0.314 seconds\n",
      "Place Success\n",
      "Pick Success Rate: 72%  (65 / 90)    ||   Place Success Rate: 84%   (55 / 65)    ||   Place-and-Place Success Rate: 61%   (55 / 90)\n",
      "======================================\n",
      "=================Sample 190==================\n"
     ]
    },
    {
     "name": "stderr",
     "output_type": "stream",
     "text": [
      "100%|██████████| 499/499 [00:10<00:00, 46.46it/s]\n",
      "100%|██████████| 99/99 [00:07<00:00, 13.54it/s]\n"
     ]
    },
    {
     "name": "stdout",
     "output_type": "stream",
     "text": [
      "Pick inference time: 19.383397340774536\n",
      "Identified 12220 IK solutions with minimum distance of 2.249 in 1.180 seconds\n",
      "Pick fail\n",
      "Pick Success Rate: 71%  (65 / 91)    ||   Place Success Rate: 84%   (55 / 65)    ||   Place-and-Place Success Rate: 60%   (55 / 91)\n",
      "======================================\n",
      "=================Sample 191==================\n"
     ]
    },
    {
     "name": "stderr",
     "output_type": "stream",
     "text": [
      "100%|██████████| 499/499 [00:11<00:00, 45.22it/s]\n",
      "100%|██████████| 99/99 [00:07<00:00, 12.38it/s]\n"
     ]
    },
    {
     "name": "stdout",
     "output_type": "stream",
     "text": [
      "Pick inference time: 20.41427445411682\n",
      "Identified 9451 IK solutions with minimum distance of 2.394 in 1.097 seconds\n",
      "Pick success\n"
     ]
    },
    {
     "name": "stderr",
     "output_type": "stream",
     "text": [
      "100%|██████████| 499/499 [00:08<00:00, 59.95it/s]\n",
      "100%|██████████| 99/99 [00:06<00:00, 15.95it/s]\n"
     ]
    },
    {
     "name": "stdout",
     "output_type": "stream",
     "text": [
      "Place inference time: 15.737356901168823\n",
      "Identified 6562 IK solutions with minimum distance of 0.760 in 0.395 seconds\n",
      "Place Success\n",
      "Pick Success Rate: 71%  (66 / 92)    ||   Place Success Rate: 84%   (56 / 66)    ||   Place-and-Place Success Rate: 60%   (56 / 92)\n",
      "======================================\n",
      "=================Sample 192==================\n"
     ]
    },
    {
     "name": "stderr",
     "output_type": "stream",
     "text": [
      "100%|██████████| 499/499 [00:10<00:00, 47.47it/s]\n",
      "100%|██████████| 99/99 [00:07<00:00, 12.41it/s]\n"
     ]
    },
    {
     "name": "stdout",
     "output_type": "stream",
     "text": [
      "Pick inference time: 19.86704182624817\n",
      "Identified 0 IK solutions with minimum distance of inf in 0.092 seconds\n",
      "Identified 0 IK solutions with minimum distance of inf in 0.474 seconds\n",
      "Pick IK Failed\n",
      "Pick Success Rate: 70%  (66 / 93)    ||   Place Success Rate: 84%   (56 / 66)    ||   Place-and-Place Success Rate: 60%   (56 / 93)\n",
      "======================================\n",
      "=================Sample 193==================\n"
     ]
    },
    {
     "name": "stderr",
     "output_type": "stream",
     "text": [
      "100%|██████████| 499/499 [00:10<00:00, 47.02it/s]\n",
      "100%|██████████| 99/99 [00:07<00:00, 12.73it/s]\n"
     ]
    },
    {
     "name": "stdout",
     "output_type": "stream",
     "text": [
      "Pick inference time: 19.771844625473022\n",
      "Identified 5750 IK solutions with minimum distance of 2.281 in 0.733 seconds\n",
      "Pick success\n"
     ]
    },
    {
     "name": "stderr",
     "output_type": "stream",
     "text": [
      "100%|██████████| 499/499 [00:08<00:00, 60.36it/s]\n",
      "100%|██████████| 99/99 [00:06<00:00, 16.06it/s]\n"
     ]
    },
    {
     "name": "stdout",
     "output_type": "stream",
     "text": [
      "Place inference time: 15.633992910385132\n",
      "Identified 9714 IK solutions with minimum distance of 1.066 in 0.605 seconds\n",
      "Place Success\n",
      "Pick Success Rate: 71%  (67 / 94)    ||   Place Success Rate: 85%   (57 / 67)    ||   Place-and-Place Success Rate: 60%   (57 / 94)\n",
      "======================================\n",
      "=================Sample 194==================\n"
     ]
    },
    {
     "name": "stderr",
     "output_type": "stream",
     "text": [
      "100%|██████████| 499/499 [00:10<00:00, 45.93it/s]\n",
      "100%|██████████| 99/99 [00:07<00:00, 12.64it/s]\n"
     ]
    },
    {
     "name": "stdout",
     "output_type": "stream",
     "text": [
      "Pick inference time: 20.06260585784912\n",
      "Identified 3269 IK solutions with minimum distance of 2.646 in 0.368 seconds\n",
      "Pick fail\n",
      "Pick Success Rate: 70%  (67 / 95)    ||   Place Success Rate: 85%   (57 / 67)    ||   Place-and-Place Success Rate: 60%   (57 / 95)\n",
      "======================================\n",
      "=================Sample 195==================\n"
     ]
    },
    {
     "name": "stderr",
     "output_type": "stream",
     "text": [
      "100%|██████████| 499/499 [00:11<00:00, 45.10it/s]\n",
      "100%|██████████| 99/99 [00:07<00:00, 12.42it/s]\n"
     ]
    },
    {
     "name": "stdout",
     "output_type": "stream",
     "text": [
      "Pick inference time: 20.44080090522766\n",
      "Identified 8384 IK solutions with minimum distance of 1.554 in 0.719 seconds\n",
      "Pick success\n"
     ]
    },
    {
     "name": "stderr",
     "output_type": "stream",
     "text": [
      "100%|██████████| 499/499 [00:08<00:00, 57.69it/s]\n",
      "100%|██████████| 99/99 [00:06<00:00, 15.16it/s]\n"
     ]
    },
    {
     "name": "stdout",
     "output_type": "stream",
     "text": [
      "Place inference time: 16.43376922607422\n",
      "Identified 8879 IK solutions with minimum distance of 0.963 in 0.557 seconds\n",
      "Place Success\n",
      "Pick Success Rate: 70%  (68 / 96)    ||   Place Success Rate: 85%   (58 / 68)    ||   Place-and-Place Success Rate: 60%   (58 / 96)\n",
      "======================================\n",
      "=================Sample 196==================\n"
     ]
    },
    {
     "name": "stderr",
     "output_type": "stream",
     "text": [
      "100%|██████████| 499/499 [00:10<00:00, 47.38it/s]\n",
      "100%|██████████| 99/99 [00:07<00:00, 12.61it/s]\n"
     ]
    },
    {
     "name": "stdout",
     "output_type": "stream",
     "text": [
      "Pick inference time: 19.784308433532715\n",
      "Identified 2567 IK solutions with minimum distance of 1.747 in 0.206 seconds\n",
      "Pick fail\n",
      "Pick Success Rate: 70%  (68 / 97)    ||   Place Success Rate: 85%   (58 / 68)    ||   Place-and-Place Success Rate: 59%   (58 / 97)\n",
      "======================================\n",
      "=================Sample 197==================\n"
     ]
    },
    {
     "name": "stderr",
     "output_type": "stream",
     "text": [
      "100%|██████████| 499/499 [00:11<00:00, 44.46it/s]\n",
      "100%|██████████| 99/99 [00:08<00:00, 11.82it/s]\n"
     ]
    },
    {
     "name": "stdout",
     "output_type": "stream",
     "text": [
      "Pick inference time: 21.081483125686646\n",
      "Identified 6500 IK solutions with minimum distance of 1.638 in 0.385 seconds\n",
      "Pick fail\n",
      "Pick Success Rate: 69%  (68 / 98)    ||   Place Success Rate: 85%   (58 / 68)    ||   Place-and-Place Success Rate: 59%   (58 / 98)\n",
      "======================================\n",
      "=================Sample 198==================\n"
     ]
    },
    {
     "name": "stderr",
     "output_type": "stream",
     "text": [
      "100%|██████████| 499/499 [00:10<00:00, 47.32it/s]\n",
      "100%|██████████| 99/99 [00:07<00:00, 12.73it/s]\n"
     ]
    },
    {
     "name": "stdout",
     "output_type": "stream",
     "text": [
      "Pick inference time: 19.692410945892334\n",
      "Identified 7762 IK solutions with minimum distance of 2.100 in 0.699 seconds\n",
      "Pick fail\n",
      "Pick Success Rate: 68%  (68 / 99)    ||   Place Success Rate: 85%   (58 / 68)    ||   Place-and-Place Success Rate: 58%   (58 / 99)\n",
      "======================================\n",
      "=================Sample 199==================\n"
     ]
    },
    {
     "name": "stderr",
     "output_type": "stream",
     "text": [
      "100%|██████████| 499/499 [00:10<00:00, 45.88it/s]\n",
      "100%|██████████| 99/99 [00:07<00:00, 12.83it/s]\n"
     ]
    },
    {
     "name": "stdout",
     "output_type": "stream",
     "text": [
      "Pick inference time: 19.966129064559937\n",
      "Identified 3253 IK solutions with minimum distance of 1.684 in 0.250 seconds\n",
      "Pick fail\n",
      "Pick Success Rate: 68%  (68 / 100)    ||   Place Success Rate: 85%   (58 / 68)    ||   Place-and-Place Success Rate: 58%   (58 / 100)\n",
      "======================================\n"
     ]
    }
   ],
   "source": [
    "visualize_plot = False\n",
    "save_plot = True\n",
    "\n",
    "sleep = False\n",
    "pick_and_place = True\n",
    "stride = (7, 7)\n",
    "stride_pick = (10, 10)\n",
    "stride_place = (7, 7)\n",
    "temperature = 1.\n",
    "\n",
    "\n",
    "N_tests = 0\n",
    "N_success_pick = 0\n",
    "N_success_place = 0\n",
    "N_IKFAIL_pick = 0\n",
    "N_IKFAIL_place = 0\n",
    "pick_times = []\n",
    "place_times = []\n",
    "if save_plot:\n",
    "    folder_name = f'distractor/'\n",
    "    output_path = f'plot_imgs/' + folder_name\n",
    "\n",
    "for seed in range(100, 200):\n",
    "    N_tests += 1\n",
    "    print(f\"=================Sample {seed}==================\")\n",
    "    fig, axes = plt.subplots(1,3, figsize=(15, 5), subplot_kw={'projection':'3d'})\n",
    "    fig_img, axes_img = plt.subplots(1,3, figsize=(15,5))\n",
    "\n",
    "\n",
    "    # Run in env\n",
    "    task.reset(seed = seed, cup_pose='upright', eval_mode='distractor')\n",
    "    pc = task.observe_pointcloud(stride = stride)\n",
    "    sample_unprocessed = {}\n",
    "    sample_unprocessed['coord'] = pc['coord']\n",
    "    sample_unprocessed['color'] = pc['color']\n",
    "    sample_unprocessed['range'] = pc['ranges']\n",
    "    sample_unprocessed['images'] = task.observe()\n",
    "    sample_unprocessed['center'] = task.center\n",
    "    color_unprocessed = sample_unprocessed['color']\n",
    "    sample =  preprocess(sample_unprocessed, characteristic_length)\n",
    "    coord, color, (xlim, ylim, zlim) = sample['coord'], sample['color'], sample['ranges']\n",
    "    data_transform = sample['data_transform']\n",
    "    feature = torch.tensor(color, dtype=torch.float32)\n",
    "    pos = torch.tensor(coord, dtype=torch.float32)\n",
    "    in_range_cropped_idx = (((pos[:] > ranges_cropped[:,0]) * (pos[:] < ranges_cropped[:,1])).sum(dim=-1) == 3).nonzero().squeeze(-1)\n",
    "    pos = pos[in_range_cropped_idx].to(device)\n",
    "    feature = feature[in_range_cropped_idx].to(device)\n",
    "    inputs = {'feature': feature, 'pos': pos, 'edge': None, 'max_neighbor_radius': max_radius}\n",
    "    temperature = 1.\n",
    "\n",
    "\n",
    "    t1 = time.time()\n",
    "    optimizer_se3T.zero_grad()\n",
    "    optimizer_energy.zero_grad()\n",
    "    with torch.no_grad():\n",
    "        outputs = se3T(inputs)\n",
    "    log_P = lambda T: -energy_model(outputs, T, temperature = temperature, learning = False)\n",
    "\n",
    "    N_transforms = 100\n",
    "    mcmc_iter = 500\n",
    "    mcmc_iter = int(mcmc_iter)\n",
    "    langevin_iter = 100\n",
    "\n",
    "    T_seed = torch.cat([transforms.random_quaternions(N_transforms, device=device), torch.tensor([[2.5, 2.5, 0.5]], device = device)* torch.randn(N_transforms,3, device = device) + torch.tensor([0.,0., -29.], device = device)] , dim=-1)\n",
    "    t_mcmc_begin = time.time()\n",
    "    samples = metropolis.forward(log_P, max_iter = mcmc_iter, T_seed=T_seed, pbar=True)\n",
    "    samples = langevin.forward(log_P, max_iter = langevin_iter, optim = optimizer_energy, T_seed = samples['Ts'][-1], pbar=True)\n",
    "    t_mcmc_end = time.time()\n",
    "    Ts = samples['Ts']\n",
    "    Ts = Ts[-50:].reshape(-1,7)\n",
    "    with torch.no_grad():\n",
    "        E = energy_model(outputs, Ts, temperature = temperature, learning = False)\n",
    "    best_T_idx = E.detach().argmin().item()\n",
    "    best_T = Ts[best_T_idx]\n",
    "    best_R, best_X = transforms.quaternion_to_matrix(best_T[...,:4]), best_T[...,4:]\n",
    "\n",
    "\n",
    "    t2 = time.time()\n",
    "    #print(f\"=========Sample {seed}=========\")\n",
    "    query_attn = (torch.softmax(energy_model.query_attention.detach(), dim=-1) ** 0.5).unsqueeze(-1).cpu().numpy()\n",
    "\n",
    "    coord_query = energy_model.transform_query_points(best_T).detach().cpu().numpy()\n",
    "    color_query = torch.tensor([0.,0.,1.]).repeat(len(coord_query),1).cpu().numpy()\n",
    "    color_query = np.concatenate([color_query,query_attn], axis=-1)\n",
    "    frame_info_best = {'frame': best_R.cpu().numpy(),\n",
    "                    'origin': best_X.cpu().numpy(), \n",
    "                    'alpha': 1.,\n",
    "                    'pointcloud': (coord_query, color_query)\n",
    "                    }\n",
    "    world_origin = np.array([0., 0., -29.])\n",
    "    frame_info_world = {'frame': np.eye(3),\n",
    "                    'origin': world_origin,\n",
    "                    'alpha': 0.,\n",
    "                    'pointcloud': (Ts.detach().cpu().numpy()[:,4:], torch.tensor([0.,0.8,0.8,0.03]).repeat(len(Ts),1).numpy())\n",
    "                    }\n",
    "\n",
    "\n",
    "    scatter_plot_ax(axes[0], coord[in_range_cropped_idx], color_unprocessed[in_range_cropped_idx], (xlim, ylim, zlim), frame_infos = [frame_info_best, frame_info_world])\n",
    "    print(f\"Pick inference time: {t2-t1}\")\n",
    "    pick_times.append(t2-t1)\n",
    "    if N_tests == 1:\n",
    "        print(f\"First iteration is slow\")\n",
    "    # print(E.detach())\n",
    "    # print(f\"Energy min: {E.min().item()} || Energy mean: {E.mean().item()}\")\n",
    "    # print(f\"MCMC Time: {t_mcmc_end - t_mcmc_begin}\")\n",
    "    # print(\"===============================\")\n",
    "\n",
    "    X_sdg, R_sdg = data_transform.inv_transform_T(best_X.detach().cpu().numpy(), best_R.detach().cpu().numpy())\n",
    "\n",
    "    flip = False\n",
    "    z_axis = R_sdg[:,-1]\n",
    "    if z_axis[2] > 0.8:\n",
    "        flip = True\n",
    "    elif z_axis[0] < 0:\n",
    "        flip = True\n",
    "    if flip is True:\n",
    "        R_flip = np.array([[-1. ,0. ,0.],\n",
    "                            [0. ,1. ,0.],\n",
    "                            [0. ,0. ,-1.]])\n",
    "        R_sdg = R_sdg @ R_flip\n",
    "\n",
    "    #X_sdg = X_sdg + (R_sdg@ np.array([0., 0., 0.005])) # push the gripper forward a liitle\n",
    "\n",
    "    R_dg_dgpre = np.eye(3)\n",
    "    R_s_dgpre = R_sdg @ R_dg_dgpre\n",
    "    X_dg_dgpre = np.array([0., 0., -0.1])\n",
    "    sX_dg_dgpre = R_sdg @ X_dg_dgpre\n",
    "    X_s_dgpre = X_sdg + sX_dg_dgpre\n",
    "\n",
    "    pre_pick = (X_s_dgpre, R_s_dgpre)\n",
    "    pick = (X_sdg, R_sdg)\n",
    "\n",
    "    try:\n",
    "        task.pick(pre_pick, pick)\n",
    "    except StopIteration:\n",
    "        try:\n",
    "            task.pick(pre_pick, pick, IK_time=5.)\n",
    "        except:\n",
    "            print(\"Pick IK Failed\")\n",
    "            N_IKFAIL_pick += 1\n",
    "            print(f\"Pick Success Rate: {int(100 * N_success_pick / N_tests)}%  ({N_success_pick} / {N_tests})    ||   Place Success Rate: {int(100 * N_success_place / max(N_success_pick, 1))}%   ({N_success_place} / {N_success_pick})    ||   Place-and-Place Success Rate: {int(100 * N_success_place / N_tests)}%   ({N_success_place} / {N_tests})\")\n",
    "            if save_plot:\n",
    "                if os.path.exists(output_path + \"inference/\") is False:\n",
    "                    os.makedirs(output_path + \"inference/\")\n",
    "                fig.savefig(output_path + \"inference/\" + f\"{seed}.png\")\n",
    "                if os.path.exists(output_path + \"result/\") is False:\n",
    "                    os.makedirs(output_path + \"result/\")\n",
    "                fig_img.savefig(output_path + \"result/\" + f\"{seed}.png\")\n",
    "            if visualize_plot:\n",
    "                plt.show()\n",
    "            else:\n",
    "                plt.close(fig)\n",
    "                plt.close(fig_img)\n",
    "            print(\"======================================\")\n",
    "            continue\n",
    "\n",
    "    if task.check_pick_success():\n",
    "        print(\"Pick success\")\n",
    "        N_success_pick += 1\n",
    "    else:\n",
    "        print(\"Pick fail\")\n",
    "        print(f\"Pick Success Rate: {int(100 * N_success_pick / N_tests)}%  ({N_success_pick} / {N_tests})    ||   Place Success Rate: {int(100 * N_success_place / max(N_success_pick, 1))}%   ({N_success_place} / {N_success_pick})    ||   Place-and-Place Success Rate: {int(100 * N_success_place / N_tests)}%   ({N_success_place} / {N_tests})\")\n",
    "        if save_plot:\n",
    "            if os.path.exists(output_path + \"inference/\") is False:\n",
    "                os.makedirs(output_path + \"inference/\")\n",
    "            fig.savefig(output_path + \"inference/\" + f\"{seed}.png\")\n",
    "            if os.path.exists(output_path + \"result/\") is False:\n",
    "                os.makedirs(output_path + \"result/\")\n",
    "            fig_img.savefig(output_path + \"result/\" + f\"{seed}.png\")\n",
    "        if visualize_plot:\n",
    "            plt.show()\n",
    "        else:\n",
    "            plt.close(fig)\n",
    "            plt.close(fig_img)\n",
    "        print(\"======================================\")\n",
    "        continue\n",
    "\n",
    "\n",
    "\n",
    "\n",
    "    task.retract_robot(gripper_val=1., IK_time=1.)\n",
    "    pc = task.observe_pointcloud_pick(stride = stride_pick)\n",
    "    sample_unprocessed['coord_pick'] = pc['coord']\n",
    "    sample_unprocessed['color_pick'] = pc['color']\n",
    "    sample_unprocessed['range_pick'] = pc['ranges']\n",
    "    sample_unprocessed['pick_pose'] = (pc['X_sg'], pc['R_sg'])\n",
    "    sample_unprocessed['images_pick'] = task.observe_pick()\n",
    "\n",
    "    pc = task.observe_pointcloud(stride = stride_place)\n",
    "    sample_unprocessed['coord_place'] = pc['coord']\n",
    "    sample_unprocessed['color_place'] = pc['color']\n",
    "    sample_unprocessed['range_place'] = pc['ranges']\n",
    "    sample_unprocessed['images_place'] = task.observe()\n",
    "\n",
    "\n",
    "\n",
    "\n",
    "    temperature = 1.\n",
    "\n",
    "    color_unprocessed_Q = sample_unprocessed['color_pick']\n",
    "    color_unprocessed_K = sample_unprocessed['color_place']\n",
    "    sample = preprocess(sample_unprocessed, characteristic_length, pick_and_place=True)\n",
    "\n",
    "    coord_Q, color_Q, (xlim_Q, ylim_Q, zlim_Q) = sample['coord_Q'], sample['color_Q'], sample['ranges_Q']\n",
    "    X_sg_Q, R_sg_Q = sample['grasp_Q'][0], sample['grasp_Q'][1]\n",
    "    data_transform_Q = sample['data_transform_Q']\n",
    "\n",
    "    coord_K, color_K, (xlim_K, ylim_K, zlim_K) = sample['coord_K'], sample['color_K'], sample['ranges_K']\n",
    "    data_transform_K = sample['data_transform_K']\n",
    "\n",
    "\n",
    "    ##### Prepare input\n",
    "\n",
    "    feature_Q = torch.tensor(color_Q, dtype=torch.float32)\n",
    "    pos_Q = torch.tensor(coord_Q, dtype=torch.float32)\n",
    "    in_range_cropped_idx_Q = (((pos_Q[:] > ranges_cropped_Q[:,0]) * (pos_Q[:] < ranges_cropped_Q[:,1])).sum(dim=-1) == 3).nonzero().squeeze(-1)\n",
    "    pos_Q = pos_Q[in_range_cropped_idx_Q].to(device)\n",
    "    feature_Q = feature_Q[in_range_cropped_idx_Q].to(device)\n",
    "\n",
    "    feature_K = torch.tensor(color_K, dtype=torch.float32)\n",
    "    pos_K = torch.tensor(coord_K, dtype=torch.float32)\n",
    "    in_range_cropped_idx_K = (((pos_K[:] > ranges_cropped_K[:,0]) * (pos_K[:] < ranges_cropped_K[:,1])).sum(dim=-1) == 3).nonzero().squeeze(-1)\n",
    "    pos_K = pos_K[in_range_cropped_idx_K].to(device)\n",
    "    feature_K = feature_K[in_range_cropped_idx_K].to(device)\n",
    "\n",
    "    inputs_Q = {'feature': feature_Q, 'pos': pos_Q, 'edge': None, 'max_neighbor_radius': max_radius_Q}\n",
    "\n",
    "\n",
    "    t1 = time.time()\n",
    "    ##### Get Query Feature\n",
    "    optimizer_Q.zero_grad()\n",
    "    with torch.no_grad():\n",
    "        outputs_Q = se3T_Q(inputs_Q)\n",
    "        outputs_Q = tensor_field_Q({'feature':outputs_Q['feature'], 'pos':outputs_Q['pos'], 'query_pos':query_pos_Q.unsqueeze(0)})\n",
    "    assert outputs_Q['n_neighbor'].item() > 0\n",
    "    query_feature_Q = outputs_Q['field'].squeeze(0)\n",
    "\n",
    "    inputs_K = {'feature': feature_K, 'pos': pos_K, 'edge': None, 'max_neighbor_radius': max_radius_K}\n",
    "\n",
    "    ##### MCMC\n",
    "    N_transforms = 100\n",
    "    mcmc_iter = 500\n",
    "    mcmc_iter = int(mcmc_iter)\n",
    "    langevin_iter = 100\n",
    "\n",
    "    optimizer_K.zero_grad()\n",
    "    optimizer_energy_K.zero_grad()\n",
    "    outputs_K = se3T_K(inputs_K)\n",
    "    outputs_K['query_feature'] = query_feature_Q\n",
    "    log_P_K = lambda T: -energy_model_K(outputs_K, T, temperature = temperature, learning = False)\n",
    "\n",
    "    T_seed = torch.cat([transforms.random_quaternions(N_transforms, device=device), torch.tensor([[2.5, 2.5, 0.5]], device = device)* torch.randn(N_transforms,3, device = device) + torch.tensor([0.,0., -29.], device = device)] , dim=-1)\n",
    "    t_mcmc_begin = time.time()\n",
    "    samples = metropolis_K.forward(log_P_K, max_iter = mcmc_iter, T_seed = T_seed, pbar=True)\n",
    "    Ts_K = samples['Ts']\n",
    "    As_K = samples['As']\n",
    "    samples = langevin_K.forward(log_P_K, max_iter = langevin_iter, optim = optimizer_energy_K, T_seed = Ts_K[-1], pbar=True)\n",
    "    Ts_K = torch.cat([Ts_K, samples['Ts']], dim=0)\n",
    "    As_K = torch.cat([As_K, samples['As']], dim=0)\n",
    "    t_mcmc_end = time.time()\n",
    "\n",
    "    Ts_K = Ts_K[-50:].reshape(-1,7)\n",
    "\n",
    "    ##### Calculate energy and learn\n",
    "    optimizer_energy_K.zero_grad()\n",
    "    with torch.no_grad():\n",
    "        E_K = energy_model_K(outputs_K, Ts_K, temperature = temperature, learning = True)\n",
    "\n",
    "    best_T_sp_idx = E_K.detach().argmin().item()\n",
    "    best_T_sp = Ts_K[best_T_sp_idx]\n",
    "    best_R_sp, best_X_sp = transforms.quaternion_to_matrix(best_T_sp[...,:4]), best_T_sp[...,4:]\n",
    "\n",
    "    ##### Visualize\n",
    "    t2 = time.time()\n",
    "    print(f\"Place inference time: {t2-t1}\")\n",
    "    place_times.append(t2-t1)\n",
    "    if True:\n",
    "        #print(f\"=========Iter {0}=========\")\n",
    "        query_attn_K = (torch.softmax(energy_model_K.query_attention.detach(), dim=-1) ** 0.5).unsqueeze(-1).cpu().numpy()\n",
    "        \n",
    "        coord_query_K = energy_model_K.transform_query_points(best_T_sp).detach().cpu().numpy()\n",
    "        color_query_K = torch.tensor([0.,0.,1.]).repeat(len(coord_query_K),1).cpu().numpy()\n",
    "        color_query_K = np.concatenate([color_query_K, query_attn_K], axis=-1)\n",
    "        frame_info_best = {'frame': best_R_sp.cpu().numpy(),\n",
    "                        'origin': best_X_sp.cpu().numpy(), \n",
    "                        'alpha': 1.,\n",
    "                        'pointcloud': (coord_query_K, color_query_K)\n",
    "                        }\n",
    "\n",
    "        world_origin_K = np.array([0., 0., -16.])\n",
    "        frame_info_world = {'frame': np.eye(3),\n",
    "                        'origin': world_origin_K,\n",
    "                        'alpha': 0.,\n",
    "                        'pointcloud': (Ts_K.detach().cpu().numpy()[:,4:], torch.tensor([0.,0.8,0.8,0.03]).repeat(len(Ts_K),1).numpy())\n",
    "                        }\n",
    "\n",
    "        color_unprocessed_alpha_K = np.concatenate([color_unprocessed_K, np.ones((len(color_unprocessed_K),1), dtype=int)], axis=-1)\n",
    "        #scatter_plot(coord_K[in_range_cropped_idx_K], color_unprocessed_alpha_K[in_range_cropped_idx_K], xlim_K, ylim_K, zlim_K, frame_infos = [frame_info_best, frame_info_world], figsize = (8, 8))\n",
    "        scatter_plot_ax(axes[1], coord_K[in_range_cropped_idx_K], color_unprocessed_alpha_K[in_range_cropped_idx_K], (xlim_K, ylim_K, zlim_K), frame_infos = [frame_info_best, frame_info_world])\n",
    "        #print(E_K.detach()[::5])\n",
    "        #print(f\"Energy min: {E_K.min().item()} || Energy mean: {E_K.mean().item()}\")\n",
    "        #print(f\"MCMC Time: {t_mcmc_end - t_mcmc_begin}\")\n",
    "        #print(\"===============================\")\n",
    "\n",
    "\n",
    "\n",
    "\n",
    "\n",
    "    X_sdg, R_sdg = data_transform_K.inv_transform_T(best_X_sp.detach().cpu().numpy(), best_R_sp.detach().cpu().numpy())\n",
    "\n",
    "    #X_sdg = X_sdg + (R_sdg@ np.array([0., 0., 0.005])) # push the gripper forward a liitle\n",
    "\n",
    "    R_dg_dgpre = np.eye(3)\n",
    "    R_s_dgpre = R_sdg @ R_dg_dgpre\n",
    "    X_dg_dgpre = np.array([0., 0., -0.1])\n",
    "    sX_dg_dgpre = R_sdg @ X_dg_dgpre\n",
    "    X_s_dgpre = X_sdg + sX_dg_dgpre\n",
    "\n",
    "    pre_place = (X_s_dgpre, R_s_dgpre)\n",
    "    place = (X_sdg, R_sdg)\n",
    "\n",
    "    try:\n",
    "        task.place(pre_place, place, sleep = sleep, IK_time = 1.)\n",
    "    except StopIteration:\n",
    "        try:\n",
    "            task.place(pre_place, place, sleep = sleep, IK_time = 5.)\n",
    "        except StopIteration:\n",
    "            print(\"place IK fail\")\n",
    "            N_IKFAIL_place += 1\n",
    "\n",
    "\n",
    "\n",
    "    if task.check_place_success():\n",
    "        N_success_place += 1\n",
    "        print('Place Success')\n",
    "        print(f\"Pick Success Rate: {int(100 * N_success_pick / N_tests)}%  ({N_success_pick} / {N_tests})    ||   Place Success Rate: {int(100 * N_success_place / max(N_success_pick, 1))}%   ({N_success_place} / {N_success_pick})    ||   Place-and-Place Success Rate: {int(100 * N_success_place / N_tests)}%   ({N_success_place} / {N_tests})\")\n",
    "    else:\n",
    "        print('Place Fail')\n",
    "        print(f\"Pick Success Rate: {int(100 * N_success_pick / N_tests)}%  ({N_success_pick} / {N_tests})    ||   Place Success Rate: {int(100 * N_success_place / max(N_success_pick, 1))}%   ({N_success_place} / {N_success_pick})    ||   Place-and-Place Success Rate: {int(100 * N_success_place / N_tests)}%   ({N_success_place} / {N_tests})\")\n",
    "\n",
    "\n",
    "\n",
    "    pc = task.observe_pointcloud(stride = (1, 1))\n",
    "    scatter_plot_ax(axes[2], pc['coord'], pc['color'], pc['ranges'])\n",
    "    images = task.observe()\n",
    "    for i in range(3):\n",
    "        axes_img[i].imshow(images[i]['color'])\n",
    "\n",
    "    \n",
    "    if save_plot:\n",
    "        if os.path.exists(output_path + \"inference/\") is False:\n",
    "            os.makedirs(output_path + \"inference/\")\n",
    "        fig.savefig(output_path + \"inference/\" + f\"{seed}.png\")\n",
    "        if os.path.exists(output_path + \"result/\") is False:\n",
    "            os.makedirs(output_path + \"result/\")\n",
    "        fig_img.savefig(output_path + \"result/\" + f\"{seed}.png\")\n",
    "    if visualize_plot:\n",
    "        plt.show()\n",
    "    else:\n",
    "        plt.close(fig)\n",
    "        plt.close(fig_img)\n",
    "    print(\"======================================\")"
   ]
  },
  {
   "cell_type": "code",
   "execution_count": 21,
   "metadata": {},
   "outputs": [
    {
     "name": "stdout",
     "output_type": "stream",
     "text": [
      "# IK Fail Pick: 5   ||   # IK Fail Place: 4\n",
      "Mean Inference Time:   Pick   19.975489118099212   ||    Place   15.780103886828703\n"
     ]
    }
   ],
   "source": [
    "print(f\"# IK Fail Pick: {N_IKFAIL_pick}   ||   # IK Fail Place: {N_IKFAIL_place}\")\n",
    "print(f\"Mean Inference Time:   Pick   {np.array(pick_times).mean()}   ||    Place   {np.array(place_times).mean()}\")"
   ]
  },
  {
   "cell_type": "code",
   "execution_count": null,
   "metadata": {},
   "outputs": [],
   "source": []
  },
  {
   "cell_type": "code",
   "execution_count": null,
   "metadata": {},
   "outputs": [],
   "source": []
  },
  {
   "cell_type": "code",
   "execution_count": null,
   "metadata": {},
   "outputs": [],
   "source": []
  }
 ],
 "metadata": {
  "interpreter": {
   "hash": "f23129b46c570c3112f15a3374a794e5cd05ee6ef3eb221daef864361e63690d"
  },
  "kernelspec": {
   "display_name": "Python 3.9.12 ('SE3_Transporter')",
   "language": "python",
   "name": "python3"
  },
  "language_info": {
   "codemirror_mode": {
    "name": "ipython",
    "version": 3
   },
   "file_extension": ".py",
   "mimetype": "text/x-python",
   "name": "python",
   "nbconvert_exporter": "python",
   "pygments_lexer": "ipython3",
   "version": "3.9.12"
  },
  "orig_nbformat": 4
 },
 "nbformat": 4,
 "nbformat_minor": 2
}
