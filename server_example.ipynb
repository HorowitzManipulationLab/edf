{
 "cells": [
  {
   "cell_type": "code",
   "execution_count": null,
   "metadata": {},
   "outputs": [],
   "source": [
    "from edf_interface.nameserver import NameServer\n",
    "ns = NameServer()"
   ]
  },
  {
   "cell_type": "code",
   "execution_count": null,
   "metadata": {},
   "outputs": [],
   "source": [
    "import Pyro5.api\n",
    "\n",
    "@Pyro5.api.expose\n",
    "class GreetingMaker():\n",
    "    def get_fortune(self, name):\n",
    "        return \"Hello, {0}. Here is your fortune message:\\n\" \\\n",
    "               \"Tomorrow's lucky number is 12345678.\".format(name)\n",
    "\n"
   ]
  },
  {
   "cell_type": "code",
   "execution_count": null,
   "metadata": {},
   "outputs": [],
   "source": [
    "daemon = Pyro5.server.Daemon()         # make a Pyro daemon\n",
    "ns = Pyro5.api.locate_ns()             # find the name server\n",
    "uri = daemon.register(GreetingMaker)   # register the greeting maker as a Pyro object\n",
    "ns.register(\"example.greeting\", uri)   # register the object with a name in the name server\n",
    "\n",
    "print(\"Ready.\")\n",
    "daemon.requestLoop()                   # start the event loop of the server to wait for calls"
   ]
  },
  {
   "cell_type": "code",
   "execution_count": null,
   "metadata": {},
   "outputs": [],
   "source": []
  },
  {
   "cell_type": "code",
   "execution_count": null,
   "metadata": {},
   "outputs": [],
   "source": []
  }
 ],
 "metadata": {
  "kernelspec": {
   "display_name": "diff_edf",
   "language": "python",
   "name": "python3"
  },
  "language_info": {
   "codemirror_mode": {
    "name": "ipython",
    "version": 3
   },
   "file_extension": ".py",
   "mimetype": "text/x-python",
   "name": "python",
   "nbconvert_exporter": "python",
   "pygments_lexer": "ipython3",
   "version": "3.8.16"
  },
  "orig_nbformat": 4,
  "vscode": {
   "interpreter": {
    "hash": "79a0085b6cf04e1cff261ad12d41cff4e1530d9e68d1f8fc6bd159a2915452c6"
   }
  }
 },
 "nbformat": 4,
 "nbformat_minor": 2
}
