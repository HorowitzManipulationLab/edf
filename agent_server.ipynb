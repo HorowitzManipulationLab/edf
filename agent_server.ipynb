{
 "cells": [
  {
   "cell_type": "code",
   "execution_count": 1,
   "metadata": {},
   "outputs": [],
   "source": [
    "from typing import Optional\n",
    "import pickle\n",
    "import torch\n",
    "\n",
    "from beartype import beartype\n",
    "from edf_interface.data import DemoDataset, TargetPoseDemo, DemoSequence, SE3, PointCloud, DataAbstractBase\n",
    "from edf_interface.agent_server import AgentHandleAbstractBase, AgentServer"
   ]
  },
  {
   "cell_type": "code",
   "execution_count": 2,
   "metadata": {},
   "outputs": [],
   "source": [
    "@beartype\n",
    "class AgentHandle(AgentHandleAbstractBase):\n",
    "    def __init__(self):\n",
    "        pass\n",
    "\n",
    "    def infer_target_poses(self, scene_pcd: PointCloud, \n",
    "                           task_name: str,\n",
    "                           grasp_pcd: Optional[PointCloud] = None,\n",
    "                           current_poses: Optional[SE3] = None) -> SE3:\n",
    "        print(task_name)\n",
    "        return SE3(poses=torch.tensor([[1., 0., 0., 0., 0., 0., 0.,]]))\n"
   ]
  },
  {
   "cell_type": "code",
   "execution_count": 3,
   "metadata": {},
   "outputs": [
    {
     "name": "stderr",
     "output_type": "stream",
     "text": [
      "Running agent server in background...\n"
     ]
    },
    {
     "name": "stdout",
     "output_type": "stream",
     "text": [
      "place\n"
     ]
    }
   ],
   "source": [
    "server = AgentServer(agent_handle=AgentHandle(), server_name='agent', init_nameserver=False)\n",
    "server.run(nonblocking=True)\n",
    "# server.close()"
   ]
  },
  {
   "cell_type": "code",
   "execution_count": null,
   "metadata": {},
   "outputs": [],
   "source": []
  }
 ],
 "metadata": {
  "kernelspec": {
   "display_name": "diff_edf",
   "language": "python",
   "name": "python3"
  },
  "language_info": {
   "codemirror_mode": {
    "name": "ipython",
    "version": 3
   },
   "file_extension": ".py",
   "mimetype": "text/x-python",
   "name": "python",
   "nbconvert_exporter": "python",
   "pygments_lexer": "ipython3",
   "version": "3.8.16"
  },
  "orig_nbformat": 4,
  "vscode": {
   "interpreter": {
    "hash": "79a0085b6cf04e1cff261ad12d41cff4e1530d9e68d1f8fc6bd159a2915452c6"
   }
  }
 },
 "nbformat": 4,
 "nbformat_minor": 2
}
