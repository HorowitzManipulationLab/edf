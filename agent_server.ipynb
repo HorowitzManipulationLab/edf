{
 "cells": [
  {
   "cell_type": "code",
   "execution_count": 1,
   "metadata": {},
   "outputs": [],
   "source": [
    "from typing import Optional\n",
    "import pickle\n",
    "\n",
    "import torch\n",
    "from beartype import beartype\n",
    "\n",
    "from edf_interface.data import DemoDataset, TargetPoseDemo, DemoSequence, SE3, PointCloud, DataAbstractBase\n",
    "from edf_interface.pyro import PyroServer\n",
    "from edf_interface.utils import expose"
   ]
  },
  {
   "cell_type": "code",
   "execution_count": 2,
   "metadata": {},
   "outputs": [],
   "source": [
    "@beartype\n",
    "class AgentService():\n",
    "    def __init__(self):\n",
    "        pass\n",
    "\n",
    "    @expose\n",
    "    def infer_target_poses(self, scene_pcd: PointCloud, \n",
    "                           task_name: str,\n",
    "                           grasp_pcd: Optional[PointCloud] = None,\n",
    "                           current_poses: Optional[SE3] = None) -> SE3:\n",
    "        print(\"Pointcloud received!\")\n",
    "        print(scene_pcd)\n",
    "        return SE3(poses=torch.tensor([[1., 0., 0., 0., 0., 0., 0.,]]))\n"
   ]
  },
  {
   "cell_type": "code",
   "execution_count": 3,
   "metadata": {},
   "outputs": [
    {
     "name": "stderr",
     "output_type": "stream",
     "text": [
      "agent: Looking for a nameserver...\n",
      "agent: Nameserver found!\n",
      "agent: Running agent server in background...\n"
     ]
    },
    {
     "name": "stdout",
     "output_type": "stream",
     "text": [
      "Pointcloud received!\n",
      "<PointCloud>\n",
      "  Metadata: \n",
      "    - name: scene_pcd\n",
      "    - unit_length: 1 [m]\n",
      "  Data: \n",
      "    - points: <Tensor> (Shape: torch.Size([42793, 3]))\n",
      "          tensor([[ 0.0296, -0.2725,  0.2460],\n",
      "                  [ 0.0296, -0.2725,  0.2435],\n",
      "                  [ 0.0296, -0.2725,  0.2406],\n",
      "                  ...,\n",
      "                  [ 0.0448, -0.2626,  0.0153],\n",
      "                  [ 0.0428, -0.2629,  0.0154],\n",
      "                  [ 0.0398, -0.2634,  0.0188]])\n",
      "    - colors: <Tensor> (Shape: torch.Size([42793, 3]))\n",
      "          tensor([[0.0000, 0.7333, 0.0000],\n",
      "                  [0.0000, 0.7333, 0.0000],\n",
      "                  [0.0000, 0.7333, 0.0000],\n",
      "                  ...,\n",
      "                  [0.0000, 0.7137, 0.0000],\n",
      "                  [0.0000, 0.7137, 0.0000],\n",
      "                  [0.0000, 0.7137, 0.0000]])\n",
      "\n"
     ]
    }
   ],
   "source": [
    "service = AgentService()\n",
    "server = PyroServer(server_name='agent', init_nameserver=False)\n",
    "server.register_service(service=service)\n",
    "server.run(nonblocking=True)\n",
    "#server.close()"
   ]
  },
  {
   "cell_type": "code",
   "execution_count": null,
   "metadata": {},
   "outputs": [],
   "source": []
  }
 ],
 "metadata": {
  "kernelspec": {
   "display_name": "diff_edf",
   "language": "python",
   "name": "python3"
  },
  "language_info": {
   "codemirror_mode": {
    "name": "ipython",
    "version": 3
   },
   "file_extension": ".py",
   "mimetype": "text/x-python",
   "name": "python",
   "nbconvert_exporter": "python",
   "pygments_lexer": "ipython3",
   "version": "3.8.16"
  },
  "orig_nbformat": 4,
  "vscode": {
   "interpreter": {
    "hash": "79a0085b6cf04e1cff261ad12d41cff4e1530d9e68d1f8fc6bd159a2915452c6"
   }
  }
 },
 "nbformat": 4,
 "nbformat_minor": 2
}
