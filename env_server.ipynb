{
 "cells": [
  {
   "cell_type": "code",
   "execution_count": 1,
   "metadata": {},
   "outputs": [],
   "source": [
    "import pickle\n",
    "\n",
    "from beartype import beartype\n",
    "from edf_interface.data import DemoDataset, TargetPoseDemo, DemoSequence, SE3, PointCloud, DataAbstractBase\n",
    "from edf_interface.pyro import PyroServer\n",
    "from edf_interface.utils import expose"
   ]
  },
  {
   "cell_type": "code",
   "execution_count": 2,
   "metadata": {},
   "outputs": [],
   "source": [
    "dataset = DemoDataset('../demo/test_demo_single_mug')\n",
    "demo = dataset[0]\n",
    "pick, place = demo\n",
    "target_task = place\n",
    "scene_pcd, grasp_pcd, target_poses = target_task.scene_pcd, target_task.grasp_pcd, target_task.target_poses\n",
    "\n",
    "# print(target_task)\n",
    "# target_task.show()"
   ]
  },
  {
   "cell_type": "code",
   "execution_count": 3,
   "metadata": {},
   "outputs": [],
   "source": [
    "@beartype\n",
    "class EnvService():\n",
    "    def __init__(self):\n",
    "        pass\n",
    "\n",
    "    @expose()\n",
    "    def get_current_poses(self) -> SE3:\n",
    "        return target_poses\n",
    "\n",
    "    @expose()\n",
    "    def observe_scene(self) -> PointCloud:\n",
    "        return scene_pcd\n",
    "\n",
    "    @expose()\n",
    "    def observe_grasp(self) -> PointCloud:\n",
    "        return grasp_pcd\n",
    "\n",
    "    @expose()\n",
    "    def move_se3(self, target_poses: SE3) -> bool:\n",
    "        print(\"Target poses received!\")\n",
    "        print(target_poses)\n",
    "        print()\n",
    "        return True"
   ]
  },
  {
   "cell_type": "code",
   "execution_count": 4,
   "metadata": {},
   "outputs": [
    {
     "name": "stderr",
     "output_type": "stream",
     "text": [
      "env: Initializing nameserver\n",
      "env: Running env server in background...\n"
     ]
    },
    {
     "name": "stdout",
     "output_type": "stream",
     "text": [
      "Target poses received!\n",
      "{'poses': b'\\x80\\x04\\x95\\xa2\\x01\\x00\\x00\\x00\\x00\\x00\\x00\\x8c\\x0ctorch._utils\\x94\\x8c\\x12_rebuild_tensor_v2\\x94\\x93\\x94(\\x8c\\rtorch.storage\\x94\\x8c\\x10_load_from_bytes\\x94\\x93\\x94B\\x17\\x01\\x00\\x00\\x80\\x02\\x8a\\nl\\xfc\\x9cF\\xf9 j\\xa8P\\x19.\\x80\\x02M\\xe9\\x03.\\x80\\x02}q\\x00(X\\x10\\x00\\x00\\x00protocol_versionq\\x01M\\xe9\\x03X\\r\\x00\\x00\\x00little_endianq\\x02\\x88X\\n\\x00\\x00\\x00type_sizesq\\x03}q\\x04(X\\x05\\x00\\x00\\x00shortq\\x05K\\x02X\\x03\\x00\\x00\\x00intq\\x06K\\x04X\\x04\\x00\\x00\\x00longq\\x07K\\x04uu.\\x80\\x02(X\\x07\\x00\\x00\\x00storageq\\x00ctorch\\nFloatStorage\\nq\\x01X\\x0e\\x00\\x00\\x0094691792657904q\\x02X\\x03\\x00\\x00\\x00cpuq\\x03K\\x07Ntq\\x04Q.\\x80\\x02]q\\x00X\\x0e\\x00\\x00\\x0094691792657904q\\x01a.\\x07\\x00\\x00\\x00\\x00\\x00\\x00\\x00\\x00\\x00\\x80?\\x00\\x00\\x00\\x00\\x00\\x00\\x00\\x00\\x00\\x00\\x00\\x00\\x00\\x00\\x00\\x00\\x00\\x00\\x00\\x00\\x00\\x00\\x00\\x00\\x94\\x85\\x94R\\x94K\\x00K\\x01K\\x07\\x86\\x94K\\x07K\\x01\\x86\\x94\\x89\\x8c\\x0bcollections\\x94\\x8c\\x0bOrderedDict\\x94\\x93\\x94)R\\x94t\\x94R\\x94.', 'metadata': {'__type__': 'SE3', 'name': '', 'unit_length': '1 [m]'}}\n",
      "\n"
     ]
    }
   ],
   "source": [
    "service = EnvService()\n",
    "server = PyroServer(server_name='env', init_nameserver=True)\n",
    "server.register_service(service=service)\n",
    "server.run(nonblocking=True)\n",
    "#server.close()"
   ]
  },
  {
   "cell_type": "code",
   "execution_count": null,
   "metadata": {},
   "outputs": [],
   "source": []
  }
 ],
 "metadata": {
  "kernelspec": {
   "display_name": "diff_edf",
   "language": "python",
   "name": "python3"
  },
  "language_info": {
   "codemirror_mode": {
    "name": "ipython",
    "version": 3
   },
   "file_extension": ".py",
   "mimetype": "text/x-python",
   "name": "python",
   "nbconvert_exporter": "python",
   "pygments_lexer": "ipython3",
   "version": "3.8.16"
  },
  "orig_nbformat": 4,
  "vscode": {
   "interpreter": {
    "hash": "79a0085b6cf04e1cff261ad12d41cff4e1530d9e68d1f8fc6bd159a2915452c6"
   }
  }
 },
 "nbformat": 4,
 "nbformat_minor": 2
}
