{
 "cells": [
  {
   "cell_type": "code",
   "execution_count": 1,
   "metadata": {},
   "outputs": [],
   "source": [
    "import pickle\n",
    "\n",
    "from beartype import beartype\n",
    "from edf_interface.data import DemoDataset, TargetPoseDemo, DemoSequence, SE3, PointCloud, DataAbstractBase\n",
    "from edf_interface.pyro import PyroServer\n",
    "from edf_interface.utils import expose"
   ]
  },
  {
   "cell_type": "code",
   "execution_count": 2,
   "metadata": {},
   "outputs": [],
   "source": [
    "dataset = DemoDataset('../demo/test_demo_single_mug')\n",
    "demo = dataset[0]\n",
    "pick, place = demo\n",
    "target_task = place\n",
    "scene_pcd, grasp_pcd, target_poses = target_task.scene_pcd, target_task.grasp_pcd, target_task.target_poses\n",
    "\n",
    "# print(target_task)\n",
    "# target_task.show()"
   ]
  },
  {
   "cell_type": "code",
   "execution_count": 3,
   "metadata": {},
   "outputs": [],
   "source": [
    "@beartype\n",
    "class EnvService():\n",
    "    def __init__(self):\n",
    "        pass\n",
    "\n",
    "    @expose\n",
    "    def get_current_poses(self) -> SE3:\n",
    "        return target_poses\n",
    "\n",
    "    @expose\n",
    "    def observe_scene(self) -> PointCloud:\n",
    "        return scene_pcd\n",
    "\n",
    "    @expose\n",
    "    def observe_grasp(self) -> PointCloud:\n",
    "        return grasp_pcd\n",
    "\n",
    "    @expose\n",
    "    def move_se3(self, target_poses: SE3) -> bool:\n",
    "        print(\"Target poses received!\")\n",
    "        print(target_poses)\n",
    "        print()\n",
    "        return True"
   ]
  },
  {
   "cell_type": "code",
   "execution_count": 4,
   "metadata": {},
   "outputs": [
    {
     "name": "stderr",
     "output_type": "stream",
     "text": [
      "env: Initializing nameserver\n",
      "env: Running env server in background...\n"
     ]
    },
    {
     "name": "stdout",
     "output_type": "stream",
     "text": [
      "Target poses received!\n",
      "<SE3>\n",
      "  Metadata: \n",
      "    - name: \n",
      "    - unit_length: 1 [m]\n",
      "  Data: \n",
      "    - poses: <Tensor> (Shape: torch.Size([1, 7]))\n",
      "          tensor([[1., 0., 0., 0., 0., 0., 0.]])\n",
      "\n",
      "\n"
     ]
    }
   ],
   "source": [
    "service = EnvService()\n",
    "server = PyroServer(server_name='env', init_nameserver=True)\n",
    "server.register_service(service=service)\n",
    "server.run(nonblocking=True)\n",
    "#server.close()"
   ]
  },
  {
   "cell_type": "code",
   "execution_count": null,
   "metadata": {},
   "outputs": [],
   "source": []
  }
 ],
 "metadata": {
  "kernelspec": {
   "display_name": "diff_edf",
   "language": "python",
   "name": "python3"
  },
  "language_info": {
   "codemirror_mode": {
    "name": "ipython",
    "version": 3
   },
   "file_extension": ".py",
   "mimetype": "text/x-python",
   "name": "python",
   "nbconvert_exporter": "python",
   "pygments_lexer": "ipython3",
   "version": "3.8.16"
  },
  "orig_nbformat": 4,
  "vscode": {
   "interpreter": {
    "hash": "79a0085b6cf04e1cff261ad12d41cff4e1530d9e68d1f8fc6bd159a2915452c6"
   }
  }
 },
 "nbformat": 4,
 "nbformat_minor": 2
}
