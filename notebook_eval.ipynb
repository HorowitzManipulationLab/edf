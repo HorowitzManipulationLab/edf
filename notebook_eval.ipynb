{
 "cells": [
  {
   "cell_type": "code",
   "execution_count": null,
   "metadata": {},
   "outputs": [],
   "source": [
    "from edf.eval import eval"
   ]
  },
  {
   "cell_type": "code",
   "execution_count": null,
   "metadata": {},
   "outputs": [],
   "source": [
    "eval_config_dir = 'config/eval_config/eval_dev.yaml'\n",
    "task_config_dir = 'config/task_config/mug_task.yaml'\n",
    "pick_agent_config_dir = 'config/agent_config/pick_agent.yaml'\n",
    "pick_tp_pickle_dir = 'reproducible_pickles/pick/'\n",
    "checkpoint_path_pick = 'checkpoint/train_pick/model_iter_300.pt'\n",
    "place_agent_config_dir = 'config/agent_config/place_agent.yaml'\n",
    "place_tp_pickle_dir = \"reproducible_pickles/place/\"\n",
    "checkpoint_path_place = 'checkpoint/train_place/model_iter_300.pt'\n",
    "plot_path = 'logs/eval/eval_name/plot/'\n",
    "\n",
    "use_gui = True\n",
    "visualize_plot = True\n",
    "save_plot = False\n",
    "random_init_tp = False\n",
    "\n",
    "if save_plot is False:\n",
    "    plot_path = None"
   ]
  },
  {
   "cell_type": "code",
   "execution_count": null,
   "metadata": {},
   "outputs": [],
   "source": [
    "eval(eval_config_dir=eval_config_dir, task_config_dir=task_config_dir, pick_agent_config_dir=pick_agent_config_dir,\n",
    "     checkpoint_path_pick=checkpoint_path_pick, place_agent_config_dir=place_agent_config_dir,\n",
    "     checkpoint_path_place=checkpoint_path_place, plot_path=plot_path, use_gui=use_gui,\n",
    "     visualize_plot=visualize_plot, save_plot=save_plot, deterministic=True, task_type='mug_task')"
   ]
  }
 ],
 "metadata": {
  "kernelspec": {
   "display_name": "Python 3.9.12 ('edf')",
   "language": "python",
   "name": "python3"
  },
  "language_info": {
   "codemirror_mode": {
    "name": "ipython",
    "version": 3
   },
   "file_extension": ".py",
   "mimetype": "text/x-python",
   "name": "python",
   "nbconvert_exporter": "python",
   "pygments_lexer": "ipython3",
   "version": "3.9.12"
  },
  "orig_nbformat": 4,
  "vscode": {
   "interpreter": {
    "hash": "c0953e14757fdc95393fc3797619880897b68d726561afa3ebe46daeb55f7087"
   }
  }
 },
 "nbformat": 4,
 "nbformat_minor": 2
}
