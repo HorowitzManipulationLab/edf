{
 "cells": [
  {
   "cell_type": "code",
   "execution_count": 1,
   "metadata": {},
   "outputs": [
    {
     "name": "stderr",
     "output_type": "stream",
     "text": [
      "pybullet build time: Dec  1 2021 18:34:28\n"
     ]
    }
   ],
   "source": [
    "import time\n",
    "import datetime\n",
    "import os\n",
    "import random\n",
    "import numpy as np\n",
    "import matplotlib.pyplot as plt\n",
    "from tqdm import tqdm\n",
    "import pybullet as p\n",
    "import pybullet_data\n",
    "\n",
    "import torch\n",
    "from torch_cluster import radius_graph, radius\n",
    "from torch_scatter import scatter\n",
    "\n",
    "import matplotlib\n",
    "import matplotlib.pyplot as plt\n",
    "\n",
    "import edf\n",
    "from edf.pybullet_env.utils import get_image, axiscreator, img_data_to_pointcloud\n",
    "from edf.visual_utils import plot_color_and_depth, scatter_plot, scatter_plot_ax, visualize_samples, visualize_sample_cluster\n",
    "from edf.pybullet_env.env import MugTask\n",
    "\n",
    "device = 'cpu'\n",
    "#gpu_idx = 0\n",
    "#torch.cuda.set_device(gpu_idx)"
   ]
  },
  {
   "cell_type": "code",
   "execution_count": 2,
   "metadata": {},
   "outputs": [],
   "source": [
    "import gzip\n",
    "import pickle\n",
    "\n",
    "folder_name = 'demo'\n",
    "task_name = 'mug_task'\n",
    "path = f'{folder_name}/{task_name}'\n",
    "\n",
    "with gzip.open(path + f'/upright.gzip','rb') as f:\n",
    "    upright_samples = pickle.load(f)\n",
    "\n",
    "with gzip.open(path + f'/lying.gzip','rb') as f:\n",
    "    lying_samples = pickle.load(f)"
   ]
  },
  {
   "cell_type": "markdown",
   "metadata": {},
   "source": [
    "# Load Models"
   ]
  },
  {
   "cell_type": "code",
   "execution_count": 3,
   "metadata": {},
   "outputs": [],
   "source": [
    "from torch import nn\n",
    "from pytorch3d import transforms\n",
    "\n",
    "import e3nn.nn\n",
    "from e3nn import o3\n",
    "from e3nn.math import soft_one_hot_linspace, soft_unit_step\n",
    "\n",
    "from edf.utils import preprocess\n",
    "from edf.models import SE3Transformer, SE3TransformerLight, EnergyModel, QueryTensorField\n",
    "from edf.mcmc import MH, LangevinMH\n",
    "from edf.dist import GaussianDistSE3\n",
    "from edf.layers import QuerySHLayer, TensorFieldLayer\n",
    "\n",
    "characteristic_length = 0.01"
   ]
  },
  {
   "cell_type": "code",
   "execution_count": 4,
   "metadata": {},
   "outputs": [],
   "source": [
    "N_query = 1\n",
    "max_radius = 3.\n",
    "query_radius = 0.  \n",
    "field_cutoff = 5.         \n",
    "std_theta = 45 / 180 * np.pi\n",
    "std_X = 5.                      \n",
    "\n",
    "#xlim, ylim, zlim = np.array([-20.,  20.]), np.array([-20.,  20.]), np.array([15., 25.])\n",
    "#ranges = torch.tensor(np.stack((xlim,ylim,zlim)), dtype=torch.float).to(device)#(xyz,minmax)=(3,2)\n",
    "ranges_cropped = torch.tensor([[-21., 21.],\n",
    "                               [-21., 21.],\n",
    "                               [-30., -5.]])\n",
    "irreps_out = \"10x0e + 10x1e + 4x2e + 2x3e\"\n",
    "irreps_descriptor = o3.Irreps(irreps_out)\n",
    "sh_lmax_descriptor = 3\n",
    "number_of_basis_descriptor = 10\n",
    "irrep_normalization = 'norm'"
   ]
  },
  {
   "cell_type": "code",
   "execution_count": 5,
   "metadata": {},
   "outputs": [],
   "source": [
    "seed = 0\n",
    "random.seed(seed)\n",
    "np.random.seed(seed)\n",
    "torch.manual_seed(seed)\n",
    "torch.use_deterministic_algorithms(True)\n",
    "torch.set_printoptions(precision=4, sci_mode=False)"
   ]
  },
  {
   "cell_type": "code",
   "execution_count": 6,
   "metadata": {},
   "outputs": [],
   "source": [
    "se3T = SE3TransformerLight(max_neighbor_radius = max_radius, irreps_out=irreps_out)\n",
    "irreps_out = o3.Irreps(se3T.irreps_out)\n",
    "energy_model = EnergyModel(N_query = N_query, query_radius = query_radius, field_cutoff = field_cutoff,\n",
    "                           irreps_input = irreps_out, irreps_descriptor = irreps_descriptor, sh_lmax = sh_lmax_descriptor, number_of_basis = number_of_basis_descriptor, ranges = ranges_cropped)\n",
    "metropolis = MH(ranges_X = ranges_cropped, std_theta = std_theta, std_X = std_X)\n",
    "langevin = LangevinMH(ranges_X = ranges_cropped, dt = 0.1, std_theta = 1., std_X = 1.)"
   ]
  },
  {
   "cell_type": "code",
   "execution_count": 7,
   "metadata": {},
   "outputs": [],
   "source": [
    "tp_pickle_path = \"reproducible_pickles/\"\n",
    "\n",
    "se3T.load_tp(tp_pickle_path + \"se3T/\")\n",
    "energy_model.load_tp(tp_pickle_path + \"energy_model/\")"
   ]
  },
  {
   "cell_type": "code",
   "execution_count": 8,
   "metadata": {},
   "outputs": [],
   "source": [
    "if device == 'cuda':\n",
    "    se3T = se3T.to(device)\n",
    "    energy_model = energy_model.to(device)\n",
    "    metropolis = metropolis.to(device)\n",
    "    langevin = langevin.to(device)\n",
    "\n",
    "metropolis.get_inv_cdf()\n",
    "langevin.get_inv_cdf()"
   ]
  },
  {
   "cell_type": "code",
   "execution_count": 9,
   "metadata": {},
   "outputs": [],
   "source": [
    "lr_se3T = 5e-3\n",
    "lr_energy = 20e-3\n",
    "\n",
    "optimizer_se3T = torch.optim.Adam(list(se3T.parameters()), lr=lr_se3T, betas=(0.9, 0.98), eps=1e-09, weight_decay=1e-4, amsgrad=True)\n",
    "optimizer_energy = torch.optim.Adam(list(energy_model.parameters()), lr=lr_energy, betas=(0.9, 0.98), eps=1e-09, weight_decay=0, amsgrad=True)"
   ]
  },
  {
   "cell_type": "code",
   "execution_count": 10,
   "metadata": {},
   "outputs": [
    {
     "data": {
      "text/plain": [
       "<All keys matched successfully>"
      ]
     },
     "execution_count": 10,
     "metadata": {},
     "output_type": "execute_result"
    }
   ],
   "source": [
    "loaded = torch.load('checkpoint/train_pick_reproducible/Jun_05_2022__23_35_22/model_iter_300.pt', map_location=device)\n",
    "se3T.load_state_dict(loaded['se3T_state_dict'])\n",
    "energy_model.load_state_dict(loaded['energy_model_state_dict'])"
   ]
  },
  {
   "cell_type": "code",
   "execution_count": 11,
   "metadata": {},
   "outputs": [],
   "source": [
    "N_query_Q = 1\n",
    "max_radius_Q = 5.\n",
    "query_radius_Q = 0.  \n",
    "field_cutoff_Q = 5.             \n",
    "ranges_cropped_Q = torch.tensor([[-10., 10.],\n",
    "                                    [-10., 10.],\n",
    "                                    [-10., 10.]])\n",
    "irreps_out_Q = \"10x0e + 10x1e + 4x2e + 2x3e\"\n",
    "sh_lmax_descriptor_Q = 3\n",
    "number_of_basis_descriptor_Q = 10\n",
    "irrep_normalization_Q = 'norm'\n",
    "\n",
    "\n",
    "max_radius_K = 2.5\n",
    "query_radius_K = 0.  \n",
    "field_cutoff_K = 5.\n",
    "std_theta_K = 45 / 180 * np.pi\n",
    "std_X_K = 5.\n",
    "ranges_cropped_K = torch.tensor([[-21., 21.],\n",
    "                               [-21., 21.],\n",
    "                               [-30., -5.]])\n",
    "irreps_out_K = \"10x0e + 10x1e + 4x2e + 2x3e\"\n",
    "irreps_descriptor_K = o3.Irreps(irreps_out_K)\n",
    "sh_lmax_descriptor_K = 3\n",
    "number_of_basis_descriptor_K = 10\n",
    "irrep_normalization_K = 'norm'"
   ]
  },
  {
   "cell_type": "code",
   "execution_count": 12,
   "metadata": {},
   "outputs": [],
   "source": [
    "seed = 0\n",
    "random.seed(seed)\n",
    "np.random.seed(seed)\n",
    "torch.manual_seed(seed)\n",
    "torch.use_deterministic_algorithms(True)\n",
    "torch.set_printoptions(precision=4, sci_mode=False)"
   ]
  },
  {
   "cell_type": "code",
   "execution_count": 13,
   "metadata": {},
   "outputs": [],
   "source": [
    "se3T_Q = SE3TransformerLight(max_neighbor_radius = max_radius_Q, irreps_out=irreps_out_Q)\n",
    "tensor_field_Q = QueryTensorField(N_query = N_query_Q, field_cutoff = field_cutoff_Q, irreps_input = irreps_out_Q, irreps_output = irreps_out_K,\n",
    "                                  sh_lmax = sh_lmax_descriptor_Q, number_of_basis = number_of_basis_descriptor_Q,\n",
    "                                  irrep_normalization = irrep_normalization_Q, path_normalization=\"element\")\n",
    "query_pos_Q = torch.zeros(N_query_Q, 3, device=device)\n",
    "\n",
    "se3T_K = SE3TransformerLight(max_neighbor_radius = max_radius_K, irreps_out=irreps_out_K)\n",
    "irreps_out_K = o3.Irreps(se3T_K.irreps_out)\n",
    "energy_model_K = EnergyModel(N_query = N_query_Q, query_radius = query_radius_K, field_cutoff = field_cutoff_K,\n",
    "                           irreps_input = irreps_out_K, irreps_descriptor = irreps_descriptor_K, sh_lmax = sh_lmax_descriptor_K, \n",
    "                           number_of_basis = number_of_basis_descriptor_K, ranges = ranges_cropped_K, learnable_query=False)\n",
    "metropolis_K = MH(ranges_X = ranges_cropped_K, std_theta = std_theta_K, std_X = std_X_K)\n",
    "langevin_K = LangevinMH(ranges_X = ranges_cropped_K, dt = 0.1, std_theta = 1., std_X = 1.)"
   ]
  },
  {
   "cell_type": "code",
   "execution_count": 14,
   "metadata": {},
   "outputs": [],
   "source": [
    "tp_pickle_path = \"reproducible_pickles/\"\n",
    "\n",
    "se3T_Q.load_tp(tp_pickle_path + \"se3T_Q/\")\n",
    "tensor_field_Q.load_tp(tp_pickle_path + \"tensor_field_Q/\")\n",
    "se3T_K.load_tp(tp_pickle_path + \"se3T_K/\")\n",
    "energy_model_K.load_tp(tp_pickle_path + \"energy_model_K/\")"
   ]
  },
  {
   "cell_type": "code",
   "execution_count": 15,
   "metadata": {},
   "outputs": [],
   "source": [
    "if device == 'cuda':\n",
    "    se3T_Q = se3T_Q.to(device)\n",
    "    tensor_field_Q = tensor_field_Q.to(device)\n",
    "    se3T_K = se3T_K.to(device)\n",
    "    energy_model_K = energy_model_K.to(device)\n",
    "    metropolis_K = metropolis_K.to(device)\n",
    "    langevin_K = langevin_K.to(device)\n",
    "\n",
    "metropolis_K.get_inv_cdf()\n",
    "langevin_K.get_inv_cdf()"
   ]
  },
  {
   "cell_type": "code",
   "execution_count": 16,
   "metadata": {},
   "outputs": [],
   "source": [
    "lr_Q = 5e-3\n",
    "lr_K = 5e-3\n",
    "lr_energy_K = 20e-3\n",
    "\n",
    "optimizer_Q = torch.optim.Adam(list(se3T_Q.parameters()) + list(tensor_field_Q.parameters()), lr=lr_Q, betas=(0.9, 0.98), eps=1e-09, weight_decay=1e-4, amsgrad=True)\n",
    "optimizer_K = torch.optim.Adam(list(se3T_K.parameters()), lr=lr_K, betas=(0.9, 0.98), eps=1e-09, weight_decay=1e-4, amsgrad=True)\n",
    "optimizer_energy_K = torch.optim.Adam(list(energy_model_K.parameters()), lr=lr_energy_K, betas=(0.9, 0.98), eps=1e-09, weight_decay=0, amsgrad=True)"
   ]
  },
  {
   "cell_type": "code",
   "execution_count": 17,
   "metadata": {},
   "outputs": [
    {
     "data": {
      "text/plain": [
       "<All keys matched successfully>"
      ]
     },
     "execution_count": 17,
     "metadata": {},
     "output_type": "execute_result"
    }
   ],
   "source": [
    "loaded = torch.load('checkpoint/train_place_reproducible/Jun_06_2022__11_36_29/model_place_iter_300.pt', map_location=device)\n",
    "se3T_K.load_state_dict(loaded['se3T_K_state_dict'])\n",
    "energy_model_K.load_state_dict(loaded['energy_model_K_state_dict'])\n",
    "se3T_Q.load_state_dict(loaded['se3T_Q_state_dict'])\n",
    "tensor_field_Q.load_state_dict(loaded['tensor_field_Q_state_dict'])"
   ]
  },
  {
   "cell_type": "code",
   "execution_count": 18,
   "metadata": {},
   "outputs": [
    {
     "data": {
      "text/plain": [
       "<torch._C.Generator at 0x7ff5a7f800f0>"
      ]
     },
     "execution_count": 18,
     "metadata": {},
     "output_type": "execute_result"
    }
   ],
   "source": [
    "seed = 0\n",
    "random.seed(seed)\n",
    "np.random.seed(seed)\n",
    "torch.manual_seed(seed)"
   ]
  },
  {
   "cell_type": "code",
   "execution_count": 19,
   "metadata": {},
   "outputs": [],
   "source": [
    "task = MugTask(use_gui=False)"
   ]
  },
  {
   "cell_type": "code",
   "execution_count": 20,
   "metadata": {},
   "outputs": [
    {
     "name": "stdout",
     "output_type": "stream",
     "text": [
      "=================Sample 100==================\n"
     ]
    },
    {
     "name": "stderr",
     "output_type": "stream",
     "text": [
      "100%|██████████| 499/499 [00:11<00:00, 43.47it/s]\n",
      "100%|██████████| 99/99 [00:10<00:00,  9.84it/s]\n"
     ]
    },
    {
     "name": "stdout",
     "output_type": "stream",
     "text": [
      "Pick inference time: 23.395519733428955\n",
      "First iteration is slow\n",
      "Identified 6028 IK solutions with minimum distance of 2.443 in 0.811 seconds\n",
      "Pick success\n"
     ]
    },
    {
     "name": "stderr",
     "output_type": "stream",
     "text": [
      "100%|██████████| 499/499 [00:07<00:00, 64.70it/s]\n",
      "100%|██████████| 99/99 [00:04<00:00, 20.15it/s]\n"
     ]
    },
    {
     "name": "stdout",
     "output_type": "stream",
     "text": [
      "Place inference time: 14.173227787017822\n",
      "Identified 3835 IK solutions with minimum distance of 1.397 in 0.771 seconds\n",
      "Place Success\n",
      "Pick Success Rate: 100%  (1 / 1)    ||   Place Success Rate: 100%   (1 / 1)    ||   Place-and-Place Success Rate: 100%   (1 / 1)\n",
      "======================================\n",
      "=================Sample 101==================\n"
     ]
    },
    {
     "name": "stderr",
     "output_type": "stream",
     "text": [
      "100%|██████████| 499/499 [00:09<00:00, 52.53it/s]\n",
      "100%|██████████| 99/99 [00:06<00:00, 15.32it/s]\n"
     ]
    },
    {
     "name": "stdout",
     "output_type": "stream",
     "text": [
      "Pick inference time: 18.2020480632782\n",
      "Identified 9947 IK solutions with minimum distance of 2.542 in 1.160 seconds\n",
      "Pick success\n"
     ]
    },
    {
     "name": "stderr",
     "output_type": "stream",
     "text": [
      "100%|██████████| 499/499 [00:07<00:00, 68.52it/s]\n",
      "100%|██████████| 99/99 [00:05<00:00, 18.58it/s]\n"
     ]
    },
    {
     "name": "stdout",
     "output_type": "stream",
     "text": [
      "Place inference time: 15.045239448547363\n",
      "Identified 5488 IK solutions with minimum distance of 0.816 in 0.339 seconds\n",
      "Place Success\n",
      "Pick Success Rate: 100%  (2 / 2)    ||   Place Success Rate: 100%   (2 / 2)    ||   Place-and-Place Success Rate: 100%   (2 / 2)\n",
      "======================================\n",
      "=================Sample 102==================\n"
     ]
    },
    {
     "name": "stderr",
     "output_type": "stream",
     "text": [
      "100%|██████████| 499/499 [00:09<00:00, 50.44it/s]\n",
      "100%|██████████| 99/99 [00:06<00:00, 15.33it/s]\n"
     ]
    },
    {
     "name": "stdout",
     "output_type": "stream",
     "text": [
      "Pick inference time: 18.779247283935547\n",
      "Identified 5411 IK solutions with minimum distance of 2.506 in 0.700 seconds\n",
      "Pick success\n"
     ]
    },
    {
     "name": "stderr",
     "output_type": "stream",
     "text": [
      "100%|██████████| 499/499 [00:07<00:00, 69.11it/s]\n",
      "100%|██████████| 99/99 [00:04<00:00, 20.07it/s]\n"
     ]
    },
    {
     "name": "stdout",
     "output_type": "stream",
     "text": [
      "Place inference time: 15.273260593414307\n",
      "Identified 5244 IK solutions with minimum distance of 1.190 in 0.270 seconds\n",
      "Place Success\n",
      "Pick Success Rate: 100%  (3 / 3)    ||   Place Success Rate: 100%   (3 / 3)    ||   Place-and-Place Success Rate: 100%   (3 / 3)\n",
      "======================================\n",
      "=================Sample 103==================\n"
     ]
    },
    {
     "name": "stderr",
     "output_type": "stream",
     "text": [
      "100%|██████████| 499/499 [00:09<00:00, 51.35it/s]\n",
      "100%|██████████| 99/99 [00:06<00:00, 15.35it/s]\n"
     ]
    },
    {
     "name": "stdout",
     "output_type": "stream",
     "text": [
      "Pick inference time: 21.333945989608765\n",
      "Identified 6951 IK solutions with minimum distance of 1.947 in 0.953 seconds\n",
      "Pick success\n"
     ]
    },
    {
     "name": "stderr",
     "output_type": "stream",
     "text": [
      "100%|██████████| 499/499 [00:07<00:00, 68.31it/s]\n",
      "100%|██████████| 99/99 [00:04<00:00, 20.66it/s]\n"
     ]
    },
    {
     "name": "stdout",
     "output_type": "stream",
     "text": [
      "Place inference time: 18.395720720291138\n",
      "Identified 0 IK solutions with minimum distance of inf in 0.092 seconds\n",
      "Identified 0 IK solutions with minimum distance of inf in 0.473 seconds\n",
      "place IK fail\n",
      "Place Fail\n",
      "Pick Success Rate: 100%  (4 / 4)    ||   Place Success Rate: 75%   (3 / 4)    ||   Place-and-Place Success Rate: 75%   (3 / 4)\n",
      "======================================\n",
      "=================Sample 104==================\n"
     ]
    },
    {
     "name": "stderr",
     "output_type": "stream",
     "text": [
      "100%|██████████| 499/499 [00:09<00:00, 52.99it/s]\n",
      "100%|██████████| 99/99 [00:06<00:00, 15.29it/s]\n"
     ]
    },
    {
     "name": "stdout",
     "output_type": "stream",
     "text": [
      "Pick inference time: 17.126445770263672\n",
      "Identified 7465 IK solutions with minimum distance of 1.679 in 1.081 seconds\n",
      "Pick success\n"
     ]
    },
    {
     "name": "stderr",
     "output_type": "stream",
     "text": [
      "100%|██████████| 499/499 [00:07<00:00, 68.28it/s]\n",
      "100%|██████████| 99/99 [00:04<00:00, 20.02it/s]\n"
     ]
    },
    {
     "name": "stdout",
     "output_type": "stream",
     "text": [
      "Place inference time: 17.23929452896118\n",
      "Identified 7384 IK solutions with minimum distance of 0.849 in 0.422 seconds\n",
      "Place Success\n",
      "Pick Success Rate: 100%  (5 / 5)    ||   Place Success Rate: 80%   (4 / 5)    ||   Place-and-Place Success Rate: 80%   (4 / 5)\n",
      "======================================\n",
      "=================Sample 105==================\n"
     ]
    },
    {
     "name": "stderr",
     "output_type": "stream",
     "text": [
      "100%|██████████| 499/499 [00:09<00:00, 54.43it/s]\n",
      "100%|██████████| 99/99 [00:06<00:00, 15.63it/s]\n"
     ]
    },
    {
     "name": "stdout",
     "output_type": "stream",
     "text": [
      "Pick inference time: 16.758107900619507\n",
      "Identified 9017 IK solutions with minimum distance of 1.878 in 1.162 seconds\n",
      "Pick success\n"
     ]
    },
    {
     "name": "stderr",
     "output_type": "stream",
     "text": [
      "100%|██████████| 499/499 [00:07<00:00, 68.08it/s]\n",
      "100%|██████████| 99/99 [00:05<00:00, 19.14it/s]\n"
     ]
    },
    {
     "name": "stdout",
     "output_type": "stream",
     "text": [
      "Place inference time: 13.81138801574707\n",
      "Identified 6485 IK solutions with minimum distance of 0.698 in 0.392 seconds\n",
      "Place Success\n",
      "Pick Success Rate: 100%  (6 / 6)    ||   Place Success Rate: 83%   (5 / 6)    ||   Place-and-Place Success Rate: 83%   (5 / 6)\n",
      "======================================\n",
      "=================Sample 106==================\n"
     ]
    },
    {
     "name": "stderr",
     "output_type": "stream",
     "text": [
      "100%|██████████| 499/499 [00:09<00:00, 52.21it/s]\n",
      "100%|██████████| 99/99 [00:06<00:00, 15.25it/s]\n"
     ]
    },
    {
     "name": "stdout",
     "output_type": "stream",
     "text": [
      "Pick inference time: 17.318448305130005\n",
      "Identified 10318 IK solutions with minimum distance of 2.401 in 1.216 seconds\n",
      "Pick success\n"
     ]
    },
    {
     "name": "stderr",
     "output_type": "stream",
     "text": [
      "100%|██████████| 499/499 [00:07<00:00, 70.56it/s]\n",
      "100%|██████████| 99/99 [00:04<00:00, 20.31it/s]\n"
     ]
    },
    {
     "name": "stdout",
     "output_type": "stream",
     "text": [
      "Place inference time: 13.176772117614746\n",
      "Identified 6014 IK solutions with minimum distance of 0.820 in 0.361 seconds\n",
      "Place Success\n",
      "Pick Success Rate: 100%  (7 / 7)    ||   Place Success Rate: 85%   (6 / 7)    ||   Place-and-Place Success Rate: 85%   (6 / 7)\n",
      "======================================\n",
      "=================Sample 107==================\n"
     ]
    },
    {
     "name": "stderr",
     "output_type": "stream",
     "text": [
      "100%|██████████| 499/499 [00:09<00:00, 53.69it/s]\n",
      "100%|██████████| 99/99 [00:06<00:00, 15.56it/s]\n"
     ]
    },
    {
     "name": "stdout",
     "output_type": "stream",
     "text": [
      "Pick inference time: 16.87709951400757\n",
      "Identified 12317 IK solutions with minimum distance of 1.446 in 0.972 seconds\n",
      "Pick success\n"
     ]
    },
    {
     "name": "stderr",
     "output_type": "stream",
     "text": [
      "100%|██████████| 499/499 [00:07<00:00, 68.48it/s]\n",
      "100%|██████████| 99/99 [00:04<00:00, 20.07it/s]\n"
     ]
    },
    {
     "name": "stdout",
     "output_type": "stream",
     "text": [
      "Place inference time: 13.65833067893982\n",
      "Identified 7471 IK solutions with minimum distance of 0.830 in 0.419 seconds\n",
      "Place Success\n",
      "Pick Success Rate: 100%  (8 / 8)    ||   Place Success Rate: 87%   (7 / 8)    ||   Place-and-Place Success Rate: 87%   (7 / 8)\n",
      "======================================\n",
      "=================Sample 108==================\n"
     ]
    },
    {
     "name": "stderr",
     "output_type": "stream",
     "text": [
      "100%|██████████| 499/499 [00:09<00:00, 52.09it/s]\n",
      "100%|██████████| 99/99 [00:06<00:00, 15.19it/s]\n"
     ]
    },
    {
     "name": "stdout",
     "output_type": "stream",
     "text": [
      "Pick inference time: 17.302618741989136\n",
      "Identified 8435 IK solutions with minimum distance of 0.944 in 0.791 seconds\n",
      "Pick success\n"
     ]
    },
    {
     "name": "stderr",
     "output_type": "stream",
     "text": [
      "100%|██████████| 499/499 [00:07<00:00, 69.53it/s]\n",
      "100%|██████████| 99/99 [00:04<00:00, 20.40it/s]\n"
     ]
    },
    {
     "name": "stdout",
     "output_type": "stream",
     "text": [
      "Place inference time: 13.40829348564148\n",
      "Identified 6156 IK solutions with minimum distance of 1.308 in 0.742 seconds\n",
      "Place Success\n",
      "Pick Success Rate: 100%  (9 / 9)    ||   Place Success Rate: 88%   (8 / 9)    ||   Place-and-Place Success Rate: 88%   (8 / 9)\n",
      "======================================\n",
      "=================Sample 109==================\n"
     ]
    },
    {
     "name": "stderr",
     "output_type": "stream",
     "text": [
      "100%|██████████| 499/499 [00:08<00:00, 55.99it/s]\n",
      "100%|██████████| 99/99 [00:06<00:00, 16.06it/s]\n"
     ]
    },
    {
     "name": "stdout",
     "output_type": "stream",
     "text": [
      "Pick inference time: 16.28224205970764\n",
      "Identified 5474 IK solutions with minimum distance of 2.388 in 0.706 seconds\n",
      "Pick fail\n",
      "Pick Success Rate: 90%  (9 / 10)    ||   Place Success Rate: 88%   (8 / 9)    ||   Place-and-Place Success Rate: 80%   (8 / 10)\n",
      "======================================\n",
      "=================Sample 110==================\n"
     ]
    },
    {
     "name": "stderr",
     "output_type": "stream",
     "text": [
      "100%|██████████| 499/499 [00:09<00:00, 52.20it/s]\n",
      "100%|██████████| 99/99 [00:06<00:00, 15.38it/s]\n"
     ]
    },
    {
     "name": "stdout",
     "output_type": "stream",
     "text": [
      "Pick inference time: 17.25598406791687\n",
      "Identified 12731 IK solutions with minimum distance of 2.427 in 1.392 seconds\n",
      "Pick success\n"
     ]
    },
    {
     "name": "stderr",
     "output_type": "stream",
     "text": [
      "100%|██████████| 499/499 [00:07<00:00, 69.32it/s]\n",
      "100%|██████████| 99/99 [00:05<00:00, 19.71it/s]\n"
     ]
    },
    {
     "name": "stdout",
     "output_type": "stream",
     "text": [
      "Place inference time: 13.58410382270813\n",
      "Identified 0 IK solutions with minimum distance of inf in 0.094 seconds\n",
      "Identified 0 IK solutions with minimum distance of inf in 0.484 seconds\n",
      "place IK fail\n",
      "Place Fail\n",
      "Pick Success Rate: 90%  (10 / 11)    ||   Place Success Rate: 80%   (8 / 10)    ||   Place-and-Place Success Rate: 72%   (8 / 11)\n",
      "======================================\n",
      "=================Sample 111==================\n"
     ]
    },
    {
     "name": "stderr",
     "output_type": "stream",
     "text": [
      "100%|██████████| 499/499 [00:09<00:00, 52.74it/s]\n",
      "100%|██████████| 99/99 [00:06<00:00, 15.14it/s]\n"
     ]
    },
    {
     "name": "stdout",
     "output_type": "stream",
     "text": [
      "Pick inference time: 17.265445709228516\n",
      "Identified 8493 IK solutions with minimum distance of 2.187 in 0.765 seconds\n",
      "Pick success\n"
     ]
    },
    {
     "name": "stderr",
     "output_type": "stream",
     "text": [
      "100%|██████████| 499/499 [00:07<00:00, 68.63it/s]\n",
      "100%|██████████| 99/99 [00:05<00:00, 19.49it/s]\n"
     ]
    },
    {
     "name": "stdout",
     "output_type": "stream",
     "text": [
      "Place inference time: 13.582571029663086\n",
      "Identified 6000 IK solutions with minimum distance of 0.691 in 0.351 seconds\n",
      "Place Success\n",
      "Pick Success Rate: 91%  (11 / 12)    ||   Place Success Rate: 81%   (9 / 11)    ||   Place-and-Place Success Rate: 75%   (9 / 12)\n",
      "======================================\n",
      "=================Sample 112==================\n"
     ]
    },
    {
     "name": "stderr",
     "output_type": "stream",
     "text": [
      "100%|██████████| 499/499 [00:09<00:00, 53.51it/s]\n",
      "100%|██████████| 99/99 [00:06<00:00, 15.59it/s]\n"
     ]
    },
    {
     "name": "stdout",
     "output_type": "stream",
     "text": [
      "Pick inference time: 16.935747385025024\n",
      "Identified 3595 IK solutions with minimum distance of 2.042 in 0.589 seconds\n",
      "Pick success\n"
     ]
    },
    {
     "name": "stderr",
     "output_type": "stream",
     "text": [
      "100%|██████████| 499/499 [00:07<00:00, 67.86it/s]\n",
      "100%|██████████| 99/99 [00:04<00:00, 20.03it/s]\n"
     ]
    },
    {
     "name": "stdout",
     "output_type": "stream",
     "text": [
      "Place inference time: 13.554946899414062\n",
      "Identified 4433 IK solutions with minimum distance of 1.032 in 0.258 seconds\n",
      "Place Success\n",
      "Pick Success Rate: 92%  (12 / 13)    ||   Place Success Rate: 83%   (10 / 12)    ||   Place-and-Place Success Rate: 76%   (10 / 13)\n",
      "======================================\n",
      "=================Sample 113==================\n"
     ]
    },
    {
     "name": "stderr",
     "output_type": "stream",
     "text": [
      "100%|██████████| 499/499 [00:09<00:00, 50.39it/s]\n",
      "100%|██████████| 99/99 [00:06<00:00, 14.85it/s]\n"
     ]
    },
    {
     "name": "stdout",
     "output_type": "stream",
     "text": [
      "Pick inference time: 17.84061884880066\n",
      "Identified 6919 IK solutions with minimum distance of 1.230 in 0.482 seconds\n",
      "Pick fail\n",
      "Pick Success Rate: 85%  (12 / 14)    ||   Place Success Rate: 83%   (10 / 12)    ||   Place-and-Place Success Rate: 71%   (10 / 14)\n",
      "======================================\n",
      "=================Sample 114==================\n"
     ]
    },
    {
     "name": "stderr",
     "output_type": "stream",
     "text": [
      "100%|██████████| 499/499 [00:09<00:00, 53.20it/s]\n",
      "100%|██████████| 99/99 [00:06<00:00, 15.44it/s]\n"
     ]
    },
    {
     "name": "stdout",
     "output_type": "stream",
     "text": [
      "Pick inference time: 17.030531644821167\n",
      "Identified 5626 IK solutions with minimum distance of 1.585 in 1.050 seconds\n",
      "Pick success\n"
     ]
    },
    {
     "name": "stderr",
     "output_type": "stream",
     "text": [
      "100%|██████████| 499/499 [00:07<00:00, 70.43it/s]\n",
      "100%|██████████| 99/99 [00:04<00:00, 20.44it/s]\n"
     ]
    },
    {
     "name": "stdout",
     "output_type": "stream",
     "text": [
      "Place inference time: 13.317736625671387\n",
      "Identified 8587 IK solutions with minimum distance of 1.015 in 0.465 seconds\n",
      "Place Success\n",
      "Pick Success Rate: 86%  (13 / 15)    ||   Place Success Rate: 84%   (11 / 13)    ||   Place-and-Place Success Rate: 73%   (11 / 15)\n",
      "======================================\n",
      "=================Sample 115==================\n"
     ]
    },
    {
     "name": "stderr",
     "output_type": "stream",
     "text": [
      "100%|██████████| 499/499 [00:09<00:00, 52.69it/s]\n",
      "100%|██████████| 99/99 [00:06<00:00, 15.51it/s]\n"
     ]
    },
    {
     "name": "stdout",
     "output_type": "stream",
     "text": [
      "Pick inference time: 17.081076860427856\n",
      "Identified 10019 IK solutions with minimum distance of 1.194 in 0.783 seconds\n",
      "Pick success\n"
     ]
    },
    {
     "name": "stderr",
     "output_type": "stream",
     "text": [
      "100%|██████████| 499/499 [00:07<00:00, 70.99it/s]\n",
      "100%|██████████| 99/99 [00:04<00:00, 19.88it/s]\n"
     ]
    },
    {
     "name": "stdout",
     "output_type": "stream",
     "text": [
      "Place inference time: 13.34184193611145\n",
      "Identified 5493 IK solutions with minimum distance of 1.384 in 0.312 seconds\n",
      "Place Success\n",
      "Pick Success Rate: 87%  (14 / 16)    ||   Place Success Rate: 85%   (12 / 14)    ||   Place-and-Place Success Rate: 75%   (12 / 16)\n",
      "======================================\n",
      "=================Sample 116==================\n"
     ]
    },
    {
     "name": "stderr",
     "output_type": "stream",
     "text": [
      "100%|██████████| 499/499 [00:09<00:00, 54.44it/s]\n",
      "100%|██████████| 99/99 [00:06<00:00, 15.25it/s]\n"
     ]
    },
    {
     "name": "stdout",
     "output_type": "stream",
     "text": [
      "Pick inference time: 16.887575387954712\n",
      "Identified 6799 IK solutions with minimum distance of 2.347 in 0.849 seconds\n",
      "Pick success\n"
     ]
    },
    {
     "name": "stderr",
     "output_type": "stream",
     "text": [
      "100%|██████████| 499/499 [00:07<00:00, 70.57it/s]\n",
      "100%|██████████| 99/99 [00:04<00:00, 20.38it/s]\n"
     ]
    },
    {
     "name": "stdout",
     "output_type": "stream",
     "text": [
      "Place inference time: 13.287548542022705\n",
      "Identified 0 IK solutions with minimum distance of inf in 0.097 seconds\n",
      "Identified 0 IK solutions with minimum distance of inf in 0.480 seconds\n",
      "place IK fail\n",
      "Place Fail\n",
      "Pick Success Rate: 88%  (15 / 17)    ||   Place Success Rate: 80%   (12 / 15)    ||   Place-and-Place Success Rate: 70%   (12 / 17)\n",
      "======================================\n",
      "=================Sample 117==================\n"
     ]
    },
    {
     "name": "stderr",
     "output_type": "stream",
     "text": [
      "100%|██████████| 499/499 [00:09<00:00, 52.12it/s]\n",
      "100%|██████████| 99/99 [00:06<00:00, 15.75it/s]\n"
     ]
    },
    {
     "name": "stdout",
     "output_type": "stream",
     "text": [
      "Pick inference time: 17.032210111618042\n",
      "Identified 7116 IK solutions with minimum distance of 2.281 in 0.973 seconds\n",
      "Pick success\n"
     ]
    },
    {
     "name": "stderr",
     "output_type": "stream",
     "text": [
      "100%|██████████| 499/499 [00:07<00:00, 70.04it/s]\n",
      "100%|██████████| 99/99 [00:05<00:00, 19.44it/s]\n"
     ]
    },
    {
     "name": "stdout",
     "output_type": "stream",
     "text": [
      "Place inference time: 13.578104734420776\n",
      "Identified 4648 IK solutions with minimum distance of 1.394 in 0.894 seconds\n",
      "Place Success\n",
      "Pick Success Rate: 88%  (16 / 18)    ||   Place Success Rate: 81%   (13 / 16)    ||   Place-and-Place Success Rate: 72%   (13 / 18)\n",
      "======================================\n",
      "=================Sample 118==================\n"
     ]
    },
    {
     "name": "stderr",
     "output_type": "stream",
     "text": [
      "100%|██████████| 499/499 [00:09<00:00, 52.75it/s]\n",
      "100%|██████████| 99/99 [00:06<00:00, 15.35it/s]\n"
     ]
    },
    {
     "name": "stdout",
     "output_type": "stream",
     "text": [
      "Pick inference time: 17.14817786216736\n",
      "Identified 5934 IK solutions with minimum distance of 1.686 in 0.776 seconds\n",
      "Pick success\n"
     ]
    },
    {
     "name": "stderr",
     "output_type": "stream",
     "text": [
      "100%|██████████| 499/499 [00:07<00:00, 68.56it/s]\n",
      "100%|██████████| 99/99 [00:04<00:00, 20.22it/s]\n"
     ]
    },
    {
     "name": "stdout",
     "output_type": "stream",
     "text": [
      "Place inference time: 13.54672384262085\n",
      "Identified 7567 IK solutions with minimum distance of 1.769 in 1.132 seconds\n",
      "Place Success\n",
      "Pick Success Rate: 89%  (17 / 19)    ||   Place Success Rate: 82%   (14 / 17)    ||   Place-and-Place Success Rate: 73%   (14 / 19)\n",
      "======================================\n",
      "=================Sample 119==================\n"
     ]
    },
    {
     "name": "stderr",
     "output_type": "stream",
     "text": [
      "100%|██████████| 499/499 [00:09<00:00, 51.76it/s]\n",
      "100%|██████████| 99/99 [00:06<00:00, 15.36it/s]\n"
     ]
    },
    {
     "name": "stdout",
     "output_type": "stream",
     "text": [
      "Pick inference time: 17.33051586151123\n",
      "Identified 5189 IK solutions with minimum distance of 1.517 in 0.565 seconds\n",
      "Pick success\n"
     ]
    },
    {
     "name": "stderr",
     "output_type": "stream",
     "text": [
      "100%|██████████| 499/499 [00:06<00:00, 74.50it/s]\n",
      "100%|██████████| 99/99 [00:04<00:00, 21.59it/s]\n"
     ]
    },
    {
     "name": "stdout",
     "output_type": "stream",
     "text": [
      "Place inference time: 12.146146297454834\n",
      "Identified 0 IK solutions with minimum distance of inf in 0.091 seconds\n",
      "Identified 0 IK solutions with minimum distance of inf in 0.468 seconds\n",
      "place IK fail\n",
      "Place Fail\n",
      "Pick Success Rate: 90%  (18 / 20)    ||   Place Success Rate: 77%   (14 / 18)    ||   Place-and-Place Success Rate: 70%   (14 / 20)\n",
      "======================================\n",
      "=================Sample 120==================\n"
     ]
    },
    {
     "name": "stderr",
     "output_type": "stream",
     "text": [
      "100%|██████████| 499/499 [00:09<00:00, 52.13it/s]\n",
      "100%|██████████| 99/99 [00:06<00:00, 14.68it/s]\n"
     ]
    },
    {
     "name": "stdout",
     "output_type": "stream",
     "text": [
      "Pick inference time: 17.564082622528076\n",
      "Identified 5278 IK solutions with minimum distance of 1.851 in 0.372 seconds\n",
      "Pick success\n"
     ]
    },
    {
     "name": "stderr",
     "output_type": "stream",
     "text": [
      "100%|██████████| 499/499 [00:07<00:00, 69.46it/s]\n",
      "100%|██████████| 99/99 [00:04<00:00, 20.49it/s]\n"
     ]
    },
    {
     "name": "stdout",
     "output_type": "stream",
     "text": [
      "Place inference time: 13.331161499023438\n",
      "Identified 10895 IK solutions with minimum distance of 1.065 in 0.777 seconds\n",
      "Place Success\n",
      "Pick Success Rate: 90%  (19 / 21)    ||   Place Success Rate: 78%   (15 / 19)    ||   Place-and-Place Success Rate: 71%   (15 / 21)\n",
      "======================================\n",
      "=================Sample 121==================\n"
     ]
    },
    {
     "name": "stderr",
     "output_type": "stream",
     "text": [
      "100%|██████████| 499/499 [00:09<00:00, 54.47it/s]\n",
      "100%|██████████| 99/99 [00:06<00:00, 15.93it/s]\n"
     ]
    },
    {
     "name": "stdout",
     "output_type": "stream",
     "text": [
      "Pick inference time: 16.573415756225586\n",
      "Identified 6977 IK solutions with minimum distance of 1.735 in 1.077 seconds\n",
      "Pick success\n"
     ]
    },
    {
     "name": "stderr",
     "output_type": "stream",
     "text": [
      "100%|██████████| 499/499 [00:07<00:00, 70.55it/s]\n",
      "100%|██████████| 99/99 [00:05<00:00, 19.45it/s]\n"
     ]
    },
    {
     "name": "stdout",
     "output_type": "stream",
     "text": [
      "Place inference time: 13.519527196884155\n",
      "Identified 4221 IK solutions with minimum distance of 1.390 in 0.253 seconds\n",
      "Place Success\n",
      "Pick Success Rate: 90%  (20 / 22)    ||   Place Success Rate: 80%   (16 / 20)    ||   Place-and-Place Success Rate: 72%   (16 / 22)\n",
      "======================================\n",
      "=================Sample 122==================\n"
     ]
    },
    {
     "name": "stderr",
     "output_type": "stream",
     "text": [
      "100%|██████████| 499/499 [00:09<00:00, 54.36it/s]\n",
      "100%|██████████| 99/99 [00:06<00:00, 15.86it/s]\n"
     ]
    },
    {
     "name": "stdout",
     "output_type": "stream",
     "text": [
      "Pick inference time: 16.56764316558838\n",
      "Identified 9356 IK solutions with minimum distance of 1.455 in 0.831 seconds\n",
      "Pick success\n"
     ]
    },
    {
     "name": "stderr",
     "output_type": "stream",
     "text": [
      "100%|██████████| 499/499 [00:07<00:00, 70.60it/s]\n",
      "100%|██████████| 99/99 [00:04<00:00, 20.52it/s]\n"
     ]
    },
    {
     "name": "stdout",
     "output_type": "stream",
     "text": [
      "Place inference time: 13.262919425964355\n",
      "Identified 7040 IK solutions with minimum distance of 1.730 in 0.996 seconds\n",
      "Place Success\n",
      "Pick Success Rate: 91%  (21 / 23)    ||   Place Success Rate: 80%   (17 / 21)    ||   Place-and-Place Success Rate: 73%   (17 / 23)\n",
      "======================================\n",
      "=================Sample 123==================\n"
     ]
    },
    {
     "name": "stderr",
     "output_type": "stream",
     "text": [
      "100%|██████████| 499/499 [00:09<00:00, 54.24it/s]\n",
      "100%|██████████| 99/99 [00:06<00:00, 15.20it/s]\n"
     ]
    },
    {
     "name": "stdout",
     "output_type": "stream",
     "text": [
      "Pick inference time: 16.880417108535767\n",
      "Identified 4005 IK solutions with minimum distance of 2.001 in 0.323 seconds\n",
      "Pick success\n"
     ]
    },
    {
     "name": "stderr",
     "output_type": "stream",
     "text": [
      "100%|██████████| 499/499 [00:07<00:00, 70.41it/s]\n",
      "100%|██████████| 99/99 [00:05<00:00, 19.73it/s]\n"
     ]
    },
    {
     "name": "stdout",
     "output_type": "stream",
     "text": [
      "Place inference time: 13.28511905670166\n",
      "Identified 0 IK solutions with minimum distance of inf in 0.094 seconds\n",
      "Identified 0 IK solutions with minimum distance of inf in 0.474 seconds\n",
      "place IK fail\n",
      "Place Fail\n",
      "Pick Success Rate: 91%  (22 / 24)    ||   Place Success Rate: 77%   (17 / 22)    ||   Place-and-Place Success Rate: 70%   (17 / 24)\n",
      "======================================\n",
      "=================Sample 124==================\n"
     ]
    },
    {
     "name": "stderr",
     "output_type": "stream",
     "text": [
      "100%|██████████| 499/499 [00:09<00:00, 50.85it/s]\n",
      "100%|██████████| 99/99 [00:06<00:00, 15.16it/s]\n"
     ]
    },
    {
     "name": "stdout",
     "output_type": "stream",
     "text": [
      "Pick inference time: 17.60584807395935\n",
      "Identified 13985 IK solutions with minimum distance of 2.154 in 1.225 seconds\n",
      "Pick success\n"
     ]
    },
    {
     "name": "stderr",
     "output_type": "stream",
     "text": [
      "100%|██████████| 499/499 [00:06<00:00, 71.76it/s]\n",
      "100%|██████████| 99/99 [00:04<00:00, 20.01it/s]\n"
     ]
    },
    {
     "name": "stdout",
     "output_type": "stream",
     "text": [
      "Place inference time: 13.1907377243042\n",
      "Identified 9287 IK solutions with minimum distance of 1.022 in 0.682 seconds\n",
      "Place Success\n",
      "Pick Success Rate: 92%  (23 / 25)    ||   Place Success Rate: 78%   (18 / 23)    ||   Place-and-Place Success Rate: 72%   (18 / 25)\n",
      "======================================\n",
      "===================== <Result> =====================\n",
      "# IK Fail Pick: 0   ||   # IK Fail Place: 5\n",
      "Mean Inference Time:   Pick   17.615000553131104   ||    Place   13.943944174310435\n",
      "====================================================\n",
      "=================Sample 125==================\n"
     ]
    },
    {
     "name": "stderr",
     "output_type": "stream",
     "text": [
      "100%|██████████| 499/499 [00:10<00:00, 49.34it/s]\n",
      "100%|██████████| 99/99 [00:06<00:00, 14.90it/s]\n"
     ]
    },
    {
     "name": "stdout",
     "output_type": "stream",
     "text": [
      "Pick inference time: 17.9887912273407\n",
      "First iteration is slow\n",
      "Identified 4459 IK solutions with minimum distance of 1.960 in 0.526 seconds\n",
      "Pick success\n"
     ]
    },
    {
     "name": "stderr",
     "output_type": "stream",
     "text": [
      "100%|██████████| 499/499 [00:07<00:00, 68.42it/s]\n",
      "100%|██████████| 99/99 [00:04<00:00, 19.80it/s]\n"
     ]
    },
    {
     "name": "stdout",
     "output_type": "stream",
     "text": [
      "Place inference time: 13.559636116027832\n",
      "Identified 7837 IK solutions with minimum distance of 0.923 in 0.590 seconds\n",
      "Place Success\n",
      "Pick Success Rate: 100%  (1 / 1)    ||   Place Success Rate: 100%   (1 / 1)    ||   Place-and-Place Success Rate: 100%   (1 / 1)\n",
      "======================================\n",
      "=================Sample 126==================\n"
     ]
    },
    {
     "name": "stderr",
     "output_type": "stream",
     "text": [
      "100%|██████████| 499/499 [00:09<00:00, 50.67it/s]\n",
      "100%|██████████| 99/99 [00:06<00:00, 14.86it/s]\n"
     ]
    },
    {
     "name": "stdout",
     "output_type": "stream",
     "text": [
      "Pick inference time: 17.760008096694946\n",
      "Identified 5968 IK solutions with minimum distance of 1.229 in 0.475 seconds\n",
      "Pick success\n"
     ]
    },
    {
     "name": "stderr",
     "output_type": "stream",
     "text": [
      "100%|██████████| 499/499 [00:07<00:00, 67.31it/s]\n",
      "100%|██████████| 99/99 [00:05<00:00, 19.49it/s]\n"
     ]
    },
    {
     "name": "stdout",
     "output_type": "stream",
     "text": [
      "Place inference time: 13.701108932495117\n",
      "Identified 8864 IK solutions with minimum distance of 1.051 in 0.547 seconds\n",
      "Place Success\n",
      "Pick Success Rate: 100%  (2 / 2)    ||   Place Success Rate: 100%   (2 / 2)    ||   Place-and-Place Success Rate: 100%   (2 / 2)\n",
      "======================================\n",
      "=================Sample 127==================\n"
     ]
    },
    {
     "name": "stderr",
     "output_type": "stream",
     "text": [
      "100%|██████████| 499/499 [00:10<00:00, 49.83it/s]\n",
      "100%|██████████| 99/99 [00:06<00:00, 14.58it/s]\n"
     ]
    },
    {
     "name": "stdout",
     "output_type": "stream",
     "text": [
      "Pick inference time: 18.104480504989624\n",
      "Identified 7923 IK solutions with minimum distance of 2.836 in 0.665 seconds\n",
      "Pick success\n"
     ]
    },
    {
     "name": "stderr",
     "output_type": "stream",
     "text": [
      "100%|██████████| 499/499 [00:07<00:00, 70.35it/s]\n",
      "100%|██████████| 99/99 [00:04<00:00, 20.28it/s]\n"
     ]
    },
    {
     "name": "stdout",
     "output_type": "stream",
     "text": [
      "Place inference time: 13.195289134979248\n",
      "Identified 6584 IK solutions with minimum distance of 0.626 in 0.388 seconds\n",
      "Place Success\n",
      "Pick Success Rate: 100%  (3 / 3)    ||   Place Success Rate: 100%   (3 / 3)    ||   Place-and-Place Success Rate: 100%   (3 / 3)\n",
      "======================================\n",
      "=================Sample 128==================\n"
     ]
    },
    {
     "name": "stderr",
     "output_type": "stream",
     "text": [
      "100%|██████████| 499/499 [00:10<00:00, 48.31it/s]\n",
      "100%|██████████| 99/99 [00:07<00:00, 13.69it/s]\n"
     ]
    },
    {
     "name": "stdout",
     "output_type": "stream",
     "text": [
      "Pick inference time: 18.980995893478394\n",
      "Identified 6173 IK solutions with minimum distance of 2.089 in 0.599 seconds\n",
      "Pick success\n"
     ]
    },
    {
     "name": "stderr",
     "output_type": "stream",
     "text": [
      "100%|██████████| 499/499 [00:07<00:00, 69.03it/s]\n",
      "100%|██████████| 99/99 [00:04<00:00, 20.13it/s]\n"
     ]
    },
    {
     "name": "stdout",
     "output_type": "stream",
     "text": [
      "Place inference time: 13.373883247375488\n",
      "Identified 7532 IK solutions with minimum distance of 0.784 in 0.426 seconds\n",
      "Place Success\n",
      "Pick Success Rate: 100%  (4 / 4)    ||   Place Success Rate: 100%   (4 / 4)    ||   Place-and-Place Success Rate: 100%   (4 / 4)\n",
      "======================================\n",
      "=================Sample 129==================\n"
     ]
    },
    {
     "name": "stderr",
     "output_type": "stream",
     "text": [
      "100%|██████████| 499/499 [00:09<00:00, 50.26it/s]\n",
      "100%|██████████| 99/99 [00:06<00:00, 14.41it/s]\n"
     ]
    },
    {
     "name": "stdout",
     "output_type": "stream",
     "text": [
      "Pick inference time: 18.110284090042114\n",
      "Identified 6327 IK solutions with minimum distance of 2.073 in 0.619 seconds\n",
      "Pick success\n"
     ]
    },
    {
     "name": "stderr",
     "output_type": "stream",
     "text": [
      "100%|██████████| 499/499 [00:07<00:00, 68.94it/s]\n",
      "100%|██████████| 99/99 [00:04<00:00, 19.99it/s]\n"
     ]
    },
    {
     "name": "stdout",
     "output_type": "stream",
     "text": [
      "Place inference time: 13.392505407333374\n",
      "Identified 0 IK solutions with minimum distance of inf in 0.095 seconds\n",
      "Identified 0 IK solutions with minimum distance of inf in 0.476 seconds\n",
      "place IK fail\n",
      "Place Fail\n",
      "Pick Success Rate: 100%  (5 / 5)    ||   Place Success Rate: 80%   (4 / 5)    ||   Place-and-Place Success Rate: 80%   (4 / 5)\n",
      "======================================\n",
      "=================Sample 130==================\n"
     ]
    },
    {
     "name": "stderr",
     "output_type": "stream",
     "text": [
      "100%|██████████| 499/499 [00:10<00:00, 48.82it/s]\n",
      "100%|██████████| 99/99 [00:06<00:00, 14.33it/s]\n"
     ]
    },
    {
     "name": "stdout",
     "output_type": "stream",
     "text": [
      "Pick inference time: 18.460415601730347\n",
      "Identified 9099 IK solutions with minimum distance of 1.399 in 0.653 seconds\n",
      "Pick success\n"
     ]
    },
    {
     "name": "stderr",
     "output_type": "stream",
     "text": [
      "100%|██████████| 499/499 [00:07<00:00, 68.61it/s]\n",
      "100%|██████████| 99/99 [00:05<00:00, 19.60it/s]\n"
     ]
    },
    {
     "name": "stdout",
     "output_type": "stream",
     "text": [
      "Place inference time: 13.632920503616333\n",
      "Identified 8782 IK solutions with minimum distance of 1.891 in 1.058 seconds\n",
      "Place Success\n",
      "Pick Success Rate: 100%  (6 / 6)    ||   Place Success Rate: 83%   (5 / 6)    ||   Place-and-Place Success Rate: 83%   (5 / 6)\n",
      "======================================\n",
      "=================Sample 131==================\n"
     ]
    },
    {
     "name": "stderr",
     "output_type": "stream",
     "text": [
      "100%|██████████| 499/499 [00:09<00:00, 50.17it/s]\n",
      "100%|██████████| 99/99 [00:06<00:00, 14.90it/s]\n"
     ]
    },
    {
     "name": "stdout",
     "output_type": "stream",
     "text": [
      "Pick inference time: 17.861361265182495\n",
      "Identified 8053 IK solutions with minimum distance of 2.287 in 1.071 seconds\n",
      "Pick success\n"
     ]
    },
    {
     "name": "stderr",
     "output_type": "stream",
     "text": [
      "100%|██████████| 499/499 [00:07<00:00, 68.91it/s]\n",
      "100%|██████████| 99/99 [00:05<00:00, 19.60it/s]\n"
     ]
    },
    {
     "name": "stdout",
     "output_type": "stream",
     "text": [
      "Place inference time: 13.531834840774536\n",
      "Identified 12404 IK solutions with minimum distance of 1.170 in 0.836 seconds\n",
      "Place Success\n",
      "Pick Success Rate: 100%  (7 / 7)    ||   Place Success Rate: 85%   (6 / 7)    ||   Place-and-Place Success Rate: 85%   (6 / 7)\n",
      "======================================\n",
      "=================Sample 132==================\n"
     ]
    },
    {
     "name": "stderr",
     "output_type": "stream",
     "text": [
      "100%|██████████| 499/499 [00:09<00:00, 52.35it/s]\n",
      "100%|██████████| 99/99 [00:06<00:00, 14.79it/s]\n"
     ]
    },
    {
     "name": "stdout",
     "output_type": "stream",
     "text": [
      "Pick inference time: 17.480896949768066\n",
      "Identified 7904 IK solutions with minimum distance of 2.391 in 1.155 seconds\n",
      "Pick success\n"
     ]
    },
    {
     "name": "stderr",
     "output_type": "stream",
     "text": [
      "100%|██████████| 499/499 [00:07<00:00, 68.46it/s]\n",
      "100%|██████████| 99/99 [00:04<00:00, 20.60it/s]\n"
     ]
    },
    {
     "name": "stdout",
     "output_type": "stream",
     "text": [
      "Place inference time: 13.376353025436401\n",
      "Identified 5691 IK solutions with minimum distance of 1.383 in 0.322 seconds\n",
      "Place Success\n",
      "Pick Success Rate: 100%  (8 / 8)    ||   Place Success Rate: 87%   (7 / 8)    ||   Place-and-Place Success Rate: 87%   (7 / 8)\n",
      "======================================\n",
      "=================Sample 133==================\n"
     ]
    },
    {
     "name": "stderr",
     "output_type": "stream",
     "text": [
      "100%|██████████| 499/499 [00:10<00:00, 49.31it/s]\n",
      "100%|██████████| 99/99 [00:06<00:00, 14.38it/s]\n"
     ]
    },
    {
     "name": "stdout",
     "output_type": "stream",
     "text": [
      "Pick inference time: 18.33577013015747\n",
      "Identified 10664 IK solutions with minimum distance of 1.345 in 0.897 seconds\n",
      "Pick success\n"
     ]
    },
    {
     "name": "stderr",
     "output_type": "stream",
     "text": [
      "100%|██████████| 499/499 [00:07<00:00, 69.47it/s]\n",
      "100%|██████████| 99/99 [00:05<00:00, 18.88it/s]\n"
     ]
    },
    {
     "name": "stdout",
     "output_type": "stream",
     "text": [
      "Place inference time: 13.71326208114624\n",
      "Identified 5977 IK solutions with minimum distance of 0.673 in 0.349 seconds\n",
      "Place Success\n",
      "Pick Success Rate: 100%  (9 / 9)    ||   Place Success Rate: 88%   (8 / 9)    ||   Place-and-Place Success Rate: 88%   (8 / 9)\n",
      "======================================\n",
      "=================Sample 134==================\n"
     ]
    },
    {
     "name": "stderr",
     "output_type": "stream",
     "text": [
      "100%|██████████| 499/499 [00:10<00:00, 49.21it/s]\n",
      "100%|██████████| 99/99 [00:07<00:00, 13.78it/s]\n"
     ]
    },
    {
     "name": "stdout",
     "output_type": "stream",
     "text": [
      "Pick inference time: 18.642948627471924\n",
      "Identified 8248 IK solutions with minimum distance of 2.336 in 1.117 seconds\n",
      "Pick success\n"
     ]
    },
    {
     "name": "stderr",
     "output_type": "stream",
     "text": [
      "100%|██████████| 499/499 [00:07<00:00, 68.97it/s]\n",
      "100%|██████████| 99/99 [00:04<00:00, 19.94it/s]\n"
     ]
    },
    {
     "name": "stdout",
     "output_type": "stream",
     "text": [
      "Place inference time: 13.481755018234253\n",
      "Identified 7471 IK solutions with minimum distance of 0.813 in 0.421 seconds\n",
      "Place Success\n",
      "Pick Success Rate: 100%  (10 / 10)    ||   Place Success Rate: 90%   (9 / 10)    ||   Place-and-Place Success Rate: 90%   (9 / 10)\n",
      "======================================\n",
      "=================Sample 135==================\n"
     ]
    },
    {
     "name": "stderr",
     "output_type": "stream",
     "text": [
      "100%|██████████| 499/499 [00:10<00:00, 49.29it/s]\n",
      "100%|██████████| 99/99 [00:06<00:00, 14.34it/s]\n"
     ]
    },
    {
     "name": "stdout",
     "output_type": "stream",
     "text": [
      "Pick inference time: 18.39046335220337\n",
      "Identified 10028 IK solutions with minimum distance of 2.515 in 1.455 seconds\n",
      "Pick success\n"
     ]
    },
    {
     "name": "stderr",
     "output_type": "stream",
     "text": [
      "100%|██████████| 499/499 [00:07<00:00, 69.68it/s]\n",
      "100%|██████████| 99/99 [00:04<00:00, 19.94it/s]\n"
     ]
    },
    {
     "name": "stdout",
     "output_type": "stream",
     "text": [
      "Place inference time: 13.38696026802063\n",
      "Identified 6517 IK solutions with minimum distance of 0.687 in 0.389 seconds\n",
      "Place Success\n",
      "Pick Success Rate: 100%  (11 / 11)    ||   Place Success Rate: 90%   (10 / 11)    ||   Place-and-Place Success Rate: 90%   (10 / 11)\n",
      "======================================\n",
      "=================Sample 136==================\n"
     ]
    },
    {
     "name": "stderr",
     "output_type": "stream",
     "text": [
      "100%|██████████| 499/499 [00:10<00:00, 49.20it/s]\n",
      "100%|██████████| 99/99 [00:06<00:00, 14.70it/s]\n"
     ]
    },
    {
     "name": "stdout",
     "output_type": "stream",
     "text": [
      "Pick inference time: 18.1573805809021\n",
      "Identified 7703 IK solutions with minimum distance of 1.485 in 0.660 seconds\n",
      "Pick success\n"
     ]
    },
    {
     "name": "stderr",
     "output_type": "stream",
     "text": [
      "100%|██████████| 499/499 [00:07<00:00, 69.65it/s]\n",
      "100%|██████████| 99/99 [00:04<00:00, 20.17it/s]\n"
     ]
    },
    {
     "name": "stdout",
     "output_type": "stream",
     "text": [
      "Place inference time: 13.369789838790894\n",
      "Identified 9936 IK solutions with minimum distance of 1.063 in 0.736 seconds\n",
      "Place Success\n",
      "Pick Success Rate: 100%  (12 / 12)    ||   Place Success Rate: 91%   (11 / 12)    ||   Place-and-Place Success Rate: 91%   (11 / 12)\n",
      "======================================\n",
      "=================Sample 137==================\n"
     ]
    },
    {
     "name": "stderr",
     "output_type": "stream",
     "text": [
      "100%|██████████| 499/499 [00:10<00:00, 49.83it/s]\n",
      "100%|██████████| 99/99 [00:07<00:00, 13.55it/s]\n"
     ]
    },
    {
     "name": "stdout",
     "output_type": "stream",
     "text": [
      "Pick inference time: 18.70587706565857\n",
      "Identified 9227 IK solutions with minimum distance of 1.486 in 0.605 seconds\n",
      "Pick success\n"
     ]
    },
    {
     "name": "stderr",
     "output_type": "stream",
     "text": [
      "100%|██████████| 499/499 [00:07<00:00, 67.23it/s]\n",
      "100%|██████████| 99/99 [00:05<00:00, 18.54it/s]\n"
     ]
    },
    {
     "name": "stdout",
     "output_type": "stream",
     "text": [
      "Place inference time: 14.010180473327637\n",
      "Identified 7121 IK solutions with minimum distance of 0.737 in 0.410 seconds\n",
      "Place Success\n",
      "Pick Success Rate: 100%  (13 / 13)    ||   Place Success Rate: 92%   (12 / 13)    ||   Place-and-Place Success Rate: 92%   (12 / 13)\n",
      "======================================\n",
      "=================Sample 138==================\n"
     ]
    },
    {
     "name": "stderr",
     "output_type": "stream",
     "text": [
      "100%|██████████| 499/499 [00:10<00:00, 49.80it/s]\n",
      "100%|██████████| 99/99 [00:06<00:00, 14.16it/s]\n"
     ]
    },
    {
     "name": "stdout",
     "output_type": "stream",
     "text": [
      "Pick inference time: 18.37812089920044\n",
      "Identified 6962 IK solutions with minimum distance of 2.773 in 1.299 seconds\n",
      "Pick success\n"
     ]
    },
    {
     "name": "stderr",
     "output_type": "stream",
     "text": [
      "100%|██████████| 499/499 [00:07<00:00, 66.96it/s]\n",
      "100%|██████████| 99/99 [00:04<00:00, 20.44it/s]\n"
     ]
    },
    {
     "name": "stdout",
     "output_type": "stream",
     "text": [
      "Place inference time: 13.543381690979004\n",
      "Identified 7208 IK solutions with minimum distance of 0.881 in 0.411 seconds\n",
      "Place Success\n",
      "Pick Success Rate: 100%  (14 / 14)    ||   Place Success Rate: 92%   (13 / 14)    ||   Place-and-Place Success Rate: 92%   (13 / 14)\n",
      "======================================\n",
      "=================Sample 139==================\n"
     ]
    },
    {
     "name": "stderr",
     "output_type": "stream",
     "text": [
      "100%|██████████| 499/499 [00:09<00:00, 50.02it/s]\n",
      "100%|██████████| 99/99 [00:06<00:00, 14.41it/s]\n"
     ]
    },
    {
     "name": "stdout",
     "output_type": "stream",
     "text": [
      "Pick inference time: 18.158987998962402\n",
      "Identified 3088 IK solutions with minimum distance of 1.959 in 0.255 seconds\n",
      "Pick success\n"
     ]
    },
    {
     "name": "stderr",
     "output_type": "stream",
     "text": [
      "100%|██████████| 499/499 [00:07<00:00, 68.85it/s]\n",
      "100%|██████████| 99/99 [00:05<00:00, 19.12it/s]\n"
     ]
    },
    {
     "name": "stdout",
     "output_type": "stream",
     "text": [
      "Place inference time: 13.676523447036743\n",
      "Identified 0 IK solutions with minimum distance of inf in 0.094 seconds\n",
      "Identified 0 IK solutions with minimum distance of inf in 0.469 seconds\n",
      "place IK fail\n",
      "Place Fail\n",
      "Pick Success Rate: 100%  (15 / 15)    ||   Place Success Rate: 86%   (13 / 15)    ||   Place-and-Place Success Rate: 86%   (13 / 15)\n",
      "======================================\n",
      "=================Sample 140==================\n"
     ]
    },
    {
     "name": "stderr",
     "output_type": "stream",
     "text": [
      "100%|██████████| 499/499 [00:09<00:00, 50.92it/s]\n",
      "100%|██████████| 99/99 [00:07<00:00, 14.07it/s]\n"
     ]
    },
    {
     "name": "stdout",
     "output_type": "stream",
     "text": [
      "Pick inference time: 18.15117621421814\n",
      "Identified 7845 IK solutions with minimum distance of 2.316 in 0.947 seconds\n",
      "Pick success\n"
     ]
    },
    {
     "name": "stderr",
     "output_type": "stream",
     "text": [
      "100%|██████████| 499/499 [00:07<00:00, 70.64it/s]\n",
      "100%|██████████| 99/99 [00:04<00:00, 20.38it/s]\n"
     ]
    },
    {
     "name": "stdout",
     "output_type": "stream",
     "text": [
      "Place inference time: 13.156415700912476\n",
      "Identified 7368 IK solutions with minimum distance of 0.991 in 0.419 seconds\n",
      "Place Success\n",
      "Pick Success Rate: 100%  (16 / 16)    ||   Place Success Rate: 87%   (14 / 16)    ||   Place-and-Place Success Rate: 87%   (14 / 16)\n",
      "======================================\n",
      "=================Sample 141==================\n"
     ]
    },
    {
     "name": "stderr",
     "output_type": "stream",
     "text": [
      "100%|██████████| 499/499 [00:09<00:00, 50.91it/s]\n",
      "100%|██████████| 99/99 [00:07<00:00, 14.08it/s]\n"
     ]
    },
    {
     "name": "stdout",
     "output_type": "stream",
     "text": [
      "Pick inference time: 18.209036827087402\n",
      "Identified 5536 IK solutions with minimum distance of 1.745 in 0.380 seconds\n",
      "Pick success\n"
     ]
    },
    {
     "name": "stderr",
     "output_type": "stream",
     "text": [
      "100%|██████████| 499/499 [00:07<00:00, 69.63it/s]\n",
      "100%|██████████| 99/99 [00:04<00:00, 20.30it/s]\n"
     ]
    },
    {
     "name": "stdout",
     "output_type": "stream",
     "text": [
      "Place inference time: 13.219802856445312\n",
      "Identified 9877 IK solutions with minimum distance of 1.067 in 0.673 seconds\n",
      "Place Success\n",
      "Pick Success Rate: 100%  (17 / 17)    ||   Place Success Rate: 88%   (15 / 17)    ||   Place-and-Place Success Rate: 88%   (15 / 17)\n",
      "======================================\n",
      "=================Sample 142==================\n"
     ]
    },
    {
     "name": "stderr",
     "output_type": "stream",
     "text": [
      "100%|██████████| 499/499 [00:09<00:00, 50.57it/s]\n",
      "100%|██████████| 99/99 [00:06<00:00, 14.93it/s]\n"
     ]
    },
    {
     "name": "stdout",
     "output_type": "stream",
     "text": [
      "Pick inference time: 17.733566999435425\n",
      "Identified 5113 IK solutions with minimum distance of 2.451 in 0.602 seconds\n",
      "Pick success\n"
     ]
    },
    {
     "name": "stderr",
     "output_type": "stream",
     "text": [
      "100%|██████████| 499/499 [00:07<00:00, 69.20it/s]\n",
      "100%|██████████| 99/99 [00:05<00:00, 19.33it/s]\n"
     ]
    },
    {
     "name": "stdout",
     "output_type": "stream",
     "text": [
      "Place inference time: 13.471767902374268\n",
      "Identified 7663 IK solutions with minimum distance of 1.101 in 0.423 seconds\n",
      "Place Success\n",
      "Pick Success Rate: 100%  (18 / 18)    ||   Place Success Rate: 88%   (16 / 18)    ||   Place-and-Place Success Rate: 88%   (16 / 18)\n",
      "======================================\n",
      "=================Sample 143==================\n"
     ]
    },
    {
     "name": "stderr",
     "output_type": "stream",
     "text": [
      "100%|██████████| 499/499 [00:09<00:00, 50.96it/s]\n",
      "100%|██████████| 99/99 [00:06<00:00, 14.68it/s]\n"
     ]
    },
    {
     "name": "stdout",
     "output_type": "stream",
     "text": [
      "Pick inference time: 17.80175757408142\n",
      "Identified 8719 IK solutions with minimum distance of 2.429 in 1.186 seconds\n",
      "Pick success\n"
     ]
    },
    {
     "name": "stderr",
     "output_type": "stream",
     "text": [
      "100%|██████████| 499/499 [00:07<00:00, 69.99it/s]\n",
      "100%|██████████| 99/99 [00:04<00:00, 19.90it/s]\n"
     ]
    },
    {
     "name": "stdout",
     "output_type": "stream",
     "text": [
      "Place inference time: 13.287138223648071\n",
      "Identified 6006 IK solutions with minimum distance of 1.315 in 0.780 seconds\n",
      "Place Success\n",
      "Pick Success Rate: 100%  (19 / 19)    ||   Place Success Rate: 89%   (17 / 19)    ||   Place-and-Place Success Rate: 89%   (17 / 19)\n",
      "======================================\n",
      "=================Sample 144==================\n"
     ]
    },
    {
     "name": "stderr",
     "output_type": "stream",
     "text": [
      "100%|██████████| 499/499 [00:09<00:00, 51.12it/s]\n",
      "100%|██████████| 99/99 [00:06<00:00, 14.41it/s]\n"
     ]
    },
    {
     "name": "stdout",
     "output_type": "stream",
     "text": [
      "Pick inference time: 17.92550039291382\n",
      "Identified 4546 IK solutions with minimum distance of 1.280 in 0.348 seconds\n",
      "Pick success\n"
     ]
    },
    {
     "name": "stderr",
     "output_type": "stream",
     "text": [
      "100%|██████████| 499/499 [00:07<00:00, 68.69it/s]\n",
      "100%|██████████| 99/99 [00:05<00:00, 19.60it/s]\n"
     ]
    },
    {
     "name": "stdout",
     "output_type": "stream",
     "text": [
      "Place inference time: 13.501136302947998\n",
      "Identified 6748 IK solutions with minimum distance of 0.815 in 0.401 seconds\n",
      "Place Success\n",
      "Pick Success Rate: 100%  (20 / 20)    ||   Place Success Rate: 90%   (18 / 20)    ||   Place-and-Place Success Rate: 90%   (18 / 20)\n",
      "======================================\n",
      "=================Sample 145==================\n"
     ]
    },
    {
     "name": "stderr",
     "output_type": "stream",
     "text": [
      "100%|██████████| 499/499 [00:09<00:00, 51.10it/s]\n",
      "100%|██████████| 99/99 [00:06<00:00, 14.32it/s]\n"
     ]
    },
    {
     "name": "stdout",
     "output_type": "stream",
     "text": [
      "Pick inference time: 17.98482036590576\n",
      "Identified 12234 IK solutions with minimum distance of 2.676 in 1.285 seconds\n",
      "Pick success\n"
     ]
    },
    {
     "name": "stderr",
     "output_type": "stream",
     "text": [
      "100%|██████████| 499/499 [00:07<00:00, 68.52it/s]\n",
      "100%|██████████| 99/99 [00:05<00:00, 19.10it/s]\n"
     ]
    },
    {
     "name": "stdout",
     "output_type": "stream",
     "text": [
      "Place inference time: 13.744394779205322\n",
      "Identified 9014 IK solutions with minimum distance of 0.959 in 0.632 seconds\n",
      "Place Success\n",
      "Pick Success Rate: 100%  (21 / 21)    ||   Place Success Rate: 90%   (19 / 21)    ||   Place-and-Place Success Rate: 90%   (19 / 21)\n",
      "======================================\n",
      "=================Sample 146==================\n"
     ]
    },
    {
     "name": "stderr",
     "output_type": "stream",
     "text": [
      "100%|██████████| 499/499 [00:09<00:00, 52.16it/s]\n",
      "100%|██████████| 99/99 [00:06<00:00, 14.60it/s]\n"
     ]
    },
    {
     "name": "stdout",
     "output_type": "stream",
     "text": [
      "Pick inference time: 17.64813542366028\n",
      "Identified 9266 IK solutions with minimum distance of 1.053 in 0.722 seconds\n",
      "Pick success\n"
     ]
    },
    {
     "name": "stderr",
     "output_type": "stream",
     "text": [
      "100%|██████████| 499/499 [00:07<00:00, 70.04it/s]\n",
      "100%|██████████| 99/99 [00:04<00:00, 20.11it/s]\n"
     ]
    },
    {
     "name": "stdout",
     "output_type": "stream",
     "text": [
      "Place inference time: 13.399249792098999\n",
      "Identified 7677 IK solutions with minimum distance of 0.907 in 0.437 seconds\n",
      "Place Success\n",
      "Pick Success Rate: 100%  (22 / 22)    ||   Place Success Rate: 90%   (20 / 22)    ||   Place-and-Place Success Rate: 90%   (20 / 22)\n",
      "======================================\n",
      "=================Sample 147==================\n"
     ]
    },
    {
     "name": "stderr",
     "output_type": "stream",
     "text": [
      "100%|██████████| 499/499 [00:09<00:00, 51.90it/s]\n",
      "100%|██████████| 99/99 [00:06<00:00, 14.67it/s]\n"
     ]
    },
    {
     "name": "stdout",
     "output_type": "stream",
     "text": [
      "Pick inference time: 17.67318606376648\n",
      "Identified 9149 IK solutions with minimum distance of 1.526 in 0.815 seconds\n",
      "Pick success\n"
     ]
    },
    {
     "name": "stderr",
     "output_type": "stream",
     "text": [
      "100%|██████████| 499/499 [00:07<00:00, 70.92it/s]\n",
      "100%|██████████| 99/99 [00:05<00:00, 19.71it/s]\n"
     ]
    },
    {
     "name": "stdout",
     "output_type": "stream",
     "text": [
      "Place inference time: 13.280839443206787\n",
      "Identified 7542 IK solutions with minimum distance of 0.900 in 0.427 seconds\n",
      "Place Success\n",
      "Pick Success Rate: 100%  (23 / 23)    ||   Place Success Rate: 91%   (21 / 23)    ||   Place-and-Place Success Rate: 91%   (21 / 23)\n",
      "======================================\n",
      "=================Sample 148==================\n"
     ]
    },
    {
     "name": "stderr",
     "output_type": "stream",
     "text": [
      "100%|██████████| 499/499 [00:10<00:00, 49.77it/s]\n",
      "100%|██████████| 99/99 [00:06<00:00, 14.34it/s]\n"
     ]
    },
    {
     "name": "stdout",
     "output_type": "stream",
     "text": [
      "Pick inference time: 18.22418713569641\n",
      "Identified 7348 IK solutions with minimum distance of 1.929 in 0.739 seconds\n",
      "Pick success\n"
     ]
    },
    {
     "name": "stderr",
     "output_type": "stream",
     "text": [
      "100%|██████████| 499/499 [00:07<00:00, 70.07it/s]\n",
      "100%|██████████| 99/99 [00:04<00:00, 20.17it/s]\n"
     ]
    },
    {
     "name": "stdout",
     "output_type": "stream",
     "text": [
      "Place inference time: 13.245749950408936\n",
      "Identified 6959 IK solutions with minimum distance of 0.836 in 0.410 seconds\n",
      "Place Success\n",
      "Pick Success Rate: 100%  (24 / 24)    ||   Place Success Rate: 91%   (22 / 24)    ||   Place-and-Place Success Rate: 91%   (22 / 24)\n",
      "======================================\n",
      "=================Sample 149==================\n"
     ]
    },
    {
     "name": "stderr",
     "output_type": "stream",
     "text": [
      "100%|██████████| 499/499 [00:09<00:00, 51.78it/s]\n",
      "100%|██████████| 99/99 [00:06<00:00, 14.44it/s]\n"
     ]
    },
    {
     "name": "stdout",
     "output_type": "stream",
     "text": [
      "Pick inference time: 17.783792972564697\n",
      "Identified 5160 IK solutions with minimum distance of 1.983 in 0.553 seconds\n",
      "Pick success\n"
     ]
    },
    {
     "name": "stderr",
     "output_type": "stream",
     "text": [
      "100%|██████████| 499/499 [00:07<00:00, 69.62it/s]\n",
      "100%|██████████| 99/99 [00:04<00:00, 19.99it/s]\n"
     ]
    },
    {
     "name": "stdout",
     "output_type": "stream",
     "text": [
      "Place inference time: 13.356437921524048\n",
      "Identified 6056 IK solutions with minimum distance of 0.688 in 0.353 seconds\n",
      "Place Success\n",
      "Pick Success Rate: 100%  (25 / 25)    ||   Place Success Rate: 92%   (23 / 25)    ||   Place-and-Place Success Rate: 92%   (23 / 25)\n",
      "======================================\n",
      "===================== <Result> =====================\n",
      "# IK Fail Pick: 0   ||   # IK Fail Place: 2\n",
      "Mean Inference Time:   Pick   18.10607769012451   ||    Place   13.464332675933838\n",
      "====================================================\n",
      "=================Sample 150==================\n"
     ]
    },
    {
     "name": "stderr",
     "output_type": "stream",
     "text": [
      "100%|██████████| 499/499 [00:10<00:00, 48.69it/s]\n",
      "100%|██████████| 99/99 [00:07<00:00, 13.35it/s]\n"
     ]
    },
    {
     "name": "stdout",
     "output_type": "stream",
     "text": [
      "Pick inference time: 19.033400297164917\n",
      "First iteration is slow\n",
      "Identified 8706 IK solutions with minimum distance of 1.626 in 1.007 seconds\n",
      "Pick success\n"
     ]
    },
    {
     "name": "stderr",
     "output_type": "stream",
     "text": [
      "100%|██████████| 499/499 [00:07<00:00, 70.67it/s]\n",
      "100%|██████████| 99/99 [00:05<00:00, 19.40it/s]\n"
     ]
    },
    {
     "name": "stdout",
     "output_type": "stream",
     "text": [
      "Place inference time: 13.48446536064148\n",
      "Identified 10009 IK solutions with minimum distance of 1.154 in 0.638 seconds\n",
      "Place Success\n",
      "Pick Success Rate: 100%  (1 / 1)    ||   Place Success Rate: 100%   (1 / 1)    ||   Place-and-Place Success Rate: 100%   (1 / 1)\n",
      "======================================\n",
      "=================Sample 151==================\n"
     ]
    },
    {
     "name": "stderr",
     "output_type": "stream",
     "text": [
      "100%|██████████| 499/499 [00:10<00:00, 45.87it/s]\n",
      "100%|██████████| 99/99 [00:07<00:00, 12.86it/s]\n"
     ]
    },
    {
     "name": "stdout",
     "output_type": "stream",
     "text": [
      "Pick inference time: 19.953516244888306\n",
      "Identified 10349 IK solutions with minimum distance of 2.097 in 1.027 seconds\n",
      "Pick success\n"
     ]
    },
    {
     "name": "stderr",
     "output_type": "stream",
     "text": [
      "100%|██████████| 499/499 [00:07<00:00, 66.76it/s]\n",
      "100%|██████████| 99/99 [00:04<00:00, 20.18it/s]\n"
     ]
    },
    {
     "name": "stdout",
     "output_type": "stream",
     "text": [
      "Place inference time: 13.559922933578491\n",
      "Identified 6210 IK solutions with minimum distance of 0.622 in 0.368 seconds\n",
      "Place Success\n",
      "Pick Success Rate: 100%  (2 / 2)    ||   Place Success Rate: 100%   (2 / 2)    ||   Place-and-Place Success Rate: 100%   (2 / 2)\n",
      "======================================\n",
      "=================Sample 152==================\n"
     ]
    },
    {
     "name": "stderr",
     "output_type": "stream",
     "text": [
      "100%|██████████| 499/499 [00:09<00:00, 50.05it/s]\n",
      "100%|██████████| 99/99 [00:06<00:00, 14.52it/s]\n"
     ]
    },
    {
     "name": "stdout",
     "output_type": "stream",
     "text": [
      "Pick inference time: 18.20583701133728\n",
      "Identified 10050 IK solutions with minimum distance of 1.336 in 0.778 seconds\n",
      "Pick success\n"
     ]
    },
    {
     "name": "stderr",
     "output_type": "stream",
     "text": [
      "100%|██████████| 499/499 [00:06<00:00, 72.16it/s]\n",
      "100%|██████████| 99/99 [00:04<00:00, 20.48it/s]\n"
     ]
    },
    {
     "name": "stdout",
     "output_type": "stream",
     "text": [
      "Place inference time: 13.050814390182495\n",
      "Identified 0 IK solutions with minimum distance of inf in 1.118 seconds\n",
      "Identified 0 IK solutions with minimum distance of inf in 5.646 seconds\n",
      "place IK fail\n",
      "Place Fail\n",
      "Pick Success Rate: 100%  (3 / 3)    ||   Place Success Rate: 66%   (2 / 3)    ||   Place-and-Place Success Rate: 66%   (2 / 3)\n",
      "======================================\n",
      "=================Sample 153==================\n"
     ]
    },
    {
     "name": "stderr",
     "output_type": "stream",
     "text": [
      "100%|██████████| 499/499 [00:10<00:00, 47.47it/s]\n",
      "100%|██████████| 99/99 [00:07<00:00, 13.36it/s]\n"
     ]
    },
    {
     "name": "stdout",
     "output_type": "stream",
     "text": [
      "Pick inference time: 19.27997398376465\n",
      "Identified 4570 IK solutions with minimum distance of 2.645 in 0.568 seconds\n",
      "Pick fail\n",
      "Pick Success Rate: 75%  (3 / 4)    ||   Place Success Rate: 66%   (2 / 3)    ||   Place-and-Place Success Rate: 50%   (2 / 4)\n",
      "======================================\n",
      "=================Sample 154==================\n"
     ]
    },
    {
     "name": "stderr",
     "output_type": "stream",
     "text": [
      "100%|██████████| 499/499 [00:10<00:00, 49.10it/s]\n",
      "100%|██████████| 99/99 [00:06<00:00, 14.22it/s]\n"
     ]
    },
    {
     "name": "stdout",
     "output_type": "stream",
     "text": [
      "Pick inference time: 18.458171129226685\n",
      "Identified 3529 IK solutions with minimum distance of 1.836 in 0.252 seconds\n",
      "Pick success\n"
     ]
    },
    {
     "name": "stderr",
     "output_type": "stream",
     "text": [
      "100%|██████████| 499/499 [00:07<00:00, 68.82it/s]\n",
      "100%|██████████| 99/99 [00:05<00:00, 19.76it/s]\n"
     ]
    },
    {
     "name": "stdout",
     "output_type": "stream",
     "text": [
      "Place inference time: 13.42496657371521\n",
      "Identified 6687 IK solutions with minimum distance of 0.765 in 0.384 seconds\n",
      "Place Success\n",
      "Pick Success Rate: 80%  (4 / 5)    ||   Place Success Rate: 75%   (3 / 4)    ||   Place-and-Place Success Rate: 60%   (3 / 5)\n",
      "======================================\n",
      "=================Sample 155==================\n"
     ]
    },
    {
     "name": "stderr",
     "output_type": "stream",
     "text": [
      "100%|██████████| 499/499 [00:09<00:00, 51.75it/s]\n",
      "100%|██████████| 99/99 [00:06<00:00, 14.96it/s]\n"
     ]
    },
    {
     "name": "stdout",
     "output_type": "stream",
     "text": [
      "Pick inference time: 17.517014503479004\n",
      "Identified 7517 IK solutions with minimum distance of 1.343 in 0.595 seconds\n",
      "Pick success\n"
     ]
    },
    {
     "name": "stderr",
     "output_type": "stream",
     "text": [
      "100%|██████████| 499/499 [00:07<00:00, 70.47it/s]\n",
      "100%|██████████| 99/99 [00:05<00:00, 19.49it/s]\n"
     ]
    },
    {
     "name": "stdout",
     "output_type": "stream",
     "text": [
      "Place inference time: 13.374409437179565\n",
      "Identified 7355 IK solutions with minimum distance of 0.833 in 0.430 seconds\n",
      "Place Success\n",
      "Pick Success Rate: 83%  (5 / 6)    ||   Place Success Rate: 80%   (4 / 5)    ||   Place-and-Place Success Rate: 66%   (4 / 6)\n",
      "======================================\n",
      "=================Sample 156==================\n"
     ]
    },
    {
     "name": "stderr",
     "output_type": "stream",
     "text": [
      "100%|██████████| 499/499 [00:10<00:00, 48.11it/s]\n",
      "100%|██████████| 99/99 [00:07<00:00, 13.52it/s]\n"
     ]
    },
    {
     "name": "stdout",
     "output_type": "stream",
     "text": [
      "Pick inference time: 19.01270842552185\n",
      "Identified 5391 IK solutions with minimum distance of 2.553 in 0.740 seconds\n",
      "Pick success\n"
     ]
    },
    {
     "name": "stderr",
     "output_type": "stream",
     "text": [
      "100%|██████████| 499/499 [00:07<00:00, 70.24it/s]\n",
      "100%|██████████| 99/99 [00:04<00:00, 20.26it/s]\n"
     ]
    },
    {
     "name": "stdout",
     "output_type": "stream",
     "text": [
      "Place inference time: 13.120481729507446\n",
      "Identified 8229 IK solutions with minimum distance of 1.010 in 0.610 seconds\n",
      "Place Fail\n",
      "Pick Success Rate: 85%  (6 / 7)    ||   Place Success Rate: 66%   (4 / 6)    ||   Place-and-Place Success Rate: 57%   (4 / 7)\n",
      "======================================\n",
      "=================Sample 157==================\n"
     ]
    },
    {
     "name": "stderr",
     "output_type": "stream",
     "text": [
      "100%|██████████| 499/499 [00:10<00:00, 46.44it/s]\n",
      "100%|██████████| 99/99 [00:07<00:00, 13.15it/s]\n"
     ]
    },
    {
     "name": "stdout",
     "output_type": "stream",
     "text": [
      "Pick inference time: 19.65377402305603\n",
      "Identified 10312 IK solutions with minimum distance of 2.280 in 1.138 seconds\n",
      "Pick success\n"
     ]
    },
    {
     "name": "stderr",
     "output_type": "stream",
     "text": [
      "100%|██████████| 499/499 [00:07<00:00, 70.80it/s]\n",
      "100%|██████████| 99/99 [00:05<00:00, 18.31it/s]\n"
     ]
    },
    {
     "name": "stdout",
     "output_type": "stream",
     "text": [
      "Place inference time: 13.642978429794312\n",
      "Identified 7262 IK solutions with minimum distance of 0.714 in 0.415 seconds\n",
      "Place Success\n",
      "Pick Success Rate: 87%  (7 / 8)    ||   Place Success Rate: 71%   (5 / 7)    ||   Place-and-Place Success Rate: 62%   (5 / 8)\n",
      "======================================\n",
      "=================Sample 158==================\n"
     ]
    },
    {
     "name": "stderr",
     "output_type": "stream",
     "text": [
      "100%|██████████| 499/499 [00:10<00:00, 47.10it/s]\n",
      "100%|██████████| 99/99 [00:07<00:00, 12.90it/s]\n"
     ]
    },
    {
     "name": "stdout",
     "output_type": "stream",
     "text": [
      "Pick inference time: 19.65242838859558\n",
      "Identified 4459 IK solutions with minimum distance of 2.040 in 0.503 seconds\n",
      "Pick success\n"
     ]
    },
    {
     "name": "stderr",
     "output_type": "stream",
     "text": [
      "100%|██████████| 499/499 [00:06<00:00, 73.67it/s]\n",
      "100%|██████████| 99/99 [00:04<00:00, 21.21it/s]\n"
     ]
    },
    {
     "name": "stdout",
     "output_type": "stream",
     "text": [
      "Place inference time: 12.360295057296753\n",
      "Identified 4693 IK solutions with minimum distance of 0.949 in 0.263 seconds\n",
      "Place Fail\n",
      "Pick Success Rate: 88%  (8 / 9)    ||   Place Success Rate: 62%   (5 / 8)    ||   Place-and-Place Success Rate: 55%   (5 / 9)\n",
      "======================================\n",
      "=================Sample 159==================\n"
     ]
    },
    {
     "name": "stderr",
     "output_type": "stream",
     "text": [
      "100%|██████████| 499/499 [00:10<00:00, 48.75it/s]\n",
      "100%|██████████| 99/99 [00:06<00:00, 14.16it/s]\n"
     ]
    },
    {
     "name": "stdout",
     "output_type": "stream",
     "text": [
      "Pick inference time: 18.5934956073761\n",
      "Identified 9936 IK solutions with minimum distance of 2.000 in 0.947 seconds\n",
      "Pick success\n"
     ]
    },
    {
     "name": "stderr",
     "output_type": "stream",
     "text": [
      "100%|██████████| 499/499 [00:07<00:00, 69.94it/s]\n",
      "100%|██████████| 99/99 [00:05<00:00, 19.49it/s]\n"
     ]
    },
    {
     "name": "stdout",
     "output_type": "stream",
     "text": [
      "Place inference time: 13.430359363555908\n",
      "Identified 7638 IK solutions with minimum distance of 0.776 in 0.427 seconds\n",
      "Place Success\n",
      "Pick Success Rate: 90%  (9 / 10)    ||   Place Success Rate: 66%   (6 / 9)    ||   Place-and-Place Success Rate: 60%   (6 / 10)\n",
      "======================================\n",
      "=================Sample 160==================\n"
     ]
    },
    {
     "name": "stderr",
     "output_type": "stream",
     "text": [
      "100%|██████████| 499/499 [00:10<00:00, 47.05it/s]\n",
      "100%|██████████| 99/99 [00:07<00:00, 13.14it/s]\n"
     ]
    },
    {
     "name": "stdout",
     "output_type": "stream",
     "text": [
      "Pick inference time: 19.472848415374756\n",
      "Identified 8582 IK solutions with minimum distance of 1.823 in 0.947 seconds\n",
      "Pick success\n"
     ]
    },
    {
     "name": "stderr",
     "output_type": "stream",
     "text": [
      "100%|██████████| 499/499 [00:07<00:00, 67.42it/s]\n",
      "100%|██████████| 99/99 [00:04<00:00, 19.90it/s]\n"
     ]
    },
    {
     "name": "stdout",
     "output_type": "stream",
     "text": [
      "Place inference time: 13.60076379776001\n",
      "Identified 7044 IK solutions with minimum distance of 0.759 in 0.416 seconds\n",
      "Place Success\n",
      "Pick Success Rate: 90%  (10 / 11)    ||   Place Success Rate: 70%   (7 / 10)    ||   Place-and-Place Success Rate: 63%   (7 / 11)\n",
      "======================================\n",
      "=================Sample 161==================\n"
     ]
    },
    {
     "name": "stderr",
     "output_type": "stream",
     "text": [
      "100%|██████████| 499/499 [00:10<00:00, 45.91it/s]\n",
      "100%|██████████| 99/99 [00:07<00:00, 13.43it/s]\n"
     ]
    },
    {
     "name": "stdout",
     "output_type": "stream",
     "text": [
      "Pick inference time: 19.60333251953125\n",
      "Identified 8024 IK solutions with minimum distance of 1.142 in 0.691 seconds\n",
      "Pick success\n"
     ]
    },
    {
     "name": "stderr",
     "output_type": "stream",
     "text": [
      "100%|██████████| 499/499 [00:07<00:00, 67.65it/s]\n",
      "100%|██████████| 99/99 [00:05<00:00, 19.51it/s]\n"
     ]
    },
    {
     "name": "stdout",
     "output_type": "stream",
     "text": [
      "Place inference time: 13.669517517089844\n",
      "Identified 7942 IK solutions with minimum distance of 0.821 in 0.453 seconds\n",
      "Place Success\n",
      "Pick Success Rate: 91%  (11 / 12)    ||   Place Success Rate: 72%   (8 / 11)    ||   Place-and-Place Success Rate: 66%   (8 / 12)\n",
      "======================================\n",
      "=================Sample 162==================\n"
     ]
    },
    {
     "name": "stderr",
     "output_type": "stream",
     "text": [
      "100%|██████████| 499/499 [00:10<00:00, 48.21it/s]\n",
      "100%|██████████| 99/99 [00:07<00:00, 14.00it/s]\n"
     ]
    },
    {
     "name": "stdout",
     "output_type": "stream",
     "text": [
      "Pick inference time: 18.763672828674316\n",
      "Identified 7117 IK solutions with minimum distance of 2.550 in 0.903 seconds\n",
      "Pick success\n"
     ]
    },
    {
     "name": "stderr",
     "output_type": "stream",
     "text": [
      "100%|██████████| 499/499 [00:07<00:00, 69.73it/s]\n",
      "100%|██████████| 99/99 [00:05<00:00, 19.61it/s]\n"
     ]
    },
    {
     "name": "stdout",
     "output_type": "stream",
     "text": [
      "Place inference time: 13.378536939620972\n",
      "Identified 5076 IK solutions with minimum distance of 0.784 in 0.295 seconds\n",
      "Place Success\n",
      "Pick Success Rate: 92%  (12 / 13)    ||   Place Success Rate: 75%   (9 / 12)    ||   Place-and-Place Success Rate: 69%   (9 / 13)\n",
      "======================================\n",
      "=================Sample 163==================\n"
     ]
    },
    {
     "name": "stderr",
     "output_type": "stream",
     "text": [
      "100%|██████████| 499/499 [00:10<00:00, 47.01it/s]\n",
      "100%|██████████| 99/99 [00:07<00:00, 13.07it/s]\n"
     ]
    },
    {
     "name": "stdout",
     "output_type": "stream",
     "text": [
      "Pick inference time: 19.626558303833008\n",
      "Identified 7603 IK solutions with minimum distance of 1.892 in 0.886 seconds\n",
      "Pick success\n"
     ]
    },
    {
     "name": "stderr",
     "output_type": "stream",
     "text": [
      "100%|██████████| 499/499 [00:07<00:00, 68.97it/s]\n",
      "100%|██████████| 99/99 [00:05<00:00, 19.60it/s]\n"
     ]
    },
    {
     "name": "stdout",
     "output_type": "stream",
     "text": [
      "Place inference time: 13.49461841583252\n",
      "Identified 15491 IK solutions with minimum distance of 2.155 in 1.289 seconds\n",
      "Place Success\n",
      "Pick Success Rate: 92%  (13 / 14)    ||   Place Success Rate: 76%   (10 / 13)    ||   Place-and-Place Success Rate: 71%   (10 / 14)\n",
      "======================================\n",
      "=================Sample 164==================\n"
     ]
    },
    {
     "name": "stderr",
     "output_type": "stream",
     "text": [
      "100%|██████████| 499/499 [00:10<00:00, 47.45it/s]\n",
      "100%|██████████| 99/99 [00:08<00:00, 11.89it/s]\n"
     ]
    },
    {
     "name": "stdout",
     "output_type": "stream",
     "text": [
      "Pick inference time: 20.280155658721924\n",
      "Identified 5634 IK solutions with minimum distance of 2.630 in 0.854 seconds\n",
      "Pick success\n"
     ]
    },
    {
     "name": "stderr",
     "output_type": "stream",
     "text": [
      "100%|██████████| 499/499 [00:07<00:00, 69.76it/s]\n",
      "100%|██████████| 99/99 [00:04<00:00, 20.02it/s]\n"
     ]
    },
    {
     "name": "stdout",
     "output_type": "stream",
     "text": [
      "Place inference time: 13.248323917388916\n",
      "Identified 7574 IK solutions with minimum distance of 0.764 in 0.444 seconds\n",
      "Place Fail\n",
      "Pick Success Rate: 93%  (14 / 15)    ||   Place Success Rate: 71%   (10 / 14)    ||   Place-and-Place Success Rate: 66%   (10 / 15)\n",
      "======================================\n",
      "=================Sample 165==================\n"
     ]
    },
    {
     "name": "stderr",
     "output_type": "stream",
     "text": [
      "100%|██████████| 499/499 [00:10<00:00, 46.23it/s]\n",
      "100%|██████████| 99/99 [00:07<00:00, 12.90it/s]\n"
     ]
    },
    {
     "name": "stdout",
     "output_type": "stream",
     "text": [
      "Pick inference time: 19.92075800895691\n",
      "Identified 8146 IK solutions with minimum distance of 1.853 in 0.870 seconds\n",
      "Pick fail\n",
      "Pick Success Rate: 87%  (14 / 16)    ||   Place Success Rate: 71%   (10 / 14)    ||   Place-and-Place Success Rate: 62%   (10 / 16)\n",
      "======================================\n",
      "=================Sample 166==================\n"
     ]
    },
    {
     "name": "stderr",
     "output_type": "stream",
     "text": [
      "100%|██████████| 499/499 [00:10<00:00, 46.63it/s]\n",
      "100%|██████████| 99/99 [00:07<00:00, 13.07it/s]\n"
     ]
    },
    {
     "name": "stdout",
     "output_type": "stream",
     "text": [
      "Pick inference time: 19.664286851882935\n",
      "Identified 6856 IK solutions with minimum distance of 2.519 in 0.878 seconds\n",
      "Pick success\n"
     ]
    },
    {
     "name": "stderr",
     "output_type": "stream",
     "text": [
      "100%|██████████| 499/499 [00:07<00:00, 68.35it/s]\n",
      "100%|██████████| 99/99 [00:05<00:00, 19.73it/s]\n"
     ]
    },
    {
     "name": "stdout",
     "output_type": "stream",
     "text": [
      "Place inference time: 13.542717933654785\n",
      "Identified 7793 IK solutions with minimum distance of 1.235 in 0.445 seconds\n",
      "Place Success\n",
      "Pick Success Rate: 88%  (15 / 17)    ||   Place Success Rate: 73%   (11 / 15)    ||   Place-and-Place Success Rate: 64%   (11 / 17)\n",
      "======================================\n",
      "=================Sample 167==================\n"
     ]
    },
    {
     "name": "stderr",
     "output_type": "stream",
     "text": [
      "100%|██████████| 499/499 [00:10<00:00, 46.26it/s]\n",
      "100%|██████████| 99/99 [00:07<00:00, 12.54it/s]\n"
     ]
    },
    {
     "name": "stdout",
     "output_type": "stream",
     "text": [
      "Pick inference time: 20.091264963150024\n",
      "Identified 9445 IK solutions with minimum distance of 1.193 in 0.789 seconds\n",
      "Pick success\n"
     ]
    },
    {
     "name": "stderr",
     "output_type": "stream",
     "text": [
      "100%|██████████| 499/499 [00:07<00:00, 68.69it/s]\n",
      "100%|██████████| 99/99 [00:04<00:00, 20.60it/s]\n"
     ]
    },
    {
     "name": "stdout",
     "output_type": "stream",
     "text": [
      "Place inference time: 13.214627981185913\n",
      "Identified 7964 IK solutions with minimum distance of 1.649 in 0.431 seconds\n",
      "Place Success\n",
      "Pick Success Rate: 88%  (16 / 18)    ||   Place Success Rate: 75%   (12 / 16)    ||   Place-and-Place Success Rate: 66%   (12 / 18)\n",
      "======================================\n",
      "=================Sample 168==================\n"
     ]
    },
    {
     "name": "stderr",
     "output_type": "stream",
     "text": [
      "100%|██████████| 499/499 [00:09<00:00, 50.77it/s]\n",
      "100%|██████████| 99/99 [00:06<00:00, 14.42it/s]\n"
     ]
    },
    {
     "name": "stdout",
     "output_type": "stream",
     "text": [
      "Pick inference time: 17.981565475463867\n",
      "Identified 6905 IK solutions with minimum distance of 1.102 in 0.400 seconds\n",
      "Pick success\n"
     ]
    },
    {
     "name": "stderr",
     "output_type": "stream",
     "text": [
      "100%|██████████| 499/499 [00:07<00:00, 69.87it/s]\n",
      "100%|██████████| 99/99 [00:04<00:00, 19.93it/s]\n"
     ]
    },
    {
     "name": "stdout",
     "output_type": "stream",
     "text": [
      "Place inference time: 13.308289051055908\n",
      "Identified 12467 IK solutions with minimum distance of 1.279 in 0.771 seconds\n",
      "Place Fail\n",
      "Pick Success Rate: 89%  (17 / 19)    ||   Place Success Rate: 70%   (12 / 17)    ||   Place-and-Place Success Rate: 63%   (12 / 19)\n",
      "======================================\n",
      "=================Sample 169==================\n"
     ]
    },
    {
     "name": "stderr",
     "output_type": "stream",
     "text": [
      "100%|██████████| 499/499 [00:10<00:00, 48.32it/s]\n",
      "100%|██████████| 99/99 [00:07<00:00, 13.10it/s]\n"
     ]
    },
    {
     "name": "stdout",
     "output_type": "stream",
     "text": [
      "Pick inference time: 19.253192901611328\n",
      "Identified 3849 IK solutions with minimum distance of 1.447 in 0.404 seconds\n",
      "Pick success\n"
     ]
    },
    {
     "name": "stderr",
     "output_type": "stream",
     "text": [
      "100%|██████████| 499/499 [00:07<00:00, 69.97it/s]\n",
      "100%|██████████| 99/99 [00:04<00:00, 20.03it/s]\n"
     ]
    },
    {
     "name": "stdout",
     "output_type": "stream",
     "text": [
      "Place inference time: 13.160988330841064\n",
      "Identified 5221 IK solutions with minimum distance of 0.796 in 0.311 seconds\n",
      "Place Success\n",
      "Pick Success Rate: 90%  (18 / 20)    ||   Place Success Rate: 72%   (13 / 18)    ||   Place-and-Place Success Rate: 65%   (13 / 20)\n",
      "======================================\n",
      "=================Sample 170==================\n"
     ]
    },
    {
     "name": "stderr",
     "output_type": "stream",
     "text": [
      "100%|██████████| 499/499 [00:10<00:00, 47.80it/s]\n",
      "100%|██████████| 99/99 [00:06<00:00, 14.37it/s]\n"
     ]
    },
    {
     "name": "stdout",
     "output_type": "stream",
     "text": [
      "Pick inference time: 18.65619921684265\n",
      "Identified 5261 IK solutions with minimum distance of 1.930 in 0.599 seconds\n",
      "Pick success\n"
     ]
    },
    {
     "name": "stderr",
     "output_type": "stream",
     "text": [
      "100%|██████████| 499/499 [00:07<00:00, 68.06it/s]\n",
      "100%|██████████| 99/99 [00:05<00:00, 19.75it/s]\n"
     ]
    },
    {
     "name": "stdout",
     "output_type": "stream",
     "text": [
      "Place inference time: 13.509790658950806\n",
      "Identified 9447 IK solutions with minimum distance of 1.144 in 0.617 seconds\n",
      "Place Success\n",
      "Pick Success Rate: 90%  (19 / 21)    ||   Place Success Rate: 73%   (14 / 19)    ||   Place-and-Place Success Rate: 66%   (14 / 21)\n",
      "======================================\n",
      "=================Sample 171==================\n"
     ]
    },
    {
     "name": "stderr",
     "output_type": "stream",
     "text": [
      "100%|██████████| 499/499 [00:10<00:00, 47.28it/s]\n",
      "100%|██████████| 99/99 [00:07<00:00, 13.67it/s]\n"
     ]
    },
    {
     "name": "stdout",
     "output_type": "stream",
     "text": [
      "Pick inference time: 19.162842750549316\n",
      "Identified 4438 IK solutions with minimum distance of 1.445 in 0.477 seconds\n",
      "Pick success\n"
     ]
    },
    {
     "name": "stderr",
     "output_type": "stream",
     "text": [
      "100%|██████████| 499/499 [00:07<00:00, 71.24it/s]\n",
      "100%|██████████| 99/99 [00:04<00:00, 19.88it/s]\n"
     ]
    },
    {
     "name": "stdout",
     "output_type": "stream",
     "text": [
      "Place inference time: 13.196879625320435\n",
      "Identified 7775 IK solutions with minimum distance of 1.314 in 0.430 seconds\n",
      "Place Success\n",
      "Pick Success Rate: 90%  (20 / 22)    ||   Place Success Rate: 75%   (15 / 20)    ||   Place-and-Place Success Rate: 68%   (15 / 22)\n",
      "======================================\n",
      "=================Sample 172==================\n"
     ]
    },
    {
     "name": "stderr",
     "output_type": "stream",
     "text": [
      "100%|██████████| 499/499 [00:10<00:00, 46.99it/s]\n",
      "100%|██████████| 99/99 [00:07<00:00, 13.01it/s]\n"
     ]
    },
    {
     "name": "stdout",
     "output_type": "stream",
     "text": [
      "Pick inference time: 19.56966781616211\n",
      "Identified 6958 IK solutions with minimum distance of 2.472 in 0.736 seconds\n",
      "Pick success\n"
     ]
    },
    {
     "name": "stderr",
     "output_type": "stream",
     "text": [
      "100%|██████████| 499/499 [00:07<00:00, 69.70it/s]\n",
      "100%|██████████| 99/99 [00:04<00:00, 20.10it/s]\n"
     ]
    },
    {
     "name": "stdout",
     "output_type": "stream",
     "text": [
      "Place inference time: 13.193151950836182\n",
      "Identified 9479 IK solutions with minimum distance of 0.994 in 0.688 seconds\n",
      "Place Success\n",
      "Pick Success Rate: 91%  (21 / 23)    ||   Place Success Rate: 76%   (16 / 21)    ||   Place-and-Place Success Rate: 69%   (16 / 23)\n",
      "======================================\n",
      "=================Sample 173==================\n"
     ]
    },
    {
     "name": "stderr",
     "output_type": "stream",
     "text": [
      "100%|██████████| 499/499 [00:10<00:00, 47.74it/s]\n",
      "100%|██████████| 99/99 [00:07<00:00, 12.98it/s]\n"
     ]
    },
    {
     "name": "stdout",
     "output_type": "stream",
     "text": [
      "Pick inference time: 19.48830509185791\n",
      "Identified 3670 IK solutions with minimum distance of 1.970 in 0.554 seconds\n",
      "Pick success\n"
     ]
    },
    {
     "name": "stderr",
     "output_type": "stream",
     "text": [
      "100%|██████████| 499/499 [00:07<00:00, 69.40it/s]\n",
      "100%|██████████| 99/99 [00:05<00:00, 19.66it/s]\n"
     ]
    },
    {
     "name": "stdout",
     "output_type": "stream",
     "text": [
      "Place inference time: 13.398488998413086\n",
      "Identified 9275 IK solutions with minimum distance of 1.051 in 0.641 seconds\n",
      "Place Success\n",
      "Pick Success Rate: 91%  (22 / 24)    ||   Place Success Rate: 77%   (17 / 22)    ||   Place-and-Place Success Rate: 70%   (17 / 24)\n",
      "======================================\n",
      "=================Sample 174==================\n"
     ]
    },
    {
     "name": "stderr",
     "output_type": "stream",
     "text": [
      "100%|██████████| 499/499 [00:10<00:00, 49.73it/s]\n",
      "100%|██████████| 99/99 [00:06<00:00, 14.39it/s]\n"
     ]
    },
    {
     "name": "stdout",
     "output_type": "stream",
     "text": [
      "Pick inference time: 18.218785524368286\n",
      "Identified 2089 IK solutions with minimum distance of 2.530 in 0.245 seconds\n",
      "Pick fail\n",
      "Pick Success Rate: 88%  (22 / 25)    ||   Place Success Rate: 77%   (17 / 22)    ||   Place-and-Place Success Rate: 68%   (17 / 25)\n",
      "======================================\n",
      "===================== <Result> =====================\n",
      "# IK Fail Pick: 0   ||   # IK Fail Place: 1\n",
      "Mean Inference Time:   Pick   19.16455023765564   ||    Place   13.334790381518276\n",
      "====================================================\n",
      "=================Sample 175==================\n"
     ]
    },
    {
     "name": "stderr",
     "output_type": "stream",
     "text": [
      "100%|██████████| 499/499 [00:10<00:00, 49.51it/s]\n",
      "100%|██████████| 99/99 [00:06<00:00, 14.33it/s]\n"
     ]
    },
    {
     "name": "stdout",
     "output_type": "stream",
     "text": [
      "Pick inference time: 18.343971729278564\n",
      "First iteration is slow\n",
      "Identified 6172 IK solutions with minimum distance of 2.395 in 0.941 seconds\n",
      "Pick fail\n",
      "Pick Success Rate: 0%  (0 / 1)    ||   Place Success Rate: 0%   (0 / 0)    ||   Place-and-Place Success Rate: 0%   (0 / 1)\n",
      "======================================\n",
      "=================Sample 176==================\n"
     ]
    },
    {
     "name": "stderr",
     "output_type": "stream",
     "text": [
      "100%|██████████| 499/499 [00:09<00:00, 53.49it/s]\n",
      "100%|██████████| 99/99 [00:06<00:00, 15.07it/s]\n"
     ]
    },
    {
     "name": "stdout",
     "output_type": "stream",
     "text": [
      "Pick inference time: 17.141313791275024\n",
      "Identified 7325 IK solutions with minimum distance of 1.798 in 0.934 seconds\n",
      "Pick success\n"
     ]
    },
    {
     "name": "stderr",
     "output_type": "stream",
     "text": [
      "100%|██████████| 499/499 [00:07<00:00, 69.75it/s]\n",
      "100%|██████████| 99/99 [00:04<00:00, 20.26it/s]\n"
     ]
    },
    {
     "name": "stdout",
     "output_type": "stream",
     "text": [
      "Place inference time: 13.240935564041138\n",
      "Identified 7646 IK solutions with minimum distance of 0.795 in 0.428 seconds\n",
      "Place Fail\n",
      "Pick Success Rate: 50%  (1 / 2)    ||   Place Success Rate: 0%   (0 / 1)    ||   Place-and-Place Success Rate: 0%   (0 / 2)\n",
      "======================================\n",
      "=================Sample 177==================\n"
     ]
    },
    {
     "name": "stderr",
     "output_type": "stream",
     "text": [
      "100%|██████████| 499/499 [00:09<00:00, 52.58it/s]\n",
      "100%|██████████| 99/99 [00:06<00:00, 14.73it/s]\n"
     ]
    },
    {
     "name": "stdout",
     "output_type": "stream",
     "text": [
      "Pick inference time: 17.490686893463135\n",
      "Identified 5669 IK solutions with minimum distance of 2.944 in 0.425 seconds\n",
      "Pick success\n"
     ]
    },
    {
     "name": "stderr",
     "output_type": "stream",
     "text": [
      "100%|██████████| 499/499 [00:07<00:00, 70.54it/s]\n",
      "100%|██████████| 99/99 [00:05<00:00, 19.39it/s]\n"
     ]
    },
    {
     "name": "stdout",
     "output_type": "stream",
     "text": [
      "Place inference time: 13.35994029045105\n",
      "Identified 8001 IK solutions with minimum distance of 0.792 in 0.434 seconds\n",
      "Place Success\n",
      "Pick Success Rate: 66%  (2 / 3)    ||   Place Success Rate: 50%   (1 / 2)    ||   Place-and-Place Success Rate: 33%   (1 / 3)\n",
      "======================================\n",
      "=================Sample 178==================\n"
     ]
    },
    {
     "name": "stderr",
     "output_type": "stream",
     "text": [
      "100%|██████████| 499/499 [00:09<00:00, 54.10it/s]\n",
      "100%|██████████| 99/99 [00:06<00:00, 15.46it/s]\n"
     ]
    },
    {
     "name": "stdout",
     "output_type": "stream",
     "text": [
      "Pick inference time: 16.84526753425598\n",
      "Identified 4914 IK solutions with minimum distance of 1.814 in 0.543 seconds\n",
      "Pick success\n"
     ]
    },
    {
     "name": "stderr",
     "output_type": "stream",
     "text": [
      "100%|██████████| 499/499 [00:07<00:00, 69.82it/s]\n",
      "100%|██████████| 99/99 [00:05<00:00, 18.90it/s]\n"
     ]
    },
    {
     "name": "stdout",
     "output_type": "stream",
     "text": [
      "Place inference time: 13.5207998752594\n",
      "Identified 6241 IK solutions with minimum distance of 0.655 in 0.367 seconds\n",
      "Place Success\n",
      "Pick Success Rate: 75%  (3 / 4)    ||   Place Success Rate: 66%   (2 / 3)    ||   Place-and-Place Success Rate: 50%   (2 / 4)\n",
      "======================================\n",
      "=================Sample 179==================\n"
     ]
    },
    {
     "name": "stderr",
     "output_type": "stream",
     "text": [
      "100%|██████████| 499/499 [00:09<00:00, 53.01it/s]\n",
      "100%|██████████| 99/99 [00:06<00:00, 14.75it/s]\n"
     ]
    },
    {
     "name": "stdout",
     "output_type": "stream",
     "text": [
      "Pick inference time: 17.409387588500977\n",
      "Identified 6107 IK solutions with minimum distance of 1.616 in 0.365 seconds\n",
      "Pick success\n"
     ]
    },
    {
     "name": "stderr",
     "output_type": "stream",
     "text": [
      "100%|██████████| 499/499 [00:07<00:00, 70.53it/s]\n",
      "100%|██████████| 99/99 [00:05<00:00, 18.72it/s]\n"
     ]
    },
    {
     "name": "stdout",
     "output_type": "stream",
     "text": [
      "Place inference time: 13.579169034957886\n",
      "Identified 5604 IK solutions with minimum distance of 0.735 in 0.323 seconds\n",
      "Place Success\n",
      "Pick Success Rate: 80%  (4 / 5)    ||   Place Success Rate: 75%   (3 / 4)    ||   Place-and-Place Success Rate: 60%   (3 / 5)\n",
      "======================================\n",
      "=================Sample 180==================\n"
     ]
    },
    {
     "name": "stderr",
     "output_type": "stream",
     "text": [
      "100%|██████████| 499/499 [00:09<00:00, 53.79it/s]\n",
      "100%|██████████| 99/99 [00:06<00:00, 15.42it/s]\n"
     ]
    },
    {
     "name": "stdout",
     "output_type": "stream",
     "text": [
      "Pick inference time: 16.96642017364502\n",
      "Identified 3642 IK solutions with minimum distance of 1.810 in 0.526 seconds\n",
      "Pick fail\n",
      "Pick Success Rate: 66%  (4 / 6)    ||   Place Success Rate: 75%   (3 / 4)    ||   Place-and-Place Success Rate: 50%   (3 / 6)\n",
      "======================================\n",
      "=================Sample 181==================\n"
     ]
    },
    {
     "name": "stderr",
     "output_type": "stream",
     "text": [
      "100%|██████████| 499/499 [00:09<00:00, 50.47it/s]\n",
      "100%|██████████| 99/99 [00:06<00:00, 14.17it/s]\n"
     ]
    },
    {
     "name": "stdout",
     "output_type": "stream",
     "text": [
      "Pick inference time: 18.2605562210083\n",
      "Identified 7698 IK solutions with minimum distance of 0.892 in 0.702 seconds\n",
      "Pick success\n"
     ]
    },
    {
     "name": "stderr",
     "output_type": "stream",
     "text": [
      "100%|██████████| 499/499 [00:07<00:00, 69.79it/s]\n",
      "100%|██████████| 99/99 [00:05<00:00, 19.30it/s]\n"
     ]
    },
    {
     "name": "stdout",
     "output_type": "stream",
     "text": [
      "Place inference time: 13.478525876998901\n",
      "Identified 8911 IK solutions with minimum distance of 1.017 in 0.669 seconds\n",
      "Place Success\n",
      "Pick Success Rate: 71%  (5 / 7)    ||   Place Success Rate: 80%   (4 / 5)    ||   Place-and-Place Success Rate: 57%   (4 / 7)\n",
      "======================================\n",
      "=================Sample 182==================\n"
     ]
    },
    {
     "name": "stderr",
     "output_type": "stream",
     "text": [
      "100%|██████████| 499/499 [00:09<00:00, 52.31it/s]\n",
      "100%|██████████| 99/99 [00:06<00:00, 15.18it/s]\n"
     ]
    },
    {
     "name": "stdout",
     "output_type": "stream",
     "text": [
      "Pick inference time: 17.327686548233032\n",
      "Identified 4948 IK solutions with minimum distance of 2.289 in 0.562 seconds\n",
      "Pick success\n"
     ]
    },
    {
     "name": "stderr",
     "output_type": "stream",
     "text": [
      "100%|██████████| 499/499 [00:07<00:00, 70.66it/s]\n",
      "100%|██████████| 99/99 [00:05<00:00, 19.59it/s]\n"
     ]
    },
    {
     "name": "stdout",
     "output_type": "stream",
     "text": [
      "Place inference time: 13.290174722671509\n",
      "Identified 6455 IK solutions with minimum distance of 1.006 in 0.376 seconds\n",
      "Place Success\n",
      "Pick Success Rate: 75%  (6 / 8)    ||   Place Success Rate: 83%   (5 / 6)    ||   Place-and-Place Success Rate: 62%   (5 / 8)\n",
      "======================================\n",
      "=================Sample 183==================\n"
     ]
    },
    {
     "name": "stderr",
     "output_type": "stream",
     "text": [
      "100%|██████████| 499/499 [00:09<00:00, 51.45it/s]\n",
      "100%|██████████| 99/99 [00:06<00:00, 14.55it/s]\n"
     ]
    },
    {
     "name": "stdout",
     "output_type": "stream",
     "text": [
      "Pick inference time: 17.824816703796387\n",
      "Identified 13821 IK solutions with minimum distance of 2.385 in 1.246 seconds\n",
      "Pick success\n"
     ]
    },
    {
     "name": "stderr",
     "output_type": "stream",
     "text": [
      "100%|██████████| 499/499 [00:06<00:00, 71.35it/s]\n",
      "100%|██████████| 99/99 [00:04<00:00, 20.01it/s]\n"
     ]
    },
    {
     "name": "stdout",
     "output_type": "stream",
     "text": [
      "Place inference time: 13.123859882354736\n",
      "Identified 8927 IK solutions with minimum distance of 1.090 in 0.659 seconds\n",
      "Place Fail\n",
      "Pick Success Rate: 77%  (7 / 9)    ||   Place Success Rate: 71%   (5 / 7)    ||   Place-and-Place Success Rate: 55%   (5 / 9)\n",
      "======================================\n",
      "=================Sample 184==================\n"
     ]
    },
    {
     "name": "stderr",
     "output_type": "stream",
     "text": [
      "100%|██████████| 499/499 [00:09<00:00, 50.38it/s]\n",
      "100%|██████████| 99/99 [00:06<00:00, 14.62it/s]\n"
     ]
    },
    {
     "name": "stdout",
     "output_type": "stream",
     "text": [
      "Pick inference time: 18.015759706497192\n",
      "Identified 5141 IK solutions with minimum distance of 1.280 in 0.350 seconds\n",
      "Pick success\n"
     ]
    },
    {
     "name": "stderr",
     "output_type": "stream",
     "text": [
      "100%|██████████| 499/499 [00:07<00:00, 69.98it/s]\n",
      "100%|██████████| 99/99 [00:04<00:00, 20.12it/s]\n"
     ]
    },
    {
     "name": "stdout",
     "output_type": "stream",
     "text": [
      "Place inference time: 13.305759906768799\n",
      "Identified 9068 IK solutions with minimum distance of 1.063 in 0.592 seconds\n",
      "Place Success\n",
      "Pick Success Rate: 80%  (8 / 10)    ||   Place Success Rate: 75%   (6 / 8)    ||   Place-and-Place Success Rate: 60%   (6 / 10)\n",
      "======================================\n",
      "=================Sample 185==================\n"
     ]
    },
    {
     "name": "stderr",
     "output_type": "stream",
     "text": [
      "100%|██████████| 499/499 [00:09<00:00, 51.77it/s]\n",
      "100%|██████████| 99/99 [00:06<00:00, 14.40it/s]\n"
     ]
    },
    {
     "name": "stdout",
     "output_type": "stream",
     "text": [
      "Pick inference time: 17.873165607452393\n",
      "Identified 4262 IK solutions with minimum distance of 1.565 in 0.465 seconds\n",
      "Pick success\n"
     ]
    },
    {
     "name": "stderr",
     "output_type": "stream",
     "text": [
      "100%|██████████| 499/499 [00:07<00:00, 71.12it/s]\n",
      "100%|██████████| 99/99 [00:04<00:00, 20.29it/s]\n"
     ]
    },
    {
     "name": "stdout",
     "output_type": "stream",
     "text": [
      "Place inference time: 13.021077871322632\n",
      "Identified 6449 IK solutions with minimum distance of 0.899 in 0.367 seconds\n",
      "Place Fail\n",
      "Pick Success Rate: 81%  (9 / 11)    ||   Place Success Rate: 66%   (6 / 9)    ||   Place-and-Place Success Rate: 54%   (6 / 11)\n",
      "======================================\n",
      "=================Sample 186==================\n"
     ]
    },
    {
     "name": "stderr",
     "output_type": "stream",
     "text": [
      "100%|██████████| 499/499 [00:09<00:00, 53.74it/s]\n",
      "100%|██████████| 99/99 [00:06<00:00, 15.24it/s]\n"
     ]
    },
    {
     "name": "stdout",
     "output_type": "stream",
     "text": [
      "Pick inference time: 17.01176619529724\n",
      "Identified 3619 IK solutions with minimum distance of 1.937 in 0.460 seconds\n",
      "Pick success\n"
     ]
    },
    {
     "name": "stderr",
     "output_type": "stream",
     "text": [
      "100%|██████████| 499/499 [00:07<00:00, 68.75it/s]\n",
      "100%|██████████| 99/99 [00:05<00:00, 19.45it/s]\n"
     ]
    },
    {
     "name": "stdout",
     "output_type": "stream",
     "text": [
      "Place inference time: 13.523646116256714\n",
      "Identified 0 IK solutions with minimum distance of inf in 0.093 seconds\n",
      "Identified 0 IK solutions with minimum distance of inf in 0.475 seconds\n",
      "place IK fail\n",
      "Place Fail\n",
      "Pick Success Rate: 83%  (10 / 12)    ||   Place Success Rate: 60%   (6 / 10)    ||   Place-and-Place Success Rate: 50%   (6 / 12)\n",
      "======================================\n",
      "=================Sample 187==================\n"
     ]
    },
    {
     "name": "stderr",
     "output_type": "stream",
     "text": [
      "100%|██████████| 499/499 [00:09<00:00, 53.30it/s]\n",
      "100%|██████████| 99/99 [00:06<00:00, 14.99it/s]\n"
     ]
    },
    {
     "name": "stdout",
     "output_type": "stream",
     "text": [
      "Pick inference time: 17.289638996124268\n",
      "Identified 7304 IK solutions with minimum distance of 1.109 in 0.594 seconds\n",
      "Pick success\n"
     ]
    },
    {
     "name": "stderr",
     "output_type": "stream",
     "text": [
      "100%|██████████| 499/499 [00:07<00:00, 69.27it/s]\n",
      "100%|██████████| 99/99 [00:04<00:00, 20.31it/s]\n"
     ]
    },
    {
     "name": "stdout",
     "output_type": "stream",
     "text": [
      "Place inference time: 13.265604257583618\n",
      "Identified 7470 IK solutions with minimum distance of 0.738 in 0.423 seconds\n",
      "Place Success\n",
      "Pick Success Rate: 84%  (11 / 13)    ||   Place Success Rate: 63%   (7 / 11)    ||   Place-and-Place Success Rate: 53%   (7 / 13)\n",
      "======================================\n",
      "=================Sample 188==================\n"
     ]
    },
    {
     "name": "stderr",
     "output_type": "stream",
     "text": [
      "100%|██████████| 499/499 [00:09<00:00, 50.70it/s]\n",
      "100%|██████████| 99/99 [00:06<00:00, 14.31it/s]\n"
     ]
    },
    {
     "name": "stdout",
     "output_type": "stream",
     "text": [
      "Pick inference time: 18.09736394882202\n",
      "Identified 3917 IK solutions with minimum distance of 1.820 in 0.496 seconds\n",
      "Pick success\n"
     ]
    },
    {
     "name": "stderr",
     "output_type": "stream",
     "text": [
      "100%|██████████| 499/499 [00:07<00:00, 69.69it/s]\n",
      "100%|██████████| 99/99 [00:05<00:00, 19.32it/s]\n"
     ]
    },
    {
     "name": "stdout",
     "output_type": "stream",
     "text": [
      "Place inference time: 13.446353673934937\n",
      "Identified 11529 IK solutions with minimum distance of 1.234 in 0.765 seconds\n",
      "Place Success\n",
      "Pick Success Rate: 85%  (12 / 14)    ||   Place Success Rate: 66%   (8 / 12)    ||   Place-and-Place Success Rate: 57%   (8 / 14)\n",
      "======================================\n",
      "=================Sample 189==================\n"
     ]
    },
    {
     "name": "stderr",
     "output_type": "stream",
     "text": [
      "100%|██████████| 499/499 [00:09<00:00, 51.46it/s]\n",
      "100%|██████████| 99/99 [00:06<00:00, 14.76it/s]\n"
     ]
    },
    {
     "name": "stdout",
     "output_type": "stream",
     "text": [
      "Pick inference time: 17.719134092330933\n",
      "Identified 11016 IK solutions with minimum distance of 1.410 in 0.896 seconds\n",
      "Pick success\n"
     ]
    },
    {
     "name": "stderr",
     "output_type": "stream",
     "text": [
      "100%|██████████| 499/499 [00:06<00:00, 71.44it/s]\n",
      "100%|██████████| 99/99 [00:04<00:00, 20.19it/s]\n"
     ]
    },
    {
     "name": "stdout",
     "output_type": "stream",
     "text": [
      "Place inference time: 13.07978343963623\n",
      "Identified 0 IK solutions with minimum distance of inf in 0.092 seconds\n",
      "Identified 0 IK solutions with minimum distance of inf in 0.462 seconds\n",
      "place IK fail\n",
      "Place Fail\n",
      "Pick Success Rate: 86%  (13 / 15)    ||   Place Success Rate: 61%   (8 / 13)    ||   Place-and-Place Success Rate: 53%   (8 / 15)\n",
      "======================================\n",
      "=================Sample 190==================\n"
     ]
    },
    {
     "name": "stderr",
     "output_type": "stream",
     "text": [
      "100%|██████████| 499/499 [00:09<00:00, 53.19it/s]\n",
      "100%|██████████| 99/99 [00:06<00:00, 14.44it/s]\n"
     ]
    },
    {
     "name": "stdout",
     "output_type": "stream",
     "text": [
      "Pick inference time: 17.47056007385254\n",
      "Identified 6647 IK solutions with minimum distance of 1.937 in 0.787 seconds\n",
      "Pick success\n"
     ]
    },
    {
     "name": "stderr",
     "output_type": "stream",
     "text": [
      "100%|██████████| 499/499 [00:07<00:00, 70.17it/s]\n",
      "100%|██████████| 99/99 [00:05<00:00, 19.61it/s]\n"
     ]
    },
    {
     "name": "stdout",
     "output_type": "stream",
     "text": [
      "Place inference time: 13.358730792999268\n",
      "Identified 6901 IK solutions with minimum distance of 1.313 in 0.859 seconds\n",
      "Place Success\n",
      "Pick Success Rate: 87%  (14 / 16)    ||   Place Success Rate: 64%   (9 / 14)    ||   Place-and-Place Success Rate: 56%   (9 / 16)\n",
      "======================================\n",
      "=================Sample 191==================\n"
     ]
    },
    {
     "name": "stderr",
     "output_type": "stream",
     "text": [
      "100%|██████████| 499/499 [00:09<00:00, 52.89it/s]\n",
      "100%|██████████| 99/99 [00:06<00:00, 14.81it/s]\n"
     ]
    },
    {
     "name": "stdout",
     "output_type": "stream",
     "text": [
      "Pick inference time: 17.40953826904297\n",
      "Identified 5799 IK solutions with minimum distance of 1.871 in 0.615 seconds\n",
      "Pick success\n"
     ]
    },
    {
     "name": "stderr",
     "output_type": "stream",
     "text": [
      "100%|██████████| 499/499 [00:07<00:00, 68.85it/s]\n",
      "100%|██████████| 99/99 [00:05<00:00, 19.51it/s]\n"
     ]
    },
    {
     "name": "stdout",
     "output_type": "stream",
     "text": [
      "Place inference time: 13.54305624961853\n",
      "Identified 15088 IK solutions with minimum distance of 2.638 in 1.504 seconds\n",
      "Place Fail\n",
      "Pick Success Rate: 88%  (15 / 17)    ||   Place Success Rate: 60%   (9 / 15)    ||   Place-and-Place Success Rate: 52%   (9 / 17)\n",
      "======================================\n",
      "=================Sample 192==================\n"
     ]
    },
    {
     "name": "stderr",
     "output_type": "stream",
     "text": [
      "100%|██████████| 499/499 [00:09<00:00, 50.79it/s]\n",
      "100%|██████████| 99/99 [00:06<00:00, 14.37it/s]\n"
     ]
    },
    {
     "name": "stdout",
     "output_type": "stream",
     "text": [
      "Pick inference time: 18.06590461730957\n",
      "Identified 7860 IK solutions with minimum distance of 2.426 in 0.954 seconds\n",
      "Pick success\n"
     ]
    },
    {
     "name": "stderr",
     "output_type": "stream",
     "text": [
      "100%|██████████| 499/499 [00:07<00:00, 68.63it/s]\n",
      "100%|██████████| 99/99 [00:05<00:00, 18.72it/s]\n"
     ]
    },
    {
     "name": "stdout",
     "output_type": "stream",
     "text": [
      "Place inference time: 13.82044243812561\n",
      "Identified 6067 IK solutions with minimum distance of 1.098 in 0.367 seconds\n",
      "Place Success\n",
      "Pick Success Rate: 88%  (16 / 18)    ||   Place Success Rate: 62%   (10 / 16)    ||   Place-and-Place Success Rate: 55%   (10 / 18)\n",
      "======================================\n",
      "=================Sample 193==================\n"
     ]
    },
    {
     "name": "stderr",
     "output_type": "stream",
     "text": [
      "100%|██████████| 499/499 [00:09<00:00, 50.49it/s]\n",
      "100%|██████████| 99/99 [00:06<00:00, 14.84it/s]\n"
     ]
    },
    {
     "name": "stdout",
     "output_type": "stream",
     "text": [
      "Pick inference time: 17.841506719589233\n",
      "Identified 11054 IK solutions with minimum distance of 1.267 in 0.818 seconds\n",
      "Pick fail\n",
      "Pick Success Rate: 84%  (16 / 19)    ||   Place Success Rate: 62%   (10 / 16)    ||   Place-and-Place Success Rate: 52%   (10 / 19)\n",
      "======================================\n",
      "=================Sample 194==================\n"
     ]
    },
    {
     "name": "stderr",
     "output_type": "stream",
     "text": [
      "100%|██████████| 499/499 [00:09<00:00, 53.28it/s]\n",
      "100%|██████████| 99/99 [00:06<00:00, 15.57it/s]\n"
     ]
    },
    {
     "name": "stdout",
     "output_type": "stream",
     "text": [
      "Pick inference time: 16.966893911361694\n",
      "Identified 5841 IK solutions with minimum distance of 1.752 in 0.347 seconds\n",
      "Pick success\n"
     ]
    },
    {
     "name": "stderr",
     "output_type": "stream",
     "text": [
      "100%|██████████| 499/499 [00:06<00:00, 71.75it/s]\n",
      "100%|██████████| 99/99 [00:05<00:00, 19.39it/s]\n"
     ]
    },
    {
     "name": "stdout",
     "output_type": "stream",
     "text": [
      "Place inference time: 13.251202821731567\n",
      "Identified 6249 IK solutions with minimum distance of 0.654 in 0.369 seconds\n",
      "Place Success\n",
      "Pick Success Rate: 85%  (17 / 20)    ||   Place Success Rate: 64%   (11 / 17)    ||   Place-and-Place Success Rate: 55%   (11 / 20)\n",
      "======================================\n",
      "=================Sample 195==================\n"
     ]
    },
    {
     "name": "stderr",
     "output_type": "stream",
     "text": [
      "100%|██████████| 499/499 [00:10<00:00, 49.35it/s]\n",
      "100%|██████████| 99/99 [00:06<00:00, 14.71it/s]\n"
     ]
    },
    {
     "name": "stdout",
     "output_type": "stream",
     "text": [
      "Pick inference time: 18.246046543121338\n",
      "Identified 5147 IK solutions with minimum distance of 2.531 in 0.502 seconds\n",
      "Pick success\n"
     ]
    },
    {
     "name": "stderr",
     "output_type": "stream",
     "text": [
      "100%|██████████| 499/499 [00:07<00:00, 71.08it/s]\n",
      "100%|██████████| 99/99 [00:05<00:00, 19.21it/s]\n"
     ]
    },
    {
     "name": "stdout",
     "output_type": "stream",
     "text": [
      "Place inference time: 13.414551019668579\n",
      "Identified 9918 IK solutions with minimum distance of 1.048 in 0.692 seconds\n",
      "Place Success\n",
      "Pick Success Rate: 85%  (18 / 21)    ||   Place Success Rate: 66%   (12 / 18)    ||   Place-and-Place Success Rate: 57%   (12 / 21)\n",
      "======================================\n",
      "=================Sample 196==================\n"
     ]
    },
    {
     "name": "stderr",
     "output_type": "stream",
     "text": [
      "100%|██████████| 499/499 [00:09<00:00, 51.46it/s]\n",
      "100%|██████████| 99/99 [00:06<00:00, 15.12it/s]\n"
     ]
    },
    {
     "name": "stdout",
     "output_type": "stream",
     "text": [
      "Pick inference time: 17.554386854171753\n",
      "Identified 7954 IK solutions with minimum distance of 2.651 in 1.183 seconds\n",
      "Pick success\n"
     ]
    },
    {
     "name": "stderr",
     "output_type": "stream",
     "text": [
      "100%|██████████| 499/499 [00:07<00:00, 68.06it/s]\n",
      "100%|██████████| 99/99 [00:04<00:00, 19.99it/s]\n"
     ]
    },
    {
     "name": "stdout",
     "output_type": "stream",
     "text": [
      "Place inference time: 13.471152782440186\n",
      "Identified 8941 IK solutions with minimum distance of 1.074 in 0.630 seconds\n",
      "Place Success\n",
      "Pick Success Rate: 86%  (19 / 22)    ||   Place Success Rate: 68%   (13 / 19)    ||   Place-and-Place Success Rate: 59%   (13 / 22)\n",
      "======================================\n",
      "=================Sample 197==================\n"
     ]
    },
    {
     "name": "stderr",
     "output_type": "stream",
     "text": [
      "100%|██████████| 499/499 [00:09<00:00, 53.63it/s]\n",
      "100%|██████████| 99/99 [00:06<00:00, 14.59it/s]\n"
     ]
    },
    {
     "name": "stdout",
     "output_type": "stream",
     "text": [
      "Pick inference time: 17.383588314056396\n",
      "Identified 4643 IK solutions with minimum distance of 2.175 in 0.519 seconds\n",
      "Pick fail\n",
      "Pick Success Rate: 82%  (19 / 23)    ||   Place Success Rate: 68%   (13 / 19)    ||   Place-and-Place Success Rate: 56%   (13 / 23)\n",
      "======================================\n",
      "=================Sample 198==================\n"
     ]
    },
    {
     "name": "stderr",
     "output_type": "stream",
     "text": [
      "100%|██████████| 499/499 [00:09<00:00, 54.48it/s]\n",
      "100%|██████████| 99/99 [00:06<00:00, 15.03it/s]\n"
     ]
    },
    {
     "name": "stdout",
     "output_type": "stream",
     "text": [
      "Pick inference time: 16.978100776672363\n",
      "Identified 4223 IK solutions with minimum distance of 2.661 in 0.777 seconds\n",
      "Pick fail\n",
      "Pick Success Rate: 79%  (19 / 24)    ||   Place Success Rate: 68%   (13 / 19)    ||   Place-and-Place Success Rate: 54%   (13 / 24)\n",
      "======================================\n",
      "=================Sample 199==================\n"
     ]
    },
    {
     "name": "stderr",
     "output_type": "stream",
     "text": [
      "100%|██████████| 499/499 [00:09<00:00, 52.63it/s]\n",
      "100%|██████████| 99/99 [00:06<00:00, 14.96it/s]\n"
     ]
    },
    {
     "name": "stdout",
     "output_type": "stream",
     "text": [
      "Pick inference time: 17.40275549888611\n",
      "Identified 11473 IK solutions with minimum distance of 2.379 in 1.264 seconds\n",
      "Pick success\n"
     ]
    },
    {
     "name": "stderr",
     "output_type": "stream",
     "text": [
      "100%|██████████| 499/499 [00:07<00:00, 70.62it/s]\n",
      "100%|██████████| 99/99 [00:04<00:00, 20.18it/s]\n"
     ]
    },
    {
     "name": "stdout",
     "output_type": "stream",
     "text": [
      "Place inference time: 13.22851276397705\n",
      "Identified 4406 IK solutions with minimum distance of 0.969 in 0.247 seconds\n",
      "Place Success\n",
      "Pick Success Rate: 80%  (20 / 25)    ||   Place Success Rate: 70%   (14 / 20)    ||   Place-and-Place Success Rate: 56%   (14 / 25)\n",
      "======================================\n",
      "===================== <Result> =====================\n",
      "# IK Fail Pick: 0   ||   # IK Fail Place: 2\n",
      "Mean Inference Time:   Pick   17.557448692321778   ||    Place   13.366163969039917\n",
      "====================================================\n"
     ]
    }
   ],
   "source": [
    "visualize_plot = False\n",
    "save_plot = True\n",
    "\n",
    "sleep = False\n",
    "pick_and_place = True\n",
    "stride = (7, 7)\n",
    "stride_pick = (10, 10)\n",
    "stride_place = (7, 7)\n",
    "temperature = 1.\n",
    "\n",
    "\n",
    "iter_per_cup = 25\n",
    "for cup_idx in range(4):\n",
    "    N_tests = 0\n",
    "    N_success_pick = 0\n",
    "    N_success_place = 0\n",
    "    N_IKFAIL_pick = 0\n",
    "    N_IKFAIL_place = 0\n",
    "    pick_times = []\n",
    "    place_times = []\n",
    "    if save_plot:\n",
    "        folder_name = f'cup_{cup_idx+1}/'\n",
    "        output_path = f'plot_imgs/' + folder_name\n",
    "\n",
    "    for seed in range(100 + (cup_idx*iter_per_cup), 100 + ((cup_idx+1)*iter_per_cup)):\n",
    "        N_tests += 1\n",
    "        print(f\"=================Sample {seed}==================\")\n",
    "        fig, axes = plt.subplots(1,3, figsize=(15, 5), subplot_kw={'projection':'3d'})\n",
    "        fig_img, axes_img = plt.subplots(1,3, figsize=(15,5))\n",
    "\n",
    "\n",
    "        # Run in env\n",
    "        task.reset(seed = seed, cup_pose='upright', eval_mode=f'cup{cup_idx+1}')\n",
    "        pc = task.observe_pointcloud(stride = stride)\n",
    "        sample_unprocessed = {}\n",
    "        sample_unprocessed['coord'] = pc['coord']\n",
    "        sample_unprocessed['color'] = pc['color']\n",
    "        sample_unprocessed['range'] = pc['ranges']\n",
    "        sample_unprocessed['images'] = task.observe()\n",
    "        sample_unprocessed['center'] = task.center\n",
    "        color_unprocessed = sample_unprocessed['color']\n",
    "        sample =  preprocess(sample_unprocessed, characteristic_length)\n",
    "        coord, color, (xlim, ylim, zlim) = sample['coord'], sample['color'], sample['ranges']\n",
    "        data_transform = sample['data_transform']\n",
    "        feature = torch.tensor(color, dtype=torch.float32)\n",
    "        pos = torch.tensor(coord, dtype=torch.float32)\n",
    "        in_range_cropped_idx = (((pos[:] > ranges_cropped[:,0]) * (pos[:] < ranges_cropped[:,1])).sum(dim=-1) == 3).nonzero().squeeze(-1)\n",
    "        pos = pos[in_range_cropped_idx].to(device)\n",
    "        feature = feature[in_range_cropped_idx].to(device)\n",
    "        inputs = {'feature': feature, 'pos': pos, 'edge': None, 'max_neighbor_radius': max_radius}\n",
    "        temperature = 1.\n",
    "\n",
    "\n",
    "        t1 = time.time()\n",
    "        optimizer_se3T.zero_grad()\n",
    "        optimizer_energy.zero_grad()\n",
    "        with torch.no_grad():\n",
    "            outputs = se3T(inputs)\n",
    "        log_P = lambda T: -energy_model(outputs, T, temperature = temperature, learning = False)\n",
    "\n",
    "        N_transforms = 100\n",
    "        mcmc_iter = 500\n",
    "        mcmc_iter = int(mcmc_iter)\n",
    "        langevin_iter = 100\n",
    "\n",
    "        T_seed = torch.cat([transforms.random_quaternions(N_transforms, device=device), torch.tensor([[2.5, 2.5, 0.5]], device = device)* torch.randn(N_transforms,3, device = device) + torch.tensor([0.,0., -29.], device = device)] , dim=-1)\n",
    "        t_mcmc_begin = time.time()\n",
    "        samples = metropolis.forward(log_P, max_iter = mcmc_iter, T_seed=T_seed, pbar=True)\n",
    "        samples = langevin.forward(log_P, max_iter = langevin_iter, optim = optimizer_energy, T_seed = samples['Ts'][-1], pbar=True)\n",
    "        t_mcmc_end = time.time()\n",
    "        Ts = samples['Ts']\n",
    "        Ts = Ts[-50:].reshape(-1,7)\n",
    "        with torch.no_grad():\n",
    "            E = energy_model(outputs, Ts, temperature = temperature, learning = False)\n",
    "        best_T_idx = E.detach().argmin().item()\n",
    "        best_T = Ts[best_T_idx]\n",
    "        best_R, best_X = transforms.quaternion_to_matrix(best_T[...,:4]), best_T[...,4:]\n",
    "\n",
    "\n",
    "        t2 = time.time()\n",
    "        #print(f\"=========Sample {seed}=========\")\n",
    "        query_attn = (torch.softmax(energy_model.query_attention.detach(), dim=-1) ** 0.5).unsqueeze(-1).cpu().numpy()\n",
    "\n",
    "        coord_query = energy_model.transform_query_points(best_T).detach().cpu().numpy()\n",
    "        color_query = torch.tensor([0.,0.,1.]).repeat(len(coord_query),1).cpu().numpy()\n",
    "        color_query = np.concatenate([color_query,query_attn], axis=-1)\n",
    "        frame_info_best = {'frame': best_R.cpu().numpy(),\n",
    "                        'origin': best_X.cpu().numpy(), \n",
    "                        'alpha': 1.,\n",
    "                        'pointcloud': (coord_query, color_query)\n",
    "                        }\n",
    "        world_origin = np.array([0., 0., -29.])\n",
    "        frame_info_world = {'frame': np.eye(3),\n",
    "                        'origin': world_origin,\n",
    "                        'alpha': 0.,\n",
    "                        'pointcloud': (Ts.detach().cpu().numpy()[:,4:], torch.tensor([0.,0.8,0.8,0.03]).repeat(len(Ts),1).numpy())\n",
    "                        }\n",
    "\n",
    "\n",
    "        scatter_plot_ax(axes[0], coord[in_range_cropped_idx], color_unprocessed[in_range_cropped_idx], (xlim, ylim, zlim), frame_infos = [frame_info_best, frame_info_world])\n",
    "        print(f\"Pick inference time: {t2-t1}\")\n",
    "        pick_times.append(t2-t1)\n",
    "        if N_tests == 1:\n",
    "            print(f\"First iteration is slow\")\n",
    "        # print(E.detach())\n",
    "        # print(f\"Energy min: {E.min().item()} || Energy mean: {E.mean().item()}\")\n",
    "        # print(f\"MCMC Time: {t_mcmc_end - t_mcmc_begin}\")\n",
    "        # print(\"===============================\")\n",
    "\n",
    "        X_sdg, R_sdg = data_transform.inv_transform_T(best_X.detach().cpu().numpy(), best_R.detach().cpu().numpy())\n",
    "\n",
    "        flip = False\n",
    "        z_axis = R_sdg[:,-1]\n",
    "        if z_axis[2] > 0.8:\n",
    "            flip = True\n",
    "        elif z_axis[0] < 0:\n",
    "            flip = True\n",
    "        if flip is True:\n",
    "            R_flip = np.array([[-1. ,0. ,0.],\n",
    "                                [0. ,1. ,0.],\n",
    "                                [0. ,0. ,-1.]])\n",
    "            R_sdg = R_sdg @ R_flip\n",
    "\n",
    "        #X_sdg = X_sdg + (R_sdg@ np.array([0., 0., 0.005])) # push the gripper forward a liitle\n",
    "\n",
    "        R_dg_dgpre = np.eye(3)\n",
    "        R_s_dgpre = R_sdg @ R_dg_dgpre\n",
    "        X_dg_dgpre = np.array([0., 0., -0.1])\n",
    "        sX_dg_dgpre = R_sdg @ X_dg_dgpre\n",
    "        X_s_dgpre = X_sdg + sX_dg_dgpre\n",
    "\n",
    "        pre_pick = (X_s_dgpre, R_s_dgpre)\n",
    "        pick = (X_sdg, R_sdg)\n",
    "\n",
    "        try:\n",
    "            task.pick(pre_pick, pick)\n",
    "        except StopIteration:\n",
    "            try:\n",
    "                task.pick(pre_pick, pick, IK_time=5.)\n",
    "            except:\n",
    "                print(\"Pick IK Failed\")\n",
    "                N_IKFAIL_pick += 1\n",
    "                print(f\"Pick Success Rate: {int(100 * N_success_pick / N_tests)}%  ({N_success_pick} / {N_tests})    ||   Place Success Rate: {int(100 * N_success_place / max(N_success_pick, 1))}%   ({N_success_place} / {N_success_pick})    ||   Place-and-Place Success Rate: {int(100 * N_success_place / N_tests)}%   ({N_success_place} / {N_tests})\")\n",
    "                if save_plot:\n",
    "                    if os.path.exists(output_path + \"inference/\") is False:\n",
    "                        os.makedirs(output_path + \"inference/\")\n",
    "                    fig.savefig(output_path + \"inference/\" + f\"{seed}.png\")\n",
    "                    if os.path.exists(output_path + \"result/\") is False:\n",
    "                        os.makedirs(output_path + \"result/\")\n",
    "                    fig_img.savefig(output_path + \"result/\" + f\"{seed}.png\")\n",
    "                if visualize_plot:\n",
    "                    plt.show()\n",
    "                else:\n",
    "                    plt.close(fig)\n",
    "                    plt.close(fig_img)\n",
    "                print(\"======================================\")\n",
    "                continue\n",
    "\n",
    "        if task.check_pick_success():\n",
    "            print(\"Pick success\")\n",
    "            N_success_pick += 1\n",
    "        else:\n",
    "            print(\"Pick fail\")\n",
    "            print(f\"Pick Success Rate: {int(100 * N_success_pick / N_tests)}%  ({N_success_pick} / {N_tests})    ||   Place Success Rate: {int(100 * N_success_place / max(N_success_pick, 1))}%   ({N_success_place} / {N_success_pick})    ||   Place-and-Place Success Rate: {int(100 * N_success_place / N_tests)}%   ({N_success_place} / {N_tests})\")\n",
    "            if save_plot:\n",
    "                if os.path.exists(output_path + \"inference/\") is False:\n",
    "                    os.makedirs(output_path + \"inference/\")\n",
    "                fig.savefig(output_path + \"inference/\" + f\"{seed}.png\")\n",
    "                if os.path.exists(output_path + \"result/\") is False:\n",
    "                    os.makedirs(output_path + \"result/\")\n",
    "                fig_img.savefig(output_path + \"result/\" + f\"{seed}.png\")\n",
    "            if visualize_plot:\n",
    "                plt.show()\n",
    "            else:\n",
    "                plt.close(fig)\n",
    "                plt.close(fig_img)\n",
    "            print(\"======================================\")\n",
    "            continue\n",
    "\n",
    "\n",
    "\n",
    "\n",
    "        task.retract_robot(gripper_val=1., IK_time=1.)\n",
    "        pc = task.observe_pointcloud_pick(stride = stride_pick)\n",
    "        sample_unprocessed['coord_pick'] = pc['coord']\n",
    "        sample_unprocessed['color_pick'] = pc['color']\n",
    "        sample_unprocessed['range_pick'] = pc['ranges']\n",
    "        sample_unprocessed['pick_pose'] = (pc['X_sg'], pc['R_sg'])\n",
    "        sample_unprocessed['images_pick'] = task.observe_pick()\n",
    "\n",
    "        pc = task.observe_pointcloud(stride = stride_place)\n",
    "        sample_unprocessed['coord_place'] = pc['coord']\n",
    "        sample_unprocessed['color_place'] = pc['color']\n",
    "        sample_unprocessed['range_place'] = pc['ranges']\n",
    "        sample_unprocessed['images_place'] = task.observe()\n",
    "\n",
    "\n",
    "\n",
    "\n",
    "        temperature = 1.\n",
    "\n",
    "        color_unprocessed_Q = sample_unprocessed['color_pick']\n",
    "        color_unprocessed_K = sample_unprocessed['color_place']\n",
    "        sample = preprocess(sample_unprocessed, characteristic_length, pick_and_place=True)\n",
    "\n",
    "        coord_Q, color_Q, (xlim_Q, ylim_Q, zlim_Q) = sample['coord_Q'], sample['color_Q'], sample['ranges_Q']\n",
    "        X_sg_Q, R_sg_Q = sample['grasp_Q'][0], sample['grasp_Q'][1]\n",
    "        data_transform_Q = sample['data_transform_Q']\n",
    "\n",
    "        coord_K, color_K, (xlim_K, ylim_K, zlim_K) = sample['coord_K'], sample['color_K'], sample['ranges_K']\n",
    "        data_transform_K = sample['data_transform_K']\n",
    "\n",
    "\n",
    "        ##### Prepare input\n",
    "\n",
    "        feature_Q = torch.tensor(color_Q, dtype=torch.float32)\n",
    "        pos_Q = torch.tensor(coord_Q, dtype=torch.float32)\n",
    "        in_range_cropped_idx_Q = (((pos_Q[:] > ranges_cropped_Q[:,0]) * (pos_Q[:] < ranges_cropped_Q[:,1])).sum(dim=-1) == 3).nonzero().squeeze(-1)\n",
    "        pos_Q = pos_Q[in_range_cropped_idx_Q].to(device)\n",
    "        feature_Q = feature_Q[in_range_cropped_idx_Q].to(device)\n",
    "\n",
    "        feature_K = torch.tensor(color_K, dtype=torch.float32)\n",
    "        pos_K = torch.tensor(coord_K, dtype=torch.float32)\n",
    "        in_range_cropped_idx_K = (((pos_K[:] > ranges_cropped_K[:,0]) * (pos_K[:] < ranges_cropped_K[:,1])).sum(dim=-1) == 3).nonzero().squeeze(-1)\n",
    "        pos_K = pos_K[in_range_cropped_idx_K].to(device)\n",
    "        feature_K = feature_K[in_range_cropped_idx_K].to(device)\n",
    "\n",
    "        inputs_Q = {'feature': feature_Q, 'pos': pos_Q, 'edge': None, 'max_neighbor_radius': max_radius_Q}\n",
    "\n",
    "\n",
    "        t1 = time.time()\n",
    "        ##### Get Query Feature\n",
    "        optimizer_Q.zero_grad()\n",
    "        with torch.no_grad():\n",
    "            outputs_Q = se3T_Q(inputs_Q)\n",
    "            outputs_Q = tensor_field_Q({'feature':outputs_Q['feature'], 'pos':outputs_Q['pos'], 'query_pos':query_pos_Q.unsqueeze(0)})\n",
    "        assert outputs_Q['n_neighbor'].item() > 0\n",
    "        query_feature_Q = outputs_Q['field'].squeeze(0)\n",
    "\n",
    "        inputs_K = {'feature': feature_K, 'pos': pos_K, 'edge': None, 'max_neighbor_radius': max_radius_K}\n",
    "\n",
    "        ##### MCMC\n",
    "        N_transforms = 100\n",
    "        mcmc_iter = 500\n",
    "        mcmc_iter = int(mcmc_iter)\n",
    "        langevin_iter = 100\n",
    "\n",
    "        optimizer_K.zero_grad()\n",
    "        optimizer_energy_K.zero_grad()\n",
    "        outputs_K = se3T_K(inputs_K)\n",
    "        outputs_K['query_feature'] = query_feature_Q\n",
    "        log_P_K = lambda T: -energy_model_K(outputs_K, T, temperature = temperature, learning = False)\n",
    "\n",
    "        T_seed = torch.cat([transforms.random_quaternions(N_transforms, device=device), torch.tensor([[2.5, 2.5, 0.5]], device = device)* torch.randn(N_transforms,3, device = device) + torch.tensor([0.,0., -29.], device = device)] , dim=-1)\n",
    "        t_mcmc_begin = time.time()\n",
    "        samples = metropolis_K.forward(log_P_K, max_iter = mcmc_iter, T_seed = T_seed, pbar=True)\n",
    "        Ts_K = samples['Ts']\n",
    "        As_K = samples['As']\n",
    "        samples = langevin_K.forward(log_P_K, max_iter = langevin_iter, optim = optimizer_energy_K, T_seed = Ts_K[-1], pbar=True)\n",
    "        Ts_K = torch.cat([Ts_K, samples['Ts']], dim=0)\n",
    "        As_K = torch.cat([As_K, samples['As']], dim=0)\n",
    "        t_mcmc_end = time.time()\n",
    "\n",
    "        Ts_K = Ts_K[-50:].reshape(-1,7)\n",
    "\n",
    "        ##### Calculate energy and learn\n",
    "        optimizer_energy_K.zero_grad()\n",
    "        with torch.no_grad():\n",
    "            E_K = energy_model_K(outputs_K, Ts_K, temperature = temperature, learning = True)\n",
    "\n",
    "        best_T_sp_idx = E_K.detach().argmin().item()\n",
    "        best_T_sp = Ts_K[best_T_sp_idx]\n",
    "        best_R_sp, best_X_sp = transforms.quaternion_to_matrix(best_T_sp[...,:4]), best_T_sp[...,4:]\n",
    "\n",
    "        ##### Visualize\n",
    "        t2 = time.time()\n",
    "        print(f\"Place inference time: {t2-t1}\")\n",
    "        place_times.append(t2-t1)\n",
    "        if True:\n",
    "            #print(f\"=========Iter {0}=========\")\n",
    "            query_attn_K = (torch.softmax(energy_model_K.query_attention.detach(), dim=-1) ** 0.5).unsqueeze(-1).cpu().numpy()\n",
    "            \n",
    "            coord_query_K = energy_model_K.transform_query_points(best_T_sp).detach().cpu().numpy()\n",
    "            color_query_K = torch.tensor([0.,0.,1.]).repeat(len(coord_query_K),1).cpu().numpy()\n",
    "            color_query_K = np.concatenate([color_query_K, query_attn_K], axis=-1)\n",
    "            frame_info_best = {'frame': best_R_sp.cpu().numpy(),\n",
    "                            'origin': best_X_sp.cpu().numpy(), \n",
    "                            'alpha': 1.,\n",
    "                            'pointcloud': (coord_query_K, color_query_K)\n",
    "                            }\n",
    "\n",
    "            world_origin_K = np.array([0., 0., -16.])\n",
    "            frame_info_world = {'frame': np.eye(3),\n",
    "                            'origin': world_origin_K,\n",
    "                            'alpha': 0.,\n",
    "                            'pointcloud': (Ts_K.detach().cpu().numpy()[:,4:], torch.tensor([0.,0.8,0.8,0.03]).repeat(len(Ts_K),1).numpy())\n",
    "                            }\n",
    "\n",
    "            color_unprocessed_alpha_K = np.concatenate([color_unprocessed_K, np.ones((len(color_unprocessed_K),1), dtype=int)], axis=-1)\n",
    "            #scatter_plot(coord_K[in_range_cropped_idx_K], color_unprocessed_alpha_K[in_range_cropped_idx_K], xlim_K, ylim_K, zlim_K, frame_infos = [frame_info_best, frame_info_world], figsize = (8, 8))\n",
    "            scatter_plot_ax(axes[1], coord_K[in_range_cropped_idx_K], color_unprocessed_alpha_K[in_range_cropped_idx_K], (xlim_K, ylim_K, zlim_K), frame_infos = [frame_info_best, frame_info_world])\n",
    "            #print(E_K.detach()[::5])\n",
    "            #print(f\"Energy min: {E_K.min().item()} || Energy mean: {E_K.mean().item()}\")\n",
    "            #print(f\"MCMC Time: {t_mcmc_end - t_mcmc_begin}\")\n",
    "            #print(\"===============================\")\n",
    "\n",
    "\n",
    "\n",
    "\n",
    "\n",
    "        X_sdg, R_sdg = data_transform_K.inv_transform_T(best_X_sp.detach().cpu().numpy(), best_R_sp.detach().cpu().numpy())\n",
    "\n",
    "        #X_sdg = X_sdg + (R_sdg@ np.array([0., 0., 0.005])) # push the gripper forward a liitle\n",
    "\n",
    "        R_dg_dgpre = np.eye(3)\n",
    "        R_s_dgpre = R_sdg @ R_dg_dgpre\n",
    "        X_dg_dgpre = np.array([0., 0., -0.1])\n",
    "        sX_dg_dgpre = R_sdg @ X_dg_dgpre\n",
    "        X_s_dgpre = X_sdg + sX_dg_dgpre\n",
    "\n",
    "        pre_place = (X_s_dgpre, R_s_dgpre)\n",
    "        place = (X_sdg, R_sdg)\n",
    "\n",
    "        try:\n",
    "            task.place(pre_place, place, sleep = sleep, IK_time = 1.)\n",
    "        except StopIteration:\n",
    "            try:\n",
    "                task.place(pre_place, place, sleep = sleep, IK_time = 5.)\n",
    "            except StopIteration:\n",
    "                print(\"place IK fail\")\n",
    "                N_IKFAIL_place += 1\n",
    "\n",
    "\n",
    "\n",
    "        if task.check_place_success():\n",
    "            N_success_place += 1\n",
    "            print('Place Success')\n",
    "            print(f\"Pick Success Rate: {int(100 * N_success_pick / N_tests)}%  ({N_success_pick} / {N_tests})    ||   Place Success Rate: {int(100 * N_success_place / max(N_success_pick, 1))}%   ({N_success_place} / {N_success_pick})    ||   Place-and-Place Success Rate: {int(100 * N_success_place / N_tests)}%   ({N_success_place} / {N_tests})\")\n",
    "        else:\n",
    "            print('Place Fail')\n",
    "            print(f\"Pick Success Rate: {int(100 * N_success_pick / N_tests)}%  ({N_success_pick} / {N_tests})    ||   Place Success Rate: {int(100 * N_success_place / max(N_success_pick, 1))}%   ({N_success_place} / {N_success_pick})    ||   Place-and-Place Success Rate: {int(100 * N_success_place / N_tests)}%   ({N_success_place} / {N_tests})\")\n",
    "\n",
    "\n",
    "\n",
    "        pc = task.observe_pointcloud(stride = (1, 1))\n",
    "        scatter_plot_ax(axes[2], pc['coord'], pc['color'], pc['ranges'])\n",
    "        images = task.observe()\n",
    "        for i in range(3):\n",
    "            axes_img[i].imshow(images[i]['color'])\n",
    "\n",
    "\n",
    "        if save_plot:\n",
    "            if os.path.exists(output_path + \"inference/\") is False:\n",
    "                os.makedirs(output_path + \"inference/\")\n",
    "            fig.savefig(output_path + \"inference/\" + f\"{seed}.png\")\n",
    "            if os.path.exists(output_path + \"result/\") is False:\n",
    "                os.makedirs(output_path + \"result/\")\n",
    "            fig_img.savefig(output_path + \"result/\" + f\"{seed}.png\")\n",
    "        if visualize_plot:\n",
    "            plt.show()\n",
    "        else:\n",
    "            plt.close(fig)\n",
    "            plt.close(fig_img)\n",
    "        print(\"======================================\")\n",
    "\n",
    "    print(\"===================== <Result> =====================\")\n",
    "    print(f\"# IK Fail Pick: {N_IKFAIL_pick}   ||   # IK Fail Place: {N_IKFAIL_place}\")\n",
    "    print(f\"Mean Inference Time:   Pick   {np.array(pick_times).mean()}   ||    Place   {np.array(place_times).mean()}\")\n",
    "    print(\"====================================================\")"
   ]
  },
  {
   "cell_type": "code",
   "execution_count": null,
   "metadata": {},
   "outputs": [],
   "source": []
  },
  {
   "cell_type": "code",
   "execution_count": null,
   "metadata": {},
   "outputs": [],
   "source": []
  }
 ],
 "metadata": {
  "interpreter": {
   "hash": "f23129b46c570c3112f15a3374a794e5cd05ee6ef3eb221daef864361e63690d"
  },
  "kernelspec": {
   "display_name": "Python 3.9.12 ('SE3_Transporter')",
   "language": "python",
   "name": "python3"
  },
  "language_info": {
   "codemirror_mode": {
    "name": "ipython",
    "version": 3
   },
   "file_extension": ".py",
   "mimetype": "text/x-python",
   "name": "python",
   "nbconvert_exporter": "python",
   "pygments_lexer": "ipython3",
   "version": "3.9.12"
  },
  "orig_nbformat": 4
 },
 "nbformat": 4,
 "nbformat_minor": 2
}
