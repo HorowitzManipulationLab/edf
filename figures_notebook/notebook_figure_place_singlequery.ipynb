{
 "cells": [
  {
   "cell_type": "code",
   "execution_count": null,
   "metadata": {},
   "outputs": [],
   "source": [
    "import time\n",
    "import datetime\n",
    "import os\n",
    "import argparse\n",
    "import random\n",
    "import numpy as np\n",
    "import matplotlib.pyplot as plt\n",
    "import yaml\n",
    "import gc\n",
    "from tqdm import tqdm\n",
    "\n",
    "import torch\n",
    "from pytorch3d import transforms\n",
    "from scipy.spatial.transform import Rotation\n",
    "\n",
    "from edf.utils import preprocess, voxel_filter, binomial_test, voxelize_sample\n",
    "from edf.agent import PickAgent, PlaceAgent\n",
    "from edf.pybullet_env.env import MugTask\n",
    "from edf.visual_utils import scatter_plot_ax, draw_poincloud_arrow_new\n",
    "\n",
    "\n",
    "\n",
    "model_seed = 0\n",
    "random.seed(model_seed)\n",
    "np.random.seed(model_seed)\n",
    "torch.manual_seed(model_seed)\n",
    "torch.use_deterministic_algorithms(True)\n",
    "torch.set_printoptions(precision=4, sci_mode=False)"
   ]
  },
  {
   "cell_type": "code",
   "execution_count": null,
   "metadata": {},
   "outputs": [],
   "source": [
    "eval_config_dir = \"config/eval_config/figure.yaml\"\n",
    "task_config_dir = \"config/task_config/mug_task.yaml\"\n",
    "pick_agent_config_dir = \"config/agent_config/pick_agent.yaml\"\n",
    "checkpoint_path_pick = \"checkpoint/train_pick/model_iter_600.pt\"\n",
    "place_agent_config_dir = \"config/agent_config/place_agent.yaml\"\n",
    "checkpoint_path_place = \"checkpoint/train_place/model_iter_600.pt\"\n",
    "plot_path = 'whatever/'\n",
    "\n",
    "use_gui = False\n",
    "visualize_plot = True\n",
    "save_plot = False\n",
    "place_max_distance_plan = [0.05, 1.5]\n",
    "\n",
    "if save_plot is False:\n",
    "    plot_path = None\n",
    "\n",
    "deterministic = True\n",
    "load_model = True"
   ]
  },
  {
   "cell_type": "code",
   "execution_count": null,
   "metadata": {},
   "outputs": [],
   "source": [
    "d_dense = 0.001\n",
    "d_field = 0.01"
   ]
  },
  {
   "cell_type": "code",
   "execution_count": null,
   "metadata": {},
   "outputs": [],
   "source": [
    "def pick(T):\n",
    "    R, X = transforms.quaternion_to_matrix(T[...,:4]), T[...,4:]\n",
    "    X_sdg, R_sdg = data_transform.inv_transform_T(X.detach().cpu().numpy(), R.detach().cpu().numpy())\n",
    "    z_axis = R_sdg[:,-1]\n",
    "    \n",
    "    R_dg_dgpre = np.eye(3)\n",
    "    R_s_dgpre = R_sdg @ R_dg_dgpre\n",
    "    X_dg_dgpre = np.array([0., 0., -0.03])\n",
    "    sX_dg_dgpre = R_sdg @ X_dg_dgpre\n",
    "    X_s_dgpre = X_sdg + sX_dg_dgpre\n",
    "\n",
    "    pre_pick = (X_s_dgpre, R_s_dgpre)\n",
    "    pick = (X_sdg, R_sdg)\n",
    "\n",
    "    try:\n",
    "        task.pick(pre_pick, pick)\n",
    "        print(\"Pick IK Success\", flush=True)\n",
    "        return True\n",
    "    except StopIteration:\n",
    "        #print(\"Pick IK Failed\", flush=True)\n",
    "        return False\n",
    "\n",
    "def place(T):\n",
    "    R, X = transforms.quaternion_to_matrix(T[...,:4]), T[...,4:]\n",
    "    X_sdg, R_sdg = data_transform_K.inv_transform_T(X.detach().cpu().numpy(), R.detach().cpu().numpy())\n",
    "    R_dg_dgpre = np.eye(3)\n",
    "    R_s_dgpre = R_sdg @ R_dg_dgpre\n",
    "    X_dg_dgpre = np.array([0., 0., -0.03])\n",
    "    sX_dg_dgpre = R_sdg @ X_dg_dgpre\n",
    "    X_s_dgpre = X_sdg + sX_dg_dgpre\n",
    "\n",
    "    pre_place = (X_s_dgpre, R_s_dgpre)\n",
    "    place = (X_sdg, R_sdg)\n",
    "\n",
    "    try:\n",
    "        task.place(pre_place, place, max_distance_plan=place_max_distance_plan)\n",
    "        print(\"Place IK Success\", flush=True)\n",
    "        return True\n",
    "    except StopIteration:\n",
    "        #print(\"Place IK Failed\", flush=True)\n",
    "        return False\n",
    "\n",
    "\n",
    "\n",
    "##### Load eval config #####\n",
    "with open(eval_config_dir) as file:\n",
    "    config = yaml.load(file, Loader=yaml.FullLoader)\n",
    "device = config['device']\n",
    "characteristic_length = config['characteristic_length']\n",
    "plot_figsize = config['plot_figsize']\n",
    "plot_result_figsize = config['plot_result_figsize']\n",
    "pick_only = config['pick_only']\n",
    "\n",
    "pick_policy = config['pick_policy']\n",
    "pick_dist_temp = config['pick_dist_temp']\n",
    "pick_policy_temp = config['pick_policy_temp']\n",
    "pick_attempt_max = config['pick_attempt_max']\n",
    "N_transform_pick = config['N_transform_pick']\n",
    "mh_iter_pick = config['mh_iter_pick']\n",
    "langevin_iter_pick = config['langevin_iter_pick']\n",
    "optim_iter_pick = config['optim_iter_pick']\n",
    "langevin_dt_pick = config['langevin_dt_pick']\n",
    "optim_lr_pick = config['optim_lr_pick']\n",
    "X_seed_mean_pick = config['X_seed_mean_pick']\n",
    "X_seed_std_pick = config['X_seed_std_pick']\n",
    "max_N_query_pick = config['max_N_query_pick']\n",
    "\n",
    "place_policy = config['place_policy']\n",
    "place_dist_temp = config['place_dist_temp']\n",
    "place_policy_temp = config['place_policy_temp']\n",
    "place_attempt_max = config['place_attempt_max']\n",
    "N_transform_place = config['N_transform_place']\n",
    "mh_iter_place = config['mh_iter_place']\n",
    "langevin_iter_place = config['langevin_iter_place']\n",
    "optim_iter_place = config['optim_iter_place']\n",
    "langevin_dt_place = config['langevin_dt_place']\n",
    "optim_lr_place = config['optim_lr_place']\n",
    "X_seed_mean_place = config['X_seed_mean_place']\n",
    "X_seed_std_place = config['X_seed_std_place']\n",
    "max_N_query_place = 5# config['max_N_query_place']\n",
    "query_temp_place = config['query_temp_place']\n",
    "\n",
    "\n",
    "schedules = config['schedules']\n",
    "\n",
    "##### Load train config #####\n",
    "with open(task_config_dir) as file:\n",
    "    config = yaml.load(file, Loader=yaml.FullLoader)\n",
    "sleep = config['sleep']\n",
    "d = config['d']\n",
    "d_pick = config['d_pick']\n",
    "d_place = config['d_place']\n",
    "\n",
    "model_seed = 0\n",
    "random.seed(model_seed)\n",
    "np.random.seed(model_seed)\n",
    "torch.manual_seed(model_seed)\n",
    "if deterministic:\n",
    "    torch.use_deterministic_algorithms(True)\n",
    "torch.set_printoptions(precision=4, sci_mode=False)\n",
    "\n",
    "##### Load agent models #####\n",
    "# if random_init_tp:\n",
    "#     pick_agent = PickAgent(config_dir=pick_agent_config_dir, device=device, max_N_query=max_N_query_pick)\n",
    "#     place_agent = PlaceAgent(config_dir=place_agent_config_dir, device=device, max_N_query=max_N_query_place)\n",
    "# else:\n",
    "#     pick_agent = PickAgent(config_dir=pick_agent_config_dir, tp_pickle_path=pick_tp_pickle_dir, device=device, max_N_query=max_N_query_pick)\n",
    "#     place_agent = PlaceAgent(config_dir=place_agent_config_dir, tp_pickle_path=place_tp_pickle_dir, device=device, max_N_query=max_N_query_place)\n",
    "if load_model:\n",
    "    pick_agent = PickAgent(config_dir=pick_agent_config_dir, device=device, max_N_query=max_N_query_pick, langevin_dt=langevin_dt_pick).requires_grad_(False)\n",
    "    place_agent = PlaceAgent(config_dir=place_agent_config_dir, device=device, max_N_query=max_N_query_place, langevin_dt=langevin_dt_place).requires_grad_(False)\n",
    "    pick_agent.load(checkpoint_path_pick)\n",
    "    place_agent.load(checkpoint_path_place)\n",
    "\n",
    "##### Initialize task env #####\n",
    "task = MugTask(use_gui=use_gui)"
   ]
  },
  {
   "cell_type": "code",
   "execution_count": null,
   "metadata": {},
   "outputs": [],
   "source": [
    "def lowvar_randn(N, d=3):\n",
    "    x=torch.randn(5*N,d)\n",
    "    x=x[(x.norm(dim=-1)<2.).nonzero().squeeze(-1)]\n",
    "\n",
    "    return x[:N]\n",
    "\n",
    "def append_alpha(color, alpha):\n",
    "    assert len(color.shape)==2\n",
    "    assert color.shape[-1]==3\n",
    "    assert color.max() <= 1.\n",
    "    assert color.min() >= 0.\n",
    "    assert alpha <= 1.\n",
    "    assert alpha >= 0.\n",
    "    \n",
    "    color_alpha = np.concatenate((color, alpha*np.ones((color.shape[0],1))), axis=-1)\n",
    "    return color_alpha\n",
    "\n",
    "def get_rot(*rots):\n",
    "    q = Rotation.from_euler('xyz',[0., 0., 0.],degrees=True)\n",
    "    for rot in rots:\n",
    "        q = Rotation.from_euler('xyz',rot,degrees=True) * q\n",
    "\n",
    "    return np.array(q.as_quat())\n",
    "\n",
    "def transform_coord(coord, T):\n",
    "    q,x = T\n",
    "    assert q.shape==(4,) and x.shape==(3,)\n",
    "    q=np.array([q[-1],q[0],q[1],q[2]])\n",
    "    coord = transforms.quaternion_apply(torch.from_numpy(q),torch.from_numpy(coord)).numpy() + x.reshape(-1,3)\n",
    "    return coord\n",
    "\n",
    "\n",
    "def append_pc(*pcs):\n",
    "    coords = []\n",
    "    colors = []\n",
    "    for pc in pcs:\n",
    "        if len(pc)==2:\n",
    "            coord, color = pc\n",
    "            T = (get_rot([0,0,0]),np.array([0.,0.,0.])) \n",
    "            alpha = None\n",
    "        elif len(pc)==3:\n",
    "            coord, color, T = pc\n",
    "            if T == None:\n",
    "                T = (get_rot([0,0,0]),np.array([0.,0.,0.])) \n",
    "            alpha = None\n",
    "        elif len(pc)==4:\n",
    "            coord, color, T, alpha = pc\n",
    "            if T==None:\n",
    "                T = (get_rot([0,0,0]),np.array([0.,0.,0.]))\n",
    "        else:\n",
    "            print(len(pc))\n",
    "            raise ValueError\n",
    "        if alpha is not None:\n",
    "            color[...,-1] = alpha\n",
    "\n",
    "        assert len(coord.shape)==2 and len(color.shape)==2 and len(T)==2\n",
    "        assert coord.shape[-1]==3 and color.shape[-1]==4 and coord.shape[0]==color.shape[0]\n",
    "        assert T[0].shape==(4,) and T[1].shape==(3,)\n",
    "        coord = transform_coord(coord, T)\n",
    "        coords.append(coord)\n",
    "        colors.append(color)\n",
    "    \n",
    "    coords = np.concatenate(coords, axis=0)\n",
    "    colors = np.concatenate(colors, axis=0)\n",
    "    \n",
    "    return coords, colors\n",
    "\n",
    "def normalize_color_range(color, elementwise = True):\n",
    "    assert len(color.shape) == 2\n",
    "    if elementwise:\n",
    "        color[...,:3] = color[...,:3] - color[...,:3].min(axis=0, keepdims=True) + 1e-6\n",
    "        color[...,:3] = color[...,:3] / color[...,:3].max(axis=0, keepdims=True)\n",
    "    else:\n",
    "        color[...,:3] = color[...,:3] - color[...,:3].min() + 1e-6\n",
    "        color[...,:3] = color[...,:3] / color[...,:3].max()\n",
    "    return color\n",
    "\n",
    "def normalize_scalar_feature(scalar_val, elementwise = True):\n",
    "    if elementwise:\n",
    "        scalar_val = scalar_val / scalar_val.std(axis=0,keepdims=True)\n",
    "    scalar_val = normalize_color_range(scalar_val, elementwise = elementwise)\n",
    "    return scalar_val\n",
    "\n",
    "def get_edf_sample(feature_se3T, pos_se3T, sample_center, iters=10, std=0.3):\n",
    "    sample_points = []\n",
    "    sample_features = []\n",
    "    for i in tqdm(range(iters)):\n",
    "        if iters == 1:\n",
    "            sample_point = sample_center.clone()\n",
    "        else:\n",
    "            sample_point = sample_center + torch.randn(len(sample_center),3)*std\n",
    "        field_val, neighbor = pick_agent.energy_model.get_field_value(feature=feature_se3T.cpu(), pos=pos_se3T.cpu(), query_points=sample_point.unsqueeze(0))\n",
    "        field_val = field_val.squeeze(0)\n",
    "        neighbor = neighbor.squeeze(0)\n",
    "\n",
    "        sample_points.append(sample_point)\n",
    "        sample_features.append(field_val)\n",
    "\n",
    "    sample_points = torch.cat(sample_points, dim=0).cpu().numpy()\n",
    "    sample_features = torch.cat(sample_features, dim=0).cpu().numpy()\n",
    "\n",
    "    return sample_points, sample_features\n",
    "\n",
    "\n",
    "def get_edf_sample_K(feature_se3T, pos_se3T, sample_center, iters=10, std=0.3, shell = False):\n",
    "    sample_points = []\n",
    "    sample_features = []\n",
    "    for i in tqdm(range(iters)):\n",
    "        if iters == 1 and shell is False:\n",
    "            sample_point = sample_center.clone()\n",
    "        elif shell is False:\n",
    "            sample_point = sample_center + torch.randn(len(sample_center),3)*std\n",
    "        else:\n",
    "            shell_ = torch.randn(len(sample_center), 3)\n",
    "            shell_ = shell_ / shell_.norm(dim=-1, keepdim=True)\n",
    "            sample_point = sample_center + shell_*std*2\n",
    "        field_val, neighbor = place_agent.energy_model.get_field_value(feature=feature_se3T.cpu(), pos=pos_se3T.cpu(), query_points=sample_point.unsqueeze(0))\n",
    "        field_val = field_val.squeeze(0)\n",
    "        neighbor = neighbor.squeeze(0)\n",
    "\n",
    "        sample_points.append(sample_point)\n",
    "        sample_features.append(field_val)\n",
    "\n",
    "    sample_points = torch.cat(sample_points, dim=0).cpu().numpy()\n",
    "    sample_features = torch.cat(sample_features, dim=0).cpu().numpy()\n",
    "\n",
    "    return sample_points, sample_features\n",
    "\n",
    "def get_edf_sample_Q(feature_se3T, pos_se3T, sample_center, iters=10, std=0.3):\n",
    "    sample_points = []\n",
    "    sample_features = []\n",
    "    for i in tqdm(range(iters)):\n",
    "        if iters == 1:\n",
    "            sample_point = sample_center.clone()\n",
    "        else:\n",
    "            sample_point = sample_center + torch.randn(len(sample_center),3)*std\n",
    "        sample_feature =  place_agent.query_model.get_feature(feature=feature_se3T, pos=pos_se3T, query_points = sample_point.unsqueeze(0).to('cuda')).squeeze(0).cpu()\n",
    "\n",
    "        sample_points.append(sample_point)\n",
    "        sample_features.append(sample_feature)\n",
    "\n",
    "    sample_points = torch.cat(sample_points, dim=0).cpu().numpy()\n",
    "    sample_features = torch.cat(sample_features, dim=0).cpu().numpy()\n",
    "\n",
    "    return sample_points, sample_features\n",
    "\n",
    "def draw_arrow(pc, begin, end, arrow_color, arrowhead_size = 1., density=10, view_normal = None):\n",
    "    assert len(arrow_color) == 4\n",
    "    if pc is not None:\n",
    "        coord, color = pc\n",
    "        coord, color = append_pc((coord, color), draw_poincloud_arrow_new(begin=begin, end=end, color=arrow_color, arrowhead_size=arrowhead_size, density=density, view_normal = view_normal))\n",
    "        return coord, color\n",
    "    else:\n",
    "        return draw_poincloud_arrow_new(begin=begin, end=end, color=arrow_color, arrowhead_size=arrowhead_size, density=density)\n",
    "\n",
    "def draw_blob(q, color, std ,N=100):\n",
    "    assert color.shape == (4,)\n",
    "    # coord = torch.randn(N,3)\n",
    "    # coord = coord[(coord.norm(dim=-1) < 2.).nonzero().squeeze(-1)].numpy()\n",
    "    # coord = coord*std + q\n",
    "    coord = torch.randn(N,3)\n",
    "    coord = coord / (1e-5+coord.norm(dim=-1,keepdim=True))\n",
    "    coord = coord.numpy() * std + q\n",
    "    color = np.repeat(color.reshape(1,-1), len(coord), axis=0)\n",
    "    return coord, color\n",
    "\n",
    "def get_vector_field(sample_points, vector_feature, criteria = lambda p,norm: norm>.5):\n",
    "    #arrowed = (coord_dense, color_alpha_dense)\n",
    "    vec_field = []\n",
    "    for p, vec in zip(sample_points, vector_feature):\n",
    "        norm = np.linalg.norm(vec)\n",
    "        #vec = vec/norm\n",
    "        begin = p\n",
    "        #end = begin + vec * 4. * norm\n",
    "        #arrowed = draw_arrow(arrowed, begin=end, end=begin, arrow_color=np.array([0, 0., 1.,1.]), N=10, arrowhead_size=0.)\n",
    "        if criteria(p, norm):\n",
    "            vec_field.append((p,vec))\n",
    "\n",
    "    return vec_field\n",
    "\n",
    "def draw_vector_field(vec_field, size = 1., length=4., append_to = None, view_normal = None, color = np.array([0, 0., 1.,1.])):\n",
    "    if view_normal is None:\n",
    "        view_normal = np.array([-1,1,-1]) / np.sqrt(3)\n",
    "\n",
    "    arrowed = append_to\n",
    "    for p,vec in vec_field:\n",
    "        #norm = np.linalg.norm(vec)\n",
    "        begin = p\n",
    "        end = begin + vec * length\n",
    "        arrowed = draw_arrow(arrowed, begin=begin, end=end, arrow_color=color, density=10, arrowhead_size=size, view_normal = view_normal)\n",
    "        \n",
    "    return arrowed\n",
    "\n",
    "def transform_vec(vec_field, T):\n",
    "    q,x = T\n",
    "    assert q.shape==(4,) and x.shape==(3,)\n",
    "    q=np.array([q[-1],q[0],q[1],q[2]])\n",
    "    vec_rot = []\n",
    "    for p,vec in vec_field:\n",
    "        vec_rot.append((transforms.quaternion_apply(torch.from_numpy(q),torch.from_numpy(p)).numpy() + x,   transforms.quaternion_apply(torch.from_numpy(q),torch.from_numpy(vec)).numpy()))\n",
    "\n",
    "    return vec_rot"
   ]
  },
  {
   "cell_type": "markdown",
   "metadata": {},
   "source": [
    "# Dense Image (Pick)"
   ]
  },
  {
   "cell_type": "code",
   "execution_count": null,
   "metadata": {},
   "outputs": [],
   "source": [
    "seed=0\n",
    "#seed=1\n",
    "mug_pose='upright' \n",
    "#mug_pose='lying'\n",
    "mug_type='default'\n",
    "distractor=False\n",
    "use_support=False"
   ]
  },
  {
   "cell_type": "code",
   "execution_count": null,
   "metadata": {},
   "outputs": [],
   "source": [
    "##### Observe #####\n",
    "task.reset(seed = seed, mug_pose=mug_pose, mug_type=mug_type, distractor=distractor, use_support=use_support)\n",
    "pc = task.observe_pointcloud(stride = (1,1))\n",
    "sample_unprocessed = {}\n",
    "sample_unprocessed['coord'] ,sample_unprocessed['color'] = voxel_filter(pc['coord'], pc['color'], d=d_dense)\n",
    "# vox = voxelize_sample({'coord': pc['coord'], 'color': pc['color'], 'd': d}, coord_jitter=0.1, color_jitter=0.03, pick=True, place=False)\n",
    "# sample_unprocessed['coord'] ,sample_unprocessed['color'] = vox['coord'], vox['color']\n",
    "\n",
    "\n",
    "sample_unprocessed['range'] = pc['ranges']\n",
    "sample_unprocessed['images'] = task.observe()\n",
    "sample_unprocessed['center'] = task.center\n",
    "color_unprocessed = sample_unprocessed['color']\n",
    "sample = preprocess(sample_unprocessed, characteristic_length)\n",
    "\n",
    "\n",
    "##### Prepare Input #####\n",
    "coord, color, ranges = sample['coord'], sample['color'], sample['ranges']\n",
    "data_transform = sample['data_transform']\n",
    "feature = torch.tensor(color, dtype=torch.float32, device=device)\n",
    "pos = torch.tensor(coord, dtype=torch.float32, device=device)\n",
    "in_range_cropped_idx = pick_agent.crop_range_idx(pos)\n",
    "pos, feature = pos[in_range_cropped_idx], feature[in_range_cropped_idx]\n",
    "inputs = {'feature': feature, 'pos': pos, 'edge': None, 'max_neighbor_radius': pick_agent.max_radius}\n",
    "\n",
    "\n",
    "\n",
    "\n",
    "visual_info_dense = {'coord':coord[in_range_cropped_idx.cpu()].copy(), \n",
    "                'color': color_unprocessed[in_range_cropped_idx.cpu()].copy(), \n",
    "                'ranges': ranges.copy(),\n",
    "                }#'ax': axes[0]}"
   ]
  },
  {
   "cell_type": "code",
   "execution_count": null,
   "metadata": {},
   "outputs": [],
   "source": [
    "coord_dense, color_dense, ranges_dense = visual_info_dense['coord'], visual_info_dense['color'], visual_info_dense['ranges']\n",
    "color_alpha_dense = append_alpha(color_dense, 1.)\n",
    "\n",
    "fig,ax = plt.subplots(1,1, figsize=(10,10), subplot_kw={'projection':'3d'})\n",
    "ax.axis('off')\n",
    "scatter_plot_ax(ax, coord_dense, color_alpha_dense, ranges_dense, frame_infos = [], transform='default')\n",
    "pc_dense = (coord_dense, color_alpha_dense)"
   ]
  },
  {
   "cell_type": "markdown",
   "metadata": {},
   "source": [
    "# EDF Field"
   ]
  },
  {
   "cell_type": "code",
   "execution_count": null,
   "metadata": {},
   "outputs": [],
   "source": [
    "# seed=0\n",
    "# mug_pose='upright'\n",
    "# mug_type='default'\n",
    "# distractor=False\n",
    "# use_support=False"
   ]
  },
  {
   "cell_type": "code",
   "execution_count": null,
   "metadata": {},
   "outputs": [],
   "source": [
    "##### Observe #####\n",
    "task.reset(seed = seed, mug_pose=mug_pose, mug_type=mug_type, distractor=distractor, use_support=use_support)\n",
    "pc = task.observe_pointcloud(stride = (1,1))\n",
    "sample_unprocessed = {}\n",
    "sample_unprocessed['coord'] ,sample_unprocessed['color'] = voxel_filter(pc['coord'], pc['color'], d=d_field)\n",
    "# vox = voxelize_sample({'coord': pc['coord'], 'color': pc['color'], 'd': d}, coord_jitter=0.1, color_jitter=0.03, pick=True, place=False)\n",
    "# sample_unprocessed['coord'] ,sample_unprocessed['color'] = vox['coord'], vox['color']\n",
    "\n",
    "\n",
    "sample_unprocessed['range'] = pc['ranges']\n",
    "sample_unprocessed['images'] = task.observe()\n",
    "sample_unprocessed['center'] = task.center\n",
    "color_unprocessed = sample_unprocessed['color']\n",
    "sample = preprocess(sample_unprocessed, characteristic_length)\n",
    "\n",
    "\n",
    "##### Prepare Input #####\n",
    "coord, color, ranges = sample['coord'], sample['color'], sample['ranges']\n",
    "data_transform = sample['data_transform']\n",
    "feature = torch.tensor(color, dtype=torch.float32, device=device)\n",
    "pos = torch.tensor(coord, dtype=torch.float32, device=device)\n",
    "in_range_cropped_idx = pick_agent.crop_range_idx(pos)\n",
    "pos, feature = pos[in_range_cropped_idx], feature[in_range_cropped_idx]\n",
    "inputs = {'feature': feature, 'pos': pos, 'edge': None, 'max_neighbor_radius': pick_agent.max_radius}\n",
    "\n",
    "\n",
    "\n",
    "\n",
    "visual_info_field = {'coord':coord[in_range_cropped_idx.cpu()].copy(), \n",
    "                'color': color_unprocessed[in_range_cropped_idx.cpu()].copy(), \n",
    "                'ranges': ranges.copy(),\n",
    "                }#'ax': axes[0]}"
   ]
  },
  {
   "cell_type": "code",
   "execution_count": null,
   "metadata": {},
   "outputs": [],
   "source": [
    "coord_field, color_field, ranges_field = visual_info_field['coord'], visual_info_field['color'], visual_info_field['ranges']\n",
    "color_alpha_field = append_alpha(color_field, 1.)"
   ]
  },
  {
   "cell_type": "code",
   "execution_count": null,
   "metadata": {},
   "outputs": [],
   "source": [
    "# fig,ax = plt.subplots(1,1, figsize=(10,10), subplot_kw={'projection':'3d'})\n",
    "# ax.axis('off')\n",
    "# scatter_plot_ax(ax, coord_field, color_alpha_field, ranges_field, frame_infos = [], transform='default')"
   ]
  },
  {
   "cell_type": "code",
   "execution_count": null,
   "metadata": {},
   "outputs": [],
   "source": [
    "coord_jitter = None # 0.1\n",
    "color_jitter = None # 0.03\n",
    "\n",
    "##### Observe #####\n",
    "task.reset(seed = seed, mug_pose=mug_pose, mug_type=mug_type, distractor=distractor, use_support=use_support)\n",
    "pc = task.observe_pointcloud(stride = (1,1))\n",
    "sample_unprocessed = {}\n",
    "sample_unprocessed['coord'] ,sample_unprocessed['color'] = voxel_filter(pc['coord'], pc['color'], d=d)\n",
    "# vox = voxelize_sample({'coord': pc['coord'], 'color': pc['color'], 'd': d}, coord_jitter=0.1, color_jitter=0.03, pick=True, place=False)\n",
    "# sample_unprocessed['coord'] ,sample_unprocessed['color'] = vox['coord'], vox['color']\n",
    "\n",
    "\n",
    "sample_unprocessed['range'] = pc['ranges']\n",
    "sample_unprocessed['images'] = task.observe()\n",
    "sample_unprocessed['center'] = task.center\n",
    "color_unprocessed = sample_unprocessed['color']\n",
    "sample = preprocess(sample_unprocessed, characteristic_length)\n",
    "\n",
    "\n",
    "##### Prepare Input #####\n",
    "coord, color, ranges = sample['coord'], sample['color'], sample['ranges']\n",
    "data_transform = sample['data_transform']\n",
    "feature = torch.tensor(color, dtype=torch.float32, device=device)\n",
    "pos = torch.tensor(coord, dtype=torch.float32, device=device)\n",
    "in_range_cropped_idx = pick_agent.crop_range_idx(pos)\n",
    "pos, feature = pos[in_range_cropped_idx], feature[in_range_cropped_idx]\n",
    "inputs = {'feature': feature, 'pos': pos, 'edge': None, 'max_neighbor_radius': pick_agent.max_radius}\n",
    "\n",
    "\n",
    "\n",
    "\n",
    "visual_info = {'coord':coord[in_range_cropped_idx.cpu()], \n",
    "                'color': color_unprocessed[in_range_cropped_idx.cpu()], \n",
    "                'ranges': ranges,\n",
    "                }#'ax': axes[0]}\n",
    "\n",
    "\n",
    "if coord_jitter:\n",
    "    if True: # pick\n",
    "        visual_info['coord'] = visual_info['coord'] + np.random.randn(*(visual_info['coord'].shape)) * d * coord_jitter * 100\n",
    "    if False: # place\n",
    "        sample['coord_pick'] = sample['coord_pick'] + np.random.randn(*(sample['coord_pick'].shape)) * sample['d_pick'] * coord_jitter\n",
    "        sample['coord_place'] = sample['coord_place'] + np.random.randn(*(sample['coord_place'].shape)) * sample['d_place'] * coord_jitter\n",
    "\n",
    "if color_jitter:\n",
    "    if True: # pick\n",
    "        visual_info['color'] = visual_info['color'] + np.random.randn(*(visual_info['color'].shape)) * color_jitter\n",
    "    if False: #place\n",
    "        sample['color_pick'] = sample['color_pick'] + np.random.randn(*(sample['color_pick'].shape)) * color_jitter\n",
    "        sample['color_place'] = sample['color_place'] + np.random.randn(*(sample['color_place'].shape)) * color_jitter\n",
    "\n",
    "    if True: #pick\n",
    "        visual_info['color'] = np.where(visual_info['color'] > 1., 1., visual_info['color'])\n",
    "        visual_info['color'] = np.where(visual_info['color'] < 0., 0., visual_info['color'])\n",
    "    if False: #place\n",
    "        sample['color_pick'] = np.where(sample['color_pick'] > 1., 1., sample['color_pick'])\n",
    "        sample['color_pick'] = np.where(sample['color_pick'] < 0., 0., sample['color_pick'])\n",
    "        sample['color_place'] = np.where(sample['color_place'] > 1., 1., sample['color_place'])\n",
    "        sample['color_place'] = np.where(sample['color_place'] < 0., 0., sample['color_place'])"
   ]
  },
  {
   "cell_type": "code",
   "execution_count": null,
   "metadata": {},
   "outputs": [],
   "source": [
    "# coord_input, color_input, ranges_input = visual_info['coord'], visual_info['color'], visual_info['ranges']\n",
    "# color_alpha_input = append_alpha(color_input, 1.)\n",
    "\n",
    "# fig,ax = plt.subplots(1,1, figsize=(10,10), subplot_kw={'projection':'3d'})\n",
    "# ax.axis('off')\n",
    "# scatter_plot_ax(ax, coord_input, color_alpha_input, ranges_input, frame_infos = [], transform='default')"
   ]
  },
  {
   "cell_type": "code",
   "execution_count": null,
   "metadata": {},
   "outputs": [],
   "source": [
    "feature_se3T, pos_se3T = pick_agent.get_descriptor(inputs=inputs, requires_grad=False)"
   ]
  },
  {
   "cell_type": "markdown",
   "metadata": {},
   "source": [
    "### 10 Features"
   ]
  },
  {
   "cell_type": "code",
   "execution_count": null,
   "metadata": {},
   "outputs": [],
   "source": [
    "# sample_center = torch.from_numpy(coord_field).type(torch.float32)\n",
    "# iters=100\n",
    "# std=0.7\n",
    "# sample_points, sample_features = get_edf_sample(feature_se3T=feature_se3T, pos_se3T=pos_se3T, sample_center=sample_center, iters=iters, std=std)\n",
    "\n",
    "\n",
    "# fig, ax = plt.subplots(2,5, figsize=(10*5,10*2), subplot_kw={'projection':'3d'})\n",
    "# for i in range(2):\n",
    "#     for j in tqdm(range(5)):\n",
    "#         ax[i,j].axis('off')\n",
    "#         scatter_plot_ax(ax[i,j], sample_points, append_alpha(normalize_scalar_feature(scalar_val=np.repeat(sample_features[...,5*i+j:5*i+j+1], 3, axis=-1)), alpha=0.3), ranges_field, frame_infos = [], transform='default')"
   ]
  },
  {
   "cell_type": "markdown",
   "metadata": {},
   "source": [
    "### Colormap"
   ]
  },
  {
   "cell_type": "code",
   "execution_count": null,
   "metadata": {},
   "outputs": [],
   "source": [
    "sample_center = torch.from_numpy(coord_field).type(torch.float32)\n",
    "iters=100\n",
    "std=0.5\n",
    "sample_points, sample_features = get_edf_sample(feature_se3T=feature_se3T, pos_se3T=pos_se3T, sample_center=sample_center, iters=iters, std=std)\n",
    "\n",
    "feature_indices = [3,1,7]\n",
    "scalar_features = sample_features[:,[*feature_indices]]\n",
    "sample_colors = append_alpha(normalize_scalar_feature(scalar_val=scalar_features), alpha=0.1)\n",
    "sample_colors_remap = sample_colors ** np.array([1., 2., 1., 1.]) * np.array([1., 0.8, 1., 1.]) "
   ]
  },
  {
   "cell_type": "code",
   "execution_count": null,
   "metadata": {},
   "outputs": [],
   "source": [
    "theta = 90\n",
    "T = (get_rot([0,0,theta]),np.array([0.,0,0.]))\n",
    "\n",
    "fig,ax = plt.subplots(1,1, figsize=(20,20), subplot_kw={'projection':'3d'})\n",
    "ax.axis('off')\n",
    "scatter_plot_ax(ax, transform_coord(sample_points, T), sample_colors_remap, ranges_field, frame_infos = [], transform='default')\n",
    "scalar_field = (sample_points, sample_colors_remap)"
   ]
  },
  {
   "cell_type": "markdown",
   "metadata": {},
   "source": [
    "### Merged colormap"
   ]
  },
  {
   "cell_type": "code",
   "execution_count": null,
   "metadata": {},
   "outputs": [],
   "source": [
    "# sample_center = torch.from_numpy(coord_field).type(torch.float32)\n",
    "# iters=500\n",
    "# std=0.7\n",
    "# sample_points, sample_features = get_edf_sample(feature_se3T=feature_se3T, pos_se3T=pos_se3T, sample_center=sample_center, iters=iters, std=std)\n",
    "\n",
    "# feature_indices = [3,1,7]\n",
    "# scalar_features = sample_features[:,[*feature_indices]]\n",
    "# sample_colors = append_alpha(normalize_scalar_feature(scalar_val=scalar_features), alpha=0.1)\n",
    "# sample_colors_remap = sample_colors ** np.array([1., 2., 1., 1.]) * np.array([1., 0.8, 1., 1.]) \n",
    "\n",
    "# coord_full, color_full = append_pc([coord_dense, color_alpha_dense, (get_rot([0,0,0]),np.array([0.,0.,0.]))  , 0.9],\n",
    "#                                    [sample_points, sample_colors_remap, (get_rot([0,0,0]),np.array([0.,0.,0.]))  ,0.02],)\n",
    "\n",
    "# fig,ax = plt.subplots(1,1, figsize=(20,20), subplot_kw={'projection':'3d'})\n",
    "# ax.axis('off')\n",
    "# scatter_plot_ax(ax, coord_full, color_full, ranges_field, frame_infos = [], transform='default')"
   ]
  },
  {
   "cell_type": "markdown",
   "metadata": {},
   "source": [
    "### Vector Fields"
   ]
  },
  {
   "cell_type": "code",
   "execution_count": null,
   "metadata": {},
   "outputs": [],
   "source": [
    "def vec_criteria(p, norm, center):\n",
    "    if norm > .5:\n",
    "        pass\n",
    "    else:\n",
    "        return False\n",
    "        \n",
    "    distance = np.linalg.norm((p-center))\n",
    "    return True\n",
    "    if distance >= 5. and distance <= 6.:\n",
    "        return True\n",
    "    else:\n",
    "        return False"
   ]
  },
  {
   "cell_type": "code",
   "execution_count": null,
   "metadata": {},
   "outputs": [],
   "source": [
    "z_offset = -20\n",
    "rim_offset = np.array([0.,0., 7.5])\n",
    "X_sm, R_sm = task.get_state()['T_sm']\n",
    "X_sm = (X_sm - task.center)* 100 + np.array([0., 0., z_offset])\n",
    "rim_center = X_sm + (rim_offset @ R_sm.T)\n",
    "criteria = lambda p,norm: vec_criteria(p,norm,rim_center)\n",
    "\n",
    "n=20\n",
    "rs = [5.9]\n",
    "if mug_pose == 'upright':\n",
    "    thetas = np.pi*2*np.linspace(0,1,n+1)[:-1] # upright\n",
    "elif mug_pose == 'lying':\n",
    "    thetas = np.pi*np.linspace(-0.1,1.,n+1)[:-1] # lying\n",
    "\n",
    "sample_points = []\n",
    "for r in rs:\n",
    "    sample_point = np.stack([np.cos(thetas) * r, np.sin(thetas)* r, np.zeros(n)], axis=-1)\n",
    "    sample_point = rim_center + sample_point @ R_sm.T\n",
    "    sample_points.append(sample_point)\n",
    "sample_points = np.concatenate(sample_points, axis=0)"
   ]
  },
  {
   "cell_type": "code",
   "execution_count": null,
   "metadata": {},
   "outputs": [],
   "source": [
    "iters=1\n",
    "std=0.5\n",
    "feature_idx = 1#9\n",
    "#sample_points = torch.stack(torch.meshgrid(torch.linspace(-20,20,90),torch.linspace(-20,20,90),torch.linspace(-20,0,1)), dim=-1).reshape(-1,3)\n",
    "sample_points, sample_features = get_edf_sample(feature_se3T=feature_se3T, pos_se3T=pos_se3T, sample_center=torch.from_numpy(sample_points).type(torch.float32), iters=iters, std=std)\n",
    "vector_feature = sample_features[...,10+feature_idx*3:10+feature_idx*3+3]\n",
    "vec_field = get_vector_field(sample_points=sample_points, vector_feature=vector_feature, criteria=criteria)\n"
   ]
  },
  {
   "cell_type": "code",
   "execution_count": null,
   "metadata": {},
   "outputs": [],
   "source": [
    "size = 2.\n",
    "length = 4.\n",
    "\n",
    "theta = 90\n",
    "T = (get_rot([0,0,theta]),np.array([0.,0,0.]))\n",
    "arrowed = draw_vector_field(transform_vec(vec_field, T), size=size, length = length)\n",
    "#arrowed = draw_blob(rim_center, np.array([0.,1,1.,1.]), std=1., N=10000)\n",
    "\n",
    "#ranges_pretty = np.array([[-20,20],[-20,20],[-40, -0]])\n",
    "ranges_pretty = np.array([[-15,15],[-15,15],[-40, -10]])\n",
    "fig,ax = plt.subplots(1,1, figsize=(20,20), subplot_kw={'projection':'3d'})\n",
    "ax.axis('off')\n",
    "scatter_plot_ax(ax, *append_pc((coord_dense, color_alpha_dense, T , 1.), (*arrowed, None , 0.05)), ranges_dense, frame_infos = [], transform='default')"
   ]
  },
  {
   "cell_type": "code",
   "execution_count": null,
   "metadata": {},
   "outputs": [],
   "source": [
    "# mug_center = (task.get_state()['T_sm'][0] - task.center)* 100\n",
    "\n",
    "# sample_points = torch.stack(torch.meshgrid(torch.linspace(-20,20,50),torch.linspace(-20,20,50),torch.linspace(-20,0,2)), dim=-1).reshape(-1,3)\n",
    "# iters=1\n",
    "# std=0.5\n",
    "# sample_points, sample_features = get_edf_sample(feature_se3T=feature_se3T, pos_se3T=pos_se3T, sample_center=sample_points, iters=iters, std=std)\n",
    "\n",
    "\n",
    "\n",
    "# feature_idx = 9\n",
    "\n",
    "# #arrowed = (coord_dense, color_alpha_dense)\n",
    "# arrowed = None\n",
    "# for p, f in zip(sample_points, sample_features):\n",
    "#     vec = f[...,10+feature_idx*3:10+feature_idx*3+3]\n",
    "#     norm = np.linalg.norm(vec)\n",
    "\n",
    "\n",
    "#     distance = np.linalg.norm((p-mug_center)[:2])\n",
    "#     if distance < 5. or distance > 6.:\n",
    "#         continue\n",
    "\n",
    "#     if norm > .5:\n",
    "#         vec = vec/norm\n",
    "#         begin = p\n",
    "#         #end = begin + vec * 3. * norm\n",
    "#         end = begin + vec * 4.\n",
    "#         arrowed = draw_arrow(arrowed, begin=begin, end=end, arrow_color=np.array([0, 0., 1.,1.]), N=10, arrowhead_size=2.)\n",
    "\n",
    "\n",
    "\n",
    "\n",
    "\n",
    "\n",
    "\n",
    "# #ranges_pretty = np.array([[-20,20],[-20,20],[-40, -0]])\n",
    "# ranges_pretty = np.array([[-15,15],[-15,15],[-40, -10]])\n",
    "# #ranges_pretty = np.array([[-10,10],[-10,10],[-40, -20]])\n",
    "# #ranges_pretty = ranges_dense\n",
    "\n",
    "# ranges_pretty = np.array([[-15,15],[-15,15],[-30, -0]])\n",
    "\n",
    "# fig,ax = plt.subplots(1,1, figsize=(20,20), subplot_kw={'projection':'3d'})\n",
    "# ax.axis('off')\n",
    "# scatter_plot_ax(ax, *append_pc((coord_dense, color_alpha_dense, (get_rot([0,0,120], [25,0,0]),np.array([0,0,0.])) , 1.), (*arrowed, (get_rot([0,0,120], [25,0,0]),np.array([0.,0,0.])) , 0.06)), ranges_pretty, frame_infos = [], transform='default')"
   ]
  },
  {
   "cell_type": "markdown",
   "metadata": {},
   "source": [
    "# Pick"
   ]
  },
  {
   "cell_type": "code",
   "execution_count": null,
   "metadata": {},
   "outputs": [],
   "source": [
    "N_transforms = N_transform_pick\n",
    "mh_iter = mh_iter_pick\n",
    "langevin_iter = langevin_iter_pick\n",
    "#T_seed_pos = torch.tensor([X_seed_std_pick])* torch.randn(N_transforms,3) + torch.tensor(X_seed_mean_pick)\n",
    "# T_seed_pos = torch.rand(N_transforms,3, device=device) * (pick_agent.ranges[:,1] - pick_agent.ranges[:,0]) + pick_agent.ranges[:,0].unsqueeze(-2)\n",
    "# T_seed = torch.cat([transforms.random_quaternions(N_transforms, device=device), T_seed_pos.to(device)] , dim=-1)\n",
    "T_seed = N_transforms\n",
    "#visual_info['ax']=axes[0]\n",
    "Ts, edf_outputs, logs = pick_agent.forward(inputs=inputs, T_seed=T_seed, policy = pick_policy, mh_iter=mh_iter, langevin_iter=langevin_iter, \n",
    "                                            temperature=pick_dist_temp, policy_temperature=pick_policy_temp, optim_iter=optim_iter_pick, optim_lr=optim_lr_pick)"
   ]
  },
  {
   "cell_type": "code",
   "execution_count": null,
   "metadata": {},
   "outputs": [],
   "source": [
    "for T in Ts[:pick_attempt_max]:\n",
    "    pick_ik_success = pick(T)\n",
    "    if pick_ik_success:\n",
    "        break\n",
    "\n",
    "\n",
    "if not pick_ik_success:\n",
    "    print(\"Pick fail: Couldn't find IK solution\", flush=True)\n",
    "\n",
    "if task.check_pick_success():\n",
    "    print(\"Pick success\", flush=True)\n",
    "else:\n",
    "    print(\"Pick fail: Found IK solution but failed\", flush=True)"
   ]
  },
  {
   "cell_type": "code",
   "execution_count": null,
   "metadata": {},
   "outputs": [],
   "source": [
    "task.retract_robot(gripper_val=1., IK_time=1., back=True)"
   ]
  },
  {
   "cell_type": "markdown",
   "metadata": {},
   "source": [
    "# MCMC"
   ]
  },
  {
   "cell_type": "code",
   "execution_count": null,
   "metadata": {},
   "outputs": [],
   "source": [
    "samples = []\n",
    "for T in Ts[:80]:\n",
    "    X = T[4:].numpy()\n",
    "    samples.append(draw_blob(X, np.array([0.,0.,1.,1.]), std=0.05))\n",
    "\n",
    "pc_mcmc = append_pc(pc_dense, *samples)"
   ]
  },
  {
   "cell_type": "code",
   "execution_count": null,
   "metadata": {},
   "outputs": [],
   "source": [
    "theta = 90\n",
    "T = (get_rot([0,0,theta]),np.array([0.,0,0.]))\n",
    "\n",
    "fig,ax = plt.subplots(1,1, figsize=(20,20), subplot_kw={'projection':'3d'})\n",
    "ax.axis('off')\n",
    "scatter_plot_ax(ax, transform_coord(pc_mcmc[0], T), pc_mcmc[1], ranges_dense, frame_infos = [], transform='default')"
   ]
  },
  {
   "cell_type": "markdown",
   "metadata": {},
   "source": [
    "# Dense Image (Place)"
   ]
  },
  {
   "cell_type": "code",
   "execution_count": null,
   "metadata": {},
   "outputs": [],
   "source": [
    "pc_pick = task.observe_pointcloud_pick(stride = (1, 1))\n",
    "sample_unprocessed['range_pick'] = pc_pick['ranges']\n",
    "sample_unprocessed['pick_pose'] = (pc_pick['X_sg'], pc_pick['R_sg'])\n",
    "sample_unprocessed['images_pick'] = task.observe_pick()\n",
    "pc_place = task.observe_pointcloud(stride = (1, 1))\n",
    "sample_unprocessed['range_place'] = pc_place['ranges']\n",
    "sample_unprocessed['images_place'] = task.observe()\n",
    "\n",
    "sample_unprocessed['coord_pick'], sample_unprocessed['color_pick'] = voxel_filter(pc_pick['coord'], pc_pick['color'], d=d_dense)\n",
    "sample_unprocessed['coord_place'], sample_unprocessed['color_place'] = voxel_filter(pc_place['coord'], pc_place['color'], d=d_dense)\n",
    "# vox = voxelize_sample({'coord_pick': pc_pick['coord'], 'color_pick': pc_pick['color'], 'd_pick': d_pick, \n",
    "#                        'coord_place': pc_place['coord'], 'color_place': pc_place['color'], 'd_place': d_place,}, coord_jitter=0.1, color_jitter=0.03, pick=False, place=True)\n",
    "# sample_unprocessed['coord_pick'], sample_unprocessed['color_pick'], sample_unprocessed['coord_place'], sample_unprocessed['color_place'] = vox['coord_pick'], vox['color_pick'], vox['coord_place'], vox['color_place']\n",
    "\n",
    "color_unprocessed_Q = sample_unprocessed['color_pick']\n",
    "color_unprocessed_K = sample_unprocessed['color_place']\n",
    "sample = preprocess(sample_unprocessed, characteristic_length, pick_and_place=True)\n",
    "\n",
    "\n",
    "##### Prepare input #####\n",
    "coord_Q, color_Q, ranges_Q = sample['coord_Q'], sample['color_Q'], sample['ranges_Q']\n",
    "data_transform_Q = sample['data_transform_Q']\n",
    "coord_K, color_K, ranges_K = sample['coord_K'], sample['color_K'], sample['ranges_K']\n",
    "data_transform_K = sample['data_transform_K']\n",
    "\n",
    "feature_Q = torch.tensor(color_Q, dtype=torch.float32, device=device)\n",
    "pos_Q = torch.tensor(coord_Q, dtype=torch.float32, device=device)\n",
    "in_range_cropped_idx_Q = place_agent.crop_range_idx_Q(pos_Q)\n",
    "pos_Q, feature_Q  = pos_Q[in_range_cropped_idx_Q], feature_Q[in_range_cropped_idx_Q]\n",
    "\n",
    "feature_K = torch.tensor(color_K, dtype=torch.float32, device=device)\n",
    "pos_K = torch.tensor(coord_K, dtype=torch.float32, device=device)\n",
    "in_range_cropped_idx_K = place_agent.crop_range_idx(pos_K)\n",
    "pos_K, feature_K = pos_K[in_range_cropped_idx_K], feature_K[in_range_cropped_idx_K]\n",
    "\n",
    "inputs_Q = {'feature': feature_Q, 'pos': pos_Q, 'edge': None, 'max_neighbor_radius': place_agent.max_radius_Q}\n",
    "inputs_K = {'feature': feature_K, 'pos': pos_K, 'edge': None, 'max_neighbor_radius': place_agent.max_radius}\n",
    "\n",
    "visual_info_K_dense = {'coord':coord_K[in_range_cropped_idx_K.cpu()].copy(), \n",
    "                'color': color_unprocessed_K[in_range_cropped_idx_K.cpu()].copy(), \n",
    "                'ranges': ranges_K.copy(),\n",
    "                #'ax': axes[1],\n",
    "                'coord_query': coord_Q[in_range_cropped_idx_Q.cpu()].copy(),\n",
    "                'color_query': color_unprocessed_Q[in_range_cropped_idx_Q.cpu()].copy(),\n",
    "                'ranges_query': ranges_Q.copy(),\n",
    "                #'ax_query': axes[2]\n",
    "                }"
   ]
  },
  {
   "cell_type": "code",
   "execution_count": null,
   "metadata": {},
   "outputs": [],
   "source": [
    "coord_K_dense, color_K_dense, ranges_K_dense = visual_info_K_dense['coord'], visual_info_K_dense['color'], visual_info_K_dense['ranges']\n",
    "color_alpha_K_dense = append_alpha(color_K_dense, 1.)\n",
    "\n",
    "theta_Q = 60\n",
    "pitch_Q = 0\n",
    "T = (get_rot([pitch_Q,0,theta_Q]),np.array([0,0,0.]))\n",
    "ranges_K_pretty = np.array([[-20.,  20.],\n",
    "                          [-20.,  20.],\n",
    "                          [-40.,  0.]])\n",
    "\n",
    "fig,ax = plt.subplots(1,1, figsize=(20,20), subplot_kw={'projection':'3d'})\n",
    "fig.tight_layout()\n",
    "ax.axis('off')\n",
    "scatter_plot_ax(ax, transform_coord(coord_K_dense,T), color_alpha_K_dense, ranges_K_pretty, frame_infos = [], transform='default')\n",
    "fig.savefig(f'cuphanger_seed{seed}', transparent=True)\n",
    "pc_dense_K = (coord_K_dense, color_alpha_K_dense)"
   ]
  },
  {
   "cell_type": "code",
   "execution_count": null,
   "metadata": {},
   "outputs": [],
   "source": [
    "# coord_Q_dense, color_Q_dense, ranges_Q_dense = visual_info_K_dense['coord_query'], visual_info_K_dense['color_query'], visual_info_K_dense['ranges_query']\n",
    "# color_alpha_Q_dense = append_alpha(color_Q_dense, 1.)\n",
    "\n",
    "# T = (get_rot([0,0,90]),np.array([0.,0.,0.]))\n",
    "# coord_Q_rot = transform_coord(coord_Q_dense, T)\n",
    "\n",
    "# fig,ax = plt.subplots(1,2, figsize=(16,8), subplot_kw={'projection':'3d'})\n",
    "# #ax.axis('off')\n",
    "# scatter_plot_ax(ax[0], coord_Q_dense, color_alpha_Q_dense, ranges_Q_dense*0.5, frame_infos = [], transform='default')\n",
    "# scatter_plot_ax(ax[1], coord_Q_rot, color_alpha_Q_dense, ranges_Q_dense*0.5, frame_infos = [], transform='default')\n",
    "# pc_dense_Q = (coord_Q_dense, color_alpha_Q_dense)"
   ]
  },
  {
   "cell_type": "code",
   "execution_count": null,
   "metadata": {},
   "outputs": [],
   "source": [
    "coord_Q_dense, color_Q_dense, ranges_Q_dense = visual_info_K_dense['coord_query'], visual_info_K_dense['color_query'], visual_info_K_dense['ranges_query']\n",
    "color_alpha_Q_dense = append_alpha(color_Q_dense, 1.)\n",
    "\n",
    "theta_Q = 190\n",
    "pitch_Q = 25\n",
    "T = (get_rot([pitch_Q,0,theta_Q]),np.array([0,0,0.]))\n",
    "\n",
    "fig,ax = plt.subplots(1,1, figsize=(10,10), subplot_kw={'projection':'3d'})\n",
    "fig.tight_layout()\n",
    "ax.axis('off')\n",
    "scatter_plot_ax(ax, transform_coord(coord_Q_dense,T), color_alpha_Q_dense, ranges_Q_dense*0.5, frame_infos = [], transform='default')\n",
    "fig.savefig(f'grasp_Q_seed{seed}', transparent=True)\n",
    "pc_dense_Q = (coord_Q_dense, color_alpha_Q_dense)"
   ]
  },
  {
   "cell_type": "markdown",
   "metadata": {},
   "source": [
    "# Merge"
   ]
  },
  {
   "cell_type": "code",
   "execution_count": null,
   "metadata": {},
   "outputs": [],
   "source": [
    "# print(coord_K_dense[:,-1].max())\n",
    "# print(coord_K_dense[:,-1].argmax())\n",
    "# coord_K_dense[97168]"
   ]
  },
  {
   "cell_type": "code",
   "execution_count": null,
   "metadata": {},
   "outputs": [],
   "source": [
    "# coord_full, color_full = append_pc([coord_K_dense, color_alpha_K_dense, (get_rot([0,0,0]),np.array([0.,0.,0.]))  ],\n",
    "#                                    [coord_Q_dense, color_alpha_Q_dense, (get_rot([90,0,0], [0, 0, 90]),np.array([14.24163222,  0.94065815, -7.4613905 ]) + np.array([-3., 6., 1.])  )  ],\n",
    "#                                   )\n",
    "\n",
    "# coord_full = transform_coord(coord_full, (get_rot([0,0,90]),np.array([0.,0.,0.])))\n",
    "\n",
    "# fig,ax = plt.subplots(1,1, figsize=(10,10), subplot_kw={'projection':'3d'})\n",
    "# #ax.axis('off')\n",
    "# scatter_plot_ax(ax, coord_full, color_full, ranges_K_dense, frame_infos = [], transform='default')"
   ]
  },
  {
   "cell_type": "markdown",
   "metadata": {},
   "source": [
    "# Get Query"
   ]
  },
  {
   "cell_type": "code",
   "execution_count": null,
   "metadata": {},
   "outputs": [],
   "source": [
    "pc_pick = task.observe_pointcloud_pick(stride = (1, 1))\n",
    "sample_unprocessed['range_pick'] = pc_pick['ranges']\n",
    "sample_unprocessed['pick_pose'] = (pc_pick['X_sg'], pc_pick['R_sg'])\n",
    "sample_unprocessed['images_pick'] = task.observe_pick()\n",
    "pc_place = task.observe_pointcloud(stride = (1, 1))\n",
    "sample_unprocessed['range_place'] = pc_place['ranges']\n",
    "sample_unprocessed['images_place'] = task.observe()\n",
    "\n",
    "sample_unprocessed['coord_pick'], sample_unprocessed['color_pick'] = voxel_filter(pc_pick['coord'], pc_pick['color'], d=d_field)\n",
    "sample_unprocessed['coord_place'], sample_unprocessed['color_place'] = voxel_filter(pc_place['coord'], pc_place['color'], d=d_field)\n",
    "# vox = voxelize_sample({'coord_pick': pc_pick['coord'], 'color_pick': pc_pick['color'], 'd_pick': d_pick, \n",
    "#                        'coord_place': pc_place['coord'], 'color_place': pc_place['color'], 'd_place': d_place,}, coord_jitter=0.1, color_jitter=0.03, pick=False, place=True)\n",
    "# sample_unprocessed['coord_pick'], sample_unprocessed['color_pick'], sample_unprocessed['coord_place'], sample_unprocessed['color_place'] = vox['coord_pick'], vox['color_pick'], vox['coord_place'], vox['color_place']\n",
    "\n",
    "color_unprocessed_Q = sample_unprocessed['color_pick']\n",
    "color_unprocessed_K = sample_unprocessed['color_place']\n",
    "sample = preprocess(sample_unprocessed, characteristic_length, pick_and_place=True)\n",
    "\n",
    "\n",
    "##### Prepare input #####\n",
    "coord_Q, color_Q, ranges_Q = sample['coord_Q'], sample['color_Q'], sample['ranges_Q']\n",
    "data_transform_Q = sample['data_transform_Q']\n",
    "coord_K, color_K, ranges_K = sample['coord_K'], sample['color_K'], sample['ranges_K']\n",
    "data_transform_K = sample['data_transform_K']\n",
    "\n",
    "feature_Q = torch.tensor(color_Q, dtype=torch.float32, device=device)\n",
    "pos_Q = torch.tensor(coord_Q, dtype=torch.float32, device=device)\n",
    "in_range_cropped_idx_Q = place_agent.crop_range_idx_Q(pos_Q)\n",
    "pos_Q, feature_Q  = pos_Q[in_range_cropped_idx_Q], feature_Q[in_range_cropped_idx_Q]\n",
    "\n",
    "feature_K = torch.tensor(color_K, dtype=torch.float32, device=device)\n",
    "pos_K = torch.tensor(coord_K, dtype=torch.float32, device=device)\n",
    "in_range_cropped_idx_K = place_agent.crop_range_idx(pos_K)\n",
    "pos_K, feature_K = pos_K[in_range_cropped_idx_K], feature_K[in_range_cropped_idx_K]\n",
    "\n",
    "inputs_Q = {'feature': feature_Q, 'pos': pos_Q, 'edge': None, 'max_neighbor_radius': place_agent.max_radius_Q}\n",
    "inputs_K = {'feature': feature_K, 'pos': pos_K, 'edge': None, 'max_neighbor_radius': place_agent.max_radius}\n",
    "\n",
    "visual_info_K_field = {'coord':coord_K[in_range_cropped_idx_K.cpu()].copy(), \n",
    "                'color': color_unprocessed_K[in_range_cropped_idx_K.cpu()].copy(), \n",
    "                'ranges': ranges_K.copy(),\n",
    "                #'ax': axes[1],\n",
    "                'coord_query': coord_Q[in_range_cropped_idx_Q.cpu()].copy(),\n",
    "                'color_query': color_unprocessed_Q[in_range_cropped_idx_Q.cpu()].copy(),\n",
    "                'ranges_query': ranges_Q.copy(),\n",
    "                #'ax_query': axes[2]\n",
    "                }\n",
    "\n",
    "\n",
    "coord_K_field, color_K_field, ranges_K_field = visual_info_K_field['coord'], visual_info_K_field['color'], visual_info_K_field['ranges']\n",
    "color_alpha_K_field = append_alpha(color_K_field, 1.)\n",
    "coord_Q_field, color_Q_field, ranges_Q_field = visual_info_K_field['coord_query'], visual_info_K_field['color_query'], visual_info_K_field['ranges_query']\n",
    "color_alpha_Q_field = append_alpha(color_Q_field, 1.)"
   ]
  },
  {
   "cell_type": "code",
   "execution_count": null,
   "metadata": {},
   "outputs": [],
   "source": [
    "coord_jitter = None # 0.1\n",
    "color_jitter = None # 0.03\n",
    "\n",
    "pc_pick = task.observe_pointcloud_pick(stride = (1, 1))\n",
    "sample_unprocessed['range_pick'] = pc_pick['ranges']\n",
    "sample_unprocessed['pick_pose'] = (pc_pick['X_sg'], pc_pick['R_sg'])\n",
    "sample_unprocessed['images_pick'] = task.observe_pick()\n",
    "pc_place = task.observe_pointcloud(stride = (1, 1))\n",
    "sample_unprocessed['range_place'] = pc_place['ranges']\n",
    "sample_unprocessed['images_place'] = task.observe()\n",
    "\n",
    "sample_unprocessed['coord_pick'], sample_unprocessed['color_pick'] = voxel_filter(pc_pick['coord'], pc_pick['color'], d=d_pick)\n",
    "sample_unprocessed['coord_place'], sample_unprocessed['color_place'] = voxel_filter(pc_place['coord'], pc_place['color'], d=d_place)\n",
    "# vox = voxelize_sample({'coord_pick': pc_pick['coord'], 'color_pick': pc_pick['color'], 'd_pick': d_pick, \n",
    "#                        'coord_place': pc_place['coord'], 'color_place': pc_place['color'], 'd_place': d_place,}, coord_jitter=0.1, color_jitter=0.03, pick=False, place=True)\n",
    "# sample_unprocessed['coord_pick'], sample_unprocessed['color_pick'], sample_unprocessed['coord_place'], sample_unprocessed['color_place'] = vox['coord_pick'], vox['color_pick'], vox['coord_place'], vox['color_place']\n",
    "\n",
    "color_unprocessed_Q = sample_unprocessed['color_pick']\n",
    "color_unprocessed_K = sample_unprocessed['color_place']\n",
    "sample = preprocess(sample_unprocessed, characteristic_length, pick_and_place=True)\n",
    "\n",
    "\n",
    "##### Prepare input #####\n",
    "coord_Q, color_Q, ranges_Q = sample['coord_Q'], sample['color_Q'], sample['ranges_Q']\n",
    "data_transform_Q = sample['data_transform_Q']\n",
    "coord_K, color_K, ranges_K = sample['coord_K'], sample['color_K'], sample['ranges_K']\n",
    "data_transform_K = sample['data_transform_K']\n",
    "\n",
    "feature_Q = torch.tensor(color_Q, dtype=torch.float32, device=device)\n",
    "pos_Q = torch.tensor(coord_Q, dtype=torch.float32, device=device)\n",
    "in_range_cropped_idx_Q = place_agent.crop_range_idx_Q(pos_Q)\n",
    "pos_Q, feature_Q  = pos_Q[in_range_cropped_idx_Q], feature_Q[in_range_cropped_idx_Q]\n",
    "\n",
    "feature_K = torch.tensor(color_K, dtype=torch.float32, device=device)\n",
    "pos_K = torch.tensor(coord_K, dtype=torch.float32, device=device)\n",
    "in_range_cropped_idx_K = place_agent.crop_range_idx(pos_K)\n",
    "pos_K, feature_K = pos_K[in_range_cropped_idx_K], feature_K[in_range_cropped_idx_K]\n",
    "\n",
    "inputs_Q = {'feature': feature_Q, 'pos': pos_Q, 'edge': None, 'max_neighbor_radius': place_agent.max_radius_Q}\n",
    "inputs_K = {'feature': feature_K, 'pos': pos_K, 'edge': None, 'max_neighbor_radius': place_agent.max_radius}\n",
    "\n",
    "visual_info_K = {'coord':coord_K[in_range_cropped_idx_K.cpu()], \n",
    "                'color': color_unprocessed_K[in_range_cropped_idx_K.cpu()], \n",
    "                'ranges': ranges_K,\n",
    "                #'ax': axes[1],\n",
    "                'coord_query': coord_Q[in_range_cropped_idx_Q.cpu()],\n",
    "                'color_query': color_unprocessed_Q[in_range_cropped_idx_Q.cpu()],\n",
    "                'ranges_query': ranges_Q,\n",
    "                #'ax_query': axes[2]\n",
    "                }\n",
    "\n",
    "if coord_jitter:\n",
    "    if False: # pick\n",
    "        visual_info['coord'] = visual_info['coord'] + np.random.randn(*(visual_info['coord'].shape)) * d * coord_jitter * 100\n",
    "    if True: # place\n",
    "        visual_info_K['coord_query'] = visual_info_K['coord_query'] + np.random.randn(*(visual_info_K['coord_query'].shape)) * d_pick * coord_jitter * 100\n",
    "        visual_info_K['coord'] = visual_info_K['coord'] + np.random.randn(*(visual_info_K['coord'].shape)) * d_place * coord_jitter * 100\n",
    "\n",
    "if color_jitter:\n",
    "    if False: # pick\n",
    "        visual_info['color'] = visual_info['color'] + np.random.randn(*(visual_info['color'].shape)) * color_jitter\n",
    "    if True: #place\n",
    "        visual_info_K['color_query'] = visual_info_K['color_query'] + np.random.randn(*(visual_info_K['color_query'].shape)) * color_jitter\n",
    "        visual_info_K['color'] = visual_info_K['color'] + np.random.randn(*(visual_info_K['color'].shape)) * color_jitter\n",
    "\n",
    "    if False: #pick\n",
    "        visual_info['color'] = np.where(visual_info['color'] > 1., 1., visual_info['color'])\n",
    "        visual_info['color'] = np.where(visual_info['color'] < 0., 0., visual_info['color'])\n",
    "    if True: #place\n",
    "        visual_info_K['color_query'] = np.where(visual_info_K['color_query'] > 1., 1., visual_info_K['color_query'])\n",
    "        visual_info_K['color_query'] = np.where(visual_info_K['color_query'] < 0., 0., visual_info_K['color_query'])\n",
    "        visual_info_K['color'] = np.where(visual_info_K['color'] > 1., 1., visual_info_K['color'])\n",
    "        visual_info_K['color'] = np.where(visual_info_K['color'] < 0., 0., visual_info_K['color'])\n",
    "\n",
    "                \n"
   ]
  },
  {
   "cell_type": "code",
   "execution_count": null,
   "metadata": {},
   "outputs": [],
   "source": [
    "query_points, query_features, query_weights  = place_agent.get_query(inputs_Q=inputs_Q, requires_grad=False, temperature = 1.)\n",
    "outputs_Q = place_agent.query_model.se3T(inputs_Q)\n",
    "feature_se3T_Q, pos_Q = outputs_Q['feature'].detach(), outputs_Q['pos'].detach()\n",
    "feature_se3T_K, pos_se3T_K = place_agent.get_descriptor(inputs=inputs_K, requires_grad=False)"
   ]
  },
  {
   "cell_type": "code",
   "execution_count": null,
   "metadata": {},
   "outputs": [],
   "source": [
    "query_points = query_points[(query_weights > 0.02).nonzero().squeeze(-1)]\n",
    "query_features = query_features[(query_weights > 0.02).nonzero().squeeze(-1)]\n",
    "query_weights = query_weights[(query_weights > 0.02).nonzero().squeeze(-1)]"
   ]
  },
  {
   "cell_type": "markdown",
   "metadata": {},
   "source": [
    "## Draw Q"
   ]
  },
  {
   "cell_type": "markdown",
   "metadata": {},
   "source": [
    "### 10 features"
   ]
  },
  {
   "cell_type": "code",
   "execution_count": null,
   "metadata": {},
   "outputs": [],
   "source": [
    "sample_center_Q = torch.from_numpy(coord_Q_field).type(torch.float32)\n",
    "iters_Q=100\n",
    "std_Q=0.3\n",
    "sample_points_Q, sample_features_Q = get_edf_sample_Q(feature_se3T=feature_se3T_Q, pos_se3T=pos_Q, sample_center=sample_center_Q, iters=iters_Q, std=std_Q)\n",
    "\n",
    "sample_points_Q = transform_coord(sample_points_Q, (get_rot([0,0,30]),np.array([0.,0.,0.])))\n",
    "fig, ax = plt.subplots(2,5, figsize=(10*5,10*2), subplot_kw={'projection':'3d'})\n",
    "fig.tight_layout()\n",
    "for i in range(2):\n",
    "    for j in tqdm(range(5)):\n",
    "        ax[i,j].axis('off')\n",
    "        \n",
    "        scatter_plot_ax(ax[i,j], sample_points_Q, append_alpha(normalize_scalar_feature(scalar_val=np.repeat(sample_features_Q[...,5*i+j:5*i+j+1], 3, axis=-1)), alpha=0.3), ranges_Q_field*0.5, frame_infos = [], transform='default')\n",
    "fig.savefig(f'10_features_Q_seed{seed}', transparent=True)"
   ]
  },
  {
   "cell_type": "markdown",
   "metadata": {},
   "source": [
    "### Colormap"
   ]
  },
  {
   "cell_type": "code",
   "execution_count": null,
   "metadata": {},
   "outputs": [],
   "source": [
    "sample_center_Q = torch.from_numpy(coord_Q_field).type(torch.float32)\n",
    "iters_Q=300\n",
    "std_Q=0.3\n",
    "sample_points_Q, sample_features_Q = get_edf_sample_Q(feature_se3T=feature_se3T_Q, pos_se3T=pos_Q, sample_center=sample_center_Q, iters=iters_Q, std=std_Q)"
   ]
  },
  {
   "cell_type": "code",
   "execution_count": null,
   "metadata": {},
   "outputs": [],
   "source": [
    "feature_indices_Q = [0,1,5]\n",
    "scalar_features_Q = sample_features_Q[:,[*feature_indices_Q]]\n",
    "scalar_features_Q = np.concatenate([query_features[:,[*feature_indices_Q]].cpu().numpy(), scalar_features_Q], axis=0)\n",
    "\n",
    "sample_colors_Q = append_alpha(normalize_scalar_feature(scalar_val=scalar_features_Q), alpha=0.3)\n",
    "sample_colors_remap_Q = sample_colors_Q ** np.array([2., 1., 1., 1.]) * np.array([0.85, 1., 1., 1.]) \n",
    "sample_colors_remap_Q[...,:3] = torch.softmax(torch.from_numpy(sample_colors_remap_Q[...,:3])/0.18, dim=-1).numpy()\n",
    "sample_colors_remap_Q = normalize_color_range(sample_colors_remap_Q, elementwise=True) * np.array([1., 0.8, 0.6, 1.]) \n",
    "# sample_colors_remap_Q = normalize_color_range(sample_colors_remap_Q, elementwise=True) * np.array([1., 0.6, 1., 1.]) \n",
    "\n",
    "query_features_scalar_remap = sample_colors_remap_Q[:2,:]\n",
    "sample_colors_remap_Q = sample_colors_remap_Q[2:,:]\n",
    "\n",
    "\n",
    "theta_Q = 30\n",
    "pitch_Q = -10\n",
    "T = (get_rot([pitch_Q,0,theta_Q]),np.array([0,0,0.]))\n",
    "\n",
    "\n",
    "fig,ax = plt.subplots(1,1, figsize=(10,10), subplot_kw={'projection':'3d'})\n",
    "fig.tight_layout()\n",
    "ax.axis('off')\n",
    "scatter_plot_ax(ax, transform_coord(sample_points_Q, T), sample_colors_remap_Q, ranges_Q_field*0.5, frame_infos = [], transform='default')\n",
    "fig.savefig(f'colormap_Q_seed{seed}', transparent=True)\n",
    "scalar_Q = (sample_points_Q, sample_colors_remap_Q)"
   ]
  },
  {
   "cell_type": "markdown",
   "metadata": {},
   "source": [
    "### Vector Field"
   ]
  },
  {
   "cell_type": "code",
   "execution_count": null,
   "metadata": {},
   "outputs": [],
   "source": [
    "X_sg, R_sg = task.get_state()['T_sg']\n",
    "X_sh, R_sh = task.get_state()['T_sh']\n",
    "\n",
    "X_gh = R_sg.T @ (X_sh - X_sg)\n",
    "handle_center = X_gh * 100"
   ]
  },
  {
   "cell_type": "code",
   "execution_count": null,
   "metadata": {},
   "outputs": [],
   "source": [
    "def vec_criteria_Q(p, norm):\n",
    "    if norm > 1.:\n",
    "        pass\n",
    "    else:\n",
    "        return False\n",
    "        \n",
    "    #distance = np.linalg.norm((p-center))\n",
    "    return True\n",
    "    if distance >= 5. and distance <= 6.:\n",
    "        return True\n",
    "    else:\n",
    "        return False\n",
    "\n",
    "criteria_Q = vec_criteria_Q"
   ]
  },
  {
   "cell_type": "code",
   "execution_count": null,
   "metadata": {},
   "outputs": [],
   "source": [
    "feature_idx_Q = 2\n",
    "sample_points_Q = torch.stack(torch.meshgrid(torch.linspace(handle_center[0]-2,handle_center[0]+2,3),torch.linspace(handle_center[1]-2,handle_center[1]+2,3),torch.linspace(handle_center[2]-2,handle_center[2]+2,3)), dim=-1).reshape(-1,3)\n",
    "iters=1\n",
    "std=0.5\n",
    "sample_points_Q_vec, sample_features_Q_vec = get_edf_sample_Q(feature_se3T=feature_se3T_Q, pos_se3T=pos_Q, sample_center=sample_points_Q, iters=iters, std=std)\n",
    "vector_feature_Q = sample_features_Q_vec[...,10+feature_idx_Q*3:10+feature_idx_Q*3+3]\n",
    "vec_field_Q = get_vector_field(sample_points=sample_points_Q_vec, vector_feature=vector_feature_Q, criteria=criteria_Q)"
   ]
  },
  {
   "cell_type": "code",
   "execution_count": null,
   "metadata": {},
   "outputs": [],
   "source": [
    "size = 2.\n",
    "length = 3.\n",
    "color_vecQ = np.array([0., 0., 0., 1.])\n",
    "\n",
    "theta_Q = 190\n",
    "pitch_Q = 25\n",
    "T = (get_rot([pitch_Q,0,theta_Q]),np.array([0,0,0.]))\n",
    "arrowed_Q = draw_vector_field(transform_vec(vec_field_Q, T), size=size, length = length, color=color_vecQ)\n",
    "#arrowed = draw_blob(rim_center, np.array([0.,1,1.,1.]), std=1., N=10000)\n",
    "\n",
    "\n",
    "fig,ax = plt.subplots(1,1, figsize=(20,20), subplot_kw={'projection':'3d'})\n",
    "fig.tight_layout()\n",
    "ax.axis('off')\n",
    "scatter_plot_ax(ax, *append_pc((coord_Q_dense, color_alpha_Q_dense, T , 1.), (*arrowed_Q, None , 0.1)), ranges_Q_dense*0.7, frame_infos = [], transform='default')\n",
    "fig.savefig(f'vec_Q_seed{seed}', transparent=True)"
   ]
  },
  {
   "cell_type": "markdown",
   "metadata": {},
   "source": [
    "### Query Points"
   ]
  },
  {
   "cell_type": "code",
   "execution_count": null,
   "metadata": {},
   "outputs": [],
   "source": [
    "query_points_ = query_points.clone()\n",
    "query_features_ = query_features.clone()\n",
    "query_weights_ = query_weights.clone()\n",
    "\n",
    "query_points = query_points_[:1]\n",
    "query_features = query_features_[:1]\n",
    "query_weights = query_weights_[:1]"
   ]
  },
  {
   "cell_type": "code",
   "execution_count": null,
   "metadata": {},
   "outputs": [],
   "source": [
    "sdfa"
   ]
  },
  {
   "cell_type": "code",
   "execution_count": null,
   "metadata": {},
   "outputs": [],
   "source": [
    "blobs = []\n",
    "for q, f in zip(query_points.cpu().numpy(), query_features_scalar_remap):\n",
    "    #blobs.append(draw_blob(q, np.array([f[0], f[1], f[2], 1.]), std=1.2, N=10000))\n",
    "    blobs.append(draw_blob(q, np.array([0., 0.8, 0.8, 1.]), std=1., N=10000))\n",
    "blobs = append_pc(*blobs)\n",
    "\n",
    "pc_Q_points = append_pc((coord_Q_dense, color_alpha_Q_dense*0.8, None , 1.), (*blobs, None , 1.))"
   ]
  },
  {
   "cell_type": "code",
   "execution_count": null,
   "metadata": {},
   "outputs": [],
   "source": [
    "theta_Q = 190\n",
    "pitch_Q = 25\n",
    "T = (get_rot([pitch_Q,0,theta_Q]),np.array([0,0,0.]))\n",
    "\n",
    "\n",
    "fig,ax = plt.subplots(1,1, figsize=(15,15), subplot_kw={'projection':'3d'})\n",
    "fig.tight_layout()\n",
    "ax.axis('off')\n",
    "scatter_plot_ax(ax, transform_coord(pc_Q_points[0], T), pc_Q_points[1], ranges_Q_dense*0.7, frame_infos = [], transform='default')\n",
    "fig.savefig(f'query_Q_seed{seed}', transparent=True)"
   ]
  },
  {
   "cell_type": "markdown",
   "metadata": {},
   "source": [
    "### Total Query"
   ]
  },
  {
   "cell_type": "code",
   "execution_count": null,
   "metadata": {},
   "outputs": [],
   "source": [
    "blobs = []\n",
    "for q, f in zip(query_points.cpu().numpy(), query_features_scalar_remap.copy()):\n",
    "    f[:3] = f[:3] * 1.3 **1.7\n",
    "    f[:3] = f[:3] / np.maximum(f[:3], np.ones(3))\n",
    "    blobs.append(draw_blob(q, np.array([min(1, f[0]), min(1, f[1]), min(1, f[2]), 1.]), std=1.2, N=10000))\n",
    "blobs = append_pc(*blobs)"
   ]
  },
  {
   "cell_type": "code",
   "execution_count": null,
   "metadata": {},
   "outputs": [],
   "source": [
    "feature_idx_Q = 2\n",
    "iters=1\n",
    "std=0.5\n",
    "vec_field_Query = get_vector_field(sample_points=query_points.cpu().numpy(), vector_feature=query_features.cpu().numpy()[...,10+feature_idx_Q*3:10+feature_idx_Q*3+3], criteria=criteria_Q)"
   ]
  },
  {
   "cell_type": "code",
   "execution_count": null,
   "metadata": {},
   "outputs": [],
   "source": [
    "theta_Q = 190\n",
    "pitch_Q = 25\n",
    "T = (get_rot([pitch_Q,0,theta_Q]),np.array([0,0,0.]))\n",
    "\n",
    "\n",
    "fig,ax = plt.subplots(1,1, figsize=(15,15), subplot_kw={'projection':'3d'})\n",
    "fig.tight_layout()\n",
    "ax.axis('off')\n",
    "scatter_plot_ax(ax, *append_pc((coord_Q_dense, color_alpha_Q_dense*0.7, T , 1.), (*blobs, T , 1.), (*draw_vector_field(transform_vec(vec_field_Query, T), size=size, length = length, color=color_vecQ), None , 1.)), ranges_Q_dense*0.8, frame_infos = [], transform='default')\n",
    "fig.savefig(f'query_final_Q_seed{seed}', transparent=True)\n",
    "pc_query_fin = append_pc((coord_Q_dense, color_alpha_Q_dense*0.7, None , 1.), (*blobs, None , 1.))"
   ]
  },
  {
   "cell_type": "markdown",
   "metadata": {},
   "source": [
    "## Draw K"
   ]
  },
  {
   "cell_type": "markdown",
   "metadata": {},
   "source": [
    "### 10 features"
   ]
  },
  {
   "cell_type": "code",
   "execution_count": null,
   "metadata": {},
   "outputs": [],
   "source": [
    "# sample_center_K = torch.from_numpy(coord_K_field).type(torch.float32)\n",
    "# iters_K=100\n",
    "# std_K=0.7\n",
    "# sample_points_K, sample_features_K = get_edf_sample_K(feature_se3T=feature_se3T_K, pos_se3T=pos_se3T_K, sample_center=sample_center_K, iters=iters_K, std=std_K)\n",
    "\n",
    "\n",
    "# fig, ax = plt.subplots(2,5, figsize=(10*5,10*2), subplot_kw={'projection':'3d'})\n",
    "# for i in range(2):\n",
    "#     for j in tqdm(range(5)):\n",
    "#         ax[i,j].axis('off')\n",
    "#         scatter_plot_ax(ax[i,j], sample_points_K, append_alpha(normalize_scalar_feature(scalar_val=np.repeat(sample_features_K[...,5*i+j:5*i+j+1], 3, axis=-1)), alpha=0.3), ranges_K_field, frame_infos = [], transform='default')"
   ]
  },
  {
   "cell_type": "markdown",
   "metadata": {},
   "source": [
    "### Color map"
   ]
  },
  {
   "cell_type": "code",
   "execution_count": null,
   "metadata": {},
   "outputs": [],
   "source": [
    "sample_center_K = torch.from_numpy(coord_K_field).type(torch.float32)\n",
    "iters_K=500\n",
    "std_K=0.4\n",
    "sample_points_K, sample_features_K = get_edf_sample_K(feature_se3T=feature_se3T_K, pos_se3T=pos_se3T_K, sample_center=sample_center_K, iters=iters_K, std=std_K, shell=True)"
   ]
  },
  {
   "cell_type": "code",
   "execution_count": null,
   "metadata": {},
   "outputs": [],
   "source": [
    "feature_indices_K = [0,1,5]\n",
    "scalar_features_K = sample_features_K[:,[*feature_indices_K]]\n",
    "sample_colors_K = append_alpha(normalize_scalar_feature(scalar_val=scalar_features_K), alpha=0.3)\n",
    "sample_colors_remap_K = sample_colors_K ** np.array([2., 1., 1., 1.]) * np.array([0.85, 1., 1., 1.]) \n",
    "sample_colors_remap_K[...,:3] = torch.softmax(torch.from_numpy(sample_colors_remap_K[...,:3])/0.3, dim=-1).numpy()\n",
    "sample_colors_remap_K = normalize_color_range(sample_colors_remap_K, elementwise=True) * np.array([1., 0.6, 0.6, 1.]) \n",
    "\n",
    "# feature_indices_K = [3,0,5]#[6,3,2]\n",
    "# scalar_features_K = sample_features_K[:,[*feature_indices_K]]\n",
    "# sample_colors_K = append_alpha(normalize_scalar_feature(scalar_val=scalar_features_K), alpha=0.1)\n",
    "# sample_colors_remap_K = sample_colors_K ** np.array([1., 1.5, 1., 1.]) * np.array([1., 0.9, 0.7, 1.]) #** np.array([1., 1.5, 1., 1.]) * np.array([1., 0.9, 0.7, 1.]) \n",
    "\n",
    "scalar_K = (sample_points_K, sample_colors_remap_K)"
   ]
  },
  {
   "cell_type": "code",
   "execution_count": null,
   "metadata": {},
   "outputs": [],
   "source": [
    "theta = 60\n",
    "T = (get_rot([0,0,theta]),np.array([0.,0,0.]))\n",
    "\n",
    "fig,ax = plt.subplots(1,1, figsize=(20,20), subplot_kw={'projection':'3d'})\n",
    "fig.tight_layout()\n",
    "ax.axis('off')\n",
    "#scatter_plot_ax(ax, sample_points_K, sample_colors_remap_K, ranges_K_field, frame_infos = [], transform='default')\n",
    "scatter_plot_ax(ax, transform_coord(sample_points_K, T), sample_colors_remap_K, np.array([[-20,20],[-20,20],[-40, -0]]), frame_infos = [], transform='default')\n",
    "fig.savefig(f'colormap_K_seed{seed}', transparent=True)"
   ]
  },
  {
   "cell_type": "markdown",
   "metadata": {},
   "source": [
    "### Vector field"
   ]
  },
  {
   "cell_type": "code",
   "execution_count": null,
   "metadata": {},
   "outputs": [],
   "source": [
    "hook_center = (task.get_state()['T_s_tip'][0] - task.center)* 100\n",
    "\n",
    "def vec_criteria_K(p, norm, center):\n",
    "    if norm > 0.5:\n",
    "        pass\n",
    "    else:\n",
    "        return False\n",
    "        \n",
    "    distance = np.linalg.norm((p-center)[:2])\n",
    "    if distance >= 3. and distance <= 5.:\n",
    "        return True\n",
    "    else:\n",
    "        return False\n",
    "\n",
    "criteria_K = lambda p,norm:vec_criteria_K(p,norm, hook_center)"
   ]
  },
  {
   "cell_type": "code",
   "execution_count": null,
   "metadata": {},
   "outputs": [],
   "source": [
    "feature_idx_K = 2\n",
    "iters=1\n",
    "std=0.5\n",
    "\n",
    "sample_points_K = torch.stack(torch.meshgrid(torch.linspace(-20,20,50),torch.linspace(-20,20,50),torch.linspace(-100,-10,2)), dim=-1).reshape(-1,3)\n",
    "sample_points_K_vec, sample_features_K_vec = get_edf_sample_K(feature_se3T=feature_se3T_K, pos_se3T=pos_se3T_K, sample_center=sample_points_K, iters=iters, std=std)\n",
    "vector_feature_K = sample_features_K_vec[...,10+feature_idx_K*3:10+feature_idx_K*3+3]\n",
    "vec_field_K = get_vector_field(sample_points=sample_points_K_vec, vector_feature=vector_feature_K, criteria=criteria_K)"
   ]
  },
  {
   "cell_type": "code",
   "execution_count": null,
   "metadata": {},
   "outputs": [],
   "source": [
    "size = 1.5\n",
    "length = 6.\n",
    "color_vecK = np.array([0.6,0.6,0.6, 1.])\n",
    "\n",
    "theta = 60\n",
    "T = (get_rot([0,0,theta]),np.array([0.,0,0.]))\n",
    "arrowed_K = draw_vector_field(transform_vec(vec_field_K, T), size=size, length = length, color=color_vecK)\n",
    "\n",
    "\n",
    "ranges_pretty_K = np.array([[-20,20],[-20,20],[-40, -0]])\n",
    "\n",
    "fig,ax = plt.subplots(1,1, figsize=(20,20), subplot_kw={'projection':'3d'})\n",
    "fig.tight_layout()\n",
    "ax.axis('off')\n",
    "scatter_plot_ax(ax, *append_pc((*scalar_K, T , 1.), (*arrowed_K, None , 0.15)), ranges_pretty_K, frame_infos = [], transform='default')\n",
    "fig.savefig(f'colormap_Kvec_seed{seed}', transparent=True)"
   ]
  },
  {
   "cell_type": "markdown",
   "metadata": {},
   "source": [
    "# Fusion"
   ]
  },
  {
   "cell_type": "code",
   "execution_count": null,
   "metadata": {},
   "outputs": [],
   "source": [
    "figsize = 20"
   ]
  },
  {
   "cell_type": "code",
   "execution_count": null,
   "metadata": {},
   "outputs": [],
   "source": [
    "T_rel = (get_rot([90,0,0], [0, 0, 80]),\n",
    "         np.array([14.24163222,  0.94065815, -7.4613905 ]) + np.array([-2.5, 7.5, 2.]))\n",
    "\n",
    "query_rel = (transform_coord(pc_query_fin[0], T=T_rel), pc_query_fin[1])\n",
    "vec_Q_rel = transform_vec(vec_field_Query, T=T_rel)\n",
    "\n",
    "pc_merged = append_pc((scalar_K[0], scalar_K[1]*0.8, None ,1.), (query_rel[0], query_rel[1], None))"
   ]
  },
  {
   "cell_type": "code",
   "execution_count": null,
   "metadata": {},
   "outputs": [],
   "source": [
    "size_Q = 2.\n",
    "length_Q = 3.\n",
    "size_K = 1.5\n",
    "length_K = 6.\n",
    "\n",
    "theta = 60\n",
    "T = (get_rot([0,0,theta]),np.array([0.,0,0.]))\n",
    "\n",
    "arrowed_Qf = draw_vector_field(transform_vec(vec_Q_rel, T), size=size_Q, length = length_Q, color=color_vecQ)\n",
    "arrowed_Kf = draw_vector_field(transform_vec(vec_field_K, T), size=size_K, length = length_K, color=color_vecK)\n",
    "\n",
    "fig,ax = plt.subplots(1,1, figsize=(figsize,figsize), subplot_kw={'projection':'3d'})\n",
    "fig.tight_layout()\n",
    "ax.axis('off')\n",
    "scatter_plot_ax(ax, *append_pc((*pc_merged, T), (*arrowed_Kf, None , 0.2), (*arrowed_Qf, None , 1.)), ranges_pretty_K, frame_infos = [], transform='default')\n",
    "fig.savefig(f'good_align_seed{seed}_figsize{figsize}', transparent=True)"
   ]
  },
  {
   "cell_type": "code",
   "execution_count": null,
   "metadata": {},
   "outputs": [],
   "source": []
  },
  {
   "cell_type": "code",
   "execution_count": null,
   "metadata": {},
   "outputs": [],
   "source": []
  },
  {
   "cell_type": "code",
   "execution_count": null,
   "metadata": {},
   "outputs": [],
   "source": [
    "T_rel = (get_rot([30,0,0], [0,0,120]),\n",
    "         np.array([14.24163222,  0.94065815, -7.4613905 ]) + np.array([-11.5, 0.5, -7.]))\n",
    "\n",
    "query_rel = (transform_coord(pc_query_fin[0], T=T_rel), pc_query_fin[1])\n",
    "vec_Q_rel = transform_vec(vec_field_Query, T=T_rel)\n",
    "\n",
    "pc_merged = append_pc((scalar_K[0], scalar_K[1]*0.8, None ,1.), (query_rel[0], query_rel[1], None))"
   ]
  },
  {
   "cell_type": "code",
   "execution_count": null,
   "metadata": {},
   "outputs": [],
   "source": [
    "size_Q = 2.\n",
    "length_Q = 3.\n",
    "size_K = 1.5\n",
    "length_K = 6.\n",
    "\n",
    "theta = 60\n",
    "T = (get_rot([0,0,theta]),np.array([0.,0,0.]))\n",
    "\n",
    "arrowed_Qf = draw_vector_field(transform_vec(vec_Q_rel, T), size=size_Q, length = length_Q, color=color_vecQ)\n",
    "arrowed_Kf = draw_vector_field(transform_vec(vec_field_K, T), size=size_K, length = length_K, color=color_vecK)\n",
    "\n",
    "fig,ax = plt.subplots(1,1, figsize=(figsize,figsize), subplot_kw={'projection':'3d'})\n",
    "fig.tight_layout()\n",
    "ax.axis('off')\n",
    "scatter_plot_ax(ax, *append_pc((*pc_merged, T), (*arrowed_Kf, None , 0.2), (*arrowed_Qf, None , 1.)), ranges_pretty_K, frame_infos = [], transform='default')\n",
    "fig.savefig(f'bad_align_seed{seed}_figsize{figsize}', transparent=True)"
   ]
  },
  {
   "cell_type": "code",
   "execution_count": null,
   "metadata": {},
   "outputs": [],
   "source": []
  },
  {
   "cell_type": "code",
   "execution_count": null,
   "metadata": {},
   "outputs": [],
   "source": []
  },
  {
   "cell_type": "markdown",
   "metadata": {},
   "source": [
    "# Infer Place"
   ]
  },
  {
   "cell_type": "code",
   "execution_count": null,
   "metadata": {},
   "outputs": [],
   "source": [
    "coord_jitter = None # 0.1\n",
    "color_jitter = None # 0.03\n",
    "\n",
    "#task.retract_robot(gripper_val=1., IK_time=1., back=True)\n",
    "pc_pick = task.observe_pointcloud_pick(stride = (1, 1))\n",
    "sample_unprocessed['range_pick'] = pc_pick['ranges']\n",
    "sample_unprocessed['pick_pose'] = (pc_pick['X_sg'], pc_pick['R_sg'])\n",
    "sample_unprocessed['images_pick'] = task.observe_pick()\n",
    "pc_place = task.observe_pointcloud(stride = (1, 1))\n",
    "sample_unprocessed['range_place'] = pc_place['ranges']\n",
    "sample_unprocessed['images_place'] = task.observe()\n",
    "\n",
    "sample_unprocessed['coord_pick'], sample_unprocessed['color_pick'] = voxel_filter(pc_pick['coord'], pc_pick['color'], d=d_pick)\n",
    "sample_unprocessed['coord_place'], sample_unprocessed['color_place'] = voxel_filter(pc_place['coord'], pc_place['color'], d=d_place)\n",
    "# vox = voxelize_sample({'coord_pick': pc_pick['coord'], 'color_pick': pc_pick['color'], 'd_pick': d_pick, \n",
    "#                        'coord_place': pc_place['coord'], 'color_place': pc_place['color'], 'd_place': d_place,}, coord_jitter=0.1, color_jitter=0.03, pick=False, place=True)\n",
    "# sample_unprocessed['coord_pick'], sample_unprocessed['color_pick'], sample_unprocessed['coord_place'], sample_unprocessed['color_place'] = vox['coord_pick'], vox['color_pick'], vox['coord_place'], vox['color_place']\n",
    "\n",
    "color_unprocessed_Q = sample_unprocessed['color_pick']\n",
    "color_unprocessed_K = sample_unprocessed['color_place']\n",
    "sample = preprocess(sample_unprocessed, characteristic_length, pick_and_place=True)\n",
    "\n",
    "\n",
    "##### Prepare input #####\n",
    "coord_Q, color_Q, ranges_Q = sample['coord_Q'], sample['color_Q'], sample['ranges_Q']\n",
    "data_transform_Q = sample['data_transform_Q']\n",
    "coord_K, color_K, ranges_K = sample['coord_K'], sample['color_K'], sample['ranges_K']\n",
    "data_transform_K = sample['data_transform_K']\n",
    "\n",
    "feature_Q = torch.tensor(color_Q, dtype=torch.float32, device=device)\n",
    "pos_Q = torch.tensor(coord_Q, dtype=torch.float32, device=device)\n",
    "in_range_cropped_idx_Q = place_agent.crop_range_idx_Q(pos_Q)\n",
    "pos_Q, feature_Q  = pos_Q[in_range_cropped_idx_Q], feature_Q[in_range_cropped_idx_Q]\n",
    "\n",
    "feature_K = torch.tensor(color_K, dtype=torch.float32, device=device)\n",
    "pos_K = torch.tensor(coord_K, dtype=torch.float32, device=device)\n",
    "in_range_cropped_idx_K = place_agent.crop_range_idx(pos_K)\n",
    "pos_K, feature_K = pos_K[in_range_cropped_idx_K], feature_K[in_range_cropped_idx_K]\n",
    "\n",
    "inputs_Q = {'feature': feature_Q, 'pos': pos_Q, 'edge': None, 'max_neighbor_radius': place_agent.max_radius_Q}\n",
    "inputs_K = {'feature': feature_K, 'pos': pos_K, 'edge': None, 'max_neighbor_radius': place_agent.max_radius}\n",
    "\n",
    "visual_info_K = {'coord':coord_K[in_range_cropped_idx_K.cpu()], \n",
    "                'color': color_unprocessed_K[in_range_cropped_idx_K.cpu()], \n",
    "                'ranges': ranges_K,\n",
    "                #'ax': axes[1],\n",
    "                'coord_query': coord_Q[in_range_cropped_idx_Q.cpu()],\n",
    "                'color_query': color_unprocessed_Q[in_range_cropped_idx_Q.cpu()],\n",
    "                'ranges_query': ranges_Q,\n",
    "                #'ax_query': axes[2]\n",
    "                }\n",
    "\n",
    "if coord_jitter:\n",
    "    if False: # pick\n",
    "        visual_info['coord'] = visual_info['coord'] + np.random.randn(*(visual_info['coord'].shape)) * d * coord_jitter * 100\n",
    "    if True: # place\n",
    "        visual_info_K['coord_query'] = visual_info_K['coord_query'] + np.random.randn(*(visual_info_K['coord_query'].shape)) * d_pick * coord_jitter * 100\n",
    "        visual_info_K['coord'] = visual_info_K['coord'] + np.random.randn(*(visual_info_K['coord'].shape)) * d_place * coord_jitter * 100\n",
    "\n",
    "if color_jitter:\n",
    "    if False: # pick\n",
    "        visual_info['color'] = visual_info['color'] + np.random.randn(*(visual_info['color'].shape)) * color_jitter\n",
    "    if True: #place\n",
    "        visual_info_K['color_query'] = visual_info_K['color_query'] + np.random.randn(*(visual_info_K['color_query'].shape)) * color_jitter\n",
    "        visual_info_K['color'] = visual_info_K['color'] + np.random.randn(*(visual_info_K['color'].shape)) * color_jitter\n",
    "\n",
    "    if False: #pick\n",
    "        visual_info['color'] = np.where(visual_info['color'] > 1., 1., visual_info['color'])\n",
    "        visual_info['color'] = np.where(visual_info['color'] < 0., 0., visual_info['color'])\n",
    "    if True: #place\n",
    "        visual_info_K['color_query'] = np.where(visual_info_K['color_query'] > 1., 1., visual_info_K['color_query'])\n",
    "        visual_info_K['color_query'] = np.where(visual_info_K['color_query'] < 0., 0., visual_info_K['color_query'])\n",
    "        visual_info_K['color'] = np.where(visual_info_K['color'] > 1., 1., visual_info_K['color'])\n",
    "        visual_info_K['color'] = np.where(visual_info_K['color'] < 0., 0., visual_info_K['color'])\n",
    "\n",
    "                \n"
   ]
  },
  {
   "cell_type": "code",
   "execution_count": null,
   "metadata": {},
   "outputs": [],
   "source": [
    "##### Place Inference #####\n",
    "t1 = time.time()\n",
    "N_transforms = N_transform_place\n",
    "mh_iter = mh_iter_place\n",
    "langevin_iter = langevin_iter_place\n",
    "# T_seed_pos = torch.tensor([X_seed_std_place])* torch.randn(N_transforms,3) + torch.tensor(X_seed_mean_place)\n",
    "# T_seed_pos = torch.rand(N_transforms,3, device=device) * (place_agent.ranges[:,1] - place_agent.ranges[:,0]) + place_agent.ranges[:,0].unsqueeze(-2)\n",
    "# T_seed = torch.cat([transforms.random_quaternions(N_transforms, device=device), T_seed_pos.to(device)] , dim=-1)\n",
    "T_seed = 1000\n",
    "\n",
    "Ts, edf_outputs, logs = place_agent.forward(inputs=inputs_K, T_seed=T_seed, inputs_Q=inputs_Q, policy = place_policy, mh_iter=mh_iter, langevin_iter=langevin_iter, \n",
    "                                            temperature=place_dist_temp, policy_temperature=place_policy_temp, optim_iter=optim_iter_place, optim_lr=optim_lr_place, query_temperature=query_temp_place, resample=False)"
   ]
  },
  {
   "cell_type": "code",
   "execution_count": null,
   "metadata": {},
   "outputs": [],
   "source": []
  },
  {
   "cell_type": "code",
   "execution_count": null,
   "metadata": {},
   "outputs": [],
   "source": [
    "def draw_blob(q, color, std ,N=100, shell = True):\n",
    "    assert color.shape == (4,)\n",
    "    # coord = torch.randn(N,3)\n",
    "    # coord = coord[(coord.norm(dim=-1) < 2.).nonzero().squeeze(-1)].numpy()\n",
    "    # coord = coord*std + q\n",
    "    if shell:\n",
    "        coord = torch.randn(N,3)\n",
    "        coord = coord / (1e-5+coord.norm(dim=-1,keepdim=True))\n",
    "        coord = coord.numpy() * std + q\n",
    "    else:\n",
    "        coord = lowvar_randn(N).numpy()*std + q\n",
    "    color = np.repeat(color.reshape(1,-1), len(coord), axis=0)\n",
    "    return coord, color"
   ]
  },
  {
   "cell_type": "code",
   "execution_count": null,
   "metadata": {},
   "outputs": [],
   "source": []
  },
  {
   "cell_type": "code",
   "execution_count": null,
   "metadata": {},
   "outputs": [],
   "source": [
    "samples = []\n",
    "for T in Ts[:80]:\n",
    "    X = T[4:].numpy()\n",
    "    samples.append((*draw_blob(X, np.array([0.,0.,1.,1.]), std=1., shell=False),None, 0.1))\n",
    "\n",
    "pc_mcmc_K = append_pc(pc_dense_K, *samples)"
   ]
  },
  {
   "cell_type": "code",
   "execution_count": null,
   "metadata": {},
   "outputs": [],
   "source": [
    "theta = 60\n",
    "T = (get_rot([0,0,theta]),np.array([0.,0,0.]))\n",
    "\n",
    "fig,ax = plt.subplots(1,1, figsize=(20,20), subplot_kw={'projection':'3d'})\n",
    "fig.tight_layout()\n",
    "ax.axis('off')\n",
    "scatter_plot_ax(ax, transform_coord(pc_mcmc_K[0], T), pc_mcmc_K[1], ranges_pretty_K, frame_infos = [], transform='default')\n",
    "fig.savefig(f'mcmc_K_seed{seed}', transparent=True)"
   ]
  },
  {
   "cell_type": "code",
   "execution_count": null,
   "metadata": {},
   "outputs": [],
   "source": []
  },
  {
   "cell_type": "code",
   "execution_count": null,
   "metadata": {},
   "outputs": [],
   "source": []
  },
  {
   "cell_type": "code",
   "execution_count": null,
   "metadata": {},
   "outputs": [],
   "source": []
  },
  {
   "cell_type": "code",
   "execution_count": null,
   "metadata": {},
   "outputs": [],
   "source": []
  },
  {
   "cell_type": "code",
   "execution_count": null,
   "metadata": {},
   "outputs": [],
   "source": [
    "dfsa"
   ]
  },
  {
   "cell_type": "code",
   "execution_count": null,
   "metadata": {},
   "outputs": [],
   "source": [
    "task.close()"
   ]
  },
  {
   "cell_type": "code",
   "execution_count": null,
   "metadata": {},
   "outputs": [],
   "source": []
  },
  {
   "cell_type": "code",
   "execution_count": null,
   "metadata": {},
   "outputs": [],
   "source": []
  },
  {
   "cell_type": "code",
   "execution_count": null,
   "metadata": {},
   "outputs": [],
   "source": []
  },
  {
   "cell_type": "code",
   "execution_count": null,
   "metadata": {},
   "outputs": [],
   "source": []
  },
  {
   "cell_type": "code",
   "execution_count": null,
   "metadata": {},
   "outputs": [],
   "source": []
  },
  {
   "cell_type": "code",
   "execution_count": null,
   "metadata": {},
   "outputs": [],
   "source": []
  },
  {
   "cell_type": "code",
   "execution_count": null,
   "metadata": {},
   "outputs": [],
   "source": []
  },
  {
   "cell_type": "code",
   "execution_count": null,
   "metadata": {},
   "outputs": [],
   "source": []
  },
  {
   "cell_type": "code",
   "execution_count": null,
   "metadata": {},
   "outputs": [],
   "source": []
  },
  {
   "cell_type": "code",
   "execution_count": null,
   "metadata": {},
   "outputs": [],
   "source": []
  },
  {
   "cell_type": "code",
   "execution_count": null,
   "metadata": {},
   "outputs": [],
   "source": []
  },
  {
   "cell_type": "code",
   "execution_count": null,
   "metadata": {},
   "outputs": [],
   "source": []
  },
  {
   "cell_type": "code",
   "execution_count": null,
   "metadata": {},
   "outputs": [],
   "source": []
  },
  {
   "cell_type": "code",
   "execution_count": null,
   "metadata": {},
   "outputs": [],
   "source": []
  },
  {
   "cell_type": "code",
   "execution_count": null,
   "metadata": {},
   "outputs": [],
   "source": []
  },
  {
   "cell_type": "code",
   "execution_count": null,
   "metadata": {},
   "outputs": [],
   "source": []
  },
  {
   "cell_type": "code",
   "execution_count": null,
   "metadata": {},
   "outputs": [],
   "source": []
  }
 ],
 "metadata": {
  "kernelspec": {
   "display_name": "Python 3.9.12 ('edf')",
   "language": "python",
   "name": "python3"
  },
  "language_info": {
   "codemirror_mode": {
    "name": "ipython",
    "version": 3
   },
   "file_extension": ".py",
   "mimetype": "text/x-python",
   "name": "python",
   "nbconvert_exporter": "python",
   "pygments_lexer": "ipython3",
   "version": "3.9.12"
  },
  "orig_nbformat": 4,
  "vscode": {
   "interpreter": {
    "hash": "c0953e14757fdc95393fc3797619880897b68d726561afa3ebe46daeb55f7087"
   }
  }
 },
 "nbformat": 4,
 "nbformat_minor": 2
}
