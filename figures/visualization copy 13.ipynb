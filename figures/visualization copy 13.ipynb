{
 "cells": [
  {
   "cell_type": "code",
   "execution_count": 1,
   "metadata": {},
   "outputs": [
    {
     "name": "stderr",
     "output_type": "stream",
     "text": [
      "pybullet build time: Dec  1 2021 18:34:28\n"
     ]
    }
   ],
   "source": [
    "import time\n",
    "import datetime\n",
    "import os\n",
    "import random\n",
    "import numpy as np\n",
    "import matplotlib.pyplot as plt\n",
    "from tqdm import tqdm\n",
    "import pybullet as p\n",
    "import pybullet_data\n",
    "\n",
    "import torch\n",
    "from torch_cluster import radius_graph, radius\n",
    "from torch_scatter import scatter\n",
    "\n",
    "import matplotlib\n",
    "import matplotlib.pyplot as plt\n",
    "\n",
    "import edf\n",
    "from edf.pybullet_env.utils import get_image, axiscreator, img_data_to_pointcloud\n",
    "from edf.visual_utils import plot_color_and_depth, scatter_plot, scatter_plot_ax, visualize_samples, visualize_sample_cluster\n",
    "from edf.pybullet_env.env import MugTask\n",
    "\n",
    "device = 'cuda'\n",
    "gpu_idx = 0\n",
    "torch.cuda.set_device(gpu_idx)"
   ]
  },
  {
   "cell_type": "code",
   "execution_count": 2,
   "metadata": {},
   "outputs": [],
   "source": [
    "import gzip\n",
    "import pickle\n",
    "\n",
    "folder_name = 'demo'\n",
    "task_name = 'mug_task'\n",
    "path = f'{folder_name}/{task_name}'\n",
    "\n",
    "with gzip.open(path + f'/upright.gzip','rb') as f:\n",
    "    upright_samples = pickle.load(f)\n",
    "\n",
    "with gzip.open(path + f'/lying.gzip','rb') as f:\n",
    "    lying_samples = pickle.load(f)"
   ]
  },
  {
   "cell_type": "markdown",
   "metadata": {},
   "source": [
    "# Load Models"
   ]
  },
  {
   "cell_type": "code",
   "execution_count": 3,
   "metadata": {},
   "outputs": [],
   "source": [
    "from torch import nn\n",
    "from pytorch3d import transforms\n",
    "\n",
    "import e3nn.nn\n",
    "from e3nn import o3\n",
    "from e3nn.math import soft_one_hot_linspace, soft_unit_step\n",
    "\n",
    "from edf.utils import preprocess\n",
    "from edf.models import SE3Transformer, SE3TransformerLight, EnergyModel, QueryTensorField\n",
    "from edf.mcmc import MH, LangevinMH\n",
    "from edf.dist import GaussianDistSE3\n",
    "from edf.layers import QuerySHLayer, TensorFieldLayer\n",
    "\n",
    "characteristic_length = 0.01"
   ]
  },
  {
   "cell_type": "code",
   "execution_count": 4,
   "metadata": {},
   "outputs": [],
   "source": [
    "N_query = 1\n",
    "max_radius = 3.\n",
    "query_radius = 0.  \n",
    "field_cutoff = 5.         \n",
    "std_theta = 45 / 180 * np.pi\n",
    "std_X = 5.                      \n",
    "\n",
    "#xlim, ylim, zlim = np.array([-20.,  20.]), np.array([-20.,  20.]), np.array([15., 25.])\n",
    "#ranges = torch.tensor(np.stack((xlim,ylim,zlim)), dtype=torch.float).to(device)#(xyz,minmax)=(3,2)\n",
    "ranges_cropped = torch.tensor([[-21., 21.],\n",
    "                               [-21., 21.],\n",
    "                               [-30., -5.]])\n",
    "irreps_out = \"10x0e + 10x1e + 4x2e + 2x3e\"\n",
    "irreps_descriptor = o3.Irreps(irreps_out)\n",
    "sh_lmax_descriptor = 3\n",
    "number_of_basis_descriptor = 10\n",
    "irrep_normalization = 'norm'"
   ]
  },
  {
   "cell_type": "code",
   "execution_count": 5,
   "metadata": {},
   "outputs": [],
   "source": [
    "seed = 0\n",
    "random.seed(seed)\n",
    "np.random.seed(seed)\n",
    "torch.manual_seed(seed)\n",
    "if device == 'cpu':\n",
    "    torch.use_deterministic_algorithms(True)\n",
    "torch.set_printoptions(precision=4, sci_mode=False)"
   ]
  },
  {
   "cell_type": "code",
   "execution_count": 6,
   "metadata": {},
   "outputs": [],
   "source": [
    "se3T = SE3TransformerLight(max_neighbor_radius = max_radius, irreps_out=irreps_out)\n",
    "irreps_out = o3.Irreps(se3T.irreps_out)\n",
    "energy_model = EnergyModel(N_query = N_query, query_radius = query_radius, field_cutoff = field_cutoff,\n",
    "                           irreps_input = irreps_out, irreps_descriptor = irreps_descriptor, sh_lmax = sh_lmax_descriptor, number_of_basis = number_of_basis_descriptor, ranges = ranges_cropped)\n",
    "metropolis = MH(ranges_X = ranges_cropped, std_theta = std_theta, std_X = std_X)\n",
    "langevin = LangevinMH(ranges_X = ranges_cropped, dt = 0.1, std_theta = 1., std_X = 1.)"
   ]
  },
  {
   "cell_type": "code",
   "execution_count": 7,
   "metadata": {},
   "outputs": [],
   "source": [
    "tp_pickle_path = \"reproducible_pickles/\"\n",
    "\n",
    "se3T.load_tp(tp_pickle_path + \"se3T/\")\n",
    "energy_model.load_tp(tp_pickle_path + \"energy_model/\")"
   ]
  },
  {
   "cell_type": "code",
   "execution_count": 8,
   "metadata": {},
   "outputs": [],
   "source": [
    "if device == 'cuda':\n",
    "    se3T = se3T.to(device)\n",
    "    energy_model = energy_model.to(device)\n",
    "    metropolis = metropolis.to(device)\n",
    "    langevin = langevin.to(device)\n",
    "\n",
    "metropolis.get_inv_cdf()\n",
    "langevin.get_inv_cdf()"
   ]
  },
  {
   "cell_type": "code",
   "execution_count": 9,
   "metadata": {},
   "outputs": [],
   "source": [
    "lr_se3T = 5e-3\n",
    "lr_energy = 20e-3\n",
    "\n",
    "optimizer_se3T = torch.optim.Adam(list(se3T.parameters()), lr=lr_se3T, betas=(0.9, 0.98), eps=1e-09, weight_decay=1e-4, amsgrad=True)\n",
    "optimizer_energy = torch.optim.Adam(list(energy_model.parameters()), lr=lr_energy, betas=(0.9, 0.98), eps=1e-09, weight_decay=0, amsgrad=True)"
   ]
  },
  {
   "cell_type": "code",
   "execution_count": 10,
   "metadata": {},
   "outputs": [
    {
     "data": {
      "text/plain": [
       "<All keys matched successfully>"
      ]
     },
     "execution_count": 10,
     "metadata": {},
     "output_type": "execute_result"
    }
   ],
   "source": [
    "loaded = torch.load('checkpoint/train_pick_reproducible/Jun_05_2022__23_35_22/model_iter_300.pt', map_location=device)\n",
    "se3T.load_state_dict(loaded['se3T_state_dict'])\n",
    "energy_model.load_state_dict(loaded['energy_model_state_dict'])"
   ]
  },
  {
   "cell_type": "code",
   "execution_count": 11,
   "metadata": {},
   "outputs": [],
   "source": [
    "N_query_Q = 1\n",
    "max_radius_Q = 5.\n",
    "query_radius_Q = 0.  \n",
    "field_cutoff_Q = 5.             \n",
    "ranges_cropped_Q = torch.tensor([[-10., 10.],\n",
    "                                    [-10., 10.],\n",
    "                                    [-10., 10.]])\n",
    "irreps_out_Q = \"10x0e + 10x1e + 4x2e + 2x3e\"\n",
    "sh_lmax_descriptor_Q = 3\n",
    "number_of_basis_descriptor_Q = 10\n",
    "irrep_normalization_Q = 'norm'\n",
    "\n",
    "\n",
    "max_radius_K = 2.5\n",
    "query_radius_K = 0.  \n",
    "field_cutoff_K = 5.\n",
    "std_theta_K = 45 / 180 * np.pi\n",
    "std_X_K = 5.\n",
    "ranges_cropped_K = torch.tensor([[-21., 21.],\n",
    "                               [-21., 21.],\n",
    "                               [-30., -5.]])\n",
    "irreps_out_K = \"10x0e + 10x1e + 4x2e + 2x3e\"\n",
    "irreps_descriptor_K = o3.Irreps(irreps_out_K)\n",
    "sh_lmax_descriptor_K = 3\n",
    "number_of_basis_descriptor_K = 10\n",
    "irrep_normalization_K = 'norm'"
   ]
  },
  {
   "cell_type": "code",
   "execution_count": 12,
   "metadata": {},
   "outputs": [],
   "source": [
    "seed = 0\n",
    "random.seed(seed)\n",
    "np.random.seed(seed)\n",
    "torch.manual_seed(seed)\n",
    "if device == 'cpu':\n",
    "    torch.use_deterministic_algorithms(True)\n",
    "torch.set_printoptions(precision=4, sci_mode=False)"
   ]
  },
  {
   "cell_type": "code",
   "execution_count": 13,
   "metadata": {},
   "outputs": [],
   "source": [
    "se3T_Q = SE3TransformerLight(max_neighbor_radius = max_radius_Q, irreps_out=irreps_out_Q)\n",
    "tensor_field_Q = QueryTensorField(N_query = N_query_Q, field_cutoff = field_cutoff_Q, irreps_input = irreps_out_Q, irreps_output = irreps_out_K,\n",
    "                                  sh_lmax = sh_lmax_descriptor_Q, number_of_basis = number_of_basis_descriptor_Q,\n",
    "                                  irrep_normalization = irrep_normalization_Q, path_normalization=\"element\")\n",
    "query_pos_Q = torch.zeros(N_query_Q, 3, device=device)\n",
    "\n",
    "se3T_K = SE3TransformerLight(max_neighbor_radius = max_radius_K, irreps_out=irreps_out_K)\n",
    "irreps_out_K = o3.Irreps(se3T_K.irreps_out)\n",
    "energy_model_K = EnergyModel(N_query = N_query_Q, query_radius = query_radius_K, field_cutoff = field_cutoff_K,\n",
    "                           irreps_input = irreps_out_K, irreps_descriptor = irreps_descriptor_K, sh_lmax = sh_lmax_descriptor_K, \n",
    "                           number_of_basis = number_of_basis_descriptor_K, ranges = ranges_cropped_K, learnable_query=False)\n",
    "metropolis_K = MH(ranges_X = ranges_cropped_K, std_theta = std_theta_K, std_X = std_X_K)\n",
    "langevin_K = LangevinMH(ranges_X = ranges_cropped_K, dt = 0.1, std_theta = 1., std_X = 1.)"
   ]
  },
  {
   "cell_type": "code",
   "execution_count": 14,
   "metadata": {},
   "outputs": [],
   "source": [
    "tp_pickle_path = \"reproducible_pickles/\"\n",
    "\n",
    "se3T_Q.load_tp(tp_pickle_path + \"se3T_Q/\")\n",
    "tensor_field_Q.load_tp(tp_pickle_path + \"tensor_field_Q/\")\n",
    "se3T_K.load_tp(tp_pickle_path + \"se3T_K/\")\n",
    "energy_model_K.load_tp(tp_pickle_path + \"energy_model_K/\")"
   ]
  },
  {
   "cell_type": "code",
   "execution_count": 15,
   "metadata": {},
   "outputs": [],
   "source": [
    "if device == 'cuda':\n",
    "    se3T_Q = se3T_Q.to(device)\n",
    "    tensor_field_Q = tensor_field_Q.to(device)\n",
    "    se3T_K = se3T_K.to(device)\n",
    "    energy_model_K = energy_model_K.to(device)\n",
    "    metropolis_K = metropolis_K.to(device)\n",
    "    langevin_K = langevin_K.to(device)\n",
    "\n",
    "metropolis_K.get_inv_cdf()\n",
    "langevin_K.get_inv_cdf()"
   ]
  },
  {
   "cell_type": "code",
   "execution_count": 16,
   "metadata": {},
   "outputs": [],
   "source": [
    "lr_Q = 5e-3\n",
    "lr_K = 5e-3\n",
    "lr_energy_K = 20e-3\n",
    "\n",
    "optimizer_Q = torch.optim.Adam(list(se3T_Q.parameters()) + list(tensor_field_Q.parameters()), lr=lr_Q, betas=(0.9, 0.98), eps=1e-09, weight_decay=1e-4, amsgrad=True)\n",
    "optimizer_K = torch.optim.Adam(list(se3T_K.parameters()), lr=lr_K, betas=(0.9, 0.98), eps=1e-09, weight_decay=1e-4, amsgrad=True)\n",
    "optimizer_energy_K = torch.optim.Adam(list(energy_model_K.parameters()), lr=lr_energy_K, betas=(0.9, 0.98), eps=1e-09, weight_decay=0, amsgrad=True)"
   ]
  },
  {
   "cell_type": "code",
   "execution_count": 17,
   "metadata": {},
   "outputs": [
    {
     "data": {
      "text/plain": [
       "<All keys matched successfully>"
      ]
     },
     "execution_count": 17,
     "metadata": {},
     "output_type": "execute_result"
    }
   ],
   "source": [
    "loaded = torch.load('checkpoint/train_place_reproducible/Jun_06_2022__11_36_29/model_place_iter_300.pt', map_location=device)\n",
    "se3T_K.load_state_dict(loaded['se3T_K_state_dict'])\n",
    "energy_model_K.load_state_dict(loaded['energy_model_K_state_dict'])\n",
    "se3T_Q.load_state_dict(loaded['se3T_Q_state_dict'])\n",
    "tensor_field_Q.load_state_dict(loaded['tensor_field_Q_state_dict'])"
   ]
  },
  {
   "cell_type": "code",
   "execution_count": 18,
   "metadata": {},
   "outputs": [
    {
     "data": {
      "text/plain": [
       "<torch._C.Generator at 0x7f5e14aa4130>"
      ]
     },
     "execution_count": 18,
     "metadata": {},
     "output_type": "execute_result"
    }
   ],
   "source": [
    "seed = 0\n",
    "random.seed(seed)\n",
    "np.random.seed(seed)\n",
    "torch.manual_seed(seed)"
   ]
  },
  {
   "cell_type": "code",
   "execution_count": 19,
   "metadata": {},
   "outputs": [],
   "source": [
    "task = MugTask(use_gui=False)"
   ]
  },
  {
   "cell_type": "code",
   "execution_count": 20,
   "metadata": {},
   "outputs": [
    {
     "name": "stdout",
     "output_type": "stream",
     "text": [
      "=================Sample 100==================\n"
     ]
    }
   ],
   "source": [
    "visualize_plot = False\n",
    "save_plot = True\n",
    "\n",
    "sleep = False\n",
    "pick_and_place = True\n",
    "stride = (7, 7)\n",
    "stride_pick = (10, 10)\n",
    "stride_place = (7, 7)\n",
    "temperature = 1.\n",
    "\n",
    "\n",
    "N_tests = 0\n",
    "N_success_pick = 0\n",
    "N_success_place = 0\n",
    "N_IKFAIL_pick = 0\n",
    "N_IKFAIL_place = 0\n",
    "pick_times = []\n",
    "place_times = []\n",
    "if save_plot:\n",
    "    folder_name = f'upright/'\n",
    "    output_path = f'plot_imgs/' + folder_name\n",
    "\n",
    "seed = 100\n",
    "N_tests += 1\n",
    "print(f\"=================Sample {seed}==================\")\n",
    "\n",
    "# Run in env\n",
    "task.reset(seed = seed, cup_pose='upright')\n",
    "pc = task.observe_pointcloud(stride = stride)\n",
    "sample_unprocessed = {}\n",
    "sample_unprocessed['coord'] = pc['coord']\n",
    "sample_unprocessed['color'] = pc['color']\n",
    "sample_unprocessed['range'] = pc['ranges']\n",
    "sample_unprocessed['images'] = task.observe()\n",
    "sample_unprocessed['center'] = task.center\n",
    "color_unprocessed = sample_unprocessed['color']\n",
    "sample =  preprocess(sample_unprocessed, characteristic_length)\n",
    "coord, color, (xlim, ylim, zlim) = sample['coord'], sample['color'], sample['ranges']\n",
    "data_transform = sample['data_transform']\n",
    "feature = torch.tensor(color, dtype=torch.float32)\n",
    "pos = torch.tensor(coord, dtype=torch.float32)\n",
    "in_range_cropped_idx = (((pos[:] > ranges_cropped[:,0]) * (pos[:] < ranges_cropped[:,1])).sum(dim=-1) == 3).nonzero().squeeze(-1)\n",
    "pos = pos[in_range_cropped_idx].to(device)\n",
    "feature = feature[in_range_cropped_idx].to(device)\n",
    "inputs = {'feature': feature, 'pos': pos, 'edge': None, 'max_neighbor_radius': max_radius}\n",
    "temperature = 1.\n",
    "\n",
    "\n",
    "t1 = time.time()\n",
    "optimizer_se3T.zero_grad()\n",
    "optimizer_energy.zero_grad()\n",
    "with torch.no_grad():\n",
    "    outputs = se3T(inputs)\n",
    "log_P = lambda T: -energy_model(outputs, T, temperature = temperature, learning = False)\n",
    "\n",
    "\n",
    "task.retract_robot(gripper_val=1., IK_time=1.)\n",
    "pc = task.observe_pointcloud_pick(stride = (1,1))\n",
    "sample_unprocessed['coord_pick'] = pc['coord']\n",
    "sample_unprocessed['color_pick'] = pc['color']\n",
    "sample_unprocessed['range_pick'] = pc['ranges']\n",
    "sample_unprocessed['pick_pose'] = (pc['X_sg'], pc['R_sg'])\n",
    "sample_unprocessed['images_pick'] = task.observe_pick()\n",
    "\n",
    "pc = task.observe_pointcloud(stride = stride_place)\n",
    "sample_unprocessed['coord_place'] = pc['coord']\n",
    "sample_unprocessed['color_place'] = pc['color']\n",
    "sample_unprocessed['range_place'] = pc['ranges']\n",
    "sample_unprocessed['images_place'] = task.observe()\n",
    "\n",
    "\n",
    "\n",
    "temperature = 1.\n",
    "\n",
    "color_unprocessed_Q = sample_unprocessed['color_pick']\n",
    "color_unprocessed_K = sample_unprocessed['color_place']\n",
    "sample = preprocess(sample_unprocessed, characteristic_length, pick_and_place=True)\n",
    "\n",
    "coord_Q, color_Q, (xlim_Q, ylim_Q, zlim_Q) = sample['coord_Q'], sample['color_Q'], sample['ranges_Q']\n",
    "X_sg_Q, R_sg_Q = sample['grasp_Q'][0], sample['grasp_Q'][1]\n",
    "data_transform_Q = sample['data_transform_Q']\n",
    "\n",
    "coord_K, color_K, (xlim_K, ylim_K, zlim_K) = sample['coord_K'], sample['color_K'], sample['ranges_K']\n",
    "data_transform_K = sample['data_transform_K']\n",
    "\n",
    "\n",
    "##### Prepare input\n",
    "\n",
    "feature_Q = torch.tensor(color_Q, dtype=torch.float32)\n",
    "pos_Q = torch.tensor(coord_Q, dtype=torch.float32)\n",
    "in_range_cropped_idx_Q = (((pos_Q[:] > ranges_cropped_Q[:,0]) * (pos_Q[:] < ranges_cropped_Q[:,1])).sum(dim=-1) == 3).nonzero().squeeze(-1)\n",
    "pos_Q = pos_Q[in_range_cropped_idx_Q].to(device)\n",
    "feature_Q = feature_Q[in_range_cropped_idx_Q].to(device)\n",
    "\n",
    "feature_K = torch.tensor(color_K, dtype=torch.float32)\n",
    "pos_K = torch.tensor(coord_K, dtype=torch.float32)\n",
    "in_range_cropped_idx_K = (((pos_K[:] > ranges_cropped_K[:,0]) * (pos_K[:] < ranges_cropped_K[:,1])).sum(dim=-1) == 3).nonzero().squeeze(-1)\n",
    "pos_K = pos_K[in_range_cropped_idx_K].to(device)\n",
    "feature_K = feature_K[in_range_cropped_idx_K].to(device)\n",
    "\n",
    "inputs_Q = {'feature': feature_Q, 'pos': pos_Q, 'edge': None, 'max_neighbor_radius': max_radius_Q}"
   ]
  },
  {
   "cell_type": "code",
   "execution_count": 21,
   "metadata": {},
   "outputs": [],
   "source": [
    "query_features = energy_model.query_features.detach().cpu().numpy()"
   ]
  },
  {
   "cell_type": "code",
   "execution_count": null,
   "metadata": {},
   "outputs": [],
   "source": []
  },
  {
   "cell_type": "code",
   "execution_count": 22,
   "metadata": {},
   "outputs": [],
   "source": [
    "poses = pos_Q.detach().cpu().numpy()\n",
    "colors = color_unprocessed_Q[in_range_cropped_idx_Q]\n",
    "\n",
    "N = 10000\n",
    "r = 0.5\n",
    "scalar_pos = np.random.randn(N, 3) * r\n",
    "scalar_pos = scalar_pos[(np.linalg.norm(scalar_pos, axis=-1) < r).nonzero()]\n",
    "scalar_colors = query_features[[0,0,0],[6,9,4]].reshape(1,3)\n",
    "scalar_colors = (scalar_colors - scalar_colors.min()) / (scalar_colors.max() - scalar_colors.min()) * 0.9\n",
    "scalar_colors = scalar_colors.repeat(len(scalar_pos),axis=0)\n",
    "\n",
    "poses = np.concatenate([poses, scalar_pos], axis=0)\n",
    "colors = np.concatenate([colors, scalar_colors], axis=0)\n",
    "colors = np.concatenate([colors, np.ones((len(colors), 1))], axis=-1)"
   ]
  },
  {
   "cell_type": "code",
   "execution_count": 23,
   "metadata": {},
   "outputs": [],
   "source": [
    "field_vec1 = query_features[...,13:16]\n",
    "field_str1 = np.linalg.norm(field_vec1, axis=-1)\n",
    "field_vec_normed1 = field_vec1 / (field_str1.reshape(-1,1)+1e-5)\n",
    "\n",
    "field_vec2 = query_features[...,16:19]\n",
    "field_str2 = np.linalg.norm(field_vec2, axis=-1)\n",
    "field_vec_normed2 = field_vec2 / (field_str2.reshape(-1,1)+1e-5)\n",
    "\n",
    "field_vec3 = query_features[...,19:22]\n",
    "field_str3 = np.linalg.norm(field_vec3, axis=-1)\n",
    "field_vec_normed3 = field_vec3 / (field_str3.reshape(-1,1)+1e-5)"
   ]
  },
  {
   "cell_type": "code",
   "execution_count": 24,
   "metadata": {},
   "outputs": [],
   "source": [
    "from edf.visual_utils import draw_poincloud_arrow\n",
    "\n",
    "sample_pos_ = np.zeros((1,3))\n",
    "\n",
    "arrows_coord, arrows_color = [], []\n",
    "for i in range(len(sample_pos_)):\n",
    "    if np.linalg.norm(field_vec_normed1[i]) > 0.3 and np.linalg.norm(field_vec_normed2[i]) > 0.3:\n",
    "        scale = 4.\n",
    "        arrow_coord, arrow_color = draw_poincloud_arrow(sample_pos_[i], sample_pos_[i] + field_vec_normed1[i]*scale, \n",
    "                                                        #color = np.array([126/255, 84/255, 159/255, 0.1 * (field_str1[i]/field_str1.max())]), arrowhead_size=2.)\n",
    "                                                        color = np.array([175/255, 120/255, 120/255, 0.2 * (field_str1[i]/field_str1.max())]), arrowhead_size=2.)\n",
    "        arrows_coord.append(arrow_coord)\n",
    "        arrows_color.append(arrow_color)\n",
    "\n",
    "        scale = 4.\n",
    "        arrow_coord, arrow_color = draw_poincloud_arrow(sample_pos_[i], sample_pos_[i] + field_vec_normed2[i]*scale, \n",
    "                                                        #color = np.array([86/255, 197/255, 150/255, 0.1 * (field_str2[i]/field_str2.max())]), arrowhead_size=2.)\n",
    "                                                        color = np.array([120/255, 175/255, 120/255, 0.2 * (field_str2[i]/field_str2.max())]), arrowhead_size=2.)\n",
    "        arrows_coord.append(arrow_coord)\n",
    "        arrows_color.append(arrow_color)\n",
    "\n",
    "        scale = 4.\n",
    "        arrow_coord, arrow_color = draw_poincloud_arrow(sample_pos_[i], sample_pos_[i] + field_vec_normed3[i]*scale, \n",
    "                                                        #color = np.array([243/255, 171/255, 182/255, 0.1 * (field_str3[i]/field_str3.max())]), arrowhead_size=2.)\n",
    "                                                        color = np.array([120/255, 120/255, 175/255, 0.2 * (field_str3[i]/field_str3.max())]), arrowhead_size=2.)\n",
    "        arrows_coord.append(arrow_coord)\n",
    "        arrows_color.append(arrow_color)"
   ]
  },
  {
   "cell_type": "code",
   "execution_count": 27,
   "metadata": {},
   "outputs": [],
   "source": [
    "poses = np.concatenate([poses, *arrows_coord] ,axis = 0) \n",
    "colors = np.concatenate([colors, *arrows_color] ,axis = 0)"
   ]
  },
  {
   "cell_type": "code",
   "execution_count": 28,
   "metadata": {},
   "outputs": [
    {
     "data": {
      "image/png": "[encoded data removed]",
      "text/plain": [
       "<Figure size 720x720 with 1 Axes>"
      ]
     },
     "metadata": {
      "needs_background": "light"
     },
     "output_type": "display_data"
    }
   ],
   "source": [
    "fig = plt.figure(figsize=(10,10))\n",
    "ax = fig.add_subplot(111, projection='3d')\n",
    "ax.axis('off')\n",
    "\n",
    "scatter_plot_ax(ax, poses, colors, (np.array([-5, 5]), np.array([-5, 5]), np.array([-5, 5])), frame_infos = [])"
   ]
  },
  {
   "cell_type": "code",
   "execution_count": 30,
   "metadata": {},
   "outputs": [],
   "source": [
    "fig.savefig('gripper.png', transparent=True)"
   ]
  },
  {
   "cell_type": "code",
   "execution_count": 33,
   "metadata": {},
   "outputs": [
    {
     "data": {
      "image/png": "[encoded data removed]",
      "text/plain": [
       "<Figure size 504x504 with 1 Axes>"
      ]
     },
     "metadata": {
      "needs_background": "light"
     },
     "output_type": "display_data"
    }
   ],
   "source": [
    "fig = plt.figure(figsize=(7,7))\n",
    "ax = fig.add_subplot(111, projection='3d')\n",
    "ax.axis('off')\n",
    "\n",
    "scatter_plot_ax(ax, poses, colors, (np.array([-5, 5]), np.array([-5, 5]), np.array([-5, 5])), frame_infos = [])"
   ]
  },
  {
   "cell_type": "code",
   "execution_count": 34,
   "metadata": {},
   "outputs": [],
   "source": [
    "fig.savefig('gripper_small.png', transparent=True)"
   ]
  },
  {
   "cell_type": "code",
   "execution_count": null,
   "metadata": {},
   "outputs": [],
   "source": []
  },
  {
   "cell_type": "code",
   "execution_count": null,
   "metadata": {},
   "outputs": [],
   "source": []
  },
  {
   "cell_type": "code",
   "execution_count": null,
   "metadata": {},
   "outputs": [],
   "source": [
    "safd"
   ]
  },
  {
   "cell_type": "code",
   "execution_count": null,
   "metadata": {},
   "outputs": [],
   "source": [
    "t1 = time.time()\n",
    "##### Get Query Feature\n",
    "optimizer_Q.zero_grad()\n",
    "with torch.no_grad():\n",
    "    outputs_Q = se3T_Q(inputs_Q)\n",
    "    outputs_Q = tensor_field_Q({'feature':outputs_Q['feature'], 'pos':outputs_Q['pos'], 'query_pos':query_pos_Q.unsqueeze(0)})\n",
    "assert outputs_Q['n_neighbor'].item() > 0\n",
    "query_feature_Q = outputs_Q['field'].squeeze(0)\n",
    "\n",
    "inputs_K = {'feature': feature_K, 'pos': pos_K, 'edge': None, 'max_neighbor_radius': max_radius_K}\n",
    "\n",
    "##### MCMC\n",
    "N_transforms = 100\n",
    "mcmc_iter = 500\n",
    "mcmc_iter = int(mcmc_iter)\n",
    "langevin_iter = 100\n",
    "\n",
    "optimizer_K.zero_grad()\n",
    "optimizer_energy_K.zero_grad()\n",
    "outputs_K = se3T_K(inputs_K)\n",
    "outputs_K['query_feature'] = query_feature_Q\n",
    "log_P_K = lambda T: -energy_model_K(outputs_K, T, temperature = temperature, learning = False)\n",
    "\n",
    "T_seed = torch.cat([transforms.random_quaternions(N_transforms, device=device), torch.tensor([[2.5, 2.5, 0.5]], device = device)* torch.randn(N_transforms,3, device = device) + torch.tensor([0.,0., -29.], device = device)] , dim=-1)\n",
    "t_mcmc_begin = time.time()\n",
    "samples = metropolis_K.forward(log_P_K, max_iter = mcmc_iter, T_seed = T_seed, pbar=True)\n",
    "Ts_K = samples['Ts']\n",
    "As_K = samples['As']\n",
    "samples = langevin_K.forward(log_P_K, max_iter = langevin_iter, optim = optimizer_energy_K, T_seed = Ts_K[-1], pbar=True)\n",
    "Ts_K = torch.cat([Ts_K, samples['Ts']], dim=0)\n",
    "As_K = torch.cat([As_K, samples['As']], dim=0)\n",
    "t_mcmc_end = time.time()\n",
    "\n",
    "Ts_K = Ts_K[-50:].reshape(-1,7)\n",
    "\n",
    "##### Calculate energy and learn\n",
    "optimizer_energy_K.zero_grad()\n",
    "with torch.no_grad():\n",
    "    E_K = energy_model_K(outputs_K, Ts_K, temperature = temperature, learning = True)\n",
    "\n",
    "best_T_sp_idx = E_K.detach().argmin().item()\n",
    "best_T_sp = Ts_K[best_T_sp_idx]\n",
    "best_R_sp, best_X_sp = transforms.quaternion_to_matrix(best_T_sp[...,:4]), best_T_sp[...,4:]\n",
    "\n",
    "##### Visualize\n",
    "t2 = time.time()\n",
    "print(f\"Place inference time: {t2-t1}\")\n",
    "place_times.append(t2-t1)\n",
    "if True:\n",
    "    #print(f\"=========Iter {0}=========\")\n",
    "    query_attn_K = (torch.softmax(energy_model_K.query_attention.detach(), dim=-1) ** 0.5).unsqueeze(-1).cpu().numpy()\n",
    "    \n",
    "    coord_query_K = energy_model_K.transform_query_points(best_T_sp).detach().cpu().numpy()\n",
    "    color_query_K = torch.tensor([0.,0.,1.]).repeat(len(coord_query_K),1).cpu().numpy()\n",
    "    color_query_K = np.concatenate([color_query_K, query_attn_K], axis=-1)\n",
    "    frame_info_best = {'frame': best_R_sp.cpu().numpy(),\n",
    "                    'origin': best_X_sp.cpu().numpy(), \n",
    "                    'alpha': 1.,\n",
    "                    'pointcloud': (coord_query_K, color_query_K)\n",
    "                    }\n",
    "\n",
    "    world_origin_K = np.array([0., 0., -16.])\n",
    "    frame_info_world = {'frame': np.eye(3),\n",
    "                    'origin': world_origin_K,\n",
    "                    'alpha': 0.,\n",
    "                    'pointcloud': (Ts_K.detach().cpu().numpy()[:,4:], torch.tensor([0.,0.8,0.8,0.03]).repeat(len(Ts_K),1).numpy())\n",
    "                    }\n",
    "\n",
    "    color_unprocessed_alpha_K = np.concatenate([color_unprocessed_K, np.ones((len(color_unprocessed_K),1), dtype=int)], axis=-1)\n",
    "    #scatter_plot(coord_K[in_range_cropped_idx_K], color_unprocessed_alpha_K[in_range_cropped_idx_K], xlim_K, ylim_K, zlim_K, frame_infos = [frame_info_best, frame_info_world], figsize = (8, 8))\n",
    "    scatter_plot_ax(axes[1], coord_K[in_range_cropped_idx_K], color_unprocessed_alpha_K[in_range_cropped_idx_K], (xlim_K, ylim_K, zlim_K), frame_infos = [frame_info_best, frame_info_world])\n",
    "    #print(E_K.detach()[::5])\n",
    "    #print(f\"Energy min: {E_K.min().item()} || Energy mean: {E_K.mean().item()}\")\n",
    "    #print(f\"MCMC Time: {t_mcmc_end - t_mcmc_begin}\")\n",
    "    #print(\"===============================\")\n",
    "\n",
    "\n",
    "\n",
    "\n",
    "\n",
    "X_sdg, R_sdg = data_transform_K.inv_transform_T(best_X_sp.detach().cpu().numpy(), best_R_sp.detach().cpu().numpy())\n",
    "\n",
    "#X_sdg = X_sdg + (R_sdg@ np.array([0., 0., 0.005])) # push the gripper forward a liitle\n",
    "\n",
    "R_dg_dgpre = np.eye(3)\n",
    "R_s_dgpre = R_sdg @ R_dg_dgpre\n",
    "X_dg_dgpre = np.array([0., 0., -0.1])\n",
    "sX_dg_dgpre = R_sdg @ X_dg_dgpre\n",
    "X_s_dgpre = X_sdg + sX_dg_dgpre\n",
    "\n",
    "pre_place = (X_s_dgpre, R_s_dgpre)\n",
    "place = (X_sdg, R_sdg)\n",
    "\n",
    "try:\n",
    "    task.place(pre_place, place, sleep = sleep, IK_time = 1.)\n",
    "except StopIteration:\n",
    "    try:\n",
    "        task.place(pre_place, place, sleep = sleep, IK_time = 5.)\n",
    "    except StopIteration:\n",
    "        print(\"place IK fail\")\n",
    "        N_IKFAIL_place += 1\n",
    "\n",
    "\n",
    "\n",
    "if task.check_place_success():\n",
    "    N_success_place += 1\n",
    "    print('Place Success')\n",
    "    print(f\"Pick Success Rate: {int(100 * N_success_pick / N_tests)}%  ({N_success_pick} / {N_tests})    ||   Place Success Rate: {int(100 * N_success_place / max(N_success_pick, 1))}%   ({N_success_place} / {N_success_pick})    ||   Place-and-Place Success Rate: {int(100 * N_success_place / N_tests)}%   ({N_success_place} / {N_tests})\")\n",
    "else:\n",
    "    print('Place Fail')\n",
    "    print(f\"Pick Success Rate: {int(100 * N_success_pick / N_tests)}%  ({N_success_pick} / {N_tests})    ||   Place Success Rate: {int(100 * N_success_place / max(N_success_pick, 1))}%   ({N_success_place} / {N_success_pick})    ||   Place-and-Place Success Rate: {int(100 * N_success_place / N_tests)}%   ({N_success_place} / {N_tests})\")\n",
    "\n",
    "\n",
    "\n",
    "pc = task.observe_pointcloud(stride = (1, 1))\n",
    "scatter_plot_ax(axes[2], pc['coord'], pc['color'], pc['ranges'])\n",
    "images = task.observe()\n",
    "for i in range(3):\n",
    "    axes_img[i].imshow(images[i]['color'])\n",
    "\n",
    "\n",
    "if save_plot:\n",
    "    if os.path.exists(output_path + \"inference/\") is False:\n",
    "        os.makedirs(output_path + \"inference/\")\n",
    "    fig.savefig(output_path + \"inference/\" + f\"{seed}.png\")\n",
    "    if os.path.exists(output_path + \"result/\") is False:\n",
    "        os.makedirs(output_path + \"result/\")\n",
    "    fig_img.savefig(output_path + \"result/\" + f\"{seed}.png\")\n",
    "if visualize_plot:\n",
    "    plt.show()\n",
    "else:\n",
    "    plt.close(fig)\n",
    "    plt.close(fig_img)\n",
    "print(\"======================================\")"
   ]
  }
 ],
 "metadata": {
  "interpreter": {
   "hash": "f23129b46c570c3112f15a3374a794e5cd05ee6ef3eb221daef864361e63690d"
  },
  "kernelspec": {
   "display_name": "Python 3.9.12 ('SE3_Transporter')",
   "language": "python",
   "name": "python3"
  },
  "language_info": {
   "codemirror_mode": {
    "name": "ipython",
    "version": 3
   },
   "file_extension": ".py",
   "mimetype": "text/x-python",
   "name": "python",
   "nbconvert_exporter": "python",
   "pygments_lexer": "ipython3",
   "version": "3.9.12"
  },
  "orig_nbformat": 4
 },
 "nbformat": 4,
 "nbformat_minor": 2
}
