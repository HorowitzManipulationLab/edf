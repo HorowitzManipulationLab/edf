{
 "cells": [
  {
   "cell_type": "code",
   "execution_count": null,
   "metadata": {},
   "outputs": [],
   "source": [
    "from beartype import beartype\n",
    "import torch\n",
    "\n",
    "from edf_interface.data import DemoDataset, TargetPoseDemo, DemoSequence, SE3, PointCloud, DataAbstractBase\n",
    "from edf_interface.data.utils import units_to_str, str_to_units\n",
    "from edf_interface.data.preprocess import recursive_apply, rescale, PreprocessDataTypeException, PreprocessNonDataException"
   ]
  },
  {
   "cell_type": "code",
   "execution_count": null,
   "metadata": {},
   "outputs": [],
   "source": [
    "from edf_interface.data.pcd_utils import voxel_filter"
   ]
  },
  {
   "cell_type": "code",
   "execution_count": null,
   "metadata": {},
   "outputs": [],
   "source": [
    "dataset = DemoDataset('../demo/test_demo_single_mug_new')\n",
    "demo = dataset[0]\n",
    "pick, place = demo\n",
    "target_task = place\n",
    "scene_pcd, grasp_pcd, target_poses = target_task.scene_pcd, target_task.grasp_pcd, target_task.target_poses"
   ]
  },
  {
   "cell_type": "code",
   "execution_count": null,
   "metadata": {},
   "outputs": [],
   "source": [
    "@beartype\n",
    "@recursive_apply\n",
    "def downsample(data: DataAbstractBase, voxel_size: float, coord_reduction: str = \"average\"):\n",
    "    if type(data) == PointCloud:\n",
    "        if data.is_empty:\n",
    "            return data\n",
    "        else:\n",
    "            points, colors = voxel_filter(points=data.points, features=data.colors, voxel_size=voxel_size, coord_reduction=coord_reduction)\n",
    "            return data.new(points=points, colors=colors)\n",
    "    else:\n",
    "        if isinstance(data, DataAbstractBase):\n",
    "            raise PreprocessDataTypeException(f\"Unsupported data type: {type(data)}\")\n",
    "        else:\n",
    "            raise PreprocessNonDataException(f\"Unsupported primitive type: {type(data)}\")\n"
   ]
  },
  {
   "cell_type": "code",
   "execution_count": null,
   "metadata": {},
   "outputs": [],
   "source": [
    "demo_downsampled = downsample(demo, voxel_size=0.02)\n",
    "demo_rescaled = rescale(demo_downsampled, rescale_factor=100.)"
   ]
  },
  {
   "cell_type": "code",
   "execution_count": null,
   "metadata": {},
   "outputs": [],
   "source": [
    "# demo_rescaled[1].show()"
   ]
  },
  {
   "cell_type": "code",
   "execution_count": null,
   "metadata": {},
   "outputs": [],
   "source": []
  }
 ],
 "metadata": {
  "kernelspec": {
   "display_name": "diff_edf",
   "language": "python",
   "name": "python3"
  },
  "language_info": {
   "codemirror_mode": {
    "name": "ipython",
    "version": 3
   },
   "file_extension": ".py",
   "mimetype": "text/x-python",
   "name": "python",
   "nbconvert_exporter": "python",
   "pygments_lexer": "ipython3",
   "version": "3.8.16"
  },
  "orig_nbformat": 4,
  "vscode": {
   "interpreter": {
    "hash": "79a0085b6cf04e1cff261ad12d41cff4e1530d9e68d1f8fc6bd159a2915452c6"
   }
  }
 },
 "nbformat": 4,
 "nbformat_minor": 2
}
